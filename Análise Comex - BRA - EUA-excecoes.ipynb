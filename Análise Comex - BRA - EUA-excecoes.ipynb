{
 "cells": [
  {
   "cell_type": "code",
   "execution_count": 1,
   "id": "7b27b675",
   "metadata": {},
   "outputs": [],
   "source": [
    "import pandas as pd"
   ]
  },
  {
   "cell_type": "markdown",
   "id": "a4d226fa",
   "metadata": {},
   "source": [
    "## Carregamento das bases de dados utilizadas"
   ]
  },
  {
   "cell_type": "code",
   "execution_count": 2,
   "id": "ccfccf55",
   "metadata": {},
   "outputs": [],
   "source": [
    "exportacao_geral = pd.read_excel('./dados/comex/Exportacao Mundo 2024 NCM.xlsx')\n",
    "exportacao_geral['Código NCM'] = exportacao_geral['Código NCM'].astype(str)\n",
    "exportacao_geral['Código NCM'] = exportacao_geral['Código NCM'].str.zfill(8)\n",
    "\n",
    "exportacao_geral['sh6'] = exportacao_geral['Código NCM'].str[:6]\n",
    "\n",
    "exportacao_geral = exportacao_geral.groupby('sh6')['2024 - Valor US$ FOB'].sum().reset_index()\n",
    "exportacao_geral.rename(columns={'2024 - Valor US$ FOB': 'exportacao_mundo_2024_USD'}, inplace=True)"
   ]
  },
  {
   "cell_type": "code",
   "execution_count": 3,
   "id": "7fe5e5cd",
   "metadata": {},
   "outputs": [
    {
     "data": {
      "text/html": [
       "<div>\n",
       "<style scoped>\n",
       "    .dataframe tbody tr th:only-of-type {\n",
       "        vertical-align: middle;\n",
       "    }\n",
       "\n",
       "    .dataframe tbody tr th {\n",
       "        vertical-align: top;\n",
       "    }\n",
       "\n",
       "    .dataframe thead th {\n",
       "        text-align: right;\n",
       "    }\n",
       "</style>\n",
       "<table border=\"1\" class=\"dataframe\">\n",
       "  <thead>\n",
       "    <tr style=\"text-align: right;\">\n",
       "      <th></th>\n",
       "      <th>sh6</th>\n",
       "      <th>exportacao_mundo_2024_USD</th>\n",
       "    </tr>\n",
       "  </thead>\n",
       "  <tbody>\n",
       "    <tr>\n",
       "      <th>0</th>\n",
       "      <td>010121</td>\n",
       "      <td>3134431</td>\n",
       "    </tr>\n",
       "    <tr>\n",
       "      <th>1</th>\n",
       "      <td>010129</td>\n",
       "      <td>5453342</td>\n",
       "    </tr>\n",
       "    <tr>\n",
       "      <th>2</th>\n",
       "      <td>010130</td>\n",
       "      <td>311</td>\n",
       "    </tr>\n",
       "    <tr>\n",
       "      <th>3</th>\n",
       "      <td>010190</td>\n",
       "      <td>1406</td>\n",
       "    </tr>\n",
       "    <tr>\n",
       "      <th>4</th>\n",
       "      <td>010221</td>\n",
       "      <td>2483913</td>\n",
       "    </tr>\n",
       "  </tbody>\n",
       "</table>\n",
       "</div>"
      ],
      "text/plain": [
       "      sh6  exportacao_mundo_2024_USD\n",
       "0  010121                    3134431\n",
       "1  010129                    5453342\n",
       "2  010130                        311\n",
       "3  010190                       1406\n",
       "4  010221                    2483913"
      ]
     },
     "execution_count": 3,
     "metadata": {},
     "output_type": "execute_result"
    }
   ],
   "source": [
    "exportacao_geral.head()"
   ]
  },
  {
   "cell_type": "code",
   "execution_count": 4,
   "id": "25a2abe7",
   "metadata": {},
   "outputs": [],
   "source": [
    "exportacao_usa = pd.read_excel('./dados/comex/Exportacao EUA 2024 NCM.xlsx')\n",
    "\n",
    "exportacao_usa['Código NCM'] = exportacao_usa['Código NCM'].astype(str)\n",
    "exportacao_usa['Código NCM'] = exportacao_usa['Código NCM'].str.zfill(8)\n",
    "\n",
    "exportacao_usa['sh6'] = exportacao_usa['Código NCM'].str[:6]\n",
    "exportacao_usa = exportacao_usa.groupby('sh6')['2024 - Valor US$ FOB'].sum().reset_index()\n",
    "exportacao_usa.rename(columns={'2024 - Valor US$ FOB': 'exportacao_eua_2024_USD'}, inplace=True)"
   ]
  },
  {
   "cell_type": "code",
   "execution_count": 5,
   "id": "3063b444",
   "metadata": {},
   "outputs": [
    {
     "data": {
      "text/html": [
       "<div>\n",
       "<style scoped>\n",
       "    .dataframe tbody tr th:only-of-type {\n",
       "        vertical-align: middle;\n",
       "    }\n",
       "\n",
       "    .dataframe tbody tr th {\n",
       "        vertical-align: top;\n",
       "    }\n",
       "\n",
       "    .dataframe thead th {\n",
       "        text-align: right;\n",
       "    }\n",
       "</style>\n",
       "<table border=\"1\" class=\"dataframe\">\n",
       "  <thead>\n",
       "    <tr style=\"text-align: right;\">\n",
       "      <th></th>\n",
       "      <th>sh6</th>\n",
       "      <th>exportacao_eua_2024_USD</th>\n",
       "    </tr>\n",
       "  </thead>\n",
       "  <tbody>\n",
       "    <tr>\n",
       "      <th>0</th>\n",
       "      <td>010121</td>\n",
       "      <td>1713599</td>\n",
       "    </tr>\n",
       "    <tr>\n",
       "      <th>1</th>\n",
       "      <td>010129</td>\n",
       "      <td>3520510</td>\n",
       "    </tr>\n",
       "    <tr>\n",
       "      <th>2</th>\n",
       "      <td>010619</td>\n",
       "      <td>344</td>\n",
       "    </tr>\n",
       "    <tr>\n",
       "      <th>3</th>\n",
       "      <td>010620</td>\n",
       "      <td>24711</td>\n",
       "    </tr>\n",
       "    <tr>\n",
       "      <th>4</th>\n",
       "      <td>010639</td>\n",
       "      <td>1864</td>\n",
       "    </tr>\n",
       "  </tbody>\n",
       "</table>\n",
       "</div>"
      ],
      "text/plain": [
       "      sh6  exportacao_eua_2024_USD\n",
       "0  010121                  1713599\n",
       "1  010129                  3520510\n",
       "2  010619                      344\n",
       "3  010620                    24711\n",
       "4  010639                     1864"
      ]
     },
     "execution_count": 5,
     "metadata": {},
     "output_type": "execute_result"
    }
   ],
   "source": [
    "exportacao_usa.head()"
   ]
  },
  {
   "cell_type": "code",
   "execution_count": 13,
   "id": "b2bb6b86",
   "metadata": {},
   "outputs": [],
   "source": [
    "exportacao_geral.merge(exportacao_usa, on='sh6', how='left').fillna(0).to_excel('./dados/comex/Exportacao Mundo e EUA 2024 SH6.xlsx', index=False)"
   ]
  },
  {
   "cell_type": "code",
   "execution_count": 15,
   "id": "02b1befc",
   "metadata": {},
   "outputs": [],
   "source": [
    "ncm_isic = pd.read_csv('./dados/comex/NCM_ISIC (1).csv',sep=';',dtype={'CO_ISIC_CLASSE': str, 'NO_ISIC_CLASSE': str}    )\n",
    "ncm = pd.read_csv('./dados/comex/NCM (2).csv',sep=';',dtype={'CO_SH6': str, 'CO_ISIC_CLASSE': str})\n",
    "\n",
    "ncnm_isic = ncm[['CO_SH6','CO_ISIC_CLASSE']].drop_duplicates().merge(ncm_isic[['CO_ISIC_CLASSE','NO_ISIC_CLASSE']], on='CO_ISIC_CLASSE', how='left')"
   ]
  },
  {
   "cell_type": "code",
   "execution_count": null,
   "id": "871f894e",
   "metadata": {},
   "outputs": [],
   "source": []
  },
  {
   "cell_type": "code",
   "execution_count": 9,
   "id": "545ce79d",
   "metadata": {},
   "outputs": [
    {
     "data": {
      "text/html": [
       "<div>\n",
       "<style scoped>\n",
       "    .dataframe tbody tr th:only-of-type {\n",
       "        vertical-align: middle;\n",
       "    }\n",
       "\n",
       "    .dataframe tbody tr th {\n",
       "        vertical-align: top;\n",
       "    }\n",
       "\n",
       "    .dataframe thead th {\n",
       "        text-align: right;\n",
       "    }\n",
       "</style>\n",
       "<table border=\"1\" class=\"dataframe\">\n",
       "  <thead>\n",
       "    <tr style=\"text-align: right;\">\n",
       "      <th></th>\n",
       "      <th>CO_SH6</th>\n",
       "      <th>CO_ISIC_CLASSE</th>\n",
       "      <th>NO_ISIC_CLASSE</th>\n",
       "    </tr>\n",
       "  </thead>\n",
       "  <tbody>\n",
       "    <tr>\n",
       "      <th>0</th>\n",
       "      <td>490110</td>\n",
       "      <td>5811</td>\n",
       "      <td>Publicação de livros</td>\n",
       "    </tr>\n",
       "    <tr>\n",
       "      <th>1</th>\n",
       "      <td>490191</td>\n",
       "      <td>5811</td>\n",
       "      <td>Publicação de livros</td>\n",
       "    </tr>\n",
       "  </tbody>\n",
       "</table>\n",
       "</div>"
      ],
      "text/plain": [
       "   CO_SH6 CO_ISIC_CLASSE        NO_ISIC_CLASSE\n",
       "0  490110           5811  Publicação de livros\n",
       "1  490191           5811  Publicação de livros"
      ]
     },
     "execution_count": 9,
     "metadata": {},
     "output_type": "execute_result"
    }
   ],
   "source": [
    "ncnm_isic.head(2)"
   ]
  },
  {
   "cell_type": "code",
   "execution_count": 10,
   "id": "788d3155",
   "metadata": {},
   "outputs": [],
   "source": [
    "mapeamento_isic_cnae = pd.read_excel('./dados/mapeamento/mapeamento_isic_cnae.xlsx',dtype=str)\n",
    "mapeamento_isic_cnae = mapeamento_isic_cnae.drop(columns=['Unnamed: 3']).rename(columns={'código ISIC': 'CO_ISIC_CLASSE', 'código CNAE': 'CNAE'})\n",
    "mapeamento_isic_cnae = mapeamento_isic_cnae[['CO_ISIC_CLASSE', 'CNAE']]"
   ]
  },
  {
   "cell_type": "code",
   "execution_count": 11,
   "id": "4dc5fa9b",
   "metadata": {},
   "outputs": [
    {
     "data": {
      "text/html": [
       "<div>\n",
       "<style scoped>\n",
       "    .dataframe tbody tr th:only-of-type {\n",
       "        vertical-align: middle;\n",
       "    }\n",
       "\n",
       "    .dataframe tbody tr th {\n",
       "        vertical-align: top;\n",
       "    }\n",
       "\n",
       "    .dataframe thead th {\n",
       "        text-align: right;\n",
       "    }\n",
       "</style>\n",
       "<table border=\"1\" class=\"dataframe\">\n",
       "  <thead>\n",
       "    <tr style=\"text-align: right;\">\n",
       "      <th></th>\n",
       "      <th>CO_ISIC_CLASSE</th>\n",
       "      <th>CNAE</th>\n",
       "    </tr>\n",
       "  </thead>\n",
       "  <tbody>\n",
       "    <tr>\n",
       "      <th>1185</th>\n",
       "      <td>U</td>\n",
       "      <td>U</td>\n",
       "    </tr>\n",
       "    <tr>\n",
       "      <th>1186</th>\n",
       "      <td>99</td>\n",
       "      <td>99</td>\n",
       "    </tr>\n",
       "    <tr>\n",
       "      <th>1187</th>\n",
       "      <td>990</td>\n",
       "      <td>99.0</td>\n",
       "    </tr>\n",
       "    <tr>\n",
       "      <th>1188</th>\n",
       "      <td>9900</td>\n",
       "      <td>99.00-8</td>\n",
       "    </tr>\n",
       "  </tbody>\n",
       "</table>\n",
       "</div>"
      ],
      "text/plain": [
       "     CO_ISIC_CLASSE     CNAE\n",
       "1185              U        U\n",
       "1186             99       99\n",
       "1187            990     99.0\n",
       "1188           9900  99.00-8"
      ]
     },
     "execution_count": 11,
     "metadata": {},
     "output_type": "execute_result"
    }
   ],
   "source": [
    "mapeamento_isic_cnae.tail(4)"
   ]
  },
  {
   "cell_type": "code",
   "execution_count": 27,
   "id": "936c48e5",
   "metadata": {},
   "outputs": [],
   "source": [
    "ncm_isic = ncm_isic[['CO_ISIC_CLASSE']].drop_duplicates()"
   ]
  },
  {
   "cell_type": "code",
   "execution_count": 28,
   "id": "65671e51",
   "metadata": {},
   "outputs": [
    {
     "data": {
      "text/plain": [
       "0      5310\n",
       "1      5520\n",
       "2      5811\n",
       "3      5812\n",
       "4      5813\n",
       "       ... \n",
       "415    1393\n",
       "416    1394\n",
       "417    1399\n",
       "418    1420\n",
       "419    0990\n",
       "Name: CO_ISIC_CLASSE, Length: 420, dtype: object"
      ]
     },
     "execution_count": 28,
     "metadata": {},
     "output_type": "execute_result"
    }
   ],
   "source": [
    "ncm_isic['CO_ISIC_CLASSE']"
   ]
  },
  {
   "cell_type": "code",
   "execution_count": 37,
   "id": "eb3a1d93",
   "metadata": {},
   "outputs": [
    {
     "name": "stderr",
     "output_type": "stream",
     "text": [
      "/tmp/ipykernel_8707/4092528972.py:7: DeprecationWarning: Bitwise inversion '~' on bool is deprecated and will be removed in Python 3.16. This returns the bitwise inversion of the underlying int object and is usually not what you expect from negating a bool. Use the 'not' operator for boolean negation or ~int(x) if you really want the bitwise inversion of the underlying int.\n",
      "  'Média Alta' if x.startswith(prefixos_media_complexidade) and ~x.startswith(\"303\") and ~x.startswith(\"301\") else\n"
     ]
    }
   ],
   "source": [
    "#Inserir a intensidade tecnológica dependendo do valor de início do CO_ISIC_CLASSE\n",
    "prefixos_alta_complexidade = (\"303\",\"21\",\"26\")\n",
    "prefixos_media_complexidade = (\"252\",\"29\",\"325\",\"28\",\"20\",\"27\",\"30\")\n",
    "ncm_isic['Intensidade Tecnológica'] = None\n",
    "ncm_isic['Intensidade Tecnológica'] = ncm_isic['CO_ISIC_CLASSE'].apply(\n",
    "    lambda x: 'Alta intensidade' if x.startswith(prefixos_alta_complexidade) else\n",
    "              'Média Alta' if x.startswith(prefixos_media_complexidade) and ~x.startswith(\"303\") and ~x.startswith(\"301\") else\n",
    "              'Complexidade média ou abaixo'\n",
    ")"
   ]
  },
  {
   "cell_type": "code",
   "execution_count": 38,
   "id": "6b4419c2",
   "metadata": {},
   "outputs": [
    {
     "data": {
      "text/plain": [
       "24     292\n",
       "25     304\n",
       "57     325\n",
       "76     271\n",
       "102    301\n",
       "124    252\n",
       "162    309\n",
       "197    272\n",
       "213    291\n",
       "243    202\n",
       "250    273\n",
       "302    281\n",
       "311    293\n",
       "312    302\n",
       "335    274\n",
       "348    282\n",
       "379    279\n",
       "388    201\n",
       "391    203\n",
       "393    275\n",
       "Name: CO_ISIC_CLASSE, dtype: object"
      ]
     },
     "execution_count": 38,
     "metadata": {},
     "output_type": "execute_result"
    }
   ],
   "source": [
    "ncm_isic.query(\"`Intensidade Tecnológica`=='Média Alta'\")['CO_ISIC_CLASSE'].str[0:3].drop_duplicates()"
   ]
  },
  {
   "cell_type": "code",
   "execution_count": 39,
   "id": "9b344e1b",
   "metadata": {},
   "outputs": [],
   "source": [
    "ncm_isic.to_excel('./dados/mapeamento_isic_intensidade.xlsx',index=False)"
   ]
  },
  {
   "cell_type": "code",
   "execution_count": null,
   "id": "685bc102",
   "metadata": {},
   "outputs": [],
   "source": []
  },
  {
   "cell_type": "code",
   "execution_count": 103,
   "id": "ab7d8f69",
   "metadata": {},
   "outputs": [],
   "source": [
    "#Remover códigos ISIC que possuem menos que 4 dígitos\n",
    "mapeamento_isic_cnae = mapeamento_isic_cnae[mapeamento_isic_cnae['CO_ISIC_CLASSE'].str.len() >= 4]"
   ]
  },
  {
   "cell_type": "code",
   "execution_count": 104,
   "id": "57dd956c",
   "metadata": {},
   "outputs": [],
   "source": [
    "mapeamento_isic_cnae['CO_ISIC_CLASSE'] = mapeamento_isic_cnae['CO_ISIC_CLASSE'].str.strip().str.zfill(4)"
   ]
  },
  {
   "cell_type": "code",
   "execution_count": 107,
   "id": "a3ce8623",
   "metadata": {},
   "outputs": [],
   "source": [
    "mapeamento_isic_cnae['CNAEd'] = mapeamento_isic_cnae['CNAE'].str.replace('.', '', regex=False).str[0:4]"
   ]
  },
  {
   "cell_type": "code",
   "execution_count": 111,
   "id": "9c1421aa",
   "metadata": {},
   "outputs": [
    {
     "data": {
      "text/html": [
       "<div>\n",
       "<style scoped>\n",
       "    .dataframe tbody tr th:only-of-type {\n",
       "        vertical-align: middle;\n",
       "    }\n",
       "\n",
       "    .dataframe tbody tr th {\n",
       "        vertical-align: top;\n",
       "    }\n",
       "\n",
       "    .dataframe thead th {\n",
       "        text-align: right;\n",
       "    }\n",
       "</style>\n",
       "<table border=\"1\" class=\"dataframe\">\n",
       "  <thead>\n",
       "    <tr style=\"text-align: right;\">\n",
       "      <th></th>\n",
       "      <th>CO_SH6</th>\n",
       "      <th>CO_ISIC_CLASSE</th>\n",
       "      <th>NO_ISIC_CLASSE</th>\n",
       "    </tr>\n",
       "  </thead>\n",
       "  <tbody>\n",
       "  </tbody>\n",
       "</table>\n",
       "</div>"
      ],
      "text/plain": [
       "Empty DataFrame\n",
       "Columns: [CO_SH6, CO_ISIC_CLASSE, NO_ISIC_CLASSE]\n",
       "Index: []"
      ]
     },
     "execution_count": 111,
     "metadata": {},
     "output_type": "execute_result"
    }
   ],
   "source": [
    "ncnm_isic.query('CO_ISIC_CLASSE== \"4530\"')"
   ]
  },
  {
   "cell_type": "code",
   "execution_count": 118,
   "id": "c7893b0c",
   "metadata": {},
   "outputs": [],
   "source": [
    "ncnm_isic.merge(mapeamento_isic_cnae[['CO_ISIC_CLASSE','CNAEd']],on='CO_ISIC_CLASSE', how='left')[['CO_ISIC_CLASSE','CNAEd']].to_excel('./dados/mapeamento/ISIC_CNAE.xlsx', index=False)"
   ]
  },
  {
   "cell_type": "code",
   "execution_count": null,
   "id": "f8865a32",
   "metadata": {},
   "outputs": [],
   "source": []
  },
  {
   "cell_type": "markdown",
   "id": "3cfc84af",
   "metadata": {},
   "source": [
    "## Tarifas harmonizadas"
   ]
  },
  {
   "cell_type": "code",
   "execution_count": 16,
   "id": "30a76921",
   "metadata": {},
   "outputs": [],
   "source": [
    "ncm_sh6 = ncm[['CO_SH6']].drop_duplicates()\n",
    "ncm_sh6['CO_SH6'] = ncm_sh6['CO_SH6'].str.strip().str.zfill(6)\n"
   ]
  },
  {
   "cell_type": "code",
   "execution_count": 17,
   "id": "b26b061a",
   "metadata": {},
   "outputs": [],
   "source": [
    "ncm_sh6.rename(columns={'CO_SH6': 'SH6'}, inplace=True)"
   ]
  },
  {
   "cell_type": "code",
   "execution_count": 1,
   "id": "61165c59",
   "metadata": {},
   "outputs": [],
   "source": [
    "import pandas as pd\n",
    "harmonized = pd.read_excel('./dados/comex/Harmonized Tariff Schedule of the United States (HTSUS) not covered by the action.xlsx')"
   ]
  },
  {
   "cell_type": "code",
   "execution_count": 2,
   "id": "b33f32fc",
   "metadata": {},
   "outputs": [],
   "source": [
    "harmonized['SH6'] = harmonized['HTSUS'].str.replace('.', '', regex=False).str[0:6]"
   ]
  },
  {
   "cell_type": "code",
   "execution_count": 3,
   "id": "e91f947e",
   "metadata": {},
   "outputs": [],
   "source": [
    "harmonized = harmonized.fillna('')"
   ]
  },
  {
   "cell_type": "code",
   "execution_count": 4,
   "id": "03101c11",
   "metadata": {},
   "outputs": [
    {
     "data": {
      "text/html": [
       "<div>\n",
       "<style scoped>\n",
       "    .dataframe tbody tr th:only-of-type {\n",
       "        vertical-align: middle;\n",
       "    }\n",
       "\n",
       "    .dataframe tbody tr th {\n",
       "        vertical-align: top;\n",
       "    }\n",
       "\n",
       "    .dataframe thead th {\n",
       "        text-align: right;\n",
       "    }\n",
       "</style>\n",
       "<table border=\"1\" class=\"dataframe\">\n",
       "  <thead>\n",
       "    <tr style=\"text-align: right;\">\n",
       "      <th></th>\n",
       "      <th>HTSUS</th>\n",
       "      <th>Articles of Civil Aircraft only</th>\n",
       "      <th>Description</th>\n",
       "      <th>SH6</th>\n",
       "    </tr>\n",
       "  </thead>\n",
       "  <tbody>\n",
       "    <tr>\n",
       "      <th>0</th>\n",
       "      <td>0801.21.00</td>\n",
       "      <td></td>\n",
       "      <td>Brazil nuts in shell, fresh or dried</td>\n",
       "      <td>080121</td>\n",
       "    </tr>\n",
       "    <tr>\n",
       "      <th>1</th>\n",
       "      <td>2008.30.35</td>\n",
       "      <td></td>\n",
       "      <td>Orange pulp</td>\n",
       "      <td>200830</td>\n",
       "    </tr>\n",
       "  </tbody>\n",
       "</table>\n",
       "</div>"
      ],
      "text/plain": [
       "        HTSUS Articles of Civil Aircraft only  \\\n",
       "0  0801.21.00                                   \n",
       "1  2008.30.35                                   \n",
       "\n",
       "                            Description     SH6  \n",
       "0  Brazil nuts in shell, fresh or dried  080121  \n",
       "1                           Orange pulp  200830  "
      ]
     },
     "execution_count": 4,
     "metadata": {},
     "output_type": "execute_result"
    }
   ],
   "source": [
    "harmonized.head(2)"
   ]
  },
  {
   "cell_type": "code",
   "execution_count": 5,
   "id": "46711e4a",
   "metadata": {},
   "outputs": [],
   "source": [
    "harmonized['Instrumento'] = 'Exclusão Ordem 30/07'\n",
    "harmonized['Tarifa'] = 'Adicional de até 10%'"
   ]
  },
  {
   "cell_type": "code",
   "execution_count": 6,
   "id": "1f0fc9fb",
   "metadata": {},
   "outputs": [],
   "source": [
    "lista_aviacao = harmonized[['SH6','Articles of Civil Aircraft only']].query('`Articles of Civil Aircraft only`==\"*\"')\n",
    "harmonized = harmonized.query('`Articles of Civil Aircraft only`!=\"*\"')[['SH6','Instrumento','Tarifa']].drop_duplicates()\n"
   ]
  },
  {
   "cell_type": "code",
   "execution_count": 7,
   "id": "c8a6ce65",
   "metadata": {},
   "outputs": [],
   "source": [
    "lista_aviacao = lista_aviacao.drop_duplicates()"
   ]
  },
  {
   "cell_type": "code",
   "execution_count": 8,
   "id": "cb355547",
   "metadata": {},
   "outputs": [
    {
     "data": {
      "text/html": [
       "<div>\n",
       "<style scoped>\n",
       "    .dataframe tbody tr th:only-of-type {\n",
       "        vertical-align: middle;\n",
       "    }\n",
       "\n",
       "    .dataframe tbody tr th {\n",
       "        vertical-align: top;\n",
       "    }\n",
       "\n",
       "    .dataframe thead th {\n",
       "        text-align: right;\n",
       "    }\n",
       "</style>\n",
       "<table border=\"1\" class=\"dataframe\">\n",
       "  <thead>\n",
       "    <tr style=\"text-align: right;\">\n",
       "      <th></th>\n",
       "      <th>SH6</th>\n",
       "      <th>Instrumento</th>\n",
       "      <th>Tarifa</th>\n",
       "    </tr>\n",
       "  </thead>\n",
       "  <tbody>\n",
       "    <tr>\n",
       "      <th>0</th>\n",
       "      <td>080121</td>\n",
       "      <td>Exclusão Ordem 30/07</td>\n",
       "      <td>Adicional de até 10%</td>\n",
       "    </tr>\n",
       "    <tr>\n",
       "      <th>1</th>\n",
       "      <td>200830</td>\n",
       "      <td>Exclusão Ordem 30/07</td>\n",
       "      <td>Adicional de até 10%</td>\n",
       "    </tr>\n",
       "    <tr>\n",
       "      <th>2</th>\n",
       "      <td>200911</td>\n",
       "      <td>Exclusão Ordem 30/07</td>\n",
       "      <td>Adicional de até 10%</td>\n",
       "    </tr>\n",
       "    <tr>\n",
       "      <th>3</th>\n",
       "      <td>200912</td>\n",
       "      <td>Exclusão Ordem 30/07</td>\n",
       "      <td>Adicional de até 10%</td>\n",
       "    </tr>\n",
       "    <tr>\n",
       "      <th>5</th>\n",
       "      <td>252510</td>\n",
       "      <td>Exclusão Ordem 30/07</td>\n",
       "      <td>Adicional de até 10%</td>\n",
       "    </tr>\n",
       "    <tr>\n",
       "      <th>...</th>\n",
       "      <td>...</td>\n",
       "      <td>...</td>\n",
       "      <td>...</td>\n",
       "    </tr>\n",
       "    <tr>\n",
       "      <th>167</th>\n",
       "      <td>720260</td>\n",
       "      <td>Exclusão Ordem 30/07</td>\n",
       "      <td>Adicional de até 10%</td>\n",
       "    </tr>\n",
       "    <tr>\n",
       "      <th>168</th>\n",
       "      <td>720293</td>\n",
       "      <td>Exclusão Ordem 30/07</td>\n",
       "      <td>Adicional de até 10%</td>\n",
       "    </tr>\n",
       "    <tr>\n",
       "      <th>170</th>\n",
       "      <td>720310</td>\n",
       "      <td>Exclusão Ordem 30/07</td>\n",
       "      <td>Adicional de até 10%</td>\n",
       "    </tr>\n",
       "    <tr>\n",
       "      <th>171</th>\n",
       "      <td>720390</td>\n",
       "      <td>Exclusão Ordem 30/07</td>\n",
       "      <td>Adicional de até 10%</td>\n",
       "    </tr>\n",
       "    <tr>\n",
       "      <th>221</th>\n",
       "      <td>800200</td>\n",
       "      <td>Exclusão Ordem 30/07</td>\n",
       "      <td>Adicional de até 10%</td>\n",
       "    </tr>\n",
       "  </tbody>\n",
       "</table>\n",
       "<p>89 rows × 3 columns</p>\n",
       "</div>"
      ],
      "text/plain": [
       "        SH6           Instrumento                Tarifa\n",
       "0    080121  Exclusão Ordem 30/07  Adicional de até 10%\n",
       "1    200830  Exclusão Ordem 30/07  Adicional de até 10%\n",
       "2    200911  Exclusão Ordem 30/07  Adicional de até 10%\n",
       "3    200912  Exclusão Ordem 30/07  Adicional de até 10%\n",
       "5    252510  Exclusão Ordem 30/07  Adicional de até 10%\n",
       "..      ...                   ...                   ...\n",
       "167  720260  Exclusão Ordem 30/07  Adicional de até 10%\n",
       "168  720293  Exclusão Ordem 30/07  Adicional de até 10%\n",
       "170  720310  Exclusão Ordem 30/07  Adicional de até 10%\n",
       "171  720390  Exclusão Ordem 30/07  Adicional de até 10%\n",
       "221  800200  Exclusão Ordem 30/07  Adicional de até 10%\n",
       "\n",
       "[89 rows x 3 columns]"
      ]
     },
     "execution_count": 8,
     "metadata": {},
     "output_type": "execute_result"
    }
   ],
   "source": [
    "harmonized"
   ]
  },
  {
   "cell_type": "code",
   "execution_count": 9,
   "id": "3f833856",
   "metadata": {},
   "outputs": [],
   "source": [
    "aco = pd.read_excel('./dados/comex/NCMs de aço e aluminio afetadas Seçao 232 EUA (2).xlsx',dtype=str).rename(columns={'SH_6' : 'SH6'})[['SH6']].drop_duplicates()"
   ]
  },
  {
   "cell_type": "code",
   "execution_count": 10,
   "id": "6b7308ad",
   "metadata": {},
   "outputs": [],
   "source": [
    "\n",
    "aco['Instrumento'] = 'Seção 232'\n",
    "aco['Tarifa'] = \"25%\"\n",
    "\n",
    "\n",
    "\n",
    "\n",
    "\n"
   ]
  },
  {
   "cell_type": "code",
   "execution_count": 11,
   "id": "b10657c2",
   "metadata": {},
   "outputs": [
    {
     "data": {
      "text/html": [
       "<div>\n",
       "<style scoped>\n",
       "    .dataframe tbody tr th:only-of-type {\n",
       "        vertical-align: middle;\n",
       "    }\n",
       "\n",
       "    .dataframe tbody tr th {\n",
       "        vertical-align: top;\n",
       "    }\n",
       "\n",
       "    .dataframe thead th {\n",
       "        text-align: right;\n",
       "    }\n",
       "</style>\n",
       "<table border=\"1\" class=\"dataframe\">\n",
       "  <thead>\n",
       "    <tr style=\"text-align: right;\">\n",
       "      <th></th>\n",
       "      <th>SH6</th>\n",
       "      <th>Instrumento</th>\n",
       "      <th>Tarifa</th>\n",
       "    </tr>\n",
       "  </thead>\n",
       "  <tbody>\n",
       "    <tr>\n",
       "      <th>0</th>\n",
       "      <td>720690</td>\n",
       "      <td>Seção 232</td>\n",
       "      <td>25%</td>\n",
       "    </tr>\n",
       "    <tr>\n",
       "      <th>1</th>\n",
       "      <td>720711</td>\n",
       "      <td>Seção 232</td>\n",
       "      <td>25%</td>\n",
       "    </tr>\n",
       "  </tbody>\n",
       "</table>\n",
       "</div>"
      ],
      "text/plain": [
       "      SH6 Instrumento Tarifa\n",
       "0  720690   Seção 232    25%\n",
       "1  720711   Seção 232    25%"
      ]
     },
     "execution_count": 11,
     "metadata": {},
     "output_type": "execute_result"
    }
   ],
   "source": [
    "aco.head(2)"
   ]
  },
  {
   "cell_type": "code",
   "execution_count": 116,
   "id": "0b73be02",
   "metadata": {},
   "outputs": [
    {
     "name": "stdout",
     "output_type": "stream",
     "text": [
      "Planilha: Automotivo\n",
      "Planilha: Autopeças\n",
      "Planilha: BK e BIT\n",
      "Planilha: NAVAL\n"
     ]
    }
   ],
   "source": [
    "#diam = pd.read_excel('./dados/comex/NCM_DIAM_Tarifas.xlsx',dtype=str).rename(columns={'SH_6' : 'SH6'})[['SH6']].drop_duplicates()\n",
    "\n",
    "\n",
    "# Lê todas as planilhas do arquivo\n",
    "arquivo_excel = './dados/comex/NCM_DIAM_Tarifas.xlsx'\n",
    "planilhas = pd.read_excel(arquivo_excel, sheet_name=None,dtype=str)\n",
    "\n",
    "automoveis = pd.DataFrame()\n",
    "# `planilhas` é um dicionário: {nome_da_planilha: DataFrame}\n",
    "for nome, df in planilhas.items():\n",
    "    print(f'Planilha: {nome}')\n",
    "    df.rename(columns={'Código NCM': 'NCM'}, inplace=True)\n",
    "    df = df.rename(columns={'NCM': 'SH6'})\n",
    "    df = df[['SH6']].drop_duplicates()\n",
    "    df['Instrumento'] = 'Seção 232'\n",
    "    df['Tarifa'] = '25%'\n",
    "    df['SH6'] = df['SH6'].str.replace('.', '', regex=False)\n",
    "    df['SH6'] = df['SH6'].str.zfill(8).str[:6]\n",
    "\n",
    "    automoveis = pd.concat([automoveis, df], ignore_index=True)\n",
    "    \n",
    "\n"
   ]
  },
  {
   "cell_type": "code",
   "execution_count": 117,
   "id": "af90ab2e",
   "metadata": {},
   "outputs": [
    {
     "data": {
      "text/html": [
       "<div>\n",
       "<style scoped>\n",
       "    .dataframe tbody tr th:only-of-type {\n",
       "        vertical-align: middle;\n",
       "    }\n",
       "\n",
       "    .dataframe tbody tr th {\n",
       "        vertical-align: top;\n",
       "    }\n",
       "\n",
       "    .dataframe thead th {\n",
       "        text-align: right;\n",
       "    }\n",
       "</style>\n",
       "<table border=\"1\" class=\"dataframe\">\n",
       "  <thead>\n",
       "    <tr style=\"text-align: right;\">\n",
       "      <th></th>\n",
       "      <th>SH6</th>\n",
       "      <th>Instrumento</th>\n",
       "      <th>Tarifa</th>\n",
       "    </tr>\n",
       "  </thead>\n",
       "  <tbody>\n",
       "    <tr>\n",
       "      <th>0</th>\n",
       "      <td>842449</td>\n",
       "      <td>Seção 232</td>\n",
       "      <td>25%</td>\n",
       "    </tr>\n",
       "    <tr>\n",
       "      <th>1</th>\n",
       "      <td>842911</td>\n",
       "      <td>Seção 232</td>\n",
       "      <td>25%</td>\n",
       "    </tr>\n",
       "    <tr>\n",
       "      <th>2</th>\n",
       "      <td>842919</td>\n",
       "      <td>Seção 232</td>\n",
       "      <td>25%</td>\n",
       "    </tr>\n",
       "    <tr>\n",
       "      <th>3</th>\n",
       "      <td>842920</td>\n",
       "      <td>Seção 232</td>\n",
       "      <td>25%</td>\n",
       "    </tr>\n",
       "    <tr>\n",
       "      <th>4</th>\n",
       "      <td>842930</td>\n",
       "      <td>Seção 232</td>\n",
       "      <td>25%</td>\n",
       "    </tr>\n",
       "  </tbody>\n",
       "</table>\n",
       "</div>"
      ],
      "text/plain": [
       "      SH6 Instrumento Tarifa\n",
       "0  842449   Seção 232    25%\n",
       "1  842911   Seção 232    25%\n",
       "2  842919   Seção 232    25%\n",
       "3  842920   Seção 232    25%\n",
       "4  842930   Seção 232    25%"
      ]
     },
     "execution_count": 117,
     "metadata": {},
     "output_type": "execute_result"
    }
   ],
   "source": [
    "automoveis.head()"
   ]
  },
  {
   "cell_type": "code",
   "execution_count": 131,
   "id": "064ab642",
   "metadata": {},
   "outputs": [
    {
     "data": {
      "text/plain": [
       "(6617, 1)"
      ]
     },
     "execution_count": 131,
     "metadata": {},
     "output_type": "execute_result"
    }
   ],
   "source": [
    "ncm_sh6.shape"
   ]
  },
  {
   "cell_type": "code",
   "execution_count": 12,
   "id": "741bcaef",
   "metadata": {},
   "outputs": [],
   "source": [
    "tarifas = pd.concat([harmonized[['SH6','Instrumento','Tarifa']],aco[['SH6','Instrumento','Tarifa']]])#,automoveis[['SH6','Instrumento','Tarifa']]])"
   ]
  },
  {
   "cell_type": "code",
   "execution_count": 13,
   "id": "6c2b2675",
   "metadata": {},
   "outputs": [],
   "source": [
    "tarifas = tarifas.drop_duplicates()"
   ]
  },
  {
   "cell_type": "code",
   "execution_count": 18,
   "id": "e28ca796",
   "metadata": {},
   "outputs": [],
   "source": [
    "ncm_sh6 = ncm_sh6.merge(tarifas, on='SH6', how='left')"
   ]
  },
  {
   "cell_type": "code",
   "execution_count": 19,
   "id": "2e06e254",
   "metadata": {},
   "outputs": [],
   "source": [
    "ncm_sh6 = ncm_sh6.merge(lista_aviacao, on='SH6', how='left')"
   ]
  },
  {
   "cell_type": "code",
   "execution_count": 20,
   "id": "db236adb",
   "metadata": {},
   "outputs": [],
   "source": [
    "ncm_sh6['Articles of Civil Aircraft only'] = ncm_sh6['Articles of Civil Aircraft only'].fillna('')\n",
    "ncm_sh6['Instrumento'] = ncm_sh6['Instrumento'].fillna('Ordem 30/07')\n",
    "ncm_sh6['Tarifa'] = ncm_sh6['Tarifa'].fillna('Tarifa de 50%')"
   ]
  },
  {
   "cell_type": "code",
   "execution_count": 21,
   "id": "00d46a8f",
   "metadata": {},
   "outputs": [],
   "source": [
    "ncm_sh6.to_excel('./dados/comex/NCM_SH6_Tarifas_semauto.xlsx', index=False)"
   ]
  },
  {
   "cell_type": "code",
   "execution_count": 153,
   "id": "99bf0c29",
   "metadata": {},
   "outputs": [
    {
     "data": {
      "text/html": [
       "<div>\n",
       "<style scoped>\n",
       "    .dataframe tbody tr th:only-of-type {\n",
       "        vertical-align: middle;\n",
       "    }\n",
       "\n",
       "    .dataframe tbody tr th {\n",
       "        vertical-align: top;\n",
       "    }\n",
       "\n",
       "    .dataframe thead th {\n",
       "        text-align: right;\n",
       "    }\n",
       "</style>\n",
       "<table border=\"1\" class=\"dataframe\">\n",
       "  <thead>\n",
       "    <tr style=\"text-align: right;\">\n",
       "      <th></th>\n",
       "      <th>SH6</th>\n",
       "      <th>Instrumento</th>\n",
       "      <th>Tarifa</th>\n",
       "      <th>Articles of Civil Aircraft only</th>\n",
       "    </tr>\n",
       "  </thead>\n",
       "  <tbody>\n",
       "    <tr>\n",
       "      <th>4620</th>\n",
       "      <td>880100</td>\n",
       "      <td>Ordem 30/07</td>\n",
       "      <td>Tarifa de 50%</td>\n",
       "      <td>*</td>\n",
       "    </tr>\n",
       "  </tbody>\n",
       "</table>\n",
       "</div>"
      ],
      "text/plain": [
       "         SH6  Instrumento         Tarifa Articles of Civil Aircraft only\n",
       "4620  880100  Ordem 30/07  Tarifa de 50%                               *"
      ]
     },
     "execution_count": 153,
     "metadata": {},
     "output_type": "execute_result"
    }
   ],
   "source": [
    "ncm_sh6.query('SH6==\"880100\"')"
   ]
  },
  {
   "cell_type": "code",
   "execution_count": 151,
   "id": "1d9415e8",
   "metadata": {},
   "outputs": [
    {
     "data": {
      "text/html": [
       "<div>\n",
       "<style scoped>\n",
       "    .dataframe tbody tr th:only-of-type {\n",
       "        vertical-align: middle;\n",
       "    }\n",
       "\n",
       "    .dataframe tbody tr th {\n",
       "        vertical-align: top;\n",
       "    }\n",
       "\n",
       "    .dataframe thead th {\n",
       "        text-align: right;\n",
       "    }\n",
       "</style>\n",
       "<table border=\"1\" class=\"dataframe\">\n",
       "  <thead>\n",
       "    <tr style=\"text-align: right;\">\n",
       "      <th></th>\n",
       "      <th>Instrumento</th>\n",
       "    </tr>\n",
       "  </thead>\n",
       "  <tbody>\n",
       "    <tr>\n",
       "      <th>220</th>\n",
       "      <td>Seção 232</td>\n",
       "    </tr>\n",
       "    <tr>\n",
       "      <th>251</th>\n",
       "      <td>Ordem 30/07</td>\n",
       "    </tr>\n",
       "  </tbody>\n",
       "</table>\n",
       "</div>"
      ],
      "text/plain": [
       "     Instrumento\n",
       "220    Seção 232\n",
       "251  Ordem 30/07"
      ]
     },
     "execution_count": 151,
     "metadata": {},
     "output_type": "execute_result"
    }
   ],
   "source": [
    "ncm_sh6.query('`Articles of Civil Aircraft only`==\"*\"')[['Instrumento']].drop_duplicates()"
   ]
  },
  {
   "cell_type": "code",
   "execution_count": 152,
   "id": "8d33de7c",
   "metadata": {},
   "outputs": [
    {
     "data": {
      "text/html": [
       "<div>\n",
       "<style scoped>\n",
       "    .dataframe tbody tr th:only-of-type {\n",
       "        vertical-align: middle;\n",
       "    }\n",
       "\n",
       "    .dataframe tbody tr th {\n",
       "        vertical-align: top;\n",
       "    }\n",
       "\n",
       "    .dataframe thead th {\n",
       "        text-align: right;\n",
       "    }\n",
       "</style>\n",
       "<table border=\"1\" class=\"dataframe\">\n",
       "  <thead>\n",
       "    <tr style=\"text-align: right;\">\n",
       "      <th></th>\n",
       "      <th>Instrumento</th>\n",
       "    </tr>\n",
       "  </thead>\n",
       "  <tbody>\n",
       "    <tr>\n",
       "      <th>0</th>\n",
       "      <td>Ordem 30/07</td>\n",
       "    </tr>\n",
       "    <tr>\n",
       "      <th>49</th>\n",
       "      <td>Seção 232</td>\n",
       "    </tr>\n",
       "    <tr>\n",
       "      <th>534</th>\n",
       "      <td>Exclusão Ordem 30/07</td>\n",
       "    </tr>\n",
       "  </tbody>\n",
       "</table>\n",
       "</div>"
      ],
      "text/plain": [
       "              Instrumento\n",
       "0             Ordem 30/07\n",
       "49              Seção 232\n",
       "534  Exclusão Ordem 30/07"
      ]
     },
     "execution_count": 152,
     "metadata": {},
     "output_type": "execute_result"
    }
   ],
   "source": [
    "ncm_sh6[['Instrumento']].drop_duplicates()"
   ]
  },
  {
   "cell_type": "code",
   "execution_count": 81,
   "id": "5b9a3e46",
   "metadata": {},
   "outputs": [
    {
     "data": {
      "text/html": [
       "<div>\n",
       "<style scoped>\n",
       "    .dataframe tbody tr th:only-of-type {\n",
       "        vertical-align: middle;\n",
       "    }\n",
       "\n",
       "    .dataframe tbody tr th {\n",
       "        vertical-align: top;\n",
       "    }\n",
       "\n",
       "    .dataframe thead th {\n",
       "        text-align: right;\n",
       "    }\n",
       "</style>\n",
       "<table border=\"1\" class=\"dataframe\">\n",
       "  <thead>\n",
       "    <tr style=\"text-align: right;\">\n",
       "      <th></th>\n",
       "      <th>SH6</th>\n",
       "      <th>Articles of Civil Aircraft only</th>\n",
       "      <th>Instrumento</th>\n",
       "      <th>Tarifa</th>\n",
       "    </tr>\n",
       "  </thead>\n",
       "  <tbody>\n",
       "    <tr>\n",
       "      <th>645</th>\n",
       "      <td>903220</td>\n",
       "      <td>*</td>\n",
       "      <td>Exclusão Ordem 30/07</td>\n",
       "      <td>Adicional de até 10%</td>\n",
       "    </tr>\n",
       "    <tr>\n",
       "      <th>725</th>\n",
       "      <td>903220</td>\n",
       "      <td></td>\n",
       "      <td>Seção 232</td>\n",
       "      <td>25%</td>\n",
       "    </tr>\n",
       "  </tbody>\n",
       "</table>\n",
       "</div>"
      ],
      "text/plain": [
       "        SH6 Articles of Civil Aircraft only           Instrumento  \\\n",
       "645  903220                               *  Exclusão Ordem 30/07   \n",
       "725  903220                                             Seção 232   \n",
       "\n",
       "                   Tarifa  \n",
       "645  Adicional de até 10%  \n",
       "725                   25%  "
      ]
     },
     "execution_count": 81,
     "metadata": {},
     "output_type": "execute_result"
    }
   ],
   "source": [
    "tarifas.drop_duplicates().query('SH6 == \"903220\"')"
   ]
  },
  {
   "cell_type": "code",
   "execution_count": 76,
   "id": "66bdfd76",
   "metadata": {},
   "outputs": [
    {
     "data": {
      "text/html": [
       "<div>\n",
       "<style scoped>\n",
       "    .dataframe tbody tr th:only-of-type {\n",
       "        vertical-align: middle;\n",
       "    }\n",
       "\n",
       "    .dataframe tbody tr th {\n",
       "        vertical-align: top;\n",
       "    }\n",
       "\n",
       "    .dataframe thead th {\n",
       "        text-align: right;\n",
       "    }\n",
       "</style>\n",
       "<table border=\"1\" class=\"dataframe\">\n",
       "  <thead>\n",
       "    <tr style=\"text-align: right;\">\n",
       "      <th></th>\n",
       "      <th>Instrumento</th>\n",
       "    </tr>\n",
       "    <tr>\n",
       "      <th>SH6</th>\n",
       "      <th></th>\n",
       "    </tr>\n",
       "  </thead>\n",
       "  <tbody>\n",
       "    <tr>\n",
       "      <th>910910</th>\n",
       "      <td>2</td>\n",
       "    </tr>\n",
       "    <tr>\n",
       "      <th>910400</th>\n",
       "      <td>2</td>\n",
       "    </tr>\n",
       "    <tr>\n",
       "      <th>903290</th>\n",
       "      <td>2</td>\n",
       "    </tr>\n",
       "    <tr>\n",
       "      <th>903289</th>\n",
       "      <td>2</td>\n",
       "    </tr>\n",
       "    <tr>\n",
       "      <th>903220</th>\n",
       "      <td>2</td>\n",
       "    </tr>\n",
       "    <tr>\n",
       "      <th>...</th>\n",
       "      <td>...</td>\n",
       "    </tr>\n",
       "    <tr>\n",
       "      <th>730449</th>\n",
       "      <td>2</td>\n",
       "    </tr>\n",
       "    <tr>\n",
       "      <th>730441</th>\n",
       "      <td>2</td>\n",
       "    </tr>\n",
       "    <tr>\n",
       "      <th>730439</th>\n",
       "      <td>2</td>\n",
       "    </tr>\n",
       "    <tr>\n",
       "      <th>730431</th>\n",
       "      <td>2</td>\n",
       "    </tr>\n",
       "    <tr>\n",
       "      <th>903190</th>\n",
       "      <td>2</td>\n",
       "    </tr>\n",
       "  </tbody>\n",
       "</table>\n",
       "<p>225 rows × 1 columns</p>\n",
       "</div>"
      ],
      "text/plain": [
       "        Instrumento\n",
       "SH6                \n",
       "910910            2\n",
       "910400            2\n",
       "903290            2\n",
       "903289            2\n",
       "903220            2\n",
       "...             ...\n",
       "730449            2\n",
       "730441            2\n",
       "730439            2\n",
       "730431            2\n",
       "903190            2\n",
       "\n",
       "[225 rows x 1 columns]"
      ]
     },
     "execution_count": 76,
     "metadata": {},
     "output_type": "execute_result"
    }
   ],
   "source": [
    "tarifas.drop_duplicates().groupby('SH6')[['Instrumento']].count().sort_values(by='Instrumento', ascending=False).query('Instrumento >=2')"
   ]
  },
  {
   "cell_type": "code",
   "execution_count": null,
   "id": "e680fb74",
   "metadata": {},
   "outputs": [],
   "source": []
  },
  {
   "cell_type": "code",
   "execution_count": 82,
   "id": "f5c8ebf1",
   "metadata": {},
   "outputs": [],
   "source": [
    "pd.concat([harmonized[['SH6','Articles of Civil Aircraft only','Instrumento','Tarifa']],aco[['SH6','Articles of Civil Aircraft only','Instrumento','Tarifa']],automoveis[['SH6','Articles of Civil Aircraft only','Instrumento','Tarifa']]]).drop_duplicates().to_excel('./dados/comex/dados_tarifas_sh6.xlsx', index=False)"
   ]
  },
  {
   "cell_type": "code",
   "execution_count": 67,
   "id": "ec81032f",
   "metadata": {},
   "outputs": [],
   "source": [
    "harmonized.to_excel('./dados/comex/dados_tarifas_sh6.xlsx', index=False)"
   ]
  },
  {
   "cell_type": "code",
   "execution_count": 24,
   "id": "5b1318f0",
   "metadata": {},
   "outputs": [],
   "source": [
    "harmonized[['SH6','Articles of Civil Aircraft only']].to_excel('./dados/comex/HTSUS SH6.xlsx', index=False)"
   ]
  },
  {
   "cell_type": "code",
   "execution_count": 60,
   "id": "37824e2a",
   "metadata": {},
   "outputs": [],
   "source": [
    "harmonized = harmonized[['SH6','Articles of Civil Aircraft only']].drop_duplicates()"
   ]
  },
  {
   "cell_type": "code",
   "execution_count": 63,
   "id": "4913701f",
   "metadata": {},
   "outputs": [],
   "source": [
    "exportacao_total = pd.read_excel('./dados/comex/Exportacao Mundo 2024 NCM.xlsx')"
   ]
  },
  {
   "cell_type": "code",
   "execution_count": 64,
   "id": "4187e982",
   "metadata": {},
   "outputs": [],
   "source": [
    "exportacao_total['SH6'] = exportacao_total['Código NCM'].astype(str).str.zfill(8).str[:6]"
   ]
  },
  {
   "cell_type": "code",
   "execution_count": 73,
   "id": "560af408",
   "metadata": {},
   "outputs": [],
   "source": [
    "exportacao_usa = pd.read_excel('./dados/comex/Exportacao EUA 2024 NCM.xlsx')\n",
    "\n",
    "exportacao_usa['SH6'] = exportacao_usa['Código NCM'].astype(str).str.zfill(8).str[:6]\n",
    "\n"
   ]
  },
  {
   "cell_type": "code",
   "execution_count": 76,
   "id": "6298090a",
   "metadata": {},
   "outputs": [
    {
     "data": {
      "text/html": [
       "<div>\n",
       "<style scoped>\n",
       "    .dataframe tbody tr th:only-of-type {\n",
       "        vertical-align: middle;\n",
       "    }\n",
       "\n",
       "    .dataframe tbody tr th {\n",
       "        vertical-align: top;\n",
       "    }\n",
       "\n",
       "    .dataframe thead th {\n",
       "        text-align: right;\n",
       "    }\n",
       "</style>\n",
       "<table border=\"1\" class=\"dataframe\">\n",
       "  <thead>\n",
       "    <tr style=\"text-align: right;\">\n",
       "      <th></th>\n",
       "      <th>Código NCM</th>\n",
       "      <th>Descrição NCM</th>\n",
       "      <th>2024 - Valor US$ FOB</th>\n",
       "      <th>SH6</th>\n",
       "    </tr>\n",
       "  </thead>\n",
       "  <tbody>\n",
       "    <tr>\n",
       "      <th>0</th>\n",
       "      <td>27090010</td>\n",
       "      <td>Óleos brutos de petróleo</td>\n",
       "      <td>5830983860</td>\n",
       "      <td>270900</td>\n",
       "    </tr>\n",
       "    <tr>\n",
       "      <th>1</th>\n",
       "      <td>72071200</td>\n",
       "      <td>Outros produtos semimanufaturados de ferro ou ...</td>\n",
       "      <td>2774470802</td>\n",
       "      <td>720712</td>\n",
       "    </tr>\n",
       "  </tbody>\n",
       "</table>\n",
       "</div>"
      ],
      "text/plain": [
       "   Código NCM                                      Descrição NCM  \\\n",
       "0    27090010                           Óleos brutos de petróleo   \n",
       "1    72071200  Outros produtos semimanufaturados de ferro ou ...   \n",
       "\n",
       "   2024 - Valor US$ FOB     SH6  \n",
       "0            5830983860  270900  \n",
       "1            2774470802  720712  "
      ]
     },
     "execution_count": 76,
     "metadata": {},
     "output_type": "execute_result"
    }
   ],
   "source": [
    "exportacao_usa.head(2)"
   ]
  },
  {
   "cell_type": "code",
   "execution_count": 68,
   "id": "8d17efb8",
   "metadata": {},
   "outputs": [
    {
     "data": {
      "text/html": [
       "<div>\n",
       "<style scoped>\n",
       "    .dataframe tbody tr th:only-of-type {\n",
       "        vertical-align: middle;\n",
       "    }\n",
       "\n",
       "    .dataframe tbody tr th {\n",
       "        vertical-align: top;\n",
       "    }\n",
       "\n",
       "    .dataframe thead th {\n",
       "        text-align: right;\n",
       "    }\n",
       "</style>\n",
       "<table border=\"1\" class=\"dataframe\">\n",
       "  <thead>\n",
       "    <tr style=\"text-align: right;\">\n",
       "      <th></th>\n",
       "      <th>CO_NCM</th>\n",
       "      <th>CO_UNID</th>\n",
       "      <th>CO_SH6</th>\n",
       "      <th>CO_PPE</th>\n",
       "      <th>CO_PPI</th>\n",
       "      <th>CO_FAT_AGREG</th>\n",
       "      <th>CO_CUCI_ITEM</th>\n",
       "      <th>CO_CGCE_N3</th>\n",
       "      <th>CO_SIIT</th>\n",
       "      <th>CO_ISIC_CLASSE</th>\n",
       "      <th>CO_EXP_SUBSET</th>\n",
       "      <th>NO_NCM_POR</th>\n",
       "      <th>NO_NCM_ESP</th>\n",
       "      <th>NO_NCM_ING</th>\n",
       "    </tr>\n",
       "  </thead>\n",
       "  <tbody>\n",
       "    <tr>\n",
       "      <th>0</th>\n",
       "      <td>49011000</td>\n",
       "      <td>10</td>\n",
       "      <td>490110</td>\n",
       "      <td>3521.0</td>\n",
       "      <td>3521.0</td>\n",
       "      <td>3.0</td>\n",
       "      <td>89215</td>\n",
       "      <td>322</td>\n",
       "      <td>9000.0</td>\n",
       "      <td>5811</td>\n",
       "      <td>8099.0</td>\n",
       "      <td>Livros, brochuras e impressos semelhantes, em ...</td>\n",
       "      <td>Libros, folletos, impresos similares, en hojas...</td>\n",
       "      <td>Books, brochures, similar printed papers, in s...</td>\n",
       "    </tr>\n",
       "    <tr>\n",
       "      <th>1</th>\n",
       "      <td>49019100</td>\n",
       "      <td>10</td>\n",
       "      <td>490191</td>\n",
       "      <td>3521.0</td>\n",
       "      <td>3521.0</td>\n",
       "      <td>3.0</td>\n",
       "      <td>89216</td>\n",
       "      <td>322</td>\n",
       "      <td>9000.0</td>\n",
       "      <td>5811</td>\n",
       "      <td>8099.0</td>\n",
       "      <td>Dicionários e enciclopédias, mesmo em fascículos</td>\n",
       "      <td>Diccionarios y enciclopedias, incluso en fascí...</td>\n",
       "      <td>Dictionaries and encyclopaedias, serial instal...</td>\n",
       "    </tr>\n",
       "  </tbody>\n",
       "</table>\n",
       "</div>"
      ],
      "text/plain": [
       "     CO_NCM  CO_UNID  CO_SH6  CO_PPE  CO_PPI  CO_FAT_AGREG CO_CUCI_ITEM  \\\n",
       "0  49011000       10  490110  3521.0  3521.0           3.0        89215   \n",
       "1  49019100       10  490191  3521.0  3521.0           3.0        89216   \n",
       "\n",
       "   CO_CGCE_N3  CO_SIIT CO_ISIC_CLASSE  CO_EXP_SUBSET  \\\n",
       "0         322   9000.0           5811         8099.0   \n",
       "1         322   9000.0           5811         8099.0   \n",
       "\n",
       "                                          NO_NCM_POR  \\\n",
       "0  Livros, brochuras e impressos semelhantes, em ...   \n",
       "1   Dicionários e enciclopédias, mesmo em fascículos   \n",
       "\n",
       "                                          NO_NCM_ESP  \\\n",
       "0  Libros, folletos, impresos similares, en hojas...   \n",
       "1  Diccionarios y enciclopedias, incluso en fascí...   \n",
       "\n",
       "                                          NO_NCM_ING  \n",
       "0  Books, brochures, similar printed papers, in s...  \n",
       "1  Dictionaries and encyclopaedias, serial instal...  "
      ]
     },
     "execution_count": 68,
     "metadata": {},
     "output_type": "execute_result"
    }
   ],
   "source": [
    "ncm.head(2)"
   ]
  },
  {
   "cell_type": "code",
   "execution_count": 77,
   "id": "e1d3f4de",
   "metadata": {},
   "outputs": [
    {
     "data": {
      "text/plain": [
       "(626, 1)"
      ]
     },
     "execution_count": 77,
     "metadata": {},
     "output_type": "execute_result"
    }
   ],
   "source": [
    "exportacao_usa[['Código NCM','SH6']].drop_duplicates().merge(harmonized[['SH6','Articles of Civil Aircraft only']],on='SH6', how='inner')[['Código NCM']].drop_duplicates().shape"
   ]
  },
  {
   "cell_type": "code",
   "execution_count": 61,
   "id": "e9b4aaef",
   "metadata": {},
   "outputs": [
    {
     "data": {
      "text/html": [
       "<div>\n",
       "<style scoped>\n",
       "    .dataframe tbody tr th:only-of-type {\n",
       "        vertical-align: middle;\n",
       "    }\n",
       "\n",
       "    .dataframe tbody tr th {\n",
       "        vertical-align: top;\n",
       "    }\n",
       "\n",
       "    .dataframe thead th {\n",
       "        text-align: right;\n",
       "    }\n",
       "</style>\n",
       "<table border=\"1\" class=\"dataframe\">\n",
       "  <thead>\n",
       "    <tr style=\"text-align: right;\">\n",
       "      <th></th>\n",
       "      <th>sh6</th>\n",
       "      <th>exportacao_eua_2024_USD</th>\n",
       "    </tr>\n",
       "  </thead>\n",
       "  <tbody>\n",
       "    <tr>\n",
       "      <th>0</th>\n",
       "      <td>010121</td>\n",
       "      <td>1713599</td>\n",
       "    </tr>\n",
       "    <tr>\n",
       "      <th>1</th>\n",
       "      <td>010129</td>\n",
       "      <td>3520510</td>\n",
       "    </tr>\n",
       "  </tbody>\n",
       "</table>\n",
       "</div>"
      ],
      "text/plain": [
       "      sh6  exportacao_eua_2024_USD\n",
       "0  010121                  1713599\n",
       "1  010129                  3520510"
      ]
     },
     "execution_count": 61,
     "metadata": {},
     "output_type": "execute_result"
    }
   ],
   "source": [
    "exportacao_usa.head(2)"
   ]
  },
  {
   "cell_type": "code",
   "execution_count": 26,
   "id": "bc41a3ce",
   "metadata": {},
   "outputs": [],
   "source": [
    "expotacoes = harmonized[['SH6','Articles of Civil Aircraft only']].drop_duplicates().merge(exportacao_geral.merge(exportacao_usa, on='sh6', how='left').fillna(0), left_on='SH6',right_on='sh6', how='right')"
   ]
  },
  {
   "cell_type": "code",
   "execution_count": 27,
   "id": "48eddd10",
   "metadata": {},
   "outputs": [],
   "source": [
    "expotacoes['Articles of Civil Aircraft only'] = expotacoes['Articles of Civil Aircraft only'].fillna('')"
   ]
  },
  {
   "cell_type": "code",
   "execution_count": 28,
   "id": "045b5ea4",
   "metadata": {},
   "outputs": [],
   "source": [
    "expotacoes['Excecao'] = ~expotacoes['SH6'].isnull()"
   ]
  },
  {
   "cell_type": "code",
   "execution_count": 29,
   "id": "216fcfa0",
   "metadata": {},
   "outputs": [],
   "source": [
    "expotacoes.drop(columns=['SH6']).to_excel('./dados/comex/HTSUS SH6 exportacao.xlsx', index=False)"
   ]
  },
  {
   "cell_type": "code",
   "execution_count": null,
   "id": "8aa44dba",
   "metadata": {},
   "outputs": [],
   "source": [
    "expotacoe"
   ]
  },
  {
   "cell_type": "code",
   "execution_count": 34,
   "id": "54405803",
   "metadata": {},
   "outputs": [
    {
     "data": {
      "text/html": [
       "<div>\n",
       "<style scoped>\n",
       "    .dataframe tbody tr th:only-of-type {\n",
       "        vertical-align: middle;\n",
       "    }\n",
       "\n",
       "    .dataframe tbody tr th {\n",
       "        vertical-align: top;\n",
       "    }\n",
       "\n",
       "    .dataframe thead th {\n",
       "        text-align: right;\n",
       "    }\n",
       "</style>\n",
       "<table border=\"1\" class=\"dataframe\">\n",
       "  <thead>\n",
       "    <tr style=\"text-align: right;\">\n",
       "      <th></th>\n",
       "      <th>exportacao_eua_2024_USD</th>\n",
       "    </tr>\n",
       "    <tr>\n",
       "      <th>Excecao</th>\n",
       "      <th></th>\n",
       "    </tr>\n",
       "  </thead>\n",
       "  <tbody>\n",
       "    <tr>\n",
       "      <th>False</th>\n",
       "      <td>2.238307e+10</td>\n",
       "    </tr>\n",
       "    <tr>\n",
       "      <th>True</th>\n",
       "      <td>1.798550e+10</td>\n",
       "    </tr>\n",
       "  </tbody>\n",
       "</table>\n",
       "</div>"
      ],
      "text/plain": [
       "         exportacao_eua_2024_USD\n",
       "Excecao                         \n",
       "False               2.238307e+10\n",
       "True                1.798550e+10"
      ]
     },
     "execution_count": 34,
     "metadata": {},
     "output_type": "execute_result"
    }
   ],
   "source": [
    "expotacoes.groupby('Excecao')[['exportacao_eua_2024_USD']].sum()"
   ]
  },
  {
   "cell_type": "code",
   "execution_count": 30,
   "id": "400f064e",
   "metadata": {},
   "outputs": [
    {
     "data": {
      "text/html": [
       "<div>\n",
       "<style scoped>\n",
       "    .dataframe tbody tr th:only-of-type {\n",
       "        vertical-align: middle;\n",
       "    }\n",
       "\n",
       "    .dataframe tbody tr th {\n",
       "        vertical-align: top;\n",
       "    }\n",
       "\n",
       "    .dataframe thead th {\n",
       "        text-align: right;\n",
       "    }\n",
       "</style>\n",
       "<table border=\"1\" class=\"dataframe\">\n",
       "  <thead>\n",
       "    <tr style=\"text-align: right;\">\n",
       "      <th></th>\n",
       "      <th>Articles of Civil Aircraft only</th>\n",
       "      <th>sh6</th>\n",
       "      <th>exportacao_mundo_2024_USD</th>\n",
       "      <th>exportacao_eua_2024_USD</th>\n",
       "      <th>Excecao</th>\n",
       "    </tr>\n",
       "  </thead>\n",
       "  <tbody>\n",
       "    <tr>\n",
       "      <th>0</th>\n",
       "      <td></td>\n",
       "      <td>010121</td>\n",
       "      <td>3134431</td>\n",
       "      <td>1713599.0</td>\n",
       "      <td>False</td>\n",
       "    </tr>\n",
       "    <tr>\n",
       "      <th>1</th>\n",
       "      <td></td>\n",
       "      <td>010129</td>\n",
       "      <td>5453342</td>\n",
       "      <td>3520510.0</td>\n",
       "      <td>False</td>\n",
       "    </tr>\n",
       "    <tr>\n",
       "      <th>2</th>\n",
       "      <td></td>\n",
       "      <td>010130</td>\n",
       "      <td>311</td>\n",
       "      <td>0.0</td>\n",
       "      <td>False</td>\n",
       "    </tr>\n",
       "    <tr>\n",
       "      <th>3</th>\n",
       "      <td></td>\n",
       "      <td>010190</td>\n",
       "      <td>1406</td>\n",
       "      <td>0.0</td>\n",
       "      <td>False</td>\n",
       "    </tr>\n",
       "    <tr>\n",
       "      <th>4</th>\n",
       "      <td></td>\n",
       "      <td>010221</td>\n",
       "      <td>2483913</td>\n",
       "      <td>0.0</td>\n",
       "      <td>False</td>\n",
       "    </tr>\n",
       "    <tr>\n",
       "      <th>...</th>\n",
       "      <td>...</td>\n",
       "      <td>...</td>\n",
       "      <td>...</td>\n",
       "      <td>...</td>\n",
       "      <td>...</td>\n",
       "    </tr>\n",
       "    <tr>\n",
       "      <th>4890</th>\n",
       "      <td></td>\n",
       "      <td>970400</td>\n",
       "      <td>195716</td>\n",
       "      <td>50.0</td>\n",
       "      <td>False</td>\n",
       "    </tr>\n",
       "    <tr>\n",
       "      <th>4891</th>\n",
       "      <td></td>\n",
       "      <td>970510</td>\n",
       "      <td>1962</td>\n",
       "      <td>1962.0</td>\n",
       "      <td>False</td>\n",
       "    </tr>\n",
       "    <tr>\n",
       "      <th>4892</th>\n",
       "      <td></td>\n",
       "      <td>970529</td>\n",
       "      <td>50</td>\n",
       "      <td>0.0</td>\n",
       "      <td>False</td>\n",
       "    </tr>\n",
       "    <tr>\n",
       "      <th>4893</th>\n",
       "      <td></td>\n",
       "      <td>970610</td>\n",
       "      <td>861225</td>\n",
       "      <td>857301.0</td>\n",
       "      <td>False</td>\n",
       "    </tr>\n",
       "    <tr>\n",
       "      <th>4894</th>\n",
       "      <td></td>\n",
       "      <td>970690</td>\n",
       "      <td>359492</td>\n",
       "      <td>325930.0</td>\n",
       "      <td>False</td>\n",
       "    </tr>\n",
       "  </tbody>\n",
       "</table>\n",
       "<p>4895 rows × 5 columns</p>\n",
       "</div>"
      ],
      "text/plain": [
       "     Articles of Civil Aircraft only     sh6  exportacao_mundo_2024_USD  \\\n",
       "0                                     010121                    3134431   \n",
       "1                                     010129                    5453342   \n",
       "2                                     010130                        311   \n",
       "3                                     010190                       1406   \n",
       "4                                     010221                    2483913   \n",
       "...                              ...     ...                        ...   \n",
       "4890                                  970400                     195716   \n",
       "4891                                  970510                       1962   \n",
       "4892                                  970529                         50   \n",
       "4893                                  970610                     861225   \n",
       "4894                                  970690                     359492   \n",
       "\n",
       "      exportacao_eua_2024_USD  Excecao  \n",
       "0                   1713599.0    False  \n",
       "1                   3520510.0    False  \n",
       "2                         0.0    False  \n",
       "3                         0.0    False  \n",
       "4                         0.0    False  \n",
       "...                       ...      ...  \n",
       "4890                     50.0    False  \n",
       "4891                   1962.0    False  \n",
       "4892                      0.0    False  \n",
       "4893                 857301.0    False  \n",
       "4894                 325930.0    False  \n",
       "\n",
       "[4895 rows x 5 columns]"
      ]
     },
     "execution_count": 30,
     "metadata": {},
     "output_type": "execute_result"
    }
   ],
   "source": [
    "expotacoes.drop(columns=['SH6'])"
   ]
  },
  {
   "cell_type": "code",
   "execution_count": 31,
   "id": "e468b208",
   "metadata": {},
   "outputs": [],
   "source": [
    "harmonized[['SH6','Articles of Civil Aircraft only']].drop_duplicates().to_excel('./dados/comex/HTSUS SH6.xlsx', index=False)"
   ]
  },
  {
   "cell_type": "code",
   "execution_count": 32,
   "id": "1b4b3f83",
   "metadata": {},
   "outputs": [
    {
     "data": {
      "text/html": [
       "<div>\n",
       "<style scoped>\n",
       "    .dataframe tbody tr th:only-of-type {\n",
       "        vertical-align: middle;\n",
       "    }\n",
       "\n",
       "    .dataframe tbody tr th {\n",
       "        vertical-align: top;\n",
       "    }\n",
       "\n",
       "    .dataframe thead th {\n",
       "        text-align: right;\n",
       "    }\n",
       "</style>\n",
       "<table border=\"1\" class=\"dataframe\">\n",
       "  <thead>\n",
       "    <tr style=\"text-align: right;\">\n",
       "      <th></th>\n",
       "      <th>SH6</th>\n",
       "      <th>CO_SH6</th>\n",
       "      <th>CO_ISIC_CLASSE</th>\n",
       "    </tr>\n",
       "  </thead>\n",
       "  <tbody>\n",
       "    <tr>\n",
       "      <th>0</th>\n",
       "      <td>080121</td>\n",
       "      <td>080121</td>\n",
       "      <td>0125</td>\n",
       "    </tr>\n",
       "    <tr>\n",
       "      <th>1</th>\n",
       "      <td>200830</td>\n",
       "      <td>200830</td>\n",
       "      <td>1030</td>\n",
       "    </tr>\n",
       "    <tr>\n",
       "      <th>2</th>\n",
       "      <td>200911</td>\n",
       "      <td>200911</td>\n",
       "      <td>1030</td>\n",
       "    </tr>\n",
       "    <tr>\n",
       "      <th>3</th>\n",
       "      <td>200912</td>\n",
       "      <td>200912</td>\n",
       "      <td>1030</td>\n",
       "    </tr>\n",
       "    <tr>\n",
       "      <th>4</th>\n",
       "      <td>200912</td>\n",
       "      <td>200912</td>\n",
       "      <td>1030</td>\n",
       "    </tr>\n",
       "    <tr>\n",
       "      <th>...</th>\n",
       "      <td>...</td>\n",
       "      <td>...</td>\n",
       "      <td>...</td>\n",
       "    </tr>\n",
       "    <tr>\n",
       "      <th>2527</th>\n",
       "      <td>980200</td>\n",
       "      <td>NaN</td>\n",
       "      <td>NaN</td>\n",
       "    </tr>\n",
       "    <tr>\n",
       "      <th>2528</th>\n",
       "      <td>980200</td>\n",
       "      <td>NaN</td>\n",
       "      <td>NaN</td>\n",
       "    </tr>\n",
       "    <tr>\n",
       "      <th>2529</th>\n",
       "      <td>980200</td>\n",
       "      <td>NaN</td>\n",
       "      <td>NaN</td>\n",
       "    </tr>\n",
       "    <tr>\n",
       "      <th>2530</th>\n",
       "      <td>981800</td>\n",
       "      <td>NaN</td>\n",
       "      <td>NaN</td>\n",
       "    </tr>\n",
       "    <tr>\n",
       "      <th>2531</th>\n",
       "      <td>981800</td>\n",
       "      <td>NaN</td>\n",
       "      <td>NaN</td>\n",
       "    </tr>\n",
       "  </tbody>\n",
       "</table>\n",
       "<p>2532 rows × 3 columns</p>\n",
       "</div>"
      ],
      "text/plain": [
       "         SH6  CO_SH6 CO_ISIC_CLASSE\n",
       "0     080121  080121           0125\n",
       "1     200830  200830           1030\n",
       "2     200911  200911           1030\n",
       "3     200912  200912           1030\n",
       "4     200912  200912           1030\n",
       "...      ...     ...            ...\n",
       "2527  980200     NaN            NaN\n",
       "2528  980200     NaN            NaN\n",
       "2529  980200     NaN            NaN\n",
       "2530  981800     NaN            NaN\n",
       "2531  981800     NaN            NaN\n",
       "\n",
       "[2532 rows x 3 columns]"
      ]
     },
     "execution_count": 32,
     "metadata": {},
     "output_type": "execute_result"
    }
   ],
   "source": [
    "harmonized[['SH6']].merge(ncm[['CO_SH6','CO_ISIC_CLASSE']], left_on='SH6', right_on='CO_SH6', how='left')"
   ]
  },
  {
   "cell_type": "code",
   "execution_count": null,
   "id": "2787eaee",
   "metadata": {},
   "outputs": [],
   "source": []
  }
 ],
 "metadata": {
  "kernelspec": {
   "display_name": "sandbox",
   "language": "python",
   "name": "python3"
  },
  "language_info": {
   "codemirror_mode": {
    "name": "ipython",
    "version": 3
   },
   "file_extension": ".py",
   "mimetype": "text/x-python",
   "name": "python",
   "nbconvert_exporter": "python",
   "pygments_lexer": "ipython3",
   "version": "3.13.0"
  }
 },
 "nbformat": 4,
 "nbformat_minor": 5
}
