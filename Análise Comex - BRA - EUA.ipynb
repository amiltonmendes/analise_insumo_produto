{
 "cells": [
  {
   "cell_type": "code",
   "execution_count": 1,
   "id": "7b27b675",
   "metadata": {},
   "outputs": [],
   "source": [
    "import pandas as pd"
   ]
  },
  {
   "cell_type": "code",
   "execution_count": 2,
   "id": "ccfccf55",
   "metadata": {},
   "outputs": [],
   "source": [
    "exportacao_geral = pd.read_excel('./dados/comex/H_EXPORTACAO_GERAL_BRASIL_2024.xlsx')"
   ]
  },
  {
   "cell_type": "code",
   "execution_count": 3,
   "id": "7fe5e5cd",
   "metadata": {},
   "outputs": [
    {
     "data": {
      "text/html": [
       "<div>\n",
       "<style scoped>\n",
       "    .dataframe tbody tr th:only-of-type {\n",
       "        vertical-align: middle;\n",
       "    }\n",
       "\n",
       "    .dataframe tbody tr th {\n",
       "        vertical-align: top;\n",
       "    }\n",
       "\n",
       "    .dataframe thead th {\n",
       "        text-align: right;\n",
       "    }\n",
       "</style>\n",
       "<table border=\"1\" class=\"dataframe\">\n",
       "  <thead>\n",
       "    <tr style=\"text-align: right;\">\n",
       "      <th></th>\n",
       "      <th>Código SH4</th>\n",
       "      <th>Descrição SH4</th>\n",
       "      <th>2024 - Valor US$ FOB</th>\n",
       "    </tr>\n",
       "  </thead>\n",
       "  <tbody>\n",
       "    <tr>\n",
       "      <th>0</th>\n",
       "      <td>2709</td>\n",
       "      <td>Óleos brutos de petróleo ou de minerais betumi...</td>\n",
       "      <td>44964285230</td>\n",
       "    </tr>\n",
       "    <tr>\n",
       "      <th>1</th>\n",
       "      <td>1201</td>\n",
       "      <td>Soja, mesmo triturada</td>\n",
       "      <td>42949763522</td>\n",
       "    </tr>\n",
       "    <tr>\n",
       "      <th>2</th>\n",
       "      <td>2601</td>\n",
       "      <td>Minérios de ferro e seus concentrados, incluíd...</td>\n",
       "      <td>29860185978</td>\n",
       "    </tr>\n",
       "    <tr>\n",
       "      <th>3</th>\n",
       "      <td>1701</td>\n",
       "      <td>Açúcares de cana ou de beterraba e sacarose qu...</td>\n",
       "      <td>18601687594</td>\n",
       "    </tr>\n",
       "    <tr>\n",
       "      <th>4</th>\n",
       "      <td>2710</td>\n",
       "      <td>Óleos de petróleo ou de minerais betuminosos, ...</td>\n",
       "      <td>11650603196</td>\n",
       "    </tr>\n",
       "  </tbody>\n",
       "</table>\n",
       "</div>"
      ],
      "text/plain": [
       "   Código SH4                                      Descrição SH4  \\\n",
       "0        2709  Óleos brutos de petróleo ou de minerais betumi...   \n",
       "1        1201                              Soja, mesmo triturada   \n",
       "2        2601  Minérios de ferro e seus concentrados, incluíd...   \n",
       "3        1701  Açúcares de cana ou de beterraba e sacarose qu...   \n",
       "4        2710  Óleos de petróleo ou de minerais betuminosos, ...   \n",
       "\n",
       "   2024 - Valor US$ FOB  \n",
       "0           44964285230  \n",
       "1           42949763522  \n",
       "2           29860185978  \n",
       "3           18601687594  \n",
       "4           11650603196  "
      ]
     },
     "execution_count": 3,
     "metadata": {},
     "output_type": "execute_result"
    }
   ],
   "source": [
    "exportacao_geral.head()"
   ]
  },
  {
   "cell_type": "code",
   "execution_count": 4,
   "id": "25a2abe7",
   "metadata": {},
   "outputs": [],
   "source": [
    "exportacao_usa = pd.read_excel('./dados/comex/H_EXPORTACAO_USA_BRA_2024.xlsx')"
   ]
  },
  {
   "cell_type": "code",
   "execution_count": 6,
   "id": "4fb58d4f",
   "metadata": {},
   "outputs": [
    {
     "data": {
      "text/html": [
       "<div>\n",
       "<style scoped>\n",
       "    .dataframe tbody tr th:only-of-type {\n",
       "        vertical-align: middle;\n",
       "    }\n",
       "\n",
       "    .dataframe tbody tr th {\n",
       "        vertical-align: top;\n",
       "    }\n",
       "\n",
       "    .dataframe thead th {\n",
       "        text-align: right;\n",
       "    }\n",
       "</style>\n",
       "<table border=\"1\" class=\"dataframe\">\n",
       "  <thead>\n",
       "    <tr style=\"text-align: right;\">\n",
       "      <th></th>\n",
       "      <th>Código SH4</th>\n",
       "      <th>Descrição SH4</th>\n",
       "      <th>Países</th>\n",
       "      <th>2024 - Valor US$ FOB</th>\n",
       "    </tr>\n",
       "  </thead>\n",
       "  <tbody>\n",
       "    <tr>\n",
       "      <th>0</th>\n",
       "      <td>2709</td>\n",
       "      <td>Óleos brutos de petróleo ou de minerais betumi...</td>\n",
       "      <td>Estados Unidos</td>\n",
       "      <td>5830983860</td>\n",
       "    </tr>\n",
       "    <tr>\n",
       "      <th>1</th>\n",
       "      <td>7207</td>\n",
       "      <td>Produtos semimanufacturados de ferro ou aço nã...</td>\n",
       "      <td>Estados Unidos</td>\n",
       "      <td>2802772226</td>\n",
       "    </tr>\n",
       "  </tbody>\n",
       "</table>\n",
       "</div>"
      ],
      "text/plain": [
       "   Código SH4                                      Descrição SH4  \\\n",
       "0        2709  Óleos brutos de petróleo ou de minerais betumi...   \n",
       "1        7207  Produtos semimanufacturados de ferro ou aço nã...   \n",
       "\n",
       "           Países  2024 - Valor US$ FOB  \n",
       "0  Estados Unidos            5830983860  \n",
       "1  Estados Unidos            2802772226  "
      ]
     },
     "execution_count": 6,
     "metadata": {},
     "output_type": "execute_result"
    }
   ],
   "source": [
    "exportacao_usa.head(2)"
   ]
  },
  {
   "cell_type": "code",
   "execution_count": 19,
   "id": "ee0fb99d",
   "metadata": {},
   "outputs": [],
   "source": [
    "mapeamento = pd.read_excel('./dados/mapeamento/PRODLIST Ind 2022 x NCM 2022.xlsx')"
   ]
  },
  {
   "cell_type": "code",
   "execution_count": 20,
   "id": "ebc8a47d",
   "metadata": {},
   "outputs": [
    {
     "data": {
      "text/html": [
       "<div>\n",
       "<style scoped>\n",
       "    .dataframe tbody tr th:only-of-type {\n",
       "        vertical-align: middle;\n",
       "    }\n",
       "\n",
       "    .dataframe tbody tr th {\n",
       "        vertical-align: top;\n",
       "    }\n",
       "\n",
       "    .dataframe thead th {\n",
       "        text-align: right;\n",
       "    }\n",
       "</style>\n",
       "<table border=\"1\" class=\"dataframe\">\n",
       "  <thead>\n",
       "    <tr style=\"text-align: right;\">\n",
       "      <th></th>\n",
       "      <th>PRODLIST-Ind 2022</th>\n",
       "      <th>NCM 2022 (SET/2022)</th>\n",
       "    </tr>\n",
       "  </thead>\n",
       "  <tbody>\n",
       "    <tr>\n",
       "      <th>0</th>\n",
       "      <td>0500.2010</td>\n",
       "      <td>2701.19.00</td>\n",
       "    </tr>\n",
       "    <tr>\n",
       "      <th>1</th>\n",
       "      <td>0500.2030</td>\n",
       "      <td>2701.11.00</td>\n",
       "    </tr>\n",
       "  </tbody>\n",
       "</table>\n",
       "</div>"
      ],
      "text/plain": [
       "  PRODLIST-Ind 2022 NCM 2022 (SET/2022)\n",
       "0         0500.2010          2701.19.00\n",
       "1         0500.2030          2701.11.00"
      ]
     },
     "execution_count": 20,
     "metadata": {},
     "output_type": "execute_result"
    }
   ],
   "source": [
    "mapeamento.head(2)"
   ]
  },
  {
   "cell_type": "code",
   "execution_count": 23,
   "id": "eed58d2e",
   "metadata": {},
   "outputs": [],
   "source": [
    "mapeamento['prodlist 4d'] = mapeamento['PRODLIST-Ind 2022'].str[0:4]\n",
    "mapeamento['NCM 4d'] = mapeamento['NCM 2022 (SET/2022)'].str[0:4]"
   ]
  },
  {
   "cell_type": "code",
   "execution_count": 24,
   "id": "348876e8",
   "metadata": {},
   "outputs": [
    {
     "data": {
      "text/html": [
       "<div>\n",
       "<style scoped>\n",
       "    .dataframe tbody tr th:only-of-type {\n",
       "        vertical-align: middle;\n",
       "    }\n",
       "\n",
       "    .dataframe tbody tr th {\n",
       "        vertical-align: top;\n",
       "    }\n",
       "\n",
       "    .dataframe thead th {\n",
       "        text-align: right;\n",
       "    }\n",
       "</style>\n",
       "<table border=\"1\" class=\"dataframe\">\n",
       "  <thead>\n",
       "    <tr style=\"text-align: right;\">\n",
       "      <th></th>\n",
       "      <th>PRODLIST-Ind 2022</th>\n",
       "      <th>NCM 2022 (SET/2022)</th>\n",
       "      <th>prodlist 4d</th>\n",
       "      <th>NCM 4d</th>\n",
       "    </tr>\n",
       "  </thead>\n",
       "  <tbody>\n",
       "    <tr>\n",
       "      <th>0</th>\n",
       "      <td>0500.2010</td>\n",
       "      <td>2701.19.00</td>\n",
       "      <td>0500</td>\n",
       "      <td>2701</td>\n",
       "    </tr>\n",
       "    <tr>\n",
       "      <th>1</th>\n",
       "      <td>0500.2030</td>\n",
       "      <td>2701.11.00</td>\n",
       "      <td>0500</td>\n",
       "      <td>2701</td>\n",
       "    </tr>\n",
       "    <tr>\n",
       "      <th>2</th>\n",
       "      <td>0500.2030</td>\n",
       "      <td>2701.12.00</td>\n",
       "      <td>0500</td>\n",
       "      <td>2701</td>\n",
       "    </tr>\n",
       "    <tr>\n",
       "      <th>3</th>\n",
       "      <td>0500.2030</td>\n",
       "      <td>2701.19.00</td>\n",
       "      <td>0500</td>\n",
       "      <td>2701</td>\n",
       "    </tr>\n",
       "    <tr>\n",
       "      <th>4</th>\n",
       "      <td>0500.2030</td>\n",
       "      <td>2702.10.00</td>\n",
       "      <td>0500</td>\n",
       "      <td>2702</td>\n",
       "    </tr>\n",
       "  </tbody>\n",
       "</table>\n",
       "</div>"
      ],
      "text/plain": [
       "  PRODLIST-Ind 2022 NCM 2022 (SET/2022) prodlist 4d NCM 4d\n",
       "0         0500.2010          2701.19.00        0500   2701\n",
       "1         0500.2030          2701.11.00        0500   2701\n",
       "2         0500.2030          2701.12.00        0500   2701\n",
       "3         0500.2030          2701.19.00        0500   2701\n",
       "4         0500.2030          2702.10.00        0500   2702"
      ]
     },
     "execution_count": 24,
     "metadata": {},
     "output_type": "execute_result"
    }
   ],
   "source": [
    "mapeamento.head()"
   ]
  },
  {
   "cell_type": "code",
   "execution_count": 13,
   "id": "36ecc111",
   "metadata": {},
   "outputs": [],
   "source": [
    "df_participacao = exportacao_geral.copy().merge(exportacao_usa.copy().drop(['Descrição SH4','Países'],axis=1).rename(columns={'2024 - Valor US$ FOB': 'Valor FOB USA'}), on='Código SH4')\n",
    "\n"
   ]
  },
  {
   "cell_type": "code",
   "execution_count": 14,
   "id": "5d63e555",
   "metadata": {},
   "outputs": [],
   "source": [
    "df_participacao['Participação USA'] = df_participacao['Valor FOB USA'] / df_participacao['2024 - Valor US$ FOB']"
   ]
  },
  {
   "cell_type": "code",
   "execution_count": 16,
   "id": "28a179f1",
   "metadata": {},
   "outputs": [],
   "source": [
    "df_participacao.sort_values(by='Participação USA', ascending=False, inplace=True)"
   ]
  },
  {
   "cell_type": "code",
   "execution_count": 18,
   "id": "aa32da6d",
   "metadata": {},
   "outputs": [
    {
     "data": {
      "text/html": [
       "<div>\n",
       "<style scoped>\n",
       "    .dataframe tbody tr th:only-of-type {\n",
       "        vertical-align: middle;\n",
       "    }\n",
       "\n",
       "    .dataframe tbody tr th {\n",
       "        vertical-align: top;\n",
       "    }\n",
       "\n",
       "    .dataframe thead th {\n",
       "        text-align: right;\n",
       "    }\n",
       "</style>\n",
       "<table border=\"1\" class=\"dataframe\">\n",
       "  <thead>\n",
       "    <tr style=\"text-align: right;\">\n",
       "      <th></th>\n",
       "      <th>Código SH4</th>\n",
       "      <th>Descrição SH4</th>\n",
       "      <th>2024 - Valor US$ FOB</th>\n",
       "      <th>Valor FOB USA</th>\n",
       "      <th>Participação USA</th>\n",
       "    </tr>\n",
       "  </thead>\n",
       "  <tbody>\n",
       "    <tr>\n",
       "      <th>1045</th>\n",
       "      <td>3706</td>\n",
       "      <td>Filmes cinematográficos impressionados e revel...</td>\n",
       "      <td>1000</td>\n",
       "      <td>1000</td>\n",
       "      <td>1.000000</td>\n",
       "    </tr>\n",
       "    <tr>\n",
       "      <th>1050</th>\n",
       "      <td>5904</td>\n",
       "      <td>Linóleos, mesmo recortados; revestimentos para...</td>\n",
       "      <td>45</td>\n",
       "      <td>45</td>\n",
       "      <td>1.000000</td>\n",
       "    </tr>\n",
       "    <tr>\n",
       "      <th>1049</th>\n",
       "      <td>3704</td>\n",
       "      <td>Chapas, filmes, papéis, cartões e têxteis, fot...</td>\n",
       "      <td>160</td>\n",
       "      <td>160</td>\n",
       "      <td>1.000000</td>\n",
       "    </tr>\n",
       "    <tr>\n",
       "      <th>1017</th>\n",
       "      <td>502</td>\n",
       "      <td>Cerdas de porco ou de javali; pêlos de texugo ...</td>\n",
       "      <td>27852</td>\n",
       "      <td>27845</td>\n",
       "      <td>0.999749</td>\n",
       "    </tr>\n",
       "    <tr>\n",
       "      <th>980</th>\n",
       "      <td>905</td>\n",
       "      <td>Baunilha</td>\n",
       "      <td>124591</td>\n",
       "      <td>124211</td>\n",
       "      <td>0.996950</td>\n",
       "    </tr>\n",
       "    <tr>\n",
       "      <th>757</th>\n",
       "      <td>9601</td>\n",
       "      <td>Marfim, osso, carapaça de tartaruga, chifre, p...</td>\n",
       "      <td>2042584</td>\n",
       "      <td>2016505</td>\n",
       "      <td>0.987232</td>\n",
       "    </tr>\n",
       "    <tr>\n",
       "      <th>1043</th>\n",
       "      <td>9705</td>\n",
       "      <td>Coleções e espécimes para coleções, de zoologi...</td>\n",
       "      <td>2012</td>\n",
       "      <td>1962</td>\n",
       "      <td>0.975149</td>\n",
       "    </tr>\n",
       "    <tr>\n",
       "      <th>1034</th>\n",
       "      <td>5403</td>\n",
       "      <td>Fios de filamentos artificiais (exceto linhas ...</td>\n",
       "      <td>9387</td>\n",
       "      <td>9118</td>\n",
       "      <td>0.971343</td>\n",
       "    </tr>\n",
       "    <tr>\n",
       "      <th>819</th>\n",
       "      <td>9706</td>\n",
       "      <td>Antiguidades com mais de 100 anos</td>\n",
       "      <td>1220717</td>\n",
       "      <td>1183231</td>\n",
       "      <td>0.969292</td>\n",
       "    </tr>\n",
       "    <tr>\n",
       "      <th>483</th>\n",
       "      <td>8472</td>\n",
       "      <td>Outras máquinas e aparelhos de escritório [por...</td>\n",
       "      <td>16510918</td>\n",
       "      <td>15918683</td>\n",
       "      <td>0.964131</td>\n",
       "    </tr>\n",
       "  </tbody>\n",
       "</table>\n",
       "</div>"
      ],
      "text/plain": [
       "      Código SH4                                      Descrição SH4  \\\n",
       "1045        3706  Filmes cinematográficos impressionados e revel...   \n",
       "1050        5904  Linóleos, mesmo recortados; revestimentos para...   \n",
       "1049        3704  Chapas, filmes, papéis, cartões e têxteis, fot...   \n",
       "1017         502  Cerdas de porco ou de javali; pêlos de texugo ...   \n",
       "980          905                                           Baunilha   \n",
       "757         9601  Marfim, osso, carapaça de tartaruga, chifre, p...   \n",
       "1043        9705  Coleções e espécimes para coleções, de zoologi...   \n",
       "1034        5403  Fios de filamentos artificiais (exceto linhas ...   \n",
       "819         9706                  Antiguidades com mais de 100 anos   \n",
       "483         8472  Outras máquinas e aparelhos de escritório [por...   \n",
       "\n",
       "      2024 - Valor US$ FOB  Valor FOB USA  Participação USA  \n",
       "1045                  1000           1000          1.000000  \n",
       "1050                    45             45          1.000000  \n",
       "1049                   160            160          1.000000  \n",
       "1017                 27852          27845          0.999749  \n",
       "980                 124591         124211          0.996950  \n",
       "757                2042584        2016505          0.987232  \n",
       "1043                  2012           1962          0.975149  \n",
       "1034                  9387           9118          0.971343  \n",
       "819                1220717        1183231          0.969292  \n",
       "483               16510918       15918683          0.964131  "
      ]
     },
     "execution_count": 18,
     "metadata": {},
     "output_type": "execute_result"
    }
   ],
   "source": [
    "df_participacao.head(10)"
   ]
  }
 ],
 "metadata": {
  "kernelspec": {
   "display_name": "Mip",
   "language": "python",
   "name": "python3"
  },
  "language_info": {
   "codemirror_mode": {
    "name": "ipython",
    "version": 3
   },
   "file_extension": ".py",
   "mimetype": "text/x-python",
   "name": "python",
   "nbconvert_exporter": "python",
   "pygments_lexer": "ipython3",
   "version": "3.13.2"
  }
 },
 "nbformat": 4,
 "nbformat_minor": 5
}
