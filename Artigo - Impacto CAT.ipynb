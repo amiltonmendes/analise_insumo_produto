{
 "cells": [
  {
   "cell_type": "code",
   "execution_count": 1,
   "id": "cd7452dc",
   "metadata": {},
   "outputs": [],
   "source": [
    "import pandas as pd"
   ]
  },
  {
   "cell_type": "code",
   "execution_count": 2,
   "id": "a1854b2f",
   "metadata": {},
   "outputs": [],
   "source": [
    "importacoes_mundo_2023 = pd.read_excel('./dados/comex/Importação Mundo 2024 NCM.xlsx',dtype={'Código NCM':str})\n"
   ]
  },
  {
   "cell_type": "code",
   "execution_count": 8,
   "id": "d333f24a",
   "metadata": {},
   "outputs": [
    {
     "data": {
      "application/vnd.microsoft.datawrangler.viewer.v0+json": {
       "columns": [
        {
         "name": "index",
         "rawType": "int64",
         "type": "integer"
        },
        {
         "name": "Código NCM",
         "rawType": "object",
         "type": "string"
        },
        {
         "name": "Descrição NCM",
         "rawType": "object",
         "type": "string"
        },
        {
         "name": "2024 - Valor US$ FOB",
         "rawType": "int64",
         "type": "integer"
        }
       ],
       "ref": "e478ff45-f00b-4f22-a843-63eda2266798",
       "rows": [
        [
         "0",
         "27090010",
         "Óleos brutos de petróleo",
         "8690210062"
        ],
        [
         "1",
         "27101921",
         "Gasóleo (óleo diesel)",
         "8359492092"
        ],
        [
         "2",
         "84119100",
         "Partes de turborreatores ou de turbopropulsores",
         "4837676499"
        ],
        [
         "3",
         "31042090",
         "Outros cloretos de potássio",
         "3606983824"
        ],
        [
         "4",
         "84111200",
         "Turborreatores de empuxo superior a 25 kN",
         "3418099488"
        ]
       ],
       "shape": {
        "columns": 3,
        "rows": 5
       }
      },
      "text/html": [
       "<div>\n",
       "<style scoped>\n",
       "    .dataframe tbody tr th:only-of-type {\n",
       "        vertical-align: middle;\n",
       "    }\n",
       "\n",
       "    .dataframe tbody tr th {\n",
       "        vertical-align: top;\n",
       "    }\n",
       "\n",
       "    .dataframe thead th {\n",
       "        text-align: right;\n",
       "    }\n",
       "</style>\n",
       "<table border=\"1\" class=\"dataframe\">\n",
       "  <thead>\n",
       "    <tr style=\"text-align: right;\">\n",
       "      <th></th>\n",
       "      <th>Código NCM</th>\n",
       "      <th>Descrição NCM</th>\n",
       "      <th>2024 - Valor US$ FOB</th>\n",
       "    </tr>\n",
       "  </thead>\n",
       "  <tbody>\n",
       "    <tr>\n",
       "      <th>0</th>\n",
       "      <td>27090010</td>\n",
       "      <td>Óleos brutos de petróleo</td>\n",
       "      <td>8690210062</td>\n",
       "    </tr>\n",
       "    <tr>\n",
       "      <th>1</th>\n",
       "      <td>27101921</td>\n",
       "      <td>Gasóleo (óleo diesel)</td>\n",
       "      <td>8359492092</td>\n",
       "    </tr>\n",
       "    <tr>\n",
       "      <th>2</th>\n",
       "      <td>84119100</td>\n",
       "      <td>Partes de turborreatores ou de turbopropulsores</td>\n",
       "      <td>4837676499</td>\n",
       "    </tr>\n",
       "    <tr>\n",
       "      <th>3</th>\n",
       "      <td>31042090</td>\n",
       "      <td>Outros cloretos de potássio</td>\n",
       "      <td>3606983824</td>\n",
       "    </tr>\n",
       "    <tr>\n",
       "      <th>4</th>\n",
       "      <td>84111200</td>\n",
       "      <td>Turborreatores de empuxo superior a 25 kN</td>\n",
       "      <td>3418099488</td>\n",
       "    </tr>\n",
       "  </tbody>\n",
       "</table>\n",
       "</div>"
      ],
      "text/plain": [
       "  Código NCM                                    Descrição NCM  \\\n",
       "0   27090010                         Óleos brutos de petróleo   \n",
       "1   27101921                            Gasóleo (óleo diesel)   \n",
       "2   84119100  Partes de turborreatores ou de turbopropulsores   \n",
       "3   31042090                      Outros cloretos de potássio   \n",
       "4   84111200        Turborreatores de empuxo superior a 25 kN   \n",
       "\n",
       "   2024 - Valor US$ FOB  \n",
       "0            8690210062  \n",
       "1            8359492092  \n",
       "2            4837676499  \n",
       "3            3606983824  \n",
       "4            3418099488  "
      ]
     },
     "execution_count": 8,
     "metadata": {},
     "output_type": "execute_result"
    }
   ],
   "source": [
    "importacoes_mundo_2023.head()"
   ]
  },
  {
   "cell_type": "code",
   "execution_count": 5,
   "id": "df7b739c",
   "metadata": {},
   "outputs": [],
   "source": [
    "tradutor_ncm = pd.read_excel('./dados/mip/TradutorNCM.xls', dtype={'Código NCM': str, 'Código Produto': str})"
   ]
  },
  {
   "cell_type": "code",
   "execution_count": 12,
   "id": "6889c82c",
   "metadata": {},
   "outputs": [],
   "source": [
    "importacoes_mapeadas_scn = importacoes_mundo_2023.merge(tradutor_ncm.drop('Nome NCM',axis=1), how='left', left_on='Código NCM', right_on='Código NCM', suffixes=('', '_tradutor'), validate='1:1',indicator=True)"
   ]
  },
  {
   "cell_type": "code",
   "execution_count": 17,
   "id": "bb00fb7d",
   "metadata": {},
   "outputs": [],
   "source": [
    "importacoes_nao_mapeadas = importacoes_mapeadas_scn.query('_merge == \"left_only\"')"
   ]
  },
  {
   "cell_type": "code",
   "execution_count": 20,
   "id": "ed5bb3e2",
   "metadata": {},
   "outputs": [],
   "source": [
    "lista_posicao_nao_mapeadas = importacoes_nao_mapeadas['Código NCM'].str[0:4].drop_duplicates().to_list()"
   ]
  },
  {
   "cell_type": "code",
   "execution_count": 23,
   "id": "df9c0872",
   "metadata": {},
   "outputs": [],
   "source": [
    "importacoes_mapeadas_scn['Posicao NCM'] = importacoes_mapeadas_scn['Código NCM'].str[0:4]\n"
   ]
  },
  {
   "cell_type": "code",
   "execution_count": 26,
   "id": "40ae2301",
   "metadata": {},
   "outputs": [
    {
     "data": {
      "application/vnd.microsoft.datawrangler.viewer.v0+json": {
       "columns": [
        {
         "name": "index",
         "rawType": "int64",
         "type": "integer"
        },
        {
         "name": "Posicao NCM",
         "rawType": "object",
         "type": "string"
        },
        {
         "name": "Código Produto",
         "rawType": "object",
         "type": "string"
        },
        {
         "name": "Descrição Produto",
         "rawType": "object",
         "type": "string"
        }
       ],
       "ref": "4277ebd5-ebcb-4200-a904-d363afe3b0fd",
       "rows": [
        [
         "2449",
         "0207",
         "10913",
         "Carne de aves"
        ],
        [
         "4461",
         "2404",
         "12001",
         "Produtos do fumo"
        ],
        [
         "1275",
         "3207",
         "20923",
         "Tintas, vernizes, esmaltes e lacas"
        ],
        [
         "194",
         "3824",
         "20922",
         "Produtos químicos diversos "
        ],
        [
         "1620",
         "3824",
         "20921",
         "Defensivos agrícolas e desinfestantes domissanitários"
        ],
        [
         "2336",
         "3824",
         "20912",
         "Adubos e fertilizantes"
        ],
        [
         "5744",
         "3824",
         "23002",
         "Artefatos de cimento, gesso e semelhantes"
        ],
        [
         "1891",
         "3827",
         "20922",
         "Produtos químicos diversos "
        ],
        [
         "411",
         "3906",
         "20914",
         "Resinas,elastômeros e fibras artif. e sintéticas"
        ],
        [
         "802",
         "4811",
         "17002",
         "Papel, papelão, embalagens e artefatos de papel"
        ],
        [
         "338",
         "5510",
         "13001",
         "Fios e fibras têxteis beneficiadas"
        ],
        [
         "1231",
         "7315",
         "28003",
         "Outras máquinas e equipamentos mecânicos"
        ],
        [
         "1536",
         "7315",
         "25001",
         "Produtos de metal, excl. máquinas e equipamentos"
        ],
        [
         "37",
         "8504",
         "27001",
         "Máquinas, aparelhos e materiais elétricos"
        ]
       ],
       "shape": {
        "columns": 3,
        "rows": 14
       }
      },
      "text/html": [
       "<div>\n",
       "<style scoped>\n",
       "    .dataframe tbody tr th:only-of-type {\n",
       "        vertical-align: middle;\n",
       "    }\n",
       "\n",
       "    .dataframe tbody tr th {\n",
       "        vertical-align: top;\n",
       "    }\n",
       "\n",
       "    .dataframe thead th {\n",
       "        text-align: right;\n",
       "    }\n",
       "</style>\n",
       "<table border=\"1\" class=\"dataframe\">\n",
       "  <thead>\n",
       "    <tr style=\"text-align: right;\">\n",
       "      <th></th>\n",
       "      <th>Posicao NCM</th>\n",
       "      <th>Código Produto</th>\n",
       "      <th>Descrição Produto</th>\n",
       "    </tr>\n",
       "  </thead>\n",
       "  <tbody>\n",
       "    <tr>\n",
       "      <th>2449</th>\n",
       "      <td>0207</td>\n",
       "      <td>10913</td>\n",
       "      <td>Carne de aves</td>\n",
       "    </tr>\n",
       "    <tr>\n",
       "      <th>4461</th>\n",
       "      <td>2404</td>\n",
       "      <td>12001</td>\n",
       "      <td>Produtos do fumo</td>\n",
       "    </tr>\n",
       "    <tr>\n",
       "      <th>1275</th>\n",
       "      <td>3207</td>\n",
       "      <td>20923</td>\n",
       "      <td>Tintas, vernizes, esmaltes e lacas</td>\n",
       "    </tr>\n",
       "    <tr>\n",
       "      <th>194</th>\n",
       "      <td>3824</td>\n",
       "      <td>20922</td>\n",
       "      <td>Produtos químicos diversos</td>\n",
       "    </tr>\n",
       "    <tr>\n",
       "      <th>1620</th>\n",
       "      <td>3824</td>\n",
       "      <td>20921</td>\n",
       "      <td>Defensivos agrícolas e desinfestantes domissan...</td>\n",
       "    </tr>\n",
       "    <tr>\n",
       "      <th>2336</th>\n",
       "      <td>3824</td>\n",
       "      <td>20912</td>\n",
       "      <td>Adubos e fertilizantes</td>\n",
       "    </tr>\n",
       "    <tr>\n",
       "      <th>5744</th>\n",
       "      <td>3824</td>\n",
       "      <td>23002</td>\n",
       "      <td>Artefatos de cimento, gesso e semelhantes</td>\n",
       "    </tr>\n",
       "    <tr>\n",
       "      <th>1891</th>\n",
       "      <td>3827</td>\n",
       "      <td>20922</td>\n",
       "      <td>Produtos químicos diversos</td>\n",
       "    </tr>\n",
       "    <tr>\n",
       "      <th>411</th>\n",
       "      <td>3906</td>\n",
       "      <td>20914</td>\n",
       "      <td>Resinas,elastômeros e fibras artif. e sintéticas</td>\n",
       "    </tr>\n",
       "    <tr>\n",
       "      <th>802</th>\n",
       "      <td>4811</td>\n",
       "      <td>17002</td>\n",
       "      <td>Papel, papelão, embalagens e artefatos de papel</td>\n",
       "    </tr>\n",
       "    <tr>\n",
       "      <th>338</th>\n",
       "      <td>5510</td>\n",
       "      <td>13001</td>\n",
       "      <td>Fios e fibras têxteis beneficiadas</td>\n",
       "    </tr>\n",
       "    <tr>\n",
       "      <th>1231</th>\n",
       "      <td>7315</td>\n",
       "      <td>28003</td>\n",
       "      <td>Outras máquinas e equipamentos mecânicos</td>\n",
       "    </tr>\n",
       "    <tr>\n",
       "      <th>1536</th>\n",
       "      <td>7315</td>\n",
       "      <td>25001</td>\n",
       "      <td>Produtos de metal, excl. máquinas e equipamentos</td>\n",
       "    </tr>\n",
       "    <tr>\n",
       "      <th>37</th>\n",
       "      <td>8504</td>\n",
       "      <td>27001</td>\n",
       "      <td>Máquinas, aparelhos e materiais elétricos</td>\n",
       "    </tr>\n",
       "  </tbody>\n",
       "</table>\n",
       "</div>"
      ],
      "text/plain": [
       "     Posicao NCM Código Produto  \\\n",
       "2449        0207          10913   \n",
       "4461        2404          12001   \n",
       "1275        3207          20923   \n",
       "194         3824          20922   \n",
       "1620        3824          20921   \n",
       "2336        3824          20912   \n",
       "5744        3824          23002   \n",
       "1891        3827          20922   \n",
       "411         3906          20914   \n",
       "802         4811          17002   \n",
       "338         5510          13001   \n",
       "1231        7315          28003   \n",
       "1536        7315          25001   \n",
       "37          8504          27001   \n",
       "\n",
       "                                      Descrição Produto  \n",
       "2449                                      Carne de aves  \n",
       "4461                                   Produtos do fumo  \n",
       "1275                 Tintas, vernizes, esmaltes e lacas  \n",
       "194                         Produtos químicos diversos   \n",
       "1620  Defensivos agrícolas e desinfestantes domissan...  \n",
       "2336                             Adubos e fertilizantes  \n",
       "5744          Artefatos de cimento, gesso e semelhantes  \n",
       "1891                        Produtos químicos diversos   \n",
       "411    Resinas,elastômeros e fibras artif. e sintéticas  \n",
       "802     Papel, papelão, embalagens e artefatos de papel  \n",
       "338                  Fios e fibras têxteis beneficiadas  \n",
       "1231           Outras máquinas e equipamentos mecânicos  \n",
       "1536   Produtos de metal, excl. máquinas e equipamentos  \n",
       "37            Máquinas, aparelhos e materiais elétricos  "
      ]
     },
     "execution_count": 26,
     "metadata": {},
     "output_type": "execute_result"
    }
   ],
   "source": [
    "importacoes_mapeadas_scn.query('_merge == \"both\"').query('`Posicao NCM`.isin(@lista_posicao_nao_mapeadas)')[['Posicao NCM','Código Produto', 'Descrição Produto']].drop_duplicates().sort_values(by='Posicao NCM')"
   ]
  },
  {
   "cell_type": "code",
   "execution_count": 34,
   "id": "08dd3b2f",
   "metadata": {},
   "outputs": [],
   "source": [
    "substituicao_valores_nulos = importacoes_mapeadas_scn.query('_merge == \"both\"').query('`Posicao NCM`.isin(@lista_posicao_nao_mapeadas)')[['Posicao NCM','Código Produto', 'Descrição Produto']].drop_duplicates().query('`Posicao NCM` not in [\"3824\",\"7315\"]')"
   ]
  },
  {
   "cell_type": "code",
   "execution_count": 29,
   "id": "8b7b79d2",
   "metadata": {},
   "outputs": [
    {
     "data": {
      "application/vnd.microsoft.datawrangler.viewer.v0+json": {
       "columns": [
        {
         "name": "index",
         "rawType": "int64",
         "type": "integer"
        },
        {
         "name": "Código NCM",
         "rawType": "object",
         "type": "string"
        },
        {
         "name": "Descrição NCM",
         "rawType": "object",
         "type": "string"
        },
        {
         "name": "2024 - Valor US$ FOB",
         "rawType": "int64",
         "type": "integer"
        },
        {
         "name": "Código Produto",
         "rawType": "object",
         "type": "unknown"
        },
        {
         "name": "Descrição Produto",
         "rawType": "object",
         "type": "unknown"
        },
        {
         "name": "_merge",
         "rawType": "category",
         "type": "unknown"
        },
        {
         "name": "Posicao NCM",
         "rawType": "object",
         "type": "string"
        }
       ],
       "ref": "f1282f6b-625a-4bf3-bdec-cf96aca928f8",
       "rows": [
        [
         "3189",
         "38249961",
         "Contrastes para exames de diagnóstico por imagens de ressonância magnética ou de ecografia, à base de gadobenato de dimeglumina, de gadobutrol, de gadopentetato de dimeglumina, de gadoterato de meglumina, de gadoteridol ou de gadoxetato dissódico.",
         "5624560",
         null,
         null,
         "left_only",
         "3824"
        ],
        [
         "7856",
         "38249969",
         "Outros contrastes para exames de diagnóstico por imagens de ressonância magnética ou de ecografia",
         "22508",
         null,
         null,
         "left_only",
         "3824"
        ]
       ],
       "shape": {
        "columns": 7,
        "rows": 2
       }
      },
      "text/html": [
       "<div>\n",
       "<style scoped>\n",
       "    .dataframe tbody tr th:only-of-type {\n",
       "        vertical-align: middle;\n",
       "    }\n",
       "\n",
       "    .dataframe tbody tr th {\n",
       "        vertical-align: top;\n",
       "    }\n",
       "\n",
       "    .dataframe thead th {\n",
       "        text-align: right;\n",
       "    }\n",
       "</style>\n",
       "<table border=\"1\" class=\"dataframe\">\n",
       "  <thead>\n",
       "    <tr style=\"text-align: right;\">\n",
       "      <th></th>\n",
       "      <th>Código NCM</th>\n",
       "      <th>Descrição NCM</th>\n",
       "      <th>2024 - Valor US$ FOB</th>\n",
       "      <th>Código Produto</th>\n",
       "      <th>Descrição Produto</th>\n",
       "      <th>_merge</th>\n",
       "      <th>Posicao NCM</th>\n",
       "    </tr>\n",
       "  </thead>\n",
       "  <tbody>\n",
       "    <tr>\n",
       "      <th>3189</th>\n",
       "      <td>38249961</td>\n",
       "      <td>Contrastes para exames de diagnóstico por imag...</td>\n",
       "      <td>5624560</td>\n",
       "      <td>NaN</td>\n",
       "      <td>NaN</td>\n",
       "      <td>left_only</td>\n",
       "      <td>3824</td>\n",
       "    </tr>\n",
       "    <tr>\n",
       "      <th>7856</th>\n",
       "      <td>38249969</td>\n",
       "      <td>Outros contrastes para exames de diagnóstico p...</td>\n",
       "      <td>22508</td>\n",
       "      <td>NaN</td>\n",
       "      <td>NaN</td>\n",
       "      <td>left_only</td>\n",
       "      <td>3824</td>\n",
       "    </tr>\n",
       "  </tbody>\n",
       "</table>\n",
       "</div>"
      ],
      "text/plain": [
       "     Código NCM                                      Descrição NCM  \\\n",
       "3189   38249961  Contrastes para exames de diagnóstico por imag...   \n",
       "7856   38249969  Outros contrastes para exames de diagnóstico p...   \n",
       "\n",
       "      2024 - Valor US$ FOB Código Produto Descrição Produto     _merge  \\\n",
       "3189               5624560            NaN               NaN  left_only   \n",
       "7856                 22508            NaN               NaN  left_only   \n",
       "\n",
       "     Posicao NCM  \n",
       "3189        3824  \n",
       "7856        3824  "
      ]
     },
     "execution_count": 29,
     "metadata": {},
     "output_type": "execute_result"
    }
   ],
   "source": [
    "importacoes_mapeadas_scn.query(\"_merge == 'left_only'\").query('`Posicao NCM` == \"3824\"').head()"
   ]
  },
  {
   "cell_type": "code",
   "execution_count": 37,
   "id": "f872159f",
   "metadata": {},
   "outputs": [],
   "source": [
    "substituicao_valores_nulos = pd.concat([substituicao_valores_nulos, importacoes_mapeadas_scn.query('_merge == \"both\"').query('`Posicao NCM`.isin(@lista_posicao_nao_mapeadas)')[['Posicao NCM','Código Produto', 'Descrição Produto']].drop_duplicates().query('`Posicao NCM` == \"3824\" and `Código Produto` == \"20922\"')])"
   ]
  },
  {
   "cell_type": "code",
   "execution_count": 30,
   "id": "eb925749",
   "metadata": {},
   "outputs": [
    {
     "data": {
      "application/vnd.microsoft.datawrangler.viewer.v0+json": {
       "columns": [
        {
         "name": "index",
         "rawType": "int64",
         "type": "integer"
        },
        {
         "name": "Código NCM",
         "rawType": "object",
         "type": "string"
        },
        {
         "name": "Descrição NCM",
         "rawType": "object",
         "type": "string"
        },
        {
         "name": "2024 - Valor US$ FOB",
         "rawType": "int64",
         "type": "integer"
        },
        {
         "name": "Código Produto",
         "rawType": "object",
         "type": "unknown"
        },
        {
         "name": "Descrição Produto",
         "rawType": "object",
         "type": "unknown"
        },
        {
         "name": "_merge",
         "rawType": "category",
         "type": "unknown"
        },
        {
         "name": "Posicao NCM",
         "rawType": "object",
         "type": "string"
        }
       ],
       "ref": "08dfa1ae-e09a-4745-8410-dce24b83c41e",
       "rows": [
        [
         "2852",
         "73151190",
         "Outras correntes de rolos",
         "7278774",
         null,
         null,
         "left_only",
         "7315"
        ],
        [
         "4236",
         "73151110",
         "Correntes de rolos do tipo utilizado em bicicletas, com passo de 12,7 mm (1/2\") e largura interna igual ou superior a 1,98 mm (5/64\"), mas inferior ou igual a 3,17 mm (1/8\")",
         "2429625",
         null,
         null,
         "left_only",
         "7315"
        ]
       ],
       "shape": {
        "columns": 7,
        "rows": 2
       }
      },
      "text/html": [
       "<div>\n",
       "<style scoped>\n",
       "    .dataframe tbody tr th:only-of-type {\n",
       "        vertical-align: middle;\n",
       "    }\n",
       "\n",
       "    .dataframe tbody tr th {\n",
       "        vertical-align: top;\n",
       "    }\n",
       "\n",
       "    .dataframe thead th {\n",
       "        text-align: right;\n",
       "    }\n",
       "</style>\n",
       "<table border=\"1\" class=\"dataframe\">\n",
       "  <thead>\n",
       "    <tr style=\"text-align: right;\">\n",
       "      <th></th>\n",
       "      <th>Código NCM</th>\n",
       "      <th>Descrição NCM</th>\n",
       "      <th>2024 - Valor US$ FOB</th>\n",
       "      <th>Código Produto</th>\n",
       "      <th>Descrição Produto</th>\n",
       "      <th>_merge</th>\n",
       "      <th>Posicao NCM</th>\n",
       "    </tr>\n",
       "  </thead>\n",
       "  <tbody>\n",
       "    <tr>\n",
       "      <th>2852</th>\n",
       "      <td>73151190</td>\n",
       "      <td>Outras correntes de rolos</td>\n",
       "      <td>7278774</td>\n",
       "      <td>NaN</td>\n",
       "      <td>NaN</td>\n",
       "      <td>left_only</td>\n",
       "      <td>7315</td>\n",
       "    </tr>\n",
       "    <tr>\n",
       "      <th>4236</th>\n",
       "      <td>73151110</td>\n",
       "      <td>Correntes de rolos do tipo utilizado em bicicl...</td>\n",
       "      <td>2429625</td>\n",
       "      <td>NaN</td>\n",
       "      <td>NaN</td>\n",
       "      <td>left_only</td>\n",
       "      <td>7315</td>\n",
       "    </tr>\n",
       "  </tbody>\n",
       "</table>\n",
       "</div>"
      ],
      "text/plain": [
       "     Código NCM                                      Descrição NCM  \\\n",
       "2852   73151190                          Outras correntes de rolos   \n",
       "4236   73151110  Correntes de rolos do tipo utilizado em bicicl...   \n",
       "\n",
       "      2024 - Valor US$ FOB Código Produto Descrição Produto     _merge  \\\n",
       "2852               7278774            NaN               NaN  left_only   \n",
       "4236               2429625            NaN               NaN  left_only   \n",
       "\n",
       "     Posicao NCM  \n",
       "2852        7315  \n",
       "4236        7315  "
      ]
     },
     "execution_count": 30,
     "metadata": {},
     "output_type": "execute_result"
    }
   ],
   "source": [
    "importacoes_mapeadas_scn.query(\"_merge == 'left_only'\").query('`Posicao NCM` == \"7315\"').head()"
   ]
  },
  {
   "cell_type": "code",
   "execution_count": 39,
   "id": "12bdd6b5",
   "metadata": {},
   "outputs": [],
   "source": [
    "substituicao_valores_nulos = pd.concat([substituicao_valores_nulos, importacoes_mapeadas_scn.query('_merge == \"both\"').query('`Posicao NCM`.isin(@lista_posicao_nao_mapeadas)')[['Posicao NCM','Código Produto', 'Descrição Produto']].drop_duplicates().query('`Posicao NCM` == \"7315\" and `Código Produto` == \"25001\"')])"
   ]
  },
  {
   "cell_type": "code",
   "execution_count": 40,
   "id": "0f2086b4",
   "metadata": {},
   "outputs": [],
   "source": [
    "#substituir apenas os valores nulos de acordo com a tabela de substituição e manter os demais valores sem alteração\n",
    "importacoes_mapeadas_scn['Descrição Produto'] = importacoes_mapeadas_scn['Descrição Produto'].where(~importacoes_mapeadas_scn['Posicao NCM'].isin(lista_posicao_nao_mapeadas), importacoes_mapeadas_scn['Descrição Produto'].fillna(substituicao_valores_nulos.set_index('Posicao NCM')['Descrição Produto']))\n",
    "importacoes_mapeadas_scn['Código Produto'] = importacoes_mapeadas_scn['Código Produto'].where(~importacoes_mapeadas_scn['Posicao NCM'].isin(lista_posicao_nao_mapeadas), importacoes_mapeadas_scn['Código Produto'].fillna(substituicao_valores_nulos.set_index('Posicao NCM')['Código Produto']))\n",
    "\n"
   ]
  },
  {
   "cell_type": "code",
   "execution_count": 42,
   "id": "c55a8756",
   "metadata": {},
   "outputs": [
    {
     "data": {
      "application/vnd.microsoft.datawrangler.viewer.v0+json": {
       "columns": [
        {
         "name": "index",
         "rawType": "int64",
         "type": "integer"
        },
        {
         "name": "Código NCM",
         "rawType": "object",
         "type": "string"
        },
        {
         "name": "Descrição NCM",
         "rawType": "object",
         "type": "string"
        },
        {
         "name": "2024 - Valor US$ FOB",
         "rawType": "int64",
         "type": "integer"
        },
        {
         "name": "Código Produto",
         "rawType": "object",
         "type": "string"
        },
        {
         "name": "Descrição Produto",
         "rawType": "object",
         "type": "string"
        },
        {
         "name": "_merge",
         "rawType": "category",
         "type": "unknown"
        },
        {
         "name": "Posicao NCM",
         "rawType": "object",
         "type": "string"
        }
       ],
       "ref": "999d0aa0-5834-440c-a583-3ce640e0ff3d",
       "rows": [
        [
         "37",
         "85044090",
         "Outros conversores elétricos estáticos",
         "884887236",
         "27001",
         "Máquinas, aparelhos e materiais elétricos",
         "both",
         "8504"
        ],
        [
         "194",
         "38249989",
         "Outros produtos e preparações à base de compostos orgânicos, não especificados nem compreendidos noutras posições",
         "211278154",
         "20922",
         "Produtos químicos diversos ",
         "both",
         "3824"
        ],
        [
         "223",
         "85044021",
         "Retificadores, exceto carregadores de acumuladores, de cristal (semicondutores)",
         "187355703",
         "27001",
         "Máquinas, aparelhos e materiais elétricos",
         "both",
         "8504"
        ],
        [
         "308",
         "85044050",
         "Conversores eletrônicos de frequência, para variação de velocidade de motores elétricos",
         "137718673",
         "27001",
         "Máquinas, aparelhos e materiais elétricos",
         "both",
         "8504"
        ],
        [
         "338",
         "55101111",
         "Fios que contenham pelo menos 85 %, em peso, de fibras artificiais descontínuas, simples, obtidos a partir de fibras de celulose, de raiom viscose, exceto modal",
         "127053917",
         "13001",
         "Fios e fibras têxteis beneficiadas",
         "both",
         "5510"
        ],
        [
         "354",
         "85044010",
         "Carregadores de acumuladores (conversores estáticos)",
         "123907738",
         "27001",
         "Máquinas, aparelhos e materiais elétricos",
         "both",
         "8504"
        ],
        [
         "411",
         "39069049",
         "Outros polímeros acrílicos, em blocos irregulares, pedaços, pós, etc",
         "104885809",
         "20914",
         "Resinas,elastômeros e fibras artif. e sintéticas",
         "both",
         "3906"
        ],
        [
         "434",
         "38249929",
         "Outros derivados de ácidos graxos industriais; outras misturas e preparações contendo álcoois graxos ou ácidos carboxílicos ou derivados destes produtos",
         "100756094",
         "20922",
         "Produtos químicos diversos ",
         "both",
         "3824"
        ],
        [
         "473",
         "85044029",
         "Outros retificadores, exceto carregadores de acumuladores",
         "92999953",
         "27001",
         "Máquinas, aparelhos e materiais elétricos",
         "both",
         "8504"
        ],
        [
         "600",
         "38249979",
         "Outros produtos e preparações à base de elementos químicos ou de seus compostos inorgânicos, não especificados nem compreendidos noutras posições",
         "72362801",
         "20922",
         "Produtos químicos diversos ",
         "both",
         "3824"
        ],
        [
         "678",
         "38249939",
         "Outras misturas e preparações para borracha ou plástico e outras misturas e preparações para endurecer resinas sintéticas, colas, pinturas ou usos similares",
         "63061110",
         "20922",
         "Produtos químicos diversos ",
         "both",
         "3824"
        ],
        [
         "713",
         "85044040",
         "Equipamento de alimentação ininterrupta de energia (UPS ou No break)",
         "59222073",
         "27001",
         "Máquinas, aparelhos e materiais elétricos",
         "both",
         "8504"
        ],
        [
         "732",
         "85045000",
         "Outras bobinas de reatância e de auto-indução",
         "57432314",
         "27001",
         "Máquinas, aparelhos e materiais elétricos",
         "both",
         "8504"
        ],
        [
         "777",
         "85049040",
         "Partes de conversores estáticos, exceto de carregadores de acumuladores e de retificadores",
         "53975042",
         "27001",
         "Máquinas, aparelhos e materiais elétricos",
         "both",
         "8504"
        ],
        [
         "779",
         "39069019",
         "Outros polímeros acrílicos, em líquidos e pastas, solúveis em água",
         "53922875",
         "20914",
         "Resinas,elastômeros e fibras artif. e sintéticas",
         "both",
         "3906"
        ],
        [
         "802",
         "48114190",
         "Outros papéis e cartões auto-adesivos, em rolos ou folhas",
         "51630660",
         "17002",
         "Papel, papelão, embalagens e artefatos de papel",
         "both",
         "4811"
        ],
        [
         "884",
         "39069044",
         "Poli(acrilato de sódio), com capacidade de absorção de uma solução aquosa de cloreto de sódio 0,9 %, em peso, superior ou igual a vinte vezes seu próprio peso, em blocos irregulares, pedaços, pós, etc",
         "46440629",
         "20914",
         "Resinas,elastômeros e fibras artif. e sintéticas",
         "both",
         "3906"
        ],
        [
         "1004",
         "38249985",
         "Metilato de sódio em metanol",
         "40157100",
         "20922",
         "Produtos químicos diversos ",
         "both",
         "3824"
        ],
        [
         "1053",
         "85043119",
         "Outros transformadores elétricos, para frequências inferiores ou iguais a 60 Hz, de potência não superior a 1 kVA",
         "37358906",
         "27001",
         "Máquinas, aparelhos e materiais elétricos",
         "both",
         "8504"
        ],
        [
         "1056",
         "38249981",
         "Preparações à base de anidrido poliisobutenilsuccínico, em óleo mineral",
         "37212754",
         "20922",
         "Produtos químicos diversos ",
         "both",
         "3824"
        ],
        [
         "1087",
         "85049090",
         "Outras partes de outros transformadores, conversores, etc",
         "35798613",
         "27001",
         "Máquinas, aparelhos e materiais elétricos",
         "both",
         "8504"
        ],
        [
         "1231",
         "73151100",
         "Corrente de rolos, de ferro fundido, de ferro ou aço",
         "30455305",
         "28003",
         "Outras máquinas e equipamentos mecânicos",
         "both",
         "7315"
        ],
        [
         "1275",
         "32071090",
         "Outros pigmentos, opacificantes/cores, preparados e preparações",
         "28871748",
         "20923",
         "Tintas, vernizes, esmaltes e lacas",
         "both",
         "3207"
        ],
        [
         "1281",
         "85043400",
         "Transformador elétrico de potência superior a 500 kVA",
         "28793863",
         "27001",
         "Máquinas, aparelhos e materiais elétricos",
         "both",
         "8504"
        ],
        [
         "1337",
         "48115129",
         "Outros papéis e cartões revestidos, recobertos de plástico (exceto os adesivos), branqueados, de peso superior a 150 g/m2",
         "27230472",
         "17002",
         "Papel, papelão, embalagens e artefatos de papel",
         "both",
         "4811"
        ],
        [
         "1341",
         "85044030",
         "Conversores elétricos de corrente contínua",
         "27083474",
         "27001",
         "Máquinas, aparelhos e materiais elétricos",
         "both",
         "8504"
        ],
        [
         "1350",
         "48119090",
         "Outros papéis, cartões, pasta (ouate) de celulose e mantas de fibras de celulose",
         "26917223",
         "17002",
         "Papel, papelão, embalagens e artefatos de papel",
         "both",
         "4811"
        ],
        [
         "1378",
         "73151210",
         "Corrente de transmissão, de ferro fundido, de ferro ou aço",
         "26294769",
         "28003",
         "Outras máquinas e equipamentos mecânicos",
         "both",
         "7315"
        ],
        [
         "1536",
         "73158200",
         "Outras correntes de elos soldados, de ferro fundido, ferro ou aço",
         "22721185",
         "25001",
         "Produtos de metal, excl. máquinas e equipamentos",
         "both",
         "7315"
        ],
        [
         "1538",
         "48114110",
         "Papel e cartão auto-adesivos, em tiras ou rolos de largura não superior a 15 cm ou em folhas em que nenhum lado exceda 360 mm, quando não dobradas",
         "22699210",
         "17002",
         "Papel, papelão, embalagens e artefatos de papel",
         "both",
         "4811"
        ],
        [
         "1581",
         "85042100",
         "Transformadores de dielétrico líquido, de potência não superior a 650 kVA",
         "21845581",
         "27001",
         "Máquinas, aparelhos e materiais elétricos",
         "both",
         "8504"
        ],
        [
         "1584",
         "39069029",
         "Outros polímeros acrílicos, em líquido/pasta, em solvente orgânico",
         "21826209",
         "20914",
         "Resinas,elastômeros e fibras artif. e sintéticas",
         "both",
         "3906"
        ],
        [
         "1620",
         "38249986",
         "Maneb; mancozeb; cloreto de benzalcônio",
         "21245624",
         "20921",
         "Defensivos agrícolas e desinfestantes domissanitários",
         "both",
         "3824"
        ],
        [
         "1719",
         "39069039",
         "Outros polímeros acrílicos, em líquido e pastas, em outros solventes, etc.",
         "19579176",
         "20914",
         "Resinas,elastômeros e fibras artif. e sintéticas",
         "both",
         "3906"
        ],
        [
         "1721",
         "85049030",
         "Partes de transformadores das subposições 8504.21, 8504.22, 8504.23, 8504.33 ou 8504.34 (dielétricos líquidos ou de potência > 16 Kva",
         "19527937",
         "27001",
         "Máquinas, aparelhos e materiais elétricos",
         "both",
         "8504"
        ],
        [
         "1825",
         "85043111",
         "Transformadores de corrente, elétricos, para frequências inferiores ou iguais a 60 Hz, de potência não superior a 1 kVA",
         "17734104",
         "27001",
         "Máquinas, aparelhos e materiais elétricos",
         "both",
         "8504"
        ],
        [
         "1852",
         "48115930",
         "Outros papéis impregnados de plásticos em rolos/folhas",
         "17277089",
         "17002",
         "Papel, papelão, embalagens e artefatos de papel",
         "both",
         "4811"
        ],
        [
         "1857",
         "39061000",
         "Polimetacrilato de metila, em forma primária",
         "17194175",
         "20914",
         "Resinas,elastômeros e fibras artif. e sintéticas",
         "both",
         "3906"
        ],
        [
         "1891",
         "38276300",
         "Outras misturas que contenham outros hidrofluorcarbonetos (HFC), mas que não contenham clorofluorcarbonetos (CFC) ou hidroclorofluorcarbonetos (HCFC), não mencionadas nas subposições acima, que contenham, em massa, 40 % ou mais de pentafluoroetano (HFC-125)",
         "16686310",
         "20922",
         "Produtos químicos diversos ",
         "both",
         "3827"
        ],
        [
         "1921",
         "85043211",
         "Transformadores elétricos, de potência inferior ou igual a 3 kVA, para frequências inferiores ou iguais a 60 Hz",
         "16201834",
         "27001",
         "Máquinas, aparelhos e materiais elétricos",
         "both",
         "8504"
        ],
        [
         "1928",
         "85043199",
         "Outros transformadores elétricos de potência não superior a 1 kVA",
         "16133440",
         "27001",
         "Máquinas, aparelhos e materiais elétricos",
         "both",
         "8504"
        ],
        [
         "2041",
         "32072099",
         "Outras composições vitrificáveis e preparações semelhantes",
         "14424967",
         "20923",
         "Tintas, vernizes, esmaltes e lacas",
         "both",
         "3207"
        ],
        [
         "2051",
         "38249975",
         "Preparações utilizadas na elaboração de meios de cultura; trocadores de íons para o tratamento de águas; preparações à base de zeólitas artificiais",
         "14233845",
         "20922",
         "Produtos químicos diversos ",
         "both",
         "3824"
        ],
        [
         "2221",
         "38244000",
         "Aditivos preparados para cimentos, argamassas ou concretos",
         "12405432",
         "20922",
         "Produtos químicos diversos ",
         "both",
         "3824"
        ],
        [
         "2280",
         "38249941",
         "Preparações desincrustantes, anticorrosivas ou antioxidantes",
         "11716192",
         "20922",
         "Produtos químicos diversos ",
         "both",
         "3824"
        ],
        [
         "2336",
         "38249977",
         "Adubos (fertilizantes) foliares contendo zinco ou manganês",
         "10997886",
         "20912",
         "Adubos e fertilizantes",
         "both",
         "3824"
        ],
        [
         "2344",
         "73151290",
         "Outras correntes de elos articulados, de ferro ou aço",
         "10882023",
         "28003",
         "Outras máquinas e equipamentos mecânicos",
         "both",
         "7315"
        ],
        [
         "2386",
         "48115128",
         "Outros papéis gofrados na face recoberta ou revestida, branqueados, de peso superior a 150 g/m2",
         "10543851",
         "17002",
         "Papel, papelão, embalagens e artefatos de papel",
         "both",
         "4811"
        ],
        [
         "2400",
         "32074090",
         "Outros vidros em pó, em grânulos, em lamelas ou em flocos",
         "10399747",
         "20923",
         "Tintas, vernizes, esmaltes e lacas",
         "both",
         "3207"
        ],
        [
         "2442",
         "48115923",
         "Papel e cartão revestidos, impregnados ou recobertos de plástico (exceto os adesivos), recobertos ou revestidos de polietileno, estratificado com alumínio, impresso, em rolos ou folhas",
         "10090593",
         "17002",
         "Papel, papelão, embalagens e artefatos de papel",
         "both",
         "4811"
        ]
       ],
       "shape": {
        "columns": 7,
        "rows": 174
       }
      },
      "text/html": [
       "<div>\n",
       "<style scoped>\n",
       "    .dataframe tbody tr th:only-of-type {\n",
       "        vertical-align: middle;\n",
       "    }\n",
       "\n",
       "    .dataframe tbody tr th {\n",
       "        vertical-align: top;\n",
       "    }\n",
       "\n",
       "    .dataframe thead th {\n",
       "        text-align: right;\n",
       "    }\n",
       "</style>\n",
       "<table border=\"1\" class=\"dataframe\">\n",
       "  <thead>\n",
       "    <tr style=\"text-align: right;\">\n",
       "      <th></th>\n",
       "      <th>Código NCM</th>\n",
       "      <th>Descrição NCM</th>\n",
       "      <th>2024 - Valor US$ FOB</th>\n",
       "      <th>Código Produto</th>\n",
       "      <th>Descrição Produto</th>\n",
       "      <th>_merge</th>\n",
       "      <th>Posicao NCM</th>\n",
       "    </tr>\n",
       "  </thead>\n",
       "  <tbody>\n",
       "    <tr>\n",
       "      <th>37</th>\n",
       "      <td>85044090</td>\n",
       "      <td>Outros conversores elétricos estáticos</td>\n",
       "      <td>884887236</td>\n",
       "      <td>27001</td>\n",
       "      <td>Máquinas, aparelhos e materiais elétricos</td>\n",
       "      <td>both</td>\n",
       "      <td>8504</td>\n",
       "    </tr>\n",
       "    <tr>\n",
       "      <th>194</th>\n",
       "      <td>38249989</td>\n",
       "      <td>Outros produtos e preparações à base de compos...</td>\n",
       "      <td>211278154</td>\n",
       "      <td>20922</td>\n",
       "      <td>Produtos químicos diversos</td>\n",
       "      <td>both</td>\n",
       "      <td>3824</td>\n",
       "    </tr>\n",
       "    <tr>\n",
       "      <th>223</th>\n",
       "      <td>85044021</td>\n",
       "      <td>Retificadores, exceto carregadores de acumulad...</td>\n",
       "      <td>187355703</td>\n",
       "      <td>27001</td>\n",
       "      <td>Máquinas, aparelhos e materiais elétricos</td>\n",
       "      <td>both</td>\n",
       "      <td>8504</td>\n",
       "    </tr>\n",
       "    <tr>\n",
       "      <th>308</th>\n",
       "      <td>85044050</td>\n",
       "      <td>Conversores eletrônicos de frequência, para va...</td>\n",
       "      <td>137718673</td>\n",
       "      <td>27001</td>\n",
       "      <td>Máquinas, aparelhos e materiais elétricos</td>\n",
       "      <td>both</td>\n",
       "      <td>8504</td>\n",
       "    </tr>\n",
       "    <tr>\n",
       "      <th>338</th>\n",
       "      <td>55101111</td>\n",
       "      <td>Fios que contenham pelo menos 85 %, em peso, d...</td>\n",
       "      <td>127053917</td>\n",
       "      <td>13001</td>\n",
       "      <td>Fios e fibras têxteis beneficiadas</td>\n",
       "      <td>both</td>\n",
       "      <td>5510</td>\n",
       "    </tr>\n",
       "    <tr>\n",
       "      <th>...</th>\n",
       "      <td>...</td>\n",
       "      <td>...</td>\n",
       "      <td>...</td>\n",
       "      <td>...</td>\n",
       "      <td>...</td>\n",
       "      <td>...</td>\n",
       "      <td>...</td>\n",
       "    </tr>\n",
       "    <tr>\n",
       "      <th>8365</th>\n",
       "      <td>38249933</td>\n",
       "      <td>Misturas e preparações para borracha ou plásti...</td>\n",
       "      <td>2246</td>\n",
       "      <td>20922</td>\n",
       "      <td>Produtos químicos diversos</td>\n",
       "      <td>both</td>\n",
       "      <td>3824</td>\n",
       "    </tr>\n",
       "    <tr>\n",
       "      <th>8445</th>\n",
       "      <td>38249943</td>\n",
       "      <td>Misturas à base de trimetil-3,9-dietildecano</td>\n",
       "      <td>1266</td>\n",
       "      <td>20922</td>\n",
       "      <td>Produtos químicos diversos</td>\n",
       "      <td>both</td>\n",
       "      <td>3824</td>\n",
       "    </tr>\n",
       "    <tr>\n",
       "      <th>8465</th>\n",
       "      <td>38249911</td>\n",
       "      <td>Salinomicina micelial</td>\n",
       "      <td>1132</td>\n",
       "      <td>20922</td>\n",
       "      <td>Produtos químicos diversos</td>\n",
       "      <td>both</td>\n",
       "      <td>3824</td>\n",
       "    </tr>\n",
       "    <tr>\n",
       "      <th>8515</th>\n",
       "      <td>38249974</td>\n",
       "      <td>Preparações à base de hidróxido de níquel ou d...</td>\n",
       "      <td>788</td>\n",
       "      <td>20922</td>\n",
       "      <td>Produtos químicos diversos</td>\n",
       "      <td>both</td>\n",
       "      <td>3824</td>\n",
       "    </tr>\n",
       "    <tr>\n",
       "      <th>8520</th>\n",
       "      <td>38248300</td>\n",
       "      <td>Misturas que contenham fosfato de tris(2,3-dib...</td>\n",
       "      <td>753</td>\n",
       "      <td>20922</td>\n",
       "      <td>Produtos químicos diversos</td>\n",
       "      <td>both</td>\n",
       "      <td>3824</td>\n",
       "    </tr>\n",
       "  </tbody>\n",
       "</table>\n",
       "<p>174 rows × 7 columns</p>\n",
       "</div>"
      ],
      "text/plain": [
       "     Código NCM                                      Descrição NCM  \\\n",
       "37     85044090             Outros conversores elétricos estáticos   \n",
       "194    38249989  Outros produtos e preparações à base de compos...   \n",
       "223    85044021  Retificadores, exceto carregadores de acumulad...   \n",
       "308    85044050  Conversores eletrônicos de frequência, para va...   \n",
       "338    55101111  Fios que contenham pelo menos 85 %, em peso, d...   \n",
       "...         ...                                                ...   \n",
       "8365   38249933  Misturas e preparações para borracha ou plásti...   \n",
       "8445   38249943       Misturas à base de trimetil-3,9-dietildecano   \n",
       "8465   38249911                              Salinomicina micelial   \n",
       "8515   38249974  Preparações à base de hidróxido de níquel ou d...   \n",
       "8520   38248300  Misturas que contenham fosfato de tris(2,3-dib...   \n",
       "\n",
       "      2024 - Valor US$ FOB Código Produto  \\\n",
       "37               884887236          27001   \n",
       "194              211278154          20922   \n",
       "223              187355703          27001   \n",
       "308              137718673          27001   \n",
       "338              127053917          13001   \n",
       "...                    ...            ...   \n",
       "8365                  2246          20922   \n",
       "8445                  1266          20922   \n",
       "8465                  1132          20922   \n",
       "8515                   788          20922   \n",
       "8520                   753          20922   \n",
       "\n",
       "                              Descrição Produto _merge Posicao NCM  \n",
       "37    Máquinas, aparelhos e materiais elétricos   both        8504  \n",
       "194                 Produtos químicos diversos    both        3824  \n",
       "223   Máquinas, aparelhos e materiais elétricos   both        8504  \n",
       "308   Máquinas, aparelhos e materiais elétricos   both        8504  \n",
       "338          Fios e fibras têxteis beneficiadas   both        5510  \n",
       "...                                         ...    ...         ...  \n",
       "8365                Produtos químicos diversos    both        3824  \n",
       "8445                Produtos químicos diversos    both        3824  \n",
       "8465                Produtos químicos diversos    both        3824  \n",
       "8515                Produtos químicos diversos    both        3824  \n",
       "8520                Produtos químicos diversos    both        3824  \n",
       "\n",
       "[174 rows x 7 columns]"
      ]
     },
     "execution_count": 42,
     "metadata": {},
     "output_type": "execute_result"
    }
   ],
   "source": [
    "#Verifica se a substituição foi feita corretamente\n",
    "importacoes_mapeadas_scn.query('_merge == \"both\"').query('`Posicao NCM`.isin(@lista_posicao_nao_mapeadas)').drop_duplicates()"
   ]
  },
  {
   "cell_type": "code",
   "execution_count": 43,
   "id": "b31a29ae",
   "metadata": {},
   "outputs": [],
   "source": [
    "importacoes_mapeadas_scn.drop(columns=['_merge'], inplace=True)"
   ]
  },
  {
   "cell_type": "code",
   "execution_count": 44,
   "id": "c77f39d7",
   "metadata": {},
   "outputs": [],
   "source": [
    "#Verificar a participação de cada NCM em relação ao total de importações de um mesmo código de produto, considerando que todos os códigos de produto são válidos\n",
    "importacoes_mapeadas_scn['Total Importações Produto'] = importacoes_mapeadas_scn.groupby('Código Produto')['2024 - Valor US$ FOB'].transform('sum')\n",
    "importacoes_mapeadas_scn['Participação NCM no Produto'] = importacoes_mapeadas_scn['2024 - Valor US$ FOB'] / importacoes_mapeadas_scn['Total Importações Produto']\n",
    "\n"
   ]
  },
  {
   "cell_type": "code",
   "execution_count": 46,
   "id": "6dbbbd18",
   "metadata": {},
   "outputs": [
    {
     "data": {
      "application/vnd.microsoft.datawrangler.viewer.v0+json": {
       "columns": [
        {
         "name": "index",
         "rawType": "int64",
         "type": "integer"
        },
        {
         "name": "Código NCM",
         "rawType": "object",
         "type": "string"
        },
        {
         "name": "Descrição NCM",
         "rawType": "object",
         "type": "string"
        },
        {
         "name": "2024 - Valor US$ FOB",
         "rawType": "int64",
         "type": "integer"
        },
        {
         "name": "Código Produto",
         "rawType": "object",
         "type": "string"
        },
        {
         "name": "Descrição Produto",
         "rawType": "object",
         "type": "string"
        },
        {
         "name": "Posicao NCM",
         "rawType": "object",
         "type": "string"
        },
        {
         "name": "Total Importações Produto",
         "rawType": "float64",
         "type": "float"
        },
        {
         "name": "Participação NCM no Produto",
         "rawType": "float64",
         "type": "float"
        }
       ],
       "ref": "01a32ae1-a412-4041-a1ef-dbb1a39abd39",
       "rows": [
        [
         "8743",
         "94011010",
         "Assentos ejetáveis, dos tipos utilizados em veículos aéreos",
         "5",
         "30001",
         "Aeronaves, embarcações e outros equipamentos de transporte",
         "9401",
         "14474653477.0",
         "3.4543141277578233e-10"
        ],
        [
         "8744",
         "03091000",
         "Farinhas, pós e \"pellets\" de peixes, para alimentação humana",
         "4",
         "10914",
         "Pescado industrializado",
         "0309",
         "737742945.0",
         "5.421942733725498e-09"
        ],
        [
         "8745",
         "28121400",
         "Pentacloreto de fósforo",
         "3",
         "20911",
         "Produtos químicos inorgânicos",
         "2812",
         "14351014051.0",
         "2.0904446120244412e-10"
        ],
        [
         "8746",
         "49070010",
         "Papéis-moeda",
         "2",
         "18001",
         "Serviços de impressão e reprodução",
         "4907",
         "50125405.0",
         "3.9899926993108586e-08"
        ],
        [
         "8747",
         "29242945",
         "Iodamida",
         "1",
         "20913",
         "Produtos químicos orgânicos",
         "2924",
         "12362598049.0",
         "8.08891461193215e-11"
        ]
       ],
       "shape": {
        "columns": 8,
        "rows": 5
       }
      },
      "text/html": [
       "<div>\n",
       "<style scoped>\n",
       "    .dataframe tbody tr th:only-of-type {\n",
       "        vertical-align: middle;\n",
       "    }\n",
       "\n",
       "    .dataframe tbody tr th {\n",
       "        vertical-align: top;\n",
       "    }\n",
       "\n",
       "    .dataframe thead th {\n",
       "        text-align: right;\n",
       "    }\n",
       "</style>\n",
       "<table border=\"1\" class=\"dataframe\">\n",
       "  <thead>\n",
       "    <tr style=\"text-align: right;\">\n",
       "      <th></th>\n",
       "      <th>Código NCM</th>\n",
       "      <th>Descrição NCM</th>\n",
       "      <th>2024 - Valor US$ FOB</th>\n",
       "      <th>Código Produto</th>\n",
       "      <th>Descrição Produto</th>\n",
       "      <th>Posicao NCM</th>\n",
       "      <th>Total Importações Produto</th>\n",
       "      <th>Participação NCM no Produto</th>\n",
       "    </tr>\n",
       "  </thead>\n",
       "  <tbody>\n",
       "    <tr>\n",
       "      <th>8743</th>\n",
       "      <td>94011010</td>\n",
       "      <td>Assentos ejetáveis, dos tipos utilizados em ve...</td>\n",
       "      <td>5</td>\n",
       "      <td>30001</td>\n",
       "      <td>Aeronaves, embarcações e outros equipamentos d...</td>\n",
       "      <td>9401</td>\n",
       "      <td>1.447465e+10</td>\n",
       "      <td>3.454314e-10</td>\n",
       "    </tr>\n",
       "    <tr>\n",
       "      <th>8744</th>\n",
       "      <td>03091000</td>\n",
       "      <td>Farinhas, pós e \"pellets\" de peixes, para alim...</td>\n",
       "      <td>4</td>\n",
       "      <td>10914</td>\n",
       "      <td>Pescado industrializado</td>\n",
       "      <td>0309</td>\n",
       "      <td>7.377429e+08</td>\n",
       "      <td>5.421943e-09</td>\n",
       "    </tr>\n",
       "    <tr>\n",
       "      <th>8745</th>\n",
       "      <td>28121400</td>\n",
       "      <td>Pentacloreto de fósforo</td>\n",
       "      <td>3</td>\n",
       "      <td>20911</td>\n",
       "      <td>Produtos químicos inorgânicos</td>\n",
       "      <td>2812</td>\n",
       "      <td>1.435101e+10</td>\n",
       "      <td>2.090445e-10</td>\n",
       "    </tr>\n",
       "    <tr>\n",
       "      <th>8746</th>\n",
       "      <td>49070010</td>\n",
       "      <td>Papéis-moeda</td>\n",
       "      <td>2</td>\n",
       "      <td>18001</td>\n",
       "      <td>Serviços de impressão e reprodução</td>\n",
       "      <td>4907</td>\n",
       "      <td>5.012540e+07</td>\n",
       "      <td>3.989993e-08</td>\n",
       "    </tr>\n",
       "    <tr>\n",
       "      <th>8747</th>\n",
       "      <td>29242945</td>\n",
       "      <td>Iodamida</td>\n",
       "      <td>1</td>\n",
       "      <td>20913</td>\n",
       "      <td>Produtos químicos orgânicos</td>\n",
       "      <td>2924</td>\n",
       "      <td>1.236260e+10</td>\n",
       "      <td>8.088915e-11</td>\n",
       "    </tr>\n",
       "  </tbody>\n",
       "</table>\n",
       "</div>"
      ],
      "text/plain": [
       "     Código NCM                                      Descrição NCM  \\\n",
       "8743   94011010  Assentos ejetáveis, dos tipos utilizados em ve...   \n",
       "8744   03091000  Farinhas, pós e \"pellets\" de peixes, para alim...   \n",
       "8745   28121400                            Pentacloreto de fósforo   \n",
       "8746   49070010                                       Papéis-moeda   \n",
       "8747   29242945                                           Iodamida   \n",
       "\n",
       "      2024 - Valor US$ FOB Código Produto  \\\n",
       "8743                     5          30001   \n",
       "8744                     4          10914   \n",
       "8745                     3          20911   \n",
       "8746                     2          18001   \n",
       "8747                     1          20913   \n",
       "\n",
       "                                      Descrição Produto Posicao NCM  \\\n",
       "8743  Aeronaves, embarcações e outros equipamentos d...        9401   \n",
       "8744                            Pescado industrializado        0309   \n",
       "8745                      Produtos químicos inorgânicos        2812   \n",
       "8746                 Serviços de impressão e reprodução        4907   \n",
       "8747                        Produtos químicos orgânicos        2924   \n",
       "\n",
       "      Total Importações Produto  Participação NCM no Produto  \n",
       "8743               1.447465e+10                 3.454314e-10  \n",
       "8744               7.377429e+08                 5.421943e-09  \n",
       "8745               1.435101e+10                 2.090445e-10  \n",
       "8746               5.012540e+07                 3.989993e-08  \n",
       "8747               1.236260e+10                 8.088915e-11  "
      ]
     },
     "execution_count": 46,
     "metadata": {},
     "output_type": "execute_result"
    }
   ],
   "source": [
    "importacoes_mapeadas_scn.tail()"
   ]
  }
 ],
 "metadata": {
  "kernelspec": {
   "display_name": "mip",
   "language": "python",
   "name": "python3"
  },
  "language_info": {
   "codemirror_mode": {
    "name": "ipython",
    "version": 3
   },
   "file_extension": ".py",
   "mimetype": "text/x-python",
   "name": "python",
   "nbconvert_exporter": "python",
   "pygments_lexer": "ipython3",
   "version": "3.13.2"
  }
 },
 "nbformat": 4,
 "nbformat_minor": 5
}
