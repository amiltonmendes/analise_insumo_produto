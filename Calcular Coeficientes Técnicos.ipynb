{
 "cells": [
  {
   "cell_type": "code",
   "execution_count": 2,
   "id": "a537e1ea",
   "metadata": {},
   "outputs": [],
   "source": [
    "import pandas as pd \n",
    "import numpy as np"
   ]
  },
  {
   "cell_type": "code",
   "execution_count": 3,
   "id": "8dae23b1",
   "metadata": {},
   "outputs": [],
   "source": [
    "A = pd.read_excel('./dados/mip/estimacao/MIP_2019_67_PCR.xlsx', sheet_name='An',skiprows=2,dtype={0:str})"
   ]
  },
  {
   "cell_type": "code",
   "execution_count": 4,
   "id": "304968ab",
   "metadata": {},
   "outputs": [],
   "source": [
    "#Concatenar os valores da primeira linha, a frente dos valotes da segunda linha, separando-os por '-'. \n",
    "A.loc[0,:] = A.loc[0,] + ' - ' + A.loc[1,]\n"
   ]
  },
  {
   "cell_type": "code",
   "execution_count": 5,
   "id": "adc2c272",
   "metadata": {},
   "outputs": [],
   "source": [
    "#Remover a linha 1\n",
    "A= A.drop(1).reset_index(drop=True)\n"
   ]
  },
  {
   "cell_type": "code",
   "execution_count": 6,
   "id": "316231d9",
   "metadata": {},
   "outputs": [],
   "source": [
    "A.loc[:,A.columns[0]] = A.loc[:,A.columns[0]] + ' - ' + A.loc[:,A.columns[1]]"
   ]
  },
  {
   "cell_type": "code",
   "execution_count": 7,
   "id": "5195d46c",
   "metadata": {},
   "outputs": [
    {
     "data": {
      "application/vnd.microsoft.datawrangler.viewer.v0+json": {
       "columns": [
        {
         "name": "index",
         "rawType": "int64",
         "type": "integer"
        },
        {
         "name": "Código da Atividade Nível 67",
         "rawType": "object",
         "type": "unknown"
        },
        {
         "name": "Descrição da Atividade Nível 67",
         "rawType": "object",
         "type": "unknown"
        },
        {
         "name": "Atividades",
         "rawType": "object",
         "type": "unknown"
        },
        {
         "name": "Unnamed: 3",
         "rawType": "object",
         "type": "unknown"
        },
        {
         "name": "Unnamed: 4",
         "rawType": "object",
         "type": "unknown"
        },
        {
         "name": "Unnamed: 5",
         "rawType": "object",
         "type": "unknown"
        },
        {
         "name": "Unnamed: 6",
         "rawType": "object",
         "type": "unknown"
        },
        {
         "name": "Unnamed: 7",
         "rawType": "object",
         "type": "unknown"
        },
        {
         "name": "Unnamed: 8",
         "rawType": "object",
         "type": "unknown"
        },
        {
         "name": "Unnamed: 9",
         "rawType": "object",
         "type": "unknown"
        },
        {
         "name": "Unnamed: 10",
         "rawType": "object",
         "type": "unknown"
        },
        {
         "name": "Atividades.1",
         "rawType": "object",
         "type": "unknown"
        },
        {
         "name": "Unnamed: 12",
         "rawType": "object",
         "type": "unknown"
        },
        {
         "name": "Unnamed: 13",
         "rawType": "object",
         "type": "unknown"
        },
        {
         "name": "Unnamed: 14",
         "rawType": "object",
         "type": "unknown"
        },
        {
         "name": "Unnamed: 15",
         "rawType": "object",
         "type": "unknown"
        },
        {
         "name": "Unnamed: 16",
         "rawType": "object",
         "type": "unknown"
        },
        {
         "name": "Unnamed: 17",
         "rawType": "object",
         "type": "unknown"
        },
        {
         "name": "Unnamed: 18",
         "rawType": "object",
         "type": "unknown"
        },
        {
         "name": "Unnamed: 19",
         "rawType": "object",
         "type": "unknown"
        },
        {
         "name": "Atividades.2",
         "rawType": "object",
         "type": "unknown"
        },
        {
         "name": "Unnamed: 21",
         "rawType": "object",
         "type": "unknown"
        },
        {
         "name": "Unnamed: 22",
         "rawType": "object",
         "type": "unknown"
        },
        {
         "name": "Unnamed: 23",
         "rawType": "object",
         "type": "unknown"
        },
        {
         "name": "Unnamed: 24",
         "rawType": "object",
         "type": "unknown"
        },
        {
         "name": "Unnamed: 25",
         "rawType": "object",
         "type": "unknown"
        },
        {
         "name": "Unnamed: 26",
         "rawType": "object",
         "type": "unknown"
        },
        {
         "name": "Unnamed: 27",
         "rawType": "object",
         "type": "unknown"
        },
        {
         "name": "Unnamed: 28",
         "rawType": "object",
         "type": "unknown"
        },
        {
         "name": "Atividades.3",
         "rawType": "object",
         "type": "unknown"
        },
        {
         "name": "Unnamed: 30",
         "rawType": "object",
         "type": "unknown"
        },
        {
         "name": "Unnamed: 31",
         "rawType": "object",
         "type": "unknown"
        },
        {
         "name": "Unnamed: 32",
         "rawType": "object",
         "type": "unknown"
        },
        {
         "name": "Unnamed: 33",
         "rawType": "object",
         "type": "unknown"
        },
        {
         "name": "Unnamed: 34",
         "rawType": "object",
         "type": "unknown"
        },
        {
         "name": "Unnamed: 35",
         "rawType": "object",
         "type": "unknown"
        },
        {
         "name": "Unnamed: 36",
         "rawType": "object",
         "type": "unknown"
        },
        {
         "name": "Unnamed: 37",
         "rawType": "object",
         "type": "unknown"
        },
        {
         "name": "Atividades.4",
         "rawType": "object",
         "type": "unknown"
        },
        {
         "name": "Unnamed: 39",
         "rawType": "object",
         "type": "unknown"
        },
        {
         "name": "Unnamed: 40",
         "rawType": "object",
         "type": "unknown"
        },
        {
         "name": "Unnamed: 41",
         "rawType": "object",
         "type": "unknown"
        },
        {
         "name": "Unnamed: 42",
         "rawType": "object",
         "type": "unknown"
        },
        {
         "name": "Unnamed: 43",
         "rawType": "object",
         "type": "unknown"
        },
        {
         "name": "Unnamed: 44",
         "rawType": "object",
         "type": "unknown"
        },
        {
         "name": "Unnamed: 45",
         "rawType": "object",
         "type": "unknown"
        },
        {
         "name": "Unnamed: 46",
         "rawType": "object",
         "type": "unknown"
        },
        {
         "name": "Atividades.5",
         "rawType": "object",
         "type": "unknown"
        },
        {
         "name": "Unnamed: 48",
         "rawType": "object",
         "type": "unknown"
        },
        {
         "name": "Unnamed: 49",
         "rawType": "object",
         "type": "unknown"
        },
        {
         "name": "Unnamed: 50",
         "rawType": "object",
         "type": "unknown"
        },
        {
         "name": "Unnamed: 51",
         "rawType": "object",
         "type": "unknown"
        },
        {
         "name": "Unnamed: 52",
         "rawType": "object",
         "type": "unknown"
        },
        {
         "name": "Unnamed: 53",
         "rawType": "object",
         "type": "unknown"
        },
        {
         "name": "Unnamed: 54",
         "rawType": "object",
         "type": "unknown"
        },
        {
         "name": "Unnamed: 55",
         "rawType": "object",
         "type": "unknown"
        },
        {
         "name": "Atividades.6",
         "rawType": "object",
         "type": "unknown"
        },
        {
         "name": "Unnamed: 57",
         "rawType": "object",
         "type": "unknown"
        },
        {
         "name": "Unnamed: 58",
         "rawType": "object",
         "type": "unknown"
        },
        {
         "name": "Unnamed: 59",
         "rawType": "object",
         "type": "unknown"
        },
        {
         "name": "Unnamed: 60",
         "rawType": "object",
         "type": "unknown"
        },
        {
         "name": "Unnamed: 61",
         "rawType": "object",
         "type": "unknown"
        },
        {
         "name": "Unnamed: 62",
         "rawType": "object",
         "type": "unknown"
        },
        {
         "name": "Unnamed: 63",
         "rawType": "object",
         "type": "unknown"
        },
        {
         "name": "Unnamed: 64",
         "rawType": "object",
         "type": "unknown"
        },
        {
         "name": "Unnamed: 65",
         "rawType": "object",
         "type": "unknown"
        },
        {
         "name": "Unnamed: 66",
         "rawType": "object",
         "type": "unknown"
        },
        {
         "name": "Unnamed: 67",
         "rawType": "object",
         "type": "unknown"
        },
        {
         "name": "Atividades.7",
         "rawType": "object",
         "type": "unknown"
        }
       ],
       "ref": "c1a5fcb5-46c8-4916-a77d-d185bb7e2f9a",
       "rows": [
        [
         "0",
         null,
         null,
         "0191 - Agricultura, inclusive o apoio à agricultura e a pós-colheita",
         "0192 - Pecuária, inclusive o apoio à pecuária",
         "0280 - Produção florestal; pesca e aquicultura",
         "0580 - Extração de carvão mineral e de minerais não metálicos",
         "0680 - Extração de petróleo e gás, inclusive as atividades de apoio",
         "0791 - Extração de minério de ferro, inclusive beneficiamentos e a aglomeração",
         "0792 - Extração de minerais metálicos não ferrosos, inclusive beneficiamentos",
         "1091 - Abate e produtos de carne, inclusive os produtos do laticínio e da pesca",
         "1092 - Fabricação e refino de açúcar",
         "1093 - Outros produtos alimentares",
         "1100 - Fabricação de bebidas",
         "1200 - Fabricação de produtos do fumo",
         "1300 - Fabricação de produtos têxteis",
         "1400 - Confecção de artefatos do vestuário e acessórios",
         "1500 - Fabricação de calçados e de artefatos de couro",
         "1600 - Fabricação de produtos da madeira",
         "1700 - Fabricação de celulose, papel e produtos de papel",
         "1800 - Impressão e reprodução de gravações",
         "1991 - Refino de petróleo e coquerias",
         "1992 - Fabricação de biocombustíveis",
         "2091 - Fabricação de químicos orgânicos e inorgânicos, resinas e elastômeros",
         "2092 - Fabricação de defensivos, desinfestantes, tintas e químicos diversos",
         "2093 - Fabricação de produtos de limpeza, cosméticos/perfumaria e higiene pessoal",
         "2100 - Fabricação de produtos farmoquímicos e farmacêuticos",
         "2200 - Fabricação de produtos de borracha e de material plástico",
         "2300 - Fabricação de produtos de minerais não metálicos",
         "2491 - Produção de ferro gusa/ferroligas, siderurgia e tubos de aço sem costura",
         "2492 - Metalurgia de metais não ferosos e a fundição de metais",
         "2500 - Fabricação de produtos de metal, exceto máquinas e equipamentos",
         "2600 - Fabricação de equipamentos de informática, produtos eletrônicos e ópticos",
         "2700 - Fabricação de máquinas e equipamentos elétricos",
         "2800 - Fabricação de máquinas e equipamentos mecânicos",
         "2991 - Fabricação de automóveis, caminhões e ônibus, exceto peças",
         "2992 - Fabricação de peças e acessórios para veículos automotores",
         "3000 - Fabricação de outros equipamentos de transporte, exceto veículos automotores",
         "3180 - Fabricação de móveis e de produtos de indústrias diversas",
         "3300 - Manutenção, reparação e instalação de máquinas e equipamentos",
         "3500 - Energia elétrica, gás natural e outras utilidades",
         "3680 - Água, esgoto e gestão de resíduos",
         "4180 - Construção",
         "4580 - Comércio por atacado e varejo",
         "4900 - Transporte terrestre",
         "5000 - Transporte aquaviário",
         "5100 - Transporte aéreo",
         "5280 - Armazenamento, atividades auxiliares dos transportes e correio",
         "5500 - Alojamento",
         "5600 - Alimentação",
         "5800 - Edição e edição integrada à impressão",
         "5980 - Atividades de televisão, rádio, cinema e  gravação/edição de som e imagem",
         "6100 - Telecomunicações",
         "6280 - Desenvolvimento de sistemas e outros serviços de informação",
         "6480 - Intermediação financeira, seguros e previdência complementar",
         "6800 - Atividades imobiliárias",
         "6980 - Atividades jurídicas, contábeis, consultoria e sedes de empresas ",
         "7180 - Serviços de arquitetura, engenharia, testes/análises técnicas e P & D",
         "7380 - Outras atividades profissionais, científicas e técnicas",
         "7700 - Aluguéis não imobiliários e gestão de ativos de propriedade intelectual",
         "7880 - Outras atividades administrativas e serviços complementares",
         "8000 - Atividades de vigilância, segurança e investigação",
         "8400 - Administração pública, defesa e seguridade social",
         "8591 - Educação pública",
         "8592 - Educação privada",
         "8691 - Saúde pública",
         "8692 - Saúde privada",
         "9080 - Atividades artísticas, criativas e de espetáculos",
         "9480 - Organizações associativas e outros serviços pessoais",
         "9700 - Serviços domésticos"
        ],
        [
         "1",
         "0191 - Agricultura, inclusive o apoio à agricultura e a pós-colheita",
         "Agricultura, inclusive o apoio à agricultura e a pós-colheita",
         "0.021002246386371",
         "0.0304742111288588",
         "0.00442029230690883",
         "9.27024745722437e-05",
         "3.78303075445139e-05",
         "8.73111994981075e-05",
         "9.36373704381465e-05",
         "0.0245138757628689",
         "0.547862746211586",
         "0.222947308963835",
         "0.0262467851212537",
         "0.402650787056365",
         "0.0927854300833159",
         "0.00907441324578529",
         "0.000150861487633592",
         "0.00253879658369931",
         "0.00160886204343567",
         "1.25166753914735e-05",
         "2.15189688026149e-05",
         "0.412691904108559",
         "6.7895393765772e-05",
         "0.000157886148150322",
         "4.13318368168587e-05",
         "0.00018465362533904",
         "0.000212454375105566",
         "0.000202918474851974",
         "0.000323208420112717",
         "0.000359073682863524",
         "2.84953611162363e-05",
         "2.51863732870631e-06",
         "3.92835951532863e-06",
         "5.38428397288959e-06",
         "3.134988790495e-06",
         "3.48563571784662e-06",
         "1.59791813687154e-05",
         "0.00013468838740596",
         "6.85012623586687e-07",
         "1.50142816634557e-06",
         "0.000528784484849009",
         "0.000669628611486954",
         "0.00788333469817948",
         "2.27085533624025e-06",
         "1.17056772365066e-06",
         "5.67019099160965e-06",
         "8.1379347657561e-05",
         "0.012717164803329",
         "0.0172250895225183",
         "4.22842758597673e-06",
         "1.23605833611464e-05",
         "0.0002495500759155",
         "1.1809569897473e-05",
         "1.88048376131411e-05",
         "3.06147880858072e-05",
         "3.65741203720981e-05",
         "0.000185896259123661",
         "6.2015362791937e-06",
         "1.17138560617291e-05",
         "0.000667071074966474",
         "4.61857487798918e-06",
         "0.000989890811420727",
         "0.00113146482717137",
         "0.000433576080441775",
         "0.00226879592929227",
         "0.000824555767604913",
         "6.56902278035898e-05",
         "0.00171553549475689",
         "0"
        ]
       ],
       "shape": {
        "columns": 69,
        "rows": 2
       }
      },
      "text/html": [
       "<div>\n",
       "<style scoped>\n",
       "    .dataframe tbody tr th:only-of-type {\n",
       "        vertical-align: middle;\n",
       "    }\n",
       "\n",
       "    .dataframe tbody tr th {\n",
       "        vertical-align: top;\n",
       "    }\n",
       "\n",
       "    .dataframe thead th {\n",
       "        text-align: right;\n",
       "    }\n",
       "</style>\n",
       "<table border=\"1\" class=\"dataframe\">\n",
       "  <thead>\n",
       "    <tr style=\"text-align: right;\">\n",
       "      <th></th>\n",
       "      <th>Código da Atividade Nível 67</th>\n",
       "      <th>Descrição da Atividade Nível 67</th>\n",
       "      <th>Atividades</th>\n",
       "      <th>Unnamed: 3</th>\n",
       "      <th>Unnamed: 4</th>\n",
       "      <th>Unnamed: 5</th>\n",
       "      <th>Unnamed: 6</th>\n",
       "      <th>Unnamed: 7</th>\n",
       "      <th>Unnamed: 8</th>\n",
       "      <th>Unnamed: 9</th>\n",
       "      <th>...</th>\n",
       "      <th>Unnamed: 59</th>\n",
       "      <th>Unnamed: 60</th>\n",
       "      <th>Unnamed: 61</th>\n",
       "      <th>Unnamed: 62</th>\n",
       "      <th>Unnamed: 63</th>\n",
       "      <th>Unnamed: 64</th>\n",
       "      <th>Unnamed: 65</th>\n",
       "      <th>Unnamed: 66</th>\n",
       "      <th>Unnamed: 67</th>\n",
       "      <th>Atividades.7</th>\n",
       "    </tr>\n",
       "  </thead>\n",
       "  <tbody>\n",
       "    <tr>\n",
       "      <th>0</th>\n",
       "      <td>NaN</td>\n",
       "      <td>NaN</td>\n",
       "      <td>0191 - Agricultura, inclusive o apoio à agricu...</td>\n",
       "      <td>0192 - Pecuária, inclusive o apoio à pecuária</td>\n",
       "      <td>0280 - Produção florestal; pesca e aquicultura</td>\n",
       "      <td>0580 - Extração de carvão mineral e de minerai...</td>\n",
       "      <td>0680 - Extração de petróleo e gás, inclusive a...</td>\n",
       "      <td>0791 - Extração de minério de ferro, inclusive...</td>\n",
       "      <td>0792 - Extração de minerais metálicos não ferr...</td>\n",
       "      <td>1091 - Abate e produtos de carne, inclusive os...</td>\n",
       "      <td>...</td>\n",
       "      <td>7880 - Outras atividades administrativas e ser...</td>\n",
       "      <td>8000 - Atividades de vigilância, segurança e i...</td>\n",
       "      <td>8400 - Administração pública, defesa e segurid...</td>\n",
       "      <td>8591 - Educação pública</td>\n",
       "      <td>8592 - Educação privada</td>\n",
       "      <td>8691 - Saúde pública</td>\n",
       "      <td>8692 - Saúde privada</td>\n",
       "      <td>9080 - Atividades artísticas, criativas e de e...</td>\n",
       "      <td>9480 - Organizações associativas e outros serv...</td>\n",
       "      <td>9700 - Serviços domésticos</td>\n",
       "    </tr>\n",
       "    <tr>\n",
       "      <th>1</th>\n",
       "      <td>0191 - Agricultura, inclusive o apoio à agricu...</td>\n",
       "      <td>Agricultura, inclusive o apoio à agricultura e...</td>\n",
       "      <td>0.021002</td>\n",
       "      <td>0.030474</td>\n",
       "      <td>0.00442</td>\n",
       "      <td>0.000093</td>\n",
       "      <td>0.000038</td>\n",
       "      <td>0.000087</td>\n",
       "      <td>0.000094</td>\n",
       "      <td>0.024514</td>\n",
       "      <td>...</td>\n",
       "      <td>0.000667</td>\n",
       "      <td>0.000005</td>\n",
       "      <td>0.00099</td>\n",
       "      <td>0.001131</td>\n",
       "      <td>0.000434</td>\n",
       "      <td>0.002269</td>\n",
       "      <td>0.000825</td>\n",
       "      <td>0.000066</td>\n",
       "      <td>0.001716</td>\n",
       "      <td>0</td>\n",
       "    </tr>\n",
       "  </tbody>\n",
       "</table>\n",
       "<p>2 rows × 69 columns</p>\n",
       "</div>"
      ],
      "text/plain": [
       "                        Código da Atividade Nível 67  \\\n",
       "0                                                NaN   \n",
       "1  0191 - Agricultura, inclusive o apoio à agricu...   \n",
       "\n",
       "                     Descrição da Atividade Nível 67  \\\n",
       "0                                                NaN   \n",
       "1  Agricultura, inclusive o apoio à agricultura e...   \n",
       "\n",
       "                                          Atividades  \\\n",
       "0  0191 - Agricultura, inclusive o apoio à agricu...   \n",
       "1                                           0.021002   \n",
       "\n",
       "                                      Unnamed: 3  \\\n",
       "0  0192 - Pecuária, inclusive o apoio à pecuária   \n",
       "1                                       0.030474   \n",
       "\n",
       "                                       Unnamed: 4  \\\n",
       "0  0280 - Produção florestal; pesca e aquicultura   \n",
       "1                                         0.00442   \n",
       "\n",
       "                                          Unnamed: 5  \\\n",
       "0  0580 - Extração de carvão mineral e de minerai...   \n",
       "1                                           0.000093   \n",
       "\n",
       "                                          Unnamed: 6  \\\n",
       "0  0680 - Extração de petróleo e gás, inclusive a...   \n",
       "1                                           0.000038   \n",
       "\n",
       "                                          Unnamed: 7  \\\n",
       "0  0791 - Extração de minério de ferro, inclusive...   \n",
       "1                                           0.000087   \n",
       "\n",
       "                                          Unnamed: 8  \\\n",
       "0  0792 - Extração de minerais metálicos não ferr...   \n",
       "1                                           0.000094   \n",
       "\n",
       "                                          Unnamed: 9  ...  \\\n",
       "0  1091 - Abate e produtos de carne, inclusive os...  ...   \n",
       "1                                           0.024514  ...   \n",
       "\n",
       "                                         Unnamed: 59  \\\n",
       "0  7880 - Outras atividades administrativas e ser...   \n",
       "1                                           0.000667   \n",
       "\n",
       "                                         Unnamed: 60  \\\n",
       "0  8000 - Atividades de vigilância, segurança e i...   \n",
       "1                                           0.000005   \n",
       "\n",
       "                                         Unnamed: 61              Unnamed: 62  \\\n",
       "0  8400 - Administração pública, defesa e segurid...  8591 - Educação pública   \n",
       "1                                            0.00099                 0.001131   \n",
       "\n",
       "               Unnamed: 63           Unnamed: 64           Unnamed: 65  \\\n",
       "0  8592 - Educação privada  8691 - Saúde pública  8692 - Saúde privada   \n",
       "1                 0.000434              0.002269              0.000825   \n",
       "\n",
       "                                         Unnamed: 66  \\\n",
       "0  9080 - Atividades artísticas, criativas e de e...   \n",
       "1                                           0.000066   \n",
       "\n",
       "                                         Unnamed: 67  \\\n",
       "0  9480 - Organizações associativas e outros serv...   \n",
       "1                                           0.001716   \n",
       "\n",
       "                 Atividades.7  \n",
       "0  9700 - Serviços domésticos  \n",
       "1                           0  \n",
       "\n",
       "[2 rows x 69 columns]"
      ]
     },
     "execution_count": 7,
     "metadata": {},
     "output_type": "execute_result"
    }
   ],
   "source": [
    "A.head(2)"
   ]
  },
  {
   "cell_type": "code",
   "execution_count": 8,
   "id": "36d20317",
   "metadata": {},
   "outputs": [],
   "source": [
    "A = A.drop(A.columns[1],axis=1)"
   ]
  },
  {
   "cell_type": "code",
   "execution_count": 9,
   "id": "5513c081",
   "metadata": {},
   "outputs": [],
   "source": [
    "idx = A.loc[1:,A.columns[0]]"
   ]
  },
  {
   "cell_type": "code",
   "execution_count": 10,
   "id": "d0198d29",
   "metadata": {},
   "outputs": [],
   "source": [
    "A = A.loc[:,A.columns[1:]]"
   ]
  },
  {
   "cell_type": "code",
   "execution_count": 11,
   "id": "5532092b",
   "metadata": {},
   "outputs": [
    {
     "data": {
      "application/vnd.microsoft.datawrangler.viewer.v0+json": {
       "columns": [
        {
         "name": "index",
         "rawType": "int64",
         "type": "integer"
        },
        {
         "name": "Atividades",
         "rawType": "object",
         "type": "unknown"
        },
        {
         "name": "Unnamed: 3",
         "rawType": "object",
         "type": "unknown"
        },
        {
         "name": "Unnamed: 4",
         "rawType": "object",
         "type": "unknown"
        },
        {
         "name": "Unnamed: 5",
         "rawType": "object",
         "type": "unknown"
        },
        {
         "name": "Unnamed: 6",
         "rawType": "object",
         "type": "unknown"
        },
        {
         "name": "Unnamed: 7",
         "rawType": "object",
         "type": "unknown"
        },
        {
         "name": "Unnamed: 8",
         "rawType": "object",
         "type": "unknown"
        },
        {
         "name": "Unnamed: 9",
         "rawType": "object",
         "type": "unknown"
        },
        {
         "name": "Unnamed: 10",
         "rawType": "object",
         "type": "unknown"
        },
        {
         "name": "Atividades.1",
         "rawType": "object",
         "type": "unknown"
        },
        {
         "name": "Unnamed: 12",
         "rawType": "object",
         "type": "unknown"
        },
        {
         "name": "Unnamed: 13",
         "rawType": "object",
         "type": "unknown"
        },
        {
         "name": "Unnamed: 14",
         "rawType": "object",
         "type": "unknown"
        },
        {
         "name": "Unnamed: 15",
         "rawType": "object",
         "type": "unknown"
        },
        {
         "name": "Unnamed: 16",
         "rawType": "object",
         "type": "unknown"
        },
        {
         "name": "Unnamed: 17",
         "rawType": "object",
         "type": "unknown"
        },
        {
         "name": "Unnamed: 18",
         "rawType": "object",
         "type": "unknown"
        },
        {
         "name": "Unnamed: 19",
         "rawType": "object",
         "type": "unknown"
        },
        {
         "name": "Atividades.2",
         "rawType": "object",
         "type": "unknown"
        },
        {
         "name": "Unnamed: 21",
         "rawType": "object",
         "type": "unknown"
        },
        {
         "name": "Unnamed: 22",
         "rawType": "object",
         "type": "unknown"
        },
        {
         "name": "Unnamed: 23",
         "rawType": "object",
         "type": "unknown"
        },
        {
         "name": "Unnamed: 24",
         "rawType": "object",
         "type": "unknown"
        },
        {
         "name": "Unnamed: 25",
         "rawType": "object",
         "type": "unknown"
        },
        {
         "name": "Unnamed: 26",
         "rawType": "object",
         "type": "unknown"
        },
        {
         "name": "Unnamed: 27",
         "rawType": "object",
         "type": "unknown"
        },
        {
         "name": "Unnamed: 28",
         "rawType": "object",
         "type": "unknown"
        },
        {
         "name": "Atividades.3",
         "rawType": "object",
         "type": "unknown"
        },
        {
         "name": "Unnamed: 30",
         "rawType": "object",
         "type": "unknown"
        },
        {
         "name": "Unnamed: 31",
         "rawType": "object",
         "type": "unknown"
        },
        {
         "name": "Unnamed: 32",
         "rawType": "object",
         "type": "unknown"
        },
        {
         "name": "Unnamed: 33",
         "rawType": "object",
         "type": "unknown"
        },
        {
         "name": "Unnamed: 34",
         "rawType": "object",
         "type": "unknown"
        },
        {
         "name": "Unnamed: 35",
         "rawType": "object",
         "type": "unknown"
        },
        {
         "name": "Unnamed: 36",
         "rawType": "object",
         "type": "unknown"
        },
        {
         "name": "Unnamed: 37",
         "rawType": "object",
         "type": "unknown"
        },
        {
         "name": "Atividades.4",
         "rawType": "object",
         "type": "unknown"
        },
        {
         "name": "Unnamed: 39",
         "rawType": "object",
         "type": "unknown"
        },
        {
         "name": "Unnamed: 40",
         "rawType": "object",
         "type": "unknown"
        },
        {
         "name": "Unnamed: 41",
         "rawType": "object",
         "type": "unknown"
        },
        {
         "name": "Unnamed: 42",
         "rawType": "object",
         "type": "unknown"
        },
        {
         "name": "Unnamed: 43",
         "rawType": "object",
         "type": "unknown"
        },
        {
         "name": "Unnamed: 44",
         "rawType": "object",
         "type": "unknown"
        },
        {
         "name": "Unnamed: 45",
         "rawType": "object",
         "type": "unknown"
        },
        {
         "name": "Unnamed: 46",
         "rawType": "object",
         "type": "unknown"
        },
        {
         "name": "Atividades.5",
         "rawType": "object",
         "type": "unknown"
        },
        {
         "name": "Unnamed: 48",
         "rawType": "object",
         "type": "unknown"
        },
        {
         "name": "Unnamed: 49",
         "rawType": "object",
         "type": "unknown"
        },
        {
         "name": "Unnamed: 50",
         "rawType": "object",
         "type": "unknown"
        },
        {
         "name": "Unnamed: 51",
         "rawType": "object",
         "type": "unknown"
        },
        {
         "name": "Unnamed: 52",
         "rawType": "object",
         "type": "unknown"
        },
        {
         "name": "Unnamed: 53",
         "rawType": "object",
         "type": "unknown"
        },
        {
         "name": "Unnamed: 54",
         "rawType": "object",
         "type": "unknown"
        },
        {
         "name": "Unnamed: 55",
         "rawType": "object",
         "type": "unknown"
        },
        {
         "name": "Atividades.6",
         "rawType": "object",
         "type": "unknown"
        },
        {
         "name": "Unnamed: 57",
         "rawType": "object",
         "type": "unknown"
        },
        {
         "name": "Unnamed: 58",
         "rawType": "object",
         "type": "unknown"
        },
        {
         "name": "Unnamed: 59",
         "rawType": "object",
         "type": "unknown"
        },
        {
         "name": "Unnamed: 60",
         "rawType": "object",
         "type": "unknown"
        },
        {
         "name": "Unnamed: 61",
         "rawType": "object",
         "type": "unknown"
        },
        {
         "name": "Unnamed: 62",
         "rawType": "object",
         "type": "unknown"
        },
        {
         "name": "Unnamed: 63",
         "rawType": "object",
         "type": "unknown"
        },
        {
         "name": "Unnamed: 64",
         "rawType": "object",
         "type": "unknown"
        },
        {
         "name": "Unnamed: 65",
         "rawType": "object",
         "type": "unknown"
        },
        {
         "name": "Unnamed: 66",
         "rawType": "object",
         "type": "unknown"
        },
        {
         "name": "Unnamed: 67",
         "rawType": "object",
         "type": "unknown"
        },
        {
         "name": "Atividades.7",
         "rawType": "object",
         "type": "unknown"
        }
       ],
       "ref": "52463225-6987-4bd3-94b1-b16bd500624f",
       "rows": [
        [
         "0",
         "0191 - Agricultura, inclusive o apoio à agricultura e a pós-colheita",
         "0192 - Pecuária, inclusive o apoio à pecuária",
         "0280 - Produção florestal; pesca e aquicultura",
         "0580 - Extração de carvão mineral e de minerais não metálicos",
         "0680 - Extração de petróleo e gás, inclusive as atividades de apoio",
         "0791 - Extração de minério de ferro, inclusive beneficiamentos e a aglomeração",
         "0792 - Extração de minerais metálicos não ferrosos, inclusive beneficiamentos",
         "1091 - Abate e produtos de carne, inclusive os produtos do laticínio e da pesca",
         "1092 - Fabricação e refino de açúcar",
         "1093 - Outros produtos alimentares",
         "1100 - Fabricação de bebidas",
         "1200 - Fabricação de produtos do fumo",
         "1300 - Fabricação de produtos têxteis",
         "1400 - Confecção de artefatos do vestuário e acessórios",
         "1500 - Fabricação de calçados e de artefatos de couro",
         "1600 - Fabricação de produtos da madeira",
         "1700 - Fabricação de celulose, papel e produtos de papel",
         "1800 - Impressão e reprodução de gravações",
         "1991 - Refino de petróleo e coquerias",
         "1992 - Fabricação de biocombustíveis",
         "2091 - Fabricação de químicos orgânicos e inorgânicos, resinas e elastômeros",
         "2092 - Fabricação de defensivos, desinfestantes, tintas e químicos diversos",
         "2093 - Fabricação de produtos de limpeza, cosméticos/perfumaria e higiene pessoal",
         "2100 - Fabricação de produtos farmoquímicos e farmacêuticos",
         "2200 - Fabricação de produtos de borracha e de material plástico",
         "2300 - Fabricação de produtos de minerais não metálicos",
         "2491 - Produção de ferro gusa/ferroligas, siderurgia e tubos de aço sem costura",
         "2492 - Metalurgia de metais não ferosos e a fundição de metais",
         "2500 - Fabricação de produtos de metal, exceto máquinas e equipamentos",
         "2600 - Fabricação de equipamentos de informática, produtos eletrônicos e ópticos",
         "2700 - Fabricação de máquinas e equipamentos elétricos",
         "2800 - Fabricação de máquinas e equipamentos mecânicos",
         "2991 - Fabricação de automóveis, caminhões e ônibus, exceto peças",
         "2992 - Fabricação de peças e acessórios para veículos automotores",
         "3000 - Fabricação de outros equipamentos de transporte, exceto veículos automotores",
         "3180 - Fabricação de móveis e de produtos de indústrias diversas",
         "3300 - Manutenção, reparação e instalação de máquinas e equipamentos",
         "3500 - Energia elétrica, gás natural e outras utilidades",
         "3680 - Água, esgoto e gestão de resíduos",
         "4180 - Construção",
         "4580 - Comércio por atacado e varejo",
         "4900 - Transporte terrestre",
         "5000 - Transporte aquaviário",
         "5100 - Transporte aéreo",
         "5280 - Armazenamento, atividades auxiliares dos transportes e correio",
         "5500 - Alojamento",
         "5600 - Alimentação",
         "5800 - Edição e edição integrada à impressão",
         "5980 - Atividades de televisão, rádio, cinema e  gravação/edição de som e imagem",
         "6100 - Telecomunicações",
         "6280 - Desenvolvimento de sistemas e outros serviços de informação",
         "6480 - Intermediação financeira, seguros e previdência complementar",
         "6800 - Atividades imobiliárias",
         "6980 - Atividades jurídicas, contábeis, consultoria e sedes de empresas ",
         "7180 - Serviços de arquitetura, engenharia, testes/análises técnicas e P & D",
         "7380 - Outras atividades profissionais, científicas e técnicas",
         "7700 - Aluguéis não imobiliários e gestão de ativos de propriedade intelectual",
         "7880 - Outras atividades administrativas e serviços complementares",
         "8000 - Atividades de vigilância, segurança e investigação",
         "8400 - Administração pública, defesa e seguridade social",
         "8591 - Educação pública",
         "8592 - Educação privada",
         "8691 - Saúde pública",
         "8692 - Saúde privada",
         "9080 - Atividades artísticas, criativas e de espetáculos",
         "9480 - Organizações associativas e outros serviços pessoais",
         "9700 - Serviços domésticos"
        ],
        [
         "1",
         "0.021002246386371",
         "0.0304742111288588",
         "0.00442029230690883",
         "9.27024745722437e-05",
         "3.78303075445139e-05",
         "8.73111994981075e-05",
         "9.36373704381465e-05",
         "0.0245138757628689",
         "0.547862746211586",
         "0.222947308963835",
         "0.0262467851212537",
         "0.402650787056365",
         "0.0927854300833159",
         "0.00907441324578529",
         "0.000150861487633592",
         "0.00253879658369931",
         "0.00160886204343567",
         "1.25166753914735e-05",
         "2.15189688026149e-05",
         "0.412691904108559",
         "6.7895393765772e-05",
         "0.000157886148150322",
         "4.13318368168587e-05",
         "0.00018465362533904",
         "0.000212454375105566",
         "0.000202918474851974",
         "0.000323208420112717",
         "0.000359073682863524",
         "2.84953611162363e-05",
         "2.51863732870631e-06",
         "3.92835951532863e-06",
         "5.38428397288959e-06",
         "3.134988790495e-06",
         "3.48563571784662e-06",
         "1.59791813687154e-05",
         "0.00013468838740596",
         "6.85012623586687e-07",
         "1.50142816634557e-06",
         "0.000528784484849009",
         "0.000669628611486954",
         "0.00788333469817948",
         "2.27085533624025e-06",
         "1.17056772365066e-06",
         "5.67019099160965e-06",
         "8.1379347657561e-05",
         "0.012717164803329",
         "0.0172250895225183",
         "4.22842758597673e-06",
         "1.23605833611464e-05",
         "0.0002495500759155",
         "1.1809569897473e-05",
         "1.88048376131411e-05",
         "3.06147880858072e-05",
         "3.65741203720981e-05",
         "0.000185896259123661",
         "6.2015362791937e-06",
         "1.17138560617291e-05",
         "0.000667071074966474",
         "4.61857487798918e-06",
         "0.000989890811420727",
         "0.00113146482717137",
         "0.000433576080441775",
         "0.00226879592929227",
         "0.000824555767604913",
         "6.56902278035898e-05",
         "0.00171553549475689",
         "0"
        ]
       ],
       "shape": {
        "columns": 67,
        "rows": 2
       }
      },
      "text/html": [
       "<div>\n",
       "<style scoped>\n",
       "    .dataframe tbody tr th:only-of-type {\n",
       "        vertical-align: middle;\n",
       "    }\n",
       "\n",
       "    .dataframe tbody tr th {\n",
       "        vertical-align: top;\n",
       "    }\n",
       "\n",
       "    .dataframe thead th {\n",
       "        text-align: right;\n",
       "    }\n",
       "</style>\n",
       "<table border=\"1\" class=\"dataframe\">\n",
       "  <thead>\n",
       "    <tr style=\"text-align: right;\">\n",
       "      <th></th>\n",
       "      <th>Atividades</th>\n",
       "      <th>Unnamed: 3</th>\n",
       "      <th>Unnamed: 4</th>\n",
       "      <th>Unnamed: 5</th>\n",
       "      <th>Unnamed: 6</th>\n",
       "      <th>Unnamed: 7</th>\n",
       "      <th>Unnamed: 8</th>\n",
       "      <th>Unnamed: 9</th>\n",
       "      <th>Unnamed: 10</th>\n",
       "      <th>Atividades.1</th>\n",
       "      <th>...</th>\n",
       "      <th>Unnamed: 59</th>\n",
       "      <th>Unnamed: 60</th>\n",
       "      <th>Unnamed: 61</th>\n",
       "      <th>Unnamed: 62</th>\n",
       "      <th>Unnamed: 63</th>\n",
       "      <th>Unnamed: 64</th>\n",
       "      <th>Unnamed: 65</th>\n",
       "      <th>Unnamed: 66</th>\n",
       "      <th>Unnamed: 67</th>\n",
       "      <th>Atividades.7</th>\n",
       "    </tr>\n",
       "  </thead>\n",
       "  <tbody>\n",
       "    <tr>\n",
       "      <th>0</th>\n",
       "      <td>0191 - Agricultura, inclusive o apoio à agricu...</td>\n",
       "      <td>0192 - Pecuária, inclusive o apoio à pecuária</td>\n",
       "      <td>0280 - Produção florestal; pesca e aquicultura</td>\n",
       "      <td>0580 - Extração de carvão mineral e de minerai...</td>\n",
       "      <td>0680 - Extração de petróleo e gás, inclusive a...</td>\n",
       "      <td>0791 - Extração de minério de ferro, inclusive...</td>\n",
       "      <td>0792 - Extração de minerais metálicos não ferr...</td>\n",
       "      <td>1091 - Abate e produtos de carne, inclusive os...</td>\n",
       "      <td>1092 - Fabricação e refino de açúcar</td>\n",
       "      <td>1093 - Outros produtos alimentares</td>\n",
       "      <td>...</td>\n",
       "      <td>7880 - Outras atividades administrativas e ser...</td>\n",
       "      <td>8000 - Atividades de vigilância, segurança e i...</td>\n",
       "      <td>8400 - Administração pública, defesa e segurid...</td>\n",
       "      <td>8591 - Educação pública</td>\n",
       "      <td>8592 - Educação privada</td>\n",
       "      <td>8691 - Saúde pública</td>\n",
       "      <td>8692 - Saúde privada</td>\n",
       "      <td>9080 - Atividades artísticas, criativas e de e...</td>\n",
       "      <td>9480 - Organizações associativas e outros serv...</td>\n",
       "      <td>9700 - Serviços domésticos</td>\n",
       "    </tr>\n",
       "    <tr>\n",
       "      <th>1</th>\n",
       "      <td>0.021002</td>\n",
       "      <td>0.030474</td>\n",
       "      <td>0.00442</td>\n",
       "      <td>0.000093</td>\n",
       "      <td>0.000038</td>\n",
       "      <td>0.000087</td>\n",
       "      <td>0.000094</td>\n",
       "      <td>0.024514</td>\n",
       "      <td>0.547863</td>\n",
       "      <td>0.222947</td>\n",
       "      <td>...</td>\n",
       "      <td>0.000667</td>\n",
       "      <td>0.000005</td>\n",
       "      <td>0.00099</td>\n",
       "      <td>0.001131</td>\n",
       "      <td>0.000434</td>\n",
       "      <td>0.002269</td>\n",
       "      <td>0.000825</td>\n",
       "      <td>0.000066</td>\n",
       "      <td>0.001716</td>\n",
       "      <td>0</td>\n",
       "    </tr>\n",
       "  </tbody>\n",
       "</table>\n",
       "<p>2 rows × 67 columns</p>\n",
       "</div>"
      ],
      "text/plain": [
       "                                          Atividades  \\\n",
       "0  0191 - Agricultura, inclusive o apoio à agricu...   \n",
       "1                                           0.021002   \n",
       "\n",
       "                                      Unnamed: 3  \\\n",
       "0  0192 - Pecuária, inclusive o apoio à pecuária   \n",
       "1                                       0.030474   \n",
       "\n",
       "                                       Unnamed: 4  \\\n",
       "0  0280 - Produção florestal; pesca e aquicultura   \n",
       "1                                         0.00442   \n",
       "\n",
       "                                          Unnamed: 5  \\\n",
       "0  0580 - Extração de carvão mineral e de minerai...   \n",
       "1                                           0.000093   \n",
       "\n",
       "                                          Unnamed: 6  \\\n",
       "0  0680 - Extração de petróleo e gás, inclusive a...   \n",
       "1                                           0.000038   \n",
       "\n",
       "                                          Unnamed: 7  \\\n",
       "0  0791 - Extração de minério de ferro, inclusive...   \n",
       "1                                           0.000087   \n",
       "\n",
       "                                          Unnamed: 8  \\\n",
       "0  0792 - Extração de minerais metálicos não ferr...   \n",
       "1                                           0.000094   \n",
       "\n",
       "                                          Unnamed: 9  \\\n",
       "0  1091 - Abate e produtos de carne, inclusive os...   \n",
       "1                                           0.024514   \n",
       "\n",
       "                            Unnamed: 10                        Atividades.1  \\\n",
       "0  1092 - Fabricação e refino de açúcar  1093 - Outros produtos alimentares   \n",
       "1                              0.547863                            0.222947   \n",
       "\n",
       "   ...                                        Unnamed: 59  \\\n",
       "0  ...  7880 - Outras atividades administrativas e ser...   \n",
       "1  ...                                           0.000667   \n",
       "\n",
       "                                         Unnamed: 60  \\\n",
       "0  8000 - Atividades de vigilância, segurança e i...   \n",
       "1                                           0.000005   \n",
       "\n",
       "                                         Unnamed: 61              Unnamed: 62  \\\n",
       "0  8400 - Administração pública, defesa e segurid...  8591 - Educação pública   \n",
       "1                                            0.00099                 0.001131   \n",
       "\n",
       "               Unnamed: 63           Unnamed: 64           Unnamed: 65  \\\n",
       "0  8592 - Educação privada  8691 - Saúde pública  8692 - Saúde privada   \n",
       "1                 0.000434              0.002269              0.000825   \n",
       "\n",
       "                                         Unnamed: 66  \\\n",
       "0  9080 - Atividades artísticas, criativas e de e...   \n",
       "1                                           0.000066   \n",
       "\n",
       "                                         Unnamed: 67  \\\n",
       "0  9480 - Organizações associativas e outros serv...   \n",
       "1                                           0.001716   \n",
       "\n",
       "                 Atividades.7  \n",
       "0  9700 - Serviços domésticos  \n",
       "1                           0  \n",
       "\n",
       "[2 rows x 67 columns]"
      ]
     },
     "execution_count": 11,
     "metadata": {},
     "output_type": "execute_result"
    }
   ],
   "source": [
    "A.head(2)"
   ]
  },
  {
   "cell_type": "code",
   "execution_count": 12,
   "id": "28d4bfc9",
   "metadata": {},
   "outputs": [
    {
     "data": {
      "application/vnd.microsoft.datawrangler.viewer.v0+json": {
       "columns": [
        {
         "name": "index",
         "rawType": "object",
         "type": "string"
        },
        {
         "name": "0",
         "rawType": "object",
         "type": "string"
        }
       ],
       "ref": "2e5b015f-bd5d-40e2-94f4-cf8b87d038cc",
       "rows": [
        [
         "Atividades",
         "0191 - Agricultura, inclusive o apoio à agricultura e a pós-colheita"
        ],
        [
         "Unnamed: 3",
         "0192 - Pecuária, inclusive o apoio à pecuária"
        ],
        [
         "Unnamed: 4",
         "0280 - Produção florestal; pesca e aquicultura"
        ],
        [
         "Unnamed: 5",
         "0580 - Extração de carvão mineral e de minerais não metálicos"
        ],
        [
         "Unnamed: 6",
         "0680 - Extração de petróleo e gás, inclusive as atividades de apoio"
        ],
        [
         "Unnamed: 7",
         "0791 - Extração de minério de ferro, inclusive beneficiamentos e a aglomeração"
        ],
        [
         "Unnamed: 8",
         "0792 - Extração de minerais metálicos não ferrosos, inclusive beneficiamentos"
        ],
        [
         "Unnamed: 9",
         "1091 - Abate e produtos de carne, inclusive os produtos do laticínio e da pesca"
        ],
        [
         "Unnamed: 10",
         "1092 - Fabricação e refino de açúcar"
        ],
        [
         "Atividades.1",
         "1093 - Outros produtos alimentares"
        ],
        [
         "Unnamed: 12",
         "1100 - Fabricação de bebidas"
        ],
        [
         "Unnamed: 13",
         "1200 - Fabricação de produtos do fumo"
        ],
        [
         "Unnamed: 14",
         "1300 - Fabricação de produtos têxteis"
        ],
        [
         "Unnamed: 15",
         "1400 - Confecção de artefatos do vestuário e acessórios"
        ],
        [
         "Unnamed: 16",
         "1500 - Fabricação de calçados e de artefatos de couro"
        ],
        [
         "Unnamed: 17",
         "1600 - Fabricação de produtos da madeira"
        ],
        [
         "Unnamed: 18",
         "1700 - Fabricação de celulose, papel e produtos de papel"
        ],
        [
         "Unnamed: 19",
         "1800 - Impressão e reprodução de gravações"
        ],
        [
         "Atividades.2",
         "1991 - Refino de petróleo e coquerias"
        ],
        [
         "Unnamed: 21",
         "1992 - Fabricação de biocombustíveis"
        ],
        [
         "Unnamed: 22",
         "2091 - Fabricação de químicos orgânicos e inorgânicos, resinas e elastômeros"
        ],
        [
         "Unnamed: 23",
         "2092 - Fabricação de defensivos, desinfestantes, tintas e químicos diversos"
        ],
        [
         "Unnamed: 24",
         "2093 - Fabricação de produtos de limpeza, cosméticos/perfumaria e higiene pessoal"
        ],
        [
         "Unnamed: 25",
         "2100 - Fabricação de produtos farmoquímicos e farmacêuticos"
        ],
        [
         "Unnamed: 26",
         "2200 - Fabricação de produtos de borracha e de material plástico"
        ],
        [
         "Unnamed: 27",
         "2300 - Fabricação de produtos de minerais não metálicos"
        ],
        [
         "Unnamed: 28",
         "2491 - Produção de ferro gusa/ferroligas, siderurgia e tubos de aço sem costura"
        ],
        [
         "Atividades.3",
         "2492 - Metalurgia de metais não ferosos e a fundição de metais"
        ],
        [
         "Unnamed: 30",
         "2500 - Fabricação de produtos de metal, exceto máquinas e equipamentos"
        ],
        [
         "Unnamed: 31",
         "2600 - Fabricação de equipamentos de informática, produtos eletrônicos e ópticos"
        ],
        [
         "Unnamed: 32",
         "2700 - Fabricação de máquinas e equipamentos elétricos"
        ],
        [
         "Unnamed: 33",
         "2800 - Fabricação de máquinas e equipamentos mecânicos"
        ],
        [
         "Unnamed: 34",
         "2991 - Fabricação de automóveis, caminhões e ônibus, exceto peças"
        ],
        [
         "Unnamed: 35",
         "2992 - Fabricação de peças e acessórios para veículos automotores"
        ],
        [
         "Unnamed: 36",
         "3000 - Fabricação de outros equipamentos de transporte, exceto veículos automotores"
        ],
        [
         "Unnamed: 37",
         "3180 - Fabricação de móveis e de produtos de indústrias diversas"
        ],
        [
         "Atividades.4",
         "3300 - Manutenção, reparação e instalação de máquinas e equipamentos"
        ],
        [
         "Unnamed: 39",
         "3500 - Energia elétrica, gás natural e outras utilidades"
        ],
        [
         "Unnamed: 40",
         "3680 - Água, esgoto e gestão de resíduos"
        ],
        [
         "Unnamed: 41",
         "4180 - Construção"
        ],
        [
         "Unnamed: 42",
         "4580 - Comércio por atacado e varejo"
        ],
        [
         "Unnamed: 43",
         "4900 - Transporte terrestre"
        ],
        [
         "Unnamed: 44",
         "5000 - Transporte aquaviário"
        ],
        [
         "Unnamed: 45",
         "5100 - Transporte aéreo"
        ],
        [
         "Unnamed: 46",
         "5280 - Armazenamento, atividades auxiliares dos transportes e correio"
        ],
        [
         "Atividades.5",
         "5500 - Alojamento"
        ],
        [
         "Unnamed: 48",
         "5600 - Alimentação"
        ],
        [
         "Unnamed: 49",
         "5800 - Edição e edição integrada à impressão"
        ],
        [
         "Unnamed: 50",
         "5980 - Atividades de televisão, rádio, cinema e  gravação/edição de som e imagem"
        ],
        [
         "Unnamed: 51",
         "6100 - Telecomunicações"
        ]
       ],
       "shape": {
        "columns": 1,
        "rows": 67
       }
      },
      "text/plain": [
       "Atividades      0191 - Agricultura, inclusive o apoio à agricu...\n",
       "Unnamed: 3          0192 - Pecuária, inclusive o apoio à pecuária\n",
       "Unnamed: 4         0280 - Produção florestal; pesca e aquicultura\n",
       "Unnamed: 5      0580 - Extração de carvão mineral e de minerai...\n",
       "Unnamed: 6      0680 - Extração de petróleo e gás, inclusive a...\n",
       "                                      ...                        \n",
       "Unnamed: 64                                  8691 - Saúde pública\n",
       "Unnamed: 65                                  8692 - Saúde privada\n",
       "Unnamed: 66     9080 - Atividades artísticas, criativas e de e...\n",
       "Unnamed: 67     9480 - Organizações associativas e outros serv...\n",
       "Atividades.7                           9700 - Serviços domésticos\n",
       "Name: 0, Length: 67, dtype: object"
      ]
     },
     "execution_count": 12,
     "metadata": {},
     "output_type": "execute_result"
    }
   ],
   "source": [
    "A.loc[0,:]"
   ]
  },
  {
   "cell_type": "code",
   "execution_count": 13,
   "id": "31c99052",
   "metadata": {},
   "outputs": [],
   "source": [
    "A.columns = A.loc[0,:].values"
   ]
  },
  {
   "cell_type": "code",
   "execution_count": 14,
   "id": "dbdfa160",
   "metadata": {},
   "outputs": [
    {
     "data": {
      "application/vnd.microsoft.datawrangler.viewer.v0+json": {
       "columns": [
        {
         "name": "index",
         "rawType": "object",
         "type": "string"
        },
        {
         "name": "0",
         "rawType": "object",
         "type": "string"
        }
       ],
       "ref": "c527d251-daae-4e4e-a3fa-53f05a0a9692",
       "rows": [
        [
         "0191 - Agricultura, inclusive o apoio à agricultura e a pós-colheita",
         "0191 - Agricultura, inclusive o apoio à agricultura e a pós-colheita"
        ],
        [
         "0192 - Pecuária, inclusive o apoio à pecuária",
         "0192 - Pecuária, inclusive o apoio à pecuária"
        ],
        [
         "0280 - Produção florestal; pesca e aquicultura",
         "0280 - Produção florestal; pesca e aquicultura"
        ],
        [
         "0580 - Extração de carvão mineral e de minerais não metálicos",
         "0580 - Extração de carvão mineral e de minerais não metálicos"
        ],
        [
         "0680 - Extração de petróleo e gás, inclusive as atividades de apoio",
         "0680 - Extração de petróleo e gás, inclusive as atividades de apoio"
        ],
        [
         "0791 - Extração de minério de ferro, inclusive beneficiamentos e a aglomeração",
         "0791 - Extração de minério de ferro, inclusive beneficiamentos e a aglomeração"
        ],
        [
         "0792 - Extração de minerais metálicos não ferrosos, inclusive beneficiamentos",
         "0792 - Extração de minerais metálicos não ferrosos, inclusive beneficiamentos"
        ],
        [
         "1091 - Abate e produtos de carne, inclusive os produtos do laticínio e da pesca",
         "1091 - Abate e produtos de carne, inclusive os produtos do laticínio e da pesca"
        ],
        [
         "1092 - Fabricação e refino de açúcar",
         "1092 - Fabricação e refino de açúcar"
        ],
        [
         "1093 - Outros produtos alimentares",
         "1093 - Outros produtos alimentares"
        ],
        [
         "1100 - Fabricação de bebidas",
         "1100 - Fabricação de bebidas"
        ],
        [
         "1200 - Fabricação de produtos do fumo",
         "1200 - Fabricação de produtos do fumo"
        ],
        [
         "1300 - Fabricação de produtos têxteis",
         "1300 - Fabricação de produtos têxteis"
        ],
        [
         "1400 - Confecção de artefatos do vestuário e acessórios",
         "1400 - Confecção de artefatos do vestuário e acessórios"
        ],
        [
         "1500 - Fabricação de calçados e de artefatos de couro",
         "1500 - Fabricação de calçados e de artefatos de couro"
        ],
        [
         "1600 - Fabricação de produtos da madeira",
         "1600 - Fabricação de produtos da madeira"
        ],
        [
         "1700 - Fabricação de celulose, papel e produtos de papel",
         "1700 - Fabricação de celulose, papel e produtos de papel"
        ],
        [
         "1800 - Impressão e reprodução de gravações",
         "1800 - Impressão e reprodução de gravações"
        ],
        [
         "1991 - Refino de petróleo e coquerias",
         "1991 - Refino de petróleo e coquerias"
        ],
        [
         "1992 - Fabricação de biocombustíveis",
         "1992 - Fabricação de biocombustíveis"
        ],
        [
         "2091 - Fabricação de químicos orgânicos e inorgânicos, resinas e elastômeros",
         "2091 - Fabricação de químicos orgânicos e inorgânicos, resinas e elastômeros"
        ],
        [
         "2092 - Fabricação de defensivos, desinfestantes, tintas e químicos diversos",
         "2092 - Fabricação de defensivos, desinfestantes, tintas e químicos diversos"
        ],
        [
         "2093 - Fabricação de produtos de limpeza, cosméticos/perfumaria e higiene pessoal",
         "2093 - Fabricação de produtos de limpeza, cosméticos/perfumaria e higiene pessoal"
        ],
        [
         "2100 - Fabricação de produtos farmoquímicos e farmacêuticos",
         "2100 - Fabricação de produtos farmoquímicos e farmacêuticos"
        ],
        [
         "2200 - Fabricação de produtos de borracha e de material plástico",
         "2200 - Fabricação de produtos de borracha e de material plástico"
        ],
        [
         "2300 - Fabricação de produtos de minerais não metálicos",
         "2300 - Fabricação de produtos de minerais não metálicos"
        ],
        [
         "2491 - Produção de ferro gusa/ferroligas, siderurgia e tubos de aço sem costura",
         "2491 - Produção de ferro gusa/ferroligas, siderurgia e tubos de aço sem costura"
        ],
        [
         "2492 - Metalurgia de metais não ferosos e a fundição de metais",
         "2492 - Metalurgia de metais não ferosos e a fundição de metais"
        ],
        [
         "2500 - Fabricação de produtos de metal, exceto máquinas e equipamentos",
         "2500 - Fabricação de produtos de metal, exceto máquinas e equipamentos"
        ],
        [
         "2600 - Fabricação de equipamentos de informática, produtos eletrônicos e ópticos",
         "2600 - Fabricação de equipamentos de informática, produtos eletrônicos e ópticos"
        ],
        [
         "2700 - Fabricação de máquinas e equipamentos elétricos",
         "2700 - Fabricação de máquinas e equipamentos elétricos"
        ],
        [
         "2800 - Fabricação de máquinas e equipamentos mecânicos",
         "2800 - Fabricação de máquinas e equipamentos mecânicos"
        ],
        [
         "2991 - Fabricação de automóveis, caminhões e ônibus, exceto peças",
         "2991 - Fabricação de automóveis, caminhões e ônibus, exceto peças"
        ],
        [
         "2992 - Fabricação de peças e acessórios para veículos automotores",
         "2992 - Fabricação de peças e acessórios para veículos automotores"
        ],
        [
         "3000 - Fabricação de outros equipamentos de transporte, exceto veículos automotores",
         "3000 - Fabricação de outros equipamentos de transporte, exceto veículos automotores"
        ],
        [
         "3180 - Fabricação de móveis e de produtos de indústrias diversas",
         "3180 - Fabricação de móveis e de produtos de indústrias diversas"
        ],
        [
         "3300 - Manutenção, reparação e instalação de máquinas e equipamentos",
         "3300 - Manutenção, reparação e instalação de máquinas e equipamentos"
        ],
        [
         "3500 - Energia elétrica, gás natural e outras utilidades",
         "3500 - Energia elétrica, gás natural e outras utilidades"
        ],
        [
         "3680 - Água, esgoto e gestão de resíduos",
         "3680 - Água, esgoto e gestão de resíduos"
        ],
        [
         "4180 - Construção",
         "4180 - Construção"
        ],
        [
         "4580 - Comércio por atacado e varejo",
         "4580 - Comércio por atacado e varejo"
        ],
        [
         "4900 - Transporte terrestre",
         "4900 - Transporte terrestre"
        ],
        [
         "5000 - Transporte aquaviário",
         "5000 - Transporte aquaviário"
        ],
        [
         "5100 - Transporte aéreo",
         "5100 - Transporte aéreo"
        ],
        [
         "5280 - Armazenamento, atividades auxiliares dos transportes e correio",
         "5280 - Armazenamento, atividades auxiliares dos transportes e correio"
        ],
        [
         "5500 - Alojamento",
         "5500 - Alojamento"
        ],
        [
         "5600 - Alimentação",
         "5600 - Alimentação"
        ],
        [
         "5800 - Edição e edição integrada à impressão",
         "5800 - Edição e edição integrada à impressão"
        ],
        [
         "5980 - Atividades de televisão, rádio, cinema e  gravação/edição de som e imagem",
         "5980 - Atividades de televisão, rádio, cinema e  gravação/edição de som e imagem"
        ],
        [
         "6100 - Telecomunicações",
         "6100 - Telecomunicações"
        ]
       ],
       "shape": {
        "columns": 1,
        "rows": 67
       }
      },
      "text/plain": [
       "0191 - Agricultura, inclusive o apoio à agricultura e a pós-colheita    0191 - Agricultura, inclusive o apoio à agricu...\n",
       "0192 - Pecuária, inclusive o apoio à pecuária                               0192 - Pecuária, inclusive o apoio à pecuária\n",
       "0280 - Produção florestal; pesca e aquicultura                             0280 - Produção florestal; pesca e aquicultura\n",
       "0580 - Extração de carvão mineral e de minerais não metálicos           0580 - Extração de carvão mineral e de minerai...\n",
       "0680 - Extração de petróleo e gás, inclusive as atividades de apoio     0680 - Extração de petróleo e gás, inclusive a...\n",
       "                                                                                              ...                        \n",
       "8691 - Saúde pública                                                                                 8691 - Saúde pública\n",
       "8692 - Saúde privada                                                                                 8692 - Saúde privada\n",
       "9080 - Atividades artísticas, criativas e de espetáculos                9080 - Atividades artísticas, criativas e de e...\n",
       "9480 - Organizações associativas e outros serviços pessoais             9480 - Organizações associativas e outros serv...\n",
       "9700 - Serviços domésticos                                                                     9700 - Serviços domésticos\n",
       "Name: 0, Length: 67, dtype: object"
      ]
     },
     "execution_count": 14,
     "metadata": {},
     "output_type": "execute_result"
    }
   ],
   "source": [
    "A.loc[0,:]"
   ]
  },
  {
   "cell_type": "code",
   "execution_count": 15,
   "id": "49c23026",
   "metadata": {},
   "outputs": [],
   "source": [
    "A = A.loc[1:,:]"
   ]
  },
  {
   "cell_type": "code",
   "execution_count": 16,
   "id": "408d135e",
   "metadata": {},
   "outputs": [],
   "source": [
    "A.set_index(idx,inplace=True)"
   ]
  },
  {
   "cell_type": "code",
   "execution_count": 17,
   "id": "b81f8a0f",
   "metadata": {},
   "outputs": [],
   "source": [
    "#Achar a matriz inversa de Leontief \n",
    "\n",
    "I = np.eye(A.shape[0])\n",
    "L = np.linalg.inv(I - A.astype(float))"
   ]
  },
  {
   "cell_type": "code",
   "execution_count": null,
   "id": "98bdf1c1",
   "metadata": {},
   "outputs": [
    {
     "data": {
      "text/plain": [
       "(67, 67)"
      ]
     },
     "execution_count": 68,
     "metadata": {},
     "output_type": "execute_result"
    }
   ],
   "source": [
    "L.shape"
   ]
  },
  {
   "cell_type": "code",
   "execution_count": 19,
   "id": "c0c80ca7",
   "metadata": {},
   "outputs": [],
   "source": [
    "#Calcular o multiplicador de produção\n",
    "\n",
    "multiplicador_producao = L.sum(axis=0)"
   ]
  },
  {
   "cell_type": "code",
   "execution_count": 20,
   "id": "a65cc16d",
   "metadata": {},
   "outputs": [
    {
     "data": {
      "text/plain": [
       "array([1.76076998, 1.87116443, 1.41138057, 1.89935165, 1.67881159,\n",
       "       1.76928694, 1.8802768 , 2.57564418, 2.47674459, 2.37420239,\n",
       "       2.30774523, 2.28124799, 2.02302138, 1.87938649, 2.01653526,\n",
       "       2.00227036, 2.0858015 , 1.8218803 , 2.37981241, 2.33917418,\n",
       "       1.98773497, 1.98266718, 2.132686  , 1.68216648, 2.03380282,\n",
       "       2.14870885, 2.23407461, 2.13510503, 2.0267946 , 1.65617805,\n",
       "       2.03842901, 1.88897226, 2.27793196, 2.05156181, 1.7170185 ,\n",
       "       1.82193081, 1.70442506, 1.96355249, 1.55108011, 1.86247801,\n",
       "       1.56797029, 2.02436096, 1.77533732, 1.8427104 , 1.576907  ,\n",
       "       1.71720917, 1.87252457, 1.68490536, 1.85048103, 1.81316894,\n",
       "       1.41260022, 1.44445913, 1.10515566, 1.40144171, 1.47456249,\n",
       "       1.97057259, 1.480919  , 1.43721144, 1.24852401, 1.39124975,\n",
       "       1.2296365 , 1.38620394, 1.50372377, 1.58168174, 1.58708887,\n",
       "       1.64563588, 1.        ])"
      ]
     },
     "execution_count": 20,
     "metadata": {},
     "output_type": "execute_result"
    }
   ],
   "source": [
    "multiplicador_producao"
   ]
  },
  {
   "cell_type": "code",
   "execution_count": 21,
   "id": "456b5a0a",
   "metadata": {},
   "outputs": [],
   "source": [
    "valor_adicionado = pd.read_excel('./dados/mip/estimacao/MIP_2019_67_PCR.xlsx', sheet_name='Usos',skiprows=140,dtype={0:str})"
   ]
  },
  {
   "cell_type": "code",
   "execution_count": 22,
   "id": "6a6e2c98",
   "metadata": {},
   "outputs": [],
   "source": [
    "valor_adicionado = valor_adicionado[valor_adicionado.columns[0:69]]"
   ]
  },
  {
   "cell_type": "code",
   "execution_count": 24,
   "id": "c7416311",
   "metadata": {},
   "outputs": [],
   "source": [
    "valor_adicionado = valor_adicionado.drop('Unnamed: 1',axis=1)"
   ]
  },
  {
   "cell_type": "code",
   "execution_count": 26,
   "id": "6ada6cb6",
   "metadata": {},
   "outputs": [],
   "source": [
    "valor_adicionado.rename(columns={'Unnamed: 0': 'Indice'}, inplace=True)"
   ]
  },
  {
   "cell_type": "code",
   "execution_count": 28,
   "id": "f432c6c0",
   "metadata": {},
   "outputs": [],
   "source": [
    "valor_adicionado = valor_adicionado.set_index('Indice')"
   ]
  },
  {
   "cell_type": "code",
   "execution_count": 78,
   "id": "a403e9a0",
   "metadata": {},
   "outputs": [
    {
     "data": {
      "application/vnd.microsoft.datawrangler.viewer.v0+json": {
       "columns": [
        {
         "name": "Indice",
         "rawType": "object",
         "type": "string"
        },
        {
         "name": "Agricultura, inclusive o apoio à agricultura e a pós-colheita",
         "rawType": "int64",
         "type": "integer"
        },
        {
         "name": "Pecuária, inclusive o apoio à pecuária",
         "rawType": "int64",
         "type": "integer"
        },
        {
         "name": "Produção florestal; pesca e aquicultura",
         "rawType": "int64",
         "type": "integer"
        },
        {
         "name": "Extração de carvão mineral e de minerais não metálicos",
         "rawType": "int64",
         "type": "integer"
        },
        {
         "name": "Extração de petróleo e gás, inclusive as atividades de apoio",
         "rawType": "int64",
         "type": "integer"
        },
        {
         "name": "Extração de minério de ferro, inclusive beneficiamentos e a aglomeração",
         "rawType": "int64",
         "type": "integer"
        },
        {
         "name": "Extração de minerais metálicos não ferrosos, inclusive beneficiamentos",
         "rawType": "int64",
         "type": "integer"
        },
        {
         "name": "Abate e produtos de carne, inclusive os produtos do laticínio e da pesca",
         "rawType": "int64",
         "type": "integer"
        },
        {
         "name": "Fabricação e refino de açúcar",
         "rawType": "int64",
         "type": "integer"
        },
        {
         "name": "Outros produtos alimentares",
         "rawType": "int64",
         "type": "integer"
        },
        {
         "name": "Fabricação de bebidas",
         "rawType": "int64",
         "type": "integer"
        },
        {
         "name": "Fabricação de produtos do fumo",
         "rawType": "int64",
         "type": "integer"
        },
        {
         "name": "Fabricação de produtos têxteis",
         "rawType": "int64",
         "type": "integer"
        },
        {
         "name": "Confecção de artefatos do vestuário e acessórios",
         "rawType": "int64",
         "type": "integer"
        },
        {
         "name": "Fabricação de calçados e de artefatos de couro",
         "rawType": "int64",
         "type": "integer"
        },
        {
         "name": "Fabricação de produtos da madeira",
         "rawType": "int64",
         "type": "integer"
        },
        {
         "name": "Fabricação de celulose, papel e produtos de papel",
         "rawType": "int64",
         "type": "integer"
        },
        {
         "name": "Impressão e reprodução de gravações",
         "rawType": "int64",
         "type": "integer"
        },
        {
         "name": "Refino de petróleo e coquerias",
         "rawType": "int64",
         "type": "integer"
        },
        {
         "name": "Fabricação de biocombustíveis",
         "rawType": "int64",
         "type": "integer"
        },
        {
         "name": "Fabricação de químicos orgânicos e inorgânicos, resinas e elastômeros",
         "rawType": "int64",
         "type": "integer"
        },
        {
         "name": "Fabricação de defensivos, desinfestantes, tintas e químicos diversos",
         "rawType": "int64",
         "type": "integer"
        },
        {
         "name": "Fabricação de produtos de limpeza, cosméticos/perfumaria e higiene pessoal",
         "rawType": "int64",
         "type": "integer"
        },
        {
         "name": "Fabricação de produtos farmoquímicos e farmacêuticos",
         "rawType": "int64",
         "type": "integer"
        },
        {
         "name": "Fabricação de produtos de borracha e de material plástico",
         "rawType": "int64",
         "type": "integer"
        },
        {
         "name": "Fabricação de produtos de minerais não metálicos",
         "rawType": "int64",
         "type": "integer"
        },
        {
         "name": "Produção de ferro gusa/ferroligas, siderurgia e tubos de aço sem costura",
         "rawType": "int64",
         "type": "integer"
        },
        {
         "name": "Metalurgia de metais não ferosos e a fundição de metais",
         "rawType": "int64",
         "type": "integer"
        },
        {
         "name": "Fabricação de produtos de metal, exceto máquinas e equipamentos",
         "rawType": "int64",
         "type": "integer"
        },
        {
         "name": "Fabricação de equipamentos de informática, produtos eletrônicos e ópticos",
         "rawType": "int64",
         "type": "integer"
        },
        {
         "name": "Fabricação de máquinas e equipamentos elétricos",
         "rawType": "int64",
         "type": "integer"
        },
        {
         "name": "Fabricação de máquinas e equipamentos mecânicos",
         "rawType": "int64",
         "type": "integer"
        },
        {
         "name": "Fabricação de automóveis, caminhões e ônibus, exceto peças",
         "rawType": "int64",
         "type": "integer"
        },
        {
         "name": "Fabricação de peças e acessórios para veículos automotores",
         "rawType": "int64",
         "type": "integer"
        },
        {
         "name": "Fabricação de outros equipamentos de transporte, exceto veículos automotores",
         "rawType": "int64",
         "type": "integer"
        },
        {
         "name": "Fabricação de móveis e de produtos de indústrias diversas",
         "rawType": "int64",
         "type": "integer"
        },
        {
         "name": "Manutenção, reparação e instalação de máquinas e equipamentos",
         "rawType": "int64",
         "type": "integer"
        },
        {
         "name": "Energia elétrica, gás natural e outras utilidades",
         "rawType": "int64",
         "type": "integer"
        },
        {
         "name": "Água, esgoto e gestão de resíduos",
         "rawType": "int64",
         "type": "integer"
        },
        {
         "name": "Construção",
         "rawType": "int64",
         "type": "integer"
        },
        {
         "name": "Comércio por atacado e varejo",
         "rawType": "int64",
         "type": "integer"
        },
        {
         "name": "Transporte terrestre",
         "rawType": "int64",
         "type": "integer"
        },
        {
         "name": "Transporte aquaviário",
         "rawType": "int64",
         "type": "integer"
        },
        {
         "name": "Transporte aéreo",
         "rawType": "int64",
         "type": "integer"
        },
        {
         "name": "Armazenamento, atividades auxiliares dos transportes e correio",
         "rawType": "int64",
         "type": "integer"
        },
        {
         "name": "Alojamento",
         "rawType": "int64",
         "type": "integer"
        },
        {
         "name": "Alimentação",
         "rawType": "int64",
         "type": "integer"
        },
        {
         "name": "Edição e edição integrada à impressão",
         "rawType": "int64",
         "type": "integer"
        },
        {
         "name": "Atividades de televisão, rádio, cinema e  gravação/edição de som e imagem",
         "rawType": "int64",
         "type": "integer"
        },
        {
         "name": "Telecomunicações",
         "rawType": "int64",
         "type": "integer"
        },
        {
         "name": "Desenvolvimento de sistemas e outros serviços de informação",
         "rawType": "int64",
         "type": "integer"
        },
        {
         "name": "Intermediação financeira, seguros e previdência complementar",
         "rawType": "int64",
         "type": "integer"
        },
        {
         "name": "Atividades imobiliárias",
         "rawType": "int64",
         "type": "integer"
        },
        {
         "name": "Atividades jurídicas, contábeis, consultoria e sedes de empresas ",
         "rawType": "int64",
         "type": "integer"
        },
        {
         "name": "Serviços de arquitetura, engenharia, testes/análises técnicas e P & D",
         "rawType": "int64",
         "type": "integer"
        },
        {
         "name": "Outras atividades profissionais, científicas e técnicas",
         "rawType": "int64",
         "type": "integer"
        },
        {
         "name": "Aluguéis não imobiliários e gestão de ativos de propriedade intelectual",
         "rawType": "int64",
         "type": "integer"
        },
        {
         "name": "Outras atividades administrativas e serviços complementares",
         "rawType": "int64",
         "type": "integer"
        },
        {
         "name": "Atividades de vigilância, segurança e investigação",
         "rawType": "int64",
         "type": "integer"
        },
        {
         "name": "Administração pública, defesa e seguridade social",
         "rawType": "int64",
         "type": "integer"
        },
        {
         "name": "Educação pública",
         "rawType": "int64",
         "type": "integer"
        },
        {
         "name": "Educação privada",
         "rawType": "int64",
         "type": "integer"
        },
        {
         "name": "Saúde pública",
         "rawType": "int64",
         "type": "integer"
        },
        {
         "name": "Saúde privada",
         "rawType": "int64",
         "type": "integer"
        },
        {
         "name": "Atividades artísticas, criativas e de espetáculos",
         "rawType": "int64",
         "type": "integer"
        },
        {
         "name": "Organizações associativas e outros serviços pessoais",
         "rawType": "int64",
         "type": "integer"
        },
        {
         "name": "Serviços domésticos",
         "rawType": "int64",
         "type": "integer"
        }
       ],
       "ref": "c7790919-ec50-4a3f-8397-3c5bd919fc1c",
       "rows": [
        [
         "Valor adicionado bruto ( PIB )",
         "206037",
         "77092",
         "27585",
         "8254",
         "116284",
         "50872",
         "7407",
         "47330",
         "6543",
         "60424",
         "22879",
         "3789",
         "16802",
         "27651",
         "15449",
         "12175",
         "31326",
         "8734",
         "55361",
         "14389",
         "28315",
         "18204",
         "12604",
         "36008",
         "30530",
         "24803",
         "23474",
         "15542",
         "38877",
         "16518",
         "21875",
         "41826",
         "23599",
         "31974",
         "9221",
         "36635",
         "30625",
         "135925",
         "54937",
         "248643",
         "822590",
         "176416",
         "10483",
         "12158",
         "85414",
         "16859",
         "141330",
         "8556",
         "17065",
         "70270",
         "122985",
         "460292",
         "619584",
         "168636",
         "40415",
         "41722",
         "32541",
         "189021",
         "36357",
         "646123",
         "320162",
         "104976",
         "139806",
         "181271",
         "26116",
         "93860",
         "75158"
        ],
        [
         "Remunerações",
         "33120",
         "22497",
         "2697",
         "4056",
         "18439",
         "3614",
         "2514",
         "31830",
         "6817",
         "35780",
         "10543",
         "1783",
         "11387",
         "19283",
         "11164",
         "6754",
         "14971",
         "6080",
         "9255",
         "8966",
         "13159",
         "9864",
         "6483",
         "14434",
         "22965",
         "19560",
         "13427",
         "6695",
         "23473",
         "10332",
         "14796",
         "28525",
         "21503",
         "21876",
         "7960",
         "17542",
         "13993",
         "22164",
         "22551",
         "110356",
         "420837",
         "94524",
         "5219",
         "7974",
         "46039",
         "11825",
         "62717",
         "6623",
         "12386",
         "20848",
         "62839",
         "179777",
         "8781",
         "66524",
         "22232",
         "17459",
         "12605",
         "127394",
         "32043",
         "551477",
         "306169",
         "92490",
         "132594",
         "96664",
         "14649",
         "46625",
         "75158"
        ],
        [
         "   Salários",
         "28069",
         "19738",
         "2357",
         "3260",
         "13421",
         "2817",
         "1981",
         "24632",
         "4787",
         "28189",
         "8145",
         "1360",
         "9319",
         "15436",
         "9240",
         "5488",
         "11685",
         "4929",
         "6516",
         "6850",
         "9949",
         "7639",
         "5096",
         "10986",
         "17852",
         "15969",
         "10398",
         "5361",
         "18507",
         "8210",
         "11586",
         "22592",
         "16588",
         "18259",
         "6432",
         "14320",
         "11260",
         "15927",
         "17009",
         "90637",
         "333852",
         "76772",
         "4282",
         "6498",
         "35405",
         "9924",
         "52844",
         "5514",
         "10492",
         "15606",
         "49534",
         "138193",
         "6833",
         "54348",
         "17903",
         "13996",
         "9934",
         "101481",
         "25141",
         "388542",
         "246988",
         "76574",
         "107256",
         "83397",
         "12581",
         "39840",
         "73167"
        ],
        [
         "   Contribuições sociais efetivas",
         "5051",
         "2759",
         "340",
         "796",
         "5018",
         "797",
         "533",
         "7198",
         "2030",
         "7591",
         "2398",
         "423",
         "2068",
         "3847",
         "1924",
         "1266",
         "3286",
         "1151",
         "2739",
         "2116",
         "3210",
         "2225",
         "1387",
         "3448",
         "5113",
         "3591",
         "3029",
         "1334",
         "4966",
         "2122",
         "3210",
         "5933",
         "4915",
         "3617",
         "1528",
         "3222",
         "2733",
         "6237",
         "5542",
         "19719",
         "86985",
         "17752",
         "937",
         "1476",
         "10634",
         "1901",
         "9873",
         "1109",
         "1894",
         "5242",
         "13305",
         "41584",
         "1948",
         "12176",
         "4329",
         "3463",
         "2671",
         "25913",
         "6902",
         "74455",
         "50489",
         "15916",
         "17417",
         "13267",
         "2068",
         "6785",
         "1991"
        ],
        [
         "      Previdência oficial /FGTS",
         "5049",
         "2759",
         "338",
         "784",
         "3928",
         "770",
         "506",
         "7039",
         "1991",
         "7382",
         "2312",
         "388",
         "2032",
         "3790",
         "1891",
         "1202",
         "3000",
         "1119",
         "1940",
         "2086",
         "2939",
         "2046",
         "1352",
         "3254",
         "4979",
         "3451",
         "2776",
         "1269",
         "4856",
         "2064",
         "3102",
         "5690",
         "4699",
         "3495",
         "1430",
         "3144",
         "2636",
         "4760",
         "5026",
         "19299",
         "85729",
         "17092",
         "901",
         "1445",
         "9480",
         "1855",
         "9763",
         "1080",
         "1821",
         "4304",
         "12567",
         "35294",
         "1891",
         "11072",
         "4188",
         "3411",
         "2618",
         "25564",
         "6823",
         "73284",
         "50252",
         "15842",
         "17375",
         "13153",
         "2015",
         "6681",
         "1991"
        ],
        [
         "      Previdência privada",
         "2",
         "0",
         "2",
         "12",
         "1090",
         "27",
         "27",
         "159",
         "39",
         "209",
         "86",
         "35",
         "36",
         "57",
         "33",
         "64",
         "286",
         "32",
         "799",
         "30",
         "271",
         "179",
         "35",
         "194",
         "134",
         "140",
         "253",
         "65",
         "110",
         "58",
         "108",
         "243",
         "216",
         "122",
         "98",
         "78",
         "97",
         "1477",
         "516",
         "420",
         "1256",
         "660",
         "36",
         "31",
         "1154",
         "46",
         "110",
         "29",
         "73",
         "938",
         "738",
         "6290",
         "57",
         "1104",
         "141",
         "52",
         "53",
         "349",
         "79",
         "1171",
         "237",
         "74",
         "42",
         "114",
         "53",
         "104",
         "0"
        ],
        [
         "   Contribuições sociais imputadas",
         "0",
         "0",
         "0",
         "0",
         "0",
         "0",
         "0",
         "0",
         "0",
         "0",
         "0",
         "0",
         "0",
         "0",
         "0",
         "0",
         "0",
         "0",
         "0",
         "0",
         "0",
         "0",
         "0",
         "0",
         "0",
         "0",
         "0",
         "0",
         "0",
         "0",
         "0",
         "0",
         "0",
         "0",
         "0",
         "0",
         "0",
         "0",
         "0",
         "0",
         "0",
         "0",
         "0",
         "0",
         "0",
         "0",
         "0",
         "0",
         "0",
         "0",
         "0",
         "0",
         "0",
         "0",
         "0",
         "0",
         "0",
         "0",
         "0",
         "88480",
         "8692",
         "0",
         "7921",
         "0",
         "0",
         "0",
         "0"
        ],
        [
         "Excedente operacional bruto e rendimento misto bruto",
         "178447",
         "53985",
         "24742",
         "4036",
         "96116",
         "46550",
         "4713",
         "12612",
         "-1235",
         "20994",
         "11283",
         "1865",
         "4887",
         "7694",
         "3805",
         "5065",
         "15414",
         "2378",
         "44698",
         "4986",
         "13768",
         "7552",
         "5626",
         "20808",
         "6403",
         "4391",
         "8921",
         "8255",
         "14289",
         "5032",
         "6282",
         "11972",
         "548",
         "9033",
         "922",
         "18332",
         "16134",
         "110381",
         "31422",
         "134957",
         "387630",
         "79046",
         "4852",
         "3487",
         "37585",
         "4617",
         "76759",
         "1719",
         "3537",
         "45273",
         "57860",
         "271921",
         "610297",
         "99242",
         "17828",
         "23676",
         "19449",
         "57967",
         "3260",
         "94479",
         "13993",
         "9643",
         "7212",
         "81413",
         "11130",
         "45995",
         "0"
        ],
        [
         "   Rendimento misto bruto",
         "97871",
         "40745",
         "12090",
         "251",
         "0",
         "0",
         "0",
         "426",
         "0",
         "4480",
         "26",
         "0",
         "1365",
         "6578",
         "723",
         "1846",
         "339",
         "512",
         "0",
         "0",
         "0",
         "0",
         "661",
         "0",
         "397",
         "935",
         "0",
         "-16",
         "2705",
         "0",
         "0",
         "0",
         "0",
         "32",
         "3",
         "1530",
         "5740",
         "0",
         "2024",
         "72276",
         "87070",
         "30122",
         "498",
         "0",
         "1307",
         "1778",
         "49030",
         "34",
         "1000",
         "287",
         "10014",
         "2730",
         "4878",
         "42337",
         "10034",
         "6917",
         "919",
         "8699",
         "1296",
         "0",
         "0",
         "9293",
         "0",
         "52308",
         "7682",
         "35820",
         "0"
        ],
        [
         "   Excedente operacional bruto (EOB)",
         "80576",
         "13240",
         "12652",
         "3785",
         "96116",
         "46550",
         "4713",
         "12186",
         "-1235",
         "16514",
         "11257",
         "1865",
         "3522",
         "1116",
         "3082",
         "3219",
         "15075",
         "1866",
         "44698",
         "4986",
         "13768",
         "7552",
         "4965",
         "20808",
         "6006",
         "3456",
         "8921",
         "8271",
         "11584",
         "5032",
         "6282",
         "11972",
         "548",
         "9001",
         "919",
         "16802",
         "10394",
         "110381",
         "29398",
         "62681",
         "300560",
         "48924",
         "4354",
         "3487",
         "36278",
         "2839",
         "27729",
         "1685",
         "2537",
         "44986",
         "47846",
         "269191",
         "605419",
         "56905",
         "7794",
         "16759",
         "18530",
         "49268",
         "1964",
         "94479",
         "13993",
         "350",
         "7212",
         "29105",
         "3448",
         "10175",
         "0"
        ],
        [
         "Outros impostos sobre a produção",
         "1990",
         "688",
         "177",
         "200",
         "1729",
         "723",
         "180",
         "2938",
         "1032",
         "3715",
         "1073",
         "141",
         "541",
         "674",
         "480",
         "375",
         "990",
         "276",
         "1501",
         "511",
         "1407",
         "788",
         "495",
         "779",
         "1236",
         "913",
         "1159",
         "609",
         "1156",
         "1154",
         "843",
         "1448",
         "1683",
         "1176",
         "370",
         "778",
         "498",
         "3453",
         "983",
         "3554",
         "14522",
         "3853",
         "412",
         "713",
         "1820",
         "417",
         "1854",
         "214",
         "1142",
         "4188",
         "2286",
         "8594",
         "506",
         "2870",
         "712",
         "587",
         "583",
         "3690",
         "1054",
         "167",
         "0",
         "2843",
         "0",
         "3262",
         "337",
         "1240",
         "0"
        ],
        [
         "Outros subsídios à produção",
         "-7520",
         "-78",
         "-31",
         "-38",
         "0",
         "-15",
         "0",
         "-50",
         "-71",
         "-65",
         "-20",
         "0",
         "-13",
         "0",
         "0",
         "-19",
         "-49",
         "0",
         "-93",
         "-74",
         "-19",
         "0",
         "0",
         "-13",
         "-74",
         "-61",
         "-33",
         "-17",
         "-41",
         "0",
         "-46",
         "-119",
         "-135",
         "-111",
         "-31",
         "-17",
         "0",
         "-73",
         "-19",
         "-224",
         "-399",
         "-1007",
         "0",
         "-16",
         "-30",
         "0",
         "0",
         "0",
         "0",
         "-39",
         "0",
         "0",
         "0",
         "0",
         "-357",
         "0",
         "-96",
         "-30",
         "0",
         "0",
         "0",
         "0",
         "0",
         "-68",
         "0",
         "0",
         "0"
        ],
        [
         "Valor da produção",
         "415308",
         "163008",
         "38200",
         "20360",
         "254621",
         "108090",
         "19375",
         "322433",
         "52577",
         "331216",
         "90049",
         "16574",
         "56729",
         "69845",
         "42405",
         "34007",
         "111870",
         "20083",
         "469698",
         "59796",
         "185375",
         "97792",
         "52574",
         "78406",
         "125587",
         "88584",
         "144621",
         "78214",
         "112667",
         "109228",
         "87853",
         "138666",
         "204019",
         "112190",
         "34106",
         "82498",
         "81987",
         "345330",
         "88790",
         "572890",
         "1365064",
         "427944",
         "24111",
         "48735",
         "148123",
         "31622",
         "300523",
         "18061",
         "44125",
         "168740",
         "192225",
         "696739",
         "675910",
         "246830",
         "66918",
         "113009",
         "53197",
         "282668",
         "45197",
         "897364",
         "380023",
         "149053",
         "217052",
         "324104",
         "46576",
         "185099",
         "75158"
        ],
        [
         "Fator trabalho (ocupações)",
         "6510033",
         "5830589",
         "847266",
         "111278",
         "52669",
         "25542",
         "29890",
         "784540",
         "136690",
         "1310050",
         "194025",
         "16455",
         "637078",
         "1688242",
         "461054",
         "374839",
         "204454",
         "184685",
         "22706",
         "101452",
         "99859",
         "91992",
         "137918",
         "107486",
         "424241",
         "569351",
         "119457",
         "103300",
         "674027",
         "121026",
         "208705",
         "375695",
         "160604",
         "303205",
         "80570",
         "751434",
         "549899",
         "166819",
         "581064",
         "7745390",
         "18959022",
         "4344503",
         "52972",
         "59257",
         "832617",
         "445384",
         "5884294",
         "139503",
         "171379",
         "276392",
         "807321",
         "1406232",
         "479340",
         "1964904",
         "660988",
         "676741",
         "314636",
         "4262858",
         "817920",
         "4793630",
         "4344217",
         "2932978",
         "2238123",
         "3545428",
         "1187141",
         "4658531",
         "6843869"
        ]
       ],
       "shape": {
        "columns": 67,
        "rows": 14
       }
      },
      "text/html": [
       "<div>\n",
       "<style scoped>\n",
       "    .dataframe tbody tr th:only-of-type {\n",
       "        vertical-align: middle;\n",
       "    }\n",
       "\n",
       "    .dataframe tbody tr th {\n",
       "        vertical-align: top;\n",
       "    }\n",
       "\n",
       "    .dataframe thead th {\n",
       "        text-align: right;\n",
       "    }\n",
       "</style>\n",
       "<table border=\"1\" class=\"dataframe\">\n",
       "  <thead>\n",
       "    <tr style=\"text-align: right;\">\n",
       "      <th></th>\n",
       "      <th>Agricultura, inclusive o apoio à agricultura e a pós-colheita</th>\n",
       "      <th>Pecuária, inclusive o apoio à pecuária</th>\n",
       "      <th>Produção florestal; pesca e aquicultura</th>\n",
       "      <th>Extração de carvão mineral e de minerais não metálicos</th>\n",
       "      <th>Extração de petróleo e gás, inclusive as atividades de apoio</th>\n",
       "      <th>Extração de minério de ferro, inclusive beneficiamentos e a aglomeração</th>\n",
       "      <th>Extração de minerais metálicos não ferrosos, inclusive beneficiamentos</th>\n",
       "      <th>Abate e produtos de carne, inclusive os produtos do laticínio e da pesca</th>\n",
       "      <th>Fabricação e refino de açúcar</th>\n",
       "      <th>Outros produtos alimentares</th>\n",
       "      <th>...</th>\n",
       "      <th>Outras atividades administrativas e serviços complementares</th>\n",
       "      <th>Atividades de vigilância, segurança e investigação</th>\n",
       "      <th>Administração pública, defesa e seguridade social</th>\n",
       "      <th>Educação pública</th>\n",
       "      <th>Educação privada</th>\n",
       "      <th>Saúde pública</th>\n",
       "      <th>Saúde privada</th>\n",
       "      <th>Atividades artísticas, criativas e de espetáculos</th>\n",
       "      <th>Organizações associativas e outros serviços pessoais</th>\n",
       "      <th>Serviços domésticos</th>\n",
       "    </tr>\n",
       "    <tr>\n",
       "      <th>Indice</th>\n",
       "      <th></th>\n",
       "      <th></th>\n",
       "      <th></th>\n",
       "      <th></th>\n",
       "      <th></th>\n",
       "      <th></th>\n",
       "      <th></th>\n",
       "      <th></th>\n",
       "      <th></th>\n",
       "      <th></th>\n",
       "      <th></th>\n",
       "      <th></th>\n",
       "      <th></th>\n",
       "      <th></th>\n",
       "      <th></th>\n",
       "      <th></th>\n",
       "      <th></th>\n",
       "      <th></th>\n",
       "      <th></th>\n",
       "      <th></th>\n",
       "      <th></th>\n",
       "    </tr>\n",
       "  </thead>\n",
       "  <tbody>\n",
       "    <tr>\n",
       "      <th>Valor adicionado bruto ( PIB )</th>\n",
       "      <td>206037</td>\n",
       "      <td>77092</td>\n",
       "      <td>27585</td>\n",
       "      <td>8254</td>\n",
       "      <td>116284</td>\n",
       "      <td>50872</td>\n",
       "      <td>7407</td>\n",
       "      <td>47330</td>\n",
       "      <td>6543</td>\n",
       "      <td>60424</td>\n",
       "      <td>...</td>\n",
       "      <td>189021</td>\n",
       "      <td>36357</td>\n",
       "      <td>646123</td>\n",
       "      <td>320162</td>\n",
       "      <td>104976</td>\n",
       "      <td>139806</td>\n",
       "      <td>181271</td>\n",
       "      <td>26116</td>\n",
       "      <td>93860</td>\n",
       "      <td>75158</td>\n",
       "    </tr>\n",
       "    <tr>\n",
       "      <th>Remunerações</th>\n",
       "      <td>33120</td>\n",
       "      <td>22497</td>\n",
       "      <td>2697</td>\n",
       "      <td>4056</td>\n",
       "      <td>18439</td>\n",
       "      <td>3614</td>\n",
       "      <td>2514</td>\n",
       "      <td>31830</td>\n",
       "      <td>6817</td>\n",
       "      <td>35780</td>\n",
       "      <td>...</td>\n",
       "      <td>127394</td>\n",
       "      <td>32043</td>\n",
       "      <td>551477</td>\n",
       "      <td>306169</td>\n",
       "      <td>92490</td>\n",
       "      <td>132594</td>\n",
       "      <td>96664</td>\n",
       "      <td>14649</td>\n",
       "      <td>46625</td>\n",
       "      <td>75158</td>\n",
       "    </tr>\n",
       "    <tr>\n",
       "      <th>Salários</th>\n",
       "      <td>28069</td>\n",
       "      <td>19738</td>\n",
       "      <td>2357</td>\n",
       "      <td>3260</td>\n",
       "      <td>13421</td>\n",
       "      <td>2817</td>\n",
       "      <td>1981</td>\n",
       "      <td>24632</td>\n",
       "      <td>4787</td>\n",
       "      <td>28189</td>\n",
       "      <td>...</td>\n",
       "      <td>101481</td>\n",
       "      <td>25141</td>\n",
       "      <td>388542</td>\n",
       "      <td>246988</td>\n",
       "      <td>76574</td>\n",
       "      <td>107256</td>\n",
       "      <td>83397</td>\n",
       "      <td>12581</td>\n",
       "      <td>39840</td>\n",
       "      <td>73167</td>\n",
       "    </tr>\n",
       "    <tr>\n",
       "      <th>Contribuições sociais efetivas</th>\n",
       "      <td>5051</td>\n",
       "      <td>2759</td>\n",
       "      <td>340</td>\n",
       "      <td>796</td>\n",
       "      <td>5018</td>\n",
       "      <td>797</td>\n",
       "      <td>533</td>\n",
       "      <td>7198</td>\n",
       "      <td>2030</td>\n",
       "      <td>7591</td>\n",
       "      <td>...</td>\n",
       "      <td>25913</td>\n",
       "      <td>6902</td>\n",
       "      <td>74455</td>\n",
       "      <td>50489</td>\n",
       "      <td>15916</td>\n",
       "      <td>17417</td>\n",
       "      <td>13267</td>\n",
       "      <td>2068</td>\n",
       "      <td>6785</td>\n",
       "      <td>1991</td>\n",
       "    </tr>\n",
       "    <tr>\n",
       "      <th>Previdência oficial /FGTS</th>\n",
       "      <td>5049</td>\n",
       "      <td>2759</td>\n",
       "      <td>338</td>\n",
       "      <td>784</td>\n",
       "      <td>3928</td>\n",
       "      <td>770</td>\n",
       "      <td>506</td>\n",
       "      <td>7039</td>\n",
       "      <td>1991</td>\n",
       "      <td>7382</td>\n",
       "      <td>...</td>\n",
       "      <td>25564</td>\n",
       "      <td>6823</td>\n",
       "      <td>73284</td>\n",
       "      <td>50252</td>\n",
       "      <td>15842</td>\n",
       "      <td>17375</td>\n",
       "      <td>13153</td>\n",
       "      <td>2015</td>\n",
       "      <td>6681</td>\n",
       "      <td>1991</td>\n",
       "    </tr>\n",
       "    <tr>\n",
       "      <th>Previdência privada</th>\n",
       "      <td>2</td>\n",
       "      <td>0</td>\n",
       "      <td>2</td>\n",
       "      <td>12</td>\n",
       "      <td>1090</td>\n",
       "      <td>27</td>\n",
       "      <td>27</td>\n",
       "      <td>159</td>\n",
       "      <td>39</td>\n",
       "      <td>209</td>\n",
       "      <td>...</td>\n",
       "      <td>349</td>\n",
       "      <td>79</td>\n",
       "      <td>1171</td>\n",
       "      <td>237</td>\n",
       "      <td>74</td>\n",
       "      <td>42</td>\n",
       "      <td>114</td>\n",
       "      <td>53</td>\n",
       "      <td>104</td>\n",
       "      <td>0</td>\n",
       "    </tr>\n",
       "    <tr>\n",
       "      <th>Contribuições sociais imputadas</th>\n",
       "      <td>0</td>\n",
       "      <td>0</td>\n",
       "      <td>0</td>\n",
       "      <td>0</td>\n",
       "      <td>0</td>\n",
       "      <td>0</td>\n",
       "      <td>0</td>\n",
       "      <td>0</td>\n",
       "      <td>0</td>\n",
       "      <td>0</td>\n",
       "      <td>...</td>\n",
       "      <td>0</td>\n",
       "      <td>0</td>\n",
       "      <td>88480</td>\n",
       "      <td>8692</td>\n",
       "      <td>0</td>\n",
       "      <td>7921</td>\n",
       "      <td>0</td>\n",
       "      <td>0</td>\n",
       "      <td>0</td>\n",
       "      <td>0</td>\n",
       "    </tr>\n",
       "    <tr>\n",
       "      <th>Excedente operacional bruto e rendimento misto bruto</th>\n",
       "      <td>178447</td>\n",
       "      <td>53985</td>\n",
       "      <td>24742</td>\n",
       "      <td>4036</td>\n",
       "      <td>96116</td>\n",
       "      <td>46550</td>\n",
       "      <td>4713</td>\n",
       "      <td>12612</td>\n",
       "      <td>-1235</td>\n",
       "      <td>20994</td>\n",
       "      <td>...</td>\n",
       "      <td>57967</td>\n",
       "      <td>3260</td>\n",
       "      <td>94479</td>\n",
       "      <td>13993</td>\n",
       "      <td>9643</td>\n",
       "      <td>7212</td>\n",
       "      <td>81413</td>\n",
       "      <td>11130</td>\n",
       "      <td>45995</td>\n",
       "      <td>0</td>\n",
       "    </tr>\n",
       "    <tr>\n",
       "      <th>Rendimento misto bruto</th>\n",
       "      <td>97871</td>\n",
       "      <td>40745</td>\n",
       "      <td>12090</td>\n",
       "      <td>251</td>\n",
       "      <td>0</td>\n",
       "      <td>0</td>\n",
       "      <td>0</td>\n",
       "      <td>426</td>\n",
       "      <td>0</td>\n",
       "      <td>4480</td>\n",
       "      <td>...</td>\n",
       "      <td>8699</td>\n",
       "      <td>1296</td>\n",
       "      <td>0</td>\n",
       "      <td>0</td>\n",
       "      <td>9293</td>\n",
       "      <td>0</td>\n",
       "      <td>52308</td>\n",
       "      <td>7682</td>\n",
       "      <td>35820</td>\n",
       "      <td>0</td>\n",
       "    </tr>\n",
       "    <tr>\n",
       "      <th>Excedente operacional bruto (EOB)</th>\n",
       "      <td>80576</td>\n",
       "      <td>13240</td>\n",
       "      <td>12652</td>\n",
       "      <td>3785</td>\n",
       "      <td>96116</td>\n",
       "      <td>46550</td>\n",
       "      <td>4713</td>\n",
       "      <td>12186</td>\n",
       "      <td>-1235</td>\n",
       "      <td>16514</td>\n",
       "      <td>...</td>\n",
       "      <td>49268</td>\n",
       "      <td>1964</td>\n",
       "      <td>94479</td>\n",
       "      <td>13993</td>\n",
       "      <td>350</td>\n",
       "      <td>7212</td>\n",
       "      <td>29105</td>\n",
       "      <td>3448</td>\n",
       "      <td>10175</td>\n",
       "      <td>0</td>\n",
       "    </tr>\n",
       "    <tr>\n",
       "      <th>Outros impostos sobre a produção</th>\n",
       "      <td>1990</td>\n",
       "      <td>688</td>\n",
       "      <td>177</td>\n",
       "      <td>200</td>\n",
       "      <td>1729</td>\n",
       "      <td>723</td>\n",
       "      <td>180</td>\n",
       "      <td>2938</td>\n",
       "      <td>1032</td>\n",
       "      <td>3715</td>\n",
       "      <td>...</td>\n",
       "      <td>3690</td>\n",
       "      <td>1054</td>\n",
       "      <td>167</td>\n",
       "      <td>0</td>\n",
       "      <td>2843</td>\n",
       "      <td>0</td>\n",
       "      <td>3262</td>\n",
       "      <td>337</td>\n",
       "      <td>1240</td>\n",
       "      <td>0</td>\n",
       "    </tr>\n",
       "    <tr>\n",
       "      <th>Outros subsídios à produção</th>\n",
       "      <td>-7520</td>\n",
       "      <td>-78</td>\n",
       "      <td>-31</td>\n",
       "      <td>-38</td>\n",
       "      <td>0</td>\n",
       "      <td>-15</td>\n",
       "      <td>0</td>\n",
       "      <td>-50</td>\n",
       "      <td>-71</td>\n",
       "      <td>-65</td>\n",
       "      <td>...</td>\n",
       "      <td>-30</td>\n",
       "      <td>0</td>\n",
       "      <td>0</td>\n",
       "      <td>0</td>\n",
       "      <td>0</td>\n",
       "      <td>0</td>\n",
       "      <td>-68</td>\n",
       "      <td>0</td>\n",
       "      <td>0</td>\n",
       "      <td>0</td>\n",
       "    </tr>\n",
       "    <tr>\n",
       "      <th>Valor da produção</th>\n",
       "      <td>415308</td>\n",
       "      <td>163008</td>\n",
       "      <td>38200</td>\n",
       "      <td>20360</td>\n",
       "      <td>254621</td>\n",
       "      <td>108090</td>\n",
       "      <td>19375</td>\n",
       "      <td>322433</td>\n",
       "      <td>52577</td>\n",
       "      <td>331216</td>\n",
       "      <td>...</td>\n",
       "      <td>282668</td>\n",
       "      <td>45197</td>\n",
       "      <td>897364</td>\n",
       "      <td>380023</td>\n",
       "      <td>149053</td>\n",
       "      <td>217052</td>\n",
       "      <td>324104</td>\n",
       "      <td>46576</td>\n",
       "      <td>185099</td>\n",
       "      <td>75158</td>\n",
       "    </tr>\n",
       "    <tr>\n",
       "      <th>Fator trabalho (ocupações)</th>\n",
       "      <td>6510033</td>\n",
       "      <td>5830589</td>\n",
       "      <td>847266</td>\n",
       "      <td>111278</td>\n",
       "      <td>52669</td>\n",
       "      <td>25542</td>\n",
       "      <td>29890</td>\n",
       "      <td>784540</td>\n",
       "      <td>136690</td>\n",
       "      <td>1310050</td>\n",
       "      <td>...</td>\n",
       "      <td>4262858</td>\n",
       "      <td>817920</td>\n",
       "      <td>4793630</td>\n",
       "      <td>4344217</td>\n",
       "      <td>2932978</td>\n",
       "      <td>2238123</td>\n",
       "      <td>3545428</td>\n",
       "      <td>1187141</td>\n",
       "      <td>4658531</td>\n",
       "      <td>6843869</td>\n",
       "    </tr>\n",
       "  </tbody>\n",
       "</table>\n",
       "<p>14 rows × 67 columns</p>\n",
       "</div>"
      ],
      "text/plain": [
       "                                                    Agricultura, inclusive o apoio à agricultura e a pós-colheita  \\\n",
       "Indice                                                                                                              \n",
       "Valor adicionado bruto ( PIB )                                                                 206037               \n",
       "Remunerações                                                                                    33120               \n",
       "   Salários                                                                                     28069               \n",
       "   Contribuições sociais efetivas                                                                5051               \n",
       "      Previdência oficial /FGTS                                                                  5049               \n",
       "      Previdência privada                                                                           2               \n",
       "   Contribuições sociais imputadas                                                                  0               \n",
       "Excedente operacional bruto e rendimento misto ...                                             178447               \n",
       "   Rendimento misto bruto                                                                       97871               \n",
       "   Excedente operacional bruto (EOB)                                                            80576               \n",
       "Outros impostos sobre a produção                                                                 1990               \n",
       "Outros subsídios à produção                                                                     -7520               \n",
       "Valor da produção                                                                              415308               \n",
       "Fator trabalho (ocupações)                                                                    6510033               \n",
       "\n",
       "                                                    Pecuária, inclusive o apoio à pecuária  \\\n",
       "Indice                                                                                       \n",
       "Valor adicionado bruto ( PIB )                                                       77092   \n",
       "Remunerações                                                                         22497   \n",
       "   Salários                                                                          19738   \n",
       "   Contribuições sociais efetivas                                                     2759   \n",
       "      Previdência oficial /FGTS                                                       2759   \n",
       "      Previdência privada                                                                0   \n",
       "   Contribuições sociais imputadas                                                       0   \n",
       "Excedente operacional bruto e rendimento misto ...                                   53985   \n",
       "   Rendimento misto bruto                                                            40745   \n",
       "   Excedente operacional bruto (EOB)                                                 13240   \n",
       "Outros impostos sobre a produção                                                       688   \n",
       "Outros subsídios à produção                                                            -78   \n",
       "Valor da produção                                                                   163008   \n",
       "Fator trabalho (ocupações)                                                         5830589   \n",
       "\n",
       "                                                    Produção florestal; pesca e aquicultura  \\\n",
       "Indice                                                                                        \n",
       "Valor adicionado bruto ( PIB )                                                        27585   \n",
       "Remunerações                                                                           2697   \n",
       "   Salários                                                                            2357   \n",
       "   Contribuições sociais efetivas                                                       340   \n",
       "      Previdência oficial /FGTS                                                         338   \n",
       "      Previdência privada                                                                 2   \n",
       "   Contribuições sociais imputadas                                                        0   \n",
       "Excedente operacional bruto e rendimento misto ...                                    24742   \n",
       "   Rendimento misto bruto                                                             12090   \n",
       "   Excedente operacional bruto (EOB)                                                  12652   \n",
       "Outros impostos sobre a produção                                                        177   \n",
       "Outros subsídios à produção                                                             -31   \n",
       "Valor da produção                                                                     38200   \n",
       "Fator trabalho (ocupações)                                                           847266   \n",
       "\n",
       "                                                    Extração de carvão mineral e de minerais não metálicos  \\\n",
       "Indice                                                                                                       \n",
       "Valor adicionado bruto ( PIB )                                                                   8254        \n",
       "Remunerações                                                                                     4056        \n",
       "   Salários                                                                                      3260        \n",
       "   Contribuições sociais efetivas                                                                 796        \n",
       "      Previdência oficial /FGTS                                                                   784        \n",
       "      Previdência privada                                                                          12        \n",
       "   Contribuições sociais imputadas                                                                  0        \n",
       "Excedente operacional bruto e rendimento misto ...                                               4036        \n",
       "   Rendimento misto bruto                                                                         251        \n",
       "   Excedente operacional bruto (EOB)                                                             3785        \n",
       "Outros impostos sobre a produção                                                                  200        \n",
       "Outros subsídios à produção                                                                       -38        \n",
       "Valor da produção                                                                               20360        \n",
       "Fator trabalho (ocupações)                                                                     111278        \n",
       "\n",
       "                                                    Extração de petróleo e gás, inclusive as atividades de apoio  \\\n",
       "Indice                                                                                                             \n",
       "Valor adicionado bruto ( PIB )                                                                 116284              \n",
       "Remunerações                                                                                    18439              \n",
       "   Salários                                                                                     13421              \n",
       "   Contribuições sociais efetivas                                                                5018              \n",
       "      Previdência oficial /FGTS                                                                  3928              \n",
       "      Previdência privada                                                                        1090              \n",
       "   Contribuições sociais imputadas                                                                  0              \n",
       "Excedente operacional bruto e rendimento misto ...                                              96116              \n",
       "   Rendimento misto bruto                                                                           0              \n",
       "   Excedente operacional bruto (EOB)                                                            96116              \n",
       "Outros impostos sobre a produção                                                                 1729              \n",
       "Outros subsídios à produção                                                                         0              \n",
       "Valor da produção                                                                              254621              \n",
       "Fator trabalho (ocupações)                                                                      52669              \n",
       "\n",
       "                                                    Extração de minério de ferro, inclusive beneficiamentos e a aglomeração  \\\n",
       "Indice                                                                                                                        \n",
       "Valor adicionado bruto ( PIB )                                                                  50872                         \n",
       "Remunerações                                                                                     3614                         \n",
       "   Salários                                                                                      2817                         \n",
       "   Contribuições sociais efetivas                                                                 797                         \n",
       "      Previdência oficial /FGTS                                                                   770                         \n",
       "      Previdência privada                                                                          27                         \n",
       "   Contribuições sociais imputadas                                                                  0                         \n",
       "Excedente operacional bruto e rendimento misto ...                                              46550                         \n",
       "   Rendimento misto bruto                                                                           0                         \n",
       "   Excedente operacional bruto (EOB)                                                            46550                         \n",
       "Outros impostos sobre a produção                                                                  723                         \n",
       "Outros subsídios à produção                                                                       -15                         \n",
       "Valor da produção                                                                              108090                         \n",
       "Fator trabalho (ocupações)                                                                      25542                         \n",
       "\n",
       "                                                    Extração de minerais metálicos não ferrosos, inclusive beneficiamentos  \\\n",
       "Indice                                                                                                                       \n",
       "Valor adicionado bruto ( PIB )                                                                   7407                        \n",
       "Remunerações                                                                                     2514                        \n",
       "   Salários                                                                                      1981                        \n",
       "   Contribuições sociais efetivas                                                                 533                        \n",
       "      Previdência oficial /FGTS                                                                   506                        \n",
       "      Previdência privada                                                                          27                        \n",
       "   Contribuições sociais imputadas                                                                  0                        \n",
       "Excedente operacional bruto e rendimento misto ...                                               4713                        \n",
       "   Rendimento misto bruto                                                                           0                        \n",
       "   Excedente operacional bruto (EOB)                                                             4713                        \n",
       "Outros impostos sobre a produção                                                                  180                        \n",
       "Outros subsídios à produção                                                                         0                        \n",
       "Valor da produção                                                                               19375                        \n",
       "Fator trabalho (ocupações)                                                                      29890                        \n",
       "\n",
       "                                                    Abate e produtos de carne, inclusive os produtos do laticínio e da pesca  \\\n",
       "Indice                                                                                                                         \n",
       "Valor adicionado bruto ( PIB )                                                                  47330                          \n",
       "Remunerações                                                                                    31830                          \n",
       "   Salários                                                                                     24632                          \n",
       "   Contribuições sociais efetivas                                                                7198                          \n",
       "      Previdência oficial /FGTS                                                                  7039                          \n",
       "      Previdência privada                                                                         159                          \n",
       "   Contribuições sociais imputadas                                                                  0                          \n",
       "Excedente operacional bruto e rendimento misto ...                                              12612                          \n",
       "   Rendimento misto bruto                                                                         426                          \n",
       "   Excedente operacional bruto (EOB)                                                            12186                          \n",
       "Outros impostos sobre a produção                                                                 2938                          \n",
       "Outros subsídios à produção                                                                       -50                          \n",
       "Valor da produção                                                                              322433                          \n",
       "Fator trabalho (ocupações)                                                                     784540                          \n",
       "\n",
       "                                                    Fabricação e refino de açúcar  \\\n",
       "Indice                                                                              \n",
       "Valor adicionado bruto ( PIB )                                               6543   \n",
       "Remunerações                                                                 6817   \n",
       "   Salários                                                                  4787   \n",
       "   Contribuições sociais efetivas                                            2030   \n",
       "      Previdência oficial /FGTS                                              1991   \n",
       "      Previdência privada                                                      39   \n",
       "   Contribuições sociais imputadas                                              0   \n",
       "Excedente operacional bruto e rendimento misto ...                          -1235   \n",
       "   Rendimento misto bruto                                                       0   \n",
       "   Excedente operacional bruto (EOB)                                        -1235   \n",
       "Outros impostos sobre a produção                                             1032   \n",
       "Outros subsídios à produção                                                   -71   \n",
       "Valor da produção                                                           52577   \n",
       "Fator trabalho (ocupações)                                                 136690   \n",
       "\n",
       "                                                    Outros produtos alimentares  \\\n",
       "Indice                                                                            \n",
       "Valor adicionado bruto ( PIB )                                            60424   \n",
       "Remunerações                                                              35780   \n",
       "   Salários                                                               28189   \n",
       "   Contribuições sociais efetivas                                          7591   \n",
       "      Previdência oficial /FGTS                                            7382   \n",
       "      Previdência privada                                                   209   \n",
       "   Contribuições sociais imputadas                                            0   \n",
       "Excedente operacional bruto e rendimento misto ...                        20994   \n",
       "   Rendimento misto bruto                                                  4480   \n",
       "   Excedente operacional bruto (EOB)                                      16514   \n",
       "Outros impostos sobre a produção                                           3715   \n",
       "Outros subsídios à produção                                                 -65   \n",
       "Valor da produção                                                        331216   \n",
       "Fator trabalho (ocupações)                                              1310050   \n",
       "\n",
       "                                                    ...  \\\n",
       "Indice                                              ...   \n",
       "Valor adicionado bruto ( PIB )                      ...   \n",
       "Remunerações                                        ...   \n",
       "   Salários                                         ...   \n",
       "   Contribuições sociais efetivas                   ...   \n",
       "      Previdência oficial /FGTS                     ...   \n",
       "      Previdência privada                           ...   \n",
       "   Contribuições sociais imputadas                  ...   \n",
       "Excedente operacional bruto e rendimento misto ...  ...   \n",
       "   Rendimento misto bruto                           ...   \n",
       "   Excedente operacional bruto (EOB)                ...   \n",
       "Outros impostos sobre a produção                    ...   \n",
       "Outros subsídios à produção                         ...   \n",
       "Valor da produção                                   ...   \n",
       "Fator trabalho (ocupações)                          ...   \n",
       "\n",
       "                                                    Outras atividades administrativas e serviços complementares  \\\n",
       "Indice                                                                                                            \n",
       "Valor adicionado bruto ( PIB )                                                                 189021             \n",
       "Remunerações                                                                                   127394             \n",
       "   Salários                                                                                    101481             \n",
       "   Contribuições sociais efetivas                                                               25913             \n",
       "      Previdência oficial /FGTS                                                                 25564             \n",
       "      Previdência privada                                                                         349             \n",
       "   Contribuições sociais imputadas                                                                  0             \n",
       "Excedente operacional bruto e rendimento misto ...                                              57967             \n",
       "   Rendimento misto bruto                                                                        8699             \n",
       "   Excedente operacional bruto (EOB)                                                            49268             \n",
       "Outros impostos sobre a produção                                                                 3690             \n",
       "Outros subsídios à produção                                                                       -30             \n",
       "Valor da produção                                                                              282668             \n",
       "Fator trabalho (ocupações)                                                                    4262858             \n",
       "\n",
       "                                                    Atividades de vigilância, segurança e investigação  \\\n",
       "Indice                                                                                                   \n",
       "Valor adicionado bruto ( PIB )                                                                  36357    \n",
       "Remunerações                                                                                    32043    \n",
       "   Salários                                                                                     25141    \n",
       "   Contribuições sociais efetivas                                                                6902    \n",
       "      Previdência oficial /FGTS                                                                  6823    \n",
       "      Previdência privada                                                                          79    \n",
       "   Contribuições sociais imputadas                                                                  0    \n",
       "Excedente operacional bruto e rendimento misto ...                                               3260    \n",
       "   Rendimento misto bruto                                                                        1296    \n",
       "   Excedente operacional bruto (EOB)                                                             1964    \n",
       "Outros impostos sobre a produção                                                                 1054    \n",
       "Outros subsídios à produção                                                                         0    \n",
       "Valor da produção                                                                               45197    \n",
       "Fator trabalho (ocupações)                                                                     817920    \n",
       "\n",
       "                                                    Administração pública, defesa e seguridade social  \\\n",
       "Indice                                                                                                  \n",
       "Valor adicionado bruto ( PIB )                                                                 646123   \n",
       "Remunerações                                                                                   551477   \n",
       "   Salários                                                                                    388542   \n",
       "   Contribuições sociais efetivas                                                               74455   \n",
       "      Previdência oficial /FGTS                                                                 73284   \n",
       "      Previdência privada                                                                        1171   \n",
       "   Contribuições sociais imputadas                                                              88480   \n",
       "Excedente operacional bruto e rendimento misto ...                                              94479   \n",
       "   Rendimento misto bruto                                                                           0   \n",
       "   Excedente operacional bruto (EOB)                                                            94479   \n",
       "Outros impostos sobre a produção                                                                  167   \n",
       "Outros subsídios à produção                                                                         0   \n",
       "Valor da produção                                                                              897364   \n",
       "Fator trabalho (ocupações)                                                                    4793630   \n",
       "\n",
       "                                                    Educação pública  \\\n",
       "Indice                                                                 \n",
       "Valor adicionado bruto ( PIB )                                320162   \n",
       "Remunerações                                                  306169   \n",
       "   Salários                                                   246988   \n",
       "   Contribuições sociais efetivas                              50489   \n",
       "      Previdência oficial /FGTS                                50252   \n",
       "      Previdência privada                                        237   \n",
       "   Contribuições sociais imputadas                              8692   \n",
       "Excedente operacional bruto e rendimento misto ...             13993   \n",
       "   Rendimento misto bruto                                          0   \n",
       "   Excedente operacional bruto (EOB)                           13993   \n",
       "Outros impostos sobre a produção                                   0   \n",
       "Outros subsídios à produção                                        0   \n",
       "Valor da produção                                             380023   \n",
       "Fator trabalho (ocupações)                                   4344217   \n",
       "\n",
       "                                                    Educação privada  \\\n",
       "Indice                                                                 \n",
       "Valor adicionado bruto ( PIB )                                104976   \n",
       "Remunerações                                                   92490   \n",
       "   Salários                                                    76574   \n",
       "   Contribuições sociais efetivas                              15916   \n",
       "      Previdência oficial /FGTS                                15842   \n",
       "      Previdência privada                                         74   \n",
       "   Contribuições sociais imputadas                                 0   \n",
       "Excedente operacional bruto e rendimento misto ...              9643   \n",
       "   Rendimento misto bruto                                       9293   \n",
       "   Excedente operacional bruto (EOB)                             350   \n",
       "Outros impostos sobre a produção                                2843   \n",
       "Outros subsídios à produção                                        0   \n",
       "Valor da produção                                             149053   \n",
       "Fator trabalho (ocupações)                                   2932978   \n",
       "\n",
       "                                                    Saúde pública  \\\n",
       "Indice                                                              \n",
       "Valor adicionado bruto ( PIB )                             139806   \n",
       "Remunerações                                               132594   \n",
       "   Salários                                                107256   \n",
       "   Contribuições sociais efetivas                           17417   \n",
       "      Previdência oficial /FGTS                             17375   \n",
       "      Previdência privada                                      42   \n",
       "   Contribuições sociais imputadas                           7921   \n",
       "Excedente operacional bruto e rendimento misto ...           7212   \n",
       "   Rendimento misto bruto                                       0   \n",
       "   Excedente operacional bruto (EOB)                         7212   \n",
       "Outros impostos sobre a produção                                0   \n",
       "Outros subsídios à produção                                     0   \n",
       "Valor da produção                                          217052   \n",
       "Fator trabalho (ocupações)                                2238123   \n",
       "\n",
       "                                                    Saúde privada  \\\n",
       "Indice                                                              \n",
       "Valor adicionado bruto ( PIB )                             181271   \n",
       "Remunerações                                                96664   \n",
       "   Salários                                                 83397   \n",
       "   Contribuições sociais efetivas                           13267   \n",
       "      Previdência oficial /FGTS                             13153   \n",
       "      Previdência privada                                     114   \n",
       "   Contribuições sociais imputadas                              0   \n",
       "Excedente operacional bruto e rendimento misto ...          81413   \n",
       "   Rendimento misto bruto                                   52308   \n",
       "   Excedente operacional bruto (EOB)                        29105   \n",
       "Outros impostos sobre a produção                             3262   \n",
       "Outros subsídios à produção                                   -68   \n",
       "Valor da produção                                          324104   \n",
       "Fator trabalho (ocupações)                                3545428   \n",
       "\n",
       "                                                    Atividades artísticas, criativas e de espetáculos  \\\n",
       "Indice                                                                                                  \n",
       "Valor adicionado bruto ( PIB )                                                                  26116   \n",
       "Remunerações                                                                                    14649   \n",
       "   Salários                                                                                     12581   \n",
       "   Contribuições sociais efetivas                                                                2068   \n",
       "      Previdência oficial /FGTS                                                                  2015   \n",
       "      Previdência privada                                                                          53   \n",
       "   Contribuições sociais imputadas                                                                  0   \n",
       "Excedente operacional bruto e rendimento misto ...                                              11130   \n",
       "   Rendimento misto bruto                                                                        7682   \n",
       "   Excedente operacional bruto (EOB)                                                             3448   \n",
       "Outros impostos sobre a produção                                                                  337   \n",
       "Outros subsídios à produção                                                                         0   \n",
       "Valor da produção                                                                               46576   \n",
       "Fator trabalho (ocupações)                                                                    1187141   \n",
       "\n",
       "                                                    Organizações associativas e outros serviços pessoais  \\\n",
       "Indice                                                                                                     \n",
       "Valor adicionado bruto ( PIB )                                                                  93860      \n",
       "Remunerações                                                                                    46625      \n",
       "   Salários                                                                                     39840      \n",
       "   Contribuições sociais efetivas                                                                6785      \n",
       "      Previdência oficial /FGTS                                                                  6681      \n",
       "      Previdência privada                                                                         104      \n",
       "   Contribuições sociais imputadas                                                                  0      \n",
       "Excedente operacional bruto e rendimento misto ...                                              45995      \n",
       "   Rendimento misto bruto                                                                       35820      \n",
       "   Excedente operacional bruto (EOB)                                                            10175      \n",
       "Outros impostos sobre a produção                                                                 1240      \n",
       "Outros subsídios à produção                                                                         0      \n",
       "Valor da produção                                                                              185099      \n",
       "Fator trabalho (ocupações)                                                                    4658531      \n",
       "\n",
       "                                                    Serviços domésticos  \n",
       "Indice                                                                   \n",
       "Valor adicionado bruto ( PIB )                                    75158  \n",
       "Remunerações                                                      75158  \n",
       "   Salários                                                       73167  \n",
       "   Contribuições sociais efetivas                                  1991  \n",
       "      Previdência oficial /FGTS                                    1991  \n",
       "      Previdência privada                                             0  \n",
       "   Contribuições sociais imputadas                                    0  \n",
       "Excedente operacional bruto e rendimento misto ...                    0  \n",
       "   Rendimento misto bruto                                             0  \n",
       "   Excedente operacional bruto (EOB)                                  0  \n",
       "Outros impostos sobre a produção                                      0  \n",
       "Outros subsídios à produção                                           0  \n",
       "Valor da produção                                                 75158  \n",
       "Fator trabalho (ocupações)                                      6843869  \n",
       "\n",
       "[14 rows x 67 columns]"
      ]
     },
     "execution_count": 78,
     "metadata": {},
     "output_type": "execute_result"
    }
   ],
   "source": [
    "valor_adicionado"
   ]
  },
  {
   "cell_type": "code",
   "execution_count": 75,
   "id": "2a84c387",
   "metadata": {},
   "outputs": [
    {
     "data": {
      "text/plain": [
       "array([ 415308,  163008,   38200,   20360,  254621,  108090,   19375,\n",
       "        322433,   52577,  331216,   90049,   16574,   56729,   69845,\n",
       "         42405,   34007,  111870,   20083,  469698,   59796,  185375,\n",
       "         97792,   52574,   78406,  125587,   88584,  144621,   78214,\n",
       "        112667,  109228,   87853,  138666,  204019,  112190,   34106,\n",
       "         82498,   81987,  345330,   88790,  572890, 1365064,  427944,\n",
       "         24111,   48735,  148123,   31622,  300523,   18061,   44125,\n",
       "        168740,  192225,  696739,  675910,  246830,   66918,  113009,\n",
       "         53197,  282668,   45197,  897364,  380023,  149053,  217052,\n",
       "        324104,   46576,  185099,   75158])"
      ]
     },
     "execution_count": 75,
     "metadata": {},
     "output_type": "execute_result"
    }
   ],
   "source": [
    "valor_producao[0]"
   ]
  },
  {
   "cell_type": "code",
   "execution_count": 85,
   "id": "de064eaa",
   "metadata": {},
   "outputs": [],
   "source": [
    "valor_producao = valor_adicionado.query(' index == \"Valor da produção\"').values[0]\n",
    "ocupacoes = valor_adicionado.query(' index == \"Fator trabalho (ocupações)\"').values[0]\n",
    "salarios = valor_adicionado.query(' index == \"   Salários\"').values[0]\n"
   ]
  },
  {
   "cell_type": "code",
   "execution_count": 86,
   "id": "ca1866b5",
   "metadata": {},
   "outputs": [],
   "source": [
    "participacao_ocupacao = ocupacoes / valor_producao\n",
    "participacao_salarios = salarios / valor_producao"
   ]
  },
  {
   "cell_type": "code",
   "execution_count": 96,
   "id": "89b58a27",
   "metadata": {},
   "outputs": [],
   "source": [
    "multiplicador_salario = participacao_salarios@ L\n",
    "multiplicador_ocupacao = participacao_ocupacao@ L   "
   ]
  },
  {
   "cell_type": "code",
   "execution_count": 98,
   "id": "95b192d5",
   "metadata": {},
   "outputs": [
    {
     "data": {
      "text/plain": [
       "array([0.15463597, 0.23073579, 0.11300397, 0.28458486, 0.15704336,\n",
       "       0.14253006, 0.22893176, 0.29075544, 0.2587986 , 0.26829392,\n",
       "       0.29408208, 0.2448277 , 0.3065162 , 0.36852972, 0.38859617,\n",
       "       0.30790748, 0.26308469, 0.37699788, 0.12785316, 0.26501052,\n",
       "       0.17512926, 0.21769549, 0.26053092, 0.26243311, 0.28361121,\n",
       "       0.35279536, 0.23691782, 0.22575534, 0.30986222, 0.18579551,\n",
       "       0.29033637, 0.31157812, 0.29167841, 0.32138623, 0.30586727,\n",
       "       0.30293764, 0.25337493, 0.14894361, 0.27486093, 0.29473294,\n",
       "       0.34058146, 0.30511725, 0.30222996, 0.25585421, 0.35052668,\n",
       "       0.42203477, 0.29735169, 0.43349137, 0.41328978, 0.25610173,\n",
       "       0.34572015, 0.29360527, 0.02964101, 0.30116113, 0.35931897,\n",
       "       0.33452045, 0.27152036, 0.43837516, 0.60330397, 0.51124876,\n",
       "       0.69823569, 0.58490396, 0.59170772, 0.373488  , 0.36562759,\n",
       "       0.33113025, 0.97350914])"
      ]
     },
     "execution_count": 98,
     "metadata": {},
     "output_type": "execute_result"
    }
   ],
   "source": [
    "multiplicador_salario"
   ]
  },
  {
   "cell_type": "code",
   "execution_count": 99,
   "id": "d1bc2719",
   "metadata": {},
   "outputs": [],
   "source": [
    "m_setor = np.zeros(multiplicador_producao.shape)"
   ]
  },
  {
   "cell_type": "code",
   "execution_count": 100,
   "id": "7153fecf",
   "metadata": {},
   "outputs": [],
   "source": [
    "m_setor[0] = 415308"
   ]
  },
  {
   "cell_type": "code",
   "execution_count": 101,
   "id": "ce882c4b",
   "metadata": {},
   "outputs": [
    {
     "data": {
      "text/plain": [
       "array([1.76076998, 1.87116443, 1.41138057, 1.89935165, 1.67881159,\n",
       "       1.76928694, 1.8802768 , 2.57564418, 2.47674459, 2.37420239,\n",
       "       2.30774523, 2.28124799, 2.02302138, 1.87938649, 2.01653526,\n",
       "       2.00227036, 2.0858015 , 1.8218803 , 2.37981241, 2.33917418,\n",
       "       1.98773497, 1.98266718, 2.132686  , 1.68216648, 2.03380282,\n",
       "       2.14870885, 2.23407461, 2.13510503, 2.0267946 , 1.65617805,\n",
       "       2.03842901, 1.88897226, 2.27793196, 2.05156181, 1.7170185 ,\n",
       "       1.82193081, 1.70442506, 1.96355249, 1.55108011, 1.86247801,\n",
       "       1.56797029, 2.02436096, 1.77533732, 1.8427104 , 1.576907  ,\n",
       "       1.71720917, 1.87252457, 1.68490536, 1.85048103, 1.81316894,\n",
       "       1.41260022, 1.44445913, 1.10515566, 1.40144171, 1.47456249,\n",
       "       1.97057259, 1.480919  , 1.43721144, 1.24852401, 1.39124975,\n",
       "       1.2296365 , 1.38620394, 1.50372377, 1.58168174, 1.58708887,\n",
       "       1.64563588, 1.        ])"
      ]
     },
     "execution_count": 101,
     "metadata": {},
     "output_type": "execute_result"
    }
   ],
   "source": [
    "multiplicador_producao"
   ]
  },
  {
   "cell_type": "code",
   "execution_count": 102,
   "id": "9ac19881",
   "metadata": {},
   "outputs": [
    {
     "data": {
      "text/plain": [
       "np.float64(7963818.266433165)"
      ]
     },
     "execution_count": 102,
     "metadata": {},
     "output_type": "execute_result"
    }
   ],
   "source": [
    "multiplicador_ocupacao[0]*415308"
   ]
  },
  {
   "cell_type": "code",
   "execution_count": 93,
   "id": "e0fde23e",
   "metadata": {},
   "outputs": [
    {
     "data": {
      "text/plain": [
       "np.float64(7963818.266433165)"
      ]
     },
     "execution_count": 93,
     "metadata": {},
     "output_type": "execute_result"
    }
   ],
   "source": [
    "np.dot(m_setor, multiplicador_ocupacao.T)"
   ]
  },
  {
   "cell_type": "code",
   "execution_count": 103,
   "id": "0361d000",
   "metadata": {},
   "outputs": [
    {
     "data": {
      "text/plain": [
       "array([1.76076998, 1.87116443, 1.41138057, 1.89935165, 1.67881159,\n",
       "       1.76928694, 1.8802768 , 2.57564418, 2.47674459, 2.37420239,\n",
       "       2.30774523, 2.28124799, 2.02302138, 1.87938649, 2.01653526,\n",
       "       2.00227036, 2.0858015 , 1.8218803 , 2.37981241, 2.33917418,\n",
       "       1.98773497, 1.98266718, 2.132686  , 1.68216648, 2.03380282,\n",
       "       2.14870885, 2.23407461, 2.13510503, 2.0267946 , 1.65617805,\n",
       "       2.03842901, 1.88897226, 2.27793196, 2.05156181, 1.7170185 ,\n",
       "       1.82193081, 1.70442506, 1.96355249, 1.55108011, 1.86247801,\n",
       "       1.56797029, 2.02436096, 1.77533732, 1.8427104 , 1.576907  ,\n",
       "       1.71720917, 1.87252457, 1.68490536, 1.85048103, 1.81316894,\n",
       "       1.41260022, 1.44445913, 1.10515566, 1.40144171, 1.47456249,\n",
       "       1.97057259, 1.480919  , 1.43721144, 1.24852401, 1.39124975,\n",
       "       1.2296365 , 1.38620394, 1.50372377, 1.58168174, 1.58708887,\n",
       "       1.64563588, 1.        ])"
      ]
     },
     "execution_count": 103,
     "metadata": {},
     "output_type": "execute_result"
    }
   ],
   "source": [
    "L.sum(axis=0)"
   ]
  },
  {
   "cell_type": "code",
   "execution_count": 104,
   "id": "f598f7d2",
   "metadata": {},
   "outputs": [],
   "source": [
    "#Criar um arquivo excel com 3 colunas, um multiplicador de producao, um de ocupacao e um de salário na mesma aba.\n",
    "\n",
    "df_multiplicadores = pd.DataFrame({'multiplicador_producao': multiplicador_producao, 'multiplicador_ocupacao': multiplicador_ocupacao, 'multiplicador_salario': multiplicador_salario}, index=A.columns)\n",
    "\n",
    "df_multiplicadores.to_excel('./dados/mip/estimacao/multiplicadores.xlsx', sheet_name='Multiplicadores')"
   ]
  },
  {
   "cell_type": "code",
   "execution_count": 109,
   "id": "0c6ed992",
   "metadata": {},
   "outputs": [
    {
     "data": {
      "text/plain": [
       "Index(['Valor adicionado bruto ( PIB )', 'Remunerações', '   Salários',\n",
       "       '   Contribuições sociais efetivas', '      Previdência oficial /FGTS',\n",
       "       '      Previdência privada', '   Contribuições sociais imputadas',\n",
       "       'Excedente operacional bruto e rendimento misto bruto',\n",
       "       '   Rendimento misto bruto', '   Excedente operacional bruto (EOB)',\n",
       "       'Outros impostos sobre a produção', 'Outros subsídios à produção',\n",
       "       'Valor da produção', 'Fator trabalho (ocupações)'],\n",
       "      dtype='object', name='Indice')"
      ]
     },
     "execution_count": 109,
     "metadata": {},
     "output_type": "execute_result"
    }
   ],
   "source": [
    "valor_adicionado.index"
   ]
  },
  {
   "cell_type": "code",
   "execution_count": 123,
   "id": "de7113e8",
   "metadata": {},
   "outputs": [
    {
     "data": {
      "text/plain": [
       "array([ 415308,  163008,   38200,   20360,  254621,  108090,   19375,\n",
       "        322433,   52577,  331216,   90049,   16574,   56729,   69845,\n",
       "         42405,   34007,  111870,   20083,  469698,   59796,  185375,\n",
       "         97792,   52574,   78406,  125587,   88584,  144621,   78214,\n",
       "        112667,  109228,   87853,  138666,  204019,  112190,   34106,\n",
       "         82498,   81987,  345330,   88790,  572890, 1365064,  427944,\n",
       "         24111,   48735,  148123,   31622,  300523,   18061,   44125,\n",
       "        168740,  192225,  696739,  675910,  246830,   66918,  113009,\n",
       "         53197,  282668,   45197,  897364,  380023,  149053,  217052,\n",
       "        324104,   46576,  185099,   75158])"
      ]
     },
     "execution_count": 123,
     "metadata": {},
     "output_type": "execute_result"
    }
   ],
   "source": [
    "valor_producao"
   ]
  },
  {
   "cell_type": "code",
   "execution_count": 112,
   "id": "93bea0c3",
   "metadata": {},
   "outputs": [],
   "source": [
    "valor_pib = valor_adicionado.query(' index == \"Valor adicionado bruto ( PIB )\"').values[0]\n"
   ]
  },
  {
   "cell_type": "code",
   "execution_count": 124,
   "id": "ce718e02",
   "metadata": {},
   "outputs": [],
   "source": [
    "df_producao = pd.DataFrame({'Valor de producao' : valor_producao})\n"
   ]
  },
  {
   "cell_type": "code",
   "execution_count": 125,
   "id": "2e9192eb",
   "metadata": {},
   "outputs": [],
   "source": [
    "df_producao.index = A.index"
   ]
  },
  {
   "cell_type": "code",
   "execution_count": 126,
   "id": "ffcdb07e",
   "metadata": {},
   "outputs": [],
   "source": [
    "df_producao.to_excel('./dados/mip/estimacao/valor_producao.xlsx', sheet_name='Valor de Producao')"
   ]
  }
 ],
 "metadata": {
  "kernelspec": {
   "display_name": "mip",
   "language": "python",
   "name": "python3"
  },
  "language_info": {
   "codemirror_mode": {
    "name": "ipython",
    "version": 3
   },
   "file_extension": ".py",
   "mimetype": "text/x-python",
   "name": "python",
   "nbconvert_exporter": "python",
   "pygments_lexer": "ipython3",
   "version": "3.13.2"
  }
 },
 "nbformat": 4,
 "nbformat_minor": 5
}
