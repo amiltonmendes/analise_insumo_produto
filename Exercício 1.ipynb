{
 "cells": [
  {
   "cell_type": "markdown",
   "id": "9c8755b6",
   "metadata": {},
   "source": [
    "# 1. Estimação da MIP\n"
   ]
  },
  {
   "cell_type": "markdown",
   "id": "8acaff1a",
   "metadata": {},
   "source": []
  },
  {
   "cell_type": "code",
   "execution_count": null,
   "id": "3a2ba520",
   "metadata": {},
   "outputs": [],
   "source": []
  }
 ],
 "metadata": {
  "language_info": {
   "name": "python"
  }
 },
 "nbformat": 4,
 "nbformat_minor": 5
}
