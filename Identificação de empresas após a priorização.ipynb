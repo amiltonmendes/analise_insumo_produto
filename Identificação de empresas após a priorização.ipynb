{
 "cells": [
  {
   "cell_type": "code",
   "execution_count": 1,
   "id": "d2dbc0f1",
   "metadata": {},
   "outputs": [],
   "source": [
    "import requests\n",
    "import pandas as pd\n",
    "\n",
    "import json"
   ]
  },
  {
   "cell_type": "markdown",
   "id": "b81866f3",
   "metadata": {},
   "source": [
    "## Calcular tarifas "
   ]
  },
  {
   "cell_type": "code",
   "execution_count": 2,
   "id": "d3ce9cd7",
   "metadata": {},
   "outputs": [],
   "source": [
    "tarifas_auto = pd.read_excel('./dados/comex/tabela_tarifas_automotivas_hts (1).xlsx', dtype=str)"
   ]
  },
  {
   "cell_type": "code",
   "execution_count": 3,
   "id": "88250c29",
   "metadata": {},
   "outputs": [
    {
     "data": {
      "text/plain": [
       "(51, 5)"
      ]
     },
     "execution_count": 3,
     "metadata": {},
     "output_type": "execute_result"
    }
   ],
   "source": [
    "tarifas_auto.shape"
   ]
  },
  {
   "cell_type": "code",
   "execution_count": 4,
   "id": "876eafca",
   "metadata": {},
   "outputs": [
    {
     "data": {
      "application/vnd.microsoft.datawrangler.viewer.v0+json": {
       "columns": [
        {
         "name": "index",
         "rawType": "int64",
         "type": "integer"
        },
        {
         "name": "Codigo_HTSUS",
         "rawType": "object",
         "type": "string"
        },
        {
         "name": "Categoria_Tarifaria",
         "rawType": "object",
         "type": "string"
        },
        {
         "name": "Codigo_Tarifa_Especial_Cap99",
         "rawType": "object",
         "type": "string"
        },
        {
         "name": "Aliquota",
         "rawType": "object",
         "type": "string"
        },
        {
         "name": "Condicao",
         "rawType": "object",
         "type": "string"
        }
       ],
       "ref": "a92d07b0-c182-412c-aafd-32301693f32b",
       "rows": [
        [
         "0",
         "8703.22.01",
         "Tarifa Geral",
         "9903.94.01",
         "25% sobre valor total",
         "Padrão para todos os veículos importados."
        ],
        [
         "1",
         "8703.22.01",
         "Exceção USMCA",
         "9903.94.03",
         "25% sobre conteúdo não-americano",
         "Requer elegibilidade sob o USMCA e aprovação do Secretário de Comércio"
        ]
       ],
       "shape": {
        "columns": 5,
        "rows": 2
       }
      },
      "text/html": [
       "<div>\n",
       "<style scoped>\n",
       "    .dataframe tbody tr th:only-of-type {\n",
       "        vertical-align: middle;\n",
       "    }\n",
       "\n",
       "    .dataframe tbody tr th {\n",
       "        vertical-align: top;\n",
       "    }\n",
       "\n",
       "    .dataframe thead th {\n",
       "        text-align: right;\n",
       "    }\n",
       "</style>\n",
       "<table border=\"1\" class=\"dataframe\">\n",
       "  <thead>\n",
       "    <tr style=\"text-align: right;\">\n",
       "      <th></th>\n",
       "      <th>Codigo_HTSUS</th>\n",
       "      <th>Categoria_Tarifaria</th>\n",
       "      <th>Codigo_Tarifa_Especial_Cap99</th>\n",
       "      <th>Aliquota</th>\n",
       "      <th>Condicao</th>\n",
       "    </tr>\n",
       "  </thead>\n",
       "  <tbody>\n",
       "    <tr>\n",
       "      <th>0</th>\n",
       "      <td>8703.22.01</td>\n",
       "      <td>Tarifa Geral</td>\n",
       "      <td>9903.94.01</td>\n",
       "      <td>25% sobre valor total</td>\n",
       "      <td>Padrão para todos os veículos importados.</td>\n",
       "    </tr>\n",
       "    <tr>\n",
       "      <th>1</th>\n",
       "      <td>8703.22.01</td>\n",
       "      <td>Exceção USMCA</td>\n",
       "      <td>9903.94.03</td>\n",
       "      <td>25% sobre conteúdo não-americano</td>\n",
       "      <td>Requer elegibilidade sob o USMCA e aprovação d...</td>\n",
       "    </tr>\n",
       "  </tbody>\n",
       "</table>\n",
       "</div>"
      ],
      "text/plain": [
       "  Codigo_HTSUS Categoria_Tarifaria Codigo_Tarifa_Especial_Cap99  \\\n",
       "0   8703.22.01        Tarifa Geral                   9903.94.01   \n",
       "1   8703.22.01       Exceção USMCA                   9903.94.03   \n",
       "\n",
       "                           Aliquota  \\\n",
       "0             25% sobre valor total   \n",
       "1  25% sobre conteúdo não-americano   \n",
       "\n",
       "                                            Condicao  \n",
       "0          Padrão para todos os veículos importados.  \n",
       "1  Requer elegibilidade sob o USMCA e aprovação d...  "
      ]
     },
     "execution_count": 4,
     "metadata": {},
     "output_type": "execute_result"
    }
   ],
   "source": [
    "tarifas_auto.head(2)"
   ]
  },
  {
   "cell_type": "code",
   "execution_count": 5,
   "id": "2e5741a2",
   "metadata": {},
   "outputs": [],
   "source": [
    "tarifas_auto['SH6'] = tarifas_auto['Codigo_HTSUS'].str.replace('.', '', regex=False).str[0:6]\n",
    "\n",
    "tarifas_auto = tarifas_auto[['SH6', 'Aliquota']].drop_duplicates()"
   ]
  },
  {
   "cell_type": "code",
   "execution_count": 6,
   "id": "d666a76c",
   "metadata": {},
   "outputs": [],
   "source": [
    "tarifas_auto = tarifas_auto[['SH6']].drop_duplicates()"
   ]
  },
  {
   "cell_type": "code",
   "execution_count": 7,
   "id": "d49245c2",
   "metadata": {},
   "outputs": [],
   "source": [
    "tarifas_auto['Instrumento'] = 'Seção 232'\n",
    "tarifas_auto['Tarifa Desc'] = \"10% (base) para veículos antigos ou conteúdo americano a 25%\"\n",
    "tarifas_auto['Tarifa'] = 0.25\n",
    "tarifas_auto['Vigência'] = 'Em análise'\n"
   ]
  },
  {
   "cell_type": "code",
   "execution_count": 8,
   "id": "5cf9cb49",
   "metadata": {},
   "outputs": [],
   "source": [
    "ncm = pd.read_csv('./dados/comex/NCM (2).csv',sep=';',dtype={'CO_SH6': str, 'CO_ISIC_CLASSE': str})\n",
    "\n",
    "ncm_sh6 = ncm[['CO_SH6']].drop_duplicates()\n",
    "ncm_sh6['CO_SH6'] = ncm_sh6['CO_SH6'].str.strip().str.zfill(6)\n",
    "ncm_sh6.rename(columns={'CO_SH6': 'SH6'}, inplace=True)"
   ]
  },
  {
   "cell_type": "code",
   "execution_count": 9,
   "id": "2dec742a",
   "metadata": {},
   "outputs": [],
   "source": [
    "\n",
    "\n",
    "harmonized = pd.read_excel('./dados/comex/Harmonized Tariff Schedule of the United States (HTSUS) not covered by the action.xlsx')\n",
    "harmonized['SH6'] = harmonized['HTSUS'].str.replace('.', '', regex=False).str[0:6]\n",
    "harmonized = harmonized.fillna('')\n",
    "\n",
    "harmonized['Instrumento'] = 'Exclusão Ordem 30/07'\n",
    "harmonized['Tarifa Desc'] = 'Adicional de até 10%'\n",
    "harmonized['Tarifa'] = 0.10\n",
    "harmonized['Vigência'] = 'Vigente'\n",
    "\n",
    "lista_aviacao = harmonized[['SH6','Articles of Civil Aircraft only']].query('`Articles of Civil Aircraft only`==\"*\"')\n",
    "harmonized = harmonized.query('`Articles of Civil Aircraft only`!=\"*\"')[['SH6','Instrumento','Tarifa', 'Tarifa Desc','Vigência']].drop_duplicates()\n",
    "\n",
    "lista_aviacao = lista_aviacao.drop_duplicates()\n",
    "\n",
    "aco = pd.read_excel('./dados/comex/NCMs de aço e aluminio afetadas Seçao 232 EUA (2).xlsx',dtype=str).rename(columns={'SH_6' : 'SH6'})[['SH6']].drop_duplicates()\n",
    "\n",
    "aco['Instrumento'] = 'Seção 232'\n",
    "aco['Tarifa Desc'] = \"25% (atual) a 50%\"\n",
    "aco['Tarifa'] = 0.50\n",
    "aco['Vigência'] = 'Em análise'\n",
    "\n",
    "\n",
    "  \n",
    "\n",
    "\n",
    "tarifas = pd.concat([harmonized[['SH6','Instrumento','Tarifa','Vigência','Tarifa Desc']],aco[['SH6','Instrumento','Tarifa','Vigência','Tarifa Desc']],tarifas_auto[['SH6','Instrumento','Tarifa','Vigência','Tarifa Desc']]])#,automoveis[['SH6','Instrumento','Tarifa']]])\n",
    "tarifas = tarifas.drop_duplicates()\n",
    "ncm_sh6 = ncm_sh6.merge(tarifas, on='SH6', how='left')\n",
    "ncm_sh6 = ncm_sh6.merge(lista_aviacao, on='SH6', how='left')\n",
    "ncm_sh6['Articles of Civil Aircraft only'] = ncm_sh6['Articles of Civil Aircraft only'].fillna('')\n",
    "ncm_sh6['Instrumento'] = ncm_sh6['Instrumento'].fillna('Ordem 30/07')\n",
    "ncm_sh6['Tarifa Desc'] = ncm_sh6['Tarifa Desc'].fillna('Tarifa de 10+40%')\n",
    "ncm_sh6['Tarifa'] = ncm_sh6['Tarifa'].fillna(0.5)\n",
    "ncm_sh6['Vigência'] = ncm_sh6['Vigência'].fillna('Vigente')\n"
   ]
  },
  {
   "cell_type": "code",
   "execution_count": 10,
   "id": "d9e8f74f",
   "metadata": {},
   "outputs": [],
   "source": [
    "ncm_sh6.loc[ncm_sh6['SH6'].str.startswith('74'),'Instrumento'] = 'Seção 232'\n",
    "ncm_sh6.loc[ncm_sh6['SH6'].str.startswith('74'),'Tarifa Desc'] = '25% (atual) a 50%'\n",
    "ncm_sh6.loc[ncm_sh6['SH6'].str.startswith('74'),'Tarifa'] = 0.50\n",
    "ncm_sh6.loc[ncm_sh6['SH6'].str.startswith('74'),'Vigência'] = 'Em análise'"
   ]
  },
  {
   "cell_type": "code",
   "execution_count": 11,
   "id": "0adcdbaa",
   "metadata": {},
   "outputs": [
    {
     "data": {
      "text/plain": [
       "array(['Ordem 30/07', 'Seção 232', 'Exclusão Ordem 30/07'], dtype=object)"
      ]
     },
     "execution_count": 11,
     "metadata": {},
     "output_type": "execute_result"
    }
   ],
   "source": [
    "ncm_sh6['Instrumento'].unique()"
   ]
  },
  {
   "cell_type": "code",
   "execution_count": 12,
   "id": "4c712f24",
   "metadata": {},
   "outputs": [
    {
     "data": {
      "application/vnd.microsoft.datawrangler.viewer.v0+json": {
       "columns": [
        {
         "name": "index",
         "rawType": "int64",
         "type": "integer"
        },
        {
         "name": "SH6",
         "rawType": "object",
         "type": "string"
        },
        {
         "name": "Instrumento",
         "rawType": "object",
         "type": "string"
        },
        {
         "name": "Tarifa",
         "rawType": "float64",
         "type": "float"
        },
        {
         "name": "Vigência",
         "rawType": "object",
         "type": "string"
        },
        {
         "name": "Tarifa Desc",
         "rawType": "object",
         "type": "string"
        },
        {
         "name": "Articles of Civil Aircraft only",
         "rawType": "object",
         "type": "string"
        }
       ],
       "ref": "28f8b097-7b35-4448-8274-c1a7624cfb05",
       "rows": [
        [
         "0",
         "490110",
         "Ordem 30/07",
         "0.5",
         "Vigente",
         "Tarifa de 10+40%",
         ""
        ],
        [
         "1",
         "490191",
         "Ordem 30/07",
         "0.5",
         "Vigente",
         "Tarifa de 10+40%",
         ""
        ]
       ],
       "shape": {
        "columns": 6,
        "rows": 2
       }
      },
      "text/html": [
       "<div>\n",
       "<style scoped>\n",
       "    .dataframe tbody tr th:only-of-type {\n",
       "        vertical-align: middle;\n",
       "    }\n",
       "\n",
       "    .dataframe tbody tr th {\n",
       "        vertical-align: top;\n",
       "    }\n",
       "\n",
       "    .dataframe thead th {\n",
       "        text-align: right;\n",
       "    }\n",
       "</style>\n",
       "<table border=\"1\" class=\"dataframe\">\n",
       "  <thead>\n",
       "    <tr style=\"text-align: right;\">\n",
       "      <th></th>\n",
       "      <th>SH6</th>\n",
       "      <th>Instrumento</th>\n",
       "      <th>Tarifa</th>\n",
       "      <th>Vigência</th>\n",
       "      <th>Tarifa Desc</th>\n",
       "      <th>Articles of Civil Aircraft only</th>\n",
       "    </tr>\n",
       "  </thead>\n",
       "  <tbody>\n",
       "    <tr>\n",
       "      <th>0</th>\n",
       "      <td>490110</td>\n",
       "      <td>Ordem 30/07</td>\n",
       "      <td>0.5</td>\n",
       "      <td>Vigente</td>\n",
       "      <td>Tarifa de 10+40%</td>\n",
       "      <td></td>\n",
       "    </tr>\n",
       "    <tr>\n",
       "      <th>1</th>\n",
       "      <td>490191</td>\n",
       "      <td>Ordem 30/07</td>\n",
       "      <td>0.5</td>\n",
       "      <td>Vigente</td>\n",
       "      <td>Tarifa de 10+40%</td>\n",
       "      <td></td>\n",
       "    </tr>\n",
       "  </tbody>\n",
       "</table>\n",
       "</div>"
      ],
      "text/plain": [
       "      SH6  Instrumento  Tarifa Vigência       Tarifa Desc  \\\n",
       "0  490110  Ordem 30/07     0.5  Vigente  Tarifa de 10+40%   \n",
       "1  490191  Ordem 30/07     0.5  Vigente  Tarifa de 10+40%   \n",
       "\n",
       "  Articles of Civil Aircraft only  \n",
       "0                                  \n",
       "1                                  "
      ]
     },
     "execution_count": 12,
     "metadata": {},
     "output_type": "execute_result"
    }
   ],
   "source": [
    "ncm_sh6.head(2)"
   ]
  },
  {
   "cell_type": "markdown",
   "id": "d34a1c56",
   "metadata": {},
   "source": [
    "### Filtrar apenas tarifas acima dos demais países"
   ]
  },
  {
   "cell_type": "code",
   "execution_count": 15,
   "id": "5639f143",
   "metadata": {},
   "outputs": [],
   "source": [
    "\n",
    "ncm_sh6 = ncm_sh6.query('Instrumento == \"Ordem 30/07\"')"
   ]
  },
  {
   "cell_type": "markdown",
   "id": "0bcd5c6d",
   "metadata": {},
   "source": [
    "## Carregar dados de setores com participação americana na exportação e verificar o total de impostos "
   ]
  },
  {
   "cell_type": "code",
   "execution_count": 13,
   "id": "a41a5e96",
   "metadata": {},
   "outputs": [],
   "source": [
    "exportacoes_pia = pd.read_excel('./Outputs/final/exportacao_pia_intensidade.xlsx',dtype={'cnae' : str,'CO_SH6' : str})"
   ]
  },
  {
   "cell_type": "code",
   "execution_count": 14,
   "id": "690b56be",
   "metadata": {},
   "outputs": [
    {
     "data": {
      "text/plain": [
       "(3222, 10)"
      ]
     },
     "execution_count": 14,
     "metadata": {},
     "output_type": "execute_result"
    }
   ],
   "source": [
    "exportacoes_pia.shape"
   ]
  },
  {
   "cell_type": "code",
   "execution_count": 16,
   "id": "46453c43",
   "metadata": {},
   "outputs": [],
   "source": [
    "exportacoes_pia_tarifas = exportacoes_pia.merge(ncm_sh6.rename(columns={\"SH6\":\"CO_SH6\"}),on='CO_SH6',how='inner')"
   ]
  },
  {
   "cell_type": "code",
   "execution_count": 17,
   "id": "9a7f9fb1",
   "metadata": {},
   "outputs": [
    {
     "data": {
      "text/plain": [
       "(2911, 15)"
      ]
     },
     "execution_count": 17,
     "metadata": {},
     "output_type": "execute_result"
    }
   ],
   "source": [
    "exportacoes_pia_tarifas.shape"
   ]
  },
  {
   "cell_type": "code",
   "execution_count": 18,
   "id": "8916387a",
   "metadata": {},
   "outputs": [
    {
     "data": {
      "text/plain": [
       "array(['Ordem 30/07'], dtype=object)"
      ]
     },
     "execution_count": 18,
     "metadata": {},
     "output_type": "execute_result"
    }
   ],
   "source": [
    "exportacoes_pia_tarifas['Instrumento'].unique()"
   ]
  },
  {
   "cell_type": "code",
   "execution_count": 19,
   "id": "0c4bc692",
   "metadata": {},
   "outputs": [
    {
     "data": {
      "application/vnd.microsoft.datawrangler.viewer.v0+json": {
       "columns": [
        {
         "name": "index",
         "rawType": "int64",
         "type": "integer"
        },
        {
         "name": "CO_SH6",
         "rawType": "object",
         "type": "string"
        },
        {
         "name": "CO_ISIC_CLASSE",
         "rawType": "int64",
         "type": "integer"
        },
        {
         "name": "R$ FOB Mundo",
         "rawType": "float64",
         "type": "float"
        },
        {
         "name": "R$ FOB USA",
         "rawType": "float64",
         "type": "float"
        },
        {
         "name": "participacao_usa",
         "rawType": "float64",
         "type": "float"
        },
        {
         "name": "cnae",
         "rawType": "object",
         "type": "string"
        },
        {
         "name": "cnae_descricao",
         "rawType": "object",
         "type": "string"
        },
        {
         "name": "Receita líquida de vendas de produtos e serviços industriais",
         "rawType": "int64",
         "type": "integer"
        },
        {
         "name": "Total da receita líquida de vendas",
         "rawType": "int64",
         "type": "integer"
        },
        {
         "name": "Intensidade Tecnológica",
         "rawType": "object",
         "type": "string"
        },
        {
         "name": "Instrumento",
         "rawType": "object",
         "type": "string"
        },
        {
         "name": "Tarifa",
         "rawType": "float64",
         "type": "float"
        },
        {
         "name": "Vigência",
         "rawType": "object",
         "type": "string"
        },
        {
         "name": "Tarifa Desc",
         "rawType": "object",
         "type": "string"
        },
        {
         "name": "Articles of Civil Aircraft only",
         "rawType": "object",
         "type": "string"
        }
       ],
       "ref": "abd367b5-9147-469e-8e6a-ef3d6933a6f0",
       "rows": [
        [
         "0",
         "521029",
         "1312",
         "421859.13",
         "9055.199999999999",
         "0.02146498524282264",
         "13",
         "Fabricação de produtos têxteis",
         "71933723000",
         "74466387000",
         "Média Baixa Intensidade Tecnológica",
         "Ordem 30/07",
         "0.5",
         "Vigente",
         "Tarifa de 10+40%",
         ""
        ],
        [
         "1",
         "521032",
         "1312",
         "724739.3999999999",
         "7702.309999999999",
         "0.01062769596906143",
         "13",
         "Fabricação de produtos têxteis",
         "71933723000",
         "74466387000",
         "Média Baixa Intensidade Tecnológica",
         "Ordem 30/07",
         "0.5",
         "Vigente",
         "Tarifa de 10+40%",
         ""
        ]
       ],
       "shape": {
        "columns": 15,
        "rows": 2
       }
      },
      "text/html": [
       "<div>\n",
       "<style scoped>\n",
       "    .dataframe tbody tr th:only-of-type {\n",
       "        vertical-align: middle;\n",
       "    }\n",
       "\n",
       "    .dataframe tbody tr th {\n",
       "        vertical-align: top;\n",
       "    }\n",
       "\n",
       "    .dataframe thead th {\n",
       "        text-align: right;\n",
       "    }\n",
       "</style>\n",
       "<table border=\"1\" class=\"dataframe\">\n",
       "  <thead>\n",
       "    <tr style=\"text-align: right;\">\n",
       "      <th></th>\n",
       "      <th>CO_SH6</th>\n",
       "      <th>CO_ISIC_CLASSE</th>\n",
       "      <th>R$ FOB Mundo</th>\n",
       "      <th>R$ FOB USA</th>\n",
       "      <th>participacao_usa</th>\n",
       "      <th>cnae</th>\n",
       "      <th>cnae_descricao</th>\n",
       "      <th>Receita líquida de vendas de produtos e serviços industriais</th>\n",
       "      <th>Total da receita líquida de vendas</th>\n",
       "      <th>Intensidade Tecnológica</th>\n",
       "      <th>Instrumento</th>\n",
       "      <th>Tarifa</th>\n",
       "      <th>Vigência</th>\n",
       "      <th>Tarifa Desc</th>\n",
       "      <th>Articles of Civil Aircraft only</th>\n",
       "    </tr>\n",
       "  </thead>\n",
       "  <tbody>\n",
       "    <tr>\n",
       "      <th>0</th>\n",
       "      <td>521029</td>\n",
       "      <td>1312</td>\n",
       "      <td>421859.13</td>\n",
       "      <td>9055.20</td>\n",
       "      <td>0.021465</td>\n",
       "      <td>13</td>\n",
       "      <td>Fabricação de produtos têxteis</td>\n",
       "      <td>71933723000</td>\n",
       "      <td>74466387000</td>\n",
       "      <td>Média Baixa Intensidade Tecnológica</td>\n",
       "      <td>Ordem 30/07</td>\n",
       "      <td>0.5</td>\n",
       "      <td>Vigente</td>\n",
       "      <td>Tarifa de 10+40%</td>\n",
       "      <td></td>\n",
       "    </tr>\n",
       "    <tr>\n",
       "      <th>1</th>\n",
       "      <td>521032</td>\n",
       "      <td>1312</td>\n",
       "      <td>724739.40</td>\n",
       "      <td>7702.31</td>\n",
       "      <td>0.010628</td>\n",
       "      <td>13</td>\n",
       "      <td>Fabricação de produtos têxteis</td>\n",
       "      <td>71933723000</td>\n",
       "      <td>74466387000</td>\n",
       "      <td>Média Baixa Intensidade Tecnológica</td>\n",
       "      <td>Ordem 30/07</td>\n",
       "      <td>0.5</td>\n",
       "      <td>Vigente</td>\n",
       "      <td>Tarifa de 10+40%</td>\n",
       "      <td></td>\n",
       "    </tr>\n",
       "  </tbody>\n",
       "</table>\n",
       "</div>"
      ],
      "text/plain": [
       "   CO_SH6  CO_ISIC_CLASSE  R$ FOB Mundo  R$ FOB USA  participacao_usa cnae  \\\n",
       "0  521029            1312     421859.13     9055.20          0.021465   13   \n",
       "1  521032            1312     724739.40     7702.31          0.010628   13   \n",
       "\n",
       "                   cnae_descricao  \\\n",
       "0  Fabricação de produtos têxteis   \n",
       "1  Fabricação de produtos têxteis   \n",
       "\n",
       "   Receita líquida de vendas de produtos e serviços industriais  \\\n",
       "0                                        71933723000              \n",
       "1                                        71933723000              \n",
       "\n",
       "   Total da receita líquida de vendas              Intensidade Tecnológica  \\\n",
       "0                         74466387000  Média Baixa Intensidade Tecnológica   \n",
       "1                         74466387000  Média Baixa Intensidade Tecnológica   \n",
       "\n",
       "   Instrumento  Tarifa Vigência       Tarifa Desc  \\\n",
       "0  Ordem 30/07     0.5  Vigente  Tarifa de 10+40%   \n",
       "1  Ordem 30/07     0.5  Vigente  Tarifa de 10+40%   \n",
       "\n",
       "  Articles of Civil Aircraft only  \n",
       "0                                  \n",
       "1                                  "
      ]
     },
     "execution_count": 19,
     "metadata": {},
     "output_type": "execute_result"
    }
   ],
   "source": [
    "exportacoes_pia_tarifas.head(2)"
   ]
  },
  {
   "cell_type": "code",
   "execution_count": 20,
   "id": "e957f830",
   "metadata": {},
   "outputs": [],
   "source": [
    "participacao_producao_eua = exportacoes_pia_tarifas.groupby(['cnae','cnae_descricao','Total da receita líquida de vendas','Intensidade Tecnológica'])['R$ FOB USA'].sum().reset_index()\n",
    "participacao_producao_eua['participacao_producao_eua'] = participacao_producao_eua['R$ FOB USA'] / participacao_producao_eua['Total da receita líquida de vendas']\n",
    "participacao_producao_eua = participacao_producao_eua.drop(columns=['R$ FOB USA','Total da receita líquida de vendas'])\n"
   ]
  },
  {
   "cell_type": "code",
   "execution_count": 21,
   "id": "50e37e45",
   "metadata": {},
   "outputs": [
    {
     "data": {
      "application/vnd.microsoft.datawrangler.viewer.v0+json": {
       "columns": [
        {
         "name": "index",
         "rawType": "int64",
         "type": "integer"
        },
        {
         "name": "cnae",
         "rawType": "object",
         "type": "string"
        },
        {
         "name": "cnae_descricao",
         "rawType": "object",
         "type": "string"
        },
        {
         "name": "Intensidade Tecnológica",
         "rawType": "object",
         "type": "string"
        },
        {
         "name": "participacao_producao_eua",
         "rawType": "float64",
         "type": "float"
        }
       ],
       "ref": "e9ac507d-609c-493b-b0f3-6b9fb3699a50",
       "rows": [
        [
         "0",
         "072",
         "Extração de minerais metálicos não-ferrosos",
         "Média Baixa Intensidade Tecnológica",
         "0.0011232196482015297"
        ],
        [
         "1",
         "081",
         "Extração de pedra, areia e argila",
         "Média Baixa Intensidade Tecnológica",
         "0.0035944726692681943"
        ]
       ],
       "shape": {
        "columns": 4,
        "rows": 2
       }
      },
      "text/html": [
       "<div>\n",
       "<style scoped>\n",
       "    .dataframe tbody tr th:only-of-type {\n",
       "        vertical-align: middle;\n",
       "    }\n",
       "\n",
       "    .dataframe tbody tr th {\n",
       "        vertical-align: top;\n",
       "    }\n",
       "\n",
       "    .dataframe thead th {\n",
       "        text-align: right;\n",
       "    }\n",
       "</style>\n",
       "<table border=\"1\" class=\"dataframe\">\n",
       "  <thead>\n",
       "    <tr style=\"text-align: right;\">\n",
       "      <th></th>\n",
       "      <th>cnae</th>\n",
       "      <th>cnae_descricao</th>\n",
       "      <th>Intensidade Tecnológica</th>\n",
       "      <th>participacao_producao_eua</th>\n",
       "    </tr>\n",
       "  </thead>\n",
       "  <tbody>\n",
       "    <tr>\n",
       "      <th>0</th>\n",
       "      <td>072</td>\n",
       "      <td>Extração de minerais metálicos não-ferrosos</td>\n",
       "      <td>Média Baixa Intensidade Tecnológica</td>\n",
       "      <td>0.001123</td>\n",
       "    </tr>\n",
       "    <tr>\n",
       "      <th>1</th>\n",
       "      <td>081</td>\n",
       "      <td>Extração de pedra, areia e argila</td>\n",
       "      <td>Média Baixa Intensidade Tecnológica</td>\n",
       "      <td>0.003594</td>\n",
       "    </tr>\n",
       "  </tbody>\n",
       "</table>\n",
       "</div>"
      ],
      "text/plain": [
       "  cnae                               cnae_descricao  \\\n",
       "0  072  Extração de minerais metálicos não-ferrosos   \n",
       "1  081            Extração de pedra, areia e argila   \n",
       "\n",
       "               Intensidade Tecnológica  participacao_producao_eua  \n",
       "0  Média Baixa Intensidade Tecnológica                   0.001123  \n",
       "1  Média Baixa Intensidade Tecnológica                   0.003594  "
      ]
     },
     "execution_count": 21,
     "metadata": {},
     "output_type": "execute_result"
    }
   ],
   "source": [
    "participacao_producao_eua.head(2)"
   ]
  },
  {
   "cell_type": "code",
   "execution_count": 22,
   "id": "76d1fe56",
   "metadata": {},
   "outputs": [],
   "source": [
    "exportacoes_pia_tarifas = exportacoes_pia_tarifas[['CO_SH6','cnae','cnae_descricao','Intensidade Tecnológica','Instrumento','Tarifa','Vigência','Articles of Civil Aircraft only']].merge(participacao_producao_eua[['cnae','participacao_producao_eua']], on=['cnae'], how='left')"
   ]
  },
  {
   "cell_type": "code",
   "execution_count": 23,
   "id": "1d96f5d6",
   "metadata": {},
   "outputs": [
    {
     "data": {
      "text/plain": [
       "(2911, 9)"
      ]
     },
     "execution_count": 23,
     "metadata": {},
     "output_type": "execute_result"
    }
   ],
   "source": [
    "exportacoes_pia_tarifas.shape"
   ]
  },
  {
   "cell_type": "code",
   "execution_count": 24,
   "id": "ace3a129",
   "metadata": {},
   "outputs": [],
   "source": [
    "exportacoes_usa_2024 = pd.read_excel('./dados/comex/Exportacao EUA 2024 NCM.xlsx')"
   ]
  },
  {
   "cell_type": "code",
   "execution_count": 25,
   "id": "084584e7",
   "metadata": {},
   "outputs": [],
   "source": [
    "exportacoes_usa_2024['SH6'] = exportacoes_usa_2024['Código NCM'].astype(str).str.zfill(8).str[0:6]"
   ]
  },
  {
   "cell_type": "code",
   "execution_count": 26,
   "id": "deb1d068",
   "metadata": {},
   "outputs": [
    {
     "data": {
      "application/vnd.microsoft.datawrangler.viewer.v0+json": {
       "columns": [
        {
         "name": "index",
         "rawType": "int64",
         "type": "integer"
        },
        {
         "name": "Código NCM",
         "rawType": "int64",
         "type": "integer"
        },
        {
         "name": "Descrição NCM",
         "rawType": "object",
         "type": "string"
        },
        {
         "name": "2024 - Valor US$ FOB",
         "rawType": "int64",
         "type": "integer"
        },
        {
         "name": "SH6",
         "rawType": "object",
         "type": "string"
        }
       ],
       "ref": "a3e6fbe6-e0ae-41f7-bc8f-7c4ae859d3d2",
       "rows": [
        [
         "0",
         "27090010",
         "Óleos brutos de petróleo",
         "5830983860",
         "270900"
        ],
        [
         "1",
         "72071200",
         "Outros produtos semimanufaturados de ferro ou aço não ligado, de seção transversal retangular, que contenham, em peso, menos de 0,25 % de carbono",
         "2774470802",
         "720712"
        ]
       ],
       "shape": {
        "columns": 4,
        "rows": 2
       }
      },
      "text/html": [
       "<div>\n",
       "<style scoped>\n",
       "    .dataframe tbody tr th:only-of-type {\n",
       "        vertical-align: middle;\n",
       "    }\n",
       "\n",
       "    .dataframe tbody tr th {\n",
       "        vertical-align: top;\n",
       "    }\n",
       "\n",
       "    .dataframe thead th {\n",
       "        text-align: right;\n",
       "    }\n",
       "</style>\n",
       "<table border=\"1\" class=\"dataframe\">\n",
       "  <thead>\n",
       "    <tr style=\"text-align: right;\">\n",
       "      <th></th>\n",
       "      <th>Código NCM</th>\n",
       "      <th>Descrição NCM</th>\n",
       "      <th>2024 - Valor US$ FOB</th>\n",
       "      <th>SH6</th>\n",
       "    </tr>\n",
       "  </thead>\n",
       "  <tbody>\n",
       "    <tr>\n",
       "      <th>0</th>\n",
       "      <td>27090010</td>\n",
       "      <td>Óleos brutos de petróleo</td>\n",
       "      <td>5830983860</td>\n",
       "      <td>270900</td>\n",
       "    </tr>\n",
       "    <tr>\n",
       "      <th>1</th>\n",
       "      <td>72071200</td>\n",
       "      <td>Outros produtos semimanufaturados de ferro ou ...</td>\n",
       "      <td>2774470802</td>\n",
       "      <td>720712</td>\n",
       "    </tr>\n",
       "  </tbody>\n",
       "</table>\n",
       "</div>"
      ],
      "text/plain": [
       "   Código NCM                                      Descrição NCM  \\\n",
       "0    27090010                           Óleos brutos de petróleo   \n",
       "1    72071200  Outros produtos semimanufaturados de ferro ou ...   \n",
       "\n",
       "   2024 - Valor US$ FOB     SH6  \n",
       "0            5830983860  270900  \n",
       "1            2774470802  720712  "
      ]
     },
     "execution_count": 26,
     "metadata": {},
     "output_type": "execute_result"
    }
   ],
   "source": [
    "exportacoes_usa_2024.head(2)"
   ]
  },
  {
   "cell_type": "code",
   "execution_count": 27,
   "id": "e2a37070",
   "metadata": {},
   "outputs": [],
   "source": [
    "exportacoes_usa_2024 = exportacoes_usa_2024.groupby('SH6')[['2024 - Valor US$ FOB']].sum().reset_index()"
   ]
  },
  {
   "cell_type": "code",
   "execution_count": 28,
   "id": "a9b18619",
   "metadata": {},
   "outputs": [
    {
     "data": {
      "application/vnd.microsoft.datawrangler.viewer.v0+json": {
       "columns": [
        {
         "name": "index",
         "rawType": "int64",
         "type": "integer"
        },
        {
         "name": "SH6",
         "rawType": "object",
         "type": "string"
        },
        {
         "name": "Instrumento",
         "rawType": "object",
         "type": "string"
        },
        {
         "name": "Tarifa",
         "rawType": "float64",
         "type": "float"
        },
        {
         "name": "Vigência",
         "rawType": "object",
         "type": "string"
        },
        {
         "name": "Tarifa Desc",
         "rawType": "object",
         "type": "string"
        },
        {
         "name": "Articles of Civil Aircraft only",
         "rawType": "object",
         "type": "string"
        }
       ],
       "ref": "0bddf84b-58c0-47b3-817b-8738e6238a1e",
       "rows": [
        [
         "0",
         "490110",
         "Ordem 30/07",
         "0.5",
         "Vigente",
         "Tarifa de 10+40%",
         ""
        ],
        [
         "1",
         "490191",
         "Ordem 30/07",
         "0.5",
         "Vigente",
         "Tarifa de 10+40%",
         ""
        ]
       ],
       "shape": {
        "columns": 6,
        "rows": 2
       }
      },
      "text/html": [
       "<div>\n",
       "<style scoped>\n",
       "    .dataframe tbody tr th:only-of-type {\n",
       "        vertical-align: middle;\n",
       "    }\n",
       "\n",
       "    .dataframe tbody tr th {\n",
       "        vertical-align: top;\n",
       "    }\n",
       "\n",
       "    .dataframe thead th {\n",
       "        text-align: right;\n",
       "    }\n",
       "</style>\n",
       "<table border=\"1\" class=\"dataframe\">\n",
       "  <thead>\n",
       "    <tr style=\"text-align: right;\">\n",
       "      <th></th>\n",
       "      <th>SH6</th>\n",
       "      <th>Instrumento</th>\n",
       "      <th>Tarifa</th>\n",
       "      <th>Vigência</th>\n",
       "      <th>Tarifa Desc</th>\n",
       "      <th>Articles of Civil Aircraft only</th>\n",
       "    </tr>\n",
       "  </thead>\n",
       "  <tbody>\n",
       "    <tr>\n",
       "      <th>0</th>\n",
       "      <td>490110</td>\n",
       "      <td>Ordem 30/07</td>\n",
       "      <td>0.5</td>\n",
       "      <td>Vigente</td>\n",
       "      <td>Tarifa de 10+40%</td>\n",
       "      <td></td>\n",
       "    </tr>\n",
       "    <tr>\n",
       "      <th>1</th>\n",
       "      <td>490191</td>\n",
       "      <td>Ordem 30/07</td>\n",
       "      <td>0.5</td>\n",
       "      <td>Vigente</td>\n",
       "      <td>Tarifa de 10+40%</td>\n",
       "      <td></td>\n",
       "    </tr>\n",
       "  </tbody>\n",
       "</table>\n",
       "</div>"
      ],
      "text/plain": [
       "      SH6  Instrumento  Tarifa Vigência       Tarifa Desc  \\\n",
       "0  490110  Ordem 30/07     0.5  Vigente  Tarifa de 10+40%   \n",
       "1  490191  Ordem 30/07     0.5  Vigente  Tarifa de 10+40%   \n",
       "\n",
       "  Articles of Civil Aircraft only  \n",
       "0                                  \n",
       "1                                  "
      ]
     },
     "execution_count": 28,
     "metadata": {},
     "output_type": "execute_result"
    }
   ],
   "source": [
    "ncm_sh6.head(2)"
   ]
  },
  {
   "cell_type": "code",
   "execution_count": 29,
   "id": "bbbd7fb6",
   "metadata": {},
   "outputs": [
    {
     "data": {
      "application/vnd.microsoft.datawrangler.viewer.v0+json": {
       "columns": [
        {
         "name": "index",
         "rawType": "int64",
         "type": "integer"
        },
        {
         "name": "SH6",
         "rawType": "object",
         "type": "string"
        },
        {
         "name": "2024 - Valor US$ FOB",
         "rawType": "float64",
         "type": "float"
        },
        {
         "name": "Instrumento",
         "rawType": "object",
         "type": "string"
        },
        {
         "name": "Tarifa",
         "rawType": "float64",
         "type": "float"
        },
        {
         "name": "Vigência",
         "rawType": "object",
         "type": "string"
        },
        {
         "name": "Tarifa Desc",
         "rawType": "object",
         "type": "string"
        },
        {
         "name": "Articles of Civil Aircraft only",
         "rawType": "object",
         "type": "string"
        },
        {
         "name": "_merge",
         "rawType": "category",
         "type": "unknown"
        }
       ],
       "ref": "33e1ac3a-6d9e-469a-9576-9ec4d0a2dedf",
       "rows": [
        [
         "4",
         "010121",
         "1713599.0",
         "Ordem 30/07",
         "0.5",
         "Vigente",
         "Tarifa de 10+40%",
         "",
         "both"
        ],
        [
         "5",
         "010129",
         "3520510.0",
         "Ordem 30/07",
         "0.5",
         "Vigente",
         "Tarifa de 10+40%",
         "",
         "both"
        ],
        [
         "34",
         "010619",
         "344.0",
         "Ordem 30/07",
         "0.5",
         "Vigente",
         "Tarifa de 10+40%",
         "",
         "both"
        ],
        [
         "35",
         "010620",
         "24711.0",
         "Ordem 30/07",
         "0.5",
         "Vigente",
         "Tarifa de 10+40%",
         "",
         "both"
        ],
        [
         "39",
         "010639",
         "1864.0",
         "Ordem 30/07",
         "0.5",
         "Vigente",
         "Tarifa de 10+40%",
         "",
         "both"
        ],
        [
         "41",
         "010649",
         "14.0",
         "Ordem 30/07",
         "0.5",
         "Vigente",
         "Tarifa de 10+40%",
         "",
         "both"
        ],
        [
         "42",
         "010690",
         "19.0",
         "Ordem 30/07",
         "0.5",
         "Vigente",
         "Tarifa de 10+40%",
         "",
         "both"
        ],
        [
         "43",
         "020110",
         "416.0",
         "Ordem 30/07",
         "0.5",
         "Vigente",
         "Tarifa de 10+40%",
         "",
         "both"
        ],
        [
         "45",
         "020130",
         "59752695.0",
         "Ordem 30/07",
         "0.5",
         "Vigente",
         "Tarifa de 10+40%",
         "",
         "both"
        ],
        [
         "47",
         "020220",
         "4122.0",
         "Ordem 30/07",
         "0.5",
         "Vigente",
         "Tarifa de 10+40%",
         "",
         "both"
        ],
        [
         "48",
         "020230",
         "885026418.0",
         "Ordem 30/07",
         "0.5",
         "Vigente",
         "Tarifa de 10+40%",
         "",
         "both"
        ],
        [
         "49",
         "020311",
         "229.0",
         "Ordem 30/07",
         "0.5",
         "Vigente",
         "Tarifa de 10+40%",
         "",
         "both"
        ],
        [
         "50",
         "020312",
         "13.0",
         "Ordem 30/07",
         "0.5",
         "Vigente",
         "Tarifa de 10+40%",
         "",
         "both"
        ],
        [
         "51",
         "020319",
         "1210.0",
         "Ordem 30/07",
         "0.5",
         "Vigente",
         "Tarifa de 10+40%",
         "",
         "both"
        ],
        [
         "52",
         "020321",
         "414.0",
         "Ordem 30/07",
         "0.5",
         "Vigente",
         "Tarifa de 10+40%",
         "",
         "both"
        ],
        [
         "54",
         "020329",
         "59399773.0",
         "Ordem 30/07",
         "0.5",
         "Vigente",
         "Tarifa de 10+40%",
         "",
         "both"
        ],
        [
         "61",
         "020442",
         "261.0",
         "Ordem 30/07",
         "0.5",
         "Vigente",
         "Tarifa de 10+40%",
         "",
         "both"
        ],
        [
         "62",
         "020443",
         "150.0",
         "Ordem 30/07",
         "0.5",
         "Vigente",
         "Tarifa de 10+40%",
         "",
         "both"
        ],
        [
         "65",
         "020610",
         "90.0",
         "Ordem 30/07",
         "0.5",
         "Vigente",
         "Tarifa de 10+40%",
         "",
         "both"
        ],
        [
         "67",
         "020622",
         "60.0",
         "Ordem 30/07",
         "0.5",
         "Vigente",
         "Tarifa de 10+40%",
         "",
         "both"
        ],
        [
         "68",
         "020629",
         "34360.0",
         "Ordem 30/07",
         "0.5",
         "Vigente",
         "Tarifa de 10+40%",
         "",
         "both"
        ],
        [
         "69",
         "020630",
         "67.0",
         "Ordem 30/07",
         "0.5",
         "Vigente",
         "Tarifa de 10+40%",
         "",
         "both"
        ],
        [
         "74",
         "020711",
         "298.0",
         "Ordem 30/07",
         "0.5",
         "Vigente",
         "Tarifa de 10+40%",
         "",
         "both"
        ],
        [
         "75",
         "020712",
         "713.0",
         "Ordem 30/07",
         "0.5",
         "Vigente",
         "Tarifa de 10+40%",
         "",
         "both"
        ],
        [
         "77",
         "020714",
         "858350.0",
         "Ordem 30/07",
         "0.5",
         "Vigente",
         "Tarifa de 10+40%",
         "",
         "both"
        ],
        [
         "81",
         "020727",
         "133.0",
         "Ordem 30/07",
         "0.5",
         "Vigente",
         "Tarifa de 10+40%",
         "",
         "both"
        ],
        [
         "107",
         "020990",
         "38939.0",
         "Ordem 30/07",
         "0.5",
         "Vigente",
         "Tarifa de 10+40%",
         "",
         "both"
        ],
        [
         "108",
         "021011",
         "141.0",
         "Ordem 30/07",
         "0.5",
         "Vigente",
         "Tarifa de 10+40%",
         "",
         "both"
        ],
        [
         "109",
         "021012",
         "602.0",
         "Ordem 30/07",
         "0.5",
         "Vigente",
         "Tarifa de 10+40%",
         "",
         "both"
        ],
        [
         "110",
         "021019",
         "3412.0",
         "Ordem 30/07",
         "0.5",
         "Vigente",
         "Tarifa de 10+40%",
         "",
         "both"
        ],
        [
         "111",
         "021020",
         "9841946.0",
         "Ordem 30/07",
         "0.5",
         "Vigente",
         "Tarifa de 10+40%",
         "",
         "both"
        ],
        [
         "116",
         "021099",
         "1.0",
         "Ordem 30/07",
         "0.5",
         "Vigente",
         "Tarifa de 10+40%",
         "",
         "both"
        ],
        [
         "118",
         "030111",
         "404573.0",
         "Ordem 30/07",
         "0.5",
         "Vigente",
         "Tarifa de 10+40%",
         "",
         "both"
        ],
        [
         "119",
         "030119",
         "116577.0",
         "Ordem 30/07",
         "0.5",
         "Vigente",
         "Tarifa de 10+40%",
         "",
         "both"
        ],
        [
         "135",
         "030229",
         "124588.0",
         "Ordem 30/07",
         "0.5",
         "Vigente",
         "Tarifa de 10+40%",
         "",
         "both"
        ],
        [
         "137",
         "030232",
         "3770411.0",
         "Ordem 30/07",
         "0.5",
         "Vigente",
         "Tarifa de 10+40%",
         "",
         "both"
        ],
        [
         "139",
         "030234",
         "6766639.0",
         "Ordem 30/07",
         "0.5",
         "Vigente",
         "Tarifa de 10+40%",
         "",
         "both"
        ],
        [
         "142",
         "030239",
         "324885.0",
         "Ordem 30/07",
         "0.5",
         "Vigente",
         "Tarifa de 10+40%",
         "",
         "both"
        ],
        [
         "147",
         "030244",
         "236926.0",
         "Ordem 30/07",
         "0.5",
         "Vigente",
         "Tarifa de 10+40%",
         "",
         "both"
        ],
        [
         "148",
         "030245",
         "111.0",
         "Ordem 30/07",
         "0.5",
         "Vigente",
         "Tarifa de 10+40%",
         "",
         "both"
        ],
        [
         "149",
         "030246",
         "70467.0",
         "Ordem 30/07",
         "0.5",
         "Vigente",
         "Tarifa de 10+40%",
         "",
         "both"
        ],
        [
         "150",
         "030247",
         "8226475.0",
         "Ordem 30/07",
         "0.5",
         "Vigente",
         "Tarifa de 10+40%",
         "",
         "both"
        ],
        [
         "151",
         "030249",
         "16968.0",
         "Ordem 30/07",
         "0.5",
         "Vigente",
         "Tarifa de 10+40%",
         "",
         "both"
        ],
        [
         "159",
         "030259",
         "2319707.0",
         "Ordem 30/07",
         "0.5",
         "Vigente",
         "Tarifa de 10+40%",
         "",
         "both"
        ],
        [
         "170",
         "030271",
         "1142398.0",
         "Ordem 30/07",
         "0.5",
         "Vigente",
         "Tarifa de 10+40%",
         "",
         "both"
        ],
        [
         "172",
         "030273",
         "10135.0",
         "Ordem 30/07",
         "0.5",
         "Vigente",
         "Tarifa de 10+40%",
         "",
         "both"
        ],
        [
         "180",
         "030289",
         "32036353.0",
         "Ordem 30/07",
         "0.5",
         "Vigente",
         "Tarifa de 10+40%",
         "",
         "both"
        ],
        [
         "187",
         "030312",
         "187.0",
         "Ordem 30/07",
         "0.5",
         "Vigente",
         "Tarifa de 10+40%",
         "",
         "both"
        ],
        [
         "193",
         "030323",
         "14282713.0",
         "Ordem 30/07",
         "0.5",
         "Vigente",
         "Tarifa de 10+40%",
         "",
         "both"
        ],
        [
         "197",
         "030329",
         "637519.0",
         "Ordem 30/07",
         "0.5",
         "Vigente",
         "Tarifa de 10+40%",
         "",
         "both"
        ]
       ],
       "shape": {
        "columns": 8,
        "rows": 3201
       }
      },
      "text/html": [
       "<div>\n",
       "<style scoped>\n",
       "    .dataframe tbody tr th:only-of-type {\n",
       "        vertical-align: middle;\n",
       "    }\n",
       "\n",
       "    .dataframe tbody tr th {\n",
       "        vertical-align: top;\n",
       "    }\n",
       "\n",
       "    .dataframe thead th {\n",
       "        text-align: right;\n",
       "    }\n",
       "</style>\n",
       "<table border=\"1\" class=\"dataframe\">\n",
       "  <thead>\n",
       "    <tr style=\"text-align: right;\">\n",
       "      <th></th>\n",
       "      <th>SH6</th>\n",
       "      <th>2024 - Valor US$ FOB</th>\n",
       "      <th>Instrumento</th>\n",
       "      <th>Tarifa</th>\n",
       "      <th>Vigência</th>\n",
       "      <th>Tarifa Desc</th>\n",
       "      <th>Articles of Civil Aircraft only</th>\n",
       "      <th>_merge</th>\n",
       "    </tr>\n",
       "  </thead>\n",
       "  <tbody>\n",
       "    <tr>\n",
       "      <th>4</th>\n",
       "      <td>010121</td>\n",
       "      <td>1713599.0</td>\n",
       "      <td>Ordem 30/07</td>\n",
       "      <td>0.5</td>\n",
       "      <td>Vigente</td>\n",
       "      <td>Tarifa de 10+40%</td>\n",
       "      <td></td>\n",
       "      <td>both</td>\n",
       "    </tr>\n",
       "    <tr>\n",
       "      <th>5</th>\n",
       "      <td>010129</td>\n",
       "      <td>3520510.0</td>\n",
       "      <td>Ordem 30/07</td>\n",
       "      <td>0.5</td>\n",
       "      <td>Vigente</td>\n",
       "      <td>Tarifa de 10+40%</td>\n",
       "      <td></td>\n",
       "      <td>both</td>\n",
       "    </tr>\n",
       "    <tr>\n",
       "      <th>34</th>\n",
       "      <td>010619</td>\n",
       "      <td>344.0</td>\n",
       "      <td>Ordem 30/07</td>\n",
       "      <td>0.5</td>\n",
       "      <td>Vigente</td>\n",
       "      <td>Tarifa de 10+40%</td>\n",
       "      <td></td>\n",
       "      <td>both</td>\n",
       "    </tr>\n",
       "    <tr>\n",
       "      <th>35</th>\n",
       "      <td>010620</td>\n",
       "      <td>24711.0</td>\n",
       "      <td>Ordem 30/07</td>\n",
       "      <td>0.5</td>\n",
       "      <td>Vigente</td>\n",
       "      <td>Tarifa de 10+40%</td>\n",
       "      <td></td>\n",
       "      <td>both</td>\n",
       "    </tr>\n",
       "    <tr>\n",
       "      <th>39</th>\n",
       "      <td>010639</td>\n",
       "      <td>1864.0</td>\n",
       "      <td>Ordem 30/07</td>\n",
       "      <td>0.5</td>\n",
       "      <td>Vigente</td>\n",
       "      <td>Tarifa de 10+40%</td>\n",
       "      <td></td>\n",
       "      <td>both</td>\n",
       "    </tr>\n",
       "    <tr>\n",
       "      <th>...</th>\n",
       "      <td>...</td>\n",
       "      <td>...</td>\n",
       "      <td>...</td>\n",
       "      <td>...</td>\n",
       "      <td>...</td>\n",
       "      <td>...</td>\n",
       "      <td>...</td>\n",
       "      <td>...</td>\n",
       "    </tr>\n",
       "    <tr>\n",
       "      <th>6464</th>\n",
       "      <td>970390</td>\n",
       "      <td>33687145.0</td>\n",
       "      <td>Ordem 30/07</td>\n",
       "      <td>0.5</td>\n",
       "      <td>Vigente</td>\n",
       "      <td>Tarifa de 10+40%</td>\n",
       "      <td></td>\n",
       "      <td>both</td>\n",
       "    </tr>\n",
       "    <tr>\n",
       "      <th>6465</th>\n",
       "      <td>970400</td>\n",
       "      <td>50.0</td>\n",
       "      <td>Ordem 30/07</td>\n",
       "      <td>0.5</td>\n",
       "      <td>Vigente</td>\n",
       "      <td>Tarifa de 10+40%</td>\n",
       "      <td></td>\n",
       "      <td>both</td>\n",
       "    </tr>\n",
       "    <tr>\n",
       "      <th>6467</th>\n",
       "      <td>970510</td>\n",
       "      <td>1962.0</td>\n",
       "      <td>Ordem 30/07</td>\n",
       "      <td>0.5</td>\n",
       "      <td>Vigente</td>\n",
       "      <td>Tarifa de 10+40%</td>\n",
       "      <td></td>\n",
       "      <td>both</td>\n",
       "    </tr>\n",
       "    <tr>\n",
       "      <th>6473</th>\n",
       "      <td>970610</td>\n",
       "      <td>857301.0</td>\n",
       "      <td>Ordem 30/07</td>\n",
       "      <td>0.5</td>\n",
       "      <td>Vigente</td>\n",
       "      <td>Tarifa de 10+40%</td>\n",
       "      <td></td>\n",
       "      <td>both</td>\n",
       "    </tr>\n",
       "    <tr>\n",
       "      <th>6474</th>\n",
       "      <td>970690</td>\n",
       "      <td>325930.0</td>\n",
       "      <td>Ordem 30/07</td>\n",
       "      <td>0.5</td>\n",
       "      <td>Vigente</td>\n",
       "      <td>Tarifa de 10+40%</td>\n",
       "      <td></td>\n",
       "      <td>both</td>\n",
       "    </tr>\n",
       "  </tbody>\n",
       "</table>\n",
       "<p>3201 rows × 8 columns</p>\n",
       "</div>"
      ],
      "text/plain": [
       "         SH6  2024 - Valor US$ FOB  Instrumento  Tarifa Vigência  \\\n",
       "4     010121             1713599.0  Ordem 30/07     0.5  Vigente   \n",
       "5     010129             3520510.0  Ordem 30/07     0.5  Vigente   \n",
       "34    010619                 344.0  Ordem 30/07     0.5  Vigente   \n",
       "35    010620               24711.0  Ordem 30/07     0.5  Vigente   \n",
       "39    010639                1864.0  Ordem 30/07     0.5  Vigente   \n",
       "...      ...                   ...          ...     ...      ...   \n",
       "6464  970390            33687145.0  Ordem 30/07     0.5  Vigente   \n",
       "6465  970400                  50.0  Ordem 30/07     0.5  Vigente   \n",
       "6467  970510                1962.0  Ordem 30/07     0.5  Vigente   \n",
       "6473  970610              857301.0  Ordem 30/07     0.5  Vigente   \n",
       "6474  970690              325930.0  Ordem 30/07     0.5  Vigente   \n",
       "\n",
       "           Tarifa Desc Articles of Civil Aircraft only _merge  \n",
       "4     Tarifa de 10+40%                                   both  \n",
       "5     Tarifa de 10+40%                                   both  \n",
       "34    Tarifa de 10+40%                                   both  \n",
       "35    Tarifa de 10+40%                                   both  \n",
       "39    Tarifa de 10+40%                                   both  \n",
       "...                ...                             ...    ...  \n",
       "6464  Tarifa de 10+40%                                   both  \n",
       "6465  Tarifa de 10+40%                                   both  \n",
       "6467  Tarifa de 10+40%                                   both  \n",
       "6473  Tarifa de 10+40%                                   both  \n",
       "6474  Tarifa de 10+40%                                   both  \n",
       "\n",
       "[3201 rows x 8 columns]"
      ]
     },
     "execution_count": 29,
     "metadata": {},
     "output_type": "execute_result"
    }
   ],
   "source": [
    "##Filtrar todos os NCM's que não iniciam com 0 ou 9 \n",
    "lista=(\"0\",\"9\")\n",
    "exportacoes_usa_2024.merge(ncm_sh6, on='SH6', how='outer',indicator=True).query('_merge == \"both\"')\n"
   ]
  },
  {
   "cell_type": "code",
   "execution_count": 30,
   "id": "2be484ea",
   "metadata": {},
   "outputs": [],
   "source": [
    "ncm = pd.read_csv('./dados/comex/NCM (2).csv',sep=';',dtype={'CO_SH6': str, 'CO_ISIC_CLASSE': str})\n",
    "### Carregar a tabela de mapeamento de ISIC para CNAE do IBGE\n",
    "mapeamento_isic = pd.read_excel('./dados/mapeamento/mapeamento_isic_cnae.xlsx', dtype=str).drop(columns=['Unnamed: 3','Observações'])\n",
    "##### Fazer a primeira tentativa usando códigos ISIC a 3 dígitos\n",
    "mapeamento_isic = mapeamento_isic[mapeamento_isic['código ISIC'].str.len() == 3]\n",
    "mapeamento_isic.tail()\n",
    "#### Eliminar códigos ISIC sem correspondência\n",
    "mapeamento_isic = mapeamento_isic.dropna()\n",
    "mapeamento_isic['CNAE2d'] = mapeamento_isic['código CNAE'].str[0:2]\n",
    "mapeamento_isic['ISIC2d'] = mapeamento_isic['código ISIC'].str[0:2]\n",
    "#### Verificar se há códigos ISIC a dois dígitos que correspondem a mais de uma cnae a dois dígitos\n",
    "mapeamento_isic.groupby('ISIC2d')[['CNAE2d']].nunique().sort_values(by='CNAE2d', ascending=False).head(10)\n",
    "#### Códigos a 2 dígitos ISIC que estão relacionados a mais de um código CNAE a 2 dígitos sempre estão vinculados a dígitos idênticos mais um outro. Nesses casos, se considerará apenas os dois dígitos idênticos, descartando o segundo\n",
    "mapeamento_isic = mapeamento_isic.query('CNAE2d == ISIC2d')\n",
    "### Remover exportações com valor 0 e mapear exportações com código ISIC a 4 dígitos\n",
    "\n",
    "mapeamento_isic['cnae'] = mapeamento_isic['código CNAE'].str.replace('.','', regex=False)\n",
    "#### Verificar as situações em que um ISIC a 3 dígitos é mapeado para mais de uma CNAE\n"
   ]
  },
  {
   "cell_type": "code",
   "execution_count": 41,
   "id": "74f89853",
   "metadata": {},
   "outputs": [
    {
     "data": {
      "application/vnd.microsoft.datawrangler.viewer.v0+json": {
       "columns": [
        {
         "name": "index",
         "rawType": "int64",
         "type": "integer"
        },
        {
         "name": "código ISIC",
         "rawType": "object",
         "type": "string"
        },
        {
         "name": "denominação ISIC",
         "rawType": "object",
         "type": "string"
        },
        {
         "name": "código CNAE",
         "rawType": "object",
         "type": "string"
        },
        {
         "name": "denominação CNAE",
         "rawType": "object",
         "type": "string"
        }
       ],
       "ref": "30b76dbe-bef5-4a8f-ae04-80427f5b94cf",
       "rows": [
        [
         "487",
         "303",
         "Fabricación de aeronaves, naves espaciales y maquinaria conexa",
         "30.4",
         "Fabricação de aeronaves"
        ],
        [
         "488",
         "3030",
         "Fabricación de aeronaves, naves espaciales y maquinaria conexa",
         "30.41-5",
         "Fabricação de aeronaves"
        ],
        [
         "489",
         "3030",
         "Fabricación de aeronaves, naves espaciales y maquinaria conexa",
         "30.42-3",
         "Fabricação de turbinas, motores e outros componentes e peças para aeronaves"
        ]
       ],
       "shape": {
        "columns": 4,
        "rows": 3
       }
      },
      "text/html": [
       "<div>\n",
       "<style scoped>\n",
       "    .dataframe tbody tr th:only-of-type {\n",
       "        vertical-align: middle;\n",
       "    }\n",
       "\n",
       "    .dataframe tbody tr th {\n",
       "        vertical-align: top;\n",
       "    }\n",
       "\n",
       "    .dataframe thead th {\n",
       "        text-align: right;\n",
       "    }\n",
       "</style>\n",
       "<table border=\"1\" class=\"dataframe\">\n",
       "  <thead>\n",
       "    <tr style=\"text-align: right;\">\n",
       "      <th></th>\n",
       "      <th>código ISIC</th>\n",
       "      <th>denominação ISIC</th>\n",
       "      <th>código CNAE</th>\n",
       "      <th>denominação CNAE</th>\n",
       "    </tr>\n",
       "  </thead>\n",
       "  <tbody>\n",
       "    <tr>\n",
       "      <th>487</th>\n",
       "      <td>303</td>\n",
       "      <td>Fabricación de aeronaves, naves espaciales y m...</td>\n",
       "      <td>30.4</td>\n",
       "      <td>Fabricação de aeronaves</td>\n",
       "    </tr>\n",
       "    <tr>\n",
       "      <th>488</th>\n",
       "      <td>3030</td>\n",
       "      <td>Fabricación de aeronaves, naves espaciales y m...</td>\n",
       "      <td>30.41-5</td>\n",
       "      <td>Fabricação de aeronaves</td>\n",
       "    </tr>\n",
       "    <tr>\n",
       "      <th>489</th>\n",
       "      <td>3030</td>\n",
       "      <td>Fabricación de aeronaves, naves espaciales y m...</td>\n",
       "      <td>30.42-3</td>\n",
       "      <td>Fabricação de turbinas, motores e outros compo...</td>\n",
       "    </tr>\n",
       "  </tbody>\n",
       "</table>\n",
       "</div>"
      ],
      "text/plain": [
       "    código ISIC                                   denominação ISIC  \\\n",
       "487         303  Fabricación de aeronaves, naves espaciales y m...   \n",
       "488        3030  Fabricación de aeronaves, naves espaciales y m...   \n",
       "489        3030  Fabricación de aeronaves, naves espaciales y m...   \n",
       "\n",
       "    código CNAE                                   denominação CNAE  \n",
       "487        30.4                            Fabricação de aeronaves  \n",
       "488     30.41-5                            Fabricação de aeronaves  \n",
       "489     30.42-3  Fabricação de turbinas, motores e outros compo...  "
      ]
     },
     "execution_count": 41,
     "metadata": {},
     "output_type": "execute_result"
    }
   ],
   "source": [
    "pd.read_excel('./dados/mapeamento/mapeamento_isic_cnae.xlsx', dtype=str).drop(columns=['Unnamed: 3','Observações']).query('`código ISIC`.str.startswith(\"303\")')\n"
   ]
  },
  {
   "cell_type": "code",
   "execution_count": 32,
   "id": "8a4ae345",
   "metadata": {},
   "outputs": [
    {
     "data": {
      "application/vnd.microsoft.datawrangler.viewer.v0+json": {
       "columns": [
        {
         "name": "index",
         "rawType": "int64",
         "type": "integer"
        },
        {
         "name": "CO_ISIC_CLASSE",
         "rawType": "object",
         "type": "string"
        },
        {
         "name": "NO_ISIC_CLASSE",
         "rawType": "object",
         "type": "string"
        },
        {
         "name": "NO_ISIC_CLASSE_ING",
         "rawType": "object",
         "type": "string"
        },
        {
         "name": "NO_ISIC_CLASSE_ESP",
         "rawType": "object",
         "type": "string"
        },
        {
         "name": "CO_ISIC_GRUPO",
         "rawType": "int64",
         "type": "integer"
        },
        {
         "name": "NO_ISIC_GRUPO",
         "rawType": "object",
         "type": "string"
        },
        {
         "name": "NO_ISIC_GRUPO_ING",
         "rawType": "object",
         "type": "string"
        },
        {
         "name": "NO_ISIC_GRUPO_ESP",
         "rawType": "object",
         "type": "string"
        },
        {
         "name": "CO_ISIC_DIVISAO",
         "rawType": "int64",
         "type": "integer"
        },
        {
         "name": "NO_ISIC_DIVISAO",
         "rawType": "object",
         "type": "string"
        },
        {
         "name": "NO_ISIC_DIVISAO_ING",
         "rawType": "object",
         "type": "string"
        },
        {
         "name": "NO_ISIC_DIVISAO_ESP",
         "rawType": "object",
         "type": "string"
        },
        {
         "name": "CO_ISIC_SECAO",
         "rawType": "object",
         "type": "string"
        },
        {
         "name": "NO_ISIC_SECAO",
         "rawType": "object",
         "type": "string"
        },
        {
         "name": "NO_ISIC_SECAO_ING",
         "rawType": "object",
         "type": "string"
        },
        {
         "name": "NO_ISIC_SECAO_ESP",
         "rawType": "object",
         "type": "string"
        }
       ],
       "ref": "6dad56b3-04a0-4ea2-9789-8f5008ac2ab6",
       "rows": [],
       "shape": {
        "columns": 16,
        "rows": 0
       }
      },
      "text/html": [
       "<div>\n",
       "<style scoped>\n",
       "    .dataframe tbody tr th:only-of-type {\n",
       "        vertical-align: middle;\n",
       "    }\n",
       "\n",
       "    .dataframe tbody tr th {\n",
       "        vertical-align: top;\n",
       "    }\n",
       "\n",
       "    .dataframe thead th {\n",
       "        text-align: right;\n",
       "    }\n",
       "</style>\n",
       "<table border=\"1\" class=\"dataframe\">\n",
       "  <thead>\n",
       "    <tr style=\"text-align: right;\">\n",
       "      <th></th>\n",
       "      <th>CO_ISIC_CLASSE</th>\n",
       "      <th>NO_ISIC_CLASSE</th>\n",
       "      <th>NO_ISIC_CLASSE_ING</th>\n",
       "      <th>NO_ISIC_CLASSE_ESP</th>\n",
       "      <th>CO_ISIC_GRUPO</th>\n",
       "      <th>NO_ISIC_GRUPO</th>\n",
       "      <th>NO_ISIC_GRUPO_ING</th>\n",
       "      <th>NO_ISIC_GRUPO_ESP</th>\n",
       "      <th>CO_ISIC_DIVISAO</th>\n",
       "      <th>NO_ISIC_DIVISAO</th>\n",
       "      <th>NO_ISIC_DIVISAO_ING</th>\n",
       "      <th>NO_ISIC_DIVISAO_ESP</th>\n",
       "      <th>CO_ISIC_SECAO</th>\n",
       "      <th>NO_ISIC_SECAO</th>\n",
       "      <th>NO_ISIC_SECAO_ING</th>\n",
       "      <th>NO_ISIC_SECAO_ESP</th>\n",
       "    </tr>\n",
       "  </thead>\n",
       "  <tbody>\n",
       "  </tbody>\n",
       "</table>\n",
       "</div>"
      ],
      "text/plain": [
       "Empty DataFrame\n",
       "Columns: [CO_ISIC_CLASSE, NO_ISIC_CLASSE, NO_ISIC_CLASSE_ING, NO_ISIC_CLASSE_ESP, CO_ISIC_GRUPO, NO_ISIC_GRUPO, NO_ISIC_GRUPO_ING, NO_ISIC_GRUPO_ESP, CO_ISIC_DIVISAO, NO_ISIC_DIVISAO, NO_ISIC_DIVISAO_ING, NO_ISIC_DIVISAO_ESP, CO_ISIC_SECAO, NO_ISIC_SECAO, NO_ISIC_SECAO_ING, NO_ISIC_SECAO_ESP]\n",
       "Index: []"
      ]
     },
     "execution_count": 32,
     "metadata": {},
     "output_type": "execute_result"
    }
   ],
   "source": [
    "ncm_isic = pd.read_csv('./dados/comex/NCM_ISIC (1).csv',sep=';',dtype={'CO_ISIC_CLASSE': str, 'NO_ISIC_CLASSE': str}    )\n",
    "ncm_isic.query('CO_ISIC_CLASSE == \"899\"', engine='python')"
   ]
  },
  {
   "cell_type": "code",
   "execution_count": 33,
   "id": "ef522e6e",
   "metadata": {},
   "outputs": [
    {
     "data": {
      "application/vnd.microsoft.datawrangler.viewer.v0+json": {
       "columns": [
        {
         "name": "index",
         "rawType": "int64",
         "type": "integer"
        },
        {
         "name": "CO_NCM",
         "rawType": "int64",
         "type": "integer"
        },
        {
         "name": "CO_UNID",
         "rawType": "int64",
         "type": "integer"
        },
        {
         "name": "CO_SH6",
         "rawType": "object",
         "type": "string"
        },
        {
         "name": "CO_PPE",
         "rawType": "float64",
         "type": "float"
        },
        {
         "name": "CO_PPI",
         "rawType": "float64",
         "type": "float"
        },
        {
         "name": "CO_FAT_AGREG",
         "rawType": "float64",
         "type": "float"
        },
        {
         "name": "CO_CUCI_ITEM",
         "rawType": "object",
         "type": "string"
        },
        {
         "name": "CO_CGCE_N3",
         "rawType": "int64",
         "type": "integer"
        },
        {
         "name": "CO_SIIT",
         "rawType": "float64",
         "type": "float"
        },
        {
         "name": "CO_ISIC_CLASSE",
         "rawType": "object",
         "type": "string"
        },
        {
         "name": "CO_EXP_SUBSET",
         "rawType": "float64",
         "type": "float"
        },
        {
         "name": "NO_NCM_POR",
         "rawType": "object",
         "type": "string"
        },
        {
         "name": "NO_NCM_ESP",
         "rawType": "object",
         "type": "string"
        },
        {
         "name": "NO_NCM_ING",
         "rawType": "object",
         "type": "string"
        }
       ],
       "ref": "7fde1fef-af2e-4603-8157-0bd63b0dff57",
       "rows": [
        [
         "44",
         "55051000",
         "10",
         "550510",
         "3075.0",
         "3075.0",
         "3.0",
         "26721",
         "230",
         "4000.0",
         "8999",
         "1601.0",
         "Desperdícios de fibras sintéticas (incluindo os desperdícios da penteação, os de fios e os fiapos)",
         "Desperdicios de fibras sintéticas",
         "Waste of synthetic fibres"
        ],
        [
         "45",
         "55052000",
         "10",
         "550520",
         "3075.0",
         "3075.0",
         "3.0",
         "26722",
         "230",
         "4000.0",
         "8999",
         "1601.0",
         "Desperdícios de fibras artificiais (incluindo os desperdícios da penteação, os de fios e os fiapos)",
         "Desperdicios de fibras artificiales",
         "Waste of articificial fibres"
        ]
       ],
       "shape": {
        "columns": 14,
        "rows": 2
       }
      },
      "text/html": [
       "<div>\n",
       "<style scoped>\n",
       "    .dataframe tbody tr th:only-of-type {\n",
       "        vertical-align: middle;\n",
       "    }\n",
       "\n",
       "    .dataframe tbody tr th {\n",
       "        vertical-align: top;\n",
       "    }\n",
       "\n",
       "    .dataframe thead th {\n",
       "        text-align: right;\n",
       "    }\n",
       "</style>\n",
       "<table border=\"1\" class=\"dataframe\">\n",
       "  <thead>\n",
       "    <tr style=\"text-align: right;\">\n",
       "      <th></th>\n",
       "      <th>CO_NCM</th>\n",
       "      <th>CO_UNID</th>\n",
       "      <th>CO_SH6</th>\n",
       "      <th>CO_PPE</th>\n",
       "      <th>CO_PPI</th>\n",
       "      <th>CO_FAT_AGREG</th>\n",
       "      <th>CO_CUCI_ITEM</th>\n",
       "      <th>CO_CGCE_N3</th>\n",
       "      <th>CO_SIIT</th>\n",
       "      <th>CO_ISIC_CLASSE</th>\n",
       "      <th>CO_EXP_SUBSET</th>\n",
       "      <th>NO_NCM_POR</th>\n",
       "      <th>NO_NCM_ESP</th>\n",
       "      <th>NO_NCM_ING</th>\n",
       "    </tr>\n",
       "  </thead>\n",
       "  <tbody>\n",
       "    <tr>\n",
       "      <th>44</th>\n",
       "      <td>55051000</td>\n",
       "      <td>10</td>\n",
       "      <td>550510</td>\n",
       "      <td>3075.0</td>\n",
       "      <td>3075.0</td>\n",
       "      <td>3.0</td>\n",
       "      <td>26721</td>\n",
       "      <td>230</td>\n",
       "      <td>4000.0</td>\n",
       "      <td>8999</td>\n",
       "      <td>1601.0</td>\n",
       "      <td>Desperdícios de fibras sintéticas (incluindo o...</td>\n",
       "      <td>Desperdicios de fibras sintéticas</td>\n",
       "      <td>Waste of synthetic fibres</td>\n",
       "    </tr>\n",
       "    <tr>\n",
       "      <th>45</th>\n",
       "      <td>55052000</td>\n",
       "      <td>10</td>\n",
       "      <td>550520</td>\n",
       "      <td>3075.0</td>\n",
       "      <td>3075.0</td>\n",
       "      <td>3.0</td>\n",
       "      <td>26722</td>\n",
       "      <td>230</td>\n",
       "      <td>4000.0</td>\n",
       "      <td>8999</td>\n",
       "      <td>1601.0</td>\n",
       "      <td>Desperdícios de fibras artificiais (incluindo ...</td>\n",
       "      <td>Desperdicios de fibras artificiales</td>\n",
       "      <td>Waste of articificial fibres</td>\n",
       "    </tr>\n",
       "  </tbody>\n",
       "</table>\n",
       "</div>"
      ],
      "text/plain": [
       "      CO_NCM  CO_UNID  CO_SH6  CO_PPE  CO_PPI  CO_FAT_AGREG CO_CUCI_ITEM  \\\n",
       "44  55051000       10  550510  3075.0  3075.0           3.0        26721   \n",
       "45  55052000       10  550520  3075.0  3075.0           3.0        26722   \n",
       "\n",
       "    CO_CGCE_N3  CO_SIIT CO_ISIC_CLASSE  CO_EXP_SUBSET  \\\n",
       "44         230   4000.0           8999         1601.0   \n",
       "45         230   4000.0           8999         1601.0   \n",
       "\n",
       "                                           NO_NCM_POR  \\\n",
       "44  Desperdícios de fibras sintéticas (incluindo o...   \n",
       "45  Desperdícios de fibras artificiais (incluindo ...   \n",
       "\n",
       "                             NO_NCM_ESP                    NO_NCM_ING  \n",
       "44    Desperdicios de fibras sintéticas     Waste of synthetic fibres  \n",
       "45  Desperdicios de fibras artificiales  Waste of articificial fibres  "
      ]
     },
     "execution_count": 33,
     "metadata": {},
     "output_type": "execute_result"
    }
   ],
   "source": [
    "ncm.query('CO_ISIC_CLASSE.str.startswith(\"899\")').head(2)"
   ]
  },
  {
   "cell_type": "code",
   "execution_count": 34,
   "id": "00cb789c",
   "metadata": {},
   "outputs": [
    {
     "data": {
      "application/vnd.microsoft.datawrangler.viewer.v0+json": {
       "columns": [
        {
         "name": "index",
         "rawType": "int64",
         "type": "integer"
        },
        {
         "name": "CO_SH6",
         "rawType": "object",
         "type": "string"
        },
        {
         "name": "CO_ISIC_CLASSE3d",
         "rawType": "int64",
         "type": "integer"
        }
       ],
       "ref": "e45e34ae-7eec-4caf-b86b-b67cd1adc3bf",
       "rows": [
        [
         "6616",
         "999999",
         "1"
        ],
        [
         "0",
         "010110",
         "1"
        ],
        [
         "1",
         "010111",
         "1"
        ],
        [
         "2",
         "010119",
         "1"
        ],
        [
         "3",
         "010120",
         "1"
        ],
        [
         "4",
         "010121",
         "1"
        ],
        [
         "5",
         "010129",
         "1"
        ],
        [
         "6",
         "010130",
         "1"
        ],
        [
         "7",
         "010190",
         "1"
        ],
        [
         "6600",
         "970529",
         "1"
        ]
       ],
       "shape": {
        "columns": 2,
        "rows": 10
       }
      },
      "text/html": [
       "<div>\n",
       "<style scoped>\n",
       "    .dataframe tbody tr th:only-of-type {\n",
       "        vertical-align: middle;\n",
       "    }\n",
       "\n",
       "    .dataframe tbody tr th {\n",
       "        vertical-align: top;\n",
       "    }\n",
       "\n",
       "    .dataframe thead th {\n",
       "        text-align: right;\n",
       "    }\n",
       "</style>\n",
       "<table border=\"1\" class=\"dataframe\">\n",
       "  <thead>\n",
       "    <tr style=\"text-align: right;\">\n",
       "      <th></th>\n",
       "      <th>CO_SH6</th>\n",
       "      <th>CO_ISIC_CLASSE3d</th>\n",
       "    </tr>\n",
       "  </thead>\n",
       "  <tbody>\n",
       "    <tr>\n",
       "      <th>6616</th>\n",
       "      <td>999999</td>\n",
       "      <td>1</td>\n",
       "    </tr>\n",
       "    <tr>\n",
       "      <th>0</th>\n",
       "      <td>010110</td>\n",
       "      <td>1</td>\n",
       "    </tr>\n",
       "    <tr>\n",
       "      <th>1</th>\n",
       "      <td>010111</td>\n",
       "      <td>1</td>\n",
       "    </tr>\n",
       "    <tr>\n",
       "      <th>2</th>\n",
       "      <td>010119</td>\n",
       "      <td>1</td>\n",
       "    </tr>\n",
       "    <tr>\n",
       "      <th>3</th>\n",
       "      <td>010120</td>\n",
       "      <td>1</td>\n",
       "    </tr>\n",
       "    <tr>\n",
       "      <th>4</th>\n",
       "      <td>010121</td>\n",
       "      <td>1</td>\n",
       "    </tr>\n",
       "    <tr>\n",
       "      <th>5</th>\n",
       "      <td>010129</td>\n",
       "      <td>1</td>\n",
       "    </tr>\n",
       "    <tr>\n",
       "      <th>6</th>\n",
       "      <td>010130</td>\n",
       "      <td>1</td>\n",
       "    </tr>\n",
       "    <tr>\n",
       "      <th>7</th>\n",
       "      <td>010190</td>\n",
       "      <td>1</td>\n",
       "    </tr>\n",
       "    <tr>\n",
       "      <th>6600</th>\n",
       "      <td>970529</td>\n",
       "      <td>1</td>\n",
       "    </tr>\n",
       "  </tbody>\n",
       "</table>\n",
       "</div>"
      ],
      "text/plain": [
       "      CO_SH6  CO_ISIC_CLASSE3d\n",
       "6616  999999                 1\n",
       "0     010110                 1\n",
       "1     010111                 1\n",
       "2     010119                 1\n",
       "3     010120                 1\n",
       "4     010121                 1\n",
       "5     010129                 1\n",
       "6     010130                 1\n",
       "7     010190                 1\n",
       "6600  970529                 1"
      ]
     },
     "execution_count": 34,
     "metadata": {},
     "output_type": "execute_result"
    }
   ],
   "source": [
    "ncm['CO_ISIC_CLASSE3d'] = ncm['CO_ISIC_CLASSE'].str[0:3]\n",
    "ncm[['CO_SH6','CO_ISIC_CLASSE3d']].drop_duplicates().groupby('CO_SH6')[['CO_ISIC_CLASSE3d']].nunique().reset_index().sort_values(by='CO_ISIC_CLASSE3d', ascending=False).head(10)"
   ]
  },
  {
   "cell_type": "code",
   "execution_count": 35,
   "id": "47728b37",
   "metadata": {},
   "outputs": [],
   "source": [
    "mapeamento_isic_ncm = mapeamento_isic.merge(ncm[['CO_ISIC_CLASSE3d','CO_SH6']].drop_duplicates(), left_on='código ISIC', right_on='CO_ISIC_CLASSE3d', how='inner')"
   ]
  },
  {
   "cell_type": "code",
   "execution_count": 36,
   "id": "598418f5",
   "metadata": {},
   "outputs": [
    {
     "data": {
      "text/plain": [
       "(14482, 9)"
      ]
     },
     "execution_count": 36,
     "metadata": {},
     "output_type": "execute_result"
    }
   ],
   "source": [
    "mapeamento_isic_ncm.query('CNAE2d == ISIC2d').shape"
   ]
  },
  {
   "cell_type": "code",
   "execution_count": 37,
   "id": "c14d35a9",
   "metadata": {},
   "outputs": [
    {
     "data": {
      "text/plain": [
       "(14482, 9)"
      ]
     },
     "execution_count": 37,
     "metadata": {},
     "output_type": "execute_result"
    }
   ],
   "source": [
    "mapeamento_isic_ncm.shape"
   ]
  },
  {
   "cell_type": "code",
   "execution_count": 42,
   "id": "821a8655",
   "metadata": {},
   "outputs": [
    {
     "data": {
      "application/vnd.microsoft.datawrangler.viewer.v0+json": {
       "columns": [
        {
         "name": "index",
         "rawType": "int64",
         "type": "integer"
        },
        {
         "name": "código ISIC",
         "rawType": "object",
         "type": "string"
        },
        {
         "name": "denominação ISIC",
         "rawType": "object",
         "type": "string"
        },
        {
         "name": "código CNAE",
         "rawType": "object",
         "type": "string"
        },
        {
         "name": "denominação CNAE",
         "rawType": "object",
         "type": "string"
        },
        {
         "name": "CNAE2d",
         "rawType": "object",
         "type": "string"
        },
        {
         "name": "ISIC2d",
         "rawType": "object",
         "type": "string"
        },
        {
         "name": "cnae",
         "rawType": "object",
         "type": "string"
        },
        {
         "name": "CO_ISIC_CLASSE3d",
         "rawType": "object",
         "type": "string"
        },
        {
         "name": "CO_SH6",
         "rawType": "object",
         "type": "string"
        }
       ],
       "ref": "2e3ccabd-16e0-4723-8cc1-d0fa44b5081d",
       "rows": [
        [
         "0",
         "011",
         "Cultivo de plantas no perenes",
         "01.1",
         "Produção de lavouras temporárias",
         "01",
         "01",
         "011",
         "011",
         "520100"
        ],
        [
         "1",
         "011",
         "Cultivo de plantas no perenes",
         "01.1",
         "Produção de lavouras temporárias",
         "01",
         "01",
         "011",
         "011",
         "070956"
        ]
       ],
       "shape": {
        "columns": 9,
        "rows": 2
       }
      },
      "text/html": [
       "<div>\n",
       "<style scoped>\n",
       "    .dataframe tbody tr th:only-of-type {\n",
       "        vertical-align: middle;\n",
       "    }\n",
       "\n",
       "    .dataframe tbody tr th {\n",
       "        vertical-align: top;\n",
       "    }\n",
       "\n",
       "    .dataframe thead th {\n",
       "        text-align: right;\n",
       "    }\n",
       "</style>\n",
       "<table border=\"1\" class=\"dataframe\">\n",
       "  <thead>\n",
       "    <tr style=\"text-align: right;\">\n",
       "      <th></th>\n",
       "      <th>código ISIC</th>\n",
       "      <th>denominação ISIC</th>\n",
       "      <th>código CNAE</th>\n",
       "      <th>denominação CNAE</th>\n",
       "      <th>CNAE2d</th>\n",
       "      <th>ISIC2d</th>\n",
       "      <th>cnae</th>\n",
       "      <th>CO_ISIC_CLASSE3d</th>\n",
       "      <th>CO_SH6</th>\n",
       "    </tr>\n",
       "  </thead>\n",
       "  <tbody>\n",
       "    <tr>\n",
       "      <th>0</th>\n",
       "      <td>011</td>\n",
       "      <td>Cultivo de plantas no perenes</td>\n",
       "      <td>01.1</td>\n",
       "      <td>Produção de lavouras temporárias</td>\n",
       "      <td>01</td>\n",
       "      <td>01</td>\n",
       "      <td>011</td>\n",
       "      <td>011</td>\n",
       "      <td>520100</td>\n",
       "    </tr>\n",
       "    <tr>\n",
       "      <th>1</th>\n",
       "      <td>011</td>\n",
       "      <td>Cultivo de plantas no perenes</td>\n",
       "      <td>01.1</td>\n",
       "      <td>Produção de lavouras temporárias</td>\n",
       "      <td>01</td>\n",
       "      <td>01</td>\n",
       "      <td>011</td>\n",
       "      <td>011</td>\n",
       "      <td>070956</td>\n",
       "    </tr>\n",
       "  </tbody>\n",
       "</table>\n",
       "</div>"
      ],
      "text/plain": [
       "  código ISIC               denominação ISIC código CNAE  \\\n",
       "0         011  Cultivo de plantas no perenes        01.1   \n",
       "1         011  Cultivo de plantas no perenes        01.1   \n",
       "\n",
       "                   denominação CNAE CNAE2d ISIC2d cnae CO_ISIC_CLASSE3d  \\\n",
       "0  Produção de lavouras temporárias     01     01  011              011   \n",
       "1  Produção de lavouras temporárias     01     01  011              011   \n",
       "\n",
       "   CO_SH6  \n",
       "0  520100  \n",
       "1  070956  "
      ]
     },
     "execution_count": 42,
     "metadata": {},
     "output_type": "execute_result"
    }
   ],
   "source": [
    "mapeamento_isic_ncm.head(2)"
   ]
  },
  {
   "cell_type": "code",
   "execution_count": 43,
   "id": "a4557f2f",
   "metadata": {},
   "outputs": [],
   "source": [
    "lista_isic_unica_cnae = mapeamento_isic_ncm.groupby('código ISIC')[['cnae']].nunique().query('cnae == 1').reset_index()['código ISIC'].tolist()"
   ]
  },
  {
   "cell_type": "code",
   "execution_count": 44,
   "id": "e5c9b25d",
   "metadata": {},
   "outputs": [],
   "source": [
    "mapeamento_isic3d = pd.read_excel('./dados/mapeamento/mapeamento_isic_cnae.xlsx', dtype=str).drop(columns=['Unnamed: 3','Observações'])\n",
    "mapeamento_isic3d['código ISIC'] = mapeamento_isic3d['código ISIC'].str.replace('.','', regex=False)\n",
    "mapeamento_isic3d['código CNAE'] = mapeamento_isic3d['código CNAE'].str.replace('.','', regex=False)\n",
    "\n",
    "mapeamento_isic3d = mapeamento_isic3d[mapeamento_isic3d['código ISIC'].str.len() == 3]"
   ]
  },
  {
   "cell_type": "code",
   "execution_count": 45,
   "id": "e23277d5",
   "metadata": {},
   "outputs": [
    {
     "data": {
      "application/vnd.microsoft.datawrangler.viewer.v0+json": {
       "columns": [
        {
         "name": "index",
         "rawType": "int64",
         "type": "integer"
        },
        {
         "name": "código CNAE",
         "rawType": "object",
         "type": "string"
        },
        {
         "name": "código ISIC",
         "rawType": "int64",
         "type": "integer"
        }
       ],
       "ref": "0c08869e-c8a9-4ac5-86dd-8072da3afbca",
       "rows": [
        [
         "19",
         "154",
         "3"
        ],
        [
         "6",
         "060",
         "2"
        ],
        [
         "16",
         "106",
         "2"
        ],
        [
         "17",
         "141",
         "2"
        ],
        [
         "5",
         "050",
         "2"
        ],
        [
         "0",
         "014",
         "1"
        ],
        [
         "1",
         "015",
         "1"
        ],
        [
         "2",
         "017",
         "1"
        ],
        [
         "7",
         "071",
         "1"
        ],
        [
         "4",
         "032",
         "1"
        ],
        [
         "8",
         "072",
         "1"
        ],
        [
         "10",
         "089",
         "1"
        ],
        [
         "9",
         "081",
         "1"
        ],
        [
         "11",
         "101",
         "1"
        ],
        [
         "12",
         "102",
         "1"
        ],
        [
         "14",
         "104",
         "1"
        ],
        [
         "13",
         "103",
         "1"
        ],
        [
         "15",
         "105",
         "1"
        ],
        [
         "3",
         "031",
         "1"
        ],
        [
         "18",
         "142",
         "1"
        ],
        [
         "20",
         "161",
         "1"
        ],
        [
         "21",
         "162",
         "1"
        ],
        [
         "22",
         "191",
         "1"
        ],
        [
         "23",
         "192",
         "1"
        ],
        [
         "24",
         "202",
         "1"
        ],
        [
         "25",
         "204",
         "1"
        ],
        [
         "26",
         "221",
         "1"
        ],
        [
         "27",
         "222",
         "1"
        ],
        [
         "28",
         "231",
         "1"
        ],
        [
         "29",
         "244",
         "1"
        ],
        [
         "30",
         "245",
         "1"
        ],
        [
         "31",
         "255",
         "1"
        ],
        [
         "32",
         "261",
         "1"
        ],
        [
         "33",
         "262",
         "1"
        ],
        [
         "34",
         "263",
         "1"
        ],
        [
         "35",
         "264",
         "1"
        ],
        [
         "36",
         "265",
         "1"
        ],
        [
         "37",
         "266",
         "1"
        ],
        [
         "38",
         "267",
         "1"
        ],
        [
         "39",
         "268",
         "1"
        ],
        [
         "40",
         "272",
         "1"
        ],
        [
         "41",
         "273",
         "1"
        ],
        [
         "42",
         "274",
         "1"
        ],
        [
         "43",
         "275",
         "1"
        ],
        [
         "44",
         "279",
         "1"
        ],
        [
         "45",
         "293",
         "1"
        ],
        [
         "46",
         "294",
         "1"
        ],
        [
         "47",
         "301",
         "1"
        ],
        [
         "48",
         "303",
         "1"
        ],
        [
         "49",
         "304",
         "1"
        ]
       ],
       "shape": {
        "columns": 2,
        "rows": 67
       }
      },
      "text/html": [
       "<div>\n",
       "<style scoped>\n",
       "    .dataframe tbody tr th:only-of-type {\n",
       "        vertical-align: middle;\n",
       "    }\n",
       "\n",
       "    .dataframe tbody tr th {\n",
       "        vertical-align: top;\n",
       "    }\n",
       "\n",
       "    .dataframe thead th {\n",
       "        text-align: right;\n",
       "    }\n",
       "</style>\n",
       "<table border=\"1\" class=\"dataframe\">\n",
       "  <thead>\n",
       "    <tr style=\"text-align: right;\">\n",
       "      <th></th>\n",
       "      <th>código CNAE</th>\n",
       "      <th>código ISIC</th>\n",
       "    </tr>\n",
       "  </thead>\n",
       "  <tbody>\n",
       "    <tr>\n",
       "      <th>19</th>\n",
       "      <td>154</td>\n",
       "      <td>3</td>\n",
       "    </tr>\n",
       "    <tr>\n",
       "      <th>6</th>\n",
       "      <td>060</td>\n",
       "      <td>2</td>\n",
       "    </tr>\n",
       "    <tr>\n",
       "      <th>16</th>\n",
       "      <td>106</td>\n",
       "      <td>2</td>\n",
       "    </tr>\n",
       "    <tr>\n",
       "      <th>17</th>\n",
       "      <td>141</td>\n",
       "      <td>2</td>\n",
       "    </tr>\n",
       "    <tr>\n",
       "      <th>5</th>\n",
       "      <td>050</td>\n",
       "      <td>2</td>\n",
       "    </tr>\n",
       "    <tr>\n",
       "      <th>...</th>\n",
       "      <td>...</td>\n",
       "      <td>...</td>\n",
       "    </tr>\n",
       "    <tr>\n",
       "      <th>62</th>\n",
       "      <td>531</td>\n",
       "      <td>1</td>\n",
       "    </tr>\n",
       "    <tr>\n",
       "      <th>63</th>\n",
       "      <td>591</td>\n",
       "      <td>1</td>\n",
       "    </tr>\n",
       "    <tr>\n",
       "      <th>64</th>\n",
       "      <td>742</td>\n",
       "      <td>1</td>\n",
       "    </tr>\n",
       "    <tr>\n",
       "      <th>65</th>\n",
       "      <td>900</td>\n",
       "      <td>1</td>\n",
       "    </tr>\n",
       "    <tr>\n",
       "      <th>66</th>\n",
       "      <td>910</td>\n",
       "      <td>1</td>\n",
       "    </tr>\n",
       "  </tbody>\n",
       "</table>\n",
       "<p>67 rows × 2 columns</p>\n",
       "</div>"
      ],
      "text/plain": [
       "   código CNAE  código ISIC\n",
       "19         154            3\n",
       "6          060            2\n",
       "16         106            2\n",
       "17         141            2\n",
       "5          050            2\n",
       "..         ...          ...\n",
       "62         531            1\n",
       "63         591            1\n",
       "64         742            1\n",
       "65         900            1\n",
       "66         910            1\n",
       "\n",
       "[67 rows x 2 columns]"
      ]
     },
     "execution_count": 45,
     "metadata": {},
     "output_type": "execute_result"
    }
   ],
   "source": [
    "mapeamento_isic3d.query('`código ISIC` in @lista_isic_unica_cnae', engine='python').groupby('código CNAE')[['código ISIC']].nunique().reset_index().sort_values(by='código ISIC', ascending=False)"
   ]
  },
  {
   "cell_type": "code",
   "execution_count": 46,
   "id": "d70441d6",
   "metadata": {},
   "outputs": [],
   "source": [
    "#Para valores não existentes em lista_isic_unica_cnae, considerar o cnae a 2 dígitos\n",
    "mapeamento_isic_ncm['cnae'] = mapeamento_isic_ncm['cnae'].str[0:2].where(~mapeamento_isic_ncm['código ISIC'].isin(lista_isic_unica_cnae), mapeamento_isic_ncm['cnae'])"
   ]
  },
  {
   "cell_type": "code",
   "execution_count": 47,
   "id": "6ff57ab4",
   "metadata": {},
   "outputs": [],
   "source": [
    "mapeamento_isic = pd.read_excel('./dados/mapeamento/mapeamento_isic_cnae.xlsx', dtype=str).drop(columns=['Unnamed: 3','Observações'])\n",
    "mapeamento_isic['código ISIC'] = mapeamento_isic['código ISIC'].str.replace('.','', regex=False)\n",
    "mapeamento_isic['código CNAE'] = mapeamento_isic['código CNAE'].str.replace('.','', regex=False)\n",
    "\n",
    "mapeamento_isic = mapeamento_isic[mapeamento_isic['código ISIC'].str.len() == 2]"
   ]
  },
  {
   "cell_type": "code",
   "execution_count": 48,
   "id": "5fce517a",
   "metadata": {},
   "outputs": [],
   "source": [
    "mapeamento_isic = mapeamento_isic[['código CNAE','denominação CNAE']]\n",
    "mapeamento_isic['denominação CNAE'] = mapeamento_isic['denominação CNAE'].str.capitalize()\n"
   ]
  },
  {
   "cell_type": "code",
   "execution_count": 49,
   "id": "79976309",
   "metadata": {},
   "outputs": [
    {
     "data": {
      "application/vnd.microsoft.datawrangler.viewer.v0+json": {
       "columns": [
        {
         "name": "index",
         "rawType": "int64",
         "type": "integer"
        },
        {
         "name": "código CNAE",
         "rawType": "object",
         "type": "string"
        },
        {
         "name": "denominação CNAE",
         "rawType": "object",
         "type": "string"
        }
       ],
       "ref": "6400eabe-22c2-4993-87a3-f531a5408283",
       "rows": [
        [
         "1",
         "01",
         "Agricultura, pecuária e serviços relacionados"
        ],
        [
         "68",
         "02",
         "Produção florestal"
        ]
       ],
       "shape": {
        "columns": 2,
        "rows": 2
       }
      },
      "text/html": [
       "<div>\n",
       "<style scoped>\n",
       "    .dataframe tbody tr th:only-of-type {\n",
       "        vertical-align: middle;\n",
       "    }\n",
       "\n",
       "    .dataframe tbody tr th {\n",
       "        vertical-align: top;\n",
       "    }\n",
       "\n",
       "    .dataframe thead th {\n",
       "        text-align: right;\n",
       "    }\n",
       "</style>\n",
       "<table border=\"1\" class=\"dataframe\">\n",
       "  <thead>\n",
       "    <tr style=\"text-align: right;\">\n",
       "      <th></th>\n",
       "      <th>código CNAE</th>\n",
       "      <th>denominação CNAE</th>\n",
       "    </tr>\n",
       "  </thead>\n",
       "  <tbody>\n",
       "    <tr>\n",
       "      <th>1</th>\n",
       "      <td>01</td>\n",
       "      <td>Agricultura, pecuária e serviços relacionados</td>\n",
       "    </tr>\n",
       "    <tr>\n",
       "      <th>68</th>\n",
       "      <td>02</td>\n",
       "      <td>Produção florestal</td>\n",
       "    </tr>\n",
       "  </tbody>\n",
       "</table>\n",
       "</div>"
      ],
      "text/plain": [
       "   código CNAE                               denominação CNAE\n",
       "1           01  Agricultura, pecuária e serviços relacionados\n",
       "68          02                             Produção florestal"
      ]
     },
     "execution_count": 49,
     "metadata": {},
     "output_type": "execute_result"
    }
   ],
   "source": [
    "mapeamento_isic.head(2)"
   ]
  },
  {
   "cell_type": "code",
   "execution_count": 50,
   "id": "43306b4b",
   "metadata": {},
   "outputs": [],
   "source": [
    "mapeamento_isic = mapeamento_isic.drop_duplicates()"
   ]
  },
  {
   "cell_type": "code",
   "execution_count": 51,
   "id": "26d60295",
   "metadata": {},
   "outputs": [
    {
     "data": {
      "text/plain": [
       "array(['01', '02'], dtype=object)"
      ]
     },
     "execution_count": 51,
     "metadata": {},
     "output_type": "execute_result"
    }
   ],
   "source": [
    "mapeamento_isic.head(2)['código CNAE'].values"
   ]
  },
  {
   "cell_type": "code",
   "execution_count": 53,
   "id": "1841aab4",
   "metadata": {},
   "outputs": [
    {
     "data": {
      "application/vnd.microsoft.datawrangler.viewer.v0+json": {
       "columns": [
        {
         "name": "index",
         "rawType": "int64",
         "type": "integer"
        },
        {
         "name": "código ISIC",
         "rawType": "object",
         "type": "string"
        },
        {
         "name": "denominação ISIC",
         "rawType": "object",
         "type": "string"
        },
        {
         "name": "código CNAE",
         "rawType": "object",
         "type": "string"
        },
        {
         "name": "denominação CNAE",
         "rawType": "object",
         "type": "string"
        },
        {
         "name": "CNAE2d",
         "rawType": "object",
         "type": "string"
        },
        {
         "name": "ISIC2d",
         "rawType": "object",
         "type": "string"
        },
        {
         "name": "cnae",
         "rawType": "object",
         "type": "string"
        },
        {
         "name": "CO_ISIC_CLASSE3d",
         "rawType": "object",
         "type": "string"
        },
        {
         "name": "CO_SH6",
         "rawType": "object",
         "type": "string"
        }
       ],
       "ref": "c9f55acb-b317-499b-803a-3f052d6b6d15",
       "rows": [
        [
         "14103",
         "303",
         "Fabricación de aeronaves, naves espaciales y maquinaria conexa",
         "30.4",
         "Fabricação de aeronaves",
         "30",
         "30",
         "304",
         "303",
         "880260"
        ],
        [
         "14104",
         "303",
         "Fabricación de aeronaves, naves espaciales y maquinaria conexa",
         "30.4",
         "Fabricação de aeronaves",
         "30",
         "30",
         "304",
         "303",
         "840710"
        ]
       ],
       "shape": {
        "columns": 9,
        "rows": 2
       }
      },
      "text/html": [
       "<div>\n",
       "<style scoped>\n",
       "    .dataframe tbody tr th:only-of-type {\n",
       "        vertical-align: middle;\n",
       "    }\n",
       "\n",
       "    .dataframe tbody tr th {\n",
       "        vertical-align: top;\n",
       "    }\n",
       "\n",
       "    .dataframe thead th {\n",
       "        text-align: right;\n",
       "    }\n",
       "</style>\n",
       "<table border=\"1\" class=\"dataframe\">\n",
       "  <thead>\n",
       "    <tr style=\"text-align: right;\">\n",
       "      <th></th>\n",
       "      <th>código ISIC</th>\n",
       "      <th>denominação ISIC</th>\n",
       "      <th>código CNAE</th>\n",
       "      <th>denominação CNAE</th>\n",
       "      <th>CNAE2d</th>\n",
       "      <th>ISIC2d</th>\n",
       "      <th>cnae</th>\n",
       "      <th>CO_ISIC_CLASSE3d</th>\n",
       "      <th>CO_SH6</th>\n",
       "    </tr>\n",
       "  </thead>\n",
       "  <tbody>\n",
       "    <tr>\n",
       "      <th>14103</th>\n",
       "      <td>303</td>\n",
       "      <td>Fabricación de aeronaves, naves espaciales y m...</td>\n",
       "      <td>30.4</td>\n",
       "      <td>Fabricação de aeronaves</td>\n",
       "      <td>30</td>\n",
       "      <td>30</td>\n",
       "      <td>304</td>\n",
       "      <td>303</td>\n",
       "      <td>880260</td>\n",
       "    </tr>\n",
       "    <tr>\n",
       "      <th>14104</th>\n",
       "      <td>303</td>\n",
       "      <td>Fabricación de aeronaves, naves espaciales y m...</td>\n",
       "      <td>30.4</td>\n",
       "      <td>Fabricação de aeronaves</td>\n",
       "      <td>30</td>\n",
       "      <td>30</td>\n",
       "      <td>304</td>\n",
       "      <td>303</td>\n",
       "      <td>840710</td>\n",
       "    </tr>\n",
       "  </tbody>\n",
       "</table>\n",
       "</div>"
      ],
      "text/plain": [
       "      código ISIC                                   denominação ISIC  \\\n",
       "14103         303  Fabricación de aeronaves, naves espaciales y m...   \n",
       "14104         303  Fabricación de aeronaves, naves espaciales y m...   \n",
       "\n",
       "      código CNAE         denominação CNAE CNAE2d ISIC2d cnae  \\\n",
       "14103        30.4  Fabricação de aeronaves     30     30  304   \n",
       "14104        30.4  Fabricação de aeronaves     30     30  304   \n",
       "\n",
       "      CO_ISIC_CLASSE3d  CO_SH6  \n",
       "14103              303  880260  \n",
       "14104              303  840710  "
      ]
     },
     "execution_count": 53,
     "metadata": {},
     "output_type": "execute_result"
    }
   ],
   "source": [
    "mapeamento_isic_ncm.query('`código ISIC`.str.startswith(\"303\")').head(2)"
   ]
  },
  {
   "cell_type": "code",
   "execution_count": 54,
   "id": "0eb296b7",
   "metadata": {},
   "outputs": [],
   "source": [
    "#Para cada código cnae que possuir comprimento 2 dígitos, substituir o campo 'denominação CNAE' pelo valor correspondente em mapeamento_isic, sem alterar o valor nos casos em que esse campo possua 3 dígitos\n",
    "#Criar máscara para códigos CNAE de 2 dígitos\n",
    "mask_2_digitos = mapeamento_isic_ncm['cnae'].str.len() == 2\n",
    "\n",
    "# Verificar se o mapeamento existe antes de aplicar\n",
    "if mask_2_digitos.any():\n",
    "    # Fazer o mapeamento\n",
    "    mapeamento_dict = mapeamento_isic.set_index('código CNAE')['denominação CNAE'].to_dict()\n",
    "    mapeamento_isic_ncm.loc[mask_2_digitos, 'denominação CNAE'] = mapeamento_isic_ncm.loc[mask_2_digitos, 'cnae'].map(mapeamento_dict)\n",
    "    \n",
    "    # Verificar se ainda há valores nulos após o mapeamento\n",
    "    nulos_restantes = mapeamento_isic_ncm.loc[mask_2_digitos, 'denominação CNAE'].isna().sum()\n",
    "    if nulos_restantes > 0:\n",
    "        print(f\"Atenção: {nulos_restantes} códigos CNAE de 2 dígitos não foram mapeados\")"
   ]
  },
  {
   "cell_type": "code",
   "execution_count": 55,
   "id": "2863fd2f",
   "metadata": {},
   "outputs": [],
   "source": [
    "mapeamento_isic_ncm = mapeamento_isic_ncm[['cnae', 'denominação CNAE','CO_SH6']].drop_duplicates()"
   ]
  },
  {
   "cell_type": "code",
   "execution_count": 56,
   "id": "bf8c285d",
   "metadata": {},
   "outputs": [
    {
     "data": {
      "application/vnd.microsoft.datawrangler.viewer.v0+json": {
       "columns": [
        {
         "name": "index",
         "rawType": "int64",
         "type": "integer"
        },
        {
         "name": "cnae",
         "rawType": "object",
         "type": "string"
        },
        {
         "name": "denominação CNAE",
         "rawType": "object",
         "type": "string"
        },
        {
         "name": "CO_SH6",
         "rawType": "object",
         "type": "string"
        }
       ],
       "ref": "8efebdb3-b5d1-4c31-ac87-09e6a4a4b2a4",
       "rows": [
        [
         "0",
         "01",
         "Agricultura, pecuária e serviços relacionados",
         "520100"
        ],
        [
         "1",
         "01",
         "Agricultura, pecuária e serviços relacionados",
         "070956"
        ]
       ],
       "shape": {
        "columns": 3,
        "rows": 2
       }
      },
      "text/html": [
       "<div>\n",
       "<style scoped>\n",
       "    .dataframe tbody tr th:only-of-type {\n",
       "        vertical-align: middle;\n",
       "    }\n",
       "\n",
       "    .dataframe tbody tr th {\n",
       "        vertical-align: top;\n",
       "    }\n",
       "\n",
       "    .dataframe thead th {\n",
       "        text-align: right;\n",
       "    }\n",
       "</style>\n",
       "<table border=\"1\" class=\"dataframe\">\n",
       "  <thead>\n",
       "    <tr style=\"text-align: right;\">\n",
       "      <th></th>\n",
       "      <th>cnae</th>\n",
       "      <th>denominação CNAE</th>\n",
       "      <th>CO_SH6</th>\n",
       "    </tr>\n",
       "  </thead>\n",
       "  <tbody>\n",
       "    <tr>\n",
       "      <th>0</th>\n",
       "      <td>01</td>\n",
       "      <td>Agricultura, pecuária e serviços relacionados</td>\n",
       "      <td>520100</td>\n",
       "    </tr>\n",
       "    <tr>\n",
       "      <th>1</th>\n",
       "      <td>01</td>\n",
       "      <td>Agricultura, pecuária e serviços relacionados</td>\n",
       "      <td>070956</td>\n",
       "    </tr>\n",
       "  </tbody>\n",
       "</table>\n",
       "</div>"
      ],
      "text/plain": [
       "  cnae                               denominação CNAE  CO_SH6\n",
       "0   01  Agricultura, pecuária e serviços relacionados  520100\n",
       "1   01  Agricultura, pecuária e serviços relacionados  070956"
      ]
     },
     "execution_count": 56,
     "metadata": {},
     "output_type": "execute_result"
    }
   ],
   "source": [
    "mapeamento_isic_ncm.head(2)"
   ]
  },
  {
   "cell_type": "code",
   "execution_count": 57,
   "id": "06e15ef6",
   "metadata": {},
   "outputs": [
    {
     "data": {
      "application/vnd.microsoft.datawrangler.viewer.v0+json": {
       "columns": [
        {
         "name": "_merge",
         "rawType": "category",
         "type": "unknown"
        },
        {
         "name": "count",
         "rawType": "int64",
         "type": "integer"
        }
       ],
       "ref": "27e53965-13b7-4b76-bb19-e5a43112cbfc",
       "rows": [
        [
         "both",
         "3487"
        ],
        [
         "right_only",
         "3019"
        ],
        [
         "left_only",
         "39"
        ]
       ],
       "shape": {
        "columns": 1,
        "rows": 3
       }
      },
      "text/plain": [
       "_merge\n",
       "both          3487\n",
       "right_only    3019\n",
       "left_only       39\n",
       "Name: count, dtype: int64"
      ]
     },
     "execution_count": 57,
     "metadata": {},
     "output_type": "execute_result"
    }
   ],
   "source": [
    "exportacoes_usa_2024.merge(mapeamento_isic_ncm, left_on='SH6', right_on='CO_SH6', how='outer',indicator=True).value_counts('_merge')"
   ]
  },
  {
   "cell_type": "code",
   "execution_count": 58,
   "id": "6b377fee",
   "metadata": {},
   "outputs": [
    {
     "data": {
      "text/plain": [
       "np.float64(66715335.0)"
      ]
     },
     "execution_count": 58,
     "metadata": {},
     "output_type": "execute_result"
    }
   ],
   "source": [
    "exportacoes_usa_2024.merge(mapeamento_isic_ncm, left_on='SH6', right_on='CO_SH6', how='outer',indicator=True).query('_merge == \"left_only\"')['2024 - Valor US$ FOB'].sum()"
   ]
  },
  {
   "cell_type": "code",
   "execution_count": 59,
   "id": "a71167e2",
   "metadata": {},
   "outputs": [
    {
     "data": {
      "text/plain": [
       "np.int64(40368569157)"
      ]
     },
     "execution_count": 59,
     "metadata": {},
     "output_type": "execute_result"
    }
   ],
   "source": [
    "exportacoes_usa_2024['2024 - Valor US$ FOB'].sum()"
   ]
  },
  {
   "cell_type": "code",
   "execution_count": 60,
   "id": "41ec063f",
   "metadata": {},
   "outputs": [
    {
     "data": {
      "text/plain": [
       "0.16526554295380919"
      ]
     },
     "execution_count": 60,
     "metadata": {},
     "output_type": "execute_result"
    }
   ],
   "source": [
    "100*66715335.0/40368569157"
   ]
  },
  {
   "cell_type": "code",
   "execution_count": 61,
   "id": "707d4f3e",
   "metadata": {},
   "outputs": [
    {
     "data": {
      "application/vnd.microsoft.datawrangler.viewer.v0+json": {
       "columns": [
        {
         "name": "index",
         "rawType": "int64",
         "type": "integer"
        },
        {
         "name": "SH6",
         "rawType": "object",
         "type": "string"
        },
        {
         "name": "2024 - Valor US$ FOB",
         "rawType": "int64",
         "type": "integer"
        }
       ],
       "ref": "f6080ecd-725a-412c-ab5d-68af6079f4e4",
       "rows": [
        [
         "0",
         "010121",
         "1713599"
        ],
        [
         "1",
         "010129",
         "3520510"
        ]
       ],
       "shape": {
        "columns": 2,
        "rows": 2
       }
      },
      "text/html": [
       "<div>\n",
       "<style scoped>\n",
       "    .dataframe tbody tr th:only-of-type {\n",
       "        vertical-align: middle;\n",
       "    }\n",
       "\n",
       "    .dataframe tbody tr th {\n",
       "        vertical-align: top;\n",
       "    }\n",
       "\n",
       "    .dataframe thead th {\n",
       "        text-align: right;\n",
       "    }\n",
       "</style>\n",
       "<table border=\"1\" class=\"dataframe\">\n",
       "  <thead>\n",
       "    <tr style=\"text-align: right;\">\n",
       "      <th></th>\n",
       "      <th>SH6</th>\n",
       "      <th>2024 - Valor US$ FOB</th>\n",
       "    </tr>\n",
       "  </thead>\n",
       "  <tbody>\n",
       "    <tr>\n",
       "      <th>0</th>\n",
       "      <td>010121</td>\n",
       "      <td>1713599</td>\n",
       "    </tr>\n",
       "    <tr>\n",
       "      <th>1</th>\n",
       "      <td>010129</td>\n",
       "      <td>3520510</td>\n",
       "    </tr>\n",
       "  </tbody>\n",
       "</table>\n",
       "</div>"
      ],
      "text/plain": [
       "      SH6  2024 - Valor US$ FOB\n",
       "0  010121               1713599\n",
       "1  010129               3520510"
      ]
     },
     "execution_count": 61,
     "metadata": {},
     "output_type": "execute_result"
    }
   ],
   "source": [
    "exportacoes_usa_2024.head(2)"
   ]
  },
  {
   "cell_type": "code",
   "execution_count": 62,
   "id": "2c3c9392",
   "metadata": {},
   "outputs": [],
   "source": [
    "exportacoes_usa_2024_isic = exportacoes_usa_2024.merge(mapeamento_isic_ncm, left_on='SH6', right_on='CO_SH6', how='inner')"
   ]
  },
  {
   "cell_type": "code",
   "execution_count": 63,
   "id": "6e5cdfe0",
   "metadata": {},
   "outputs": [
    {
     "data": {
      "application/vnd.microsoft.datawrangler.viewer.v0+json": {
       "columns": [
        {
         "name": "index",
         "rawType": "int64",
         "type": "integer"
        },
        {
         "name": "SH6",
         "rawType": "object",
         "type": "string"
        },
        {
         "name": "2024 - Valor US$ FOB",
         "rawType": "int64",
         "type": "integer"
        },
        {
         "name": "cnae",
         "rawType": "object",
         "type": "string"
        },
        {
         "name": "denominação CNAE",
         "rawType": "object",
         "type": "string"
        },
        {
         "name": "CO_SH6",
         "rawType": "object",
         "type": "string"
        }
       ],
       "ref": "46aa5f68-fc60-475d-95d4-9ca957b23810",
       "rows": [
        [
         "0",
         "010121",
         "1713599",
         "015",
         "Pecuária",
         "010121"
        ],
        [
         "1",
         "010129",
         "3520510",
         "015",
         "Pecuária",
         "010129"
        ]
       ],
       "shape": {
        "columns": 5,
        "rows": 2
       }
      },
      "text/html": [
       "<div>\n",
       "<style scoped>\n",
       "    .dataframe tbody tr th:only-of-type {\n",
       "        vertical-align: middle;\n",
       "    }\n",
       "\n",
       "    .dataframe tbody tr th {\n",
       "        vertical-align: top;\n",
       "    }\n",
       "\n",
       "    .dataframe thead th {\n",
       "        text-align: right;\n",
       "    }\n",
       "</style>\n",
       "<table border=\"1\" class=\"dataframe\">\n",
       "  <thead>\n",
       "    <tr style=\"text-align: right;\">\n",
       "      <th></th>\n",
       "      <th>SH6</th>\n",
       "      <th>2024 - Valor US$ FOB</th>\n",
       "      <th>cnae</th>\n",
       "      <th>denominação CNAE</th>\n",
       "      <th>CO_SH6</th>\n",
       "    </tr>\n",
       "  </thead>\n",
       "  <tbody>\n",
       "    <tr>\n",
       "      <th>0</th>\n",
       "      <td>010121</td>\n",
       "      <td>1713599</td>\n",
       "      <td>015</td>\n",
       "      <td>Pecuária</td>\n",
       "      <td>010121</td>\n",
       "    </tr>\n",
       "    <tr>\n",
       "      <th>1</th>\n",
       "      <td>010129</td>\n",
       "      <td>3520510</td>\n",
       "      <td>015</td>\n",
       "      <td>Pecuária</td>\n",
       "      <td>010129</td>\n",
       "    </tr>\n",
       "  </tbody>\n",
       "</table>\n",
       "</div>"
      ],
      "text/plain": [
       "      SH6  2024 - Valor US$ FOB cnae denominação CNAE  CO_SH6\n",
       "0  010121               1713599  015         Pecuária  010121\n",
       "1  010129               3520510  015         Pecuária  010129"
      ]
     },
     "execution_count": 63,
     "metadata": {},
     "output_type": "execute_result"
    }
   ],
   "source": [
    "exportacoes_usa_2024_isic.head(2)"
   ]
  },
  {
   "cell_type": "code",
   "execution_count": 64,
   "id": "1eeb3052",
   "metadata": {},
   "outputs": [
    {
     "data": {
      "text/plain": [
       "(3487, 5)"
      ]
     },
     "execution_count": 64,
     "metadata": {},
     "output_type": "execute_result"
    }
   ],
   "source": [
    "exportacoes_usa_2024_isic.shape"
   ]
  },
  {
   "cell_type": "code",
   "execution_count": 65,
   "id": "0ed069f7",
   "metadata": {},
   "outputs": [
    {
     "data": {
      "text/plain": [
       "(3165, 6)"
      ]
     },
     "execution_count": 65,
     "metadata": {},
     "output_type": "execute_result"
    }
   ],
   "source": [
    "ncm_sh6.merge(exportacoes_usa_2024_isic[['SH6']], on='SH6', how='inner').shape\n"
   ]
  },
  {
   "cell_type": "code",
   "execution_count": 66,
   "id": "7c1f1bda",
   "metadata": {},
   "outputs": [
    {
     "data": {
      "application/vnd.microsoft.datawrangler.viewer.v0+json": {
       "columns": [
        {
         "name": "index",
         "rawType": "int64",
         "type": "integer"
        },
        {
         "name": "SH6",
         "rawType": "object",
         "type": "string"
        },
        {
         "name": "Instrumento",
         "rawType": "object",
         "type": "string"
        },
        {
         "name": "Tarifa",
         "rawType": "float64",
         "type": "float"
        },
        {
         "name": "Vigência",
         "rawType": "object",
         "type": "string"
        },
        {
         "name": "Tarifa Desc",
         "rawType": "object",
         "type": "string"
        },
        {
         "name": "Articles of Civil Aircraft only",
         "rawType": "object",
         "type": "string"
        }
       ],
       "ref": "fd26a526-9b2b-45ff-afe1-2853676121d5",
       "rows": [
        [
         "0",
         "490110",
         "Ordem 30/07",
         "0.5",
         "Vigente",
         "Tarifa de 10+40%",
         ""
        ],
        [
         "1",
         "490191",
         "Ordem 30/07",
         "0.5",
         "Vigente",
         "Tarifa de 10+40%",
         ""
        ]
       ],
       "shape": {
        "columns": 6,
        "rows": 2
       }
      },
      "text/html": [
       "<div>\n",
       "<style scoped>\n",
       "    .dataframe tbody tr th:only-of-type {\n",
       "        vertical-align: middle;\n",
       "    }\n",
       "\n",
       "    .dataframe tbody tr th {\n",
       "        vertical-align: top;\n",
       "    }\n",
       "\n",
       "    .dataframe thead th {\n",
       "        text-align: right;\n",
       "    }\n",
       "</style>\n",
       "<table border=\"1\" class=\"dataframe\">\n",
       "  <thead>\n",
       "    <tr style=\"text-align: right;\">\n",
       "      <th></th>\n",
       "      <th>SH6</th>\n",
       "      <th>Instrumento</th>\n",
       "      <th>Tarifa</th>\n",
       "      <th>Vigência</th>\n",
       "      <th>Tarifa Desc</th>\n",
       "      <th>Articles of Civil Aircraft only</th>\n",
       "    </tr>\n",
       "  </thead>\n",
       "  <tbody>\n",
       "    <tr>\n",
       "      <th>0</th>\n",
       "      <td>490110</td>\n",
       "      <td>Ordem 30/07</td>\n",
       "      <td>0.5</td>\n",
       "      <td>Vigente</td>\n",
       "      <td>Tarifa de 10+40%</td>\n",
       "      <td></td>\n",
       "    </tr>\n",
       "    <tr>\n",
       "      <th>1</th>\n",
       "      <td>490191</td>\n",
       "      <td>Ordem 30/07</td>\n",
       "      <td>0.5</td>\n",
       "      <td>Vigente</td>\n",
       "      <td>Tarifa de 10+40%</td>\n",
       "      <td></td>\n",
       "    </tr>\n",
       "  </tbody>\n",
       "</table>\n",
       "</div>"
      ],
      "text/plain": [
       "      SH6  Instrumento  Tarifa Vigência       Tarifa Desc  \\\n",
       "0  490110  Ordem 30/07     0.5  Vigente  Tarifa de 10+40%   \n",
       "1  490191  Ordem 30/07     0.5  Vigente  Tarifa de 10+40%   \n",
       "\n",
       "  Articles of Civil Aircraft only  \n",
       "0                                  \n",
       "1                                  "
      ]
     },
     "execution_count": 66,
     "metadata": {},
     "output_type": "execute_result"
    }
   ],
   "source": [
    "ncm_sh6.head(2)"
   ]
  },
  {
   "cell_type": "code",
   "execution_count": 67,
   "id": "6ccb9203",
   "metadata": {},
   "outputs": [],
   "source": [
    "exportacoes_usa_2024_isic = ncm_sh6.merge(exportacoes_usa_2024_isic, on='SH6', how='inner')"
   ]
  },
  {
   "cell_type": "code",
   "execution_count": 68,
   "id": "e41be0b6",
   "metadata": {},
   "outputs": [
    {
     "data": {
      "application/vnd.microsoft.datawrangler.viewer.v0+json": {
       "columns": [
        {
         "name": "index",
         "rawType": "int64",
         "type": "integer"
        },
        {
         "name": "SH6",
         "rawType": "object",
         "type": "string"
        },
        {
         "name": "Instrumento",
         "rawType": "object",
         "type": "string"
        },
        {
         "name": "Tarifa",
         "rawType": "float64",
         "type": "float"
        },
        {
         "name": "Vigência",
         "rawType": "object",
         "type": "string"
        },
        {
         "name": "Tarifa Desc",
         "rawType": "object",
         "type": "string"
        },
        {
         "name": "Articles of Civil Aircraft only",
         "rawType": "object",
         "type": "string"
        },
        {
         "name": "2024 - Valor US$ FOB",
         "rawType": "int64",
         "type": "integer"
        },
        {
         "name": "cnae",
         "rawType": "object",
         "type": "string"
        },
        {
         "name": "denominação CNAE",
         "rawType": "object",
         "type": "string"
        },
        {
         "name": "CO_SH6",
         "rawType": "object",
         "type": "string"
        }
       ],
       "ref": "e9e5d305-781b-4516-9a5f-442ed7ce77df",
       "rows": [
        [
         "3160",
         "400122",
         "Ordem 30/07",
         "0.5",
         "Vigente",
         "Tarifa de 10+40%",
         "",
         "259693",
         "01",
         "Agricultura, pecuária e serviços relacionados",
         "400122"
        ],
        [
         "3161",
         "400129",
         "Ordem 30/07",
         "0.5",
         "Vigente",
         "Tarifa de 10+40%",
         "",
         "10477",
         "02",
         "Produção florestal",
         "400129"
        ],
        [
         "3162",
         "392113",
         "Ordem 30/07",
         "0.5",
         "Vigente",
         "Tarifa de 10+40%",
         "",
         "33014",
         "222",
         "Fabricação de produtos de material plástico",
         "392113"
        ],
        [
         "3163",
         "481014",
         "Ordem 30/07",
         "0.5",
         "Vigente",
         "Tarifa de 10+40%",
         "",
         "107",
         "17",
         "Fabricação de celulose, papel e produtos de papel",
         "481014"
        ],
        [
         "3164",
         "392112",
         "Ordem 30/07",
         "0.5",
         "Vigente",
         "Tarifa de 10+40%",
         "",
         "3742",
         "222",
         "Fabricação de produtos de material plástico",
         "392112"
        ]
       ],
       "shape": {
        "columns": 10,
        "rows": 5
       }
      },
      "text/html": [
       "<div>\n",
       "<style scoped>\n",
       "    .dataframe tbody tr th:only-of-type {\n",
       "        vertical-align: middle;\n",
       "    }\n",
       "\n",
       "    .dataframe tbody tr th {\n",
       "        vertical-align: top;\n",
       "    }\n",
       "\n",
       "    .dataframe thead th {\n",
       "        text-align: right;\n",
       "    }\n",
       "</style>\n",
       "<table border=\"1\" class=\"dataframe\">\n",
       "  <thead>\n",
       "    <tr style=\"text-align: right;\">\n",
       "      <th></th>\n",
       "      <th>SH6</th>\n",
       "      <th>Instrumento</th>\n",
       "      <th>Tarifa</th>\n",
       "      <th>Vigência</th>\n",
       "      <th>Tarifa Desc</th>\n",
       "      <th>Articles of Civil Aircraft only</th>\n",
       "      <th>2024 - Valor US$ FOB</th>\n",
       "      <th>cnae</th>\n",
       "      <th>denominação CNAE</th>\n",
       "      <th>CO_SH6</th>\n",
       "    </tr>\n",
       "  </thead>\n",
       "  <tbody>\n",
       "    <tr>\n",
       "      <th>3160</th>\n",
       "      <td>400122</td>\n",
       "      <td>Ordem 30/07</td>\n",
       "      <td>0.5</td>\n",
       "      <td>Vigente</td>\n",
       "      <td>Tarifa de 10+40%</td>\n",
       "      <td></td>\n",
       "      <td>259693</td>\n",
       "      <td>01</td>\n",
       "      <td>Agricultura, pecuária e serviços relacionados</td>\n",
       "      <td>400122</td>\n",
       "    </tr>\n",
       "    <tr>\n",
       "      <th>3161</th>\n",
       "      <td>400129</td>\n",
       "      <td>Ordem 30/07</td>\n",
       "      <td>0.5</td>\n",
       "      <td>Vigente</td>\n",
       "      <td>Tarifa de 10+40%</td>\n",
       "      <td></td>\n",
       "      <td>10477</td>\n",
       "      <td>02</td>\n",
       "      <td>Produção florestal</td>\n",
       "      <td>400129</td>\n",
       "    </tr>\n",
       "    <tr>\n",
       "      <th>3162</th>\n",
       "      <td>392113</td>\n",
       "      <td>Ordem 30/07</td>\n",
       "      <td>0.5</td>\n",
       "      <td>Vigente</td>\n",
       "      <td>Tarifa de 10+40%</td>\n",
       "      <td></td>\n",
       "      <td>33014</td>\n",
       "      <td>222</td>\n",
       "      <td>Fabricação de produtos de material plástico</td>\n",
       "      <td>392113</td>\n",
       "    </tr>\n",
       "    <tr>\n",
       "      <th>3163</th>\n",
       "      <td>481014</td>\n",
       "      <td>Ordem 30/07</td>\n",
       "      <td>0.5</td>\n",
       "      <td>Vigente</td>\n",
       "      <td>Tarifa de 10+40%</td>\n",
       "      <td></td>\n",
       "      <td>107</td>\n",
       "      <td>17</td>\n",
       "      <td>Fabricação de celulose, papel e produtos de papel</td>\n",
       "      <td>481014</td>\n",
       "    </tr>\n",
       "    <tr>\n",
       "      <th>3164</th>\n",
       "      <td>392112</td>\n",
       "      <td>Ordem 30/07</td>\n",
       "      <td>0.5</td>\n",
       "      <td>Vigente</td>\n",
       "      <td>Tarifa de 10+40%</td>\n",
       "      <td></td>\n",
       "      <td>3742</td>\n",
       "      <td>222</td>\n",
       "      <td>Fabricação de produtos de material plástico</td>\n",
       "      <td>392112</td>\n",
       "    </tr>\n",
       "  </tbody>\n",
       "</table>\n",
       "</div>"
      ],
      "text/plain": [
       "         SH6  Instrumento  Tarifa Vigência       Tarifa Desc  \\\n",
       "3160  400122  Ordem 30/07     0.5  Vigente  Tarifa de 10+40%   \n",
       "3161  400129  Ordem 30/07     0.5  Vigente  Tarifa de 10+40%   \n",
       "3162  392113  Ordem 30/07     0.5  Vigente  Tarifa de 10+40%   \n",
       "3163  481014  Ordem 30/07     0.5  Vigente  Tarifa de 10+40%   \n",
       "3164  392112  Ordem 30/07     0.5  Vigente  Tarifa de 10+40%   \n",
       "\n",
       "     Articles of Civil Aircraft only  2024 - Valor US$ FOB cnae  \\\n",
       "3160                                                259693   01   \n",
       "3161                                                 10477   02   \n",
       "3162                                                 33014  222   \n",
       "3163                                                   107   17   \n",
       "3164                                                  3742  222   \n",
       "\n",
       "                                       denominação CNAE  CO_SH6  \n",
       "3160      Agricultura, pecuária e serviços relacionados  400122  \n",
       "3161                                 Produção florestal  400129  \n",
       "3162        Fabricação de produtos de material plástico  392113  \n",
       "3163  Fabricação de celulose, papel e produtos de papel  481014  \n",
       "3164        Fabricação de produtos de material plástico  392112  "
      ]
     },
     "execution_count": 68,
     "metadata": {},
     "output_type": "execute_result"
    }
   ],
   "source": [
    "exportacoes_usa_2024_isic.tail()"
   ]
  },
  {
   "cell_type": "code",
   "execution_count": 69,
   "id": "5aefcbc1",
   "metadata": {},
   "outputs": [],
   "source": [
    "##Considerar apenas valores acima da linha base\n",
    "exportacoes_usa_2024_isic['Tarifa'] = 0.4"
   ]
  },
  {
   "cell_type": "code",
   "execution_count": 70,
   "id": "badcf86c",
   "metadata": {},
   "outputs": [
    {
     "data": {
      "application/vnd.microsoft.datawrangler.viewer.v0+json": {
       "columns": [
        {
         "name": "index",
         "rawType": "int64",
         "type": "integer"
        },
        {
         "name": "Vigência",
         "rawType": "object",
         "type": "string"
        }
       ],
       "ref": "ac23298a-5266-4bc8-86cd-c55837ae3a7f",
       "rows": [
        [
         "0",
         "Vigente"
        ]
       ],
       "shape": {
        "columns": 1,
        "rows": 1
       }
      },
      "text/plain": [
       "0    Vigente\n",
       "Name: Vigência, dtype: object"
      ]
     },
     "execution_count": 70,
     "metadata": {},
     "output_type": "execute_result"
    }
   ],
   "source": [
    "exportacoes_usa_2024_isic['Vigência'].drop_duplicates()"
   ]
  },
  {
   "cell_type": "code",
   "execution_count": 77,
   "id": "7b7cb415",
   "metadata": {},
   "outputs": [
    {
     "data": {
      "application/vnd.microsoft.datawrangler.viewer.v0+json": {
       "columns": [
        {
         "name": "index",
         "rawType": "int64",
         "type": "integer"
        },
        {
         "name": "SH6",
         "rawType": "object",
         "type": "string"
        },
        {
         "name": "Instrumento",
         "rawType": "object",
         "type": "string"
        },
        {
         "name": "Tarifa",
         "rawType": "float64",
         "type": "float"
        },
        {
         "name": "Vigência",
         "rawType": "object",
         "type": "string"
        },
        {
         "name": "Tarifa Desc",
         "rawType": "object",
         "type": "string"
        },
        {
         "name": "Articles of Civil Aircraft only",
         "rawType": "object",
         "type": "string"
        },
        {
         "name": "2024 - Valor US$ FOB",
         "rawType": "int64",
         "type": "integer"
        },
        {
         "name": "cnae",
         "rawType": "object",
         "type": "string"
        },
        {
         "name": "denominação CNAE",
         "rawType": "object",
         "type": "string"
        },
        {
         "name": "CO_SH6",
         "rawType": "object",
         "type": "string"
        }
       ],
       "ref": "5843d987-17c7-4a12-b26b-e66ea7e8a90f",
       "rows": [
        [
         "57",
         "901210",
         "Ordem 30/07",
         "0.4",
         "Vigente",
         "Tarifa de 10+40%",
         "",
         "18608",
         "265",
         "Fabricação de aparelhos e instrumentos de medida, teste e controle; cronômetros e relógios",
         "901210"
        ],
        [
         "58",
         "901290",
         "Ordem 30/07",
         "0.4",
         "Vigente",
         "Tarifa de 10+40%",
         "",
         "12075",
         "265",
         "Fabricação de aparelhos e instrumentos de medida, teste e controle; cronômetros e relógios",
         "901290"
        ],
        [
         "378",
         "902410",
         "Ordem 30/07",
         "0.4",
         "Vigente",
         "Tarifa de 10+40%",
         "",
         "98458",
         "265",
         "Fabricação de aparelhos e instrumentos de medida, teste e controle; cronômetros e relógios",
         "902410"
        ],
        [
         "379",
         "910211",
         "Ordem 30/07",
         "0.4",
         "Vigente",
         "Tarifa de 10+40%",
         "",
         "45140",
         "265",
         "Fabricação de aparelhos e instrumentos de medida, teste e controle; cronômetros e relógios",
         "910211"
        ],
        [
         "380",
         "910212",
         "Ordem 30/07",
         "0.4",
         "Vigente",
         "Tarifa de 10+40%",
         "",
         "13644",
         "265",
         "Fabricação de aparelhos e instrumentos de medida, teste e controle; cronômetros e relógios",
         "910212"
        ],
        [
         "381",
         "910219",
         "Ordem 30/07",
         "0.4",
         "Vigente",
         "Tarifa de 10+40%",
         "",
         "939",
         "265",
         "Fabricação de aparelhos e instrumentos de medida, teste e controle; cronômetros e relógios",
         "910219"
        ],
        [
         "382",
         "910221",
         "Ordem 30/07",
         "0.4",
         "Vigente",
         "Tarifa de 10+40%",
         "",
         "448",
         "265",
         "Fabricação de aparelhos e instrumentos de medida, teste e controle; cronômetros e relógios",
         "910221"
        ],
        [
         "383",
         "910229",
         "Ordem 30/07",
         "0.4",
         "Vigente",
         "Tarifa de 10+40%",
         "",
         "15044",
         "265",
         "Fabricação de aparelhos e instrumentos de medida, teste e controle; cronômetros e relógios",
         "910229"
        ],
        [
         "384",
         "910291",
         "Ordem 30/07",
         "0.4",
         "Vigente",
         "Tarifa de 10+40%",
         "",
         "1800",
         "265",
         "Fabricação de aparelhos e instrumentos de medida, teste e controle; cronômetros e relógios",
         "910291"
        ],
        [
         "385",
         "910400",
         "Ordem 30/07",
         "0.4",
         "Vigente",
         "Tarifa de 10+40%",
         "*",
         "22476",
         "265",
         "Fabricação de aparelhos e instrumentos de medida, teste e controle; cronômetros e relógios",
         "910400"
        ],
        [
         "509",
         "903289",
         "Ordem 30/07",
         "0.4",
         "Vigente",
         "Tarifa de 10+40%",
         "*",
         "34035156",
         "265",
         "Fabricação de aparelhos e instrumentos de medida, teste e controle; cronômetros e relógios",
         "903289"
        ],
        [
         "510",
         "910519",
         "Ordem 30/07",
         "0.4",
         "Vigente",
         "Tarifa de 10+40%",
         "",
         "505",
         "265",
         "Fabricação de aparelhos e instrumentos de medida, teste e controle; cronômetros e relógios",
         "910519"
        ],
        [
         "511",
         "910529",
         "Ordem 30/07",
         "0.4",
         "Vigente",
         "Tarifa de 10+40%",
         "",
         "80",
         "265",
         "Fabricação de aparelhos e instrumentos de medida, teste e controle; cronômetros e relógios",
         "910529"
        ],
        [
         "512",
         "910591",
         "Ordem 30/07",
         "0.4",
         "Vigente",
         "Tarifa de 10+40%",
         "",
         "4",
         "265",
         "Fabricação de aparelhos e instrumentos de medida, teste e controle; cronômetros e relógios",
         "910591"
        ],
        [
         "629",
         "903290",
         "Ordem 30/07",
         "0.4",
         "Vigente",
         "Tarifa de 10+40%",
         "*",
         "2942954",
         "265",
         "Fabricação de aparelhos e instrumentos de medida, teste e controle; cronômetros e relógios",
         "903290"
        ],
        [
         "630",
         "903300",
         "Ordem 30/07",
         "0.4",
         "Vigente",
         "Tarifa de 10+40%",
         "*",
         "276131",
         "265",
         "Fabricação de aparelhos e instrumentos de medida, teste e controle; cronômetros e relógios",
         "903300"
        ],
        [
         "631",
         "910111",
         "Ordem 30/07",
         "0.4",
         "Vigente",
         "Tarifa de 10+40%",
         "",
         "53076",
         "265",
         "Fabricação de aparelhos e instrumentos de medida, teste e controle; cronômetros e relógios",
         "910111"
        ],
        [
         "632",
         "910119",
         "Ordem 30/07",
         "0.4",
         "Vigente",
         "Tarifa de 10+40%",
         "",
         "675907",
         "265",
         "Fabricação de aparelhos e instrumentos de medida, teste e controle; cronômetros e relógios",
         "910119"
        ],
        [
         "702",
         "910191",
         "Ordem 30/07",
         "0.4",
         "Vigente",
         "Tarifa de 10+40%",
         "",
         "8095",
         "265",
         "Fabricação de aparelhos e instrumentos de medida, teste e controle; cronômetros e relógios",
         "910191"
        ],
        [
         "841",
         "902511",
         "Ordem 30/07",
         "0.4",
         "Vigente",
         "Tarifa de 10+40%",
         "*",
         "4947",
         "265",
         "Fabricação de aparelhos e instrumentos de medida, teste e controle; cronômetros e relógios",
         "902511"
        ],
        [
         "1064",
         "902789",
         "Ordem 30/07",
         "0.4",
         "Vigente",
         "Tarifa de 10+40%",
         "",
         "1484183",
         "265",
         "Fabricação de aparelhos e instrumentos de medida, teste e controle; cronômetros e relógios",
         "902789"
        ],
        [
         "1217",
         "852610",
         "Ordem 30/07",
         "0.4",
         "Vigente",
         "Tarifa de 10+40%",
         "*",
         "4274128",
         "265",
         "Fabricação de aparelhos e instrumentos de medida, teste e controle; cronômetros e relógios",
         "852610"
        ],
        [
         "1218",
         "852691",
         "Ordem 30/07",
         "0.4",
         "Vigente",
         "Tarifa de 10+40%",
         "*",
         "14153049",
         "265",
         "Fabricação de aparelhos e instrumentos de medida, teste e controle; cronômetros e relógios",
         "852691"
        ],
        [
         "1219",
         "852692",
         "Ordem 30/07",
         "0.4",
         "Vigente",
         "Tarifa de 10+40%",
         "*",
         "195136",
         "265",
         "Fabricação de aparelhos e instrumentos de medida, teste e controle; cronômetros e relógios",
         "852692"
        ],
        [
         "1324",
         "911490",
         "Ordem 30/07",
         "0.4",
         "Vigente",
         "Tarifa de 10+40%",
         "",
         "500",
         "265",
         "Fabricação de aparelhos e instrumentos de medida, teste e controle; cronômetros e relógios",
         "911490"
        ],
        [
         "1538",
         "962000",
         "Ordem 30/07",
         "0.4",
         "Vigente",
         "Tarifa de 10+40%",
         "*",
         "51091",
         "265",
         "Fabricação de aparelhos e instrumentos de medida, teste e controle; cronômetros e relógios",
         "962000"
        ],
        [
         "2212",
         "902890",
         "Ordem 30/07",
         "0.4",
         "Vigente",
         "Tarifa de 10+40%",
         "",
         "1407021",
         "265",
         "Fabricação de aparelhos e instrumentos de medida, teste e controle; cronômetros e relógios",
         "902890"
        ],
        [
         "2213",
         "902910",
         "Ordem 30/07",
         "0.4",
         "Vigente",
         "Tarifa de 10+40%",
         "*",
         "186336",
         "265",
         "Fabricação de aparelhos e instrumentos de medida, teste e controle; cronômetros e relógios",
         "902910"
        ],
        [
         "2219",
         "902810",
         "Ordem 30/07",
         "0.4",
         "Vigente",
         "Tarifa de 10+40%",
         "",
         "28615",
         "265",
         "Fabricação de aparelhos e instrumentos de medida, teste e controle; cronômetros e relógios",
         "902810"
        ],
        [
         "2220",
         "902820",
         "Ordem 30/07",
         "0.4",
         "Vigente",
         "Tarifa de 10+40%",
         "",
         "259485",
         "265",
         "Fabricação de aparelhos e instrumentos de medida, teste e controle; cronômetros e relógios",
         "902820"
        ],
        [
         "2221",
         "902830",
         "Ordem 30/07",
         "0.4",
         "Vigente",
         "Tarifa de 10+40%",
         "",
         "15346",
         "265",
         "Fabricação de aparelhos e instrumentos de medida, teste e controle; cronômetros e relógios",
         "902830"
        ],
        [
         "2253",
         "901410",
         "Ordem 30/07",
         "0.4",
         "Vigente",
         "Tarifa de 10+40%",
         "*",
         "35822",
         "265",
         "Fabricação de aparelhos e instrumentos de medida, teste e controle; cronômetros e relógios",
         "901410"
        ],
        [
         "2254",
         "901420",
         "Ordem 30/07",
         "0.4",
         "Vigente",
         "Tarifa de 10+40%",
         "*",
         "38631159",
         "265",
         "Fabricação de aparelhos e instrumentos de medida, teste e controle; cronômetros e relógios",
         "901420"
        ],
        [
         "2255",
         "901480",
         "Ordem 30/07",
         "0.4",
         "Vigente",
         "Tarifa de 10+40%",
         "",
         "2779228",
         "265",
         "Fabricação de aparelhos e instrumentos de medida, teste e controle; cronômetros e relógios",
         "901480"
        ],
        [
         "2256",
         "901490",
         "Ordem 30/07",
         "0.4",
         "Vigente",
         "Tarifa de 10+40%",
         "*",
         "14819609",
         "265",
         "Fabricação de aparelhos e instrumentos de medida, teste e controle; cronômetros e relógios",
         "901490"
        ],
        [
         "2257",
         "901510",
         "Ordem 30/07",
         "0.4",
         "Vigente",
         "Tarifa de 10+40%",
         "",
         "49167",
         "265",
         "Fabricação de aparelhos e instrumentos de medida, teste e controle; cronômetros e relógios",
         "901510"
        ],
        [
         "2258",
         "901520",
         "Ordem 30/07",
         "0.4",
         "Vigente",
         "Tarifa de 10+40%",
         "",
         "234234",
         "265",
         "Fabricação de aparelhos e instrumentos de medida, teste e controle; cronômetros e relógios",
         "901520"
        ],
        [
         "2259",
         "901530",
         "Ordem 30/07",
         "0.4",
         "Vigente",
         "Tarifa de 10+40%",
         "",
         "8361",
         "265",
         "Fabricação de aparelhos e instrumentos de medida, teste e controle; cronômetros e relógios",
         "901530"
        ],
        [
         "2260",
         "901540",
         "Ordem 30/07",
         "0.4",
         "Vigente",
         "Tarifa de 10+40%",
         "",
         "15899",
         "265",
         "Fabricação de aparelhos e instrumentos de medida, teste e controle; cronômetros e relógios",
         "901540"
        ],
        [
         "2261",
         "901580",
         "Ordem 30/07",
         "0.4",
         "Vigente",
         "Tarifa de 10+40%",
         "",
         "475283",
         "265",
         "Fabricação de aparelhos e instrumentos de medida, teste e controle; cronômetros e relógios",
         "901580"
        ],
        [
         "2269",
         "911320",
         "Ordem 30/07",
         "0.4",
         "Vigente",
         "Tarifa de 10+40%",
         "",
         "97",
         "265",
         "Fabricação de aparelhos e instrumentos de medida, teste e controle; cronômetros e relógios",
         "911320"
        ],
        [
         "2271",
         "902480",
         "Ordem 30/07",
         "0.4",
         "Vigente",
         "Tarifa de 10+40%",
         "",
         "94049",
         "265",
         "Fabricação de aparelhos e instrumentos de medida, teste e controle; cronômetros e relógios",
         "902480"
        ],
        [
         "2272",
         "902490",
         "Ordem 30/07",
         "0.4",
         "Vigente",
         "Tarifa de 10+40%",
         "",
         "710046",
         "265",
         "Fabricação de aparelhos e instrumentos de medida, teste e controle; cronômetros e relógios",
         "902490"
        ],
        [
         "2303",
         "902920",
         "Ordem 30/07",
         "0.4",
         "Vigente",
         "Tarifa de 10+40%",
         "*",
         "175031",
         "265",
         "Fabricação de aparelhos e instrumentos de medida, teste e controle; cronômetros e relógios",
         "902920"
        ],
        [
         "2304",
         "902990",
         "Ordem 30/07",
         "0.4",
         "Vigente",
         "Tarifa de 10+40%",
         "*",
         "114998",
         "265",
         "Fabricação de aparelhos e instrumentos de medida, teste e controle; cronômetros e relógios",
         "902990"
        ],
        [
         "2305",
         "903010",
         "Ordem 30/07",
         "0.4",
         "Vigente",
         "Tarifa de 10+40%",
         "*",
         "313037",
         "265",
         "Fabricação de aparelhos e instrumentos de medida, teste e controle; cronômetros e relógios",
         "903010"
        ],
        [
         "2308",
         "903020",
         "Ordem 30/07",
         "0.4",
         "Vigente",
         "Tarifa de 10+40%",
         "*",
         "42226",
         "265",
         "Fabricação de aparelhos e instrumentos de medida, teste e controle; cronômetros e relógios",
         "903020"
        ],
        [
         "2309",
         "903031",
         "Ordem 30/07",
         "0.4",
         "Vigente",
         "Tarifa de 10+40%",
         "*",
         "8230",
         "265",
         "Fabricação de aparelhos e instrumentos de medida, teste e controle; cronômetros e relógios",
         "903031"
        ],
        [
         "2310",
         "903032",
         "Ordem 30/07",
         "0.4",
         "Vigente",
         "Tarifa de 10+40%",
         "*",
         "19859",
         "265",
         "Fabricação de aparelhos e instrumentos de medida, teste e controle; cronômetros e relógios",
         "903032"
        ],
        [
         "2311",
         "903281",
         "Ordem 30/07",
         "0.4",
         "Vigente",
         "Tarifa de 10+40%",
         "*",
         "650657",
         "265",
         "Fabricação de aparelhos e instrumentos de medida, teste e controle; cronômetros e relógios",
         "903281"
        ]
       ],
       "shape": {
        "columns": 10,
        "rows": 82
       }
      },
      "text/html": [
       "<div>\n",
       "<style scoped>\n",
       "    .dataframe tbody tr th:only-of-type {\n",
       "        vertical-align: middle;\n",
       "    }\n",
       "\n",
       "    .dataframe tbody tr th {\n",
       "        vertical-align: top;\n",
       "    }\n",
       "\n",
       "    .dataframe thead th {\n",
       "        text-align: right;\n",
       "    }\n",
       "</style>\n",
       "<table border=\"1\" class=\"dataframe\">\n",
       "  <thead>\n",
       "    <tr style=\"text-align: right;\">\n",
       "      <th></th>\n",
       "      <th>SH6</th>\n",
       "      <th>Instrumento</th>\n",
       "      <th>Tarifa</th>\n",
       "      <th>Vigência</th>\n",
       "      <th>Tarifa Desc</th>\n",
       "      <th>Articles of Civil Aircraft only</th>\n",
       "      <th>2024 - Valor US$ FOB</th>\n",
       "      <th>cnae</th>\n",
       "      <th>denominação CNAE</th>\n",
       "      <th>CO_SH6</th>\n",
       "    </tr>\n",
       "  </thead>\n",
       "  <tbody>\n",
       "    <tr>\n",
       "      <th>57</th>\n",
       "      <td>901210</td>\n",
       "      <td>Ordem 30/07</td>\n",
       "      <td>0.4</td>\n",
       "      <td>Vigente</td>\n",
       "      <td>Tarifa de 10+40%</td>\n",
       "      <td></td>\n",
       "      <td>18608</td>\n",
       "      <td>265</td>\n",
       "      <td>Fabricação de aparelhos e instrumentos de medi...</td>\n",
       "      <td>901210</td>\n",
       "    </tr>\n",
       "    <tr>\n",
       "      <th>58</th>\n",
       "      <td>901290</td>\n",
       "      <td>Ordem 30/07</td>\n",
       "      <td>0.4</td>\n",
       "      <td>Vigente</td>\n",
       "      <td>Tarifa de 10+40%</td>\n",
       "      <td></td>\n",
       "      <td>12075</td>\n",
       "      <td>265</td>\n",
       "      <td>Fabricação de aparelhos e instrumentos de medi...</td>\n",
       "      <td>901290</td>\n",
       "    </tr>\n",
       "    <tr>\n",
       "      <th>378</th>\n",
       "      <td>902410</td>\n",
       "      <td>Ordem 30/07</td>\n",
       "      <td>0.4</td>\n",
       "      <td>Vigente</td>\n",
       "      <td>Tarifa de 10+40%</td>\n",
       "      <td></td>\n",
       "      <td>98458</td>\n",
       "      <td>265</td>\n",
       "      <td>Fabricação de aparelhos e instrumentos de medi...</td>\n",
       "      <td>902410</td>\n",
       "    </tr>\n",
       "    <tr>\n",
       "      <th>379</th>\n",
       "      <td>910211</td>\n",
       "      <td>Ordem 30/07</td>\n",
       "      <td>0.4</td>\n",
       "      <td>Vigente</td>\n",
       "      <td>Tarifa de 10+40%</td>\n",
       "      <td></td>\n",
       "      <td>45140</td>\n",
       "      <td>265</td>\n",
       "      <td>Fabricação de aparelhos e instrumentos de medi...</td>\n",
       "      <td>910211</td>\n",
       "    </tr>\n",
       "    <tr>\n",
       "      <th>380</th>\n",
       "      <td>910212</td>\n",
       "      <td>Ordem 30/07</td>\n",
       "      <td>0.4</td>\n",
       "      <td>Vigente</td>\n",
       "      <td>Tarifa de 10+40%</td>\n",
       "      <td></td>\n",
       "      <td>13644</td>\n",
       "      <td>265</td>\n",
       "      <td>Fabricação de aparelhos e instrumentos de medi...</td>\n",
       "      <td>910212</td>\n",
       "    </tr>\n",
       "    <tr>\n",
       "      <th>...</th>\n",
       "      <td>...</td>\n",
       "      <td>...</td>\n",
       "      <td>...</td>\n",
       "      <td>...</td>\n",
       "      <td>...</td>\n",
       "      <td>...</td>\n",
       "      <td>...</td>\n",
       "      <td>...</td>\n",
       "      <td>...</td>\n",
       "      <td>...</td>\n",
       "    </tr>\n",
       "    <tr>\n",
       "      <th>2538</th>\n",
       "      <td>910700</td>\n",
       "      <td>Ordem 30/07</td>\n",
       "      <td>0.4</td>\n",
       "      <td>Vigente</td>\n",
       "      <td>Tarifa de 10+40%</td>\n",
       "      <td></td>\n",
       "      <td>1164</td>\n",
       "      <td>265</td>\n",
       "      <td>Fabricação de aparelhos e instrumentos de medi...</td>\n",
       "      <td>910700</td>\n",
       "    </tr>\n",
       "    <tr>\n",
       "      <th>2546</th>\n",
       "      <td>903190</td>\n",
       "      <td>Ordem 30/07</td>\n",
       "      <td>0.4</td>\n",
       "      <td>Vigente</td>\n",
       "      <td>Tarifa de 10+40%</td>\n",
       "      <td>*</td>\n",
       "      <td>582108</td>\n",
       "      <td>265</td>\n",
       "      <td>Fabricação de aparelhos e instrumentos de medi...</td>\n",
       "      <td>903190</td>\n",
       "    </tr>\n",
       "    <tr>\n",
       "      <th>2547</th>\n",
       "      <td>903210</td>\n",
       "      <td>Ordem 30/07</td>\n",
       "      <td>0.4</td>\n",
       "      <td>Vigente</td>\n",
       "      <td>Tarifa de 10+40%</td>\n",
       "      <td>*</td>\n",
       "      <td>788622</td>\n",
       "      <td>265</td>\n",
       "      <td>Fabricação de aparelhos e instrumentos de medi...</td>\n",
       "      <td>903210</td>\n",
       "    </tr>\n",
       "    <tr>\n",
       "      <th>2548</th>\n",
       "      <td>903220</td>\n",
       "      <td>Ordem 30/07</td>\n",
       "      <td>0.4</td>\n",
       "      <td>Vigente</td>\n",
       "      <td>Tarifa de 10+40%</td>\n",
       "      <td>*</td>\n",
       "      <td>483106</td>\n",
       "      <td>265</td>\n",
       "      <td>Fabricação de aparelhos e instrumentos de medi...</td>\n",
       "      <td>903220</td>\n",
       "    </tr>\n",
       "    <tr>\n",
       "      <th>2564</th>\n",
       "      <td>901600</td>\n",
       "      <td>Ordem 30/07</td>\n",
       "      <td>0.4</td>\n",
       "      <td>Vigente</td>\n",
       "      <td>Tarifa de 10+40%</td>\n",
       "      <td></td>\n",
       "      <td>3683</td>\n",
       "      <td>265</td>\n",
       "      <td>Fabricação de aparelhos e instrumentos de medi...</td>\n",
       "      <td>901600</td>\n",
       "    </tr>\n",
       "  </tbody>\n",
       "</table>\n",
       "<p>82 rows × 10 columns</p>\n",
       "</div>"
      ],
      "text/plain": [
       "         SH6  Instrumento  Tarifa Vigência       Tarifa Desc  \\\n",
       "57    901210  Ordem 30/07     0.4  Vigente  Tarifa de 10+40%   \n",
       "58    901290  Ordem 30/07     0.4  Vigente  Tarifa de 10+40%   \n",
       "378   902410  Ordem 30/07     0.4  Vigente  Tarifa de 10+40%   \n",
       "379   910211  Ordem 30/07     0.4  Vigente  Tarifa de 10+40%   \n",
       "380   910212  Ordem 30/07     0.4  Vigente  Tarifa de 10+40%   \n",
       "...      ...          ...     ...      ...               ...   \n",
       "2538  910700  Ordem 30/07     0.4  Vigente  Tarifa de 10+40%   \n",
       "2546  903190  Ordem 30/07     0.4  Vigente  Tarifa de 10+40%   \n",
       "2547  903210  Ordem 30/07     0.4  Vigente  Tarifa de 10+40%   \n",
       "2548  903220  Ordem 30/07     0.4  Vigente  Tarifa de 10+40%   \n",
       "2564  901600  Ordem 30/07     0.4  Vigente  Tarifa de 10+40%   \n",
       "\n",
       "     Articles of Civil Aircraft only  2024 - Valor US$ FOB cnae  \\\n",
       "57                                                   18608  265   \n",
       "58                                                   12075  265   \n",
       "378                                                  98458  265   \n",
       "379                                                  45140  265   \n",
       "380                                                  13644  265   \n",
       "...                              ...                   ...  ...   \n",
       "2538                                                  1164  265   \n",
       "2546                               *                582108  265   \n",
       "2547                               *                788622  265   \n",
       "2548                               *                483106  265   \n",
       "2564                                                  3683  265   \n",
       "\n",
       "                                       denominação CNAE  CO_SH6  \n",
       "57    Fabricação de aparelhos e instrumentos de medi...  901210  \n",
       "58    Fabricação de aparelhos e instrumentos de medi...  901290  \n",
       "378   Fabricação de aparelhos e instrumentos de medi...  902410  \n",
       "379   Fabricação de aparelhos e instrumentos de medi...  910211  \n",
       "380   Fabricação de aparelhos e instrumentos de medi...  910212  \n",
       "...                                                 ...     ...  \n",
       "2538  Fabricação de aparelhos e instrumentos de medi...  910700  \n",
       "2546  Fabricação de aparelhos e instrumentos de medi...  903190  \n",
       "2547  Fabricação de aparelhos e instrumentos de medi...  903210  \n",
       "2548  Fabricação de aparelhos e instrumentos de medi...  903220  \n",
       "2564  Fabricação de aparelhos e instrumentos de medi...  901600  \n",
       "\n",
       "[82 rows x 10 columns]"
      ]
     },
     "execution_count": 77,
     "metadata": {},
     "output_type": "execute_result"
    }
   ],
   "source": [
    "exportacoes_usa_2024_isic.query('cnae == \"265\"')"
   ]
  },
  {
   "cell_type": "code",
   "execution_count": 78,
   "id": "816ff7d2",
   "metadata": {},
   "outputs": [],
   "source": [
    "exportacoes_usa_2024_isic_agrupado = exportacoes_usa_2024_isic.groupby(['Instrumento','Tarifa Desc','Tarifa','Vigência','cnae','denominação CNAE','Articles of Civil Aircraft only'])[['2024 - Valor US$ FOB']].sum().reset_index()"
   ]
  },
  {
   "cell_type": "code",
   "execution_count": 79,
   "id": "065b153b",
   "metadata": {},
   "outputs": [],
   "source": [
    "exportacoes_usa_2024_isic_agrupado.to_excel('./Outputs/final/exportacoes_usa_2024_isic_agrupado.xlsx', index=False)"
   ]
  },
  {
   "cell_type": "code",
   "execution_count": 80,
   "id": "acbedbaf",
   "metadata": {},
   "outputs": [
    {
     "data": {
      "application/vnd.microsoft.datawrangler.viewer.v0+json": {
       "columns": [
        {
         "name": "index",
         "rawType": "int64",
         "type": "integer"
        },
        {
         "name": "Instrumento",
         "rawType": "object",
         "type": "string"
        },
        {
         "name": "Tarifa Desc",
         "rawType": "object",
         "type": "string"
        },
        {
         "name": "Tarifa",
         "rawType": "float64",
         "type": "float"
        },
        {
         "name": "Vigência",
         "rawType": "object",
         "type": "string"
        },
        {
         "name": "cnae",
         "rawType": "object",
         "type": "string"
        },
        {
         "name": "denominação CNAE",
         "rawType": "object",
         "type": "string"
        },
        {
         "name": "Articles of Civil Aircraft only",
         "rawType": "object",
         "type": "string"
        },
        {
         "name": "2024 - Valor US$ FOB",
         "rawType": "int64",
         "type": "integer"
        }
       ],
       "ref": "1369cf86-e8e4-4d8c-901c-c0bca8756c3f",
       "rows": [
        [
         "0",
         "Ordem 30/07",
         "Tarifa de 10+40%",
         "0.4",
         "Vigente",
         "01",
         "Agricultura, pecuária e serviços relacionados",
         "",
         "2160136481"
        ],
        [
         "1",
         "Ordem 30/07",
         "Tarifa de 10+40%",
         "0.4",
         "Vigente",
         "014",
         "Produção de sementes e mudas certificadas",
         "",
         "2579602"
        ]
       ],
       "shape": {
        "columns": 8,
        "rows": 2
       }
      },
      "text/html": [
       "<div>\n",
       "<style scoped>\n",
       "    .dataframe tbody tr th:only-of-type {\n",
       "        vertical-align: middle;\n",
       "    }\n",
       "\n",
       "    .dataframe tbody tr th {\n",
       "        vertical-align: top;\n",
       "    }\n",
       "\n",
       "    .dataframe thead th {\n",
       "        text-align: right;\n",
       "    }\n",
       "</style>\n",
       "<table border=\"1\" class=\"dataframe\">\n",
       "  <thead>\n",
       "    <tr style=\"text-align: right;\">\n",
       "      <th></th>\n",
       "      <th>Instrumento</th>\n",
       "      <th>Tarifa Desc</th>\n",
       "      <th>Tarifa</th>\n",
       "      <th>Vigência</th>\n",
       "      <th>cnae</th>\n",
       "      <th>denominação CNAE</th>\n",
       "      <th>Articles of Civil Aircraft only</th>\n",
       "      <th>2024 - Valor US$ FOB</th>\n",
       "    </tr>\n",
       "  </thead>\n",
       "  <tbody>\n",
       "    <tr>\n",
       "      <th>0</th>\n",
       "      <td>Ordem 30/07</td>\n",
       "      <td>Tarifa de 10+40%</td>\n",
       "      <td>0.4</td>\n",
       "      <td>Vigente</td>\n",
       "      <td>01</td>\n",
       "      <td>Agricultura, pecuária e serviços relacionados</td>\n",
       "      <td></td>\n",
       "      <td>2160136481</td>\n",
       "    </tr>\n",
       "    <tr>\n",
       "      <th>1</th>\n",
       "      <td>Ordem 30/07</td>\n",
       "      <td>Tarifa de 10+40%</td>\n",
       "      <td>0.4</td>\n",
       "      <td>Vigente</td>\n",
       "      <td>014</td>\n",
       "      <td>Produção de sementes e mudas certificadas</td>\n",
       "      <td></td>\n",
       "      <td>2579602</td>\n",
       "    </tr>\n",
       "  </tbody>\n",
       "</table>\n",
       "</div>"
      ],
      "text/plain": [
       "   Instrumento       Tarifa Desc  Tarifa Vigência cnae  \\\n",
       "0  Ordem 30/07  Tarifa de 10+40%     0.4  Vigente   01   \n",
       "1  Ordem 30/07  Tarifa de 10+40%     0.4  Vigente  014   \n",
       "\n",
       "                                denominação CNAE  \\\n",
       "0  Agricultura, pecuária e serviços relacionados   \n",
       "1      Produção de sementes e mudas certificadas   \n",
       "\n",
       "  Articles of Civil Aircraft only  2024 - Valor US$ FOB  \n",
       "0                                            2160136481  \n",
       "1                                               2579602  "
      ]
     },
     "execution_count": 80,
     "metadata": {},
     "output_type": "execute_result"
    }
   ],
   "source": [
    "exportacoes_usa_2024_isic_agrupado.head(2)"
   ]
  },
  {
   "cell_type": "code",
   "execution_count": 113,
   "id": "31d6601a",
   "metadata": {},
   "outputs": [],
   "source": [
    "exportacoes_usa_2024_isic_agrupado['Fob Tarifado'] = exportacoes_usa_2024_isic_agrupado['2024 - Valor US$ FOB'] * ( exportacoes_usa_2024_isic_agrupado['Tarifa'])"
   ]
  },
  {
   "cell_type": "code",
   "execution_count": 117,
   "id": "2d6d789b",
   "metadata": {},
   "outputs": [],
   "source": [
    "#Criar uma outra coluna que aplica a tarifa ao valor FOB apenas nos casos em que a tarifa de 10% se Articles of Civil Aircraft only seja igual \"*\"\n",
    "exportacoes_usa_2024_isic_agrupado['Fob Tarifado Aviação'] = exportacoes_usa_2024_isic_agrupado['2024 - Valor US$ FOB'] * ( 0 * (exportacoes_usa_2024_isic_agrupado['Articles of Civil Aircraft only'] == '*').astype(int))\n"
   ]
  },
  {
   "cell_type": "code",
   "execution_count": 118,
   "id": "512b10d3",
   "metadata": {},
   "outputs": [],
   "source": [
    "exportacoes_usa_2024_isic_agrupado = exportacoes_usa_2024_isic_agrupado.query('Instrumento != \"Exclusão Ordem 30/07\"')"
   ]
  },
  {
   "cell_type": "code",
   "execution_count": 119,
   "id": "342d1e3d",
   "metadata": {},
   "outputs": [
    {
     "data": {
      "application/vnd.microsoft.datawrangler.viewer.v0+json": {
       "columns": [
        {
         "name": "index",
         "rawType": "int64",
         "type": "integer"
        },
        {
         "name": "Instrumento",
         "rawType": "object",
         "type": "string"
        },
        {
         "name": "Tarifa Desc",
         "rawType": "object",
         "type": "string"
        },
        {
         "name": "Tarifa",
         "rawType": "float64",
         "type": "float"
        },
        {
         "name": "Vigência",
         "rawType": "object",
         "type": "string"
        },
        {
         "name": "cnae",
         "rawType": "object",
         "type": "string"
        },
        {
         "name": "denominação CNAE",
         "rawType": "object",
         "type": "string"
        },
        {
         "name": "Articles of Civil Aircraft only",
         "rawType": "object",
         "type": "string"
        },
        {
         "name": "2024 - Valor US$ FOB",
         "rawType": "int64",
         "type": "integer"
        },
        {
         "name": "Fob Tarifado",
         "rawType": "float64",
         "type": "float"
        },
        {
         "name": "Fob Tarifado Aviação",
         "rawType": "int64",
         "type": "integer"
        }
       ],
       "ref": "fa56cc11-ac6b-44ef-b524-8546e0cfe8cc",
       "rows": [
        [
         "0",
         "Ordem 30/07",
         "Tarifa de 10+40%",
         "0.4",
         "Vigente",
         "01",
         "Agricultura, pecuária e serviços relacionados",
         "",
         "2160136481",
         "864054592.4000001",
         "0"
        ],
        [
         "1",
         "Ordem 30/07",
         "Tarifa de 10+40%",
         "0.4",
         "Vigente",
         "014",
         "Produção de sementes e mudas certificadas",
         "",
         "2579602",
         "1031840.8",
         "0"
        ]
       ],
       "shape": {
        "columns": 10,
        "rows": 2
       }
      },
      "text/html": [
       "<div>\n",
       "<style scoped>\n",
       "    .dataframe tbody tr th:only-of-type {\n",
       "        vertical-align: middle;\n",
       "    }\n",
       "\n",
       "    .dataframe tbody tr th {\n",
       "        vertical-align: top;\n",
       "    }\n",
       "\n",
       "    .dataframe thead th {\n",
       "        text-align: right;\n",
       "    }\n",
       "</style>\n",
       "<table border=\"1\" class=\"dataframe\">\n",
       "  <thead>\n",
       "    <tr style=\"text-align: right;\">\n",
       "      <th></th>\n",
       "      <th>Instrumento</th>\n",
       "      <th>Tarifa Desc</th>\n",
       "      <th>Tarifa</th>\n",
       "      <th>Vigência</th>\n",
       "      <th>cnae</th>\n",
       "      <th>denominação CNAE</th>\n",
       "      <th>Articles of Civil Aircraft only</th>\n",
       "      <th>2024 - Valor US$ FOB</th>\n",
       "      <th>Fob Tarifado</th>\n",
       "      <th>Fob Tarifado Aviação</th>\n",
       "    </tr>\n",
       "  </thead>\n",
       "  <tbody>\n",
       "    <tr>\n",
       "      <th>0</th>\n",
       "      <td>Ordem 30/07</td>\n",
       "      <td>Tarifa de 10+40%</td>\n",
       "      <td>0.4</td>\n",
       "      <td>Vigente</td>\n",
       "      <td>01</td>\n",
       "      <td>Agricultura, pecuária e serviços relacionados</td>\n",
       "      <td></td>\n",
       "      <td>2160136481</td>\n",
       "      <td>864054592.4</td>\n",
       "      <td>0</td>\n",
       "    </tr>\n",
       "    <tr>\n",
       "      <th>1</th>\n",
       "      <td>Ordem 30/07</td>\n",
       "      <td>Tarifa de 10+40%</td>\n",
       "      <td>0.4</td>\n",
       "      <td>Vigente</td>\n",
       "      <td>014</td>\n",
       "      <td>Produção de sementes e mudas certificadas</td>\n",
       "      <td></td>\n",
       "      <td>2579602</td>\n",
       "      <td>1031840.8</td>\n",
       "      <td>0</td>\n",
       "    </tr>\n",
       "  </tbody>\n",
       "</table>\n",
       "</div>"
      ],
      "text/plain": [
       "   Instrumento       Tarifa Desc  Tarifa Vigência cnae  \\\n",
       "0  Ordem 30/07  Tarifa de 10+40%     0.4  Vigente   01   \n",
       "1  Ordem 30/07  Tarifa de 10+40%     0.4  Vigente  014   \n",
       "\n",
       "                                denominação CNAE  \\\n",
       "0  Agricultura, pecuária e serviços relacionados   \n",
       "1      Produção de sementes e mudas certificadas   \n",
       "\n",
       "  Articles of Civil Aircraft only  2024 - Valor US$ FOB  Fob Tarifado  \\\n",
       "0                                            2160136481   864054592.4   \n",
       "1                                               2579602     1031840.8   \n",
       "\n",
       "   Fob Tarifado Aviação  \n",
       "0                     0  \n",
       "1                     0  "
      ]
     },
     "execution_count": 119,
     "metadata": {},
     "output_type": "execute_result"
    }
   ],
   "source": [
    "exportacoes_usa_2024_isic_agrupado.head(2)"
   ]
  },
  {
   "cell_type": "code",
   "execution_count": 120,
   "id": "301727e4",
   "metadata": {},
   "outputs": [],
   "source": [
    "exportacoes_usa_2024_isic_agrupado_aviacao = exportacoes_usa_2024_isic_agrupado.query('`Articles of Civil Aircraft only` == \"*\"')\n",
    "exportacoes_usa_2024_isic_agrupado_todos = exportacoes_usa_2024_isic_agrupado.copy()"
   ]
  },
  {
   "cell_type": "code",
   "execution_count": 121,
   "id": "d0c1c4b9",
   "metadata": {},
   "outputs": [],
   "source": [
    "exportacoes_usa_2024_isic_agrupado_todos = exportacoes_usa_2024_isic_agrupado_todos.groupby(['cnae','denominação CNAE'])[['2024 - Valor US$ FOB','Fob Tarifado']].sum().reset_index()\n",
    "exportacoes_usa_2024_isic_agrupado_aviacao = exportacoes_usa_2024_isic_agrupado_aviacao.groupby(['cnae','denominação CNAE'])[['2024 - Valor US$ FOB','Fob Tarifado Aviação']].sum().reset_index()"
   ]
  },
  {
   "cell_type": "code",
   "execution_count": 122,
   "id": "29c2b259",
   "metadata": {},
   "outputs": [
    {
     "data": {
      "application/vnd.microsoft.datawrangler.viewer.v0+json": {
       "columns": [
        {
         "name": "index",
         "rawType": "int64",
         "type": "integer"
        },
        {
         "name": "cnae",
         "rawType": "object",
         "type": "string"
        },
        {
         "name": "denominação CNAE",
         "rawType": "object",
         "type": "string"
        },
        {
         "name": "2024 - Valor US$ FOB",
         "rawType": "int64",
         "type": "integer"
        },
        {
         "name": "Fob Tarifado",
         "rawType": "float64",
         "type": "float"
        }
       ],
       "ref": "ce232915-0d94-42d3-8d68-4d595af75e41",
       "rows": [
        [
         "0",
         "01",
         "Agricultura, pecuária e serviços relacionados",
         "2160136481",
         "864054592.4000001"
        ],
        [
         "1",
         "014",
         "Produção de sementes e mudas certificadas",
         "2579602",
         "1031840.8"
        ]
       ],
       "shape": {
        "columns": 4,
        "rows": 2
       }
      },
      "text/html": [
       "<div>\n",
       "<style scoped>\n",
       "    .dataframe tbody tr th:only-of-type {\n",
       "        vertical-align: middle;\n",
       "    }\n",
       "\n",
       "    .dataframe tbody tr th {\n",
       "        vertical-align: top;\n",
       "    }\n",
       "\n",
       "    .dataframe thead th {\n",
       "        text-align: right;\n",
       "    }\n",
       "</style>\n",
       "<table border=\"1\" class=\"dataframe\">\n",
       "  <thead>\n",
       "    <tr style=\"text-align: right;\">\n",
       "      <th></th>\n",
       "      <th>cnae</th>\n",
       "      <th>denominação CNAE</th>\n",
       "      <th>2024 - Valor US$ FOB</th>\n",
       "      <th>Fob Tarifado</th>\n",
       "    </tr>\n",
       "  </thead>\n",
       "  <tbody>\n",
       "    <tr>\n",
       "      <th>0</th>\n",
       "      <td>01</td>\n",
       "      <td>Agricultura, pecuária e serviços relacionados</td>\n",
       "      <td>2160136481</td>\n",
       "      <td>864054592.4</td>\n",
       "    </tr>\n",
       "    <tr>\n",
       "      <th>1</th>\n",
       "      <td>014</td>\n",
       "      <td>Produção de sementes e mudas certificadas</td>\n",
       "      <td>2579602</td>\n",
       "      <td>1031840.8</td>\n",
       "    </tr>\n",
       "  </tbody>\n",
       "</table>\n",
       "</div>"
      ],
      "text/plain": [
       "  cnae                               denominação CNAE  2024 - Valor US$ FOB  \\\n",
       "0   01  Agricultura, pecuária e serviços relacionados            2160136481   \n",
       "1  014      Produção de sementes e mudas certificadas               2579602   \n",
       "\n",
       "   Fob Tarifado  \n",
       "0   864054592.4  \n",
       "1     1031840.8  "
      ]
     },
     "execution_count": 122,
     "metadata": {},
     "output_type": "execute_result"
    }
   ],
   "source": [
    "exportacoes_usa_2024_isic_agrupado_todos.head(2)"
   ]
  },
  {
   "cell_type": "code",
   "execution_count": 123,
   "id": "c0e6c5f2",
   "metadata": {},
   "outputs": [
    {
     "data": {
      "application/vnd.microsoft.datawrangler.viewer.v0+json": {
       "columns": [
        {
         "name": "index",
         "rawType": "int64",
         "type": "integer"
        },
        {
         "name": "cnae",
         "rawType": "object",
         "type": "string"
        },
        {
         "name": "denominação CNAE",
         "rawType": "object",
         "type": "string"
        },
        {
         "name": "2024 - Valor US$ FOB",
         "rawType": "int64",
         "type": "integer"
        },
        {
         "name": "Fob Tarifado Aviação",
         "rawType": "int64",
         "type": "integer"
        }
       ],
       "ref": "8aa2278b-7d3d-4610-8b54-7fa852eb5712",
       "rows": [
        [
         "21",
         "304",
         "Fabricação de aeronaves",
         "3006282021",
         "0"
        ]
       ],
       "shape": {
        "columns": 4,
        "rows": 1
       }
      },
      "text/html": [
       "<div>\n",
       "<style scoped>\n",
       "    .dataframe tbody tr th:only-of-type {\n",
       "        vertical-align: middle;\n",
       "    }\n",
       "\n",
       "    .dataframe tbody tr th {\n",
       "        vertical-align: top;\n",
       "    }\n",
       "\n",
       "    .dataframe thead th {\n",
       "        text-align: right;\n",
       "    }\n",
       "</style>\n",
       "<table border=\"1\" class=\"dataframe\">\n",
       "  <thead>\n",
       "    <tr style=\"text-align: right;\">\n",
       "      <th></th>\n",
       "      <th>cnae</th>\n",
       "      <th>denominação CNAE</th>\n",
       "      <th>2024 - Valor US$ FOB</th>\n",
       "      <th>Fob Tarifado Aviação</th>\n",
       "    </tr>\n",
       "  </thead>\n",
       "  <tbody>\n",
       "    <tr>\n",
       "      <th>21</th>\n",
       "      <td>304</td>\n",
       "      <td>Fabricação de aeronaves</td>\n",
       "      <td>3006282021</td>\n",
       "      <td>0</td>\n",
       "    </tr>\n",
       "  </tbody>\n",
       "</table>\n",
       "</div>"
      ],
      "text/plain": [
       "   cnae         denominação CNAE  2024 - Valor US$ FOB  Fob Tarifado Aviação\n",
       "21  304  Fabricação de aeronaves            3006282021                     0"
      ]
     },
     "execution_count": 123,
     "metadata": {},
     "output_type": "execute_result"
    }
   ],
   "source": [
    "exportacoes_usa_2024_isic_agrupado_aviacao.query('cnae==\"304\"')"
   ]
  },
  {
   "cell_type": "code",
   "execution_count": 124,
   "id": "9d44d73b",
   "metadata": {},
   "outputs": [],
   "source": [
    "agregacao_final = exportacoes_usa_2024_isic_agrupado_todos.merge(exportacoes_usa_2024_isic_agrupado_aviacao.rename(columns={'2024 - Valor US$ FOB' : 'FOB Potencial aviação'}),on=['cnae','denominação CNAE'],how='left')"
   ]
  },
  {
   "cell_type": "code",
   "execution_count": 125,
   "id": "bb89f04d",
   "metadata": {},
   "outputs": [
    {
     "data": {
      "application/vnd.microsoft.datawrangler.viewer.v0+json": {
       "columns": [
        {
         "name": "index",
         "rawType": "int64",
         "type": "integer"
        },
        {
         "name": "cnae",
         "rawType": "object",
         "type": "string"
        },
        {
         "name": "denominação CNAE",
         "rawType": "object",
         "type": "string"
        },
        {
         "name": "2024 - Valor US$ FOB",
         "rawType": "int64",
         "type": "integer"
        },
        {
         "name": "Fob Tarifado",
         "rawType": "float64",
         "type": "float"
        },
        {
         "name": "FOB Potencial aviação",
         "rawType": "float64",
         "type": "float"
        },
        {
         "name": "Fob Tarifado Aviação",
         "rawType": "float64",
         "type": "float"
        }
       ],
       "ref": "aba5e3f5-9ab6-43da-8e0d-5578b8a857b3",
       "rows": [
        [
         "0",
         "01",
         "Agricultura, pecuária e serviços relacionados",
         "2160136481",
         "864054592.4000001",
         null,
         null
        ],
        [
         "1",
         "014",
         "Produção de sementes e mudas certificadas",
         "2579602",
         "1031840.8",
         null,
         null
        ]
       ],
       "shape": {
        "columns": 6,
        "rows": 2
       }
      },
      "text/html": [
       "<div>\n",
       "<style scoped>\n",
       "    .dataframe tbody tr th:only-of-type {\n",
       "        vertical-align: middle;\n",
       "    }\n",
       "\n",
       "    .dataframe tbody tr th {\n",
       "        vertical-align: top;\n",
       "    }\n",
       "\n",
       "    .dataframe thead th {\n",
       "        text-align: right;\n",
       "    }\n",
       "</style>\n",
       "<table border=\"1\" class=\"dataframe\">\n",
       "  <thead>\n",
       "    <tr style=\"text-align: right;\">\n",
       "      <th></th>\n",
       "      <th>cnae</th>\n",
       "      <th>denominação CNAE</th>\n",
       "      <th>2024 - Valor US$ FOB</th>\n",
       "      <th>Fob Tarifado</th>\n",
       "      <th>FOB Potencial aviação</th>\n",
       "      <th>Fob Tarifado Aviação</th>\n",
       "    </tr>\n",
       "  </thead>\n",
       "  <tbody>\n",
       "    <tr>\n",
       "      <th>0</th>\n",
       "      <td>01</td>\n",
       "      <td>Agricultura, pecuária e serviços relacionados</td>\n",
       "      <td>2160136481</td>\n",
       "      <td>864054592.4</td>\n",
       "      <td>NaN</td>\n",
       "      <td>NaN</td>\n",
       "    </tr>\n",
       "    <tr>\n",
       "      <th>1</th>\n",
       "      <td>014</td>\n",
       "      <td>Produção de sementes e mudas certificadas</td>\n",
       "      <td>2579602</td>\n",
       "      <td>1031840.8</td>\n",
       "      <td>NaN</td>\n",
       "      <td>NaN</td>\n",
       "    </tr>\n",
       "  </tbody>\n",
       "</table>\n",
       "</div>"
      ],
      "text/plain": [
       "  cnae                               denominação CNAE  2024 - Valor US$ FOB  \\\n",
       "0   01  Agricultura, pecuária e serviços relacionados            2160136481   \n",
       "1  014      Produção de sementes e mudas certificadas               2579602   \n",
       "\n",
       "   Fob Tarifado  FOB Potencial aviação  Fob Tarifado Aviação  \n",
       "0   864054592.4                    NaN                   NaN  \n",
       "1     1031840.8                    NaN                   NaN  "
      ]
     },
     "execution_count": 125,
     "metadata": {},
     "output_type": "execute_result"
    }
   ],
   "source": [
    "agregacao_final.head(2)"
   ]
  },
  {
   "cell_type": "code",
   "execution_count": 126,
   "id": "73589759",
   "metadata": {},
   "outputs": [],
   "source": [
    "agregacao_final = agregacao_final.fillna(0.0)"
   ]
  },
  {
   "cell_type": "code",
   "execution_count": 127,
   "id": "f50ce7fa",
   "metadata": {},
   "outputs": [],
   "source": [
    "agregacao_final['proporcao'] = agregacao_final['FOB Potencial aviação']/agregacao_final['2024 - Valor US$ FOB']"
   ]
  },
  {
   "cell_type": "code",
   "execution_count": 78,
   "id": "cf122004",
   "metadata": {},
   "outputs": [
    {
     "data": {
      "text/plain": [
       "Index(['cnae', 'denominação CNAE', '2024 - Valor US$ FOB', 'Fob Tarifado',\n",
       "       'FOB Potencial aviação', 'Fob Tarifado Aviação', 'proporcao'],\n",
       "      dtype='object')"
      ]
     },
     "execution_count": 78,
     "metadata": {},
     "output_type": "execute_result"
    }
   ],
   "source": [
    "agregacao_final.columns"
   ]
  },
  {
   "cell_type": "code",
   "execution_count": 129,
   "id": "5fc9c751",
   "metadata": {},
   "outputs": [
    {
     "data": {
      "application/vnd.microsoft.datawrangler.viewer.v0+json": {
       "columns": [
        {
         "name": "index",
         "rawType": "int64",
         "type": "integer"
        },
        {
         "name": "cnae",
         "rawType": "object",
         "type": "string"
        },
        {
         "name": "denominação CNAE",
         "rawType": "object",
         "type": "string"
        },
        {
         "name": "2024 - Valor US$ FOB",
         "rawType": "int64",
         "type": "integer"
        },
        {
         "name": "Fob Tarifado",
         "rawType": "float64",
         "type": "float"
        },
        {
         "name": "FOB Potencial aviação",
         "rawType": "float64",
         "type": "float"
        },
        {
         "name": "Fob Tarifado Aviação",
         "rawType": "float64",
         "type": "float"
        },
        {
         "name": "proporcao",
         "rawType": "float64",
         "type": "float"
        }
       ],
       "ref": "4ac9afbd-2e95-4cda-90d7-1f4a1618a8b6",
       "rows": [
        [
         "0",
         "01",
         "Agricultura, pecuária e serviços relacionados",
         "2160136481",
         "864054592.4000001",
         "0.0",
         "0.0",
         "0.0"
        ],
        [
         "1",
         "014",
         "Produção de sementes e mudas certificadas",
         "2579602",
         "1031840.8",
         "0.0",
         "0.0",
         "0.0"
        ]
       ],
       "shape": {
        "columns": 7,
        "rows": 2
       }
      },
      "text/html": [
       "<div>\n",
       "<style scoped>\n",
       "    .dataframe tbody tr th:only-of-type {\n",
       "        vertical-align: middle;\n",
       "    }\n",
       "\n",
       "    .dataframe tbody tr th {\n",
       "        vertical-align: top;\n",
       "    }\n",
       "\n",
       "    .dataframe thead th {\n",
       "        text-align: right;\n",
       "    }\n",
       "</style>\n",
       "<table border=\"1\" class=\"dataframe\">\n",
       "  <thead>\n",
       "    <tr style=\"text-align: right;\">\n",
       "      <th></th>\n",
       "      <th>cnae</th>\n",
       "      <th>denominação CNAE</th>\n",
       "      <th>2024 - Valor US$ FOB</th>\n",
       "      <th>Fob Tarifado</th>\n",
       "      <th>FOB Potencial aviação</th>\n",
       "      <th>Fob Tarifado Aviação</th>\n",
       "      <th>proporcao</th>\n",
       "    </tr>\n",
       "  </thead>\n",
       "  <tbody>\n",
       "    <tr>\n",
       "      <th>0</th>\n",
       "      <td>01</td>\n",
       "      <td>Agricultura, pecuária e serviços relacionados</td>\n",
       "      <td>2160136481</td>\n",
       "      <td>864054592.4</td>\n",
       "      <td>0.0</td>\n",
       "      <td>0.0</td>\n",
       "      <td>0.0</td>\n",
       "    </tr>\n",
       "    <tr>\n",
       "      <th>1</th>\n",
       "      <td>014</td>\n",
       "      <td>Produção de sementes e mudas certificadas</td>\n",
       "      <td>2579602</td>\n",
       "      <td>1031840.8</td>\n",
       "      <td>0.0</td>\n",
       "      <td>0.0</td>\n",
       "      <td>0.0</td>\n",
       "    </tr>\n",
       "  </tbody>\n",
       "</table>\n",
       "</div>"
      ],
      "text/plain": [
       "  cnae                               denominação CNAE  2024 - Valor US$ FOB  \\\n",
       "0   01  Agricultura, pecuária e serviços relacionados            2160136481   \n",
       "1  014      Produção de sementes e mudas certificadas               2579602   \n",
       "\n",
       "   Fob Tarifado  FOB Potencial aviação  Fob Tarifado Aviação  proporcao  \n",
       "0   864054592.4                    0.0                   0.0        0.0  \n",
       "1     1031840.8                    0.0                   0.0        0.0  "
      ]
     },
     "execution_count": 129,
     "metadata": {},
     "output_type": "execute_result"
    }
   ],
   "source": [
    "agregacao_final.head(2)"
   ]
  },
  {
   "cell_type": "code",
   "execution_count": 128,
   "id": "1d9efdcd",
   "metadata": {},
   "outputs": [
    {
     "data": {
      "application/vnd.microsoft.datawrangler.viewer.v0+json": {
       "columns": [
        {
         "name": "index",
         "rawType": "int64",
         "type": "integer"
        },
        {
         "name": "cnae",
         "rawType": "object",
         "type": "string"
        },
        {
         "name": "denominação CNAE",
         "rawType": "object",
         "type": "string"
        },
        {
         "name": "2024 - Valor US$ FOB",
         "rawType": "int64",
         "type": "integer"
        },
        {
         "name": "Fob Tarifado",
         "rawType": "float64",
         "type": "float"
        },
        {
         "name": "FOB Potencial aviação",
         "rawType": "float64",
         "type": "float"
        },
        {
         "name": "Fob Tarifado Aviação",
         "rawType": "float64",
         "type": "float"
        },
        {
         "name": "proporcao",
         "rawType": "float64",
         "type": "float"
        }
       ],
       "ref": "964e4dc5-194e-411e-9a98-46362a72843e",
       "rows": [
        [
         "58",
         "304",
         "Fabricação de aeronaves",
         "3006282021",
         "1202512808.4",
         "3006282021.0",
         "0.0",
         "1.0"
        ]
       ],
       "shape": {
        "columns": 7,
        "rows": 1
       }
      },
      "text/html": [
       "<div>\n",
       "<style scoped>\n",
       "    .dataframe tbody tr th:only-of-type {\n",
       "        vertical-align: middle;\n",
       "    }\n",
       "\n",
       "    .dataframe tbody tr th {\n",
       "        vertical-align: top;\n",
       "    }\n",
       "\n",
       "    .dataframe thead th {\n",
       "        text-align: right;\n",
       "    }\n",
       "</style>\n",
       "<table border=\"1\" class=\"dataframe\">\n",
       "  <thead>\n",
       "    <tr style=\"text-align: right;\">\n",
       "      <th></th>\n",
       "      <th>cnae</th>\n",
       "      <th>denominação CNAE</th>\n",
       "      <th>2024 - Valor US$ FOB</th>\n",
       "      <th>Fob Tarifado</th>\n",
       "      <th>FOB Potencial aviação</th>\n",
       "      <th>Fob Tarifado Aviação</th>\n",
       "      <th>proporcao</th>\n",
       "    </tr>\n",
       "  </thead>\n",
       "  <tbody>\n",
       "    <tr>\n",
       "      <th>58</th>\n",
       "      <td>304</td>\n",
       "      <td>Fabricação de aeronaves</td>\n",
       "      <td>3006282021</td>\n",
       "      <td>1.202513e+09</td>\n",
       "      <td>3.006282e+09</td>\n",
       "      <td>0.0</td>\n",
       "      <td>1.0</td>\n",
       "    </tr>\n",
       "  </tbody>\n",
       "</table>\n",
       "</div>"
      ],
      "text/plain": [
       "   cnae         denominação CNAE  2024 - Valor US$ FOB  Fob Tarifado  \\\n",
       "58  304  Fabricação de aeronaves            3006282021  1.202513e+09   \n",
       "\n",
       "    FOB Potencial aviação  Fob Tarifado Aviação  proporcao  \n",
       "58           3.006282e+09                   0.0        1.0  "
      ]
     },
     "execution_count": 128,
     "metadata": {},
     "output_type": "execute_result"
    }
   ],
   "source": [
    "agregacao_final.query('cnae == \"304\"')"
   ]
  },
  {
   "cell_type": "code",
   "execution_count": 130,
   "id": "e6a4c510",
   "metadata": {},
   "outputs": [],
   "source": [
    "#Se proporcao for diferente de 0, Tarifa mínima deve ter o valor igual a (proporcao*FOB Potencial aviação)+((1-proporcao)*Fob Tarifado). Caso contrário, o valor é igual a Fob Tarifado \n",
    "\n",
    "import numpy as np\n",
    "\n",
    "# Supondo que o seu DataFrame se chama df\n",
    "agregacao_final['Tarifa mínima'] = np.where(\n",
    "    agregacao_final['proporcao'] != 0,\n",
    "    (agregacao_final['proporcao'] * agregacao_final['Fob Tarifado Aviação']) + ((1 - agregacao_final['proporcao']) * agregacao_final['Fob Tarifado']),\n",
    "    agregacao_final['Fob Tarifado']\n",
    ")\n",
    "\n"
   ]
  },
  {
   "cell_type": "code",
   "execution_count": 131,
   "id": "7282c997",
   "metadata": {},
   "outputs": [],
   "source": [
    "agregacao_final =  agregacao_final.rename(columns={'Fob Tarifado' : 'Tarifa máxima'})"
   ]
  },
  {
   "cell_type": "markdown",
   "id": "50108dbf",
   "metadata": {},
   "source": [
    "### Usar dados de elasticidade de armington"
   ]
  },
  {
   "cell_type": "code",
   "execution_count": 132,
   "id": "79122b11",
   "metadata": {},
   "outputs": [],
   "source": [
    "armington = pd.read_excel('./dados/comex/cnaes vs inverso da elasticidade de armington.xlsx',dtype={'CNAE': str})"
   ]
  },
  {
   "cell_type": "code",
   "execution_count": 133,
   "id": "5b3187d9",
   "metadata": {},
   "outputs": [
    {
     "data": {
      "application/vnd.microsoft.datawrangler.viewer.v0+json": {
       "columns": [
        {
         "name": "index",
         "rawType": "int64",
         "type": "integer"
        },
        {
         "name": "CNAE",
         "rawType": "object",
         "type": "string"
        },
        {
         "name": "dificuldade de realocação",
         "rawType": "object",
         "type": "string"
        }
       ],
       "ref": "0be1227b-a39c-4bca-87e2-ae5929fbe227",
       "rows": [
        [
         "0",
         "01",
         "baixa"
        ],
        [
         "1",
         "014",
         "desconhecida"
        ]
       ],
       "shape": {
        "columns": 2,
        "rows": 2
       }
      },
      "text/html": [
       "<div>\n",
       "<style scoped>\n",
       "    .dataframe tbody tr th:only-of-type {\n",
       "        vertical-align: middle;\n",
       "    }\n",
       "\n",
       "    .dataframe tbody tr th {\n",
       "        vertical-align: top;\n",
       "    }\n",
       "\n",
       "    .dataframe thead th {\n",
       "        text-align: right;\n",
       "    }\n",
       "</style>\n",
       "<table border=\"1\" class=\"dataframe\">\n",
       "  <thead>\n",
       "    <tr style=\"text-align: right;\">\n",
       "      <th></th>\n",
       "      <th>CNAE</th>\n",
       "      <th>dificuldade de realocação</th>\n",
       "    </tr>\n",
       "  </thead>\n",
       "  <tbody>\n",
       "    <tr>\n",
       "      <th>0</th>\n",
       "      <td>01</td>\n",
       "      <td>baixa</td>\n",
       "    </tr>\n",
       "    <tr>\n",
       "      <th>1</th>\n",
       "      <td>014</td>\n",
       "      <td>desconhecida</td>\n",
       "    </tr>\n",
       "  </tbody>\n",
       "</table>\n",
       "</div>"
      ],
      "text/plain": [
       "  CNAE dificuldade de realocação\n",
       "0   01                     baixa\n",
       "1  014              desconhecida"
      ]
     },
     "execution_count": 133,
     "metadata": {},
     "output_type": "execute_result"
    }
   ],
   "source": [
    "armington.head(2)"
   ]
  },
  {
   "cell_type": "code",
   "execution_count": 134,
   "id": "512b79cf",
   "metadata": {},
   "outputs": [
    {
     "data": {
      "text/plain": [
       "(73, 8)"
      ]
     },
     "execution_count": 134,
     "metadata": {},
     "output_type": "execute_result"
    }
   ],
   "source": [
    "agregacao_final.shape"
   ]
  },
  {
   "cell_type": "code",
   "execution_count": 135,
   "id": "946db62c",
   "metadata": {},
   "outputs": [
    {
     "data": {
      "application/vnd.microsoft.datawrangler.viewer.v0+json": {
       "columns": [
        {
         "name": "index",
         "rawType": "int64",
         "type": "integer"
        },
        {
         "name": "cnae",
         "rawType": "object",
         "type": "string"
        },
        {
         "name": "denominação CNAE",
         "rawType": "object",
         "type": "string"
        },
        {
         "name": "2024 - Valor US$ FOB",
         "rawType": "int64",
         "type": "integer"
        },
        {
         "name": "Tarifa máxima",
         "rawType": "float64",
         "type": "float"
        },
        {
         "name": "FOB Potencial aviação",
         "rawType": "float64",
         "type": "float"
        },
        {
         "name": "Fob Tarifado Aviação",
         "rawType": "float64",
         "type": "float"
        },
        {
         "name": "proporcao",
         "rawType": "float64",
         "type": "float"
        },
        {
         "name": "Tarifa mínima",
         "rawType": "float64",
         "type": "float"
        },
        {
         "name": "CNAE",
         "rawType": "object",
         "type": "string"
        },
        {
         "name": "dificuldade de realocação",
         "rawType": "object",
         "type": "string"
        }
       ],
       "ref": "4080627b-bd51-468c-ab36-af3c52798ff8",
       "rows": [
        [
         "0",
         "01",
         "Agricultura, pecuária e serviços relacionados",
         "2160136481",
         "864054592.4000001",
         "0.0",
         "0.0",
         "0.0",
         "864054592.4000001",
         "01",
         "baixa"
        ],
        [
         "1",
         "014",
         "Produção de sementes e mudas certificadas",
         "2579602",
         "1031840.8",
         "0.0",
         "0.0",
         "0.0",
         "1031840.8",
         "014",
         "desconhecida"
        ]
       ],
       "shape": {
        "columns": 10,
        "rows": 2
       }
      },
      "text/html": [
       "<div>\n",
       "<style scoped>\n",
       "    .dataframe tbody tr th:only-of-type {\n",
       "        vertical-align: middle;\n",
       "    }\n",
       "\n",
       "    .dataframe tbody tr th {\n",
       "        vertical-align: top;\n",
       "    }\n",
       "\n",
       "    .dataframe thead th {\n",
       "        text-align: right;\n",
       "    }\n",
       "</style>\n",
       "<table border=\"1\" class=\"dataframe\">\n",
       "  <thead>\n",
       "    <tr style=\"text-align: right;\">\n",
       "      <th></th>\n",
       "      <th>cnae</th>\n",
       "      <th>denominação CNAE</th>\n",
       "      <th>2024 - Valor US$ FOB</th>\n",
       "      <th>Tarifa máxima</th>\n",
       "      <th>FOB Potencial aviação</th>\n",
       "      <th>Fob Tarifado Aviação</th>\n",
       "      <th>proporcao</th>\n",
       "      <th>Tarifa mínima</th>\n",
       "      <th>CNAE</th>\n",
       "      <th>dificuldade de realocação</th>\n",
       "    </tr>\n",
       "  </thead>\n",
       "  <tbody>\n",
       "    <tr>\n",
       "      <th>0</th>\n",
       "      <td>01</td>\n",
       "      <td>Agricultura, pecuária e serviços relacionados</td>\n",
       "      <td>2160136481</td>\n",
       "      <td>864054592.4</td>\n",
       "      <td>0.0</td>\n",
       "      <td>0.0</td>\n",
       "      <td>0.0</td>\n",
       "      <td>864054592.4</td>\n",
       "      <td>01</td>\n",
       "      <td>baixa</td>\n",
       "    </tr>\n",
       "    <tr>\n",
       "      <th>1</th>\n",
       "      <td>014</td>\n",
       "      <td>Produção de sementes e mudas certificadas</td>\n",
       "      <td>2579602</td>\n",
       "      <td>1031840.8</td>\n",
       "      <td>0.0</td>\n",
       "      <td>0.0</td>\n",
       "      <td>0.0</td>\n",
       "      <td>1031840.8</td>\n",
       "      <td>014</td>\n",
       "      <td>desconhecida</td>\n",
       "    </tr>\n",
       "  </tbody>\n",
       "</table>\n",
       "</div>"
      ],
      "text/plain": [
       "  cnae                               denominação CNAE  2024 - Valor US$ FOB  \\\n",
       "0   01  Agricultura, pecuária e serviços relacionados            2160136481   \n",
       "1  014      Produção de sementes e mudas certificadas               2579602   \n",
       "\n",
       "   Tarifa máxima  FOB Potencial aviação  Fob Tarifado Aviação  proporcao  \\\n",
       "0    864054592.4                    0.0                   0.0        0.0   \n",
       "1      1031840.8                    0.0                   0.0        0.0   \n",
       "\n",
       "   Tarifa mínima CNAE dificuldade de realocação  \n",
       "0    864054592.4   01                     baixa  \n",
       "1      1031840.8  014              desconhecida  "
      ]
     },
     "execution_count": 135,
     "metadata": {},
     "output_type": "execute_result"
    }
   ],
   "source": [
    "agregacao_final.merge(armington,left_on='cnae', right_on='CNAE', how='left').head(2)"
   ]
  },
  {
   "cell_type": "code",
   "execution_count": 136,
   "id": "a1834c12",
   "metadata": {},
   "outputs": [
    {
     "data": {
      "application/vnd.microsoft.datawrangler.viewer.v0+json": {
       "columns": [
        {
         "name": "index",
         "rawType": "int64",
         "type": "integer"
        },
        {
         "name": "cnae",
         "rawType": "object",
         "type": "string"
        },
        {
         "name": "denominação CNAE",
         "rawType": "object",
         "type": "string"
        },
        {
         "name": "2024 - Valor US$ FOB",
         "rawType": "int64",
         "type": "integer"
        },
        {
         "name": "Tarifa máxima",
         "rawType": "float64",
         "type": "float"
        },
        {
         "name": "FOB Potencial aviação",
         "rawType": "float64",
         "type": "float"
        },
        {
         "name": "Fob Tarifado Aviação",
         "rawType": "float64",
         "type": "float"
        },
        {
         "name": "proporcao",
         "rawType": "float64",
         "type": "float"
        },
        {
         "name": "Tarifa mínima",
         "rawType": "float64",
         "type": "float"
        }
       ],
       "ref": "a32cfc5d-12ac-4ff1-86e0-bdf5e3b1ac3b",
       "rows": [
        [
         "0",
         "01",
         "Agricultura, pecuária e serviços relacionados",
         "2160136481",
         "864054592.4000001",
         "0.0",
         "0.0",
         "0.0",
         "864054592.4000001"
        ],
        [
         "1",
         "014",
         "Produção de sementes e mudas certificadas",
         "2579602",
         "1031840.8",
         "0.0",
         "0.0",
         "0.0",
         "1031840.8"
        ]
       ],
       "shape": {
        "columns": 8,
        "rows": 2
       }
      },
      "text/html": [
       "<div>\n",
       "<style scoped>\n",
       "    .dataframe tbody tr th:only-of-type {\n",
       "        vertical-align: middle;\n",
       "    }\n",
       "\n",
       "    .dataframe tbody tr th {\n",
       "        vertical-align: top;\n",
       "    }\n",
       "\n",
       "    .dataframe thead th {\n",
       "        text-align: right;\n",
       "    }\n",
       "</style>\n",
       "<table border=\"1\" class=\"dataframe\">\n",
       "  <thead>\n",
       "    <tr style=\"text-align: right;\">\n",
       "      <th></th>\n",
       "      <th>cnae</th>\n",
       "      <th>denominação CNAE</th>\n",
       "      <th>2024 - Valor US$ FOB</th>\n",
       "      <th>Tarifa máxima</th>\n",
       "      <th>FOB Potencial aviação</th>\n",
       "      <th>Fob Tarifado Aviação</th>\n",
       "      <th>proporcao</th>\n",
       "      <th>Tarifa mínima</th>\n",
       "    </tr>\n",
       "  </thead>\n",
       "  <tbody>\n",
       "    <tr>\n",
       "      <th>0</th>\n",
       "      <td>01</td>\n",
       "      <td>Agricultura, pecuária e serviços relacionados</td>\n",
       "      <td>2160136481</td>\n",
       "      <td>864054592.4</td>\n",
       "      <td>0.0</td>\n",
       "      <td>0.0</td>\n",
       "      <td>0.0</td>\n",
       "      <td>864054592.4</td>\n",
       "    </tr>\n",
       "    <tr>\n",
       "      <th>1</th>\n",
       "      <td>014</td>\n",
       "      <td>Produção de sementes e mudas certificadas</td>\n",
       "      <td>2579602</td>\n",
       "      <td>1031840.8</td>\n",
       "      <td>0.0</td>\n",
       "      <td>0.0</td>\n",
       "      <td>0.0</td>\n",
       "      <td>1031840.8</td>\n",
       "    </tr>\n",
       "  </tbody>\n",
       "</table>\n",
       "</div>"
      ],
      "text/plain": [
       "  cnae                               denominação CNAE  2024 - Valor US$ FOB  \\\n",
       "0   01  Agricultura, pecuária e serviços relacionados            2160136481   \n",
       "1  014      Produção de sementes e mudas certificadas               2579602   \n",
       "\n",
       "   Tarifa máxima  FOB Potencial aviação  Fob Tarifado Aviação  proporcao  \\\n",
       "0    864054592.4                    0.0                   0.0        0.0   \n",
       "1      1031840.8                    0.0                   0.0        0.0   \n",
       "\n",
       "   Tarifa mínima  \n",
       "0    864054592.4  \n",
       "1      1031840.8  "
      ]
     },
     "execution_count": 136,
     "metadata": {},
     "output_type": "execute_result"
    }
   ],
   "source": [
    "agregacao_final.head(2)"
   ]
  },
  {
   "cell_type": "code",
   "execution_count": 137,
   "id": "6faae5d3",
   "metadata": {},
   "outputs": [],
   "source": [
    "agregacao_final_armington = agregacao_final.merge(armington,left_on='cnae', right_on='CNAE', how='left').rename(columns={'dificuldade de realocação': 'Dificuldade de realocação'})"
   ]
  },
  {
   "cell_type": "code",
   "execution_count": 138,
   "id": "84fac42a",
   "metadata": {},
   "outputs": [],
   "source": [
    "agregacao_final_armington.drop(['FOB Potencial aviação','Fob Tarifado Aviação','proporcao','CNAE'],axis=1).to_excel('./Outputs/tarifa por setor armington.xlsx',index=False)"
   ]
  },
  {
   "cell_type": "code",
   "execution_count": null,
   "id": "67297b4d",
   "metadata": {},
   "outputs": [],
   "source": []
  },
  {
   "cell_type": "markdown",
   "id": "3abd61d7",
   "metadata": {},
   "source": [
    "## Pedido Ad-hoc"
   ]
  },
  {
   "cell_type": "code",
   "execution_count": null,
   "id": "f4620716",
   "metadata": {},
   "outputs": [],
   "source": [
    "ncm_sh6_tarifas = ncm_sh6.merge(exportacoes_usa_2024[['SH6']], on='SH6', how='inner')\n",
    "#Criar um arquivo excel e, para cada Instrumento de ncm_sh6_tarifas, criar uma aba apenas com os códigos CO_SH6\n",
    "with pd.ExcelWriter('./Outputs/final/lista_SH6_por_tarifa.xlsx') as writer:\n",
    "    for instrumento in ncm_sh6_tarifas['Instrumento'].unique():\n",
    "        #Remover caracteres especiais do nome da aba\n",
    "        instrumento_escape = instrumento.replace('/', '_').replace(' ', '_').replace('(', '').replace(')', '')\n",
    "        ncm_sh6_tarifas.query('Instrumento == @instrumento')[['SH6']].to_excel(writer, sheet_name=instrumento_escape+'SH6', index=False)\n",
    "        lista_sh6 = ncm_sh6_tarifas.query('Instrumento == @instrumento')['SH6'].unique()\n",
    "        ncm.query('CO_SH6 in @lista_sh6')[['CO_NCM']].to_excel(writer, sheet_name=instrumento_escape+' NCM', index=False)\n",
    "\n"
   ]
  }
 ],
 "metadata": {
  "kernelspec": {
   "display_name": "streamlit_mip_base",
   "language": "python",
   "name": "python3"
  },
  "language_info": {
   "codemirror_mode": {
    "name": "ipython",
    "version": 3
   },
   "file_extension": ".py",
   "mimetype": "text/x-python",
   "name": "python",
   "nbconvert_exporter": "python",
   "pygments_lexer": "ipython3",
   "version": "3.13.2"
  }
 },
 "nbformat": 4,
 "nbformat_minor": 5
}
