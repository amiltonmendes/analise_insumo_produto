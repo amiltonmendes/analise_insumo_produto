{
 "cells": [
  {
   "cell_type": "code",
   "execution_count": 1,
   "id": "d2dbc0f1",
   "metadata": {},
   "outputs": [],
   "source": [
    "import requests\n",
    "import pandas as pd\n",
    "\n",
    "import json"
   ]
  },
  {
   "cell_type": "markdown",
   "id": "b81866f3",
   "metadata": {},
   "source": [
    "## Calcular tarifas "
   ]
  },
  {
   "cell_type": "code",
   "execution_count": 181,
   "id": "d3ce9cd7",
   "metadata": {},
   "outputs": [],
   "source": [
    "tarifas_auto = pd.read_excel('./dados/comex/tabela_tarifas_automotivas_hts (1).xlsx', dtype=str)"
   ]
  },
  {
   "cell_type": "code",
   "execution_count": 182,
   "id": "88250c29",
   "metadata": {},
   "outputs": [
    {
     "data": {
      "text/plain": [
       "(51, 5)"
      ]
     },
     "execution_count": 182,
     "metadata": {},
     "output_type": "execute_result"
    }
   ],
   "source": [
    "tarifas_auto.shape"
   ]
  },
  {
   "cell_type": "code",
   "execution_count": 183,
   "id": "876eafca",
   "metadata": {},
   "outputs": [
    {
     "data": {
      "text/html": [
       "<div>\n",
       "<style scoped>\n",
       "    .dataframe tbody tr th:only-of-type {\n",
       "        vertical-align: middle;\n",
       "    }\n",
       "\n",
       "    .dataframe tbody tr th {\n",
       "        vertical-align: top;\n",
       "    }\n",
       "\n",
       "    .dataframe thead th {\n",
       "        text-align: right;\n",
       "    }\n",
       "</style>\n",
       "<table border=\"1\" class=\"dataframe\">\n",
       "  <thead>\n",
       "    <tr style=\"text-align: right;\">\n",
       "      <th></th>\n",
       "      <th>Codigo_HTSUS</th>\n",
       "      <th>Categoria_Tarifaria</th>\n",
       "      <th>Codigo_Tarifa_Especial_Cap99</th>\n",
       "      <th>Aliquota</th>\n",
       "      <th>Condicao</th>\n",
       "    </tr>\n",
       "  </thead>\n",
       "  <tbody>\n",
       "    <tr>\n",
       "      <th>0</th>\n",
       "      <td>8703.22.01</td>\n",
       "      <td>Tarifa Geral</td>\n",
       "      <td>9903.94.01</td>\n",
       "      <td>25% sobre valor total</td>\n",
       "      <td>Padrão para todos os veículos importados.</td>\n",
       "    </tr>\n",
       "    <tr>\n",
       "      <th>1</th>\n",
       "      <td>8703.22.01</td>\n",
       "      <td>Exceção USMCA</td>\n",
       "      <td>9903.94.03</td>\n",
       "      <td>25% sobre conteúdo não-americano</td>\n",
       "      <td>Requer elegibilidade sob o USMCA e aprovação d...</td>\n",
       "    </tr>\n",
       "  </tbody>\n",
       "</table>\n",
       "</div>"
      ],
      "text/plain": [
       "  Codigo_HTSUS Categoria_Tarifaria Codigo_Tarifa_Especial_Cap99  \\\n",
       "0   8703.22.01        Tarifa Geral                   9903.94.01   \n",
       "1   8703.22.01       Exceção USMCA                   9903.94.03   \n",
       "\n",
       "                           Aliquota  \\\n",
       "0             25% sobre valor total   \n",
       "1  25% sobre conteúdo não-americano   \n",
       "\n",
       "                                            Condicao  \n",
       "0          Padrão para todos os veículos importados.  \n",
       "1  Requer elegibilidade sob o USMCA e aprovação d...  "
      ]
     },
     "execution_count": 183,
     "metadata": {},
     "output_type": "execute_result"
    }
   ],
   "source": [
    "tarifas_auto.head(2)"
   ]
  },
  {
   "cell_type": "code",
   "execution_count": 184,
   "id": "2e5741a2",
   "metadata": {},
   "outputs": [],
   "source": [
    "tarifas_auto['SH6'] = tarifas_auto['Codigo_HTSUS'].str.replace('.', '', regex=False).str[0:6]\n",
    "\n",
    "tarifas_auto = tarifas_auto[['SH6', 'Aliquota']].drop_duplicates()"
   ]
  },
  {
   "cell_type": "code",
   "execution_count": 185,
   "id": "d666a76c",
   "metadata": {},
   "outputs": [],
   "source": [
    "tarifas_auto = tarifas_auto[['SH6']].drop_duplicates()"
   ]
  },
  {
   "cell_type": "code",
   "execution_count": 186,
   "id": "d49245c2",
   "metadata": {},
   "outputs": [],
   "source": [
    "tarifas_auto['Instrumento'] = 'Seção 232'\n",
    "tarifas_auto['Tarifa Desc'] = \"10% (base) para veículos antigos ou conteúdo americano a 25%\"\n",
    "tarifas_auto['Tarifa'] = 0.25\n",
    "tarifas_auto['Vigência'] = 'Em análise'\n"
   ]
  },
  {
   "cell_type": "code",
   "execution_count": 212,
   "id": "5cf9cb49",
   "metadata": {},
   "outputs": [],
   "source": [
    "ncm = pd.read_csv('./dados/comex/NCM (2).csv',sep=';',dtype={'CO_SH6': str, 'CO_ISIC_CLASSE': str})\n",
    "\n",
    "ncm_sh6 = ncm[['CO_SH6']].drop_duplicates()\n",
    "ncm_sh6['CO_SH6'] = ncm_sh6['CO_SH6'].str.strip().str.zfill(6)\n",
    "ncm_sh6.rename(columns={'CO_SH6': 'SH6'}, inplace=True)"
   ]
  },
  {
   "cell_type": "code",
   "execution_count": 210,
   "id": "f07c5d59",
   "metadata": {},
   "outputs": [
    {
     "data": {
      "text/html": [
       "<div>\n",
       "<style scoped>\n",
       "    .dataframe tbody tr th:only-of-type {\n",
       "        vertical-align: middle;\n",
       "    }\n",
       "\n",
       "    .dataframe tbody tr th {\n",
       "        vertical-align: top;\n",
       "    }\n",
       "\n",
       "    .dataframe thead th {\n",
       "        text-align: right;\n",
       "    }\n",
       "</style>\n",
       "<table border=\"1\" class=\"dataframe\">\n",
       "  <thead>\n",
       "    <tr style=\"text-align: right;\">\n",
       "      <th></th>\n",
       "      <th>SH6</th>\n",
       "      <th>Instrumento</th>\n",
       "      <th>Tarifa</th>\n",
       "      <th>Vigência</th>\n",
       "    </tr>\n",
       "  </thead>\n",
       "  <tbody>\n",
       "    <tr>\n",
       "      <th>0</th>\n",
       "      <td>080121</td>\n",
       "      <td>Exclusão Ordem 30/07</td>\n",
       "      <td>0.1</td>\n",
       "      <td>Vigente</td>\n",
       "    </tr>\n",
       "    <tr>\n",
       "      <th>1</th>\n",
       "      <td>200830</td>\n",
       "      <td>Exclusão Ordem 30/07</td>\n",
       "      <td>0.1</td>\n",
       "      <td>Vigente</td>\n",
       "    </tr>\n",
       "  </tbody>\n",
       "</table>\n",
       "</div>"
      ],
      "text/plain": [
       "      SH6           Instrumento  Tarifa Vigência\n",
       "0  080121  Exclusão Ordem 30/07     0.1  Vigente\n",
       "1  200830  Exclusão Ordem 30/07     0.1  Vigente"
      ]
     },
     "execution_count": 210,
     "metadata": {},
     "output_type": "execute_result"
    }
   ],
   "source": [
    "harmonized.head(2)"
   ]
  },
  {
   "cell_type": "code",
   "execution_count": 213,
   "id": "2dec742a",
   "metadata": {},
   "outputs": [],
   "source": [
    "\n",
    "\n",
    "harmonized = pd.read_excel('./dados/comex/Harmonized Tariff Schedule of the United States (HTSUS) not covered by the action.xlsx')\n",
    "harmonized['SH6'] = harmonized['HTSUS'].str.replace('.', '', regex=False).str[0:6]\n",
    "harmonized = harmonized.fillna('')\n",
    "\n",
    "harmonized['Instrumento'] = 'Exclusão Ordem 30/07'\n",
    "harmonized['Tarifa Desc'] = 'Adicional de até 10%'\n",
    "harmonized['Tarifa'] = 0.10\n",
    "harmonized['Vigência'] = 'Vigente'\n",
    "\n",
    "lista_aviacao = harmonized[['SH6','Articles of Civil Aircraft only']].query('`Articles of Civil Aircraft only`==\"*\"')\n",
    "harmonized = harmonized.query('`Articles of Civil Aircraft only`!=\"*\"')[['SH6','Instrumento','Tarifa', 'Tarifa Desc','Vigência']].drop_duplicates()\n",
    "\n",
    "lista_aviacao = lista_aviacao.drop_duplicates()\n",
    "\n",
    "aco = pd.read_excel('./dados/comex/NCMs de aço e aluminio afetadas Seçao 232 EUA (2).xlsx',dtype=str).rename(columns={'SH_6' : 'SH6'})[['SH6']].drop_duplicates()\n",
    "\n",
    "aco['Instrumento'] = 'Seção 232'\n",
    "aco['Tarifa Desc'] = \"25% (atual) a 50%\"\n",
    "aco['Tarifa'] = 0.50\n",
    "aco['Vigência'] = 'Em análise'\n",
    "\n",
    "\n",
    "  \n",
    "\n",
    "\n",
    "tarifas = pd.concat([harmonized[['SH6','Instrumento','Tarifa','Vigência','Tarifa Desc']],aco[['SH6','Instrumento','Tarifa','Vigência','Tarifa Desc']],tarifas_auto[['SH6','Instrumento','Tarifa','Vigência','Tarifa Desc']]])#,automoveis[['SH6','Instrumento','Tarifa']]])\n",
    "tarifas = tarifas.drop_duplicates()\n",
    "ncm_sh6 = ncm_sh6.merge(tarifas, on='SH6', how='left')\n",
    "ncm_sh6 = ncm_sh6.merge(lista_aviacao, on='SH6', how='left')\n",
    "ncm_sh6['Articles of Civil Aircraft only'] = ncm_sh6['Articles of Civil Aircraft only'].fillna('')\n",
    "ncm_sh6['Instrumento'] = ncm_sh6['Instrumento'].fillna('Ordem 30/07')\n",
    "ncm_sh6['Tarifa Desc'] = ncm_sh6['Tarifa Desc'].fillna('Tarifa de 10+40%')\n",
    "ncm_sh6['Tarifa'] = ncm_sh6['Tarifa'].fillna(0.5)\n",
    "ncm_sh6['Vigência'] = ncm_sh6['Vigência'].fillna('Vigente')\n"
   ]
  },
  {
   "cell_type": "code",
   "execution_count": 214,
   "id": "d9e8f74f",
   "metadata": {},
   "outputs": [],
   "source": [
    "ncm_sh6.loc[ncm_sh6['SH6'].str.startswith('74'),'Instrumento'] = 'Seção 232'\n",
    "ncm_sh6.loc[ncm_sh6['SH6'].str.startswith('74'),'Tarifa Desc'] = '25% (atual) a 50%'\n",
    "ncm_sh6.loc[ncm_sh6['SH6'].str.startswith('74'),'Tarifa'] = 0.50\n",
    "ncm_sh6.loc[ncm_sh6['SH6'].str.startswith('74'),'Vigência'] = 'Em análise'"
   ]
  },
  {
   "cell_type": "code",
   "execution_count": 215,
   "id": "0adcdbaa",
   "metadata": {},
   "outputs": [
    {
     "data": {
      "text/html": [
       "<div>\n",
       "<style scoped>\n",
       "    .dataframe tbody tr th:only-of-type {\n",
       "        vertical-align: middle;\n",
       "    }\n",
       "\n",
       "    .dataframe tbody tr th {\n",
       "        vertical-align: top;\n",
       "    }\n",
       "\n",
       "    .dataframe thead th {\n",
       "        text-align: right;\n",
       "    }\n",
       "</style>\n",
       "<table border=\"1\" class=\"dataframe\">\n",
       "  <thead>\n",
       "    <tr style=\"text-align: right;\">\n",
       "      <th></th>\n",
       "      <th>SH6</th>\n",
       "      <th>Instrumento</th>\n",
       "      <th>Tarifa</th>\n",
       "      <th>Vigência</th>\n",
       "      <th>Tarifa Desc</th>\n",
       "      <th>Articles of Civil Aircraft only</th>\n",
       "    </tr>\n",
       "  </thead>\n",
       "  <tbody>\n",
       "    <tr>\n",
       "      <th>0</th>\n",
       "      <td>490110</td>\n",
       "      <td>Ordem 30/07</td>\n",
       "      <td>0.5</td>\n",
       "      <td>Vigente</td>\n",
       "      <td>Tarifa de 10+40%</td>\n",
       "      <td></td>\n",
       "    </tr>\n",
       "    <tr>\n",
       "      <th>1</th>\n",
       "      <td>490191</td>\n",
       "      <td>Ordem 30/07</td>\n",
       "      <td>0.5</td>\n",
       "      <td>Vigente</td>\n",
       "      <td>Tarifa de 10+40%</td>\n",
       "      <td></td>\n",
       "    </tr>\n",
       "  </tbody>\n",
       "</table>\n",
       "</div>"
      ],
      "text/plain": [
       "      SH6  Instrumento  Tarifa Vigência       Tarifa Desc  \\\n",
       "0  490110  Ordem 30/07     0.5  Vigente  Tarifa de 10+40%   \n",
       "1  490191  Ordem 30/07     0.5  Vigente  Tarifa de 10+40%   \n",
       "\n",
       "  Articles of Civil Aircraft only  \n",
       "0                                  \n",
       "1                                  "
      ]
     },
     "execution_count": 215,
     "metadata": {},
     "output_type": "execute_result"
    }
   ],
   "source": [
    "ncm_sh6.head(2)"
   ]
  },
  {
   "cell_type": "markdown",
   "id": "0bcd5c6d",
   "metadata": {},
   "source": [
    "## Carregar dados de setores com participação americana na exportação e verificar o total de impostos "
   ]
  },
  {
   "cell_type": "code",
   "execution_count": 216,
   "id": "a41a5e96",
   "metadata": {},
   "outputs": [],
   "source": [
    "exportacoes_pia = pd.read_excel('./Outputs/final/exportacao_pia_intensidade.xlsx',dtype={'cnae' : str,'CO_SH6' : str})"
   ]
  },
  {
   "cell_type": "code",
   "execution_count": 217,
   "id": "690b56be",
   "metadata": {},
   "outputs": [
    {
     "data": {
      "text/plain": [
       "(3222, 10)"
      ]
     },
     "execution_count": 217,
     "metadata": {},
     "output_type": "execute_result"
    }
   ],
   "source": [
    "exportacoes_pia.shape"
   ]
  },
  {
   "cell_type": "code",
   "execution_count": 218,
   "id": "46453c43",
   "metadata": {},
   "outputs": [],
   "source": [
    "exportacoes_pia_tarifas = exportacoes_pia.merge(ncm_sh6.rename(columns={\"SH6\":\"CO_SH6\"}),on='CO_SH6',how='inner')"
   ]
  },
  {
   "cell_type": "code",
   "execution_count": 219,
   "id": "9a7f9fb1",
   "metadata": {},
   "outputs": [
    {
     "data": {
      "text/plain": [
       "(3222, 15)"
      ]
     },
     "execution_count": 219,
     "metadata": {},
     "output_type": "execute_result"
    }
   ],
   "source": [
    "exportacoes_pia_tarifas.shape"
   ]
  },
  {
   "cell_type": "code",
   "execution_count": 220,
   "id": "8916387a",
   "metadata": {},
   "outputs": [
    {
     "data": {
      "text/plain": [
       "array(['Ordem 30/07', 'Seção 232', 'Exclusão Ordem 30/07'], dtype=object)"
      ]
     },
     "execution_count": 220,
     "metadata": {},
     "output_type": "execute_result"
    }
   ],
   "source": [
    "exportacoes_pia_tarifas['Instrumento'].unique()"
   ]
  },
  {
   "cell_type": "code",
   "execution_count": 221,
   "id": "0c4bc692",
   "metadata": {},
   "outputs": [
    {
     "data": {
      "text/html": [
       "<div>\n",
       "<style scoped>\n",
       "    .dataframe tbody tr th:only-of-type {\n",
       "        vertical-align: middle;\n",
       "    }\n",
       "\n",
       "    .dataframe tbody tr th {\n",
       "        vertical-align: top;\n",
       "    }\n",
       "\n",
       "    .dataframe thead th {\n",
       "        text-align: right;\n",
       "    }\n",
       "</style>\n",
       "<table border=\"1\" class=\"dataframe\">\n",
       "  <thead>\n",
       "    <tr style=\"text-align: right;\">\n",
       "      <th></th>\n",
       "      <th>CO_SH6</th>\n",
       "      <th>CO_ISIC_CLASSE</th>\n",
       "      <th>R$ FOB Mundo</th>\n",
       "      <th>R$ FOB USA</th>\n",
       "      <th>participacao_usa</th>\n",
       "      <th>cnae</th>\n",
       "      <th>cnae_descricao</th>\n",
       "      <th>Receita líquida de vendas de produtos e serviços industriais</th>\n",
       "      <th>Total da receita líquida de vendas</th>\n",
       "      <th>Intensidade Tecnológica</th>\n",
       "      <th>Instrumento</th>\n",
       "      <th>Tarifa</th>\n",
       "      <th>Vigência</th>\n",
       "      <th>Tarifa Desc</th>\n",
       "      <th>Articles of Civil Aircraft only</th>\n",
       "    </tr>\n",
       "  </thead>\n",
       "  <tbody>\n",
       "    <tr>\n",
       "      <th>0</th>\n",
       "      <td>521029</td>\n",
       "      <td>1312</td>\n",
       "      <td>421859.13</td>\n",
       "      <td>9055.20</td>\n",
       "      <td>0.021465</td>\n",
       "      <td>13</td>\n",
       "      <td>Fabricação de produtos têxteis</td>\n",
       "      <td>71933723000</td>\n",
       "      <td>74466387000</td>\n",
       "      <td>Média Baixa Intensidade Tecnológica</td>\n",
       "      <td>Ordem 30/07</td>\n",
       "      <td>0.5</td>\n",
       "      <td>Vigente</td>\n",
       "      <td>Tarifa de 10+40%</td>\n",
       "      <td></td>\n",
       "    </tr>\n",
       "    <tr>\n",
       "      <th>1</th>\n",
       "      <td>521032</td>\n",
       "      <td>1312</td>\n",
       "      <td>724739.40</td>\n",
       "      <td>7702.31</td>\n",
       "      <td>0.010628</td>\n",
       "      <td>13</td>\n",
       "      <td>Fabricação de produtos têxteis</td>\n",
       "      <td>71933723000</td>\n",
       "      <td>74466387000</td>\n",
       "      <td>Média Baixa Intensidade Tecnológica</td>\n",
       "      <td>Ordem 30/07</td>\n",
       "      <td>0.5</td>\n",
       "      <td>Vigente</td>\n",
       "      <td>Tarifa de 10+40%</td>\n",
       "      <td></td>\n",
       "    </tr>\n",
       "  </tbody>\n",
       "</table>\n",
       "</div>"
      ],
      "text/plain": [
       "   CO_SH6  CO_ISIC_CLASSE  R$ FOB Mundo  R$ FOB USA  participacao_usa cnae  \\\n",
       "0  521029            1312     421859.13     9055.20          0.021465   13   \n",
       "1  521032            1312     724739.40     7702.31          0.010628   13   \n",
       "\n",
       "                   cnae_descricao  \\\n",
       "0  Fabricação de produtos têxteis   \n",
       "1  Fabricação de produtos têxteis   \n",
       "\n",
       "   Receita líquida de vendas de produtos e serviços industriais  \\\n",
       "0                                        71933723000              \n",
       "1                                        71933723000              \n",
       "\n",
       "   Total da receita líquida de vendas              Intensidade Tecnológica  \\\n",
       "0                         74466387000  Média Baixa Intensidade Tecnológica   \n",
       "1                         74466387000  Média Baixa Intensidade Tecnológica   \n",
       "\n",
       "   Instrumento  Tarifa Vigência       Tarifa Desc  \\\n",
       "0  Ordem 30/07     0.5  Vigente  Tarifa de 10+40%   \n",
       "1  Ordem 30/07     0.5  Vigente  Tarifa de 10+40%   \n",
       "\n",
       "  Articles of Civil Aircraft only  \n",
       "0                                  \n",
       "1                                  "
      ]
     },
     "execution_count": 221,
     "metadata": {},
     "output_type": "execute_result"
    }
   ],
   "source": [
    "exportacoes_pia_tarifas.head(2)"
   ]
  },
  {
   "cell_type": "code",
   "execution_count": 222,
   "id": "e957f830",
   "metadata": {},
   "outputs": [],
   "source": [
    "participacao_producao_eua = exportacoes_pia_tarifas.groupby(['cnae','cnae_descricao','Total da receita líquida de vendas','Intensidade Tecnológica'])['R$ FOB USA'].sum().reset_index()\n",
    "participacao_producao_eua['participacao_producao_eua'] = participacao_producao_eua['R$ FOB USA'] / participacao_producao_eua['Total da receita líquida de vendas']\n",
    "participacao_producao_eua = participacao_producao_eua.drop(columns=['R$ FOB USA','Total da receita líquida de vendas'])\n"
   ]
  },
  {
   "cell_type": "code",
   "execution_count": 223,
   "id": "50e37e45",
   "metadata": {},
   "outputs": [
    {
     "data": {
      "text/html": [
       "<div>\n",
       "<style scoped>\n",
       "    .dataframe tbody tr th:only-of-type {\n",
       "        vertical-align: middle;\n",
       "    }\n",
       "\n",
       "    .dataframe tbody tr th {\n",
       "        vertical-align: top;\n",
       "    }\n",
       "\n",
       "    .dataframe thead th {\n",
       "        text-align: right;\n",
       "    }\n",
       "</style>\n",
       "<table border=\"1\" class=\"dataframe\">\n",
       "  <thead>\n",
       "    <tr style=\"text-align: right;\">\n",
       "      <th></th>\n",
       "      <th>cnae</th>\n",
       "      <th>cnae_descricao</th>\n",
       "      <th>Intensidade Tecnológica</th>\n",
       "      <th>participacao_producao_eua</th>\n",
       "    </tr>\n",
       "  </thead>\n",
       "  <tbody>\n",
       "    <tr>\n",
       "      <th>0</th>\n",
       "      <td>060</td>\n",
       "      <td>Extração de petróleo e gás natural</td>\n",
       "      <td>Média Baixa Intensidade Tecnológica</td>\n",
       "      <td>0.154649</td>\n",
       "    </tr>\n",
       "    <tr>\n",
       "      <th>1</th>\n",
       "      <td>071</td>\n",
       "      <td>Extração de minério de ferro</td>\n",
       "      <td>Média Baixa Intensidade Tecnológica</td>\n",
       "      <td>0.010519</td>\n",
       "    </tr>\n",
       "  </tbody>\n",
       "</table>\n",
       "</div>"
      ],
      "text/plain": [
       "  cnae                      cnae_descricao  \\\n",
       "0  060  Extração de petróleo e gás natural   \n",
       "1  071        Extração de minério de ferro   \n",
       "\n",
       "               Intensidade Tecnológica  participacao_producao_eua  \n",
       "0  Média Baixa Intensidade Tecnológica                   0.154649  \n",
       "1  Média Baixa Intensidade Tecnológica                   0.010519  "
      ]
     },
     "execution_count": 223,
     "metadata": {},
     "output_type": "execute_result"
    }
   ],
   "source": [
    "participacao_producao_eua.head(2)"
   ]
  },
  {
   "cell_type": "code",
   "execution_count": 224,
   "id": "76d1fe56",
   "metadata": {},
   "outputs": [],
   "source": [
    "exportacoes_pia_tarifas = exportacoes_pia_tarifas[['CO_SH6','cnae','cnae_descricao','Intensidade Tecnológica','Instrumento','Tarifa','Vigência','Articles of Civil Aircraft only']].merge(participacao_producao_eua[['cnae','participacao_producao_eua']], on=['cnae'], how='left')"
   ]
  },
  {
   "cell_type": "code",
   "execution_count": 226,
   "id": "1d96f5d6",
   "metadata": {},
   "outputs": [
    {
     "data": {
      "text/plain": [
       "(3222, 9)"
      ]
     },
     "execution_count": 226,
     "metadata": {},
     "output_type": "execute_result"
    }
   ],
   "source": [
    "exportacoes_pia_tarifas.shape"
   ]
  },
  {
   "cell_type": "code",
   "execution_count": 227,
   "id": "ace3a129",
   "metadata": {},
   "outputs": [],
   "source": [
    "exportacoes_usa_2024 = pd.read_excel('./dados/comex/Exportacao EUA 2024 NCM.xlsx')"
   ]
  },
  {
   "cell_type": "code",
   "execution_count": 228,
   "id": "084584e7",
   "metadata": {},
   "outputs": [],
   "source": [
    "exportacoes_usa_2024['SH6'] = exportacoes_usa_2024['Código NCM'].astype(str).str.zfill(8).str[0:6]"
   ]
  },
  {
   "cell_type": "code",
   "execution_count": 229,
   "id": "deb1d068",
   "metadata": {},
   "outputs": [
    {
     "data": {
      "text/html": [
       "<div>\n",
       "<style scoped>\n",
       "    .dataframe tbody tr th:only-of-type {\n",
       "        vertical-align: middle;\n",
       "    }\n",
       "\n",
       "    .dataframe tbody tr th {\n",
       "        vertical-align: top;\n",
       "    }\n",
       "\n",
       "    .dataframe thead th {\n",
       "        text-align: right;\n",
       "    }\n",
       "</style>\n",
       "<table border=\"1\" class=\"dataframe\">\n",
       "  <thead>\n",
       "    <tr style=\"text-align: right;\">\n",
       "      <th></th>\n",
       "      <th>Código NCM</th>\n",
       "      <th>Descrição NCM</th>\n",
       "      <th>2024 - Valor US$ FOB</th>\n",
       "      <th>SH6</th>\n",
       "    </tr>\n",
       "  </thead>\n",
       "  <tbody>\n",
       "    <tr>\n",
       "      <th>0</th>\n",
       "      <td>27090010</td>\n",
       "      <td>Óleos brutos de petróleo</td>\n",
       "      <td>5830983860</td>\n",
       "      <td>270900</td>\n",
       "    </tr>\n",
       "    <tr>\n",
       "      <th>1</th>\n",
       "      <td>72071200</td>\n",
       "      <td>Outros produtos semimanufaturados de ferro ou ...</td>\n",
       "      <td>2774470802</td>\n",
       "      <td>720712</td>\n",
       "    </tr>\n",
       "  </tbody>\n",
       "</table>\n",
       "</div>"
      ],
      "text/plain": [
       "   Código NCM                                      Descrição NCM  \\\n",
       "0    27090010                           Óleos brutos de petróleo   \n",
       "1    72071200  Outros produtos semimanufaturados de ferro ou ...   \n",
       "\n",
       "   2024 - Valor US$ FOB     SH6  \n",
       "0            5830983860  270900  \n",
       "1            2774470802  720712  "
      ]
     },
     "execution_count": 229,
     "metadata": {},
     "output_type": "execute_result"
    }
   ],
   "source": [
    "exportacoes_usa_2024.head(2)"
   ]
  },
  {
   "cell_type": "code",
   "execution_count": 230,
   "id": "e2a37070",
   "metadata": {},
   "outputs": [],
   "source": [
    "exportacoes_usa_2024 = exportacoes_usa_2024.groupby('SH6')[['2024 - Valor US$ FOB']].sum().reset_index()"
   ]
  },
  {
   "cell_type": "code",
   "execution_count": 231,
   "id": "a9b18619",
   "metadata": {},
   "outputs": [
    {
     "data": {
      "text/html": [
       "<div>\n",
       "<style scoped>\n",
       "    .dataframe tbody tr th:only-of-type {\n",
       "        vertical-align: middle;\n",
       "    }\n",
       "\n",
       "    .dataframe tbody tr th {\n",
       "        vertical-align: top;\n",
       "    }\n",
       "\n",
       "    .dataframe thead th {\n",
       "        text-align: right;\n",
       "    }\n",
       "</style>\n",
       "<table border=\"1\" class=\"dataframe\">\n",
       "  <thead>\n",
       "    <tr style=\"text-align: right;\">\n",
       "      <th></th>\n",
       "      <th>SH6</th>\n",
       "      <th>Instrumento</th>\n",
       "      <th>Tarifa</th>\n",
       "      <th>Vigência</th>\n",
       "      <th>Tarifa Desc</th>\n",
       "      <th>Articles of Civil Aircraft only</th>\n",
       "    </tr>\n",
       "  </thead>\n",
       "  <tbody>\n",
       "    <tr>\n",
       "      <th>0</th>\n",
       "      <td>490110</td>\n",
       "      <td>Ordem 30/07</td>\n",
       "      <td>0.5</td>\n",
       "      <td>Vigente</td>\n",
       "      <td>Tarifa de 10+40%</td>\n",
       "      <td></td>\n",
       "    </tr>\n",
       "    <tr>\n",
       "      <th>1</th>\n",
       "      <td>490191</td>\n",
       "      <td>Ordem 30/07</td>\n",
       "      <td>0.5</td>\n",
       "      <td>Vigente</td>\n",
       "      <td>Tarifa de 10+40%</td>\n",
       "      <td></td>\n",
       "    </tr>\n",
       "  </tbody>\n",
       "</table>\n",
       "</div>"
      ],
      "text/plain": [
       "      SH6  Instrumento  Tarifa Vigência       Tarifa Desc  \\\n",
       "0  490110  Ordem 30/07     0.5  Vigente  Tarifa de 10+40%   \n",
       "1  490191  Ordem 30/07     0.5  Vigente  Tarifa de 10+40%   \n",
       "\n",
       "  Articles of Civil Aircraft only  \n",
       "0                                  \n",
       "1                                  "
      ]
     },
     "execution_count": 231,
     "metadata": {},
     "output_type": "execute_result"
    }
   ],
   "source": [
    "ncm_sh6.head(2)"
   ]
  },
  {
   "cell_type": "code",
   "execution_count": 256,
   "id": "69fc6758",
   "metadata": {},
   "outputs": [
    {
     "data": {
      "text/html": [
       "<div>\n",
       "<style scoped>\n",
       "    .dataframe tbody tr th:only-of-type {\n",
       "        vertical-align: middle;\n",
       "    }\n",
       "\n",
       "    .dataframe tbody tr th {\n",
       "        vertical-align: top;\n",
       "    }\n",
       "\n",
       "    .dataframe thead th {\n",
       "        text-align: right;\n",
       "    }\n",
       "</style>\n",
       "<table border=\"1\" class=\"dataframe\">\n",
       "  <thead>\n",
       "    <tr style=\"text-align: right;\">\n",
       "      <th></th>\n",
       "      <th>SH6</th>\n",
       "      <th>Instrumento</th>\n",
       "      <th>Tarifa</th>\n",
       "      <th>Vigência</th>\n",
       "      <th>Tarifa Desc</th>\n",
       "      <th>Articles of Civil Aircraft only</th>\n",
       "    </tr>\n",
       "  </thead>\n",
       "  <tbody>\n",
       "    <tr>\n",
       "      <th>0</th>\n",
       "      <td>490110</td>\n",
       "      <td>Ordem 30/07</td>\n",
       "      <td>0.5</td>\n",
       "      <td>Vigente</td>\n",
       "      <td>Tarifa de 10+40%</td>\n",
       "      <td></td>\n",
       "    </tr>\n",
       "    <tr>\n",
       "      <th>1</th>\n",
       "      <td>490191</td>\n",
       "      <td>Ordem 30/07</td>\n",
       "      <td>0.5</td>\n",
       "      <td>Vigente</td>\n",
       "      <td>Tarifa de 10+40%</td>\n",
       "      <td></td>\n",
       "    </tr>\n",
       "  </tbody>\n",
       "</table>\n",
       "</div>"
      ],
      "text/plain": [
       "      SH6  Instrumento  Tarifa Vigência       Tarifa Desc  \\\n",
       "0  490110  Ordem 30/07     0.5  Vigente  Tarifa de 10+40%   \n",
       "1  490191  Ordem 30/07     0.5  Vigente  Tarifa de 10+40%   \n",
       "\n",
       "  Articles of Civil Aircraft only  \n",
       "0                                  \n",
       "1                                  "
      ]
     },
     "execution_count": 256,
     "metadata": {},
     "output_type": "execute_result"
    }
   ],
   "source": [
    "ncm_sh6.head(2)"
   ]
  },
  {
   "cell_type": "code",
   "execution_count": 257,
   "id": "5930e75b",
   "metadata": {},
   "outputs": [
    {
     "data": {
      "text/html": [
       "<div>\n",
       "<style scoped>\n",
       "    .dataframe tbody tr th:only-of-type {\n",
       "        vertical-align: middle;\n",
       "    }\n",
       "\n",
       "    .dataframe tbody tr th {\n",
       "        vertical-align: top;\n",
       "    }\n",
       "\n",
       "    .dataframe thead th {\n",
       "        text-align: right;\n",
       "    }\n",
       "</style>\n",
       "<table border=\"1\" class=\"dataframe\">\n",
       "  <thead>\n",
       "    <tr style=\"text-align: right;\">\n",
       "      <th></th>\n",
       "      <th>SH6</th>\n",
       "      <th>Instrumento</th>\n",
       "      <th>Tarifa</th>\n",
       "      <th>Vigência</th>\n",
       "      <th>Tarifa Desc</th>\n",
       "      <th>Articles of Civil Aircraft only</th>\n",
       "    </tr>\n",
       "  </thead>\n",
       "  <tbody>\n",
       "    <tr>\n",
       "      <th>254</th>\n",
       "      <td>740940</td>\n",
       "      <td>Seção 232</td>\n",
       "      <td>0.5</td>\n",
       "      <td>Em análise</td>\n",
       "      <td>25% (atual) a 50%</td>\n",
       "      <td></td>\n",
       "    </tr>\n",
       "    <tr>\n",
       "      <th>766</th>\n",
       "      <td>740100</td>\n",
       "      <td>Seção 232</td>\n",
       "      <td>0.5</td>\n",
       "      <td>Em análise</td>\n",
       "      <td>25% (atual) a 50%</td>\n",
       "      <td></td>\n",
       "    </tr>\n",
       "  </tbody>\n",
       "</table>\n",
       "</div>"
      ],
      "text/plain": [
       "        SH6 Instrumento  Tarifa    Vigência        Tarifa Desc  \\\n",
       "254  740940   Seção 232     0.5  Em análise  25% (atual) a 50%   \n",
       "766  740100   Seção 232     0.5  Em análise  25% (atual) a 50%   \n",
       "\n",
       "    Articles of Civil Aircraft only  \n",
       "254                                  \n",
       "766                                  "
      ]
     },
     "execution_count": 257,
     "metadata": {},
     "output_type": "execute_result"
    }
   ],
   "source": [
    "ncm_sh6.query('SH6.str.startswith(\"74\")', engine='python').head(2)"
   ]
  },
  {
   "cell_type": "code",
   "execution_count": 274,
   "id": "6c560b35",
   "metadata": {},
   "outputs": [
    {
     "data": {
      "text/html": [
       "<div>\n",
       "<style scoped>\n",
       "    .dataframe tbody tr th:only-of-type {\n",
       "        vertical-align: middle;\n",
       "    }\n",
       "\n",
       "    .dataframe tbody tr th {\n",
       "        vertical-align: top;\n",
       "    }\n",
       "\n",
       "    .dataframe thead th {\n",
       "        text-align: right;\n",
       "    }\n",
       "</style>\n",
       "<table border=\"1\" class=\"dataframe\">\n",
       "  <thead>\n",
       "    <tr style=\"text-align: right;\">\n",
       "      <th></th>\n",
       "      <th>CO_ISIC_CLASSE</th>\n",
       "      <th>NO_ISIC_CLASSE</th>\n",
       "      <th>NO_ISIC_CLASSE_ING</th>\n",
       "      <th>NO_ISIC_CLASSE_ESP</th>\n",
       "      <th>CO_ISIC_GRUPO</th>\n",
       "      <th>NO_ISIC_GRUPO</th>\n",
       "      <th>NO_ISIC_GRUPO_ING</th>\n",
       "      <th>NO_ISIC_GRUPO_ESP</th>\n",
       "      <th>CO_ISIC_DIVISAO</th>\n",
       "      <th>NO_ISIC_DIVISAO</th>\n",
       "      <th>NO_ISIC_DIVISAO_ING</th>\n",
       "      <th>NO_ISIC_DIVISAO_ESP</th>\n",
       "      <th>CO_ISIC_SECAO</th>\n",
       "      <th>NO_ISIC_SECAO</th>\n",
       "      <th>NO_ISIC_SECAO_ING</th>\n",
       "      <th>NO_ISIC_SECAO_ESP</th>\n",
       "    </tr>\n",
       "  </thead>\n",
       "  <tbody>\n",
       "    <tr>\n",
       "      <th>0</th>\n",
       "      <td>5310</td>\n",
       "      <td>Atividades postais</td>\n",
       "      <td>Postal activities</td>\n",
       "      <td>Atividades postais</td>\n",
       "      <td>531</td>\n",
       "      <td>Atividades postais</td>\n",
       "      <td>Postal activities</td>\n",
       "      <td>Atividades postais</td>\n",
       "      <td>53</td>\n",
       "      <td>Atividades postais e de courier</td>\n",
       "      <td>Postal and courier activities</td>\n",
       "      <td>Atividades postais e de courier</td>\n",
       "      <td>D</td>\n",
       "      <td>Outros Produtos</td>\n",
       "      <td>Other products</td>\n",
       "      <td>Outros Produtos</td>\n",
       "    </tr>\n",
       "    <tr>\n",
       "      <th>1</th>\n",
       "      <td>5520</td>\n",
       "      <td>Parques de campismo, parques recreativos e est...</td>\n",
       "      <td>Camping grounds, recreational vehicle parks an...</td>\n",
       "      <td>Parques de campismo, parques recreativos e est...</td>\n",
       "      <td>552</td>\n",
       "      <td>Parques de campismo, parques recreativos e est...</td>\n",
       "      <td>Camping grounds, recreational vehicle parks an...</td>\n",
       "      <td>Parques de campismo, parques recreativos e est...</td>\n",
       "      <td>55</td>\n",
       "      <td>Armazenamento</td>\n",
       "      <td>Accommodation</td>\n",
       "      <td>Armazenamento</td>\n",
       "      <td>D</td>\n",
       "      <td>Outros Produtos</td>\n",
       "      <td>Other products</td>\n",
       "      <td>Outros Produtos</td>\n",
       "    </tr>\n",
       "  </tbody>\n",
       "</table>\n",
       "</div>"
      ],
      "text/plain": [
       "  CO_ISIC_CLASSE                                     NO_ISIC_CLASSE  \\\n",
       "0           5310                                 Atividades postais   \n",
       "1           5520  Parques de campismo, parques recreativos e est...   \n",
       "\n",
       "                                  NO_ISIC_CLASSE_ING  \\\n",
       "0                                  Postal activities   \n",
       "1  Camping grounds, recreational vehicle parks an...   \n",
       "\n",
       "                                  NO_ISIC_CLASSE_ESP  CO_ISIC_GRUPO  \\\n",
       "0                                 Atividades postais            531   \n",
       "1  Parques de campismo, parques recreativos e est...            552   \n",
       "\n",
       "                                       NO_ISIC_GRUPO  \\\n",
       "0                                 Atividades postais   \n",
       "1  Parques de campismo, parques recreativos e est...   \n",
       "\n",
       "                                   NO_ISIC_GRUPO_ING  \\\n",
       "0                                  Postal activities   \n",
       "1  Camping grounds, recreational vehicle parks an...   \n",
       "\n",
       "                                   NO_ISIC_GRUPO_ESP  CO_ISIC_DIVISAO  \\\n",
       "0                                 Atividades postais               53   \n",
       "1  Parques de campismo, parques recreativos e est...               55   \n",
       "\n",
       "                   NO_ISIC_DIVISAO            NO_ISIC_DIVISAO_ING  \\\n",
       "0  Atividades postais e de courier  Postal and courier activities   \n",
       "1                    Armazenamento                  Accommodation   \n",
       "\n",
       "               NO_ISIC_DIVISAO_ESP CO_ISIC_SECAO    NO_ISIC_SECAO  \\\n",
       "0  Atividades postais e de courier             D  Outros Produtos   \n",
       "1                    Armazenamento             D  Outros Produtos   \n",
       "\n",
       "  NO_ISIC_SECAO_ING NO_ISIC_SECAO_ESP  \n",
       "0    Other products   Outros Produtos  \n",
       "1    Other products   Outros Produtos  "
      ]
     },
     "execution_count": 274,
     "metadata": {},
     "output_type": "execute_result"
    }
   ],
   "source": [
    "ncm_isic.head(2)"
   ]
  },
  {
   "cell_type": "code",
   "execution_count": null,
   "id": "f56cbee1",
   "metadata": {},
   "outputs": [
    {
     "data": {
      "text/html": [
       "<div>\n",
       "<style scoped>\n",
       "    .dataframe tbody tr th:only-of-type {\n",
       "        vertical-align: middle;\n",
       "    }\n",
       "\n",
       "    .dataframe tbody tr th {\n",
       "        vertical-align: top;\n",
       "    }\n",
       "\n",
       "    .dataframe thead th {\n",
       "        text-align: right;\n",
       "    }\n",
       "</style>\n",
       "<table border=\"1\" class=\"dataframe\">\n",
       "  <thead>\n",
       "    <tr style=\"text-align: right;\">\n",
       "      <th></th>\n",
       "      <th>código ISIC</th>\n",
       "      <th>denominação ISIC</th>\n",
       "      <th>código CNAE</th>\n",
       "      <th>denominação CNAE</th>\n",
       "      <th>CNAE2d</th>\n",
       "      <th>ISIC2d</th>\n",
       "      <th>cnae</th>\n",
       "    </tr>\n",
       "  </thead>\n",
       "  <tbody>\n",
       "    <tr>\n",
       "      <th>2</th>\n",
       "      <td>011</td>\n",
       "      <td>Cultivo de plantas no perenes</td>\n",
       "      <td>01.1</td>\n",
       "      <td>Produção de lavouras temporárias</td>\n",
       "      <td>01</td>\n",
       "      <td>01</td>\n",
       "      <td>011</td>\n",
       "    </tr>\n",
       "    <tr>\n",
       "      <th>3</th>\n",
       "      <td>011</td>\n",
       "      <td>Cultivo de plantas no perenes</td>\n",
       "      <td>01.2</td>\n",
       "      <td>Horticultura e floricultura</td>\n",
       "      <td>01</td>\n",
       "      <td>01</td>\n",
       "      <td>012</td>\n",
       "    </tr>\n",
       "  </tbody>\n",
       "</table>\n",
       "</div>"
      ],
      "text/plain": [
       "  código ISIC               denominação ISIC código CNAE  \\\n",
       "2         011  Cultivo de plantas no perenes        01.1   \n",
       "3         011  Cultivo de plantas no perenes        01.2   \n",
       "\n",
       "                   denominação CNAE CNAE2d ISIC2d cnae  \n",
       "2  Produção de lavouras temporárias     01     01  011  \n",
       "3       Horticultura e floricultura     01     01  012  "
      ]
     },
     "execution_count": 273,
     "metadata": {},
     "output_type": "execute_result"
    }
   ],
   "source": [
    "exportacoes_usa_2024"
   ]
  },
  {
   "cell_type": "code",
   "execution_count": 263,
   "id": "bbbd7fb6",
   "metadata": {},
   "outputs": [
    {
     "data": {
      "text/html": [
       "<div>\n",
       "<style scoped>\n",
       "    .dataframe tbody tr th:only-of-type {\n",
       "        vertical-align: middle;\n",
       "    }\n",
       "\n",
       "    .dataframe tbody tr th {\n",
       "        vertical-align: top;\n",
       "    }\n",
       "\n",
       "    .dataframe thead th {\n",
       "        text-align: right;\n",
       "    }\n",
       "</style>\n",
       "<table border=\"1\" class=\"dataframe\">\n",
       "  <thead>\n",
       "    <tr style=\"text-align: right;\">\n",
       "      <th></th>\n",
       "      <th>SH6</th>\n",
       "      <th>2024 - Valor US$ FOB</th>\n",
       "      <th>Instrumento</th>\n",
       "      <th>Tarifa</th>\n",
       "      <th>Vigência</th>\n",
       "      <th>Tarifa Desc</th>\n",
       "      <th>Articles of Civil Aircraft only</th>\n",
       "      <th>_merge</th>\n",
       "    </tr>\n",
       "  </thead>\n",
       "  <tbody>\n",
       "    <tr>\n",
       "      <th>4</th>\n",
       "      <td>010121</td>\n",
       "      <td>1713599.0</td>\n",
       "      <td>Ordem 30/07</td>\n",
       "      <td>0.5</td>\n",
       "      <td>Vigente</td>\n",
       "      <td>Tarifa de 10+40%</td>\n",
       "      <td></td>\n",
       "      <td>both</td>\n",
       "    </tr>\n",
       "    <tr>\n",
       "      <th>5</th>\n",
       "      <td>010129</td>\n",
       "      <td>3520510.0</td>\n",
       "      <td>Ordem 30/07</td>\n",
       "      <td>0.5</td>\n",
       "      <td>Vigente</td>\n",
       "      <td>Tarifa de 10+40%</td>\n",
       "      <td></td>\n",
       "      <td>both</td>\n",
       "    </tr>\n",
       "    <tr>\n",
       "      <th>34</th>\n",
       "      <td>010619</td>\n",
       "      <td>344.0</td>\n",
       "      <td>Ordem 30/07</td>\n",
       "      <td>0.5</td>\n",
       "      <td>Vigente</td>\n",
       "      <td>Tarifa de 10+40%</td>\n",
       "      <td></td>\n",
       "      <td>both</td>\n",
       "    </tr>\n",
       "    <tr>\n",
       "      <th>35</th>\n",
       "      <td>010620</td>\n",
       "      <td>24711.0</td>\n",
       "      <td>Ordem 30/07</td>\n",
       "      <td>0.5</td>\n",
       "      <td>Vigente</td>\n",
       "      <td>Tarifa de 10+40%</td>\n",
       "      <td></td>\n",
       "      <td>both</td>\n",
       "    </tr>\n",
       "    <tr>\n",
       "      <th>39</th>\n",
       "      <td>010639</td>\n",
       "      <td>1864.0</td>\n",
       "      <td>Ordem 30/07</td>\n",
       "      <td>0.5</td>\n",
       "      <td>Vigente</td>\n",
       "      <td>Tarifa de 10+40%</td>\n",
       "      <td></td>\n",
       "      <td>both</td>\n",
       "    </tr>\n",
       "    <tr>\n",
       "      <th>...</th>\n",
       "      <td>...</td>\n",
       "      <td>...</td>\n",
       "      <td>...</td>\n",
       "      <td>...</td>\n",
       "      <td>...</td>\n",
       "      <td>...</td>\n",
       "      <td>...</td>\n",
       "      <td>...</td>\n",
       "    </tr>\n",
       "    <tr>\n",
       "      <th>6594</th>\n",
       "      <td>970390</td>\n",
       "      <td>33687145.0</td>\n",
       "      <td>Ordem 30/07</td>\n",
       "      <td>0.5</td>\n",
       "      <td>Vigente</td>\n",
       "      <td>Tarifa de 10+40%</td>\n",
       "      <td></td>\n",
       "      <td>both</td>\n",
       "    </tr>\n",
       "    <tr>\n",
       "      <th>6595</th>\n",
       "      <td>970400</td>\n",
       "      <td>50.0</td>\n",
       "      <td>Ordem 30/07</td>\n",
       "      <td>0.5</td>\n",
       "      <td>Vigente</td>\n",
       "      <td>Tarifa de 10+40%</td>\n",
       "      <td></td>\n",
       "      <td>both</td>\n",
       "    </tr>\n",
       "    <tr>\n",
       "      <th>6597</th>\n",
       "      <td>970510</td>\n",
       "      <td>1962.0</td>\n",
       "      <td>Ordem 30/07</td>\n",
       "      <td>0.5</td>\n",
       "      <td>Vigente</td>\n",
       "      <td>Tarifa de 10+40%</td>\n",
       "      <td></td>\n",
       "      <td>both</td>\n",
       "    </tr>\n",
       "    <tr>\n",
       "      <th>6603</th>\n",
       "      <td>970610</td>\n",
       "      <td>857301.0</td>\n",
       "      <td>Ordem 30/07</td>\n",
       "      <td>0.5</td>\n",
       "      <td>Vigente</td>\n",
       "      <td>Tarifa de 10+40%</td>\n",
       "      <td></td>\n",
       "      <td>both</td>\n",
       "    </tr>\n",
       "    <tr>\n",
       "      <th>6604</th>\n",
       "      <td>970690</td>\n",
       "      <td>325930.0</td>\n",
       "      <td>Ordem 30/07</td>\n",
       "      <td>0.5</td>\n",
       "      <td>Vigente</td>\n",
       "      <td>Tarifa de 10+40%</td>\n",
       "      <td></td>\n",
       "      <td>both</td>\n",
       "    </tr>\n",
       "  </tbody>\n",
       "</table>\n",
       "<p>3526 rows × 8 columns</p>\n",
       "</div>"
      ],
      "text/plain": [
       "         SH6  2024 - Valor US$ FOB  Instrumento  Tarifa Vigência  \\\n",
       "4     010121             1713599.0  Ordem 30/07     0.5  Vigente   \n",
       "5     010129             3520510.0  Ordem 30/07     0.5  Vigente   \n",
       "34    010619                 344.0  Ordem 30/07     0.5  Vigente   \n",
       "35    010620               24711.0  Ordem 30/07     0.5  Vigente   \n",
       "39    010639                1864.0  Ordem 30/07     0.5  Vigente   \n",
       "...      ...                   ...          ...     ...      ...   \n",
       "6594  970390            33687145.0  Ordem 30/07     0.5  Vigente   \n",
       "6595  970400                  50.0  Ordem 30/07     0.5  Vigente   \n",
       "6597  970510                1962.0  Ordem 30/07     0.5  Vigente   \n",
       "6603  970610              857301.0  Ordem 30/07     0.5  Vigente   \n",
       "6604  970690              325930.0  Ordem 30/07     0.5  Vigente   \n",
       "\n",
       "           Tarifa Desc Articles of Civil Aircraft only _merge  \n",
       "4     Tarifa de 10+40%                                   both  \n",
       "5     Tarifa de 10+40%                                   both  \n",
       "34    Tarifa de 10+40%                                   both  \n",
       "35    Tarifa de 10+40%                                   both  \n",
       "39    Tarifa de 10+40%                                   both  \n",
       "...                ...                             ...    ...  \n",
       "6594  Tarifa de 10+40%                                   both  \n",
       "6595  Tarifa de 10+40%                                   both  \n",
       "6597  Tarifa de 10+40%                                   both  \n",
       "6603  Tarifa de 10+40%                                   both  \n",
       "6604  Tarifa de 10+40%                                   both  \n",
       "\n",
       "[3526 rows x 8 columns]"
      ]
     },
     "execution_count": 263,
     "metadata": {},
     "output_type": "execute_result"
    }
   ],
   "source": [
    "##Filtrar todos os NCM's que não iniciam com 0 ou 9 \n",
    "lista=(\"0\",\"9\")\n",
    "exportacoes_usa_2024.merge(ncm_sh6, on='SH6', how='outer',indicator=True).query('_merge == \"both\"')\n"
   ]
  },
  {
   "cell_type": "code",
   "execution_count": null,
   "id": "2be484ea",
   "metadata": {},
   "outputs": [],
   "source": [
    "ncm = pd.read_csv('./dados/comex/NCM (2).csv',sep=';',dtype={'CO_SH6': str, 'CO_ISIC_CLASSE': str})\n",
    "### Carregar a tabela de mapeamento de ISIC para CNAE do IBGE\n",
    "mapeamento_isic = pd.read_excel('./dados/mapeamento/mapeamento_isic_cnae.xlsx', dtype=str).drop(columns=['Unnamed: 3','Observações'])\n",
    "##### Fazer a primeira tentativa usando códigos ISIC a 3 dígitos\n",
    "mapeamento_isic = mapeamento_isic[mapeamento_isic['código ISIC'].str.len() == 3]\n",
    "mapeamento_isic.tail()\n",
    "#### Eliminar códigos ISIC sem correspondência\n",
    "mapeamento_isic = mapeamento_isic.dropna()\n",
    "mapeamento_isic['CNAE2d'] = mapeamento_isic['código CNAE'].str[0:2]\n",
    "mapeamento_isic['ISIC2d'] = mapeamento_isic['código ISIC'].str[0:2]\n",
    "#### Verificar se há códigos ISIC a dois dígitos que correspondem a mais de uma cnae a dois dígitos\n",
    "mapeamento_isic.groupby('ISIC2d')[['CNAE2d']].nunique().sort_values(by='CNAE2d', ascending=False).head(10)\n",
    "#### Códigos a 2 dígitos ISIC que estão relacionados a mais de um código CNAE a 2 dígitos sempre estão vinculados a dígitos idênticos mais um outro. Nesses casos, se considerará apenas os dois dígitos idênticos, descartando o segundo\n",
    "mapeamento_isic = mapeamento_isic.query('CNAE2d == ISIC2d')\n",
    "### Remover exportações com valor 0 e mapear exportações com código ISIC a 4 dígitos\n",
    "\n",
    "mapeamento_isic['cnae'] = mapeamento_isic['código CNAE'].str.replace('.','', regex=False)\n",
    "#### Verificar as situações em que um ISIC a 3 dígitos é mapeado para mais de uma CNAE\n"
   ]
  },
  {
   "cell_type": "code",
   "execution_count": 306,
   "id": "8a4ae345",
   "metadata": {},
   "outputs": [
    {
     "data": {
      "text/html": [
       "<div>\n",
       "<style scoped>\n",
       "    .dataframe tbody tr th:only-of-type {\n",
       "        vertical-align: middle;\n",
       "    }\n",
       "\n",
       "    .dataframe tbody tr th {\n",
       "        vertical-align: top;\n",
       "    }\n",
       "\n",
       "    .dataframe thead th {\n",
       "        text-align: right;\n",
       "    }\n",
       "</style>\n",
       "<table border=\"1\" class=\"dataframe\">\n",
       "  <thead>\n",
       "    <tr style=\"text-align: right;\">\n",
       "      <th></th>\n",
       "      <th>CO_ISIC_CLASSE</th>\n",
       "      <th>NO_ISIC_CLASSE</th>\n",
       "      <th>NO_ISIC_CLASSE_ING</th>\n",
       "      <th>NO_ISIC_CLASSE_ESP</th>\n",
       "      <th>CO_ISIC_GRUPO</th>\n",
       "      <th>NO_ISIC_GRUPO</th>\n",
       "      <th>NO_ISIC_GRUPO_ING</th>\n",
       "      <th>NO_ISIC_GRUPO_ESP</th>\n",
       "      <th>CO_ISIC_DIVISAO</th>\n",
       "      <th>NO_ISIC_DIVISAO</th>\n",
       "      <th>NO_ISIC_DIVISAO_ING</th>\n",
       "      <th>NO_ISIC_DIVISAO_ESP</th>\n",
       "      <th>CO_ISIC_SECAO</th>\n",
       "      <th>NO_ISIC_SECAO</th>\n",
       "      <th>NO_ISIC_SECAO_ING</th>\n",
       "      <th>NO_ISIC_SECAO_ESP</th>\n",
       "    </tr>\n",
       "  </thead>\n",
       "  <tbody>\n",
       "  </tbody>\n",
       "</table>\n",
       "</div>"
      ],
      "text/plain": [
       "Empty DataFrame\n",
       "Columns: [CO_ISIC_CLASSE, NO_ISIC_CLASSE, NO_ISIC_CLASSE_ING, NO_ISIC_CLASSE_ESP, CO_ISIC_GRUPO, NO_ISIC_GRUPO, NO_ISIC_GRUPO_ING, NO_ISIC_GRUPO_ESP, CO_ISIC_DIVISAO, NO_ISIC_DIVISAO, NO_ISIC_DIVISAO_ING, NO_ISIC_DIVISAO_ESP, CO_ISIC_SECAO, NO_ISIC_SECAO, NO_ISIC_SECAO_ING, NO_ISIC_SECAO_ESP]\n",
       "Index: []"
      ]
     },
     "execution_count": 306,
     "metadata": {},
     "output_type": "execute_result"
    }
   ],
   "source": [
    "ncm_isic = pd.read_csv('./dados/comex/NCM_ISIC (1).csv',sep=';',dtype={'CO_ISIC_CLASSE': str, 'NO_ISIC_CLASSE': str}    )\n",
    "ncm_isic.query('CO_ISIC_CLASSE == \"899\"', engine='python')"
   ]
  },
  {
   "cell_type": "code",
   "execution_count": 307,
   "id": "ef522e6e",
   "metadata": {},
   "outputs": [
    {
     "data": {
      "text/html": [
       "<div>\n",
       "<style scoped>\n",
       "    .dataframe tbody tr th:only-of-type {\n",
       "        vertical-align: middle;\n",
       "    }\n",
       "\n",
       "    .dataframe tbody tr th {\n",
       "        vertical-align: top;\n",
       "    }\n",
       "\n",
       "    .dataframe thead th {\n",
       "        text-align: right;\n",
       "    }\n",
       "</style>\n",
       "<table border=\"1\" class=\"dataframe\">\n",
       "  <thead>\n",
       "    <tr style=\"text-align: right;\">\n",
       "      <th></th>\n",
       "      <th>CO_NCM</th>\n",
       "      <th>CO_UNID</th>\n",
       "      <th>CO_SH6</th>\n",
       "      <th>CO_PPE</th>\n",
       "      <th>CO_PPI</th>\n",
       "      <th>CO_FAT_AGREG</th>\n",
       "      <th>CO_CUCI_ITEM</th>\n",
       "      <th>CO_CGCE_N3</th>\n",
       "      <th>CO_SIIT</th>\n",
       "      <th>CO_ISIC_CLASSE</th>\n",
       "      <th>CO_EXP_SUBSET</th>\n",
       "      <th>NO_NCM_POR</th>\n",
       "      <th>NO_NCM_ESP</th>\n",
       "      <th>NO_NCM_ING</th>\n",
       "      <th>CO_ISIC_CLASSE3d</th>\n",
       "    </tr>\n",
       "  </thead>\n",
       "  <tbody>\n",
       "    <tr>\n",
       "      <th>44</th>\n",
       "      <td>55051000</td>\n",
       "      <td>10</td>\n",
       "      <td>550510</td>\n",
       "      <td>3075.0</td>\n",
       "      <td>3075.0</td>\n",
       "      <td>3.0</td>\n",
       "      <td>26721</td>\n",
       "      <td>230</td>\n",
       "      <td>4000.0</td>\n",
       "      <td>8999</td>\n",
       "      <td>1601.0</td>\n",
       "      <td>Desperdícios de fibras sintéticas (incluindo o...</td>\n",
       "      <td>Desperdicios de fibras sintéticas</td>\n",
       "      <td>Waste of synthetic fibres</td>\n",
       "      <td>899</td>\n",
       "    </tr>\n",
       "    <tr>\n",
       "      <th>45</th>\n",
       "      <td>55052000</td>\n",
       "      <td>10</td>\n",
       "      <td>550520</td>\n",
       "      <td>3075.0</td>\n",
       "      <td>3075.0</td>\n",
       "      <td>3.0</td>\n",
       "      <td>26722</td>\n",
       "      <td>230</td>\n",
       "      <td>4000.0</td>\n",
       "      <td>8999</td>\n",
       "      <td>1601.0</td>\n",
       "      <td>Desperdícios de fibras artificiais (incluindo ...</td>\n",
       "      <td>Desperdicios de fibras artificiales</td>\n",
       "      <td>Waste of articificial fibres</td>\n",
       "      <td>899</td>\n",
       "    </tr>\n",
       "  </tbody>\n",
       "</table>\n",
       "</div>"
      ],
      "text/plain": [
       "      CO_NCM  CO_UNID  CO_SH6  CO_PPE  CO_PPI  CO_FAT_AGREG CO_CUCI_ITEM  \\\n",
       "44  55051000       10  550510  3075.0  3075.0           3.0        26721   \n",
       "45  55052000       10  550520  3075.0  3075.0           3.0        26722   \n",
       "\n",
       "    CO_CGCE_N3  CO_SIIT CO_ISIC_CLASSE  CO_EXP_SUBSET  \\\n",
       "44         230   4000.0           8999         1601.0   \n",
       "45         230   4000.0           8999         1601.0   \n",
       "\n",
       "                                           NO_NCM_POR  \\\n",
       "44  Desperdícios de fibras sintéticas (incluindo o...   \n",
       "45  Desperdícios de fibras artificiais (incluindo ...   \n",
       "\n",
       "                             NO_NCM_ESP                    NO_NCM_ING  \\\n",
       "44    Desperdicios de fibras sintéticas     Waste of synthetic fibres   \n",
       "45  Desperdicios de fibras artificiales  Waste of articificial fibres   \n",
       "\n",
       "   CO_ISIC_CLASSE3d  \n",
       "44              899  \n",
       "45              899  "
      ]
     },
     "execution_count": 307,
     "metadata": {},
     "output_type": "execute_result"
    }
   ],
   "source": [
    "ncm.query('CO_ISIC_CLASSE.str.startswith(\"899\")').head(2)"
   ]
  },
  {
   "cell_type": "code",
   "execution_count": 290,
   "id": "00cb789c",
   "metadata": {},
   "outputs": [
    {
     "data": {
      "text/html": [
       "<div>\n",
       "<style scoped>\n",
       "    .dataframe tbody tr th:only-of-type {\n",
       "        vertical-align: middle;\n",
       "    }\n",
       "\n",
       "    .dataframe tbody tr th {\n",
       "        vertical-align: top;\n",
       "    }\n",
       "\n",
       "    .dataframe thead th {\n",
       "        text-align: right;\n",
       "    }\n",
       "</style>\n",
       "<table border=\"1\" class=\"dataframe\">\n",
       "  <thead>\n",
       "    <tr style=\"text-align: right;\">\n",
       "      <th></th>\n",
       "      <th>CO_SH6</th>\n",
       "      <th>CO_ISIC_CLASSE3d</th>\n",
       "    </tr>\n",
       "  </thead>\n",
       "  <tbody>\n",
       "    <tr>\n",
       "      <th>6616</th>\n",
       "      <td>999999</td>\n",
       "      <td>1</td>\n",
       "    </tr>\n",
       "    <tr>\n",
       "      <th>0</th>\n",
       "      <td>010110</td>\n",
       "      <td>1</td>\n",
       "    </tr>\n",
       "    <tr>\n",
       "      <th>1</th>\n",
       "      <td>010111</td>\n",
       "      <td>1</td>\n",
       "    </tr>\n",
       "    <tr>\n",
       "      <th>2</th>\n",
       "      <td>010119</td>\n",
       "      <td>1</td>\n",
       "    </tr>\n",
       "    <tr>\n",
       "      <th>3</th>\n",
       "      <td>010120</td>\n",
       "      <td>1</td>\n",
       "    </tr>\n",
       "    <tr>\n",
       "      <th>4</th>\n",
       "      <td>010121</td>\n",
       "      <td>1</td>\n",
       "    </tr>\n",
       "    <tr>\n",
       "      <th>5</th>\n",
       "      <td>010129</td>\n",
       "      <td>1</td>\n",
       "    </tr>\n",
       "    <tr>\n",
       "      <th>6</th>\n",
       "      <td>010130</td>\n",
       "      <td>1</td>\n",
       "    </tr>\n",
       "    <tr>\n",
       "      <th>7</th>\n",
       "      <td>010190</td>\n",
       "      <td>1</td>\n",
       "    </tr>\n",
       "    <tr>\n",
       "      <th>6600</th>\n",
       "      <td>970529</td>\n",
       "      <td>1</td>\n",
       "    </tr>\n",
       "  </tbody>\n",
       "</table>\n",
       "</div>"
      ],
      "text/plain": [
       "      CO_SH6  CO_ISIC_CLASSE3d\n",
       "6616  999999                 1\n",
       "0     010110                 1\n",
       "1     010111                 1\n",
       "2     010119                 1\n",
       "3     010120                 1\n",
       "4     010121                 1\n",
       "5     010129                 1\n",
       "6     010130                 1\n",
       "7     010190                 1\n",
       "6600  970529                 1"
      ]
     },
     "execution_count": 290,
     "metadata": {},
     "output_type": "execute_result"
    }
   ],
   "source": [
    "ncm['CO_ISIC_CLASSE3d'] = ncm['CO_ISIC_CLASSE'].str[0:3]\n",
    "ncm[['CO_SH6','CO_ISIC_CLASSE3d']].drop_duplicates().groupby('CO_SH6')[['CO_ISIC_CLASSE3d']].nunique().reset_index().sort_values(by='CO_ISIC_CLASSE3d', ascending=False).head(10)"
   ]
  },
  {
   "cell_type": "code",
   "execution_count": 311,
   "id": "47728b37",
   "metadata": {},
   "outputs": [],
   "source": [
    "mapeamento_isic_ncm = mapeamento_isic.merge(ncm[['CO_ISIC_CLASSE3d','CO_SH6']].drop_duplicates(), left_on='código ISIC', right_on='CO_ISIC_CLASSE3d', how='inner')"
   ]
  },
  {
   "cell_type": "code",
   "execution_count": 323,
   "id": "598418f5",
   "metadata": {},
   "outputs": [
    {
     "data": {
      "text/plain": [
       "(14482, 9)"
      ]
     },
     "execution_count": 323,
     "metadata": {},
     "output_type": "execute_result"
    }
   ],
   "source": [
    "mapeamento_isic_ncm.query('CNAE2d == ISIC2d').shape"
   ]
  },
  {
   "cell_type": "code",
   "execution_count": 324,
   "id": "c14d35a9",
   "metadata": {},
   "outputs": [
    {
     "data": {
      "text/plain": [
       "(14482, 9)"
      ]
     },
     "execution_count": 324,
     "metadata": {},
     "output_type": "execute_result"
    }
   ],
   "source": [
    "mapeamento_isic_ncm.shape"
   ]
  },
  {
   "cell_type": "code",
   "execution_count": 402,
   "id": "821a8655",
   "metadata": {},
   "outputs": [
    {
     "data": {
      "text/html": [
       "<div>\n",
       "<style scoped>\n",
       "    .dataframe tbody tr th:only-of-type {\n",
       "        vertical-align: middle;\n",
       "    }\n",
       "\n",
       "    .dataframe tbody tr th {\n",
       "        vertical-align: top;\n",
       "    }\n",
       "\n",
       "    .dataframe thead th {\n",
       "        text-align: right;\n",
       "    }\n",
       "</style>\n",
       "<table border=\"1\" class=\"dataframe\">\n",
       "  <thead>\n",
       "    <tr style=\"text-align: right;\">\n",
       "      <th></th>\n",
       "      <th>cnae</th>\n",
       "      <th>denominação CNAE</th>\n",
       "      <th>CO_SH6</th>\n",
       "    </tr>\n",
       "  </thead>\n",
       "  <tbody>\n",
       "    <tr>\n",
       "      <th>0</th>\n",
       "      <td>01</td>\n",
       "      <td>Agricultura, pecuária e serviços relacionados</td>\n",
       "      <td>520100</td>\n",
       "    </tr>\n",
       "    <tr>\n",
       "      <th>1</th>\n",
       "      <td>01</td>\n",
       "      <td>Agricultura, pecuária e serviços relacionados</td>\n",
       "      <td>070956</td>\n",
       "    </tr>\n",
       "  </tbody>\n",
       "</table>\n",
       "</div>"
      ],
      "text/plain": [
       "  cnae                               denominação CNAE  CO_SH6\n",
       "0   01  Agricultura, pecuária e serviços relacionados  520100\n",
       "1   01  Agricultura, pecuária e serviços relacionados  070956"
      ]
     },
     "execution_count": 402,
     "metadata": {},
     "output_type": "execute_result"
    }
   ],
   "source": [
    "mapeamento_isic_ncm.head(2)"
   ]
  },
  {
   "cell_type": "code",
   "execution_count": 331,
   "id": "a4557f2f",
   "metadata": {},
   "outputs": [],
   "source": [
    "lista_isic_unica_cnae = mapeamento_isic_ncm.groupby('código ISIC')[['cnae']].nunique().query('cnae == 1').reset_index()['código ISIC'].tolist()"
   ]
  },
  {
   "cell_type": "code",
   "execution_count": 404,
   "id": "e5c9b25d",
   "metadata": {},
   "outputs": [],
   "source": [
    "mapeamento_isic3d = pd.read_excel('./dados/mapeamento/mapeamento_isic_cnae.xlsx', dtype=str).drop(columns=['Unnamed: 3','Observações'])\n",
    "mapeamento_isic3d['código ISIC'] = mapeamento_isic3d['código ISIC'].str.replace('.','', regex=False)\n",
    "mapeamento_isic3d['código CNAE'] = mapeamento_isic3d['código CNAE'].str.replace('.','', regex=False)\n",
    "\n",
    "mapeamento_isic3d = mapeamento_isic3d[mapeamento_isic3d['código ISIC'].str.len() == 3]"
   ]
  },
  {
   "cell_type": "code",
   "execution_count": 407,
   "id": "e23277d5",
   "metadata": {},
   "outputs": [
    {
     "data": {
      "text/html": [
       "<div>\n",
       "<style scoped>\n",
       "    .dataframe tbody tr th:only-of-type {\n",
       "        vertical-align: middle;\n",
       "    }\n",
       "\n",
       "    .dataframe tbody tr th {\n",
       "        vertical-align: top;\n",
       "    }\n",
       "\n",
       "    .dataframe thead th {\n",
       "        text-align: right;\n",
       "    }\n",
       "</style>\n",
       "<table border=\"1\" class=\"dataframe\">\n",
       "  <thead>\n",
       "    <tr style=\"text-align: right;\">\n",
       "      <th></th>\n",
       "      <th>código CNAE</th>\n",
       "      <th>código ISIC</th>\n",
       "    </tr>\n",
       "  </thead>\n",
       "  <tbody>\n",
       "    <tr>\n",
       "      <th>19</th>\n",
       "      <td>154</td>\n",
       "      <td>3</td>\n",
       "    </tr>\n",
       "    <tr>\n",
       "      <th>6</th>\n",
       "      <td>060</td>\n",
       "      <td>2</td>\n",
       "    </tr>\n",
       "    <tr>\n",
       "      <th>16</th>\n",
       "      <td>106</td>\n",
       "      <td>2</td>\n",
       "    </tr>\n",
       "    <tr>\n",
       "      <th>17</th>\n",
       "      <td>141</td>\n",
       "      <td>2</td>\n",
       "    </tr>\n",
       "    <tr>\n",
       "      <th>5</th>\n",
       "      <td>050</td>\n",
       "      <td>2</td>\n",
       "    </tr>\n",
       "    <tr>\n",
       "      <th>...</th>\n",
       "      <td>...</td>\n",
       "      <td>...</td>\n",
       "    </tr>\n",
       "    <tr>\n",
       "      <th>62</th>\n",
       "      <td>531</td>\n",
       "      <td>1</td>\n",
       "    </tr>\n",
       "    <tr>\n",
       "      <th>63</th>\n",
       "      <td>591</td>\n",
       "      <td>1</td>\n",
       "    </tr>\n",
       "    <tr>\n",
       "      <th>64</th>\n",
       "      <td>742</td>\n",
       "      <td>1</td>\n",
       "    </tr>\n",
       "    <tr>\n",
       "      <th>65</th>\n",
       "      <td>900</td>\n",
       "      <td>1</td>\n",
       "    </tr>\n",
       "    <tr>\n",
       "      <th>66</th>\n",
       "      <td>910</td>\n",
       "      <td>1</td>\n",
       "    </tr>\n",
       "  </tbody>\n",
       "</table>\n",
       "<p>67 rows × 2 columns</p>\n",
       "</div>"
      ],
      "text/plain": [
       "   código CNAE  código ISIC\n",
       "19         154            3\n",
       "6          060            2\n",
       "16         106            2\n",
       "17         141            2\n",
       "5          050            2\n",
       "..         ...          ...\n",
       "62         531            1\n",
       "63         591            1\n",
       "64         742            1\n",
       "65         900            1\n",
       "66         910            1\n",
       "\n",
       "[67 rows x 2 columns]"
      ]
     },
     "execution_count": 407,
     "metadata": {},
     "output_type": "execute_result"
    }
   ],
   "source": [
    "mapeamento_isic3d.query('`código ISIC` in @lista_isic_unica_cnae', engine='python').groupby('código CNAE')[['código ISIC']].nunique().reset_index().sort_values(by='código ISIC', ascending=False)"
   ]
  },
  {
   "cell_type": "code",
   "execution_count": 333,
   "id": "d70441d6",
   "metadata": {},
   "outputs": [],
   "source": [
    "#Para valores não existentes em lista_isic_unica_cnae, considerar o cnae a 2 dígitos\n",
    "mapeamento_isic_ncm['cnae'] = mapeamento_isic_ncm['cnae'].str[0:2].where(~mapeamento_isic_ncm['código ISIC'].isin(lista_isic_unica_cnae), mapeamento_isic_ncm['cnae'])"
   ]
  },
  {
   "cell_type": "code",
   "execution_count": 341,
   "id": "6ff57ab4",
   "metadata": {},
   "outputs": [],
   "source": [
    "mapeamento_isic = pd.read_excel('./dados/mapeamento/mapeamento_isic_cnae.xlsx', dtype=str).drop(columns=['Unnamed: 3','Observações'])\n",
    "mapeamento_isic['código ISIC'] = mapeamento_isic['código ISIC'].str.replace('.','', regex=False)\n",
    "mapeamento_isic['código CNAE'] = mapeamento_isic['código CNAE'].str.replace('.','', regex=False)\n",
    "\n",
    "mapeamento_isic = mapeamento_isic[mapeamento_isic['código ISIC'].str.len() == 2]"
   ]
  },
  {
   "cell_type": "code",
   "execution_count": 346,
   "id": "5fce517a",
   "metadata": {},
   "outputs": [],
   "source": [
    "mapeamento_isic = mapeamento_isic[['código CNAE','denominação CNAE']]\n",
    "mapeamento_isic['denominação CNAE'] = mapeamento_isic['denominação CNAE'].str.capitalize()\n"
   ]
  },
  {
   "cell_type": "code",
   "execution_count": 360,
   "id": "79976309",
   "metadata": {},
   "outputs": [
    {
     "data": {
      "text/html": [
       "<div>\n",
       "<style scoped>\n",
       "    .dataframe tbody tr th:only-of-type {\n",
       "        vertical-align: middle;\n",
       "    }\n",
       "\n",
       "    .dataframe tbody tr th {\n",
       "        vertical-align: top;\n",
       "    }\n",
       "\n",
       "    .dataframe thead th {\n",
       "        text-align: right;\n",
       "    }\n",
       "</style>\n",
       "<table border=\"1\" class=\"dataframe\">\n",
       "  <thead>\n",
       "    <tr style=\"text-align: right;\">\n",
       "      <th></th>\n",
       "      <th>código CNAE</th>\n",
       "      <th>denominação CNAE</th>\n",
       "    </tr>\n",
       "  </thead>\n",
       "  <tbody>\n",
       "    <tr>\n",
       "      <th>1</th>\n",
       "      <td>01</td>\n",
       "      <td>Agricultura, pecuária e serviços relacionados</td>\n",
       "    </tr>\n",
       "    <tr>\n",
       "      <th>68</th>\n",
       "      <td>02</td>\n",
       "      <td>Produção florestal</td>\n",
       "    </tr>\n",
       "  </tbody>\n",
       "</table>\n",
       "</div>"
      ],
      "text/plain": [
       "   código CNAE                               denominação CNAE\n",
       "1           01  Agricultura, pecuária e serviços relacionados\n",
       "68          02                             Produção florestal"
      ]
     },
     "execution_count": 360,
     "metadata": {},
     "output_type": "execute_result"
    }
   ],
   "source": [
    "mapeamento_isic.head(2)"
   ]
  },
  {
   "cell_type": "code",
   "execution_count": 370,
   "id": "43306b4b",
   "metadata": {},
   "outputs": [],
   "source": [
    "mapeamento_isic = mapeamento_isic.drop_duplicates()"
   ]
  },
  {
   "cell_type": "code",
   "execution_count": 373,
   "id": "26d60295",
   "metadata": {},
   "outputs": [
    {
     "data": {
      "text/plain": [
       "array(['01', '02'], dtype=object)"
      ]
     },
     "execution_count": 373,
     "metadata": {},
     "output_type": "execute_result"
    }
   ],
   "source": [
    "mapeamento_isic.head(2)['código CNAE'].values"
   ]
  },
  {
   "cell_type": "code",
   "execution_count": 375,
   "id": "0eb296b7",
   "metadata": {},
   "outputs": [],
   "source": [
    "#Para cada código cnae que possuir comprimento 2 dígitos, substituir o campo 'denominação CNAE' pelo valor correspondente em mapeamento_isic, sem alterar o valor nos casos em que esse campo possua 3 dígitos\n",
    "#Criar máscara para códigos CNAE de 2 dígitos\n",
    "mask_2_digitos = mapeamento_isic_ncm['cnae'].str.len() == 2\n",
    "\n",
    "# Verificar se o mapeamento existe antes de aplicar\n",
    "if mask_2_digitos.any():\n",
    "    # Fazer o mapeamento\n",
    "    mapeamento_dict = mapeamento_isic.set_index('código CNAE')['denominação CNAE'].to_dict()\n",
    "    mapeamento_isic_ncm.loc[mask_2_digitos, 'denominação CNAE'] = mapeamento_isic_ncm.loc[mask_2_digitos, 'cnae'].map(mapeamento_dict)\n",
    "    \n",
    "    # Verificar se ainda há valores nulos após o mapeamento\n",
    "    nulos_restantes = mapeamento_isic_ncm.loc[mask_2_digitos, 'denominação CNAE'].isna().sum()\n",
    "    if nulos_restantes > 0:\n",
    "        print(f\"Atenção: {nulos_restantes} códigos CNAE de 2 dígitos não foram mapeados\")"
   ]
  },
  {
   "cell_type": "code",
   "execution_count": 378,
   "id": "2863fd2f",
   "metadata": {},
   "outputs": [],
   "source": [
    "mapeamento_isic_ncm = mapeamento_isic_ncm[['cnae', 'denominação CNAE','CO_SH6']].drop_duplicates()"
   ]
  },
  {
   "cell_type": "code",
   "execution_count": 401,
   "id": "bf8c285d",
   "metadata": {},
   "outputs": [
    {
     "data": {
      "text/html": [
       "<div>\n",
       "<style scoped>\n",
       "    .dataframe tbody tr th:only-of-type {\n",
       "        vertical-align: middle;\n",
       "    }\n",
       "\n",
       "    .dataframe tbody tr th {\n",
       "        vertical-align: top;\n",
       "    }\n",
       "\n",
       "    .dataframe thead th {\n",
       "        text-align: right;\n",
       "    }\n",
       "</style>\n",
       "<table border=\"1\" class=\"dataframe\">\n",
       "  <thead>\n",
       "    <tr style=\"text-align: right;\">\n",
       "      <th></th>\n",
       "      <th>cnae</th>\n",
       "      <th>denominação CNAE</th>\n",
       "      <th>CO_SH6</th>\n",
       "    </tr>\n",
       "  </thead>\n",
       "  <tbody>\n",
       "    <tr>\n",
       "      <th>0</th>\n",
       "      <td>01</td>\n",
       "      <td>Agricultura, pecuária e serviços relacionados</td>\n",
       "      <td>520100</td>\n",
       "    </tr>\n",
       "    <tr>\n",
       "      <th>1</th>\n",
       "      <td>01</td>\n",
       "      <td>Agricultura, pecuária e serviços relacionados</td>\n",
       "      <td>070956</td>\n",
       "    </tr>\n",
       "  </tbody>\n",
       "</table>\n",
       "</div>"
      ],
      "text/plain": [
       "  cnae                               denominação CNAE  CO_SH6\n",
       "0   01  Agricultura, pecuária e serviços relacionados  520100\n",
       "1   01  Agricultura, pecuária e serviços relacionados  070956"
      ]
     },
     "execution_count": 401,
     "metadata": {},
     "output_type": "execute_result"
    }
   ],
   "source": [
    "mapeamento_isic_ncm.head(2)"
   ]
  },
  {
   "cell_type": "code",
   "execution_count": null,
   "id": "06e15ef6",
   "metadata": {},
   "outputs": [
    {
     "data": {
      "text/plain": [
       "_merge\n",
       "both          3487\n",
       "right_only    3019\n",
       "left_only       39\n",
       "Name: count, dtype: int64"
      ]
     },
     "execution_count": 380,
     "metadata": {},
     "output_type": "execute_result"
    }
   ],
   "source": [
    "exportacoes_usa_2024.merge(mapeamento_isic_ncm, left_on='SH6', right_on='CO_SH6', how='outer',indicator=True).value_counts('_merge')"
   ]
  },
  {
   "cell_type": "code",
   "execution_count": 382,
   "id": "6b377fee",
   "metadata": {},
   "outputs": [
    {
     "data": {
      "text/plain": [
       "np.float64(66715335.0)"
      ]
     },
     "execution_count": 382,
     "metadata": {},
     "output_type": "execute_result"
    }
   ],
   "source": [
    "exportacoes_usa_2024.merge(mapeamento_isic_ncm, left_on='SH6', right_on='CO_SH6', how='outer',indicator=True).query('_merge == \"left_only\"')['2024 - Valor US$ FOB'].sum()"
   ]
  },
  {
   "cell_type": "code",
   "execution_count": 383,
   "id": "a71167e2",
   "metadata": {},
   "outputs": [
    {
     "data": {
      "text/plain": [
       "np.int64(40368569157)"
      ]
     },
     "execution_count": 383,
     "metadata": {},
     "output_type": "execute_result"
    }
   ],
   "source": [
    "exportacoes_usa_2024['2024 - Valor US$ FOB'].sum()"
   ]
  },
  {
   "cell_type": "code",
   "execution_count": 385,
   "id": "41ec063f",
   "metadata": {},
   "outputs": [
    {
     "data": {
      "text/plain": [
       "0.16526554295380919"
      ]
     },
     "execution_count": 385,
     "metadata": {},
     "output_type": "execute_result"
    }
   ],
   "source": [
    "100*66715335.0/40368569157"
   ]
  },
  {
   "cell_type": "code",
   "execution_count": 386,
   "id": "707d4f3e",
   "metadata": {},
   "outputs": [
    {
     "data": {
      "text/html": [
       "<div>\n",
       "<style scoped>\n",
       "    .dataframe tbody tr th:only-of-type {\n",
       "        vertical-align: middle;\n",
       "    }\n",
       "\n",
       "    .dataframe tbody tr th {\n",
       "        vertical-align: top;\n",
       "    }\n",
       "\n",
       "    .dataframe thead th {\n",
       "        text-align: right;\n",
       "    }\n",
       "</style>\n",
       "<table border=\"1\" class=\"dataframe\">\n",
       "  <thead>\n",
       "    <tr style=\"text-align: right;\">\n",
       "      <th></th>\n",
       "      <th>SH6</th>\n",
       "      <th>2024 - Valor US$ FOB</th>\n",
       "    </tr>\n",
       "  </thead>\n",
       "  <tbody>\n",
       "    <tr>\n",
       "      <th>0</th>\n",
       "      <td>010121</td>\n",
       "      <td>1713599</td>\n",
       "    </tr>\n",
       "    <tr>\n",
       "      <th>1</th>\n",
       "      <td>010129</td>\n",
       "      <td>3520510</td>\n",
       "    </tr>\n",
       "  </tbody>\n",
       "</table>\n",
       "</div>"
      ],
      "text/plain": [
       "      SH6  2024 - Valor US$ FOB\n",
       "0  010121               1713599\n",
       "1  010129               3520510"
      ]
     },
     "execution_count": 386,
     "metadata": {},
     "output_type": "execute_result"
    }
   ],
   "source": [
    "exportacoes_usa_2024.head(2)"
   ]
  },
  {
   "cell_type": "code",
   "execution_count": 387,
   "id": "2c3c9392",
   "metadata": {},
   "outputs": [],
   "source": [
    "exportacoes_usa_2024_isic = exportacoes_usa_2024.merge(mapeamento_isic_ncm, left_on='SH6', right_on='CO_SH6', how='inner')"
   ]
  },
  {
   "cell_type": "code",
   "execution_count": 388,
   "id": "6e5cdfe0",
   "metadata": {},
   "outputs": [
    {
     "data": {
      "text/html": [
       "<div>\n",
       "<style scoped>\n",
       "    .dataframe tbody tr th:only-of-type {\n",
       "        vertical-align: middle;\n",
       "    }\n",
       "\n",
       "    .dataframe tbody tr th {\n",
       "        vertical-align: top;\n",
       "    }\n",
       "\n",
       "    .dataframe thead th {\n",
       "        text-align: right;\n",
       "    }\n",
       "</style>\n",
       "<table border=\"1\" class=\"dataframe\">\n",
       "  <thead>\n",
       "    <tr style=\"text-align: right;\">\n",
       "      <th></th>\n",
       "      <th>SH6</th>\n",
       "      <th>2024 - Valor US$ FOB</th>\n",
       "      <th>cnae</th>\n",
       "      <th>denominação CNAE</th>\n",
       "      <th>CO_SH6</th>\n",
       "    </tr>\n",
       "  </thead>\n",
       "  <tbody>\n",
       "    <tr>\n",
       "      <th>0</th>\n",
       "      <td>010121</td>\n",
       "      <td>1713599</td>\n",
       "      <td>015</td>\n",
       "      <td>Pecuária</td>\n",
       "      <td>010121</td>\n",
       "    </tr>\n",
       "    <tr>\n",
       "      <th>1</th>\n",
       "      <td>010129</td>\n",
       "      <td>3520510</td>\n",
       "      <td>015</td>\n",
       "      <td>Pecuária</td>\n",
       "      <td>010129</td>\n",
       "    </tr>\n",
       "  </tbody>\n",
       "</table>\n",
       "</div>"
      ],
      "text/plain": [
       "      SH6  2024 - Valor US$ FOB cnae denominação CNAE  CO_SH6\n",
       "0  010121               1713599  015         Pecuária  010121\n",
       "1  010129               3520510  015         Pecuária  010129"
      ]
     },
     "execution_count": 388,
     "metadata": {},
     "output_type": "execute_result"
    }
   ],
   "source": [
    "exportacoes_usa_2024_isic.head(2)"
   ]
  },
  {
   "cell_type": "code",
   "execution_count": 390,
   "id": "1eeb3052",
   "metadata": {},
   "outputs": [
    {
     "data": {
      "text/plain": [
       "(3487, 5)"
      ]
     },
     "execution_count": 390,
     "metadata": {},
     "output_type": "execute_result"
    }
   ],
   "source": [
    "exportacoes_usa_2024_isic.shape"
   ]
  },
  {
   "cell_type": "code",
   "execution_count": 391,
   "id": "0ed069f7",
   "metadata": {},
   "outputs": [
    {
     "data": {
      "text/plain": [
       "(3487, 6)"
      ]
     },
     "execution_count": 391,
     "metadata": {},
     "output_type": "execute_result"
    }
   ],
   "source": [
    "ncm_sh6.merge(exportacoes_usa_2024_isic[['SH6']], on='SH6', how='inner').shape\n"
   ]
  },
  {
   "cell_type": "code",
   "execution_count": 393,
   "id": "7c1f1bda",
   "metadata": {},
   "outputs": [
    {
     "data": {
      "text/html": [
       "<div>\n",
       "<style scoped>\n",
       "    .dataframe tbody tr th:only-of-type {\n",
       "        vertical-align: middle;\n",
       "    }\n",
       "\n",
       "    .dataframe tbody tr th {\n",
       "        vertical-align: top;\n",
       "    }\n",
       "\n",
       "    .dataframe thead th {\n",
       "        text-align: right;\n",
       "    }\n",
       "</style>\n",
       "<table border=\"1\" class=\"dataframe\">\n",
       "  <thead>\n",
       "    <tr style=\"text-align: right;\">\n",
       "      <th></th>\n",
       "      <th>SH6</th>\n",
       "      <th>Instrumento</th>\n",
       "      <th>Tarifa</th>\n",
       "      <th>Vigência</th>\n",
       "      <th>Tarifa Desc</th>\n",
       "      <th>Articles of Civil Aircraft only</th>\n",
       "    </tr>\n",
       "  </thead>\n",
       "  <tbody>\n",
       "    <tr>\n",
       "      <th>0</th>\n",
       "      <td>490110</td>\n",
       "      <td>Ordem 30/07</td>\n",
       "      <td>0.5</td>\n",
       "      <td>Vigente</td>\n",
       "      <td>Tarifa de 10+40%</td>\n",
       "      <td></td>\n",
       "    </tr>\n",
       "    <tr>\n",
       "      <th>1</th>\n",
       "      <td>490191</td>\n",
       "      <td>Ordem 30/07</td>\n",
       "      <td>0.5</td>\n",
       "      <td>Vigente</td>\n",
       "      <td>Tarifa de 10+40%</td>\n",
       "      <td></td>\n",
       "    </tr>\n",
       "  </tbody>\n",
       "</table>\n",
       "</div>"
      ],
      "text/plain": [
       "      SH6  Instrumento  Tarifa Vigência       Tarifa Desc  \\\n",
       "0  490110  Ordem 30/07     0.5  Vigente  Tarifa de 10+40%   \n",
       "1  490191  Ordem 30/07     0.5  Vigente  Tarifa de 10+40%   \n",
       "\n",
       "  Articles of Civil Aircraft only  \n",
       "0                                  \n",
       "1                                  "
      ]
     },
     "execution_count": 393,
     "metadata": {},
     "output_type": "execute_result"
    }
   ],
   "source": [
    "ncm_sh6.head(2)"
   ]
  },
  {
   "cell_type": "code",
   "execution_count": 396,
   "id": "6ccb9203",
   "metadata": {},
   "outputs": [],
   "source": [
    "exportacoes_usa_2024_isic = ncm_sh6.merge(exportacoes_usa_2024_isic, on='SH6', how='inner')"
   ]
  },
  {
   "cell_type": "code",
   "execution_count": 399,
   "id": "e41be0b6",
   "metadata": {},
   "outputs": [
    {
     "data": {
      "text/html": [
       "<div>\n",
       "<style scoped>\n",
       "    .dataframe tbody tr th:only-of-type {\n",
       "        vertical-align: middle;\n",
       "    }\n",
       "\n",
       "    .dataframe tbody tr th {\n",
       "        vertical-align: top;\n",
       "    }\n",
       "\n",
       "    .dataframe thead th {\n",
       "        text-align: right;\n",
       "    }\n",
       "</style>\n",
       "<table border=\"1\" class=\"dataframe\">\n",
       "  <thead>\n",
       "    <tr style=\"text-align: right;\">\n",
       "      <th></th>\n",
       "      <th>SH6</th>\n",
       "      <th>Instrumento</th>\n",
       "      <th>Tarifa</th>\n",
       "      <th>Vigência</th>\n",
       "      <th>Tarifa Desc</th>\n",
       "      <th>Articles of Civil Aircraft only</th>\n",
       "      <th>2024 - Valor US$ FOB</th>\n",
       "      <th>cnae</th>\n",
       "      <th>denominação CNAE</th>\n",
       "      <th>CO_SH6</th>\n",
       "    </tr>\n",
       "  </thead>\n",
       "  <tbody>\n",
       "    <tr>\n",
       "      <th>3482</th>\n",
       "      <td>400122</td>\n",
       "      <td>Ordem 30/07</td>\n",
       "      <td>0.5</td>\n",
       "      <td>Vigente</td>\n",
       "      <td>Tarifa de 10+40%</td>\n",
       "      <td></td>\n",
       "      <td>259693</td>\n",
       "      <td>01</td>\n",
       "      <td>Agricultura, pecuária e serviços relacionados</td>\n",
       "      <td>400122</td>\n",
       "    </tr>\n",
       "    <tr>\n",
       "      <th>3483</th>\n",
       "      <td>400129</td>\n",
       "      <td>Ordem 30/07</td>\n",
       "      <td>0.5</td>\n",
       "      <td>Vigente</td>\n",
       "      <td>Tarifa de 10+40%</td>\n",
       "      <td></td>\n",
       "      <td>10477</td>\n",
       "      <td>02</td>\n",
       "      <td>Produção florestal</td>\n",
       "      <td>400129</td>\n",
       "    </tr>\n",
       "    <tr>\n",
       "      <th>3484</th>\n",
       "      <td>392113</td>\n",
       "      <td>Ordem 30/07</td>\n",
       "      <td>0.5</td>\n",
       "      <td>Vigente</td>\n",
       "      <td>Tarifa de 10+40%</td>\n",
       "      <td></td>\n",
       "      <td>33014</td>\n",
       "      <td>222</td>\n",
       "      <td>Fabricação de produtos de material plástico</td>\n",
       "      <td>392113</td>\n",
       "    </tr>\n",
       "    <tr>\n",
       "      <th>3485</th>\n",
       "      <td>481014</td>\n",
       "      <td>Ordem 30/07</td>\n",
       "      <td>0.5</td>\n",
       "      <td>Vigente</td>\n",
       "      <td>Tarifa de 10+40%</td>\n",
       "      <td></td>\n",
       "      <td>107</td>\n",
       "      <td>17</td>\n",
       "      <td>Fabricação de celulose, papel e produtos de papel</td>\n",
       "      <td>481014</td>\n",
       "    </tr>\n",
       "    <tr>\n",
       "      <th>3486</th>\n",
       "      <td>392112</td>\n",
       "      <td>Ordem 30/07</td>\n",
       "      <td>0.5</td>\n",
       "      <td>Vigente</td>\n",
       "      <td>Tarifa de 10+40%</td>\n",
       "      <td></td>\n",
       "      <td>3742</td>\n",
       "      <td>222</td>\n",
       "      <td>Fabricação de produtos de material plástico</td>\n",
       "      <td>392112</td>\n",
       "    </tr>\n",
       "  </tbody>\n",
       "</table>\n",
       "</div>"
      ],
      "text/plain": [
       "         SH6  Instrumento  Tarifa Vigência       Tarifa Desc  \\\n",
       "3482  400122  Ordem 30/07     0.5  Vigente  Tarifa de 10+40%   \n",
       "3483  400129  Ordem 30/07     0.5  Vigente  Tarifa de 10+40%   \n",
       "3484  392113  Ordem 30/07     0.5  Vigente  Tarifa de 10+40%   \n",
       "3485  481014  Ordem 30/07     0.5  Vigente  Tarifa de 10+40%   \n",
       "3486  392112  Ordem 30/07     0.5  Vigente  Tarifa de 10+40%   \n",
       "\n",
       "     Articles of Civil Aircraft only  2024 - Valor US$ FOB cnae  \\\n",
       "3482                                                259693   01   \n",
       "3483                                                 10477   02   \n",
       "3484                                                 33014  222   \n",
       "3485                                                   107   17   \n",
       "3486                                                  3742  222   \n",
       "\n",
       "                                       denominação CNAE  CO_SH6  \n",
       "3482      Agricultura, pecuária e serviços relacionados  400122  \n",
       "3483                                 Produção florestal  400129  \n",
       "3484        Fabricação de produtos de material plástico  392113  \n",
       "3485  Fabricação de celulose, papel e produtos de papel  481014  \n",
       "3486        Fabricação de produtos de material plástico  392112  "
      ]
     },
     "execution_count": 399,
     "metadata": {},
     "output_type": "execute_result"
    }
   ],
   "source": [
    "exportacoes_usa_2024_isic.tail()"
   ]
  },
  {
   "cell_type": "code",
   "execution_count": 400,
   "id": "badcf86c",
   "metadata": {},
   "outputs": [
    {
     "data": {
      "text/plain": [
       "0        Vigente\n",
       "51    Em análise\n",
       "Name: Vigência, dtype: object"
      ]
     },
     "execution_count": 400,
     "metadata": {},
     "output_type": "execute_result"
    }
   ],
   "source": [
    "exportacoes_usa_2024_isic['Vigência'].drop_duplicates()"
   ]
  },
  {
   "cell_type": "code",
   "execution_count": 421,
   "id": "816ff7d2",
   "metadata": {},
   "outputs": [],
   "source": [
    "exportacoes_usa_2024_isic_agrupado = exportacoes_usa_2024_isic.groupby(['Instrumento','Tarifa Desc','Tarifa','Vigência','cnae','denominação CNAE','Articles of Civil Aircraft only'])[['2024 - Valor US$ FOB']].sum().reset_index()"
   ]
  },
  {
   "cell_type": "code",
   "execution_count": 422,
   "id": "065b153b",
   "metadata": {},
   "outputs": [],
   "source": [
    "exportacoes_usa_2024_isic_agrupado.to_excel('./Outputs/final/exportacoes_usa_2024_isic_agrupado.xlsx', index=False)"
   ]
  },
  {
   "cell_type": "code",
   "execution_count": 414,
   "id": "acbedbaf",
   "metadata": {},
   "outputs": [
    {
     "data": {
      "text/html": [
       "<div>\n",
       "<style scoped>\n",
       "    .dataframe tbody tr th:only-of-type {\n",
       "        vertical-align: middle;\n",
       "    }\n",
       "\n",
       "    .dataframe tbody tr th {\n",
       "        vertical-align: top;\n",
       "    }\n",
       "\n",
       "    .dataframe thead th {\n",
       "        text-align: right;\n",
       "    }\n",
       "</style>\n",
       "<table border=\"1\" class=\"dataframe\">\n",
       "  <thead>\n",
       "    <tr style=\"text-align: right;\">\n",
       "      <th></th>\n",
       "      <th>Instrumento</th>\n",
       "      <th>Tarifa Desc</th>\n",
       "      <th>Tarifa</th>\n",
       "      <th>Vigência</th>\n",
       "      <th>cnae</th>\n",
       "      <th>denominação CNAE</th>\n",
       "      <th>Articles of Civil Aircraft only</th>\n",
       "      <th>2024 - Valor US$ FOB</th>\n",
       "    </tr>\n",
       "  </thead>\n",
       "  <tbody>\n",
       "    <tr>\n",
       "      <th>0</th>\n",
       "      <td>Exclusão Ordem 30/07</td>\n",
       "      <td>Adicional de até 10%</td>\n",
       "      <td>0.1</td>\n",
       "      <td>Vigente</td>\n",
       "      <td>01</td>\n",
       "      <td>Agricultura, pecuária e serviços relacionados</td>\n",
       "      <td></td>\n",
       "      <td>1400116</td>\n",
       "    </tr>\n",
       "    <tr>\n",
       "      <th>1</th>\n",
       "      <td>Exclusão Ordem 30/07</td>\n",
       "      <td>Adicional de até 10%</td>\n",
       "      <td>0.1</td>\n",
       "      <td>Vigente</td>\n",
       "      <td>060</td>\n",
       "      <td>Extração de petróleo e gás natural</td>\n",
       "      <td></td>\n",
       "      <td>5830985624</td>\n",
       "    </tr>\n",
       "  </tbody>\n",
       "</table>\n",
       "</div>"
      ],
      "text/plain": [
       "            Instrumento           Tarifa Desc  Tarifa Vigência cnae  \\\n",
       "0  Exclusão Ordem 30/07  Adicional de até 10%     0.1  Vigente   01   \n",
       "1  Exclusão Ordem 30/07  Adicional de até 10%     0.1  Vigente  060   \n",
       "\n",
       "                                denominação CNAE  \\\n",
       "0  Agricultura, pecuária e serviços relacionados   \n",
       "1             Extração de petróleo e gás natural   \n",
       "\n",
       "  Articles of Civil Aircraft only  2024 - Valor US$ FOB  \n",
       "0                                               1400116  \n",
       "1                                            5830985624  "
      ]
     },
     "execution_count": 414,
     "metadata": {},
     "output_type": "execute_result"
    }
   ],
   "source": [
    "exportacoes_usa_2024_isic_agrupado.head(2)"
   ]
  },
  {
   "cell_type": "code",
   "execution_count": 424,
   "id": "31d6601a",
   "metadata": {},
   "outputs": [],
   "source": [
    "exportacoes_usa_2024_isic_agrupado['Fob Tarifado'] = exportacoes_usa_2024_isic_agrupado['2024 - Valor US$ FOB'] * ( exportacoes_usa_2024_isic_agrupado['Tarifa'])"
   ]
  },
  {
   "cell_type": "code",
   "execution_count": 443,
   "id": "2d6d789b",
   "metadata": {},
   "outputs": [],
   "source": [
    "#Criar uma outra coluna que aplica a tarifa ao valor FOB apenas nos casos em que a tarifa de 10% se Articles of Civil Aircraft only seja igual \"*\"\n",
    "exportacoes_usa_2024_isic_agrupado['Fob Tarifado Aviação'] = exportacoes_usa_2024_isic_agrupado['2024 - Valor US$ FOB'] * ( 0.1 * (exportacoes_usa_2024_isic_agrupado['Articles of Civil Aircraft only'] == '*').astype(int))\n"
   ]
  },
  {
   "cell_type": "code",
   "execution_count": 432,
   "id": "512b10d3",
   "metadata": {},
   "outputs": [],
   "source": [
    "exportacoes_usa_2024_isic_agrupado = exportacoes_usa_2024_isic_agrupado.query('Instrumento != \"Exclusão Ordem 30/07\"')"
   ]
  },
  {
   "cell_type": "code",
   "execution_count": 434,
   "id": "342d1e3d",
   "metadata": {},
   "outputs": [
    {
     "data": {
      "text/html": [
       "<div>\n",
       "<style scoped>\n",
       "    .dataframe tbody tr th:only-of-type {\n",
       "        vertical-align: middle;\n",
       "    }\n",
       "\n",
       "    .dataframe tbody tr th {\n",
       "        vertical-align: top;\n",
       "    }\n",
       "\n",
       "    .dataframe thead th {\n",
       "        text-align: right;\n",
       "    }\n",
       "</style>\n",
       "<table border=\"1\" class=\"dataframe\">\n",
       "  <thead>\n",
       "    <tr style=\"text-align: right;\">\n",
       "      <th></th>\n",
       "      <th>Instrumento</th>\n",
       "      <th>Tarifa Desc</th>\n",
       "      <th>Tarifa</th>\n",
       "      <th>Vigência</th>\n",
       "      <th>cnae</th>\n",
       "      <th>denominação CNAE</th>\n",
       "      <th>Articles of Civil Aircraft only</th>\n",
       "      <th>2024 - Valor US$ FOB</th>\n",
       "      <th>Fob Tarifado</th>\n",
       "      <th>Fob Tarifado Aviação</th>\n",
       "    </tr>\n",
       "  </thead>\n",
       "  <tbody>\n",
       "    <tr>\n",
       "      <th>13</th>\n",
       "      <td>Ordem 30/07</td>\n",
       "      <td>Tarifa de 10+40%</td>\n",
       "      <td>0.5</td>\n",
       "      <td>Vigente</td>\n",
       "      <td>01</td>\n",
       "      <td>Agricultura, pecuária e serviços relacionados</td>\n",
       "      <td></td>\n",
       "      <td>2160136481</td>\n",
       "      <td>1.080068e+09</td>\n",
       "      <td>0.0</td>\n",
       "    </tr>\n",
       "    <tr>\n",
       "      <th>14</th>\n",
       "      <td>Ordem 30/07</td>\n",
       "      <td>Tarifa de 10+40%</td>\n",
       "      <td>0.5</td>\n",
       "      <td>Vigente</td>\n",
       "      <td>014</td>\n",
       "      <td>Produção de sementes e mudas certificadas</td>\n",
       "      <td></td>\n",
       "      <td>2579602</td>\n",
       "      <td>1.289801e+06</td>\n",
       "      <td>0.0</td>\n",
       "    </tr>\n",
       "  </tbody>\n",
       "</table>\n",
       "</div>"
      ],
      "text/plain": [
       "    Instrumento       Tarifa Desc  Tarifa Vigência cnae  \\\n",
       "13  Ordem 30/07  Tarifa de 10+40%     0.5  Vigente   01   \n",
       "14  Ordem 30/07  Tarifa de 10+40%     0.5  Vigente  014   \n",
       "\n",
       "                                 denominação CNAE  \\\n",
       "13  Agricultura, pecuária e serviços relacionados   \n",
       "14      Produção de sementes e mudas certificadas   \n",
       "\n",
       "   Articles of Civil Aircraft only  2024 - Valor US$ FOB  Fob Tarifado  \\\n",
       "13                                            2160136481  1.080068e+09   \n",
       "14                                               2579602  1.289801e+06   \n",
       "\n",
       "    Fob Tarifado Aviação  \n",
       "13                   0.0  \n",
       "14                   0.0  "
      ]
     },
     "execution_count": 434,
     "metadata": {},
     "output_type": "execute_result"
    }
   ],
   "source": [
    "exportacoes_usa_2024_isic_agrupado.head(2)"
   ]
  },
  {
   "cell_type": "code",
   "execution_count": 444,
   "id": "301727e4",
   "metadata": {},
   "outputs": [],
   "source": [
    "exportacoes_usa_2024_isic_agrupado_aviacao = exportacoes_usa_2024_isic_agrupado.query('`Articles of Civil Aircraft only` == \"*\"')\n",
    "exportacoes_usa_2024_isic_agrupado_todos = exportacoes_usa_2024_isic_agrupado.copy()"
   ]
  },
  {
   "cell_type": "code",
   "execution_count": 445,
   "id": "d0c1c4b9",
   "metadata": {},
   "outputs": [],
   "source": [
    "exportacoes_usa_2024_isic_agrupado_todos = exportacoes_usa_2024_isic_agrupado_todos.groupby(['cnae','denominação CNAE'])[['2024 - Valor US$ FOB','Fob Tarifado']].sum().reset_index()\n",
    "exportacoes_usa_2024_isic_agrupado_aviacao = exportacoes_usa_2024_isic_agrupado_aviacao.groupby(['cnae','denominação CNAE'])[['2024 - Valor US$ FOB','Fob Tarifado Aviação']].sum().reset_index()"
   ]
  },
  {
   "cell_type": "code",
   "execution_count": 446,
   "id": "29c2b259",
   "metadata": {},
   "outputs": [
    {
     "data": {
      "text/html": [
       "<div>\n",
       "<style scoped>\n",
       "    .dataframe tbody tr th:only-of-type {\n",
       "        vertical-align: middle;\n",
       "    }\n",
       "\n",
       "    .dataframe tbody tr th {\n",
       "        vertical-align: top;\n",
       "    }\n",
       "\n",
       "    .dataframe thead th {\n",
       "        text-align: right;\n",
       "    }\n",
       "</style>\n",
       "<table border=\"1\" class=\"dataframe\">\n",
       "  <thead>\n",
       "    <tr style=\"text-align: right;\">\n",
       "      <th></th>\n",
       "      <th>cnae</th>\n",
       "      <th>denominação CNAE</th>\n",
       "      <th>2024 - Valor US$ FOB</th>\n",
       "      <th>Fob Tarifado</th>\n",
       "    </tr>\n",
       "  </thead>\n",
       "  <tbody>\n",
       "    <tr>\n",
       "      <th>0</th>\n",
       "      <td>01</td>\n",
       "      <td>Agricultura, pecuária e serviços relacionados</td>\n",
       "      <td>2160136481</td>\n",
       "      <td>1.080068e+09</td>\n",
       "    </tr>\n",
       "    <tr>\n",
       "      <th>1</th>\n",
       "      <td>014</td>\n",
       "      <td>Produção de sementes e mudas certificadas</td>\n",
       "      <td>2579602</td>\n",
       "      <td>1.289801e+06</td>\n",
       "    </tr>\n",
       "  </tbody>\n",
       "</table>\n",
       "</div>"
      ],
      "text/plain": [
       "  cnae                               denominação CNAE  2024 - Valor US$ FOB  \\\n",
       "0   01  Agricultura, pecuária e serviços relacionados            2160136481   \n",
       "1  014      Produção de sementes e mudas certificadas               2579602   \n",
       "\n",
       "   Fob Tarifado  \n",
       "0  1.080068e+09  \n",
       "1  1.289801e+06  "
      ]
     },
     "execution_count": 446,
     "metadata": {},
     "output_type": "execute_result"
    }
   ],
   "source": [
    "exportacoes_usa_2024_isic_agrupado_todos.head(2)"
   ]
  },
  {
   "cell_type": "code",
   "execution_count": 447,
   "id": "c0e6c5f2",
   "metadata": {},
   "outputs": [
    {
     "data": {
      "text/html": [
       "<div>\n",
       "<style scoped>\n",
       "    .dataframe tbody tr th:only-of-type {\n",
       "        vertical-align: middle;\n",
       "    }\n",
       "\n",
       "    .dataframe tbody tr th {\n",
       "        vertical-align: top;\n",
       "    }\n",
       "\n",
       "    .dataframe thead th {\n",
       "        text-align: right;\n",
       "    }\n",
       "</style>\n",
       "<table border=\"1\" class=\"dataframe\">\n",
       "  <thead>\n",
       "    <tr style=\"text-align: right;\">\n",
       "      <th></th>\n",
       "      <th>cnae</th>\n",
       "      <th>denominação CNAE</th>\n",
       "      <th>2024 - Valor US$ FOB</th>\n",
       "      <th>Fob Tarifado Aviação</th>\n",
       "    </tr>\n",
       "  </thead>\n",
       "  <tbody>\n",
       "    <tr>\n",
       "      <th>0</th>\n",
       "      <td>162</td>\n",
       "      <td>Fabricação de produtos de madeira, cortiça e m...</td>\n",
       "      <td>10095</td>\n",
       "      <td>1009.5</td>\n",
       "    </tr>\n",
       "    <tr>\n",
       "      <th>1</th>\n",
       "      <td>17</td>\n",
       "      <td>Fabricação de celulose, papel e produtos de papel</td>\n",
       "      <td>1122289</td>\n",
       "      <td>112228.9</td>\n",
       "    </tr>\n",
       "  </tbody>\n",
       "</table>\n",
       "</div>"
      ],
      "text/plain": [
       "  cnae                                   denominação CNAE  \\\n",
       "0  162  Fabricação de produtos de madeira, cortiça e m...   \n",
       "1   17  Fabricação de celulose, papel e produtos de papel   \n",
       "\n",
       "   2024 - Valor US$ FOB  Fob Tarifado Aviação  \n",
       "0                 10095                1009.5  \n",
       "1               1122289              112228.9  "
      ]
     },
     "execution_count": 447,
     "metadata": {},
     "output_type": "execute_result"
    }
   ],
   "source": [
    "exportacoes_usa_2024_isic_agrupado_aviacao.head(2)"
   ]
  },
  {
   "cell_type": "code",
   "execution_count": 462,
   "id": "9d44d73b",
   "metadata": {},
   "outputs": [],
   "source": [
    "agregacao_final = exportacoes_usa_2024_isic_agrupado_todos.merge(exportacoes_usa_2024_isic_agrupado_aviacao.rename(columns={'2024 - Valor US$ FOB' : 'FOB Potencial aviação'}),on=['cnae','denominação CNAE'],how='left')"
   ]
  },
  {
   "cell_type": "code",
   "execution_count": 467,
   "id": "73589759",
   "metadata": {},
   "outputs": [],
   "source": [
    "agregacao_final = agregacao_final.fillna(0.0)"
   ]
  },
  {
   "cell_type": "code",
   "execution_count": 468,
   "id": "f50ce7fa",
   "metadata": {},
   "outputs": [],
   "source": [
    "agregacao_final['proporcao'] = agregacao_final['FOB Potencial aviação']/agregacao_final['2024 - Valor US$ FOB']"
   ]
  },
  {
   "cell_type": "code",
   "execution_count": 470,
   "id": "cf122004",
   "metadata": {},
   "outputs": [
    {
     "data": {
      "text/plain": [
       "Index(['cnae', 'denominação CNAE', '2024 - Valor US$ FOB', 'Fob Tarifado',\n",
       "       'FOB Potencial aviação', 'Fob Tarifado Aviação', 'proporcao'],\n",
       "      dtype='object')"
      ]
     },
     "execution_count": 470,
     "metadata": {},
     "output_type": "execute_result"
    }
   ],
   "source": [
    "agregacao_final.columns"
   ]
  },
  {
   "cell_type": "code",
   "execution_count": 471,
   "id": "e6a4c510",
   "metadata": {},
   "outputs": [],
   "source": [
    "#Se proporcao for diferente de 0, Tarifa mínima deve ter o valor igual a (proporcao*FOB Potencial aviação)+((1-proporcao)*Fob Tarifado). Caso contrário, o valor é igual a Fob Tarifado \n",
    "\n",
    "import numpy as np\n",
    "\n",
    "# Supondo que o seu DataFrame se chama df\n",
    "agregacao_final['Tarifa mínima'] = np.where(\n",
    "    agregacao_final['proporcao'] != 0,\n",
    "    (agregacao_final['proporcao'] * agregacao_final['FOB Potencial aviação']) + ((1 - agregacao_final['proporcao']) * agregacao_final['Fob Tarifado']),\n",
    "    agregacao_final['Fob Tarifado']\n",
    ")\n",
    "\n"
   ]
  },
  {
   "cell_type": "code",
   "execution_count": 473,
   "id": "7282c997",
   "metadata": {},
   "outputs": [],
   "source": [
    "agregacao_final =  agregacao_final.rename(columns={'Fob Tarifado' : 'Tarifa máxima'})"
   ]
  },
  {
   "cell_type": "code",
   "execution_count": null,
   "id": "84fac42a",
   "metadata": {},
   "outputs": [
    {
     "ename": "OSError",
     "evalue": "Cannot save file into a non-existent directory: 'dados/Outputs'",
     "output_type": "error",
     "traceback": [
      "\u001b[31m---------------------------------------------------------------------------\u001b[39m",
      "\u001b[31mOSError\u001b[39m                                   Traceback (most recent call last)",
      "\u001b[36mCell\u001b[39m\u001b[36m \u001b[39m\u001b[32mIn[478]\u001b[39m\u001b[32m, line 1\u001b[39m\n\u001b[32m----> \u001b[39m\u001b[32m1\u001b[39m \u001b[43magregacao_final\u001b[49m\u001b[43m.\u001b[49m\u001b[43mdrop\u001b[49m\u001b[43m(\u001b[49m\u001b[43m[\u001b[49m\u001b[33;43m'\u001b[39;49m\u001b[33;43mFOB Potencial aviação\u001b[39;49m\u001b[33;43m'\u001b[39;49m\u001b[43m,\u001b[49m\u001b[33;43m'\u001b[39;49m\u001b[33;43mFob Tarifado Aviação\u001b[39;49m\u001b[33;43m'\u001b[39;49m\u001b[43m,\u001b[49m\u001b[33;43m'\u001b[39;49m\u001b[33;43mproporcao\u001b[39;49m\u001b[33;43m'\u001b[39;49m\u001b[43m]\u001b[49m\u001b[43m,\u001b[49m\u001b[43maxis\u001b[49m\u001b[43m=\u001b[49m\u001b[32;43m1\u001b[39;49m\u001b[43m)\u001b[49m\u001b[43m.\u001b[49m\u001b[43mto_excel\u001b[49m\u001b[43m(\u001b[49m\u001b[33;43m'\u001b[39;49m\u001b[33;43m./dados/Outputs/tarifa por setor.xlsx\u001b[39;49m\u001b[33;43m'\u001b[39;49m\u001b[43m,\u001b[49m\u001b[43mindex\u001b[49m\u001b[43m=\u001b[49m\u001b[38;5;28;43;01mFalse\u001b[39;49;00m\u001b[43m)\u001b[49m\n",
      "\u001b[36mFile \u001b[39m\u001b[32m~/miniconda3/envs/Mip/lib/python3.13/site-packages/pandas/util/_decorators.py:333\u001b[39m, in \u001b[36mdeprecate_nonkeyword_arguments.<locals>.decorate.<locals>.wrapper\u001b[39m\u001b[34m(*args, **kwargs)\u001b[39m\n\u001b[32m    327\u001b[39m \u001b[38;5;28;01mif\u001b[39;00m \u001b[38;5;28mlen\u001b[39m(args) > num_allow_args:\n\u001b[32m    328\u001b[39m     warnings.warn(\n\u001b[32m    329\u001b[39m         msg.format(arguments=_format_argument_list(allow_args)),\n\u001b[32m    330\u001b[39m         \u001b[38;5;167;01mFutureWarning\u001b[39;00m,\n\u001b[32m    331\u001b[39m         stacklevel=find_stack_level(),\n\u001b[32m    332\u001b[39m     )\n\u001b[32m--> \u001b[39m\u001b[32m333\u001b[39m \u001b[38;5;28;01mreturn\u001b[39;00m \u001b[43mfunc\u001b[49m\u001b[43m(\u001b[49m\u001b[43m*\u001b[49m\u001b[43margs\u001b[49m\u001b[43m,\u001b[49m\u001b[43m \u001b[49m\u001b[43m*\u001b[49m\u001b[43m*\u001b[49m\u001b[43mkwargs\u001b[49m\u001b[43m)\u001b[49m\n",
      "\u001b[36mFile \u001b[39m\u001b[32m~/miniconda3/envs/Mip/lib/python3.13/site-packages/pandas/core/generic.py:2417\u001b[39m, in \u001b[36mNDFrame.to_excel\u001b[39m\u001b[34m(self, excel_writer, sheet_name, na_rep, float_format, columns, header, index, index_label, startrow, startcol, engine, merge_cells, inf_rep, freeze_panes, storage_options, engine_kwargs)\u001b[39m\n\u001b[32m   2404\u001b[39m \u001b[38;5;28;01mfrom\u001b[39;00m\u001b[38;5;250m \u001b[39m\u001b[34;01mpandas\u001b[39;00m\u001b[34;01m.\u001b[39;00m\u001b[34;01mio\u001b[39;00m\u001b[34;01m.\u001b[39;00m\u001b[34;01mformats\u001b[39;00m\u001b[34;01m.\u001b[39;00m\u001b[34;01mexcel\u001b[39;00m\u001b[38;5;250m \u001b[39m\u001b[38;5;28;01mimport\u001b[39;00m ExcelFormatter\n\u001b[32m   2406\u001b[39m formatter = ExcelFormatter(\n\u001b[32m   2407\u001b[39m     df,\n\u001b[32m   2408\u001b[39m     na_rep=na_rep,\n\u001b[32m   (...)\u001b[39m\u001b[32m   2415\u001b[39m     inf_rep=inf_rep,\n\u001b[32m   2416\u001b[39m )\n\u001b[32m-> \u001b[39m\u001b[32m2417\u001b[39m \u001b[43mformatter\u001b[49m\u001b[43m.\u001b[49m\u001b[43mwrite\u001b[49m\u001b[43m(\u001b[49m\n\u001b[32m   2418\u001b[39m \u001b[43m    \u001b[49m\u001b[43mexcel_writer\u001b[49m\u001b[43m,\u001b[49m\n\u001b[32m   2419\u001b[39m \u001b[43m    \u001b[49m\u001b[43msheet_name\u001b[49m\u001b[43m=\u001b[49m\u001b[43msheet_name\u001b[49m\u001b[43m,\u001b[49m\n\u001b[32m   2420\u001b[39m \u001b[43m    \u001b[49m\u001b[43mstartrow\u001b[49m\u001b[43m=\u001b[49m\u001b[43mstartrow\u001b[49m\u001b[43m,\u001b[49m\n\u001b[32m   2421\u001b[39m \u001b[43m    \u001b[49m\u001b[43mstartcol\u001b[49m\u001b[43m=\u001b[49m\u001b[43mstartcol\u001b[49m\u001b[43m,\u001b[49m\n\u001b[32m   2422\u001b[39m \u001b[43m    \u001b[49m\u001b[43mfreeze_panes\u001b[49m\u001b[43m=\u001b[49m\u001b[43mfreeze_panes\u001b[49m\u001b[43m,\u001b[49m\n\u001b[32m   2423\u001b[39m \u001b[43m    \u001b[49m\u001b[43mengine\u001b[49m\u001b[43m=\u001b[49m\u001b[43mengine\u001b[49m\u001b[43m,\u001b[49m\n\u001b[32m   2424\u001b[39m \u001b[43m    \u001b[49m\u001b[43mstorage_options\u001b[49m\u001b[43m=\u001b[49m\u001b[43mstorage_options\u001b[49m\u001b[43m,\u001b[49m\n\u001b[32m   2425\u001b[39m \u001b[43m    \u001b[49m\u001b[43mengine_kwargs\u001b[49m\u001b[43m=\u001b[49m\u001b[43mengine_kwargs\u001b[49m\u001b[43m,\u001b[49m\n\u001b[32m   2426\u001b[39m \u001b[43m\u001b[49m\u001b[43m)\u001b[49m\n",
      "\u001b[36mFile \u001b[39m\u001b[32m~/miniconda3/envs/Mip/lib/python3.13/site-packages/pandas/io/formats/excel.py:943\u001b[39m, in \u001b[36mExcelFormatter.write\u001b[39m\u001b[34m(self, writer, sheet_name, startrow, startcol, freeze_panes, engine, storage_options, engine_kwargs)\u001b[39m\n\u001b[32m    941\u001b[39m     need_save = \u001b[38;5;28;01mFalse\u001b[39;00m\n\u001b[32m    942\u001b[39m \u001b[38;5;28;01melse\u001b[39;00m:\n\u001b[32m--> \u001b[39m\u001b[32m943\u001b[39m     writer = \u001b[43mExcelWriter\u001b[49m\u001b[43m(\u001b[49m\n\u001b[32m    944\u001b[39m \u001b[43m        \u001b[49m\u001b[43mwriter\u001b[49m\u001b[43m,\u001b[49m\n\u001b[32m    945\u001b[39m \u001b[43m        \u001b[49m\u001b[43mengine\u001b[49m\u001b[43m=\u001b[49m\u001b[43mengine\u001b[49m\u001b[43m,\u001b[49m\n\u001b[32m    946\u001b[39m \u001b[43m        \u001b[49m\u001b[43mstorage_options\u001b[49m\u001b[43m=\u001b[49m\u001b[43mstorage_options\u001b[49m\u001b[43m,\u001b[49m\n\u001b[32m    947\u001b[39m \u001b[43m        \u001b[49m\u001b[43mengine_kwargs\u001b[49m\u001b[43m=\u001b[49m\u001b[43mengine_kwargs\u001b[49m\u001b[43m,\u001b[49m\n\u001b[32m    948\u001b[39m \u001b[43m    \u001b[49m\u001b[43m)\u001b[49m\n\u001b[32m    949\u001b[39m     need_save = \u001b[38;5;28;01mTrue\u001b[39;00m\n\u001b[32m    951\u001b[39m \u001b[38;5;28;01mtry\u001b[39;00m:\n",
      "\u001b[36mFile \u001b[39m\u001b[32m~/miniconda3/envs/Mip/lib/python3.13/site-packages/pandas/io/excel/_openpyxl.py:61\u001b[39m, in \u001b[36mOpenpyxlWriter.__init__\u001b[39m\u001b[34m(self, path, engine, date_format, datetime_format, mode, storage_options, if_sheet_exists, engine_kwargs, **kwargs)\u001b[39m\n\u001b[32m     57\u001b[39m \u001b[38;5;28;01mfrom\u001b[39;00m\u001b[38;5;250m \u001b[39m\u001b[34;01mopenpyxl\u001b[39;00m\u001b[34;01m.\u001b[39;00m\u001b[34;01mworkbook\u001b[39;00m\u001b[38;5;250m \u001b[39m\u001b[38;5;28;01mimport\u001b[39;00m Workbook\n\u001b[32m     59\u001b[39m engine_kwargs = combine_kwargs(engine_kwargs, kwargs)\n\u001b[32m---> \u001b[39m\u001b[32m61\u001b[39m \u001b[38;5;28;43msuper\u001b[39;49m\u001b[43m(\u001b[49m\u001b[43m)\u001b[49m\u001b[43m.\u001b[49m\u001b[34;43m__init__\u001b[39;49m\u001b[43m(\u001b[49m\n\u001b[32m     62\u001b[39m \u001b[43m    \u001b[49m\u001b[43mpath\u001b[49m\u001b[43m,\u001b[49m\n\u001b[32m     63\u001b[39m \u001b[43m    \u001b[49m\u001b[43mmode\u001b[49m\u001b[43m=\u001b[49m\u001b[43mmode\u001b[49m\u001b[43m,\u001b[49m\n\u001b[32m     64\u001b[39m \u001b[43m    \u001b[49m\u001b[43mstorage_options\u001b[49m\u001b[43m=\u001b[49m\u001b[43mstorage_options\u001b[49m\u001b[43m,\u001b[49m\n\u001b[32m     65\u001b[39m \u001b[43m    \u001b[49m\u001b[43mif_sheet_exists\u001b[49m\u001b[43m=\u001b[49m\u001b[43mif_sheet_exists\u001b[49m\u001b[43m,\u001b[49m\n\u001b[32m     66\u001b[39m \u001b[43m    \u001b[49m\u001b[43mengine_kwargs\u001b[49m\u001b[43m=\u001b[49m\u001b[43mengine_kwargs\u001b[49m\u001b[43m,\u001b[49m\n\u001b[32m     67\u001b[39m \u001b[43m\u001b[49m\u001b[43m)\u001b[49m\n\u001b[32m     69\u001b[39m \u001b[38;5;66;03m# ExcelWriter replaced \"a\" by \"r+\" to allow us to first read the excel file from\u001b[39;00m\n\u001b[32m     70\u001b[39m \u001b[38;5;66;03m# the file and later write to it\u001b[39;00m\n\u001b[32m     71\u001b[39m \u001b[38;5;28;01mif\u001b[39;00m \u001b[33m\"\u001b[39m\u001b[33mr+\u001b[39m\u001b[33m\"\u001b[39m \u001b[38;5;129;01min\u001b[39;00m \u001b[38;5;28mself\u001b[39m._mode:  \u001b[38;5;66;03m# Load from existing workbook\u001b[39;00m\n",
      "\u001b[36mFile \u001b[39m\u001b[32m~/miniconda3/envs/Mip/lib/python3.13/site-packages/pandas/io/excel/_base.py:1246\u001b[39m, in \u001b[36mExcelWriter.__init__\u001b[39m\u001b[34m(self, path, engine, date_format, datetime_format, mode, storage_options, if_sheet_exists, engine_kwargs)\u001b[39m\n\u001b[32m   1242\u001b[39m \u001b[38;5;28mself\u001b[39m._handles = IOHandles(\n\u001b[32m   1243\u001b[39m     cast(IO[\u001b[38;5;28mbytes\u001b[39m], path), compression={\u001b[33m\"\u001b[39m\u001b[33mcompression\u001b[39m\u001b[33m\"\u001b[39m: \u001b[38;5;28;01mNone\u001b[39;00m}\n\u001b[32m   1244\u001b[39m )\n\u001b[32m   1245\u001b[39m \u001b[38;5;28;01mif\u001b[39;00m \u001b[38;5;129;01mnot\u001b[39;00m \u001b[38;5;28misinstance\u001b[39m(path, ExcelWriter):\n\u001b[32m-> \u001b[39m\u001b[32m1246\u001b[39m     \u001b[38;5;28mself\u001b[39m._handles = \u001b[43mget_handle\u001b[49m\u001b[43m(\u001b[49m\n\u001b[32m   1247\u001b[39m \u001b[43m        \u001b[49m\u001b[43mpath\u001b[49m\u001b[43m,\u001b[49m\u001b[43m \u001b[49m\u001b[43mmode\u001b[49m\u001b[43m,\u001b[49m\u001b[43m \u001b[49m\u001b[43mstorage_options\u001b[49m\u001b[43m=\u001b[49m\u001b[43mstorage_options\u001b[49m\u001b[43m,\u001b[49m\u001b[43m \u001b[49m\u001b[43mis_text\u001b[49m\u001b[43m=\u001b[49m\u001b[38;5;28;43;01mFalse\u001b[39;49;00m\n\u001b[32m   1248\u001b[39m \u001b[43m    \u001b[49m\u001b[43m)\u001b[49m\n\u001b[32m   1249\u001b[39m \u001b[38;5;28mself\u001b[39m._cur_sheet = \u001b[38;5;28;01mNone\u001b[39;00m\n\u001b[32m   1251\u001b[39m \u001b[38;5;28;01mif\u001b[39;00m date_format \u001b[38;5;129;01mis\u001b[39;00m \u001b[38;5;28;01mNone\u001b[39;00m:\n",
      "\u001b[36mFile \u001b[39m\u001b[32m~/miniconda3/envs/Mip/lib/python3.13/site-packages/pandas/io/common.py:749\u001b[39m, in \u001b[36mget_handle\u001b[39m\u001b[34m(path_or_buf, mode, encoding, compression, memory_map, is_text, errors, storage_options)\u001b[39m\n\u001b[32m    747\u001b[39m \u001b[38;5;66;03m# Only for write methods\u001b[39;00m\n\u001b[32m    748\u001b[39m \u001b[38;5;28;01mif\u001b[39;00m \u001b[33m\"\u001b[39m\u001b[33mr\u001b[39m\u001b[33m\"\u001b[39m \u001b[38;5;129;01mnot\u001b[39;00m \u001b[38;5;129;01min\u001b[39;00m mode \u001b[38;5;129;01mand\u001b[39;00m is_path:\n\u001b[32m--> \u001b[39m\u001b[32m749\u001b[39m     \u001b[43mcheck_parent_directory\u001b[49m\u001b[43m(\u001b[49m\u001b[38;5;28;43mstr\u001b[39;49m\u001b[43m(\u001b[49m\u001b[43mhandle\u001b[49m\u001b[43m)\u001b[49m\u001b[43m)\u001b[49m\n\u001b[32m    751\u001b[39m \u001b[38;5;28;01mif\u001b[39;00m compression:\n\u001b[32m    752\u001b[39m     \u001b[38;5;28;01mif\u001b[39;00m compression != \u001b[33m\"\u001b[39m\u001b[33mzstd\u001b[39m\u001b[33m\"\u001b[39m:\n\u001b[32m    753\u001b[39m         \u001b[38;5;66;03m# compression libraries do not like an explicit text-mode\u001b[39;00m\n",
      "\u001b[36mFile \u001b[39m\u001b[32m~/miniconda3/envs/Mip/lib/python3.13/site-packages/pandas/io/common.py:616\u001b[39m, in \u001b[36mcheck_parent_directory\u001b[39m\u001b[34m(path)\u001b[39m\n\u001b[32m    614\u001b[39m parent = Path(path).parent\n\u001b[32m    615\u001b[39m \u001b[38;5;28;01mif\u001b[39;00m \u001b[38;5;129;01mnot\u001b[39;00m parent.is_dir():\n\u001b[32m--> \u001b[39m\u001b[32m616\u001b[39m     \u001b[38;5;28;01mraise\u001b[39;00m \u001b[38;5;167;01mOSError\u001b[39;00m(\u001b[33mrf\u001b[39m\u001b[33m\"\u001b[39m\u001b[33mCannot save file into a non-existent directory: \u001b[39m\u001b[33m'\u001b[39m\u001b[38;5;132;01m{\u001b[39;00mparent\u001b[38;5;132;01m}\u001b[39;00m\u001b[33m'\u001b[39m\u001b[33m\"\u001b[39m)\n",
      "\u001b[31mOSError\u001b[39m: Cannot save file into a non-existent directory: 'dados/Outputs'"
     ]
    }
   ],
   "source": [
    "agregacao_final.drop(['FOB Potencial aviação','Fob Tarifado Aviação','proporcao'],axis=1).to_excel('./Outputs/tarifa por setor.xlsx',index=False)"
   ]
  },
  {
   "cell_type": "code",
   "execution_count": null,
   "id": "67297b4d",
   "metadata": {},
   "outputs": [],
   "source": []
  },
  {
   "cell_type": "markdown",
   "id": "3abd61d7",
   "metadata": {},
   "source": [
    "## Pedido Ad-hoc"
   ]
  },
  {
   "cell_type": "code",
   "execution_count": null,
   "id": "f4620716",
   "metadata": {},
   "outputs": [],
   "source": [
    "ncm_sh6_tarifas = ncm_sh6.merge(exportacoes_usa_2024[['SH6']], on='SH6', how='inner')\n",
    "#Criar um arquivo excel e, para cada Instrumento de ncm_sh6_tarifas, criar uma aba apenas com os códigos CO_SH6\n",
    "with pd.ExcelWriter('./Outputs/final/lista_SH6_por_tarifa.xlsx') as writer:\n",
    "    for instrumento in ncm_sh6_tarifas['Instrumento'].unique():\n",
    "        #Remover caracteres especiais do nome da aba\n",
    "        instrumento_escape = instrumento.replace('/', '_').replace(' ', '_').replace('(', '').replace(')', '')\n",
    "        ncm_sh6_tarifas.query('Instrumento == @instrumento')[['SH6']].to_excel(writer, sheet_name=instrumento_escape+'SH6', index=False)\n",
    "        lista_sh6 = ncm_sh6_tarifas.query('Instrumento == @instrumento')['SH6'].unique()\n",
    "        ncm.query('CO_SH6 in @lista_sh6')[['CO_NCM']].to_excel(writer, sheet_name=instrumento_escape+' NCM', index=False)\n",
    "\n"
   ]
  }
 ],
 "metadata": {
  "kernelspec": {
   "display_name": "Mip",
   "language": "python",
   "name": "python3"
  },
  "language_info": {
   "codemirror_mode": {
    "name": "ipython",
    "version": 3
   },
   "file_extension": ".py",
   "mimetype": "text/x-python",
   "name": "python",
   "nbconvert_exporter": "python",
   "pygments_lexer": "ipython3",
   "version": "3.13.2"
  }
 },
 "nbformat": 4,
 "nbformat_minor": 5
}
