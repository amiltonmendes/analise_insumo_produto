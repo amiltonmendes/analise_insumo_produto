{
 "cells": [
  {
   "cell_type": "code",
   "execution_count": 1,
   "id": "bc41bd6b",
   "metadata": {},
   "outputs": [],
   "source": [
    "import pandas as pd"
   ]
  },
  {
   "cell_type": "code",
   "execution_count": null,
   "id": "0e7a87d3",
   "metadata": {},
   "outputs": [],
   "source": [
    "tarifas = pd.read_excel('./dados/comex/impacto_empresas/tarifas_totais_232.xlsx')"
   ]
  },
  {
   "cell_type": "code",
   "execution_count": 104,
   "id": "e51a77fa",
   "metadata": {},
   "outputs": [],
   "source": [
    "empresas = pd.read_excel('./dados/comex/impacto_empresas/Diagnóstico Impacto do Tarifaço EUA sobre as Empresas Brasileiras(1-218).xlsx',dtype={'Liste os Códigos Tarifários (NCM) mais Representativos nas Exportações para os EUA:': str})"
   ]
  },
  {
   "cell_type": "code",
   "execution_count": 105,
   "id": "2587467a",
   "metadata": {},
   "outputs": [
    {
     "data": {
      "text/plain": [
       "(218, 12)"
      ]
     },
     "execution_count": 105,
     "metadata": {},
     "output_type": "execute_result"
    }
   ],
   "source": [
    "empresas.shape"
   ]
  },
  {
   "cell_type": "code",
   "execution_count": 106,
   "id": "7d82b9b9",
   "metadata": {},
   "outputs": [],
   "source": [
    "#Criar uma coluna ncm que é o resultado da remoção de caracteres diferentes de números, pontos, espaços \\n e tab da coluna `Liste os Códigos Tarifários (NCM) mais Representativos nas Exportações para os EUA:``\n",
    "\n",
    "empresas['ncm'] = empresas['Liste os Códigos Tarifários (NCM) mais Representativos nas Exportações para os EUA:'].str.replace(r'[^\\d \\n\\t]', '', regex=True)\n"
   ]
  },
  {
   "cell_type": "code",
   "execution_count": 107,
   "id": "18290c21",
   "metadata": {},
   "outputs": [
    {
     "data": {
      "application/vnd.microsoft.datawrangler.viewer.v0+json": {
       "columns": [
        {
         "name": "index",
         "rawType": "int64",
         "type": "integer"
        },
        {
         "name": "Liste os Códigos Tarifários (NCM) mais Representativos nas Exportações para os EUA:",
         "rawType": "object",
         "type": "unknown"
        },
        {
         "name": "ncm",
         "rawType": "object",
         "type": "unknown"
        }
       ],
       "ref": "d2fc5222-d956-40a4-b6cc-6cbc00a899b4",
       "rows": [
        [
         "0",
         "47032900",
         "47032900"
        ],
        [
         "1",
         "48102990, 48109290, 48026199\n",
         "48102990 48109290 48026199\n"
        ],
        [
         "2",
         "7202.30.00\n7202.11.00\n",
         "72023000\n72021100\n"
        ],
        [
         "3",
         "7202.21.00   \n2804.69.00",
         "72022100   \n28046900"
        ],
        [
         "4",
         "MDF - 441112 / 441113 / 441114 \nMDP - 441011 ",
         "  441112  441113  441114 \n  441011 "
        ],
        [
         "5",
         "7202.41.00 Ferro Cromo Alto Carbono\n7202.21.00 Ferrossilício\n7202.49.00 Ferro Cromo Baixo Carbono\n",
         "72024100    \n72022100 \n72024900    \n"
        ],
        [
         "6",
         "2804.69.00 - Silício Metálico\n7202.99.90 - Ferro Silício / Inoculantes\n",
         "28046900   \n72029990     \n"
        ],
        [
         "7",
         "7202.99.90 - Ferro Silício / Inoculantes",
         "72029990     "
        ],
        [
         "8",
         "72071200\n72072000\n72071110\n72085100\n72085200\n72283000\n72149910\n72132000\n72143000",
         "72071200\n72072000\n72071110\n72085100\n72085200\n72283000\n72149910\n72132000\n72143000"
        ],
        [
         "9",
         "73041900\n73042939",
         "73041900\n73042939"
        ],
        [
         "10",
         "72022100",
         "72022100"
        ],
        [
         "11",
         "7202.99.90\n7202.21.00",
         "72029990\n72022100"
        ],
        [
         "12",
         "280469000\n72022100",
         "280469000\n72022100"
        ],
        [
         "13",
         "7601, 7604, 7605, 8111, 28259090",
         "7601 7604 7605 8111 28259090"
        ],
        [
         "14",
         "8431.31.10 /7604.10.10 /7604.10.29 /7604.29.20",
         "84313110 76041010 76041029 76042920"
        ],
        [
         "15",
         "4802.55\n4802.56\n4802.57",
         "480255\n480256\n480257"
        ],
        [
         "16",
         "NCM: 28046900",
         " 28046900"
        ],
        [
         "17",
         "NCM 7604.21.00",
         " 76042100"
        ],
        [
         "18",
         "32129010",
         "32129010"
        ],
        [
         "19",
         "72191300\n72191400\n72192100\n72193300\n72193400\n72193500\n72251100\n72251900 (potencial)\n72261900 (potencial)",
         "72191300\n72191400\n72192100\n72193300\n72193400\n72193500\n72251100\n72251900 \n72261900 "
        ],
        [
         "20",
         "28182010",
         "28182010"
        ],
        [
         "21",
         "72023000 - Ferrosilicomanganês\n72021100 - Ferromanganês Alto Carbono",
         "72023000  \n72021100    "
        ],
        [
         "22",
         "Não exportamos para os EUA. Essa questão não afeta diretamente nossas operações, pois não exportamos para os EUA, nem importamos insumos dessa localidade. Todavia, este tema tende impactar alguns segmentos no Brasil consumidores de nossos produtos (p.e. papel/celulose e alumínio), que são forte exportadores aos EUA. Num cenário de restrição imposta pelos EUA, há impactos nos níveis de produção desses nossos clientes, que podem vir a reduzir seus níveis de produção, impactando nossas vendas a esses segmentos.",
         "                                                                            "
        ],
        [
         "23",
         "Dentre alguns temos 39.20.10.99 ",
         "   39201099 "
        ],
        [
         "24",
         "89069000",
         "89069000"
        ],
        [
         "25",
         null,
         null
        ],
        [
         "26",
         "No nosso caso seriam 85.41 e 85.42",
         "    8541  8542"
        ],
        [
         "27",
         "3004.49.20",
         "30044920"
        ],
        [
         "28",
         "27101922, 27101259, 27090010",
         "27101922 27101259 27090010"
        ],
        [
         "29",
         "7326.90.90\n8536.90.90\n7312.10.90\n7217.30.90\n8544.49.00\n8544.60.00\n7614.10.10\n7605.29.90",
         "73269090\n85369090\n73121090\n72173090\n85444900\n85446000\n76141010\n76052990"
        ],
        [
         "30",
         "8414.3011",
         "84143011"
        ],
        [
         "31",
         null,
         null
        ],
        [
         "32",
         "8411.11.40; 8411.12.40; 8411.81.40; 8411.82.40; 8411.91.90; 8411.91.90; 8411.99.10; 8411.99.90; 8802.30.01; 8802.40.01; 8807.10.00; 8807.20.00; 8807.30.00; 8807.90.90",
         "84111140 84111240 84118140 84118240 84119190 84119190 84119910 84119990 88023001 88024001 88071000 88072000 88073000 88079090"
        ],
        [
         "33",
         "Não exportamos",
         " "
        ],
        [
         "34",
         "84119100,\t84111200,\t84831090,\t90328989,\t75089090,\t84133020,\t90261019,\t84825010,\t90328990,\t73269090,\t39269090,\t84833029,\t85444200,\t73181600,\t84813000,\t84821090,\t84123900,\t84839000,\t84122110,\t85016200,\t84811000,\t40169300,\t73181500,\t85443000,\t90251990,\t73182900,\t84832000,\t84825090,\t84812090,\t84133030,\t85369090,\t84195021,\t81059090,\t84836090,\t84814000,\t90319010,\t90262090,\t84834010,\t40169990,\t84841000,\t81089000,\t73129000,\t84213990,\t84129080,\t84823000,\t84842000,\t83071090,\t76161000,\t84819090,\t84821010,\t73072900,\t85111000,\t85446000,\t85444900,\t84219999,\t90319090,\t84243090,\t84834090,\t76169900,\t85437099,\t84829990,\t84828000,\t68151900,\t84212990\n",
         "84119100\t84111200\t84831090\t90328989\t75089090\t84133020\t90261019\t84825010\t90328990\t73269090\t39269090\t84833029\t85444200\t73181600\t84813000\t84821090\t84123900\t84839000\t84122110\t85016200\t84811000\t40169300\t73181500\t85443000\t90251990\t73182900\t84832000\t84825090\t84812090\t84133030\t85369090\t84195021\t81059090\t84836090\t84814000\t90319010\t90262090\t84834010\t40169990\t84841000\t81089000\t73129000\t84213990\t84129080\t84823000\t84842000\t83071090\t76161000\t84819090\t84821010\t73072900\t85111000\t85446000\t85444900\t84219999\t90319090\t84243090\t84834090\t76169900\t85437099\t84829990\t84828000\t68151900\t84212990\n"
        ],
        [
         "35",
         "7222.11.00\n7222.20.00\n7227.10.00\n7227.90.00\n7228.10.90\n7228.30.00\n7228.50.00\n7229.90.00\n7505.12.10\n7505.22.90",
         "72221100\n72222000\n72271000\n72279000\n72281090\n72283000\n72285000\n72299000\n75051210\n75052290"
        ],
        [
         "36",
         "Capitulo 94",
         " 94"
        ],
        [
         "37",
         "Não exportamos para os EUA. Nosso impacto é caso exista reciprocidade na tarifa. Importamos matéria primas importantes dos EUA.",
         "                  "
        ],
        [
         "38",
         "0303.89.10 0303.89.90",
         "03038910 03038990"
        ],
        [
         "39",
         "03023400,03024700,03028990,03061190",
         "03023400030247000302899003061190"
        ],
        [
         "40",
         "2520.20.10\n\n2922.49.20\n\n3006.40.11\n\n3006.40.12\n\n3006.70.00\n\n3306.90.00\n\n3407.00.20\n\n3824.90.89\n\n3910.00.13\n\n3910.00.90\n\n9018.49.99",
         "25202010\n\n29224920\n\n30064011\n\n30064012\n\n30067000\n\n33069000\n\n34070020\n\n38249089\n\n39100013\n\n39100090\n\n90184999"
        ],
        [
         "41",
         "8804\n8803",
         "8804\n8803"
        ],
        [
         "42",
         null,
         null
        ],
        [
         "43",
         "21.01.11.10",
         "21011110"
        ],
        [
         "44",
         "6404.20.00",
         "64042000"
        ],
        [
         "45",
         "41079210",
         "41079210"
        ],
        [
         "46",
         "6403.99.90",
         "64039990"
        ],
        [
         "47",
         null,
         null
        ],
        [
         "48",
         "43021990",
         "43021990"
        ],
        [
         "49",
         null,
         null
        ]
       ],
       "shape": {
        "columns": 2,
        "rows": 218
       }
      },
      "text/html": [
       "<div>\n",
       "<style scoped>\n",
       "    .dataframe tbody tr th:only-of-type {\n",
       "        vertical-align: middle;\n",
       "    }\n",
       "\n",
       "    .dataframe tbody tr th {\n",
       "        vertical-align: top;\n",
       "    }\n",
       "\n",
       "    .dataframe thead th {\n",
       "        text-align: right;\n",
       "    }\n",
       "</style>\n",
       "<table border=\"1\" class=\"dataframe\">\n",
       "  <thead>\n",
       "    <tr style=\"text-align: right;\">\n",
       "      <th></th>\n",
       "      <th>Liste os Códigos Tarifários (NCM) mais Representativos nas Exportações para os EUA:</th>\n",
       "      <th>ncm</th>\n",
       "    </tr>\n",
       "  </thead>\n",
       "  <tbody>\n",
       "    <tr>\n",
       "      <th>0</th>\n",
       "      <td>47032900</td>\n",
       "      <td>47032900</td>\n",
       "    </tr>\n",
       "    <tr>\n",
       "      <th>1</th>\n",
       "      <td>48102990, 48109290, 48026199\\n</td>\n",
       "      <td>48102990 48109290 48026199\\n</td>\n",
       "    </tr>\n",
       "    <tr>\n",
       "      <th>2</th>\n",
       "      <td>7202.30.00\\n7202.11.00\\n</td>\n",
       "      <td>72023000\\n72021100\\n</td>\n",
       "    </tr>\n",
       "    <tr>\n",
       "      <th>3</th>\n",
       "      <td>7202.21.00   \\n2804.69.00</td>\n",
       "      <td>72022100   \\n28046900</td>\n",
       "    </tr>\n",
       "    <tr>\n",
       "      <th>4</th>\n",
       "      <td>MDF - 441112 / 441113 / 441114 \\nMDP - 441011</td>\n",
       "      <td>441112  441113  441114 \\n  441011</td>\n",
       "    </tr>\n",
       "    <tr>\n",
       "      <th>...</th>\n",
       "      <td>...</td>\n",
       "      <td>...</td>\n",
       "    </tr>\n",
       "    <tr>\n",
       "      <th>213</th>\n",
       "      <td>4114001</td>\n",
       "      <td>4114001</td>\n",
       "    </tr>\n",
       "    <tr>\n",
       "      <th>214</th>\n",
       "      <td>19063210</td>\n",
       "      <td>19063210</td>\n",
       "    </tr>\n",
       "    <tr>\n",
       "      <th>215</th>\n",
       "      <td>93063000\\n82055900\\n56031340\\n48059100\\n701971...</td>\n",
       "      <td>93063000\\n82055900\\n56031340\\n48059100\\n701971...</td>\n",
       "    </tr>\n",
       "    <tr>\n",
       "      <th>216</th>\n",
       "      <td>3004.49.20\\n2106.90.90\\n1302.19.99</td>\n",
       "      <td>30044920\\n21069090\\n13021999</td>\n",
       "    </tr>\n",
       "    <tr>\n",
       "      <th>217</th>\n",
       "      <td>3004.49.20\\n2106.90.90\\n1302.19.99\\n1302.19.90\\n</td>\n",
       "      <td>30044920\\n21069090\\n13021999\\n13021990\\n</td>\n",
       "    </tr>\n",
       "  </tbody>\n",
       "</table>\n",
       "<p>218 rows × 2 columns</p>\n",
       "</div>"
      ],
      "text/plain": [
       "    Liste os Códigos Tarifários (NCM) mais Representativos nas Exportações para os EUA:  \\\n",
       "0                                             47032900                                    \n",
       "1                       48102990, 48109290, 48026199\\n                                    \n",
       "2                             7202.30.00\\n7202.11.00\\n                                    \n",
       "3                            7202.21.00   \\n2804.69.00                                    \n",
       "4       MDF - 441112 / 441113 / 441114 \\nMDP - 441011                                     \n",
       "..                                                 ...                                    \n",
       "213                                            4114001                                    \n",
       "214                                           19063210                                    \n",
       "215  93063000\\n82055900\\n56031340\\n48059100\\n701971...                                    \n",
       "216                 3004.49.20\\n2106.90.90\\n1302.19.99                                    \n",
       "217   3004.49.20\\n2106.90.90\\n1302.19.99\\n1302.19.90\\n                                    \n",
       "\n",
       "                                                   ncm  \n",
       "0                                             47032900  \n",
       "1                         48102990 48109290 48026199\\n  \n",
       "2                                 72023000\\n72021100\\n  \n",
       "3                                72022100   \\n28046900  \n",
       "4                   441112  441113  441114 \\n  441011   \n",
       "..                                                 ...  \n",
       "213                                            4114001  \n",
       "214                                           19063210  \n",
       "215  93063000\\n82055900\\n56031340\\n48059100\\n701971...  \n",
       "216                       30044920\\n21069090\\n13021999  \n",
       "217           30044920\\n21069090\\n13021999\\n13021990\\n  \n",
       "\n",
       "[218 rows x 2 columns]"
      ]
     },
     "execution_count": 107,
     "metadata": {},
     "output_type": "execute_result"
    }
   ],
   "source": [
    "empresas[['Liste os Códigos Tarifários (NCM) mais Representativos nas Exportações para os EUA:', 'ncm']]"
   ]
  },
  {
   "cell_type": "code",
   "execution_count": 108,
   "id": "0b7f4f14",
   "metadata": {},
   "outputs": [],
   "source": [
    "#Separar o ncm em uma lista\n",
    "empresas['ncm'] = empresas['ncm'].str.split()"
   ]
  },
  {
   "cell_type": "code",
   "execution_count": 109,
   "id": "a5465f4c",
   "metadata": {},
   "outputs": [
    {
     "data": {
      "application/vnd.microsoft.datawrangler.viewer.v0+json": {
       "columns": [
        {
         "name": "index",
         "rawType": "int64",
         "type": "integer"
        },
        {
         "name": "ID",
         "rawType": "int64",
         "type": "integer"
        },
        {
         "name": "Start time",
         "rawType": "datetime64[ns]",
         "type": "datetime"
        },
        {
         "name": "Completion time",
         "rawType": "datetime64[ns]",
         "type": "datetime"
        },
        {
         "name": "Email",
         "rawType": "object",
         "type": "string"
        },
        {
         "name": "Name",
         "rawType": "float64",
         "type": "float"
        },
        {
         "name": "Last modified time",
         "rawType": "float64",
         "type": "float"
        },
        {
         "name": "Empresa",
         "rawType": "object",
         "type": "string"
        },
        {
         "name": "Contato (Nome, Telefone e E-mail)",
         "rawType": "object",
         "type": "string"
        },
        {
         "name": "Qual a participação (%) das exportações aos Estados Unidos na receita total da empresa?\n(Resposta numérica – ex: 25)",
         "rawType": "object",
         "type": "string"
        },
        {
         "name": "Qual a participação (%) das exportações aos Estados Unidos em relação ao total exportado pela empresa?\n(Resposta numérica – ex: 25)\n",
         "rawType": "object",
         "type": "string"
        },
        {
         "name": "Quais mercados a empresa entende que podem ser acessados no médio prazo?\n(Resposta longa – ex: América Latina, Oriente Médio, Sudeste Asiático etc.)\n",
         "rawType": "object",
         "type": "string"
        },
        {
         "name": "Liste os Códigos Tarifários (NCM) mais Representativos nas Exportações para os EUA:",
         "rawType": "object",
         "type": "string"
        },
        {
         "name": "ncm",
         "rawType": "object",
         "type": "unknown"
        }
       ],
       "ref": "0235e2bf-82b9-44e0-b088-1a98dcca77f7",
       "rows": [
        [
         "0",
         "1",
         "2025-07-24 13:26:12",
         "2025-07-24 13:30:37",
         "anonymous",
         null,
         null,
         "Celulose Nipo-Brasileira S/A - CENIBRA",
         "Júlio César Tôrres Ribeiro\n+55-31-99126-8778\njulio.ribeiro@cenibra.com.br",
         "10,5",
         "9,3",
         "Ásia e Europa, porém são mercados maduros e demandas consolidadas. Expectativa de médio/longo prazo.",
         "47032900",
         "['47032900']"
        ],
        [
         "1",
         "2",
         "2025-07-24 14:34:06",
         "2025-07-24 14:38:36",
         "anonymous",
         null,
         null,
         "Ibema Companhia Brasileira de Papel",
         "Fernando Carvalho, (41)99201-8182, fernando.carvalho@ibema.com.br",
         "5%",
         "15%",
         "Latam, África e Europa",
         "48102990, 48109290, 48026199\n",
         "['48102990', '48109290', '48026199']"
        ]
       ],
       "shape": {
        "columns": 13,
        "rows": 2
       }
      },
      "text/html": [
       "<div>\n",
       "<style scoped>\n",
       "    .dataframe tbody tr th:only-of-type {\n",
       "        vertical-align: middle;\n",
       "    }\n",
       "\n",
       "    .dataframe tbody tr th {\n",
       "        vertical-align: top;\n",
       "    }\n",
       "\n",
       "    .dataframe thead th {\n",
       "        text-align: right;\n",
       "    }\n",
       "</style>\n",
       "<table border=\"1\" class=\"dataframe\">\n",
       "  <thead>\n",
       "    <tr style=\"text-align: right;\">\n",
       "      <th></th>\n",
       "      <th>ID</th>\n",
       "      <th>Start time</th>\n",
       "      <th>Completion time</th>\n",
       "      <th>Email</th>\n",
       "      <th>Name</th>\n",
       "      <th>Last modified time</th>\n",
       "      <th>Empresa</th>\n",
       "      <th>Contato (Nome, Telefone e E-mail)</th>\n",
       "      <th>Qual a participação (%) das exportações aos Estados Unidos na receita total da empresa?\\n(Resposta numérica – ex: 25)</th>\n",
       "      <th>Qual a participação (%) das exportações aos Estados Unidos em relação ao total exportado pela empresa?\\n(Resposta numérica – ex: 25)\\n</th>\n",
       "      <th>Quais mercados a empresa entende que podem ser acessados no médio prazo?\\n(Resposta longa – ex: América Latina, Oriente Médio, Sudeste Asiático etc.)\\n</th>\n",
       "      <th>Liste os Códigos Tarifários (NCM) mais Representativos nas Exportações para os EUA:</th>\n",
       "      <th>ncm</th>\n",
       "    </tr>\n",
       "  </thead>\n",
       "  <tbody>\n",
       "    <tr>\n",
       "      <th>0</th>\n",
       "      <td>1</td>\n",
       "      <td>2025-07-24 13:26:12</td>\n",
       "      <td>2025-07-24 13:30:37</td>\n",
       "      <td>anonymous</td>\n",
       "      <td>NaN</td>\n",
       "      <td>NaN</td>\n",
       "      <td>Celulose Nipo-Brasileira S/A - CENIBRA</td>\n",
       "      <td>Júlio César Tôrres Ribeiro\\n+55-31-99126-8778\\...</td>\n",
       "      <td>10,5</td>\n",
       "      <td>9,3</td>\n",
       "      <td>Ásia e Europa, porém são mercados maduros e de...</td>\n",
       "      <td>47032900</td>\n",
       "      <td>[47032900]</td>\n",
       "    </tr>\n",
       "    <tr>\n",
       "      <th>1</th>\n",
       "      <td>2</td>\n",
       "      <td>2025-07-24 14:34:06</td>\n",
       "      <td>2025-07-24 14:38:36</td>\n",
       "      <td>anonymous</td>\n",
       "      <td>NaN</td>\n",
       "      <td>NaN</td>\n",
       "      <td>Ibema Companhia Brasileira de Papel</td>\n",
       "      <td>Fernando Carvalho, (41)99201-8182, fernando.ca...</td>\n",
       "      <td>5%</td>\n",
       "      <td>15%</td>\n",
       "      <td>Latam, África e Europa</td>\n",
       "      <td>48102990, 48109290, 48026199\\n</td>\n",
       "      <td>[48102990, 48109290, 48026199]</td>\n",
       "    </tr>\n",
       "  </tbody>\n",
       "</table>\n",
       "</div>"
      ],
      "text/plain": [
       "   ID          Start time     Completion time      Email  Name  \\\n",
       "0   1 2025-07-24 13:26:12 2025-07-24 13:30:37  anonymous   NaN   \n",
       "1   2 2025-07-24 14:34:06 2025-07-24 14:38:36  anonymous   NaN   \n",
       "\n",
       "   Last modified time                                 Empresa  \\\n",
       "0                 NaN  Celulose Nipo-Brasileira S/A - CENIBRA   \n",
       "1                 NaN     Ibema Companhia Brasileira de Papel   \n",
       "\n",
       "                   Contato (Nome, Telefone e E-mail)  \\\n",
       "0  Júlio César Tôrres Ribeiro\\n+55-31-99126-8778\\...   \n",
       "1  Fernando Carvalho, (41)99201-8182, fernando.ca...   \n",
       "\n",
       "  Qual a participação (%) das exportações aos Estados Unidos na receita total da empresa?\\n(Resposta numérica – ex: 25)  \\\n",
       "0                                               10,5                                                                      \n",
       "1                                                 5%                                                                      \n",
       "\n",
       "  Qual a participação (%) das exportações aos Estados Unidos em relação ao total exportado pela empresa?\\n(Resposta numérica – ex: 25)\\n  \\\n",
       "0                                                9,3                                                                                       \n",
       "1                                                15%                                                                                       \n",
       "\n",
       "  Quais mercados a empresa entende que podem ser acessados no médio prazo?\\n(Resposta longa – ex: América Latina, Oriente Médio, Sudeste Asiático etc.)\\n  \\\n",
       "0  Ásia e Europa, porém são mercados maduros e de...                                                                                                        \n",
       "1                             Latam, África e Europa                                                                                                        \n",
       "\n",
       "  Liste os Códigos Tarifários (NCM) mais Representativos nas Exportações para os EUA:  \\\n",
       "0                                           47032900                                    \n",
       "1                     48102990, 48109290, 48026199\\n                                    \n",
       "\n",
       "                              ncm  \n",
       "0                      [47032900]  \n",
       "1  [48102990, 48109290, 48026199]  "
      ]
     },
     "execution_count": 109,
     "metadata": {},
     "output_type": "execute_result"
    }
   ],
   "source": [
    "empresas.head(2)"
   ]
  },
  {
   "cell_type": "code",
   "execution_count": 110,
   "id": "fdbbb980",
   "metadata": {},
   "outputs": [],
   "source": [
    "#Explodir o dataframe criando um registro para cada linha de ncm\n",
    "empresas = empresas.explode('ncm')\n"
   ]
  },
  {
   "cell_type": "code",
   "execution_count": 111,
   "id": "f0bc879a",
   "metadata": {},
   "outputs": [],
   "source": [
    "# 4. Remover valores nulos após explode\n",
    "empresas = empresas.dropna(subset=['ncm'])\n",
    "#remover valores de ncm com menos de 2 dígitos\n",
    "empresas = empresas[empresas['ncm'].str.len() >= 2]\n"
   ]
  },
  {
   "cell_type": "code",
   "execution_count": 112,
   "id": "2eec5da1",
   "metadata": {},
   "outputs": [],
   "source": [
    "# 5. Tratar códigos NCM individuais (não listas)\n",
    "empresas['ncm'] = empresas['ncm'].apply(lambda x: str(x)[:6] if len(str(x)) > 6 else str(x))\n"
   ]
  },
  {
   "cell_type": "code",
   "execution_count": 113,
   "id": "b1b5cb62",
   "metadata": {},
   "outputs": [
    {
     "data": {
      "application/vnd.microsoft.datawrangler.viewer.v0+json": {
       "columns": [
        {
         "name": "index",
         "rawType": "int64",
         "type": "integer"
        },
        {
         "name": "ID",
         "rawType": "int64",
         "type": "integer"
        },
        {
         "name": "Start time",
         "rawType": "datetime64[ns]",
         "type": "datetime"
        },
        {
         "name": "Completion time",
         "rawType": "datetime64[ns]",
         "type": "datetime"
        },
        {
         "name": "Email",
         "rawType": "object",
         "type": "string"
        },
        {
         "name": "Name",
         "rawType": "float64",
         "type": "float"
        },
        {
         "name": "Last modified time",
         "rawType": "float64",
         "type": "float"
        },
        {
         "name": "Empresa",
         "rawType": "object",
         "type": "string"
        },
        {
         "name": "Contato (Nome, Telefone e E-mail)",
         "rawType": "object",
         "type": "string"
        },
        {
         "name": "Qual a participação (%) das exportações aos Estados Unidos na receita total da empresa?\n(Resposta numérica – ex: 25)",
         "rawType": "object",
         "type": "string"
        },
        {
         "name": "Qual a participação (%) das exportações aos Estados Unidos em relação ao total exportado pela empresa?\n(Resposta numérica – ex: 25)\n",
         "rawType": "object",
         "type": "string"
        },
        {
         "name": "Quais mercados a empresa entende que podem ser acessados no médio prazo?\n(Resposta longa – ex: América Latina, Oriente Médio, Sudeste Asiático etc.)\n",
         "rawType": "object",
         "type": "string"
        },
        {
         "name": "Liste os Códigos Tarifários (NCM) mais Representativos nas Exportações para os EUA:",
         "rawType": "object",
         "type": "string"
        },
        {
         "name": "ncm",
         "rawType": "object",
         "type": "string"
        }
       ],
       "ref": "f2e4253c-59ec-4775-9912-b36e8c3a2e0f",
       "rows": [
        [
         "84",
         "85",
         "2025-07-28 21:42:43",
         "2025-07-28 22:11:48",
         "anonymous",
         null,
         null,
         "MBRF",
         "Thalita  Bento de Souza/ (11) 94274-2549 / thalita.souza@marfrig.com.br",
         "4%",
         "6%",
         "Vietnã (bovino); Indonésia (Suino); México, Canadá e China: reconhecimento de mais estados como livre de febre aftosa sem vacinação); ",
         "0201.30.00; 0202.3000; 0203.2; 1602.50.00",
         "02032"
        ]
       ],
       "shape": {
        "columns": 13,
        "rows": 1
       }
      },
      "text/html": [
       "<div>\n",
       "<style scoped>\n",
       "    .dataframe tbody tr th:only-of-type {\n",
       "        vertical-align: middle;\n",
       "    }\n",
       "\n",
       "    .dataframe tbody tr th {\n",
       "        vertical-align: top;\n",
       "    }\n",
       "\n",
       "    .dataframe thead th {\n",
       "        text-align: right;\n",
       "    }\n",
       "</style>\n",
       "<table border=\"1\" class=\"dataframe\">\n",
       "  <thead>\n",
       "    <tr style=\"text-align: right;\">\n",
       "      <th></th>\n",
       "      <th>ID</th>\n",
       "      <th>Start time</th>\n",
       "      <th>Completion time</th>\n",
       "      <th>Email</th>\n",
       "      <th>Name</th>\n",
       "      <th>Last modified time</th>\n",
       "      <th>Empresa</th>\n",
       "      <th>Contato (Nome, Telefone e E-mail)</th>\n",
       "      <th>Qual a participação (%) das exportações aos Estados Unidos na receita total da empresa?\\n(Resposta numérica – ex: 25)</th>\n",
       "      <th>Qual a participação (%) das exportações aos Estados Unidos em relação ao total exportado pela empresa?\\n(Resposta numérica – ex: 25)\\n</th>\n",
       "      <th>Quais mercados a empresa entende que podem ser acessados no médio prazo?\\n(Resposta longa – ex: América Latina, Oriente Médio, Sudeste Asiático etc.)\\n</th>\n",
       "      <th>Liste os Códigos Tarifários (NCM) mais Representativos nas Exportações para os EUA:</th>\n",
       "      <th>ncm</th>\n",
       "    </tr>\n",
       "  </thead>\n",
       "  <tbody>\n",
       "    <tr>\n",
       "      <th>84</th>\n",
       "      <td>85</td>\n",
       "      <td>2025-07-28 21:42:43</td>\n",
       "      <td>2025-07-28 22:11:48</td>\n",
       "      <td>anonymous</td>\n",
       "      <td>NaN</td>\n",
       "      <td>NaN</td>\n",
       "      <td>MBRF</td>\n",
       "      <td>Thalita  Bento de Souza/ (11) 94274-2549 / tha...</td>\n",
       "      <td>4%</td>\n",
       "      <td>6%</td>\n",
       "      <td>Vietnã (bovino); Indonésia (Suino); México, Ca...</td>\n",
       "      <td>0201.30.00; 0202.3000; 0203.2; 1602.50.00</td>\n",
       "      <td>02032</td>\n",
       "    </tr>\n",
       "  </tbody>\n",
       "</table>\n",
       "</div>"
      ],
      "text/plain": [
       "    ID          Start time     Completion time      Email  Name  \\\n",
       "84  85 2025-07-28 21:42:43 2025-07-28 22:11:48  anonymous   NaN   \n",
       "\n",
       "    Last modified time Empresa  \\\n",
       "84                 NaN    MBRF   \n",
       "\n",
       "                    Contato (Nome, Telefone e E-mail)  \\\n",
       "84  Thalita  Bento de Souza/ (11) 94274-2549 / tha...   \n",
       "\n",
       "   Qual a participação (%) das exportações aos Estados Unidos na receita total da empresa?\\n(Resposta numérica – ex: 25)  \\\n",
       "84                                                 4%                                                                      \n",
       "\n",
       "   Qual a participação (%) das exportações aos Estados Unidos em relação ao total exportado pela empresa?\\n(Resposta numérica – ex: 25)\\n  \\\n",
       "84                                                 6%                                                                                       \n",
       "\n",
       "   Quais mercados a empresa entende que podem ser acessados no médio prazo?\\n(Resposta longa – ex: América Latina, Oriente Médio, Sudeste Asiático etc.)\\n  \\\n",
       "84  Vietnã (bovino); Indonésia (Suino); México, Ca...                                                                                                        \n",
       "\n",
       "   Liste os Códigos Tarifários (NCM) mais Representativos nas Exportações para os EUA:  \\\n",
       "84          0201.30.00; 0202.3000; 0203.2; 1602.50.00                                    \n",
       "\n",
       "      ncm  \n",
       "84  02032  "
      ]
     },
     "execution_count": 113,
     "metadata": {},
     "output_type": "execute_result"
    }
   ],
   "source": [
    "empresas.query('ncm.str.len() != 2 and ncm.str.len() != 4 and ncm.str.len() != 6', engine='python')"
   ]
  },
  {
   "cell_type": "code",
   "execution_count": 114,
   "id": "0f3364ce",
   "metadata": {},
   "outputs": [],
   "source": [
    "empresas_2d = empresas.query('ncm.str.len() == 2', engine='python')\n",
    "empresas_6d = empresas.query('ncm.str.len() == 6', engine='python')\n",
    "empresas_4d = empresas.query('ncm.str.len() == 4', engine='python')\n",
    "empresas_5d = empresas.query('ncm.str.len() == 5', engine='python')"
   ]
  },
  {
   "cell_type": "code",
   "execution_count": 115,
   "id": "5d06f94b",
   "metadata": {},
   "outputs": [
    {
     "name": "stdout",
     "output_type": "stream",
     "text": [
      "Tamanhos dos dataframes são 2d: 1, 4d: 15, 5d: 1, 6d: 543 e a soma é 560  \n"
     ]
    }
   ],
   "source": [
    "print(f'Tamanhos dos dataframes são 2d: {empresas_2d.shape[0]}, 4d: {empresas_4d.shape[0]}, 5d: {empresas_5d.shape[0]}, 6d: {empresas_6d.shape[0]} e a soma é {empresas_2d.shape[0] + empresas_4d.shape[0] + empresas_5d.shape[0] + empresas_6d.shape[0]}  ')"
   ]
  },
  {
   "cell_type": "code",
   "execution_count": 130,
   "id": "1194b60a",
   "metadata": {},
   "outputs": [],
   "source": [
    "tarifas['SH6'] = tarifas['SH6'].astype(str)\n",
    "tarifas['SH6'] = tarifas['SH6'].str.zfill(6)"
   ]
  },
  {
   "cell_type": "code",
   "execution_count": 122,
   "id": "9ed0c783",
   "metadata": {},
   "outputs": [
    {
     "data": {
      "application/vnd.microsoft.datawrangler.viewer.v0+json": {
       "columns": [
        {
         "name": "index",
         "rawType": "int64",
         "type": "integer"
        },
        {
         "name": "ID",
         "rawType": "int64",
         "type": "integer"
        },
        {
         "name": "Start time",
         "rawType": "datetime64[ns]",
         "type": "datetime"
        },
        {
         "name": "Completion time",
         "rawType": "datetime64[ns]",
         "type": "datetime"
        },
        {
         "name": "Email",
         "rawType": "object",
         "type": "string"
        },
        {
         "name": "Name",
         "rawType": "float64",
         "type": "float"
        },
        {
         "name": "Last modified time",
         "rawType": "float64",
         "type": "float"
        },
        {
         "name": "Empresa",
         "rawType": "object",
         "type": "string"
        },
        {
         "name": "Contato (Nome, Telefone e E-mail)",
         "rawType": "object",
         "type": "string"
        },
        {
         "name": "Qual a participação (%) das exportações aos Estados Unidos na receita total da empresa?\n(Resposta numérica – ex: 25)",
         "rawType": "object",
         "type": "string"
        },
        {
         "name": "Qual a participação (%) das exportações aos Estados Unidos em relação ao total exportado pela empresa?\n(Resposta numérica – ex: 25)\n",
         "rawType": "object",
         "type": "string"
        },
        {
         "name": "Quais mercados a empresa entende que podem ser acessados no médio prazo?\n(Resposta longa – ex: América Latina, Oriente Médio, Sudeste Asiático etc.)\n",
         "rawType": "object",
         "type": "string"
        },
        {
         "name": "Liste os Códigos Tarifários (NCM) mais Representativos nas Exportações para os EUA:",
         "rawType": "object",
         "type": "string"
        },
        {
         "name": "ncm",
         "rawType": "object",
         "type": "string"
        }
       ],
       "ref": "32614d66-9a8c-4c32-b1bd-b92e4e7a289d",
       "rows": [
        [
         "84",
         "85",
         "2025-07-28 21:42:43",
         "2025-07-28 22:11:48",
         "anonymous",
         null,
         null,
         "MBRF",
         "Thalita  Bento de Souza/ (11) 94274-2549 / thalita.souza@marfrig.com.br",
         "4%",
         "6%",
         "Vietnã (bovino); Indonésia (Suino); México, Canadá e China: reconhecimento de mais estados como livre de febre aftosa sem vacinação); ",
         "0201.30.00; 0202.3000; 0203.2; 1602.50.00",
         "02032"
        ]
       ],
       "shape": {
        "columns": 13,
        "rows": 1
       }
      },
      "text/html": [
       "<div>\n",
       "<style scoped>\n",
       "    .dataframe tbody tr th:only-of-type {\n",
       "        vertical-align: middle;\n",
       "    }\n",
       "\n",
       "    .dataframe tbody tr th {\n",
       "        vertical-align: top;\n",
       "    }\n",
       "\n",
       "    .dataframe thead th {\n",
       "        text-align: right;\n",
       "    }\n",
       "</style>\n",
       "<table border=\"1\" class=\"dataframe\">\n",
       "  <thead>\n",
       "    <tr style=\"text-align: right;\">\n",
       "      <th></th>\n",
       "      <th>ID</th>\n",
       "      <th>Start time</th>\n",
       "      <th>Completion time</th>\n",
       "      <th>Email</th>\n",
       "      <th>Name</th>\n",
       "      <th>Last modified time</th>\n",
       "      <th>Empresa</th>\n",
       "      <th>Contato (Nome, Telefone e E-mail)</th>\n",
       "      <th>Qual a participação (%) das exportações aos Estados Unidos na receita total da empresa?\\n(Resposta numérica – ex: 25)</th>\n",
       "      <th>Qual a participação (%) das exportações aos Estados Unidos em relação ao total exportado pela empresa?\\n(Resposta numérica – ex: 25)\\n</th>\n",
       "      <th>Quais mercados a empresa entende que podem ser acessados no médio prazo?\\n(Resposta longa – ex: América Latina, Oriente Médio, Sudeste Asiático etc.)\\n</th>\n",
       "      <th>Liste os Códigos Tarifários (NCM) mais Representativos nas Exportações para os EUA:</th>\n",
       "      <th>ncm</th>\n",
       "    </tr>\n",
       "  </thead>\n",
       "  <tbody>\n",
       "    <tr>\n",
       "      <th>84</th>\n",
       "      <td>85</td>\n",
       "      <td>2025-07-28 21:42:43</td>\n",
       "      <td>2025-07-28 22:11:48</td>\n",
       "      <td>anonymous</td>\n",
       "      <td>NaN</td>\n",
       "      <td>NaN</td>\n",
       "      <td>MBRF</td>\n",
       "      <td>Thalita  Bento de Souza/ (11) 94274-2549 / tha...</td>\n",
       "      <td>4%</td>\n",
       "      <td>6%</td>\n",
       "      <td>Vietnã (bovino); Indonésia (Suino); México, Ca...</td>\n",
       "      <td>0201.30.00; 0202.3000; 0203.2; 1602.50.00</td>\n",
       "      <td>02032</td>\n",
       "    </tr>\n",
       "  </tbody>\n",
       "</table>\n",
       "</div>"
      ],
      "text/plain": [
       "    ID          Start time     Completion time      Email  Name  \\\n",
       "84  85 2025-07-28 21:42:43 2025-07-28 22:11:48  anonymous   NaN   \n",
       "\n",
       "    Last modified time Empresa  \\\n",
       "84                 NaN    MBRF   \n",
       "\n",
       "                    Contato (Nome, Telefone e E-mail)  \\\n",
       "84  Thalita  Bento de Souza/ (11) 94274-2549 / tha...   \n",
       "\n",
       "   Qual a participação (%) das exportações aos Estados Unidos na receita total da empresa?\\n(Resposta numérica – ex: 25)  \\\n",
       "84                                                 4%                                                                      \n",
       "\n",
       "   Qual a participação (%) das exportações aos Estados Unidos em relação ao total exportado pela empresa?\\n(Resposta numérica – ex: 25)\\n  \\\n",
       "84                                                 6%                                                                                       \n",
       "\n",
       "   Quais mercados a empresa entende que podem ser acessados no médio prazo?\\n(Resposta longa – ex: América Latina, Oriente Médio, Sudeste Asiático etc.)\\n  \\\n",
       "84  Vietnã (bovino); Indonésia (Suino); México, Ca...                                                                                                        \n",
       "\n",
       "   Liste os Códigos Tarifários (NCM) mais Representativos nas Exportações para os EUA:  \\\n",
       "84          0201.30.00; 0202.3000; 0203.2; 1602.50.00                                    \n",
       "\n",
       "      ncm  \n",
       "84  02032  "
      ]
     },
     "execution_count": 122,
     "metadata": {},
     "output_type": "execute_result"
    }
   ],
   "source": [
    "empresas_5d.head(2)"
   ]
  },
  {
   "cell_type": "code",
   "execution_count": 132,
   "id": "aba344ab",
   "metadata": {},
   "outputs": [
    {
     "data": {
      "application/vnd.microsoft.datawrangler.viewer.v0+json": {
       "columns": [
        {
         "name": "index",
         "rawType": "int64",
         "type": "integer"
        },
        {
         "name": "SH6",
         "rawType": "object",
         "type": "string"
        },
        {
         "name": "Instrumento",
         "rawType": "object",
         "type": "string"
        },
        {
         "name": "Tarifa",
         "rawType": "float64",
         "type": "float"
        },
        {
         "name": "Vigência",
         "rawType": "object",
         "type": "string"
        },
        {
         "name": "Tarifa Desc",
         "rawType": "object",
         "type": "string"
        },
        {
         "name": "Articles of Civil Aircraft only",
         "rawType": "object",
         "type": "unknown"
        },
        {
         "name": "ncm_2d",
         "rawType": "object",
         "type": "string"
        },
        {
         "name": "ncm_4d",
         "rawType": "object",
         "type": "string"
        },
        {
         "name": "ncm_5d",
         "rawType": "object",
         "type": "string"
        },
        {
         "name": "ncm_6d",
         "rawType": "object",
         "type": "string"
        }
       ],
       "ref": "f6c01610-4f5f-4cb5-92e3-7ea42ff208c8",
       "rows": [
        [
         "3356",
         "020321",
         "Ordem 30/07",
         "0.5",
         "Vigente",
         "Tarifa de 10+40%",
         null,
         "02",
         "0203",
         "02032",
         "020321"
        ],
        [
         "3357",
         "020322",
         "Ordem 30/07",
         "0.5",
         "Vigente",
         "Tarifa de 10+40%",
         null,
         "02",
         "0203",
         "02032",
         "020322"
        ],
        [
         "3358",
         "020329",
         "Ordem 30/07",
         "0.5",
         "Vigente",
         "Tarifa de 10+40%",
         null,
         "02",
         "0203",
         "02032",
         "020329"
        ]
       ],
       "shape": {
        "columns": 10,
        "rows": 3
       }
      },
      "text/html": [
       "<div>\n",
       "<style scoped>\n",
       "    .dataframe tbody tr th:only-of-type {\n",
       "        vertical-align: middle;\n",
       "    }\n",
       "\n",
       "    .dataframe tbody tr th {\n",
       "        vertical-align: top;\n",
       "    }\n",
       "\n",
       "    .dataframe thead th {\n",
       "        text-align: right;\n",
       "    }\n",
       "</style>\n",
       "<table border=\"1\" class=\"dataframe\">\n",
       "  <thead>\n",
       "    <tr style=\"text-align: right;\">\n",
       "      <th></th>\n",
       "      <th>SH6</th>\n",
       "      <th>Instrumento</th>\n",
       "      <th>Tarifa</th>\n",
       "      <th>Vigência</th>\n",
       "      <th>Tarifa Desc</th>\n",
       "      <th>Articles of Civil Aircraft only</th>\n",
       "      <th>ncm_2d</th>\n",
       "      <th>ncm_4d</th>\n",
       "      <th>ncm_5d</th>\n",
       "      <th>ncm_6d</th>\n",
       "    </tr>\n",
       "  </thead>\n",
       "  <tbody>\n",
       "    <tr>\n",
       "      <th>3356</th>\n",
       "      <td>020321</td>\n",
       "      <td>Ordem 30/07</td>\n",
       "      <td>0.5</td>\n",
       "      <td>Vigente</td>\n",
       "      <td>Tarifa de 10+40%</td>\n",
       "      <td>NaN</td>\n",
       "      <td>02</td>\n",
       "      <td>0203</td>\n",
       "      <td>02032</td>\n",
       "      <td>020321</td>\n",
       "    </tr>\n",
       "    <tr>\n",
       "      <th>3357</th>\n",
       "      <td>020322</td>\n",
       "      <td>Ordem 30/07</td>\n",
       "      <td>0.5</td>\n",
       "      <td>Vigente</td>\n",
       "      <td>Tarifa de 10+40%</td>\n",
       "      <td>NaN</td>\n",
       "      <td>02</td>\n",
       "      <td>0203</td>\n",
       "      <td>02032</td>\n",
       "      <td>020322</td>\n",
       "    </tr>\n",
       "    <tr>\n",
       "      <th>3358</th>\n",
       "      <td>020329</td>\n",
       "      <td>Ordem 30/07</td>\n",
       "      <td>0.5</td>\n",
       "      <td>Vigente</td>\n",
       "      <td>Tarifa de 10+40%</td>\n",
       "      <td>NaN</td>\n",
       "      <td>02</td>\n",
       "      <td>0203</td>\n",
       "      <td>02032</td>\n",
       "      <td>020329</td>\n",
       "    </tr>\n",
       "  </tbody>\n",
       "</table>\n",
       "</div>"
      ],
      "text/plain": [
       "         SH6  Instrumento  Tarifa Vigência       Tarifa Desc  \\\n",
       "3356  020321  Ordem 30/07     0.5  Vigente  Tarifa de 10+40%   \n",
       "3357  020322  Ordem 30/07     0.5  Vigente  Tarifa de 10+40%   \n",
       "3358  020329  Ordem 30/07     0.5  Vigente  Tarifa de 10+40%   \n",
       "\n",
       "     Articles of Civil Aircraft only ncm_2d ncm_4d ncm_5d  ncm_6d  \n",
       "3356                             NaN     02   0203  02032  020321  \n",
       "3357                             NaN     02   0203  02032  020322  \n",
       "3358                             NaN     02   0203  02032  020329  "
      ]
     },
     "execution_count": 132,
     "metadata": {},
     "output_type": "execute_result"
    }
   ],
   "source": [
    "tarifas.query('SH6.str.startswith(\"02032\")')"
   ]
  },
  {
   "cell_type": "code",
   "execution_count": 131,
   "id": "ac4bad44",
   "metadata": {},
   "outputs": [],
   "source": [
    "#Fazer o merge dos dataframes com tarifas, comparando os dígitos de ncm com os primeiros dígitos de tarifas, sendo que pode ser que o número de dígitos de ncm seja menor que o de tarifas\n",
    "tarifas['ncm_2d'] = tarifas['SH6'].astype(str).str[:2]\n",
    "tarifas['ncm_4d'] = tarifas['SH6'].astype(str).str[:4]\n",
    "tarifas['ncm_5d'] = tarifas['SH6'].astype(str).str[:5]\n",
    "tarifas['ncm_6d'] = tarifas['SH6'].astype(str).str[:6]\n"
   ]
  },
  {
   "cell_type": "code",
   "execution_count": 133,
   "id": "2e28e85b",
   "metadata": {},
   "outputs": [],
   "source": [
    "tarifas_2d = tarifas.merge(empresas_2d, left_on='ncm_2d', right_on='ncm', how='inner')\n",
    "tarifas_4d = tarifas.merge(empresas_4d, left_on='ncm_4d', right_on='ncm', how='inner')\n",
    "tarifas_5d = tarifas.merge(empresas_5d, left_on='ncm_5d', right_on='ncm', how='inner')\n",
    "tarifas_6d = tarifas.merge(empresas_6d, left_on='ncm_6d', right_on='ncm', how='inner')"
   ]
  },
  {
   "cell_type": "code",
   "execution_count": 134,
   "id": "c277de00",
   "metadata": {},
   "outputs": [
    {
     "name": "stdout",
     "output_type": "stream",
     "text": [
      "O tamanho dos dataframes de tarifas é:\n",
      "tarifas_2d: 68\n",
      "tarifas_4d: 97\n",
      "tarifas_5d: 3\n",
      "tarifas_6d: 540\n"
     ]
    }
   ],
   "source": [
    "print(f'O tamanho dos dataframes de tarifas é:')\n",
    "print(f'tarifas_2d: {tarifas_2d.shape[0]}')\n",
    "print(f'tarifas_4d: {tarifas_4d.shape[0]}')\n",
    "print(f'tarifas_5d: {tarifas_5d.shape[0]}')\n",
    "print(f'tarifas_6d: {tarifas_6d.shape[0]}')"
   ]
  },
  {
   "cell_type": "code",
   "execution_count": 135,
   "id": "72f1f3c2",
   "metadata": {},
   "outputs": [],
   "source": [
    "tarifas_completas = pd.concat([tarifas_2d, tarifas_4d, tarifas_5d, tarifas_6d], ignore_index=True)"
   ]
  },
  {
   "cell_type": "code",
   "execution_count": 138,
   "id": "f163c54f",
   "metadata": {},
   "outputs": [
    {
     "data": {
      "text/plain": [
       "Index(['SH6', 'Instrumento', 'Tarifa', 'Vigência', 'Tarifa Desc',\n",
       "       'Articles of Civil Aircraft only', 'ncm_2d', 'ncm_4d', 'ncm_5d',\n",
       "       'ncm_6d', 'ID', 'Start time', 'Completion time', 'Email', 'Name',\n",
       "       'Last modified time', 'Empresa', 'Contato (Nome, Telefone e E-mail)',\n",
       "       'Qual a participação (%) das exportações aos Estados Unidos na receita total da empresa?\\n(Resposta numérica – ex: 25)',\n",
       "       'Qual a participação (%) das exportações aos Estados Unidos em relação ao total exportado pela empresa?\\n(Resposta numérica – ex: 25)\\n',\n",
       "       'Quais mercados a empresa entende que podem ser acessados no médio prazo?\\n(Resposta longa – ex: América Latina, Oriente Médio, Sudeste Asiático etc.)\\n',\n",
       "       'Liste os Códigos Tarifários (NCM) mais Representativos nas Exportações para os EUA:',\n",
       "       'ncm'],\n",
       "      dtype='object')"
      ]
     },
     "execution_count": 138,
     "metadata": {},
     "output_type": "execute_result"
    }
   ],
   "source": [
    "tarifas_completas.columns"
   ]
  },
  {
   "cell_type": "code",
   "execution_count": 143,
   "id": "ed66fdd9",
   "metadata": {},
   "outputs": [],
   "source": [
    "tarifas_completas[['Empresa','Contato (Nome, Telefone e E-mail)','Qual a participação (%) das exportações aos Estados Unidos na receita total da empresa?\\n(Resposta numérica – ex: 25)',\n",
    "       'Qual a participação (%) das exportações aos Estados Unidos em relação ao total exportado pela empresa?\\n(Resposta numérica – ex: 25)\\n',\n",
    "       'Quais mercados a empresa entende que podem ser acessados no médio prazo?\\n(Resposta longa – ex: América Latina, Oriente Médio, Sudeste Asiático etc.)\\n',\n",
    "       'Liste os Códigos Tarifários (NCM) mais Representativos nas Exportações para os EUA:','Instrumento','Tarifa Desc','Articles of Civil Aircraft only']].fillna('').drop_duplicates().to_excel('empresas_tarifas.xlsx',index=False)"
   ]
  },
  {
   "cell_type": "code",
   "execution_count": 80,
   "id": "27901328",
   "metadata": {},
   "outputs": [
    {
     "data": {
      "application/vnd.microsoft.datawrangler.viewer.v0+json": {
       "columns": [
        {
         "name": "index",
         "rawType": "int64",
         "type": "integer"
        },
        {
         "name": "ID",
         "rawType": "int64",
         "type": "integer"
        },
        {
         "name": "Start time",
         "rawType": "datetime64[ns]",
         "type": "datetime"
        },
        {
         "name": "Completion time",
         "rawType": "datetime64[ns]",
         "type": "datetime"
        },
        {
         "name": "Email",
         "rawType": "object",
         "type": "string"
        },
        {
         "name": "Name",
         "rawType": "float64",
         "type": "float"
        },
        {
         "name": "Last modified time",
         "rawType": "float64",
         "type": "float"
        },
        {
         "name": "Empresa",
         "rawType": "object",
         "type": "string"
        },
        {
         "name": "Contato (Nome, Telefone e E-mail)",
         "rawType": "object",
         "type": "string"
        },
        {
         "name": "Qual a participação (%) das exportações aos Estados Unidos na receita total da empresa?\n(Resposta numérica – ex: 25)",
         "rawType": "object",
         "type": "string"
        },
        {
         "name": "Qual a participação (%) das exportações aos Estados Unidos em relação ao total exportado pela empresa?\n(Resposta numérica – ex: 25)\n",
         "rawType": "object",
         "type": "string"
        },
        {
         "name": "Quais mercados a empresa entende que podem ser acessados no médio prazo?\n(Resposta longa – ex: América Latina, Oriente Médio, Sudeste Asiático etc.)\n",
         "rawType": "object",
         "type": "string"
        },
        {
         "name": "Liste os Códigos Tarifários (NCM) mais Representativos nas Exportações para os EUA:",
         "rawType": "object",
         "type": "string"
        },
        {
         "name": "ncm",
         "rawType": "object",
         "type": "string"
        }
       ],
       "ref": "1a7fa60c-774b-41c4-8e52-a4638e29e80f",
       "rows": [
        [
         "11",
         "12",
         "2025-07-24 17:44:13",
         "2025-07-24 18:17:14",
         "anonymous",
         null,
         null,
         "Bozel Brasil S/A",
         "Fernando Neri de Araújo - Diretor Financeiro\n(32) 98441-6806\nfernando.neri@bozel.com",
         "9%",
         "17%",
         "Infelizmente nenhum que possa ser substituído de forma saudável (com margem) como o americano. A Bozel atua em um nicho mercadológico e já atendemos outros mercados no mundo, com demanda decrescente e mercado já maduro para nosso produto no mundo. Concorremos com produtores Chineses que possuem uma superorfeta de capacidade para a demanda mundial. Portanto, em condições predatórias em outros mercados, em função competição direta com os chineses. Exemplo, o mercado indiano, onde haveria potencial de deslocamento apenas marginal dos competidores chineses, mas, sem margem financeira para a Bozel, devido a agressividade e vantagens dos competidores chineses, não fazendo sentido atender essa demanda, pois, estaríamos trocando um mercado com margem saudável como o americano por outro sem margem como o indiano.",
         "Cálcio Silício (CaSi) - 7202.99.90\nFeSi 75% (FeSi 75) - 7202.21.00",
         "75"
        ],
        [
         "11",
         "12",
         "2025-07-24 17:44:13",
         "2025-07-24 18:17:14",
         "anonymous",
         null,
         null,
         "Bozel Brasil S/A",
         "Fernando Neri de Araújo - Diretor Financeiro\n(32) 98441-6806\nfernando.neri@bozel.com",
         "9%",
         "17%",
         "Infelizmente nenhum que possa ser substituído de forma saudável (com margem) como o americano. A Bozel atua em um nicho mercadológico e já atendemos outros mercados no mundo, com demanda decrescente e mercado já maduro para nosso produto no mundo. Concorremos com produtores Chineses que possuem uma superorfeta de capacidade para a demanda mundial. Portanto, em condições predatórias em outros mercados, em função competição direta com os chineses. Exemplo, o mercado indiano, onde haveria potencial de deslocamento apenas marginal dos competidores chineses, mas, sem margem financeira para a Bozel, devido a agressividade e vantagens dos competidores chineses, não fazendo sentido atender essa demanda, pois, estaríamos trocando um mercado com margem saudável como o americano por outro sem margem como o indiano.",
         "Cálcio Silício (CaSi) - 7202.99.90\nFeSi 75% (FeSi 75) - 7202.21.00",
         "75"
        ],
        [
         "36",
         "37",
         "2025-07-27 23:40:08",
         "2025-07-27 23:44:31",
         "anonymous",
         null,
         null,
         "ABIMÓVEL - Associação Brasiliera das Indústrias do Mobiliário",
         "Cândida Maria Cervieri, executiva@abimovel.com\nTelefone: 54 996767364",
         "Entre 40 a 80%",
         "28% das exportações brasileiras são destinadas para os EUA",
         "América Latina, Oriente Médio, União Europeia e Sudeste Asiático",
         "Capitulo 94",
         "94"
        ],
        [
         "132",
         "133",
         "2025-07-30 23:43:32",
         "2025-07-30 23:47:59",
         "anonymous",
         null,
         null,
         "WEG EQUIPAMENTOS ELÉTRICOS S.A",
         "Ana Paula Hauffe Torquato, 47 3276-5288, anapaulah@weg.net",
         ".",
         ".",
         "A empresa possui presença em diversos mercados da América Latina, Europa, Oriente Médio, África e Ásia e seguirá empenhada em ampliar sua atuação e fortalecer seu crescimento nessas regiões.",
         "8501.51.10, 8501.52.10, 8501.53.10, 8501.40.19, 8504.40.50, 8501.63.00, 8501.64.00\n\nComentários adicionais:\nA estratégia de atuação da WEG nos EUA conta com produtos fabricados localmente (9 fábricas nos EUA) complementados com produtos exportados a partir do Brasil e do México.\nOs EUA representam o segundo maior mercado para a WEG no mundo.  \nEm 2024, as vendas nos EUA foram responsáveis por aproximadamente 22% da receita consolidada da companhia, sendo aproximadamente:\na.\t1/3 de produtos fabricados localmente.\nb.\t1/3 de produtos fabricados no México, cobertos pelo acordo do USMCA.\nc.\tDemais 1/3 foram produzidos em outras geografias, majoritariamente no Brasil.\nOs principais produtos exportados pela WEG do Brasil para os EUA são: motores elétricos de baixa tensão trifásicos e monofásicos, produtos de automação industrial e geradores. \nA sobretaxa irá impactar em especial os motores elétricos de baixa tensão, produto em que a WEG ocupa o segundo lugar em market share no mercado dos EUA.\nMedidas de mitigação estão sendo estudadas.\n",
         "22"
        ],
        [
         "132",
         "133",
         "2025-07-30 23:43:32",
         "2025-07-30 23:47:59",
         "anonymous",
         null,
         null,
         "WEG EQUIPAMENTOS ELÉTRICOS S.A",
         "Ana Paula Hauffe Torquato, 47 3276-5288, anapaulah@weg.net",
         ".",
         ".",
         "A empresa possui presença em diversos mercados da América Latina, Europa, Oriente Médio, África e Ásia e seguirá empenhada em ampliar sua atuação e fortalecer seu crescimento nessas regiões.",
         "8501.51.10, 8501.52.10, 8501.53.10, 8501.40.19, 8504.40.50, 8501.63.00, 8501.64.00\n\nComentários adicionais:\nA estratégia de atuação da WEG nos EUA conta com produtos fabricados localmente (9 fábricas nos EUA) complementados com produtos exportados a partir do Brasil e do México.\nOs EUA representam o segundo maior mercado para a WEG no mundo.  \nEm 2024, as vendas nos EUA foram responsáveis por aproximadamente 22% da receita consolidada da companhia, sendo aproximadamente:\na.\t1/3 de produtos fabricados localmente.\nb.\t1/3 de produtos fabricados no México, cobertos pelo acordo do USMCA.\nc.\tDemais 1/3 foram produzidos em outras geografias, majoritariamente no Brasil.\nOs principais produtos exportados pela WEG do Brasil para os EUA são: motores elétricos de baixa tensão trifásicos e monofásicos, produtos de automação industrial e geradores. \nA sobretaxa irá impactar em especial os motores elétricos de baixa tensão, produto em que a WEG ocupa o segundo lugar em market share no mercado dos EUA.\nMedidas de mitigação estão sendo estudadas.\n",
         "13"
        ],
        [
         "132",
         "133",
         "2025-07-30 23:43:32",
         "2025-07-30 23:47:59",
         "anonymous",
         null,
         null,
         "WEG EQUIPAMENTOS ELÉTRICOS S.A",
         "Ana Paula Hauffe Torquato, 47 3276-5288, anapaulah@weg.net",
         ".",
         ".",
         "A empresa possui presença em diversos mercados da América Latina, Europa, Oriente Médio, África e Ásia e seguirá empenhada em ampliar sua atuação e fortalecer seu crescimento nessas regiões.",
         "8501.51.10, 8501.52.10, 8501.53.10, 8501.40.19, 8504.40.50, 8501.63.00, 8501.64.00\n\nComentários adicionais:\nA estratégia de atuação da WEG nos EUA conta com produtos fabricados localmente (9 fábricas nos EUA) complementados com produtos exportados a partir do Brasil e do México.\nOs EUA representam o segundo maior mercado para a WEG no mundo.  \nEm 2024, as vendas nos EUA foram responsáveis por aproximadamente 22% da receita consolidada da companhia, sendo aproximadamente:\na.\t1/3 de produtos fabricados localmente.\nb.\t1/3 de produtos fabricados no México, cobertos pelo acordo do USMCA.\nc.\tDemais 1/3 foram produzidos em outras geografias, majoritariamente no Brasil.\nOs principais produtos exportados pela WEG do Brasil para os EUA são: motores elétricos de baixa tensão trifásicos e monofásicos, produtos de automação industrial e geradores. \nA sobretaxa irá impactar em especial os motores elétricos de baixa tensão, produto em que a WEG ocupa o segundo lugar em market share no mercado dos EUA.\nMedidas de mitigação estão sendo estudadas.\n",
         "13"
        ],
        [
         "132",
         "133",
         "2025-07-30 23:43:32",
         "2025-07-30 23:47:59",
         "anonymous",
         null,
         null,
         "WEG EQUIPAMENTOS ELÉTRICOS S.A",
         "Ana Paula Hauffe Torquato, 47 3276-5288, anapaulah@weg.net",
         ".",
         ".",
         "A empresa possui presença em diversos mercados da América Latina, Europa, Oriente Médio, África e Ásia e seguirá empenhada em ampliar sua atuação e fortalecer seu crescimento nessas regiões.",
         "8501.51.10, 8501.52.10, 8501.53.10, 8501.40.19, 8504.40.50, 8501.63.00, 8501.64.00\n\nComentários adicionais:\nA estratégia de atuação da WEG nos EUA conta com produtos fabricados localmente (9 fábricas nos EUA) complementados com produtos exportados a partir do Brasil e do México.\nOs EUA representam o segundo maior mercado para a WEG no mundo.  \nEm 2024, as vendas nos EUA foram responsáveis por aproximadamente 22% da receita consolidada da companhia, sendo aproximadamente:\na.\t1/3 de produtos fabricados localmente.\nb.\t1/3 de produtos fabricados no México, cobertos pelo acordo do USMCA.\nc.\tDemais 1/3 foram produzidos em outras geografias, majoritariamente no Brasil.\nOs principais produtos exportados pela WEG do Brasil para os EUA são: motores elétricos de baixa tensão trifásicos e monofásicos, produtos de automação industrial e geradores. \nA sobretaxa irá impactar em especial os motores elétricos de baixa tensão, produto em que a WEG ocupa o segundo lugar em market share no mercado dos EUA.\nMedidas de mitigação estão sendo estudadas.\n",
         "13"
        ]
       ],
       "shape": {
        "columns": 13,
        "rows": 7
       }
      },
      "text/html": [
       "<div>\n",
       "<style scoped>\n",
       "    .dataframe tbody tr th:only-of-type {\n",
       "        vertical-align: middle;\n",
       "    }\n",
       "\n",
       "    .dataframe tbody tr th {\n",
       "        vertical-align: top;\n",
       "    }\n",
       "\n",
       "    .dataframe thead th {\n",
       "        text-align: right;\n",
       "    }\n",
       "</style>\n",
       "<table border=\"1\" class=\"dataframe\">\n",
       "  <thead>\n",
       "    <tr style=\"text-align: right;\">\n",
       "      <th></th>\n",
       "      <th>ID</th>\n",
       "      <th>Start time</th>\n",
       "      <th>Completion time</th>\n",
       "      <th>Email</th>\n",
       "      <th>Name</th>\n",
       "      <th>Last modified time</th>\n",
       "      <th>Empresa</th>\n",
       "      <th>Contato (Nome, Telefone e E-mail)</th>\n",
       "      <th>Qual a participação (%) das exportações aos Estados Unidos na receita total da empresa?\\n(Resposta numérica – ex: 25)</th>\n",
       "      <th>Qual a participação (%) das exportações aos Estados Unidos em relação ao total exportado pela empresa?\\n(Resposta numérica – ex: 25)\\n</th>\n",
       "      <th>Quais mercados a empresa entende que podem ser acessados no médio prazo?\\n(Resposta longa – ex: América Latina, Oriente Médio, Sudeste Asiático etc.)\\n</th>\n",
       "      <th>Liste os Códigos Tarifários (NCM) mais Representativos nas Exportações para os EUA:</th>\n",
       "      <th>ncm</th>\n",
       "    </tr>\n",
       "  </thead>\n",
       "  <tbody>\n",
       "    <tr>\n",
       "      <th>11</th>\n",
       "      <td>12</td>\n",
       "      <td>2025-07-24 17:44:13</td>\n",
       "      <td>2025-07-24 18:17:14</td>\n",
       "      <td>anonymous</td>\n",
       "      <td>NaN</td>\n",
       "      <td>NaN</td>\n",
       "      <td>Bozel Brasil S/A</td>\n",
       "      <td>Fernando Neri de Araújo - Diretor Financeiro\\n...</td>\n",
       "      <td>9%</td>\n",
       "      <td>17%</td>\n",
       "      <td>Infelizmente nenhum que possa ser substituído ...</td>\n",
       "      <td>Cálcio Silício (CaSi) - 7202.99.90\\nFeSi 75% (...</td>\n",
       "      <td>75</td>\n",
       "    </tr>\n",
       "    <tr>\n",
       "      <th>11</th>\n",
       "      <td>12</td>\n",
       "      <td>2025-07-24 17:44:13</td>\n",
       "      <td>2025-07-24 18:17:14</td>\n",
       "      <td>anonymous</td>\n",
       "      <td>NaN</td>\n",
       "      <td>NaN</td>\n",
       "      <td>Bozel Brasil S/A</td>\n",
       "      <td>Fernando Neri de Araújo - Diretor Financeiro\\n...</td>\n",
       "      <td>9%</td>\n",
       "      <td>17%</td>\n",
       "      <td>Infelizmente nenhum que possa ser substituído ...</td>\n",
       "      <td>Cálcio Silício (CaSi) - 7202.99.90\\nFeSi 75% (...</td>\n",
       "      <td>75</td>\n",
       "    </tr>\n",
       "    <tr>\n",
       "      <th>36</th>\n",
       "      <td>37</td>\n",
       "      <td>2025-07-27 23:40:08</td>\n",
       "      <td>2025-07-27 23:44:31</td>\n",
       "      <td>anonymous</td>\n",
       "      <td>NaN</td>\n",
       "      <td>NaN</td>\n",
       "      <td>ABIMÓVEL - Associação Brasiliera das Indústria...</td>\n",
       "      <td>Cândida Maria Cervieri, executiva@abimovel.com...</td>\n",
       "      <td>Entre 40 a 80%</td>\n",
       "      <td>28% das exportações brasileiras são destinadas...</td>\n",
       "      <td>América Latina, Oriente Médio, União Europeia ...</td>\n",
       "      <td>Capitulo 94</td>\n",
       "      <td>94</td>\n",
       "    </tr>\n",
       "    <tr>\n",
       "      <th>132</th>\n",
       "      <td>133</td>\n",
       "      <td>2025-07-30 23:43:32</td>\n",
       "      <td>2025-07-30 23:47:59</td>\n",
       "      <td>anonymous</td>\n",
       "      <td>NaN</td>\n",
       "      <td>NaN</td>\n",
       "      <td>WEG EQUIPAMENTOS ELÉTRICOS S.A</td>\n",
       "      <td>Ana Paula Hauffe Torquato, 47 3276-5288, anapa...</td>\n",
       "      <td>.</td>\n",
       "      <td>.</td>\n",
       "      <td>A empresa possui presença em diversos mercados...</td>\n",
       "      <td>8501.51.10, 8501.52.10, 8501.53.10, 8501.40.19...</td>\n",
       "      <td>22</td>\n",
       "    </tr>\n",
       "    <tr>\n",
       "      <th>132</th>\n",
       "      <td>133</td>\n",
       "      <td>2025-07-30 23:43:32</td>\n",
       "      <td>2025-07-30 23:47:59</td>\n",
       "      <td>anonymous</td>\n",
       "      <td>NaN</td>\n",
       "      <td>NaN</td>\n",
       "      <td>WEG EQUIPAMENTOS ELÉTRICOS S.A</td>\n",
       "      <td>Ana Paula Hauffe Torquato, 47 3276-5288, anapa...</td>\n",
       "      <td>.</td>\n",
       "      <td>.</td>\n",
       "      <td>A empresa possui presença em diversos mercados...</td>\n",
       "      <td>8501.51.10, 8501.52.10, 8501.53.10, 8501.40.19...</td>\n",
       "      <td>13</td>\n",
       "    </tr>\n",
       "    <tr>\n",
       "      <th>132</th>\n",
       "      <td>133</td>\n",
       "      <td>2025-07-30 23:43:32</td>\n",
       "      <td>2025-07-30 23:47:59</td>\n",
       "      <td>anonymous</td>\n",
       "      <td>NaN</td>\n",
       "      <td>NaN</td>\n",
       "      <td>WEG EQUIPAMENTOS ELÉTRICOS S.A</td>\n",
       "      <td>Ana Paula Hauffe Torquato, 47 3276-5288, anapa...</td>\n",
       "      <td>.</td>\n",
       "      <td>.</td>\n",
       "      <td>A empresa possui presença em diversos mercados...</td>\n",
       "      <td>8501.51.10, 8501.52.10, 8501.53.10, 8501.40.19...</td>\n",
       "      <td>13</td>\n",
       "    </tr>\n",
       "    <tr>\n",
       "      <th>132</th>\n",
       "      <td>133</td>\n",
       "      <td>2025-07-30 23:43:32</td>\n",
       "      <td>2025-07-30 23:47:59</td>\n",
       "      <td>anonymous</td>\n",
       "      <td>NaN</td>\n",
       "      <td>NaN</td>\n",
       "      <td>WEG EQUIPAMENTOS ELÉTRICOS S.A</td>\n",
       "      <td>Ana Paula Hauffe Torquato, 47 3276-5288, anapa...</td>\n",
       "      <td>.</td>\n",
       "      <td>.</td>\n",
       "      <td>A empresa possui presença em diversos mercados...</td>\n",
       "      <td>8501.51.10, 8501.52.10, 8501.53.10, 8501.40.19...</td>\n",
       "      <td>13</td>\n",
       "    </tr>\n",
       "  </tbody>\n",
       "</table>\n",
       "</div>"
      ],
      "text/plain": [
       "      ID          Start time     Completion time      Email  Name  \\\n",
       "11    12 2025-07-24 17:44:13 2025-07-24 18:17:14  anonymous   NaN   \n",
       "11    12 2025-07-24 17:44:13 2025-07-24 18:17:14  anonymous   NaN   \n",
       "36    37 2025-07-27 23:40:08 2025-07-27 23:44:31  anonymous   NaN   \n",
       "132  133 2025-07-30 23:43:32 2025-07-30 23:47:59  anonymous   NaN   \n",
       "132  133 2025-07-30 23:43:32 2025-07-30 23:47:59  anonymous   NaN   \n",
       "132  133 2025-07-30 23:43:32 2025-07-30 23:47:59  anonymous   NaN   \n",
       "132  133 2025-07-30 23:43:32 2025-07-30 23:47:59  anonymous   NaN   \n",
       "\n",
       "     Last modified time                                            Empresa  \\\n",
       "11                  NaN                                   Bozel Brasil S/A   \n",
       "11                  NaN                                   Bozel Brasil S/A   \n",
       "36                  NaN  ABIMÓVEL - Associação Brasiliera das Indústria...   \n",
       "132                 NaN                     WEG EQUIPAMENTOS ELÉTRICOS S.A   \n",
       "132                 NaN                     WEG EQUIPAMENTOS ELÉTRICOS S.A   \n",
       "132                 NaN                     WEG EQUIPAMENTOS ELÉTRICOS S.A   \n",
       "132                 NaN                     WEG EQUIPAMENTOS ELÉTRICOS S.A   \n",
       "\n",
       "                     Contato (Nome, Telefone e E-mail)  \\\n",
       "11   Fernando Neri de Araújo - Diretor Financeiro\\n...   \n",
       "11   Fernando Neri de Araújo - Diretor Financeiro\\n...   \n",
       "36   Cândida Maria Cervieri, executiva@abimovel.com...   \n",
       "132  Ana Paula Hauffe Torquato, 47 3276-5288, anapa...   \n",
       "132  Ana Paula Hauffe Torquato, 47 3276-5288, anapa...   \n",
       "132  Ana Paula Hauffe Torquato, 47 3276-5288, anapa...   \n",
       "132  Ana Paula Hauffe Torquato, 47 3276-5288, anapa...   \n",
       "\n",
       "    Qual a participação (%) das exportações aos Estados Unidos na receita total da empresa?\\n(Resposta numérica – ex: 25)  \\\n",
       "11                                                  9%                                                                      \n",
       "11                                                  9%                                                                      \n",
       "36                                      Entre 40 a 80%                                                                      \n",
       "132                                                  .                                                                      \n",
       "132                                                  .                                                                      \n",
       "132                                                  .                                                                      \n",
       "132                                                  .                                                                      \n",
       "\n",
       "    Qual a participação (%) das exportações aos Estados Unidos em relação ao total exportado pela empresa?\\n(Resposta numérica – ex: 25)\\n  \\\n",
       "11                                                 17%                                                                                       \n",
       "11                                                 17%                                                                                       \n",
       "36   28% das exportações brasileiras são destinadas...                                                                                       \n",
       "132                                                  .                                                                                       \n",
       "132                                                  .                                                                                       \n",
       "132                                                  .                                                                                       \n",
       "132                                                  .                                                                                       \n",
       "\n",
       "    Quais mercados a empresa entende que podem ser acessados no médio prazo?\\n(Resposta longa – ex: América Latina, Oriente Médio, Sudeste Asiático etc.)\\n  \\\n",
       "11   Infelizmente nenhum que possa ser substituído ...                                                                                                        \n",
       "11   Infelizmente nenhum que possa ser substituído ...                                                                                                        \n",
       "36   América Latina, Oriente Médio, União Europeia ...                                                                                                        \n",
       "132  A empresa possui presença em diversos mercados...                                                                                                        \n",
       "132  A empresa possui presença em diversos mercados...                                                                                                        \n",
       "132  A empresa possui presença em diversos mercados...                                                                                                        \n",
       "132  A empresa possui presença em diversos mercados...                                                                                                        \n",
       "\n",
       "    Liste os Códigos Tarifários (NCM) mais Representativos nas Exportações para os EUA:  \\\n",
       "11   Cálcio Silício (CaSi) - 7202.99.90\\nFeSi 75% (...                                    \n",
       "11   Cálcio Silício (CaSi) - 7202.99.90\\nFeSi 75% (...                                    \n",
       "36                                         Capitulo 94                                    \n",
       "132  8501.51.10, 8501.52.10, 8501.53.10, 8501.40.19...                                    \n",
       "132  8501.51.10, 8501.52.10, 8501.53.10, 8501.40.19...                                    \n",
       "132  8501.51.10, 8501.52.10, 8501.53.10, 8501.40.19...                                    \n",
       "132  8501.51.10, 8501.52.10, 8501.53.10, 8501.40.19...                                    \n",
       "\n",
       "    ncm  \n",
       "11   75  \n",
       "11   75  \n",
       "36   94  \n",
       "132  22  \n",
       "132  13  \n",
       "132  13  \n",
       "132  13  "
      ]
     },
     "execution_count": 80,
     "metadata": {},
     "output_type": "execute_result"
    }
   ],
   "source": [
    "empresas_2d"
   ]
  },
  {
   "cell_type": "code",
   "execution_count": 32,
   "id": "1b9fb64e",
   "metadata": {},
   "outputs": [
    {
     "ename": "TypeError",
     "evalue": "'float' object is not iterable",
     "output_type": "error",
     "traceback": [
      "\u001b[31m---------------------------------------------------------------------------\u001b[39m",
      "\u001b[31mTypeError\u001b[39m                                 Traceback (most recent call last)",
      "\u001b[36mCell\u001b[39m\u001b[36m \u001b[39m\u001b[32mIn[32]\u001b[39m\u001b[32m, line 2\u001b[39m\n\u001b[32m      1\u001b[39m \u001b[38;5;66;03m#Pegar os 6 primeiros dígitos de ncm, de o número de dígitos for maior que 6 ou manter o total de dígitos, caso contrário, para cada item da lista ncm. Manter apenas valores únicos de códigos a 6 dígitos ou menos\u001b[39;00m\n\u001b[32m----> \u001b[39m\u001b[32m2\u001b[39m \u001b[43mempresas\u001b[49m\u001b[43m[\u001b[49m\u001b[33;43m'\u001b[39;49m\u001b[33;43mncm\u001b[39;49m\u001b[33;43m'\u001b[39;49m\u001b[43m]\u001b[49m\u001b[43m.\u001b[49m\u001b[43mapply\u001b[49m\u001b[43m(\u001b[49m\u001b[38;5;28;43;01mlambda\u001b[39;49;00m\u001b[43m \u001b[49m\u001b[43mx\u001b[49m\u001b[43m:\u001b[49m\u001b[43m \u001b[49m\u001b[38;5;28;43mlist\u001b[39;49m\u001b[43m(\u001b[49m\u001b[38;5;28;43mset\u001b[39;49m\u001b[43m(\u001b[49m\u001b[43m[\u001b[49m\u001b[43mi\u001b[49m\u001b[43m[\u001b[49m\u001b[43m:\u001b[49m\u001b[32;43m6\u001b[39;49m\u001b[43m]\u001b[49m\u001b[43m \u001b[49m\u001b[38;5;28;43;01mif\u001b[39;49;00m\u001b[43m \u001b[49m\u001b[38;5;28;43mlen\u001b[39;49m\u001b[43m(\u001b[49m\u001b[43mi\u001b[49m\u001b[43m)\u001b[49m\u001b[43m \u001b[49m\u001b[43m>\u001b[49m\u001b[43m \u001b[49m\u001b[32;43m6\u001b[39;49m\u001b[43m \u001b[49m\u001b[38;5;28;43;01melse\u001b[39;49;00m\u001b[43m \u001b[49m\u001b[43mi\u001b[49m\u001b[43m \u001b[49m\u001b[38;5;28;43;01mfor\u001b[39;49;00m\u001b[43m \u001b[49m\u001b[43mi\u001b[49m\u001b[43m \u001b[49m\u001b[38;5;129;43;01min\u001b[39;49;00m\u001b[43m \u001b[49m\u001b[43mx\u001b[49m\u001b[43m]\u001b[49m\u001b[43m)\u001b[49m\u001b[43m)\u001b[49m\u001b[43m)\u001b[49m   \n",
      "\u001b[36mFile \u001b[39m\u001b[32m~/miniconda3/envs/streamlit_mip_base/lib/python3.13/site-packages/pandas/core/series.py:4924\u001b[39m, in \u001b[36mSeries.apply\u001b[39m\u001b[34m(self, func, convert_dtype, args, by_row, **kwargs)\u001b[39m\n\u001b[32m   4789\u001b[39m \u001b[38;5;28;01mdef\u001b[39;00m\u001b[38;5;250m \u001b[39m\u001b[34mapply\u001b[39m(\n\u001b[32m   4790\u001b[39m     \u001b[38;5;28mself\u001b[39m,\n\u001b[32m   4791\u001b[39m     func: AggFuncType,\n\u001b[32m   (...)\u001b[39m\u001b[32m   4796\u001b[39m     **kwargs,\n\u001b[32m   4797\u001b[39m ) -> DataFrame | Series:\n\u001b[32m   4798\u001b[39m \u001b[38;5;250m    \u001b[39m\u001b[33;03m\"\"\"\u001b[39;00m\n\u001b[32m   4799\u001b[39m \u001b[33;03m    Invoke function on values of Series.\u001b[39;00m\n\u001b[32m   4800\u001b[39m \n\u001b[32m   (...)\u001b[39m\u001b[32m   4915\u001b[39m \u001b[33;03m    dtype: float64\u001b[39;00m\n\u001b[32m   4916\u001b[39m \u001b[33;03m    \"\"\"\u001b[39;00m\n\u001b[32m   4917\u001b[39m     \u001b[38;5;28;01mreturn\u001b[39;00m \u001b[43mSeriesApply\u001b[49m\u001b[43m(\u001b[49m\n\u001b[32m   4918\u001b[39m \u001b[43m        \u001b[49m\u001b[38;5;28;43mself\u001b[39;49m\u001b[43m,\u001b[49m\n\u001b[32m   4919\u001b[39m \u001b[43m        \u001b[49m\u001b[43mfunc\u001b[49m\u001b[43m,\u001b[49m\n\u001b[32m   4920\u001b[39m \u001b[43m        \u001b[49m\u001b[43mconvert_dtype\u001b[49m\u001b[43m=\u001b[49m\u001b[43mconvert_dtype\u001b[49m\u001b[43m,\u001b[49m\n\u001b[32m   4921\u001b[39m \u001b[43m        \u001b[49m\u001b[43mby_row\u001b[49m\u001b[43m=\u001b[49m\u001b[43mby_row\u001b[49m\u001b[43m,\u001b[49m\n\u001b[32m   4922\u001b[39m \u001b[43m        \u001b[49m\u001b[43margs\u001b[49m\u001b[43m=\u001b[49m\u001b[43margs\u001b[49m\u001b[43m,\u001b[49m\n\u001b[32m   4923\u001b[39m \u001b[43m        \u001b[49m\u001b[43mkwargs\u001b[49m\u001b[43m=\u001b[49m\u001b[43mkwargs\u001b[49m\u001b[43m,\u001b[49m\n\u001b[32m-> \u001b[39m\u001b[32m4924\u001b[39m \u001b[43m    \u001b[49m\u001b[43m)\u001b[49m\u001b[43m.\u001b[49m\u001b[43mapply\u001b[49m\u001b[43m(\u001b[49m\u001b[43m)\u001b[49m\n",
      "\u001b[36mFile \u001b[39m\u001b[32m~/miniconda3/envs/streamlit_mip_base/lib/python3.13/site-packages/pandas/core/apply.py:1427\u001b[39m, in \u001b[36mSeriesApply.apply\u001b[39m\u001b[34m(self)\u001b[39m\n\u001b[32m   1424\u001b[39m     \u001b[38;5;28;01mreturn\u001b[39;00m \u001b[38;5;28mself\u001b[39m.apply_compat()\n\u001b[32m   1426\u001b[39m \u001b[38;5;66;03m# self.func is Callable\u001b[39;00m\n\u001b[32m-> \u001b[39m\u001b[32m1427\u001b[39m \u001b[38;5;28;01mreturn\u001b[39;00m \u001b[38;5;28;43mself\u001b[39;49m\u001b[43m.\u001b[49m\u001b[43mapply_standard\u001b[49m\u001b[43m(\u001b[49m\u001b[43m)\u001b[49m\n",
      "\u001b[36mFile \u001b[39m\u001b[32m~/miniconda3/envs/streamlit_mip_base/lib/python3.13/site-packages/pandas/core/apply.py:1507\u001b[39m, in \u001b[36mSeriesApply.apply_standard\u001b[39m\u001b[34m(self)\u001b[39m\n\u001b[32m   1501\u001b[39m \u001b[38;5;66;03m# row-wise access\u001b[39;00m\n\u001b[32m   1502\u001b[39m \u001b[38;5;66;03m# apply doesn't have a `na_action` keyword and for backward compat reasons\u001b[39;00m\n\u001b[32m   1503\u001b[39m \u001b[38;5;66;03m# we need to give `na_action=\"ignore\"` for categorical data.\u001b[39;00m\n\u001b[32m   1504\u001b[39m \u001b[38;5;66;03m# TODO: remove the `na_action=\"ignore\"` when that default has been changed in\u001b[39;00m\n\u001b[32m   1505\u001b[39m \u001b[38;5;66;03m#  Categorical (GH51645).\u001b[39;00m\n\u001b[32m   1506\u001b[39m action = \u001b[33m\"\u001b[39m\u001b[33mignore\u001b[39m\u001b[33m\"\u001b[39m \u001b[38;5;28;01mif\u001b[39;00m \u001b[38;5;28misinstance\u001b[39m(obj.dtype, CategoricalDtype) \u001b[38;5;28;01melse\u001b[39;00m \u001b[38;5;28;01mNone\u001b[39;00m\n\u001b[32m-> \u001b[39m\u001b[32m1507\u001b[39m mapped = \u001b[43mobj\u001b[49m\u001b[43m.\u001b[49m\u001b[43m_map_values\u001b[49m\u001b[43m(\u001b[49m\n\u001b[32m   1508\u001b[39m \u001b[43m    \u001b[49m\u001b[43mmapper\u001b[49m\u001b[43m=\u001b[49m\u001b[43mcurried\u001b[49m\u001b[43m,\u001b[49m\u001b[43m \u001b[49m\u001b[43mna_action\u001b[49m\u001b[43m=\u001b[49m\u001b[43maction\u001b[49m\u001b[43m,\u001b[49m\u001b[43m \u001b[49m\u001b[43mconvert\u001b[49m\u001b[43m=\u001b[49m\u001b[38;5;28;43mself\u001b[39;49m\u001b[43m.\u001b[49m\u001b[43mconvert_dtype\u001b[49m\n\u001b[32m   1509\u001b[39m \u001b[43m\u001b[49m\u001b[43m)\u001b[49m\n\u001b[32m   1511\u001b[39m \u001b[38;5;28;01mif\u001b[39;00m \u001b[38;5;28mlen\u001b[39m(mapped) \u001b[38;5;129;01mand\u001b[39;00m \u001b[38;5;28misinstance\u001b[39m(mapped[\u001b[32m0\u001b[39m], ABCSeries):\n\u001b[32m   1512\u001b[39m     \u001b[38;5;66;03m# GH#43986 Need to do list(mapped) in order to get treated as nested\u001b[39;00m\n\u001b[32m   1513\u001b[39m     \u001b[38;5;66;03m#  See also GH#25959 regarding EA support\u001b[39;00m\n\u001b[32m   1514\u001b[39m     \u001b[38;5;28;01mreturn\u001b[39;00m obj._constructor_expanddim(\u001b[38;5;28mlist\u001b[39m(mapped), index=obj.index)\n",
      "\u001b[36mFile \u001b[39m\u001b[32m~/miniconda3/envs/streamlit_mip_base/lib/python3.13/site-packages/pandas/core/base.py:921\u001b[39m, in \u001b[36mIndexOpsMixin._map_values\u001b[39m\u001b[34m(self, mapper, na_action, convert)\u001b[39m\n\u001b[32m    918\u001b[39m \u001b[38;5;28;01mif\u001b[39;00m \u001b[38;5;28misinstance\u001b[39m(arr, ExtensionArray):\n\u001b[32m    919\u001b[39m     \u001b[38;5;28;01mreturn\u001b[39;00m arr.map(mapper, na_action=na_action)\n\u001b[32m--> \u001b[39m\u001b[32m921\u001b[39m \u001b[38;5;28;01mreturn\u001b[39;00m \u001b[43malgorithms\u001b[49m\u001b[43m.\u001b[49m\u001b[43mmap_array\u001b[49m\u001b[43m(\u001b[49m\u001b[43marr\u001b[49m\u001b[43m,\u001b[49m\u001b[43m \u001b[49m\u001b[43mmapper\u001b[49m\u001b[43m,\u001b[49m\u001b[43m \u001b[49m\u001b[43mna_action\u001b[49m\u001b[43m=\u001b[49m\u001b[43mna_action\u001b[49m\u001b[43m,\u001b[49m\u001b[43m \u001b[49m\u001b[43mconvert\u001b[49m\u001b[43m=\u001b[49m\u001b[43mconvert\u001b[49m\u001b[43m)\u001b[49m\n",
      "\u001b[36mFile \u001b[39m\u001b[32m~/miniconda3/envs/streamlit_mip_base/lib/python3.13/site-packages/pandas/core/algorithms.py:1743\u001b[39m, in \u001b[36mmap_array\u001b[39m\u001b[34m(arr, mapper, na_action, convert)\u001b[39m\n\u001b[32m   1741\u001b[39m values = arr.astype(\u001b[38;5;28mobject\u001b[39m, copy=\u001b[38;5;28;01mFalse\u001b[39;00m)\n\u001b[32m   1742\u001b[39m \u001b[38;5;28;01mif\u001b[39;00m na_action \u001b[38;5;129;01mis\u001b[39;00m \u001b[38;5;28;01mNone\u001b[39;00m:\n\u001b[32m-> \u001b[39m\u001b[32m1743\u001b[39m     \u001b[38;5;28;01mreturn\u001b[39;00m \u001b[43mlib\u001b[49m\u001b[43m.\u001b[49m\u001b[43mmap_infer\u001b[49m\u001b[43m(\u001b[49m\u001b[43mvalues\u001b[49m\u001b[43m,\u001b[49m\u001b[43m \u001b[49m\u001b[43mmapper\u001b[49m\u001b[43m,\u001b[49m\u001b[43m \u001b[49m\u001b[43mconvert\u001b[49m\u001b[43m=\u001b[49m\u001b[43mconvert\u001b[49m\u001b[43m)\u001b[49m\n\u001b[32m   1744\u001b[39m \u001b[38;5;28;01melse\u001b[39;00m:\n\u001b[32m   1745\u001b[39m     \u001b[38;5;28;01mreturn\u001b[39;00m lib.map_infer_mask(\n\u001b[32m   1746\u001b[39m         values, mapper, mask=isna(values).view(np.uint8), convert=convert\n\u001b[32m   1747\u001b[39m     )\n",
      "\u001b[36mFile \u001b[39m\u001b[32mlib.pyx:2972\u001b[39m, in \u001b[36mpandas._libs.lib.map_infer\u001b[39m\u001b[34m()\u001b[39m\n",
      "\u001b[36mCell\u001b[39m\u001b[36m \u001b[39m\u001b[32mIn[32]\u001b[39m\u001b[32m, line 2\u001b[39m, in \u001b[36m<lambda>\u001b[39m\u001b[34m(x)\u001b[39m\n\u001b[32m      1\u001b[39m \u001b[38;5;66;03m#Pegar os 6 primeiros dígitos de ncm, de o número de dígitos for maior que 6 ou manter o total de dígitos, caso contrário, para cada item da lista ncm. Manter apenas valores únicos de códigos a 6 dígitos ou menos\u001b[39;00m\n\u001b[32m----> \u001b[39m\u001b[32m2\u001b[39m empresas[\u001b[33m'\u001b[39m\u001b[33mncm\u001b[39m\u001b[33m'\u001b[39m].apply(\u001b[38;5;28;01mlambda\u001b[39;00m x: \u001b[38;5;28mlist\u001b[39m(\u001b[38;5;28mset\u001b[39m(\u001b[43m[\u001b[49m\u001b[43mi\u001b[49m\u001b[43m[\u001b[49m\u001b[43m:\u001b[49m\u001b[32;43m6\u001b[39;49m\u001b[43m]\u001b[49m\u001b[43m \u001b[49m\u001b[38;5;28;43;01mif\u001b[39;49;00m\u001b[43m \u001b[49m\u001b[38;5;28;43mlen\u001b[39;49m\u001b[43m(\u001b[49m\u001b[43mi\u001b[49m\u001b[43m)\u001b[49m\u001b[43m \u001b[49m\u001b[43m>\u001b[49m\u001b[43m \u001b[49m\u001b[32;43m6\u001b[39;49m\u001b[43m \u001b[49m\u001b[38;5;28;43;01melse\u001b[39;49;00m\u001b[43m \u001b[49m\u001b[43mi\u001b[49m\u001b[43m \u001b[49m\u001b[38;5;28;43;01mfor\u001b[39;49;00m\u001b[43m \u001b[49m\u001b[43mi\u001b[49m\u001b[43m \u001b[49m\u001b[38;5;129;43;01min\u001b[39;49;00m\u001b[43m \u001b[49m\u001b[43mx\u001b[49m\u001b[43m]\u001b[49m)))   \n",
      "\u001b[31mTypeError\u001b[39m: 'float' object is not iterable"
     ]
    }
   ],
   "source": [
    "#Pegar os 6 primeiros dígitos de ncm, de o número de dígitos for maior que 6 ou manter o total de dígitos, caso contrário, para cada item da lista ncm. Manter apenas valores únicos de códigos a 6 dígitos ou menos\n",
    "empresas['ncm'].apply(lambda x: list(set([i[:6] if len(i) > 6 else i for i in x])))   \n"
   ]
  },
  {
   "cell_type": "code",
   "execution_count": null,
   "id": "36ee6fe4",
   "metadata": {},
   "outputs": [],
   "source": []
  }
 ],
 "metadata": {
  "kernelspec": {
   "display_name": "streamlit_mip_base",
   "language": "python",
   "name": "python3"
  },
  "language_info": {
   "codemirror_mode": {
    "name": "ipython",
    "version": 3
   },
   "file_extension": ".py",
   "mimetype": "text/x-python",
   "name": "python",
   "nbconvert_exporter": "python",
   "pygments_lexer": "ipython3",
   "version": "3.13.2"
  }
 },
 "nbformat": 4,
 "nbformat_minor": 5
}
