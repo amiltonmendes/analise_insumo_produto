{
 "cells": [
  {
   "cell_type": "code",
   "execution_count": 1,
   "id": "d2dbc0f1",
   "metadata": {},
   "outputs": [],
   "source": [
    "import requests\n",
    "import pandas as pd\n",
    "\n",
    "import json"
   ]
  },
  {
   "cell_type": "code",
   "execution_count": 105,
   "id": "7a4ea885",
   "metadata": {},
   "outputs": [],
   "source": [
    "url = 'https://apisidra.ibge.gov.br/values/t/7752/n1/all/v/864/p/last%201/c1264/allxt'\n",
    "response = requests.get(url)\n",
    "data = response.json()\n",
    "pia_produto_rlv = pd.DataFrame(data, columns=data[0])\n"
   ]
  },
  {
   "cell_type": "code",
   "execution_count": 106,
   "id": "3d7ba0bb",
   "metadata": {},
   "outputs": [],
   "source": [
    "pia_produto_rlv.columns = pia_produto_rlv.iloc[0]\n",
    "pia_produto_rlv = pia_produto_rlv[1:]"
   ]
  },
  {
   "cell_type": "code",
   "execution_count": 107,
   "id": "758fa76e",
   "metadata": {},
   "outputs": [],
   "source": [
    "#Extrair apenas registros cuja coluna 'Classes das atividades industriais e produtos - Prodlist 2016, Prodlist 2019 e Prodlist 2022' que iniciam com o padrão \\d{4}\\.\\d{2}\n",
    "pia_produto_rlv = pia_produto_rlv[pia_produto_rlv['Classes das atividades industriais e produtos - Prodlist 2016, Prodlist 2019 e Prodlist 2022'].str.match(r'^\\d{4}\\.\\d{2}')]"
   ]
  },
  {
   "cell_type": "code",
   "execution_count": 108,
   "id": "f45ef48d",
   "metadata": {},
   "outputs": [],
   "source": [
    "pia_produto_rlv = pia_produto_rlv[['Ano','Classes das atividades industriais e produtos - Prodlist 2016, Prodlist 2019 e Prodlist 2022','Valor']]\n",
    "pia_produto_rlv['cod_prodlist'] = pia_produto_rlv['Classes das atividades industriais e produtos - Prodlist 2016, Prodlist 2019 e Prodlist 2022'].str[0:9]"
   ]
  },
  {
   "cell_type": "code",
   "execution_count": 97,
   "id": "cfbfd194",
   "metadata": {},
   "outputs": [],
   "source": [
    "mapeamento = pd.concat([pd.read_excel('./dados/mapeamento/PRODLIST Ind 2022 x NCM 2022.xlsx',names=['prodlist','ncm']),pd.read_excel('./dados/mapeamento/PRODLIST Ind 2019 x NCM 2019.xlsx',names=['prodlist','ncm']),pd.read_excel('./dados/mapeamento/PRODLIST Ind 2016 x NCM 2016.xlsx',names=['prodlist','ncm'])], axis=0,ignore_index=True)\n"
   ]
  },
  {
   "cell_type": "code",
   "execution_count": 43,
   "id": "5dacbe84",
   "metadata": {},
   "outputs": [],
   "source": [
    "import re\n",
    "#inserir um 0 à esquerda caso o padrão da coluna 'PRODLIST-Ind 2019' não seja \\d{4}\\.\n",
    "mapeamento['prodlist'] = mapeamento['prodlist'].apply(lambda x: f\"0{x}\" if not re.match(r'\\d{4}\\.', str(x)) else x).apply(lambda x: f\"{x}0\" if not re.match(r'\\d{4}\\.\\d{4}', str(x)) else x).apply(lambda x: f\"{x}0\" if not re.match(r'\\d{4}\\.\\d{4}', str(x)) else x)\n"
   ]
  },
  {
   "cell_type": "code",
   "execution_count": 44,
   "id": "acd0abbe",
   "metadata": {},
   "outputs": [
    {
     "data": {
      "text/plain": [
       "(35871, 2)"
      ]
     },
     "execution_count": 44,
     "metadata": {},
     "output_type": "execute_result"
    }
   ],
   "source": [
    "mapeamento.shape"
   ]
  },
  {
   "cell_type": "code",
   "execution_count": 46,
   "id": "a0baaaf2",
   "metadata": {},
   "outputs": [
    {
     "data": {
      "text/plain": [
       "(16351, 2)"
      ]
     },
     "execution_count": 46,
     "metadata": {},
     "output_type": "execute_result"
    }
   ],
   "source": [
    "mapeamento.drop_duplicates().shape"
   ]
  },
  {
   "cell_type": "code",
   "execution_count": 47,
   "id": "aff8a9b3",
   "metadata": {},
   "outputs": [],
   "source": [
    "mapeamento= mapeamento.drop_duplicates()"
   ]
  },
  {
   "cell_type": "code",
   "execution_count": 49,
   "id": "636a948e",
   "metadata": {},
   "outputs": [],
   "source": [
    "mapeamento['cod_ncm'] = mapeamento['ncm'].str.replace('.','', regex=False)"
   ]
  },
  {
   "cell_type": "code",
   "execution_count": 53,
   "id": "2c30a77d",
   "metadata": {},
   "outputs": [],
   "source": [
    "#listar cod_ncm que não possuem 8 dígitos\n",
    "mapeamento['cod_ncm'].str.len().value_counts()\n",
    "mapeamento = mapeamento[mapeamento['cod_ncm'].str.len() == 8]"
   ]
  },
  {
   "cell_type": "code",
   "execution_count": 54,
   "id": "e75bb19b",
   "metadata": {},
   "outputs": [
    {
     "data": {
      "text/plain": [
       "cod_ncm\n",
       "8    16349\n",
       "Name: count, dtype: int64"
      ]
     },
     "execution_count": 54,
     "metadata": {},
     "output_type": "execute_result"
    }
   ],
   "source": [
    "mapeamento['cod_ncm'].str.len().value_counts()\n"
   ]
  },
  {
   "cell_type": "code",
   "execution_count": 69,
   "id": "6f7220b3",
   "metadata": {},
   "outputs": [],
   "source": [
    "exportacoes_mundo_2023 = pd.read_excel('./dados/comex/Exportação  Mundo 2023 NCM.xlsx')\n",
    "exportacoes_usa_2023 = pd.read_excel('./dados/comex/Exportação USA 2023 NCM.xlsx.xlsx')\n"
   ]
  },
  {
   "cell_type": "code",
   "execution_count": 70,
   "id": "ab561cbf",
   "metadata": {},
   "outputs": [],
   "source": [
    "exportacoes_mundo_2023['cod_ncm'] = exportacoes_mundo_2023['Código NCM'].astype(str).str.zfill(8)\n",
    "exportacoes_usa_2023['cod_ncm'] = exportacoes_usa_2023['Código NCM'].astype(str).str.zfill(8)"
   ]
  },
  {
   "cell_type": "code",
   "execution_count": 71,
   "id": "2bfe5022",
   "metadata": {},
   "outputs": [
    {
     "data": {
      "text/html": [
       "<div>\n",
       "<style scoped>\n",
       "    .dataframe tbody tr th:only-of-type {\n",
       "        vertical-align: middle;\n",
       "    }\n",
       "\n",
       "    .dataframe tbody tr th {\n",
       "        vertical-align: top;\n",
       "    }\n",
       "\n",
       "    .dataframe thead th {\n",
       "        text-align: right;\n",
       "    }\n",
       "</style>\n",
       "<table border=\"1\" class=\"dataframe\">\n",
       "  <thead>\n",
       "    <tr style=\"text-align: right;\">\n",
       "      <th></th>\n",
       "      <th>Código NCM</th>\n",
       "      <th>Descrição NCM</th>\n",
       "      <th>2023 - Valor US$ FOB</th>\n",
       "      <th>cod_ncm</th>\n",
       "    </tr>\n",
       "  </thead>\n",
       "  <tbody>\n",
       "    <tr>\n",
       "      <th>0</th>\n",
       "      <td>12019000</td>\n",
       "      <td>Soja, mesmo triturada, exceto para semeadura</td>\n",
       "      <td>53238560791</td>\n",
       "      <td>12019000</td>\n",
       "    </tr>\n",
       "    <tr>\n",
       "      <th>1</th>\n",
       "      <td>27090010</td>\n",
       "      <td>Óleos brutos de petróleo</td>\n",
       "      <td>42611078672</td>\n",
       "      <td>27090010</td>\n",
       "    </tr>\n",
       "  </tbody>\n",
       "</table>\n",
       "</div>"
      ],
      "text/plain": [
       "   Código NCM                                 Descrição NCM  \\\n",
       "0    12019000  Soja, mesmo triturada, exceto para semeadura   \n",
       "1    27090010                      Óleos brutos de petróleo   \n",
       "\n",
       "   2023 - Valor US$ FOB   cod_ncm  \n",
       "0           53238560791  12019000  \n",
       "1           42611078672  27090010  "
      ]
     },
     "execution_count": 71,
     "metadata": {},
     "output_type": "execute_result"
    }
   ],
   "source": [
    "exportacoes_mundo_2023.head(2)"
   ]
  },
  {
   "cell_type": "code",
   "execution_count": 72,
   "id": "64b187ec",
   "metadata": {},
   "outputs": [
    {
     "data": {
      "text/html": [
       "<div>\n",
       "<style scoped>\n",
       "    .dataframe tbody tr th:only-of-type {\n",
       "        vertical-align: middle;\n",
       "    }\n",
       "\n",
       "    .dataframe tbody tr th {\n",
       "        vertical-align: top;\n",
       "    }\n",
       "\n",
       "    .dataframe thead th {\n",
       "        text-align: right;\n",
       "    }\n",
       "</style>\n",
       "<table border=\"1\" class=\"dataframe\">\n",
       "  <thead>\n",
       "    <tr style=\"text-align: right;\">\n",
       "      <th></th>\n",
       "      <th>prodlist</th>\n",
       "      <th>ncm</th>\n",
       "      <th>cod_ncm</th>\n",
       "    </tr>\n",
       "  </thead>\n",
       "  <tbody>\n",
       "    <tr>\n",
       "      <th>0</th>\n",
       "      <td>0500.2010</td>\n",
       "      <td>2701.19.00</td>\n",
       "      <td>27011900</td>\n",
       "    </tr>\n",
       "    <tr>\n",
       "      <th>1</th>\n",
       "      <td>0500.2030</td>\n",
       "      <td>2701.11.00</td>\n",
       "      <td>27011100</td>\n",
       "    </tr>\n",
       "  </tbody>\n",
       "</table>\n",
       "</div>"
      ],
      "text/plain": [
       "    prodlist         ncm   cod_ncm\n",
       "0  0500.2010  2701.19.00  27011900\n",
       "1  0500.2030  2701.11.00  27011100"
      ]
     },
     "execution_count": 72,
     "metadata": {},
     "output_type": "execute_result"
    }
   ],
   "source": [
    "mapeamento.head(2)"
   ]
  },
  {
   "cell_type": "code",
   "execution_count": 73,
   "id": "42adfcc7",
   "metadata": {},
   "outputs": [],
   "source": [
    "exportacoes_mundo_2023 = exportacoes_mundo_2023.merge(mapeamento.drop('ncm',axis=1), on='cod_ncm', how='left')\n",
    "exportacoes_usa_2023 = exportacoes_usa_2023.merge(mapeamento.drop('ncm',axis=1), on='cod_ncm', how='left')"
   ]
  },
  {
   "cell_type": "code",
   "execution_count": 74,
   "id": "3c5c4b74",
   "metadata": {},
   "outputs": [
    {
     "data": {
      "text/html": [
       "<div>\n",
       "<style scoped>\n",
       "    .dataframe tbody tr th:only-of-type {\n",
       "        vertical-align: middle;\n",
       "    }\n",
       "\n",
       "    .dataframe tbody tr th {\n",
       "        vertical-align: top;\n",
       "    }\n",
       "\n",
       "    .dataframe thead th {\n",
       "        text-align: right;\n",
       "    }\n",
       "</style>\n",
       "<table border=\"1\" class=\"dataframe\">\n",
       "  <thead>\n",
       "    <tr style=\"text-align: right;\">\n",
       "      <th></th>\n",
       "      <th>Código NCM</th>\n",
       "      <th>Descrição NCM</th>\n",
       "      <th>2023 - Valor US$ FOB</th>\n",
       "      <th>cod_ncm</th>\n",
       "      <th>prodlist</th>\n",
       "    </tr>\n",
       "  </thead>\n",
       "  <tbody>\n",
       "    <tr>\n",
       "      <th>0</th>\n",
       "      <td>12019000</td>\n",
       "      <td>Soja, mesmo triturada, exceto para semeadura</td>\n",
       "      <td>53238560791</td>\n",
       "      <td>12019000</td>\n",
       "      <td>NaN</td>\n",
       "    </tr>\n",
       "    <tr>\n",
       "      <th>1</th>\n",
       "      <td>27090010</td>\n",
       "      <td>Óleos brutos de petróleo</td>\n",
       "      <td>42611078672</td>\n",
       "      <td>27090010</td>\n",
       "      <td>0600.2030</td>\n",
       "    </tr>\n",
       "    <tr>\n",
       "      <th>2</th>\n",
       "      <td>26011100</td>\n",
       "      <td>Minérios de ferro e seus concentrados, exceto ...</td>\n",
       "      <td>27298053224</td>\n",
       "      <td>26011100</td>\n",
       "      <td>0710.2015</td>\n",
       "    </tr>\n",
       "    <tr>\n",
       "      <th>3</th>\n",
       "      <td>26011100</td>\n",
       "      <td>Minérios de ferro e seus concentrados, exceto ...</td>\n",
       "      <td>27298053224</td>\n",
       "      <td>26011100</td>\n",
       "      <td>0710.2030</td>\n",
       "    </tr>\n",
       "    <tr>\n",
       "      <th>4</th>\n",
       "      <td>10059010</td>\n",
       "      <td>Milho em grão, exceto para semeadura</td>\n",
       "      <td>13459787656</td>\n",
       "      <td>10059010</td>\n",
       "      <td>NaN</td>\n",
       "    </tr>\n",
       "  </tbody>\n",
       "</table>\n",
       "</div>"
      ],
      "text/plain": [
       "   Código NCM                                      Descrição NCM  \\\n",
       "0    12019000       Soja, mesmo triturada, exceto para semeadura   \n",
       "1    27090010                           Óleos brutos de petróleo   \n",
       "2    26011100  Minérios de ferro e seus concentrados, exceto ...   \n",
       "3    26011100  Minérios de ferro e seus concentrados, exceto ...   \n",
       "4    10059010               Milho em grão, exceto para semeadura   \n",
       "\n",
       "   2023 - Valor US$ FOB   cod_ncm   prodlist  \n",
       "0           53238560791  12019000        NaN  \n",
       "1           42611078672  27090010  0600.2030  \n",
       "2           27298053224  26011100  0710.2015  \n",
       "3           27298053224  26011100  0710.2030  \n",
       "4           13459787656  10059010        NaN  "
      ]
     },
     "execution_count": 74,
     "metadata": {},
     "output_type": "execute_result"
    }
   ],
   "source": [
    "exportacoes_mundo_2023.head()"
   ]
  },
  {
   "cell_type": "code",
   "execution_count": 75,
   "id": "abe0aa38",
   "metadata": {},
   "outputs": [
    {
     "name": "stdout",
     "output_type": "stream",
     "text": [
      "Participação dos NCMs sem Prodlist na exportação mundial: 14.81%\n",
      "Participação dos NCMs sem Prodlist na exportação para os EUA: 3.12%\n"
     ]
    }
   ],
   "source": [
    "ncms_sem_prodlist_mundo = exportacoes_mundo_2023[exportacoes_mundo_2023['prodlist'].isna()]['2023 - Valor US$ FOB'].sum()/ exportacoes_mundo_2023['2023 - Valor US$ FOB'].sum()\n",
    "ncm_sem_prodlist_usa = exportacoes_usa_2023[exportacoes_usa_2023['prodlist'].isna()]['2023 - Valor US$ FOB'].sum()/ exportacoes_usa_2023['2023 - Valor US$ FOB'].sum()\n",
    "\n",
    "print(f'Participação dos NCMs sem Prodlist na exportação mundial: {ncms_sem_prodlist_mundo:.2%}')\n",
    "print(f'Participação dos NCMs sem Prodlist na exportação para os EUA: {ncm_sem_prodlist_usa:.2%}')"
   ]
  },
  {
   "cell_type": "code",
   "execution_count": 76,
   "id": "ef84fc25",
   "metadata": {},
   "outputs": [],
   "source": [
    "#Taxa média de câmbio em 2023 - compra\n",
    "taxa_cambio = 4.99  # Exemplo de taxa média de câmbio em 2023\n",
    "exportacoes_mundo_2023['2023 - Valor R$ FOB Mundo'] = exportacoes_mundo_2023['2023 - Valor US$ FOB'] * taxa_cambio\n",
    "exportacoes_usa_2023['2023 - Valor R$ FOB USA'] = exportacoes_usa_2023['2023 - Valor US$ FOB'] * taxa_cambio"
   ]
  },
  {
   "cell_type": "code",
   "execution_count": 77,
   "id": "5b84b9d9",
   "metadata": {},
   "outputs": [],
   "source": [
    "exportacoes_mundo_2023 = exportacoes_mundo_2023.dropna(subset=['prodlist'])\n",
    "exportacoes_usa_2023 = exportacoes_usa_2023.dropna(subset=['prodlist'])"
   ]
  },
  {
   "cell_type": "code",
   "execution_count": 82,
   "id": "5a1f6885",
   "metadata": {},
   "outputs": [
    {
     "data": {
      "text/plain": [
       "(7335, 6)"
      ]
     },
     "execution_count": 82,
     "metadata": {},
     "output_type": "execute_result"
    }
   ],
   "source": [
    "exportacoes_usa_2023.shape"
   ]
  },
  {
   "cell_type": "code",
   "execution_count": 81,
   "id": "d5e4701e",
   "metadata": {},
   "outputs": [
    {
     "data": {
      "text/plain": [
       "(11705, 6)"
      ]
     },
     "execution_count": 81,
     "metadata": {},
     "output_type": "execute_result"
    }
   ],
   "source": [
    "exportacoes_mundo_2023.shape"
   ]
  },
  {
   "cell_type": "code",
   "execution_count": 83,
   "id": "362ee09a",
   "metadata": {},
   "outputs": [],
   "source": [
    "exportacoes_mundo_2023 = exportacoes_mundo_2023.groupby('prodlist').agg({'2023 - Valor R$ FOB Mundo': 'sum'}).reset_index()\n",
    "exportacoes_usa_2023 = exportacoes_usa_2023.groupby('prodlist').agg({'2023 - Valor R$ FOB USA': 'sum'}).reset_index()\n",
    "\n"
   ]
  },
  {
   "cell_type": "code",
   "execution_count": 85,
   "id": "c02a7310",
   "metadata": {},
   "outputs": [],
   "source": [
    "exportacoes = exportacoes_mundo_2023.merge(exportacoes_usa_2023, on='prodlist', how='outer').fillna(0)"
   ]
  },
  {
   "cell_type": "code",
   "execution_count": 87,
   "id": "cfb2e905",
   "metadata": {},
   "outputs": [
    {
     "data": {
      "text/html": [
       "<div>\n",
       "<style scoped>\n",
       "    .dataframe tbody tr th:only-of-type {\n",
       "        vertical-align: middle;\n",
       "    }\n",
       "\n",
       "    .dataframe tbody tr th {\n",
       "        vertical-align: top;\n",
       "    }\n",
       "\n",
       "    .dataframe thead th {\n",
       "        text-align: right;\n",
       "    }\n",
       "</style>\n",
       "<table border=\"1\" class=\"dataframe\">\n",
       "  <thead>\n",
       "    <tr style=\"text-align: right;\">\n",
       "      <th></th>\n",
       "      <th>Ano</th>\n",
       "      <th>Classes das atividades industriais e produtos - Prodlist 2016, Prodlist 2019 e Prodlist 2022</th>\n",
       "      <th>Valor</th>\n",
       "      <th>cod_prodlist</th>\n",
       "      <th>prodlist</th>\n",
       "      <th>2023 - Valor R$ FOB Mundo</th>\n",
       "      <th>2023 - Valor R$ FOB USA</th>\n",
       "    </tr>\n",
       "  </thead>\n",
       "  <tbody>\n",
       "    <tr>\n",
       "      <th>0</th>\n",
       "      <td>NaN</td>\n",
       "      <td>NaN</td>\n",
       "      <td>NaN</td>\n",
       "      <td>NaN</td>\n",
       "      <td>1011.2045</td>\n",
       "      <td>2.484606e+09</td>\n",
       "      <td>7.014848e+08</td>\n",
       "    </tr>\n",
       "    <tr>\n",
       "      <th>1</th>\n",
       "      <td>NaN</td>\n",
       "      <td>NaN</td>\n",
       "      <td>NaN</td>\n",
       "      <td>NaN</td>\n",
       "      <td>1011.2055</td>\n",
       "      <td>3.313964e+08</td>\n",
       "      <td>1.035435e+08</td>\n",
       "    </tr>\n",
       "    <tr>\n",
       "      <th>2</th>\n",
       "      <td>NaN</td>\n",
       "      <td>NaN</td>\n",
       "      <td>NaN</td>\n",
       "      <td>NaN</td>\n",
       "      <td>1011.2065</td>\n",
       "      <td>1.405934e+09</td>\n",
       "      <td>1.231338e+09</td>\n",
       "    </tr>\n",
       "    <tr>\n",
       "      <th>3</th>\n",
       "      <td>NaN</td>\n",
       "      <td>NaN</td>\n",
       "      <td>NaN</td>\n",
       "      <td>NaN</td>\n",
       "      <td>1011.2095</td>\n",
       "      <td>2.213978e+06</td>\n",
       "      <td>0.000000e+00</td>\n",
       "    </tr>\n",
       "    <tr>\n",
       "      <th>4</th>\n",
       "      <td>NaN</td>\n",
       "      <td>NaN</td>\n",
       "      <td>NaN</td>\n",
       "      <td>NaN</td>\n",
       "      <td>1013.2045</td>\n",
       "      <td>8.219026e+08</td>\n",
       "      <td>8.532209e+07</td>\n",
       "    </tr>\n",
       "    <tr>\n",
       "      <th>...</th>\n",
       "      <td>...</td>\n",
       "      <td>...</td>\n",
       "      <td>...</td>\n",
       "      <td>...</td>\n",
       "      <td>...</td>\n",
       "      <td>...</td>\n",
       "      <td>...</td>\n",
       "    </tr>\n",
       "    <tr>\n",
       "      <th>3320</th>\n",
       "      <td>NaN</td>\n",
       "      <td>NaN</td>\n",
       "      <td>NaN</td>\n",
       "      <td>NaN</td>\n",
       "      <td>3511.2010</td>\n",
       "      <td>2.766594e+09</td>\n",
       "      <td>0.000000e+00</td>\n",
       "    </tr>\n",
       "    <tr>\n",
       "      <th>3321</th>\n",
       "      <td>NaN</td>\n",
       "      <td>NaN</td>\n",
       "      <td>NaN</td>\n",
       "      <td>NaN</td>\n",
       "      <td>3520.2010</td>\n",
       "      <td>1.317360e+04</td>\n",
       "      <td>6.187600e+03</td>\n",
       "    </tr>\n",
       "    <tr>\n",
       "      <th>3322</th>\n",
       "      <td>NaN</td>\n",
       "      <td>NaN</td>\n",
       "      <td>NaN</td>\n",
       "      <td>NaN</td>\n",
       "      <td>3520.2020</td>\n",
       "      <td>6.906160e+03</td>\n",
       "      <td>0.000000e+00</td>\n",
       "    </tr>\n",
       "    <tr>\n",
       "      <th>3323</th>\n",
       "      <td>NaN</td>\n",
       "      <td>NaN</td>\n",
       "      <td>NaN</td>\n",
       "      <td>NaN</td>\n",
       "      <td>3520.2030</td>\n",
       "      <td>4.246490e+03</td>\n",
       "      <td>0.000000e+00</td>\n",
       "    </tr>\n",
       "    <tr>\n",
       "      <th>3324</th>\n",
       "      <td>NaN</td>\n",
       "      <td>NaN</td>\n",
       "      <td>NaN</td>\n",
       "      <td>NaN</td>\n",
       "      <td>3600.2010</td>\n",
       "      <td>2.367570e+06</td>\n",
       "      <td>4.542647e+05</td>\n",
       "    </tr>\n",
       "  </tbody>\n",
       "</table>\n",
       "<p>358 rows × 7 columns</p>\n",
       "</div>"
      ],
      "text/plain": [
       "      Ano  \\\n",
       "0     NaN   \n",
       "1     NaN   \n",
       "2     NaN   \n",
       "3     NaN   \n",
       "4     NaN   \n",
       "...   ...   \n",
       "3320  NaN   \n",
       "3321  NaN   \n",
       "3322  NaN   \n",
       "3323  NaN   \n",
       "3324  NaN   \n",
       "\n",
       "     Classes das atividades industriais e produtos - Prodlist 2016, Prodlist 2019 e Prodlist 2022  \\\n",
       "0                                                   NaN                                             \n",
       "1                                                   NaN                                             \n",
       "2                                                   NaN                                             \n",
       "3                                                   NaN                                             \n",
       "4                                                   NaN                                             \n",
       "...                                                 ...                                             \n",
       "3320                                                NaN                                             \n",
       "3321                                                NaN                                             \n",
       "3322                                                NaN                                             \n",
       "3323                                                NaN                                             \n",
       "3324                                                NaN                                             \n",
       "\n",
       "     Valor cod_prodlist   prodlist  2023 - Valor R$ FOB Mundo  \\\n",
       "0      NaN          NaN  1011.2045               2.484606e+09   \n",
       "1      NaN          NaN  1011.2055               3.313964e+08   \n",
       "2      NaN          NaN  1011.2065               1.405934e+09   \n",
       "3      NaN          NaN  1011.2095               2.213978e+06   \n",
       "4      NaN          NaN  1013.2045               8.219026e+08   \n",
       "...    ...          ...        ...                        ...   \n",
       "3320   NaN          NaN  3511.2010               2.766594e+09   \n",
       "3321   NaN          NaN  3520.2010               1.317360e+04   \n",
       "3322   NaN          NaN  3520.2020               6.906160e+03   \n",
       "3323   NaN          NaN  3520.2030               4.246490e+03   \n",
       "3324   NaN          NaN  3600.2010               2.367570e+06   \n",
       "\n",
       "      2023 - Valor R$ FOB USA  \n",
       "0                7.014848e+08  \n",
       "1                1.035435e+08  \n",
       "2                1.231338e+09  \n",
       "3                0.000000e+00  \n",
       "4                8.532209e+07  \n",
       "...                       ...  \n",
       "3320             0.000000e+00  \n",
       "3321             6.187600e+03  \n",
       "3322             0.000000e+00  \n",
       "3323             0.000000e+00  \n",
       "3324             4.542647e+05  \n",
       "\n",
       "[358 rows x 7 columns]"
      ]
     },
     "execution_count": 87,
     "metadata": {},
     "output_type": "execute_result"
    }
   ],
   "source": [
    "verificacao_ía_produto_vazio = pia_produto_rlv.merge(exportacoes, left_on='cod_prodlist', right_on='prodlist', how='right')\n",
    "verificacao_ía_produto_vazio.query('Valor.isna()')"
   ]
  },
  {
   "cell_type": "code",
   "execution_count": 109,
   "id": "aacbd635",
   "metadata": {},
   "outputs": [
    {
     "data": {
      "text/html": [
       "<div>\n",
       "<style scoped>\n",
       "    .dataframe tbody tr th:only-of-type {\n",
       "        vertical-align: middle;\n",
       "    }\n",
       "\n",
       "    .dataframe tbody tr th {\n",
       "        vertical-align: top;\n",
       "    }\n",
       "\n",
       "    .dataframe thead th {\n",
       "        text-align: right;\n",
       "    }\n",
       "</style>\n",
       "<table border=\"1\" class=\"dataframe\">\n",
       "  <thead>\n",
       "    <tr style=\"text-align: right;\">\n",
       "      <th></th>\n",
       "      <th>Ano</th>\n",
       "      <th>Classes das atividades industriais e produtos - Prodlist 2016, Prodlist 2019 e Prodlist 2022</th>\n",
       "      <th>Valor</th>\n",
       "      <th>cod_prodlist</th>\n",
       "    </tr>\n",
       "  </thead>\n",
       "  <tbody>\n",
       "    <tr>\n",
       "      <th>2</th>\n",
       "      <td>2023</td>\n",
       "      <td>0500.2010 Carvão mineral e outros combustíveis...</td>\n",
       "      <td>1621736</td>\n",
       "      <td>0500.2010</td>\n",
       "    </tr>\n",
       "    <tr>\n",
       "      <th>3</th>\n",
       "      <td>2023</td>\n",
       "      <td>0500.2030 Hulhas, mesmo em pó, finos de carvão...</td>\n",
       "      <td>126178</td>\n",
       "      <td>0500.2030</td>\n",
       "    </tr>\n",
       "  </tbody>\n",
       "</table>\n",
       "</div>"
      ],
      "text/plain": [
       "0   Ano  \\\n",
       "2  2023   \n",
       "3  2023   \n",
       "\n",
       "0 Classes das atividades industriais e produtos - Prodlist 2016, Prodlist 2019 e Prodlist 2022  \\\n",
       "2  0500.2010 Carvão mineral e outros combustíveis...                                             \n",
       "3  0500.2030 Hulhas, mesmo em pó, finos de carvão...                                             \n",
       "\n",
       "0    Valor cod_prodlist  \n",
       "2  1621736    0500.2010  \n",
       "3   126178    0500.2030  "
      ]
     },
     "execution_count": 109,
     "metadata": {},
     "output_type": "execute_result"
    }
   ],
   "source": [
    "pia_produto_rlv.head(2)"
   ]
  },
  {
   "cell_type": "code",
   "execution_count": 110,
   "id": "07db3ff3",
   "metadata": {},
   "outputs": [],
   "source": [
    "pia_produto_rlv_bck = pia_produto_rlv.copy()"
   ]
  },
  {
   "cell_type": "code",
   "execution_count": 129,
   "id": "7881cc4f",
   "metadata": {},
   "outputs": [],
   "source": [
    "pia_produto_rlv = pia_produto_rlv_bck"
   ]
  },
  {
   "cell_type": "code",
   "execution_count": 130,
   "id": "c5ea630c",
   "metadata": {},
   "outputs": [],
   "source": [
    "#dropar linhas em que o valor da coluna 'Valor' não pode ser convertido para float\n",
    "pia_produto_rlv = pia_produto_rlv[pia_produto_rlv['Valor']!='-']\n",
    "pia_produto_rlv = pia_produto_rlv[pia_produto_rlv['Valor']!='X']\n",
    "pia_produto_rlv['Valor'] = pia_produto_rlv['Valor'].astype(float)\n",
    "pia_produto_rlv['Valor'] =pia_produto_rlv['Valor']*1000"
   ]
  },
  {
   "cell_type": "code",
   "execution_count": 131,
   "id": "919f4c29",
   "metadata": {},
   "outputs": [
    {
     "name": "stdout",
     "output_type": "stream",
     "text": [
      "o valor de x é 1621736000.0\n"
     ]
    }
   ],
   "source": [
    "print(f'o valor de x é {1.621736e+09}')"
   ]
  },
  {
   "cell_type": "code",
   "execution_count": 132,
   "id": "b86cdb72",
   "metadata": {},
   "outputs": [
    {
     "data": {
      "text/html": [
       "<div>\n",
       "<style scoped>\n",
       "    .dataframe tbody tr th:only-of-type {\n",
       "        vertical-align: middle;\n",
       "    }\n",
       "\n",
       "    .dataframe tbody tr th {\n",
       "        vertical-align: top;\n",
       "    }\n",
       "\n",
       "    .dataframe thead th {\n",
       "        text-align: right;\n",
       "    }\n",
       "</style>\n",
       "<table border=\"1\" class=\"dataframe\">\n",
       "  <thead>\n",
       "    <tr style=\"text-align: right;\">\n",
       "      <th></th>\n",
       "      <th>Ano</th>\n",
       "      <th>Classes das atividades industriais e produtos - Prodlist 2016, Prodlist 2019 e Prodlist 2022</th>\n",
       "      <th>Valor</th>\n",
       "      <th>cod_prodlist</th>\n",
       "      <th>prodlist</th>\n",
       "      <th>2023 - Valor R$ FOB Mundo</th>\n",
       "      <th>2023 - Valor R$ FOB USA</th>\n",
       "    </tr>\n",
       "  </thead>\n",
       "  <tbody>\n",
       "    <tr>\n",
       "      <th>0</th>\n",
       "      <td>2023</td>\n",
       "      <td>0500.2010 Carvão mineral e outros combustíveis...</td>\n",
       "      <td>1.621736e+09</td>\n",
       "      <td>0500.2010</td>\n",
       "      <td>0</td>\n",
       "      <td>0.000000e+00</td>\n",
       "      <td>0.00</td>\n",
       "    </tr>\n",
       "    <tr>\n",
       "      <th>1</th>\n",
       "      <td>2023</td>\n",
       "      <td>0500.2030 Hulhas, mesmo em pó, finos de carvão...</td>\n",
       "      <td>1.261780e+08</td>\n",
       "      <td>0500.2030</td>\n",
       "      <td>0500.2030</td>\n",
       "      <td>1.776615e+06</td>\n",
       "      <td>0.00</td>\n",
       "    </tr>\n",
       "    <tr>\n",
       "      <th>2</th>\n",
       "      <td>2023</td>\n",
       "      <td>0500.9010 Serviço de beneficiamento de carvão ...</td>\n",
       "      <td>1.494900e+07</td>\n",
       "      <td>0500.9010</td>\n",
       "      <td>0</td>\n",
       "      <td>0.000000e+00</td>\n",
       "      <td>0.00</td>\n",
       "    </tr>\n",
       "    <tr>\n",
       "      <th>3</th>\n",
       "      <td>2023</td>\n",
       "      <td>0600.2010 Gás natural, liquefeito ou no estado...</td>\n",
       "      <td>2.614563e+10</td>\n",
       "      <td>0600.2010</td>\n",
       "      <td>0600.2010</td>\n",
       "      <td>2.280291e+08</td>\n",
       "      <td>4496948.08</td>\n",
       "    </tr>\n",
       "    <tr>\n",
       "      <th>4</th>\n",
       "      <td>2023</td>\n",
       "      <td>0600.2020 Óleos brutos de minerais betuminosos</td>\n",
       "      <td>4.706370e+08</td>\n",
       "      <td>0600.2020</td>\n",
       "      <td>0600.2020</td>\n",
       "      <td>3.489258e+05</td>\n",
       "      <td>1701.59</td>\n",
       "    </tr>\n",
       "    <tr>\n",
       "      <th>...</th>\n",
       "      <td>...</td>\n",
       "      <td>...</td>\n",
       "      <td>...</td>\n",
       "      <td>...</td>\n",
       "      <td>...</td>\n",
       "      <td>...</td>\n",
       "      <td>...</td>\n",
       "    </tr>\n",
       "    <tr>\n",
       "      <th>2676</th>\n",
       "      <td>2023</td>\n",
       "      <td>3321.9140 Serviços de instalação e montagem de...</td>\n",
       "      <td>7.895100e+07</td>\n",
       "      <td>3321.9140</td>\n",
       "      <td>0</td>\n",
       "      <td>0.000000e+00</td>\n",
       "      <td>0.00</td>\n",
       "    </tr>\n",
       "    <tr>\n",
       "      <th>2677</th>\n",
       "      <td>2023</td>\n",
       "      <td>3321.9160 Serviços de instalação e montagem de...</td>\n",
       "      <td>2.020000e+07</td>\n",
       "      <td>3321.9160</td>\n",
       "      <td>0</td>\n",
       "      <td>0.000000e+00</td>\n",
       "      <td>0.00</td>\n",
       "    </tr>\n",
       "    <tr>\n",
       "      <th>2678</th>\n",
       "      <td>2023</td>\n",
       "      <td>3321.9170 Serviços de instalação e montagem de...</td>\n",
       "      <td>7.995700e+08</td>\n",
       "      <td>3321.9170</td>\n",
       "      <td>0</td>\n",
       "      <td>0.000000e+00</td>\n",
       "      <td>0.00</td>\n",
       "    </tr>\n",
       "    <tr>\n",
       "      <th>2679</th>\n",
       "      <td>2023</td>\n",
       "      <td>3329.9010 Serviços de montagem e acabamento de...</td>\n",
       "      <td>3.181430e+08</td>\n",
       "      <td>3329.9010</td>\n",
       "      <td>0</td>\n",
       "      <td>0.000000e+00</td>\n",
       "      <td>0.00</td>\n",
       "    </tr>\n",
       "    <tr>\n",
       "      <th>2680</th>\n",
       "      <td>2023</td>\n",
       "      <td>3329.9020 Serviços de instalação e montagem de...</td>\n",
       "      <td>6.505820e+08</td>\n",
       "      <td>3329.9020</td>\n",
       "      <td>0</td>\n",
       "      <td>0.000000e+00</td>\n",
       "      <td>0.00</td>\n",
       "    </tr>\n",
       "  </tbody>\n",
       "</table>\n",
       "<p>2681 rows × 7 columns</p>\n",
       "</div>"
      ],
      "text/plain": [
       "       Ano  \\\n",
       "0     2023   \n",
       "1     2023   \n",
       "2     2023   \n",
       "3     2023   \n",
       "4     2023   \n",
       "...    ...   \n",
       "2676  2023   \n",
       "2677  2023   \n",
       "2678  2023   \n",
       "2679  2023   \n",
       "2680  2023   \n",
       "\n",
       "     Classes das atividades industriais e produtos - Prodlist 2016, Prodlist 2019 e Prodlist 2022  \\\n",
       "0     0500.2010 Carvão mineral e outros combustíveis...                                             \n",
       "1     0500.2030 Hulhas, mesmo em pó, finos de carvão...                                             \n",
       "2     0500.9010 Serviço de beneficiamento de carvão ...                                             \n",
       "3     0600.2010 Gás natural, liquefeito ou no estado...                                             \n",
       "4        0600.2020 Óleos brutos de minerais betuminosos                                             \n",
       "...                                                 ...                                             \n",
       "2676  3321.9140 Serviços de instalação e montagem de...                                             \n",
       "2677  3321.9160 Serviços de instalação e montagem de...                                             \n",
       "2678  3321.9170 Serviços de instalação e montagem de...                                             \n",
       "2679  3329.9010 Serviços de montagem e acabamento de...                                             \n",
       "2680  3329.9020 Serviços de instalação e montagem de...                                             \n",
       "\n",
       "             Valor cod_prodlist   prodlist  2023 - Valor R$ FOB Mundo  \\\n",
       "0     1.621736e+09    0500.2010          0               0.000000e+00   \n",
       "1     1.261780e+08    0500.2030  0500.2030               1.776615e+06   \n",
       "2     1.494900e+07    0500.9010          0               0.000000e+00   \n",
       "3     2.614563e+10    0600.2010  0600.2010               2.280291e+08   \n",
       "4     4.706370e+08    0600.2020  0600.2020               3.489258e+05   \n",
       "...            ...          ...        ...                        ...   \n",
       "2676  7.895100e+07    3321.9140          0               0.000000e+00   \n",
       "2677  2.020000e+07    3321.9160          0               0.000000e+00   \n",
       "2678  7.995700e+08    3321.9170          0               0.000000e+00   \n",
       "2679  3.181430e+08    3329.9010          0               0.000000e+00   \n",
       "2680  6.505820e+08    3329.9020          0               0.000000e+00   \n",
       "\n",
       "      2023 - Valor R$ FOB USA  \n",
       "0                        0.00  \n",
       "1                        0.00  \n",
       "2                        0.00  \n",
       "3                  4496948.08  \n",
       "4                     1701.59  \n",
       "...                       ...  \n",
       "2676                     0.00  \n",
       "2677                     0.00  \n",
       "2678                     0.00  \n",
       "2679                     0.00  \n",
       "2680                     0.00  \n",
       "\n",
       "[2681 rows x 7 columns]"
      ]
     },
     "execution_count": 132,
     "metadata": {},
     "output_type": "execute_result"
    }
   ],
   "source": [
    "pia_produto_rlv.merge(exportacoes, left_on='cod_prodlist', right_on='prodlist', how='left').fillna(0)"
   ]
  },
  {
   "cell_type": "code",
   "execution_count": 133,
   "id": "352444bf",
   "metadata": {},
   "outputs": [],
   "source": [
    "pia_produto_rlv = pia_produto_rlv.merge(exportacoes, left_on='cod_prodlist', right_on='prodlist', how='left').fillna(0)"
   ]
  },
  {
   "cell_type": "code",
   "execution_count": 134,
   "id": "34340855",
   "metadata": {},
   "outputs": [],
   "source": [
    "pia_produto_rlv['participacao_exportacao_usa'] = pia_produto_rlv['2023 - Valor R$ FOB USA']/pia_produto_rlv['Valor']\n",
    "pia_produto_rlv['participacao_exportacao_mundo'] = pia_produto_rlv['2023 - Valor R$ FOB Mundo']/pia_produto_rlv['Valor']"
   ]
  },
  {
   "cell_type": "code",
   "execution_count": 135,
   "id": "7afc2592",
   "metadata": {},
   "outputs": [
    {
     "data": {
      "text/html": [
       "<div>\n",
       "<style scoped>\n",
       "    .dataframe tbody tr th:only-of-type {\n",
       "        vertical-align: middle;\n",
       "    }\n",
       "\n",
       "    .dataframe tbody tr th {\n",
       "        vertical-align: top;\n",
       "    }\n",
       "\n",
       "    .dataframe thead th {\n",
       "        text-align: right;\n",
       "    }\n",
       "</style>\n",
       "<table border=\"1\" class=\"dataframe\">\n",
       "  <thead>\n",
       "    <tr style=\"text-align: right;\">\n",
       "      <th></th>\n",
       "      <th>Ano</th>\n",
       "      <th>Classes das atividades industriais e produtos - Prodlist 2016, Prodlist 2019 e Prodlist 2022</th>\n",
       "      <th>Valor</th>\n",
       "      <th>cod_prodlist</th>\n",
       "      <th>prodlist</th>\n",
       "      <th>2023 - Valor R$ FOB Mundo</th>\n",
       "      <th>2023 - Valor R$ FOB USA</th>\n",
       "      <th>participacao_exportacao_usa</th>\n",
       "      <th>participacao_exportacao_mundo</th>\n",
       "    </tr>\n",
       "  </thead>\n",
       "  <tbody>\n",
       "    <tr>\n",
       "      <th>0</th>\n",
       "      <td>2023</td>\n",
       "      <td>0500.2010 Carvão mineral e outros combustíveis...</td>\n",
       "      <td>1.621736e+09</td>\n",
       "      <td>0500.2010</td>\n",
       "      <td>0</td>\n",
       "      <td>0.000000e+00</td>\n",
       "      <td>0.00</td>\n",
       "      <td>0.000000</td>\n",
       "      <td>0.000000</td>\n",
       "    </tr>\n",
       "    <tr>\n",
       "      <th>1</th>\n",
       "      <td>2023</td>\n",
       "      <td>0500.2030 Hulhas, mesmo em pó, finos de carvão...</td>\n",
       "      <td>1.261780e+08</td>\n",
       "      <td>0500.2030</td>\n",
       "      <td>0500.2030</td>\n",
       "      <td>1.776615e+06</td>\n",
       "      <td>0.00</td>\n",
       "      <td>0.000000</td>\n",
       "      <td>0.014080</td>\n",
       "    </tr>\n",
       "    <tr>\n",
       "      <th>2</th>\n",
       "      <td>2023</td>\n",
       "      <td>0500.9010 Serviço de beneficiamento de carvão ...</td>\n",
       "      <td>1.494900e+07</td>\n",
       "      <td>0500.9010</td>\n",
       "      <td>0</td>\n",
       "      <td>0.000000e+00</td>\n",
       "      <td>0.00</td>\n",
       "      <td>0.000000</td>\n",
       "      <td>0.000000</td>\n",
       "    </tr>\n",
       "    <tr>\n",
       "      <th>3</th>\n",
       "      <td>2023</td>\n",
       "      <td>0600.2010 Gás natural, liquefeito ou no estado...</td>\n",
       "      <td>2.614563e+10</td>\n",
       "      <td>0600.2010</td>\n",
       "      <td>0600.2010</td>\n",
       "      <td>2.280291e+08</td>\n",
       "      <td>4496948.08</td>\n",
       "      <td>0.000172</td>\n",
       "      <td>0.008722</td>\n",
       "    </tr>\n",
       "    <tr>\n",
       "      <th>4</th>\n",
       "      <td>2023</td>\n",
       "      <td>0600.2020 Óleos brutos de minerais betuminosos</td>\n",
       "      <td>4.706370e+08</td>\n",
       "      <td>0600.2020</td>\n",
       "      <td>0600.2020</td>\n",
       "      <td>3.489258e+05</td>\n",
       "      <td>1701.59</td>\n",
       "      <td>0.000004</td>\n",
       "      <td>0.000741</td>\n",
       "    </tr>\n",
       "    <tr>\n",
       "      <th>...</th>\n",
       "      <td>...</td>\n",
       "      <td>...</td>\n",
       "      <td>...</td>\n",
       "      <td>...</td>\n",
       "      <td>...</td>\n",
       "      <td>...</td>\n",
       "      <td>...</td>\n",
       "      <td>...</td>\n",
       "      <td>...</td>\n",
       "    </tr>\n",
       "    <tr>\n",
       "      <th>2676</th>\n",
       "      <td>2023</td>\n",
       "      <td>3321.9140 Serviços de instalação e montagem de...</td>\n",
       "      <td>7.895100e+07</td>\n",
       "      <td>3321.9140</td>\n",
       "      <td>0</td>\n",
       "      <td>0.000000e+00</td>\n",
       "      <td>0.00</td>\n",
       "      <td>0.000000</td>\n",
       "      <td>0.000000</td>\n",
       "    </tr>\n",
       "    <tr>\n",
       "      <th>2677</th>\n",
       "      <td>2023</td>\n",
       "      <td>3321.9160 Serviços de instalação e montagem de...</td>\n",
       "      <td>2.020000e+07</td>\n",
       "      <td>3321.9160</td>\n",
       "      <td>0</td>\n",
       "      <td>0.000000e+00</td>\n",
       "      <td>0.00</td>\n",
       "      <td>0.000000</td>\n",
       "      <td>0.000000</td>\n",
       "    </tr>\n",
       "    <tr>\n",
       "      <th>2678</th>\n",
       "      <td>2023</td>\n",
       "      <td>3321.9170 Serviços de instalação e montagem de...</td>\n",
       "      <td>7.995700e+08</td>\n",
       "      <td>3321.9170</td>\n",
       "      <td>0</td>\n",
       "      <td>0.000000e+00</td>\n",
       "      <td>0.00</td>\n",
       "      <td>0.000000</td>\n",
       "      <td>0.000000</td>\n",
       "    </tr>\n",
       "    <tr>\n",
       "      <th>2679</th>\n",
       "      <td>2023</td>\n",
       "      <td>3329.9010 Serviços de montagem e acabamento de...</td>\n",
       "      <td>3.181430e+08</td>\n",
       "      <td>3329.9010</td>\n",
       "      <td>0</td>\n",
       "      <td>0.000000e+00</td>\n",
       "      <td>0.00</td>\n",
       "      <td>0.000000</td>\n",
       "      <td>0.000000</td>\n",
       "    </tr>\n",
       "    <tr>\n",
       "      <th>2680</th>\n",
       "      <td>2023</td>\n",
       "      <td>3329.9020 Serviços de instalação e montagem de...</td>\n",
       "      <td>6.505820e+08</td>\n",
       "      <td>3329.9020</td>\n",
       "      <td>0</td>\n",
       "      <td>0.000000e+00</td>\n",
       "      <td>0.00</td>\n",
       "      <td>0.000000</td>\n",
       "      <td>0.000000</td>\n",
       "    </tr>\n",
       "  </tbody>\n",
       "</table>\n",
       "<p>2681 rows × 9 columns</p>\n",
       "</div>"
      ],
      "text/plain": [
       "       Ano  \\\n",
       "0     2023   \n",
       "1     2023   \n",
       "2     2023   \n",
       "3     2023   \n",
       "4     2023   \n",
       "...    ...   \n",
       "2676  2023   \n",
       "2677  2023   \n",
       "2678  2023   \n",
       "2679  2023   \n",
       "2680  2023   \n",
       "\n",
       "     Classes das atividades industriais e produtos - Prodlist 2016, Prodlist 2019 e Prodlist 2022  \\\n",
       "0     0500.2010 Carvão mineral e outros combustíveis...                                             \n",
       "1     0500.2030 Hulhas, mesmo em pó, finos de carvão...                                             \n",
       "2     0500.9010 Serviço de beneficiamento de carvão ...                                             \n",
       "3     0600.2010 Gás natural, liquefeito ou no estado...                                             \n",
       "4        0600.2020 Óleos brutos de minerais betuminosos                                             \n",
       "...                                                 ...                                             \n",
       "2676  3321.9140 Serviços de instalação e montagem de...                                             \n",
       "2677  3321.9160 Serviços de instalação e montagem de...                                             \n",
       "2678  3321.9170 Serviços de instalação e montagem de...                                             \n",
       "2679  3329.9010 Serviços de montagem e acabamento de...                                             \n",
       "2680  3329.9020 Serviços de instalação e montagem de...                                             \n",
       "\n",
       "             Valor cod_prodlist   prodlist  2023 - Valor R$ FOB Mundo  \\\n",
       "0     1.621736e+09    0500.2010          0               0.000000e+00   \n",
       "1     1.261780e+08    0500.2030  0500.2030               1.776615e+06   \n",
       "2     1.494900e+07    0500.9010          0               0.000000e+00   \n",
       "3     2.614563e+10    0600.2010  0600.2010               2.280291e+08   \n",
       "4     4.706370e+08    0600.2020  0600.2020               3.489258e+05   \n",
       "...            ...          ...        ...                        ...   \n",
       "2676  7.895100e+07    3321.9140          0               0.000000e+00   \n",
       "2677  2.020000e+07    3321.9160          0               0.000000e+00   \n",
       "2678  7.995700e+08    3321.9170          0               0.000000e+00   \n",
       "2679  3.181430e+08    3329.9010          0               0.000000e+00   \n",
       "2680  6.505820e+08    3329.9020          0               0.000000e+00   \n",
       "\n",
       "      2023 - Valor R$ FOB USA  participacao_exportacao_usa  \\\n",
       "0                        0.00                     0.000000   \n",
       "1                        0.00                     0.000000   \n",
       "2                        0.00                     0.000000   \n",
       "3                  4496948.08                     0.000172   \n",
       "4                     1701.59                     0.000004   \n",
       "...                       ...                          ...   \n",
       "2676                     0.00                     0.000000   \n",
       "2677                     0.00                     0.000000   \n",
       "2678                     0.00                     0.000000   \n",
       "2679                     0.00                     0.000000   \n",
       "2680                     0.00                     0.000000   \n",
       "\n",
       "      participacao_exportacao_mundo  \n",
       "0                          0.000000  \n",
       "1                          0.014080  \n",
       "2                          0.000000  \n",
       "3                          0.008722  \n",
       "4                          0.000741  \n",
       "...                             ...  \n",
       "2676                       0.000000  \n",
       "2677                       0.000000  \n",
       "2678                       0.000000  \n",
       "2679                       0.000000  \n",
       "2680                       0.000000  \n",
       "\n",
       "[2681 rows x 9 columns]"
      ]
     },
     "execution_count": 135,
     "metadata": {},
     "output_type": "execute_result"
    }
   ],
   "source": [
    "pia_produto_rlv"
   ]
  },
  {
   "cell_type": "code",
   "execution_count": 136,
   "id": "43c0c1e9",
   "metadata": {},
   "outputs": [],
   "source": [
    "pia_produto_rlv.to_excel('./dados/participacao_exportacao_americana_pia.xlsx', index=False)"
   ]
  },
  {
   "cell_type": "code",
   "execution_count": 137,
   "id": "4c62e639",
   "metadata": {},
   "outputs": [],
   "source": [
    "mapeamento.to_excel('./dados/mapeamento/prodlist_ncm_consolidada.xlsx', index=False)"
   ]
  },
  {
   "cell_type": "code",
   "execution_count": 220,
   "id": "1a616b61",
   "metadata": {},
   "outputs": [],
   "source": [
    "url_pia_empresa = 'https://apisidra.ibge.gov.br/values/t/1842/n1/all/v/824,825/p/last%201/c12762/all'\n",
    "\n",
    "data = requests.get(url_pia_empresa)\n",
    "data = data.json()\n",
    "pia_empresa_rlv = pd.DataFrame(data, columns=data[0])\n"
   ]
  },
  {
   "cell_type": "code",
   "execution_count": 221,
   "id": "0f36f63a",
   "metadata": {},
   "outputs": [],
   "source": [
    "pia_empresa_rlv.columns = pia_empresa_rlv.iloc[0]\n",
    "pia_empresa_rlv = pia_empresa_rlv[1:]\n"
   ]
  },
  {
   "cell_type": "code",
   "execution_count": 222,
   "id": "9771f47b",
   "metadata": {},
   "outputs": [
    {
     "data": {
      "text/html": [
       "<div>\n",
       "<style scoped>\n",
       "    .dataframe tbody tr th:only-of-type {\n",
       "        vertical-align: middle;\n",
       "    }\n",
       "\n",
       "    .dataframe tbody tr th {\n",
       "        vertical-align: top;\n",
       "    }\n",
       "\n",
       "    .dataframe thead th {\n",
       "        text-align: right;\n",
       "    }\n",
       "</style>\n",
       "<table border=\"1\" class=\"dataframe\">\n",
       "  <thead>\n",
       "    <tr style=\"text-align: right;\">\n",
       "      <th></th>\n",
       "      <th>Nível Territorial (Código)</th>\n",
       "      <th>Nível Territorial</th>\n",
       "      <th>Unidade de Medida (Código)</th>\n",
       "      <th>Unidade de Medida</th>\n",
       "      <th>Valor</th>\n",
       "      <th>Brasil (Código)</th>\n",
       "      <th>Brasil</th>\n",
       "      <th>Variável (Código)</th>\n",
       "      <th>Variável</th>\n",
       "      <th>Ano (Código)</th>\n",
       "      <th>Ano</th>\n",
       "      <th>Classificação Nacional de Atividades Econômicas (CNAE 2.0) (Código)</th>\n",
       "      <th>Classificação Nacional de Atividades Econômicas (CNAE 2.0)</th>\n",
       "    </tr>\n",
       "  </thead>\n",
       "  <tbody>\n",
       "    <tr>\n",
       "      <th>1</th>\n",
       "      <td>1</td>\n",
       "      <td>Brasil</td>\n",
       "      <td>40</td>\n",
       "      <td>Mil Reais</td>\n",
       "      <td>6353568639</td>\n",
       "      <td>1</td>\n",
       "      <td>Brasil</td>\n",
       "      <td>824</td>\n",
       "      <td>Total da receita líquida de vendas</td>\n",
       "      <td>2023</td>\n",
       "      <td>2023</td>\n",
       "      <td>117897</td>\n",
       "      <td>Total</td>\n",
       "    </tr>\n",
       "    <tr>\n",
       "      <th>2</th>\n",
       "      <td>1</td>\n",
       "      <td>Brasil</td>\n",
       "      <td>40</td>\n",
       "      <td>Mil Reais</td>\n",
       "      <td>456258347</td>\n",
       "      <td>1</td>\n",
       "      <td>Brasil</td>\n",
       "      <td>824</td>\n",
       "      <td>Total da receita líquida de vendas</td>\n",
       "      <td>2023</td>\n",
       "      <td>2023</td>\n",
       "      <td>116880</td>\n",
       "      <td>B Indústrias extrativas</td>\n",
       "    </tr>\n",
       "  </tbody>\n",
       "</table>\n",
       "</div>"
      ],
      "text/plain": [
       "0 Nível Territorial (Código) Nível Territorial Unidade de Medida (Código)  \\\n",
       "1                          1            Brasil                         40   \n",
       "2                          1            Brasil                         40   \n",
       "\n",
       "0 Unidade de Medida       Valor Brasil (Código)  Brasil Variável (Código)  \\\n",
       "1         Mil Reais  6353568639               1  Brasil               824   \n",
       "2         Mil Reais   456258347               1  Brasil               824   \n",
       "\n",
       "0                            Variável Ano (Código)   Ano  \\\n",
       "1  Total da receita líquida de vendas         2023  2023   \n",
       "2  Total da receita líquida de vendas         2023  2023   \n",
       "\n",
       "0 Classificação Nacional de Atividades Econômicas (CNAE 2.0) (Código)  \\\n",
       "1                                             117897                    \n",
       "2                                             116880                    \n",
       "\n",
       "0 Classificação Nacional de Atividades Econômicas (CNAE 2.0)  \n",
       "1                                              Total          \n",
       "2                            B Indústrias extrativas          "
      ]
     },
     "execution_count": 222,
     "metadata": {},
     "output_type": "execute_result"
    }
   ],
   "source": [
    "pia_empresa_rlv.head(2)\n"
   ]
  },
  {
   "cell_type": "code",
   "execution_count": 223,
   "id": "ac59c4e7",
   "metadata": {},
   "outputs": [],
   "source": [
    "##Filtrar apenas registros cujos valores da coluna 'Classificação Nacional de Atividades Econômicas (CNAE 2.0)' siga o padrão \\d{2}\\.\\d{1} \n",
    "pia_empresa_rlv = pia_empresa_rlv[pia_empresa_rlv['Classificação Nacional de Atividades Econômicas (CNAE 2.0)'].str.match(r'^\\d{2}\\.\\d{1}')]\n",
    "pia_empresa_rlv['cnae'] = pia_empresa_rlv['Classificação Nacional de Atividades Econômicas (CNAE 2.0)'].str[0:4].str.replace('.','', regex=False)\n",
    "pia_empresa_rlv['cnae_descricao'] = pia_empresa_rlv['Classificação Nacional de Atividades Econômicas (CNAE 2.0)'].str[5:]"
   ]
  },
  {
   "cell_type": "code",
   "execution_count": 224,
   "id": "7bb5e9a6",
   "metadata": {},
   "outputs": [],
   "source": [
    "pia_empresa_rlv = pia_empresa_rlv[['Ano','Variável','cnae','cnae_descricao','Valor']]"
   ]
  },
  {
   "cell_type": "code",
   "execution_count": 225,
   "id": "040aea36",
   "metadata": {},
   "outputs": [
    {
     "data": {
      "text/html": [
       "<div>\n",
       "<style scoped>\n",
       "    .dataframe tbody tr th:only-of-type {\n",
       "        vertical-align: middle;\n",
       "    }\n",
       "\n",
       "    .dataframe tbody tr th {\n",
       "        vertical-align: top;\n",
       "    }\n",
       "\n",
       "    .dataframe thead th {\n",
       "        text-align: right;\n",
       "    }\n",
       "</style>\n",
       "<table border=\"1\" class=\"dataframe\">\n",
       "  <thead>\n",
       "    <tr style=\"text-align: right;\">\n",
       "      <th></th>\n",
       "      <th>Ano</th>\n",
       "      <th>Variável</th>\n",
       "      <th>cnae</th>\n",
       "      <th>cnae_descricao</th>\n",
       "      <th>Valor</th>\n",
       "    </tr>\n",
       "  </thead>\n",
       "  <tbody>\n",
       "    <tr>\n",
       "      <th>4</th>\n",
       "      <td>2023</td>\n",
       "      <td>Total da receita líquida de vendas</td>\n",
       "      <td>050</td>\n",
       "      <td>Extração de carvão mineral</td>\n",
       "      <td>1941673</td>\n",
       "    </tr>\n",
       "    <tr>\n",
       "      <th>6</th>\n",
       "      <td>2023</td>\n",
       "      <td>Total da receita líquida de vendas</td>\n",
       "      <td>060</td>\n",
       "      <td>Extração de petróleo e gás natural</td>\n",
       "      <td>163281926</td>\n",
       "    </tr>\n",
       "    <tr>\n",
       "      <th>8</th>\n",
       "      <td>2023</td>\n",
       "      <td>Total da receita líquida de vendas</td>\n",
       "      <td>071</td>\n",
       "      <td>Extração de minério de ferro</td>\n",
       "      <td>196958255</td>\n",
       "    </tr>\n",
       "    <tr>\n",
       "      <th>9</th>\n",
       "      <td>2023</td>\n",
       "      <td>Total da receita líquida de vendas</td>\n",
       "      <td>072</td>\n",
       "      <td>Extração de minerais metálicos não-ferrosos</td>\n",
       "      <td>27466066</td>\n",
       "    </tr>\n",
       "    <tr>\n",
       "      <th>11</th>\n",
       "      <td>2023</td>\n",
       "      <td>Total da receita líquida de vendas</td>\n",
       "      <td>081</td>\n",
       "      <td>Extração de pedra, areia e argila</td>\n",
       "      <td>25005569</td>\n",
       "    </tr>\n",
       "  </tbody>\n",
       "</table>\n",
       "</div>"
      ],
      "text/plain": [
       "0    Ano                            Variável cnae  \\\n",
       "4   2023  Total da receita líquida de vendas  050   \n",
       "6   2023  Total da receita líquida de vendas  060   \n",
       "8   2023  Total da receita líquida de vendas  071   \n",
       "9   2023  Total da receita líquida de vendas  072   \n",
       "11  2023  Total da receita líquida de vendas  081   \n",
       "\n",
       "0                                cnae_descricao      Valor  \n",
       "4                    Extração de carvão mineral    1941673  \n",
       "6            Extração de petróleo e gás natural  163281926  \n",
       "8                  Extração de minério de ferro  196958255  \n",
       "9   Extração de minerais metálicos não-ferrosos   27466066  \n",
       "11            Extração de pedra, areia e argila   25005569  "
      ]
     },
     "execution_count": 225,
     "metadata": {},
     "output_type": "execute_result"
    }
   ],
   "source": [
    "pia_empresa_rlv.head()"
   ]
  },
  {
   "cell_type": "code",
   "execution_count": 226,
   "id": "9ba5a8d1",
   "metadata": {},
   "outputs": [],
   "source": [
    "#Linhas em que o valor da coluna 'Valor' não pode ser convertido para float, trocar por -1\n",
    "pia_empresa_rlv['Valor'] = pd.to_numeric(pia_empresa_rlv['Valor'], errors='coerce').fillna(-1)\n",
    "pia_empresa_rlv['Valor'] = pia_empresa_rlv['Valor']*1000"
   ]
  },
  {
   "cell_type": "code",
   "execution_count": 227,
   "id": "5679c454",
   "metadata": {},
   "outputs": [],
   "source": [
    "#Fazer o pivot transformando a coluna 'Variável' em colunas e preenchendo com os valores da coluna 'Valor'\n",
    "pia_empresa_rlv = pia_empresa_rlv.pivot_table(index=['Ano','cnae','cnae_descricao'], columns='Variável', values='Valor')"
   ]
  },
  {
   "cell_type": "code",
   "execution_count": 228,
   "id": "e217236d",
   "metadata": {},
   "outputs": [],
   "source": [
    "pia_empresa_rlv.reset_index(inplace=True)"
   ]
  },
  {
   "cell_type": "code",
   "execution_count": 229,
   "id": "f31443da",
   "metadata": {},
   "outputs": [
    {
     "data": {
      "text/html": [
       "<div>\n",
       "<style scoped>\n",
       "    .dataframe tbody tr th:only-of-type {\n",
       "        vertical-align: middle;\n",
       "    }\n",
       "\n",
       "    .dataframe tbody tr th {\n",
       "        vertical-align: top;\n",
       "    }\n",
       "\n",
       "    .dataframe thead th {\n",
       "        text-align: right;\n",
       "    }\n",
       "</style>\n",
       "<table border=\"1\" class=\"dataframe\">\n",
       "  <thead>\n",
       "    <tr style=\"text-align: right;\">\n",
       "      <th>Variável</th>\n",
       "      <th>Ano</th>\n",
       "      <th>cnae</th>\n",
       "      <th>cnae_descricao</th>\n",
       "      <th>Receita líquida de vendas de produtos e serviços industriais</th>\n",
       "      <th>Total da receita líquida de vendas</th>\n",
       "    </tr>\n",
       "  </thead>\n",
       "  <tbody>\n",
       "    <tr>\n",
       "      <th>0</th>\n",
       "      <td>2023</td>\n",
       "      <td>050</td>\n",
       "      <td>Extração de carvão mineral</td>\n",
       "      <td>1.850253e+09</td>\n",
       "      <td>1.941673e+09</td>\n",
       "    </tr>\n",
       "    <tr>\n",
       "      <th>1</th>\n",
       "      <td>2023</td>\n",
       "      <td>060</td>\n",
       "      <td>Extração de petróleo e gás natural</td>\n",
       "      <td>1.626363e+11</td>\n",
       "      <td>1.632819e+11</td>\n",
       "    </tr>\n",
       "  </tbody>\n",
       "</table>\n",
       "</div>"
      ],
      "text/plain": [
       "Variável   Ano cnae                      cnae_descricao  \\\n",
       "0         2023  050          Extração de carvão mineral   \n",
       "1         2023  060  Extração de petróleo e gás natural   \n",
       "\n",
       "Variável  Receita líquida de vendas de produtos e serviços industriais  \\\n",
       "0                                              1.850253e+09              \n",
       "1                                              1.626363e+11              \n",
       "\n",
       "Variável  Total da receita líquida de vendas  \n",
       "0                               1.941673e+09  \n",
       "1                               1.632819e+11  "
      ]
     },
     "execution_count": 229,
     "metadata": {},
     "output_type": "execute_result"
    }
   ],
   "source": [
    "pia_empresa_rlv.head(2)"
   ]
  },
  {
   "cell_type": "code",
   "execution_count": 239,
   "id": "4ff73737",
   "metadata": {},
   "outputs": [],
   "source": [
    "#fazer um merge parcial, com o cnae de pia_empresa_rlv e os três primeiros caracteres de pia_produto_rlv\n",
    "pia_merge = pd.merge(pia_empresa_rlv.drop('Ano',axis=1), pia_produto_rlv, left_on='cnae', right_on=pia_produto_rlv['cod_prodlist'].str[:3], how='outer',indicator=True)"
   ]
  },
  {
   "cell_type": "code",
   "execution_count": 240,
   "id": "e1af94e7",
   "metadata": {},
   "outputs": [
    {
     "data": {
      "text/plain": [
       "(2684, 14)"
      ]
     },
     "execution_count": 240,
     "metadata": {},
     "output_type": "execute_result"
    }
   ],
   "source": [
    "pia_merge.shape"
   ]
  },
  {
   "cell_type": "code",
   "execution_count": 241,
   "id": "66658e4d",
   "metadata": {},
   "outputs": [
    {
     "data": {
      "text/plain": [
       "(3, 14)"
      ]
     },
     "execution_count": 241,
     "metadata": {},
     "output_type": "execute_result"
    }
   ],
   "source": [
    "pia_merge.query('_merge == \"left_only\"').shape"
   ]
  },
  {
   "cell_type": "code",
   "execution_count": 242,
   "id": "422f6f4b",
   "metadata": {},
   "outputs": [
    {
     "data": {
      "text/plain": [
       "(0, 14)"
      ]
     },
     "execution_count": 242,
     "metadata": {},
     "output_type": "execute_result"
    }
   ],
   "source": [
    "pia_merge.query('_merge == \"right_only\"').shape"
   ]
  },
  {
   "cell_type": "code",
   "execution_count": 243,
   "id": "f290a815",
   "metadata": {},
   "outputs": [],
   "source": [
    "#substituir valores negativos de Receita líquida de vendas de produtos e serviços industriais ou Total da receita líquida de vendas por 0\n",
    "pia_empresa_rlv['Receita líquida de vendas de produtos e serviços industriais'] = pia_empresa_rlv['Receita líquida de vendas de produtos e serviços industriais'].apply(lambda x: 0 if x < 0 else x)\n",
    "pia_empresa_rlv['Total da receita líquida de vendas'] = pia_empresa_rlv['Total da receita líquida de vendas'].apply(lambda x: 0 if x < 0 else x)\n",
    "#substituir valores negativos de Receita líquida de vendas de produtos e serviços industriais ou Total da receita líquida de vendas por 0\n",
    "pia_merge['Receita líquida de vendas de produtos e serviços industriais'] = pia_merge['Receita líquida de vendas de produtos e serviços industriais'].apply(lambda x: 0 if x < 0 else x)\n",
    "pia_merge['Total da receita líquida de vendas'] = pia_merge['Total da receita líquida de vendas'].apply(lambda x: 0 if x < 0 else x)\n"
   ]
  },
  {
   "cell_type": "code",
   "execution_count": 246,
   "id": "2c70af50",
   "metadata": {},
   "outputs": [],
   "source": [
    "pia_merge.query('_merge == \"both\"').drop(columns=['_merge']).to_excel('./dados/participacao_exportacao_americana_pia_empresa.xlsx', index=False)"
   ]
  },
  {
   "cell_type": "code",
   "execution_count": 210,
   "id": "4120260b",
   "metadata": {},
   "outputs": [
    {
     "data": {
      "text/plain": [
       "(2636, 15)"
      ]
     },
     "execution_count": 210,
     "metadata": {},
     "output_type": "execute_result"
    }
   ],
   "source": [
    "pia_merge.query('_merge == \"both\"').shape"
   ]
  },
  {
   "cell_type": "code",
   "execution_count": 215,
   "id": "0c0b8f6a",
   "metadata": {},
   "outputs": [
    {
     "data": {
      "text/plain": [
       "_merge\n",
       "both          2636\n",
       "right_only      45\n",
       "left_only        1\n",
       "Name: count, dtype: int64"
      ]
     },
     "execution_count": 215,
     "metadata": {},
     "output_type": "execute_result"
    }
   ],
   "source": [
    "pia_merge['_merge'].value_counts()"
   ]
  },
  {
   "cell_type": "code",
   "execution_count": 252,
   "id": "4940979e",
   "metadata": {},
   "outputs": [
    {
     "data": {
      "text/html": [
       "<div>\n",
       "<style scoped>\n",
       "    .dataframe tbody tr th:only-of-type {\n",
       "        vertical-align: middle;\n",
       "    }\n",
       "\n",
       "    .dataframe tbody tr th {\n",
       "        vertical-align: top;\n",
       "    }\n",
       "\n",
       "    .dataframe thead th {\n",
       "        text-align: right;\n",
       "    }\n",
       "</style>\n",
       "<table border=\"1\" class=\"dataframe\">\n",
       "  <thead>\n",
       "    <tr style=\"text-align: right;\">\n",
       "      <th></th>\n",
       "      <th>cnae</th>\n",
       "      <th>cnae_descricao</th>\n",
       "      <th>Receita líquida de vendas de produtos e serviços industriais</th>\n",
       "      <th>Total da receita líquida de vendas</th>\n",
       "      <th>Ano</th>\n",
       "      <th>Classes das atividades industriais e produtos - Prodlist 2016, Prodlist 2019 e Prodlist 2022</th>\n",
       "      <th>Valor</th>\n",
       "      <th>cod_prodlist</th>\n",
       "      <th>prodlist</th>\n",
       "      <th>2023 - Valor R$ FOB Mundo</th>\n",
       "      <th>2023 - Valor R$ FOB USA</th>\n",
       "      <th>participacao_exportacao_usa</th>\n",
       "      <th>participacao_exportacao_mundo</th>\n",
       "      <th>_merge</th>\n",
       "    </tr>\n",
       "  </thead>\n",
       "  <tbody>\n",
       "    <tr>\n",
       "      <th>0</th>\n",
       "      <td>050</td>\n",
       "      <td>Extração de carvão mineral</td>\n",
       "      <td>1.850253e+09</td>\n",
       "      <td>1.941673e+09</td>\n",
       "      <td>2023</td>\n",
       "      <td>0500.2010 Carvão mineral e outros combustíveis...</td>\n",
       "      <td>1.621736e+09</td>\n",
       "      <td>0500.2010</td>\n",
       "      <td>0</td>\n",
       "      <td>0.00</td>\n",
       "      <td>0.0</td>\n",
       "      <td>0.0</td>\n",
       "      <td>0.00000</td>\n",
       "      <td>both</td>\n",
       "    </tr>\n",
       "    <tr>\n",
       "      <th>1</th>\n",
       "      <td>050</td>\n",
       "      <td>Extração de carvão mineral</td>\n",
       "      <td>1.850253e+09</td>\n",
       "      <td>1.941673e+09</td>\n",
       "      <td>2023</td>\n",
       "      <td>0500.2030 Hulhas, mesmo em pó, finos de carvão...</td>\n",
       "      <td>1.261780e+08</td>\n",
       "      <td>0500.2030</td>\n",
       "      <td>0500.2030</td>\n",
       "      <td>1776614.65</td>\n",
       "      <td>0.0</td>\n",
       "      <td>0.0</td>\n",
       "      <td>0.01408</td>\n",
       "      <td>both</td>\n",
       "    </tr>\n",
       "  </tbody>\n",
       "</table>\n",
       "</div>"
      ],
      "text/plain": [
       "  cnae              cnae_descricao  \\\n",
       "0  050  Extração de carvão mineral   \n",
       "1  050  Extração de carvão mineral   \n",
       "\n",
       "   Receita líquida de vendas de produtos e serviços industriais  \\\n",
       "0                                       1.850253e+09              \n",
       "1                                       1.850253e+09              \n",
       "\n",
       "   Total da receita líquida de vendas   Ano  \\\n",
       "0                        1.941673e+09  2023   \n",
       "1                        1.941673e+09  2023   \n",
       "\n",
       "  Classes das atividades industriais e produtos - Prodlist 2016, Prodlist 2019 e Prodlist 2022  \\\n",
       "0  0500.2010 Carvão mineral e outros combustíveis...                                             \n",
       "1  0500.2030 Hulhas, mesmo em pó, finos de carvão...                                             \n",
       "\n",
       "          Valor cod_prodlist   prodlist  2023 - Valor R$ FOB Mundo  \\\n",
       "0  1.621736e+09    0500.2010          0                       0.00   \n",
       "1  1.261780e+08    0500.2030  0500.2030                 1776614.65   \n",
       "\n",
       "   2023 - Valor R$ FOB USA  participacao_exportacao_usa  \\\n",
       "0                      0.0                          0.0   \n",
       "1                      0.0                          0.0   \n",
       "\n",
       "   participacao_exportacao_mundo _merge  \n",
       "0                        0.00000   both  \n",
       "1                        0.01408   both  "
      ]
     },
     "execution_count": 252,
     "metadata": {},
     "output_type": "execute_result"
    }
   ],
   "source": [
    "pia_merge.head(2)"
   ]
  },
  {
   "cell_type": "code",
   "execution_count": 253,
   "id": "e3eb16c3",
   "metadata": {},
   "outputs": [],
   "source": [
    "pia_merge['cnae_3d_prodlist'] = pia_merge['cod_prodlist'].str[:3]\n"
   ]
  },
  {
   "cell_type": "code",
   "execution_count": 255,
   "id": "8437d7b1",
   "metadata": {},
   "outputs": [
    {
     "data": {
      "text/plain": [
       "Index(['cnae', 'cnae_descricao',\n",
       "       'Receita líquida de vendas de produtos e serviços industriais',\n",
       "       'Total da receita líquida de vendas', 'Ano',\n",
       "       'Classes das atividades industriais e produtos - Prodlist 2016, Prodlist 2019 e Prodlist 2022',\n",
       "       'Valor', 'cod_prodlist', 'prodlist', '2023 - Valor R$ FOB Mundo',\n",
       "       '2023 - Valor R$ FOB USA', 'participacao_exportacao_usa',\n",
       "       'participacao_exportacao_mundo', '_merge', 'cnae_3d_prodlist'],\n",
       "      dtype='object')"
      ]
     },
     "execution_count": 255,
     "metadata": {},
     "output_type": "execute_result"
    }
   ],
   "source": [
    "pia_merge.columns"
   ]
  },
  {
   "cell_type": "code",
   "execution_count": 257,
   "id": "896f8c6d",
   "metadata": {},
   "outputs": [],
   "source": [
    "pia_merge.groupby(['cnae','cnae_descricao','Receita líquida de vendas de produtos e serviços industriais','Total da receita líquida de vendas'])[['2023 - Valor R$ FOB Mundo','2023 - Valor R$ FOB USA']].sum().reset_index().to_excel(\"./dados/participacao_exportacao_americana_pia_empresa_cnae.xlsx\", index=False)"
   ]
  },
  {
   "cell_type": "code",
   "execution_count": 261,
   "id": "32164735",
   "metadata": {},
   "outputs": [],
   "source": [
    "mapeamento['cod_ncm'] = mapeamento['ncm'].str.replace('.','', regex=False)"
   ]
  },
  {
   "cell_type": "code",
   "execution_count": 262,
   "id": "43ccfe60",
   "metadata": {},
   "outputs": [],
   "source": [
    "exportacoes_mundo_2023_semprod = pd.read_excel('./dados/comex/Exportação  Mundo 2023 NCM.xlsx')\n",
    "exportacoes_usa_2023_sem_prod = pd.read_excel('./dados/comex/Exportação USA 2023 NCM.xlsx.xlsx')\n",
    "\n",
    "exportacoes_mundo_2023_semprod['cod_ncm'] = exportacoes_mundo_2023_semprod['Código NCM'].astype(str).str.zfill(8)\n",
    "exportacoes_usa_2023_sem_prod['cod_ncm'] = exportacoes_usa_2023_sem_prod['Código NCM'].astype(str).str.zfill(8)\n",
    "exportacoes_mundo_2023_semprod = exportacoes_mundo_2023_semprod.merge(mapeamento.drop('ncm',axis=1), on='cod_ncm', how='left')\n",
    "exportacoes_usa_2023_sem_prod = exportacoes_usa_2023_sem_prod.merge(mapeamento.drop('ncm',axis=1), on='cod_ncm', how='left')\n",
    "\n"
   ]
  },
  {
   "cell_type": "code",
   "execution_count": 270,
   "id": "e76e9161",
   "metadata": {},
   "outputs": [],
   "source": [
    "exportacoes_mundo_2023_semprod.drop(\"Código NCM\", axis=1).rename(columns={'2023 - Valor US$ FOB': 'Valor Fob Mundo'}).merge(exportacoes_usa_2023_sem_prod.drop([\"Código NCM\",\"Descrição NCM\",\"prodlist\"], axis=1).rename(columns={'2023 - Valor US$ FOB': 'Valor Fob EUA'}), on='cod_ncm', how='right').query('prodlist.isna()').drop('prodlist', axis=1).to_excel('./dados/participacao_exportacao_americana_sem_prodlist.xlsx', index=False)"
   ]
  }
 ],
 "metadata": {
  "kernelspec": {
   "display_name": "Mip",
   "language": "python",
   "name": "python3"
  },
  "language_info": {
   "codemirror_mode": {
    "name": "ipython",
    "version": 3
   },
   "file_extension": ".py",
   "mimetype": "text/x-python",
   "name": "python",
   "nbconvert_exporter": "python",
   "pygments_lexer": "ipython3",
   "version": "3.13.2"
  }
 },
 "nbformat": 4,
 "nbformat_minor": 5
}
