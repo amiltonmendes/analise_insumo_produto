{
 "cells": [
  {
   "cell_type": "code",
   "execution_count": 1,
   "id": "cd7452dc",
   "metadata": {},
   "outputs": [],
   "source": [
    "import pandas as pd"
   ]
  },
  {
   "cell_type": "code",
   "execution_count": 2,
   "id": "180c9fef",
   "metadata": {},
   "outputs": [],
   "source": [
    "mapeamento = pd.concat([pd.read_excel('./dados/mapeamento/PRODLIST Ind 2022 x NCM 2022.xlsx',names=['prodlist','ncm']),pd.read_excel('./dados/mapeamento/PRODLIST Ind 2019 x NCM 2019.xlsx',names=['prodlist','ncm']),pd.read_excel('./dados/mapeamento/PRODLIST Ind 2016 x NCM 2016.xlsx',names=['prodlist','ncm'])], axis=0,ignore_index=True)\n"
   ]
  },
  {
   "cell_type": "code",
   "execution_count": 7,
   "id": "7d4f7c76",
   "metadata": {},
   "outputs": [],
   "source": [
    "cnaes_selecionados = pd.read_excel('./dados/mapeamento/Cnaes selecionados.xlsx',names=['cnae','descricao'],dtype={'cnae':str,'descricao':str})"
   ]
  },
  {
   "cell_type": "code",
   "execution_count": 8,
   "id": "022a85b7",
   "metadata": {},
   "outputs": [
    {
     "data": {
      "application/vnd.microsoft.datawrangler.viewer.v0+json": {
       "columns": [
        {
         "name": "index",
         "rawType": "int64",
         "type": "integer"
        },
        {
         "name": "cnae",
         "rawType": "object",
         "type": "string"
        },
        {
         "name": "descricao",
         "rawType": "object",
         "type": "string"
        }
       ],
       "ref": "d79ca665-4663-4aff-b04a-0c0528fefee8",
       "rows": [
        [
         "0",
         "192",
         "Fabricação de produtos derivados do petróleo"
        ],
        [
         "1",
         "267",
         "Fabricação de equipamentos e instrumentos ópticos, fotográficos e cinematográficos"
        ],
        [
         "2",
         "303",
         "Fabricação de veículos ferroviários"
        ],
        [
         "3",
         "161",
         "Desdobramento de madeira"
        ],
        [
         "4",
         "304",
         "Fabricação de aeronaves"
        ],
        [
         "5",
         "241",
         "Produção de ferro-gusa e de ferroligas"
        ],
        [
         "6",
         "285",
         "Fabricação de máquinas e equipamentos de uso na extração mineral e na construção"
        ],
        [
         "7",
         "310",
         "Fabricação de móveis"
        ],
        [
         "8",
         "162",
         "Fabricação de produtos de madeira, cortiça e material trançado, exceto móveis"
        ],
        [
         "9",
         "103",
         "Fabricação de conservas de frutas, legumes e outros vegetais"
        ],
        [
         "10",
         "060",
         "Extração de petróleo e gás natural"
        ],
        [
         "11",
         "255",
         "Fabricação de equipamento bélico pesado, armas de fogo e munições"
        ],
        [
         "12",
         "321",
         "Fabricação de artigos de joalheria, bijuteria e semelhantes"
        ],
        [
         "13",
         "242",
         "Siderurgia"
        ],
        [
         "14",
         "153",
         "Fabricação de calçados"
        ],
        [
         "15",
         "151",
         "Curtimento e outras preparações de couro"
        ],
        [
         "16",
         "239",
         "Aparelhamento de pedras e fabricação de outros produtos de minerais não-metálicos"
        ],
        [
         "17",
         "281",
         "Fabricação de motores, bombas, compressores e equipamentos de transmissão"
        ],
        [
         "18",
         "107",
         "Fabricação e refino de açúcar"
        ],
        [
         "19",
         "271",
         "Fabricação de geradores, transformadores e motores elétricos"
        ]
       ],
       "shape": {
        "columns": 2,
        "rows": 20
       }
      },
      "text/html": [
       "<div>\n",
       "<style scoped>\n",
       "    .dataframe tbody tr th:only-of-type {\n",
       "        vertical-align: middle;\n",
       "    }\n",
       "\n",
       "    .dataframe tbody tr th {\n",
       "        vertical-align: top;\n",
       "    }\n",
       "\n",
       "    .dataframe thead th {\n",
       "        text-align: right;\n",
       "    }\n",
       "</style>\n",
       "<table border=\"1\" class=\"dataframe\">\n",
       "  <thead>\n",
       "    <tr style=\"text-align: right;\">\n",
       "      <th></th>\n",
       "      <th>cnae</th>\n",
       "      <th>descricao</th>\n",
       "    </tr>\n",
       "  </thead>\n",
       "  <tbody>\n",
       "    <tr>\n",
       "      <th>0</th>\n",
       "      <td>192</td>\n",
       "      <td>Fabricação de produtos derivados do petróleo</td>\n",
       "    </tr>\n",
       "    <tr>\n",
       "      <th>1</th>\n",
       "      <td>267</td>\n",
       "      <td>Fabricação de equipamentos e instrumentos ópti...</td>\n",
       "    </tr>\n",
       "    <tr>\n",
       "      <th>2</th>\n",
       "      <td>303</td>\n",
       "      <td>Fabricação de veículos ferroviários</td>\n",
       "    </tr>\n",
       "    <tr>\n",
       "      <th>3</th>\n",
       "      <td>161</td>\n",
       "      <td>Desdobramento de madeira</td>\n",
       "    </tr>\n",
       "    <tr>\n",
       "      <th>4</th>\n",
       "      <td>304</td>\n",
       "      <td>Fabricação de aeronaves</td>\n",
       "    </tr>\n",
       "    <tr>\n",
       "      <th>5</th>\n",
       "      <td>241</td>\n",
       "      <td>Produção de ferro-gusa e de ferroligas</td>\n",
       "    </tr>\n",
       "    <tr>\n",
       "      <th>6</th>\n",
       "      <td>285</td>\n",
       "      <td>Fabricação de máquinas e equipamentos de uso n...</td>\n",
       "    </tr>\n",
       "    <tr>\n",
       "      <th>7</th>\n",
       "      <td>310</td>\n",
       "      <td>Fabricação de móveis</td>\n",
       "    </tr>\n",
       "    <tr>\n",
       "      <th>8</th>\n",
       "      <td>162</td>\n",
       "      <td>Fabricação de produtos de madeira, cortiça e m...</td>\n",
       "    </tr>\n",
       "    <tr>\n",
       "      <th>9</th>\n",
       "      <td>103</td>\n",
       "      <td>Fabricação de conservas de frutas, legumes e o...</td>\n",
       "    </tr>\n",
       "    <tr>\n",
       "      <th>10</th>\n",
       "      <td>060</td>\n",
       "      <td>Extração de petróleo e gás natural</td>\n",
       "    </tr>\n",
       "    <tr>\n",
       "      <th>11</th>\n",
       "      <td>255</td>\n",
       "      <td>Fabricação de equipamento bélico pesado, armas...</td>\n",
       "    </tr>\n",
       "    <tr>\n",
       "      <th>12</th>\n",
       "      <td>321</td>\n",
       "      <td>Fabricação de artigos de joalheria, bijuteria ...</td>\n",
       "    </tr>\n",
       "    <tr>\n",
       "      <th>13</th>\n",
       "      <td>242</td>\n",
       "      <td>Siderurgia</td>\n",
       "    </tr>\n",
       "    <tr>\n",
       "      <th>14</th>\n",
       "      <td>153</td>\n",
       "      <td>Fabricação de calçados</td>\n",
       "    </tr>\n",
       "    <tr>\n",
       "      <th>15</th>\n",
       "      <td>151</td>\n",
       "      <td>Curtimento e outras preparações de couro</td>\n",
       "    </tr>\n",
       "    <tr>\n",
       "      <th>16</th>\n",
       "      <td>239</td>\n",
       "      <td>Aparelhamento de pedras e fabricação de outros...</td>\n",
       "    </tr>\n",
       "    <tr>\n",
       "      <th>17</th>\n",
       "      <td>281</td>\n",
       "      <td>Fabricação de motores, bombas, compressores e ...</td>\n",
       "    </tr>\n",
       "    <tr>\n",
       "      <th>18</th>\n",
       "      <td>107</td>\n",
       "      <td>Fabricação e refino de açúcar</td>\n",
       "    </tr>\n",
       "    <tr>\n",
       "      <th>19</th>\n",
       "      <td>271</td>\n",
       "      <td>Fabricação de geradores, transformadores e mot...</td>\n",
       "    </tr>\n",
       "  </tbody>\n",
       "</table>\n",
       "</div>"
      ],
      "text/plain": [
       "   cnae                                          descricao\n",
       "0   192       Fabricação de produtos derivados do petróleo\n",
       "1   267  Fabricação de equipamentos e instrumentos ópti...\n",
       "2   303                Fabricação de veículos ferroviários\n",
       "3   161                           Desdobramento de madeira\n",
       "4   304                            Fabricação de aeronaves\n",
       "5   241             Produção de ferro-gusa e de ferroligas\n",
       "6   285  Fabricação de máquinas e equipamentos de uso n...\n",
       "7   310                               Fabricação de móveis\n",
       "8   162  Fabricação de produtos de madeira, cortiça e m...\n",
       "9   103  Fabricação de conservas de frutas, legumes e o...\n",
       "10  060                 Extração de petróleo e gás natural\n",
       "11  255  Fabricação de equipamento bélico pesado, armas...\n",
       "12  321  Fabricação de artigos de joalheria, bijuteria ...\n",
       "13  242                                         Siderurgia\n",
       "14  153                             Fabricação de calçados\n",
       "15  151           Curtimento e outras preparações de couro\n",
       "16  239  Aparelhamento de pedras e fabricação de outros...\n",
       "17  281  Fabricação de motores, bombas, compressores e ...\n",
       "18  107                      Fabricação e refino de açúcar\n",
       "19  271  Fabricação de geradores, transformadores e mot..."
      ]
     },
     "execution_count": 8,
     "metadata": {},
     "output_type": "execute_result"
    }
   ],
   "source": [
    "cnaes_selecionados.head(20)"
   ]
  },
  {
   "cell_type": "code",
   "execution_count": 3,
   "id": "a0500dec",
   "metadata": {},
   "outputs": [
    {
     "data": {
      "application/vnd.microsoft.datawrangler.viewer.v0+json": {
       "columns": [
        {
         "name": "index",
         "rawType": "int64",
         "type": "integer"
        },
        {
         "name": "prodlist",
         "rawType": "object",
         "type": "string"
        },
        {
         "name": "ncm",
         "rawType": "object",
         "type": "string"
        }
       ],
       "ref": "22617e6c-0731-4cc7-9802-f663fd6cf0ad",
       "rows": [
        [
         "0",
         "0500.2010",
         "2701.19.00"
        ],
        [
         "1",
         "0500.2030",
         "2701.11.00"
        ],
        [
         "2",
         "0500.2030",
         "2701.12.00"
        ],
        [
         "3",
         "0500.2030",
         "2701.19.00"
        ],
        [
         "4",
         "0500.2030",
         "2702.10.00"
        ]
       ],
       "shape": {
        "columns": 2,
        "rows": 5
       }
      },
      "text/html": [
       "<div>\n",
       "<style scoped>\n",
       "    .dataframe tbody tr th:only-of-type {\n",
       "        vertical-align: middle;\n",
       "    }\n",
       "\n",
       "    .dataframe tbody tr th {\n",
       "        vertical-align: top;\n",
       "    }\n",
       "\n",
       "    .dataframe thead th {\n",
       "        text-align: right;\n",
       "    }\n",
       "</style>\n",
       "<table border=\"1\" class=\"dataframe\">\n",
       "  <thead>\n",
       "    <tr style=\"text-align: right;\">\n",
       "      <th></th>\n",
       "      <th>prodlist</th>\n",
       "      <th>ncm</th>\n",
       "    </tr>\n",
       "  </thead>\n",
       "  <tbody>\n",
       "    <tr>\n",
       "      <th>0</th>\n",
       "      <td>0500.2010</td>\n",
       "      <td>2701.19.00</td>\n",
       "    </tr>\n",
       "    <tr>\n",
       "      <th>1</th>\n",
       "      <td>0500.2030</td>\n",
       "      <td>2701.11.00</td>\n",
       "    </tr>\n",
       "    <tr>\n",
       "      <th>2</th>\n",
       "      <td>0500.2030</td>\n",
       "      <td>2701.12.00</td>\n",
       "    </tr>\n",
       "    <tr>\n",
       "      <th>3</th>\n",
       "      <td>0500.2030</td>\n",
       "      <td>2701.19.00</td>\n",
       "    </tr>\n",
       "    <tr>\n",
       "      <th>4</th>\n",
       "      <td>0500.2030</td>\n",
       "      <td>2702.10.00</td>\n",
       "    </tr>\n",
       "  </tbody>\n",
       "</table>\n",
       "</div>"
      ],
      "text/plain": [
       "    prodlist         ncm\n",
       "0  0500.2010  2701.19.00\n",
       "1  0500.2030  2701.11.00\n",
       "2  0500.2030  2701.12.00\n",
       "3  0500.2030  2701.19.00\n",
       "4  0500.2030  2702.10.00"
      ]
     },
     "execution_count": 3,
     "metadata": {},
     "output_type": "execute_result"
    }
   ],
   "source": [
    "mapeamento.head()"
   ]
  },
  {
   "cell_type": "code",
   "execution_count": 10,
   "id": "c6b1a417",
   "metadata": {},
   "outputs": [],
   "source": [
    "#fazer o merge de cnaes selecionadas com mapeamento de forma que o cnae com seja pareado com os 3 primeiros digitos da prodlist\n",
    "cnaes_selecionados = cnaes_selecionados.merge(mapeamento, left_on='cnae', right_on=mapeamento['prodlist'].str[:3], how='inner')\n"
   ]
  },
  {
   "cell_type": "code",
   "execution_count": 12,
   "id": "88be6c20",
   "metadata": {},
   "outputs": [],
   "source": [
    "cnaes_selecionados.drop_duplicates(subset=['cnae','descricao','ncm'], inplace=True)"
   ]
  },
  {
   "cell_type": "code",
   "execution_count": 38,
   "id": "a1854b2f",
   "metadata": {},
   "outputs": [],
   "source": [
    "exportacoes_mundo_2023 = pd.read_excel('./dados/comex/Exportacao Mundo 2024 NCM.xlsx',dtype={'Código NCM':str})\n"
   ]
  },
  {
   "cell_type": "code",
   "execution_count": 39,
   "id": "8b7b79d2",
   "metadata": {},
   "outputs": [
    {
     "data": {
      "text/plain": [
       "(8019, 3)"
      ]
     },
     "execution_count": 39,
     "metadata": {},
     "output_type": "execute_result"
    }
   ],
   "source": [
    "exportacoes_mundo_2023.shape"
   ]
  },
  {
   "cell_type": "code",
   "execution_count": 40,
   "id": "10f86f58",
   "metadata": {},
   "outputs": [],
   "source": [
    "exportacoes_usa_2023 = pd.read_excel('./dados/comex/Exportacao EUA 2024 NCM.xlsx',dtype={'Código NCM':str})\n"
   ]
  },
  {
   "cell_type": "code",
   "execution_count": 41,
   "id": "5bf04bd7",
   "metadata": {},
   "outputs": [
    {
     "data": {
      "application/vnd.microsoft.datawrangler.viewer.v0+json": {
       "columns": [
        {
         "name": "index",
         "rawType": "int64",
         "type": "integer"
        },
        {
         "name": "Código NCM",
         "rawType": "object",
         "type": "string"
        },
        {
         "name": "Descrição NCM",
         "rawType": "object",
         "type": "string"
        },
        {
         "name": "2024 - Valor US$ FOB",
         "rawType": "int64",
         "type": "integer"
        }
       ],
       "ref": "c9e08c9c-73fe-4c27-b700-3b8572b1c80e",
       "rows": [
        [
         "0",
         "27090010",
         "Óleos brutos de petróleo",
         "5830983860"
        ],
        [
         "1",
         "72071200",
         "Outros produtos semimanufaturados de ferro ou aço não ligado, de seção transversal retangular, que contenham, em peso, menos de 0,25 % de carbono",
         "2774470802"
        ],
        [
         "2",
         "09011110",
         "Café não torrado, não descafeinado, em grão",
         "1895591133"
        ],
        [
         "3",
         "47032900",
         "Pastas químicas de madeira, à soda ou ao sulfato, exceto pastas para dissolução, semibranqueadas ou branqueadas, de não coníferas",
         "1551604956"
        ],
        [
         "4",
         "72011000",
         "Ferro fundido bruto não ligado, que contenha, em peso, 0,5 % ou menos de fósforo",
         "1423332945"
        ]
       ],
       "shape": {
        "columns": 3,
        "rows": 5
       }
      },
      "text/html": [
       "<div>\n",
       "<style scoped>\n",
       "    .dataframe tbody tr th:only-of-type {\n",
       "        vertical-align: middle;\n",
       "    }\n",
       "\n",
       "    .dataframe tbody tr th {\n",
       "        vertical-align: top;\n",
       "    }\n",
       "\n",
       "    .dataframe thead th {\n",
       "        text-align: right;\n",
       "    }\n",
       "</style>\n",
       "<table border=\"1\" class=\"dataframe\">\n",
       "  <thead>\n",
       "    <tr style=\"text-align: right;\">\n",
       "      <th></th>\n",
       "      <th>Código NCM</th>\n",
       "      <th>Descrição NCM</th>\n",
       "      <th>2024 - Valor US$ FOB</th>\n",
       "    </tr>\n",
       "  </thead>\n",
       "  <tbody>\n",
       "    <tr>\n",
       "      <th>0</th>\n",
       "      <td>27090010</td>\n",
       "      <td>Óleos brutos de petróleo</td>\n",
       "      <td>5830983860</td>\n",
       "    </tr>\n",
       "    <tr>\n",
       "      <th>1</th>\n",
       "      <td>72071200</td>\n",
       "      <td>Outros produtos semimanufaturados de ferro ou ...</td>\n",
       "      <td>2774470802</td>\n",
       "    </tr>\n",
       "    <tr>\n",
       "      <th>2</th>\n",
       "      <td>09011110</td>\n",
       "      <td>Café não torrado, não descafeinado, em grão</td>\n",
       "      <td>1895591133</td>\n",
       "    </tr>\n",
       "    <tr>\n",
       "      <th>3</th>\n",
       "      <td>47032900</td>\n",
       "      <td>Pastas químicas de madeira, à soda ou ao sulfa...</td>\n",
       "      <td>1551604956</td>\n",
       "    </tr>\n",
       "    <tr>\n",
       "      <th>4</th>\n",
       "      <td>72011000</td>\n",
       "      <td>Ferro fundido bruto não ligado, que contenha, ...</td>\n",
       "      <td>1423332945</td>\n",
       "    </tr>\n",
       "  </tbody>\n",
       "</table>\n",
       "</div>"
      ],
      "text/plain": [
       "  Código NCM                                      Descrição NCM  \\\n",
       "0   27090010                           Óleos brutos de petróleo   \n",
       "1   72071200  Outros produtos semimanufaturados de ferro ou ...   \n",
       "2   09011110        Café não torrado, não descafeinado, em grão   \n",
       "3   47032900  Pastas químicas de madeira, à soda ou ao sulfa...   \n",
       "4   72011000  Ferro fundido bruto não ligado, que contenha, ...   \n",
       "\n",
       "   2024 - Valor US$ FOB  \n",
       "0            5830983860  \n",
       "1            2774470802  \n",
       "2            1895591133  \n",
       "3            1551604956  \n",
       "4            1423332945  "
      ]
     },
     "execution_count": 41,
     "metadata": {},
     "output_type": "execute_result"
    }
   ],
   "source": [
    "exportacoes_usa_2023.head()"
   ]
  },
  {
   "cell_type": "code",
   "execution_count": 42,
   "id": "dc226ec9",
   "metadata": {},
   "outputs": [],
   "source": [
    "exportacoes_mundo_2023 = exportacoes_mundo_2023.rename(columns={'2024 - Valor US$ FOB': 'US$ FOB Mundo'}).merge(\n",
    "    exportacoes_usa_2023.rename(columns={'2024 - Valor US$ FOB': 'US$ FOB USA'}),\n",
    "    on=['Código NCM', 'Descrição NCM'],\n",
    "    how='inner').fillna({'US$ FOB USA': 0})"
   ]
  },
  {
   "cell_type": "code",
   "execution_count": 43,
   "id": "95a68038",
   "metadata": {},
   "outputs": [],
   "source": [
    "exportacoes_mundo_2023['participacao USA'] = exportacoes_mundo_2023['US$ FOB USA'] / exportacoes_mundo_2023['US$ FOB Mundo']"
   ]
  },
  {
   "cell_type": "code",
   "execution_count": 37,
   "id": "15f12cab",
   "metadata": {},
   "outputs": [
    {
     "data": {
      "application/vnd.microsoft.datawrangler.viewer.v0+json": {
       "columns": [
        {
         "name": "index",
         "rawType": "int64",
         "type": "integer"
        },
        {
         "name": "Código NCM",
         "rawType": "object",
         "type": "string"
        },
        {
         "name": "Descrição NCM",
         "rawType": "object",
         "type": "string"
        },
        {
         "name": "US$ FOB Mundo",
         "rawType": "int64",
         "type": "integer"
        },
        {
         "name": "US$ FOB USA",
         "rawType": "float64",
         "type": "float"
        },
        {
         "name": "participacao USA",
         "rawType": "float64",
         "type": "float"
        }
       ],
       "ref": "2946f8da-426b-4c4e-b42a-d79e16de6890",
       "rows": [
        [
         "0",
         "27090010",
         "Óleos brutos de petróleo",
         "44963878520",
         "5830983860.0",
         "0.12968151440508785"
        ],
        [
         "1",
         "12019000",
         "Soja, mesmo triturada, exceto para semeadura",
         "42941894470",
         "57481952.0",
         "0.0013385984179193108"
        ],
        [
         "2",
         "26011100",
         "Minérios de ferro e seus concentrados, exceto as piritas de ferro ustuladas (cinzas de piritas), não aglomerados",
         "26574698749",
         "5410724.0",
         "0.00020360434001922992"
        ],
        [
         "3",
         "17011400",
         "Outros açúcares de cana",
         "15925320657",
         "439661317.0",
         "0.027607690072271554"
        ],
        [
         "4",
         "09011110",
         "Café não torrado, não descafeinado, em grão",
         "11331933183",
         "1895591133.0",
         "0.16727870720626362"
        ]
       ],
       "shape": {
        "columns": 5,
        "rows": 5
       }
      },
      "text/html": [
       "<div>\n",
       "<style scoped>\n",
       "    .dataframe tbody tr th:only-of-type {\n",
       "        vertical-align: middle;\n",
       "    }\n",
       "\n",
       "    .dataframe tbody tr th {\n",
       "        vertical-align: top;\n",
       "    }\n",
       "\n",
       "    .dataframe thead th {\n",
       "        text-align: right;\n",
       "    }\n",
       "</style>\n",
       "<table border=\"1\" class=\"dataframe\">\n",
       "  <thead>\n",
       "    <tr style=\"text-align: right;\">\n",
       "      <th></th>\n",
       "      <th>Código NCM</th>\n",
       "      <th>Descrição NCM</th>\n",
       "      <th>US$ FOB Mundo</th>\n",
       "      <th>US$ FOB USA</th>\n",
       "      <th>participacao USA</th>\n",
       "    </tr>\n",
       "  </thead>\n",
       "  <tbody>\n",
       "    <tr>\n",
       "      <th>0</th>\n",
       "      <td>27090010</td>\n",
       "      <td>Óleos brutos de petróleo</td>\n",
       "      <td>44963878520</td>\n",
       "      <td>5.830984e+09</td>\n",
       "      <td>0.129682</td>\n",
       "    </tr>\n",
       "    <tr>\n",
       "      <th>1</th>\n",
       "      <td>12019000</td>\n",
       "      <td>Soja, mesmo triturada, exceto para semeadura</td>\n",
       "      <td>42941894470</td>\n",
       "      <td>5.748195e+07</td>\n",
       "      <td>0.001339</td>\n",
       "    </tr>\n",
       "    <tr>\n",
       "      <th>2</th>\n",
       "      <td>26011100</td>\n",
       "      <td>Minérios de ferro e seus concentrados, exceto ...</td>\n",
       "      <td>26574698749</td>\n",
       "      <td>5.410724e+06</td>\n",
       "      <td>0.000204</td>\n",
       "    </tr>\n",
       "    <tr>\n",
       "      <th>3</th>\n",
       "      <td>17011400</td>\n",
       "      <td>Outros açúcares de cana</td>\n",
       "      <td>15925320657</td>\n",
       "      <td>4.396613e+08</td>\n",
       "      <td>0.027608</td>\n",
       "    </tr>\n",
       "    <tr>\n",
       "      <th>4</th>\n",
       "      <td>09011110</td>\n",
       "      <td>Café não torrado, não descafeinado, em grão</td>\n",
       "      <td>11331933183</td>\n",
       "      <td>1.895591e+09</td>\n",
       "      <td>0.167279</td>\n",
       "    </tr>\n",
       "  </tbody>\n",
       "</table>\n",
       "</div>"
      ],
      "text/plain": [
       "  Código NCM                                      Descrição NCM  \\\n",
       "0   27090010                           Óleos brutos de petróleo   \n",
       "1   12019000       Soja, mesmo triturada, exceto para semeadura   \n",
       "2   26011100  Minérios de ferro e seus concentrados, exceto ...   \n",
       "3   17011400                            Outros açúcares de cana   \n",
       "4   09011110        Café não torrado, não descafeinado, em grão   \n",
       "\n",
       "   US$ FOB Mundo   US$ FOB USA  participacao USA  \n",
       "0    44963878520  5.830984e+09          0.129682  \n",
       "1    42941894470  5.748195e+07          0.001339  \n",
       "2    26574698749  5.410724e+06          0.000204  \n",
       "3    15925320657  4.396613e+08          0.027608  \n",
       "4    11331933183  1.895591e+09          0.167279  "
      ]
     },
     "execution_count": 37,
     "metadata": {},
     "output_type": "execute_result"
    }
   ],
   "source": [
    "exportacoes_mundo_2023.head()"
   ]
  },
  {
   "cell_type": "code",
   "execution_count": 11,
   "id": "e3ddb978",
   "metadata": {},
   "outputs": [
    {
     "data": {
      "application/vnd.microsoft.datawrangler.viewer.v0+json": {
       "columns": [
        {
         "name": "index",
         "rawType": "int64",
         "type": "integer"
        },
        {
         "name": "cnae",
         "rawType": "object",
         "type": "string"
        },
        {
         "name": "descricao",
         "rawType": "object",
         "type": "string"
        },
        {
         "name": "prodlist",
         "rawType": "object",
         "type": "string"
        },
        {
         "name": "ncm",
         "rawType": "object",
         "type": "string"
        }
       ],
       "ref": "1dc86524-86b1-4b42-bce0-ca80fb4ea684",
       "rows": [
        [
         "0",
         "192",
         "Fabricação de produtos derivados do petróleo",
         "1921.2010",
         "2713.20.00"
        ],
        [
         "1",
         "192",
         "Fabricação de produtos derivados do petróleo",
         "1921.2010",
         "2713.90.00"
        ],
        [
         "2",
         "192",
         "Fabricação de produtos derivados do petróleo",
         "1921.2020",
         "2713.11.00"
        ],
        [
         "3",
         "192",
         "Fabricação de produtos derivados do petróleo",
         "1921.2025",
         "2711.14.00"
        ],
        [
         "4",
         "192",
         "Fabricação de produtos derivados do petróleo",
         "1921.2027",
         "2711.29.10"
        ]
       ],
       "shape": {
        "columns": 4,
        "rows": 5
       }
      },
      "text/html": [
       "<div>\n",
       "<style scoped>\n",
       "    .dataframe tbody tr th:only-of-type {\n",
       "        vertical-align: middle;\n",
       "    }\n",
       "\n",
       "    .dataframe tbody tr th {\n",
       "        vertical-align: top;\n",
       "    }\n",
       "\n",
       "    .dataframe thead th {\n",
       "        text-align: right;\n",
       "    }\n",
       "</style>\n",
       "<table border=\"1\" class=\"dataframe\">\n",
       "  <thead>\n",
       "    <tr style=\"text-align: right;\">\n",
       "      <th></th>\n",
       "      <th>cnae</th>\n",
       "      <th>descricao</th>\n",
       "      <th>prodlist</th>\n",
       "      <th>ncm</th>\n",
       "    </tr>\n",
       "  </thead>\n",
       "  <tbody>\n",
       "    <tr>\n",
       "      <th>0</th>\n",
       "      <td>192</td>\n",
       "      <td>Fabricação de produtos derivados do petróleo</td>\n",
       "      <td>1921.2010</td>\n",
       "      <td>2713.20.00</td>\n",
       "    </tr>\n",
       "    <tr>\n",
       "      <th>1</th>\n",
       "      <td>192</td>\n",
       "      <td>Fabricação de produtos derivados do petróleo</td>\n",
       "      <td>1921.2010</td>\n",
       "      <td>2713.90.00</td>\n",
       "    </tr>\n",
       "    <tr>\n",
       "      <th>2</th>\n",
       "      <td>192</td>\n",
       "      <td>Fabricação de produtos derivados do petróleo</td>\n",
       "      <td>1921.2020</td>\n",
       "      <td>2713.11.00</td>\n",
       "    </tr>\n",
       "    <tr>\n",
       "      <th>3</th>\n",
       "      <td>192</td>\n",
       "      <td>Fabricação de produtos derivados do petróleo</td>\n",
       "      <td>1921.2025</td>\n",
       "      <td>2711.14.00</td>\n",
       "    </tr>\n",
       "    <tr>\n",
       "      <th>4</th>\n",
       "      <td>192</td>\n",
       "      <td>Fabricação de produtos derivados do petróleo</td>\n",
       "      <td>1921.2027</td>\n",
       "      <td>2711.29.10</td>\n",
       "    </tr>\n",
       "  </tbody>\n",
       "</table>\n",
       "</div>"
      ],
      "text/plain": [
       "  cnae                                     descricao   prodlist         ncm\n",
       "0  192  Fabricação de produtos derivados do petróleo  1921.2010  2713.20.00\n",
       "1  192  Fabricação de produtos derivados do petróleo  1921.2010  2713.90.00\n",
       "2  192  Fabricação de produtos derivados do petróleo  1921.2020  2713.11.00\n",
       "3  192  Fabricação de produtos derivados do petróleo  1921.2025  2711.14.00\n",
       "4  192  Fabricação de produtos derivados do petróleo  1921.2027  2711.29.10"
      ]
     },
     "execution_count": 11,
     "metadata": {},
     "output_type": "execute_result"
    }
   ],
   "source": [
    "cnaes_selecionados.head()"
   ]
  },
  {
   "cell_type": "code",
   "execution_count": 49,
   "id": "de55b833",
   "metadata": {},
   "outputs": [
    {
     "data": {
      "application/vnd.microsoft.datawrangler.viewer.v0+json": {
       "columns": [
        {
         "name": "index",
         "rawType": "int64",
         "type": "integer"
        },
        {
         "name": "ncm",
         "rawType": "object",
         "type": "string"
        }
       ],
       "ref": "022bc6e3-6a15-4544-a9f4-4ac16f75cc52",
       "rows": [
        [
         "0",
         "27132000"
        ],
        [
         "1",
         "27139000"
        ],
        [
         "2",
         "27131100"
        ],
        [
         "3",
         "27111400"
        ],
        [
         "4",
         "27112910"
        ],
        [
         "5",
         "27112990"
        ],
        [
         "6",
         "27111910"
        ],
        [
         "7",
         "27101259"
        ],
        [
         "8",
         "27101251"
        ],
        [
         "9",
         "27111990"
        ],
        [
         "10",
         "27101241"
        ],
        [
         "11",
         "27101249"
        ],
        [
         "12",
         "27101922"
        ],
        [
         "13",
         "27101929"
        ],
        [
         "14",
         "27101921"
        ],
        [
         "15",
         "27101221"
        ],
        [
         "16",
         "27101229"
        ],
        [
         "17",
         "27101260"
        ],
        [
         "18",
         "27101290"
        ],
        [
         "19",
         "27101994"
        ],
        [
         "20",
         "27101999"
        ],
        [
         "21",
         "27102000"
        ],
        [
         "22",
         "27101931"
        ],
        [
         "25",
         "27111210"
        ],
        [
         "26",
         "27111290"
        ],
        [
         "27",
         "27101911"
        ],
        [
         "28",
         "27101919"
        ],
        [
         "30",
         "27101230"
        ],
        [
         "31",
         "27111300"
        ],
        [
         "32",
         "27129000"
        ],
        [
         "33",
         "27131200"
        ],
        [
         "36",
         "27101210"
        ],
        [
         "37",
         "27012000"
        ],
        [
         "38",
         "27022000"
        ],
        [
         "42",
         "27101932"
        ],
        [
         "45",
         "27101991"
        ],
        [
         "46",
         "27101993"
        ],
        [
         "47",
         "27101992"
        ],
        [
         "48",
         "27122000"
        ],
        [
         "50",
         "27121000"
        ],
        [
         "51",
         "90085000"
        ],
        [
         "52",
         "90066100"
        ],
        [
         "53",
         "90101010"
        ],
        [
         "54",
         "90101020"
        ],
        [
         "55",
         "90101090"
        ],
        [
         "56",
         "90105010"
        ],
        [
         "57",
         "90105020"
        ],
        [
         "58",
         "90105090"
        ],
        [
         "59",
         "85258100"
        ],
        [
         "60",
         "85258200"
        ]
       ],
       "shape": {
        "columns": 1,
        "rows": 7324
       }
      },
      "text/plain": [
       "0       27132000\n",
       "1       27139000\n",
       "2       27131100\n",
       "3       27111400\n",
       "4       27112910\n",
       "          ...   \n",
       "8806    84717010\n",
       "8807    84717020\n",
       "8808    84717030\n",
       "8809    84717040\n",
       "8810    84717090\n",
       "Name: ncm, Length: 7324, dtype: object"
      ]
     },
     "execution_count": 49,
     "metadata": {},
     "output_type": "execute_result"
    }
   ],
   "source": [
    "cnaes_selecionados['ncm'].str.replace('.','', regex=False)"
   ]
  },
  {
   "cell_type": "code",
   "execution_count": 50,
   "id": "57855db0",
   "metadata": {},
   "outputs": [],
   "source": [
    "#filtrar as exportações para o mundo e EUA apenas com as NCM's que estão nas cnaes selecionadas\n",
    "exportacoes_mundo_2023 = exportacoes_mundo_2023[exportacoes_mundo_2023['Código NCM'].isin(cnaes_selecionados['ncm'].str.replace('.','', regex=False))]"
   ]
  },
  {
   "cell_type": "code",
   "execution_count": 51,
   "id": "d11ad845",
   "metadata": {},
   "outputs": [],
   "source": [
    "#Criar um arquivo excel com 3 abas: uma com as cnaes selecionadas, outra com as exportações para o mundo e EUA e apenas com as NCM's sem repetições\n",
    "\n",
    "with pd.ExcelWriter('./dados/comex/Exportacoes Mundo e USA 2024 NCM.xlsx') as writer:\n",
    "    cnaes_selecionados.to_excel(writer, sheet_name='CNAEs Selecionadas', index=False)\n",
    "    exportacoes_mundo_2023.to_excel(writer, sheet_name='Exportações Mundo e USA 2024', index=False)\n",
    "    exportacoes_mundo_2023[['Código NCM', 'Descrição NCM']].drop_duplicates().to_excel(writer, sheet_name='NCMs', index=False)"
   ]
  }
 ],
 "metadata": {
  "kernelspec": {
   "display_name": "mip",
   "language": "python",
   "name": "python3"
  },
  "language_info": {
   "codemirror_mode": {
    "name": "ipython",
    "version": 3
   },
   "file_extension": ".py",
   "mimetype": "text/x-python",
   "name": "python",
   "nbconvert_exporter": "python",
   "pygments_lexer": "ipython3",
   "version": "3.13.2"
  }
 },
 "nbformat": 4,
 "nbformat_minor": 5
}
