{
 "cells": [
  {
   "cell_type": "code",
   "execution_count": 1,
   "id": "d2dbc0f1",
   "metadata": {},
   "outputs": [],
   "source": [
    "import requests\n",
    "import pandas as pd\n",
    "\n",
    "import json"
   ]
  },
  {
   "cell_type": "code",
   "execution_count": 2,
   "id": "6f7220b3",
   "metadata": {},
   "outputs": [],
   "source": [
    "exportacoes_mundo_2023 = pd.read_excel('./dados/comex/Exportação  Mundo 2023 NCM.xlsx')\n",
    "exportacoes_usa_2023 = pd.read_excel('./dados/comex/Exportação USA 2023 NCM.xlsx.xlsx')\n"
   ]
  },
  {
   "cell_type": "code",
   "execution_count": 3,
   "id": "ab561cbf",
   "metadata": {},
   "outputs": [],
   "source": [
    "exportacoes_mundo_2023['cod_ncm'] = exportacoes_mundo_2023['Código NCM'].astype(str).str.zfill(8)\n",
    "exportacoes_usa_2023['cod_ncm'] = exportacoes_usa_2023['Código NCM'].astype(str).str.zfill(8)"
   ]
  },
  {
   "cell_type": "code",
   "execution_count": 4,
   "id": "14bdc4c2",
   "metadata": {},
   "outputs": [
    {
     "data": {
      "application/vnd.microsoft.datawrangler.viewer.v0+json": {
       "columns": [
        {
         "name": "index",
         "rawType": "int64",
         "type": "integer"
        },
        {
         "name": "Código NCM",
         "rawType": "int64",
         "type": "integer"
        },
        {
         "name": "Descrição NCM",
         "rawType": "object",
         "type": "string"
        },
        {
         "name": "2023 - Valor US$ FOB",
         "rawType": "int64",
         "type": "integer"
        },
        {
         "name": "cod_ncm",
         "rawType": "object",
         "type": "string"
        }
       ],
       "ref": "7a758f16-fab2-4874-b192-6dcf39483593",
       "rows": [
        [
         "0",
         "12019000",
         "Soja, mesmo triturada, exceto para semeadura",
         "53238560791",
         "12019000"
        ],
        [
         "1",
         "27090010",
         "Óleos brutos de petróleo",
         "42611078672",
         "27090010"
        ]
       ],
       "shape": {
        "columns": 4,
        "rows": 2
       }
      },
      "text/html": [
       "<div>\n",
       "<style scoped>\n",
       "    .dataframe tbody tr th:only-of-type {\n",
       "        vertical-align: middle;\n",
       "    }\n",
       "\n",
       "    .dataframe tbody tr th {\n",
       "        vertical-align: top;\n",
       "    }\n",
       "\n",
       "    .dataframe thead th {\n",
       "        text-align: right;\n",
       "    }\n",
       "</style>\n",
       "<table border=\"1\" class=\"dataframe\">\n",
       "  <thead>\n",
       "    <tr style=\"text-align: right;\">\n",
       "      <th></th>\n",
       "      <th>Código NCM</th>\n",
       "      <th>Descrição NCM</th>\n",
       "      <th>2023 - Valor US$ FOB</th>\n",
       "      <th>cod_ncm</th>\n",
       "    </tr>\n",
       "  </thead>\n",
       "  <tbody>\n",
       "    <tr>\n",
       "      <th>0</th>\n",
       "      <td>12019000</td>\n",
       "      <td>Soja, mesmo triturada, exceto para semeadura</td>\n",
       "      <td>53238560791</td>\n",
       "      <td>12019000</td>\n",
       "    </tr>\n",
       "    <tr>\n",
       "      <th>1</th>\n",
       "      <td>27090010</td>\n",
       "      <td>Óleos brutos de petróleo</td>\n",
       "      <td>42611078672</td>\n",
       "      <td>27090010</td>\n",
       "    </tr>\n",
       "  </tbody>\n",
       "</table>\n",
       "</div>"
      ],
      "text/plain": [
       "   Código NCM                                 Descrição NCM  \\\n",
       "0    12019000  Soja, mesmo triturada, exceto para semeadura   \n",
       "1    27090010                      Óleos brutos de petróleo   \n",
       "\n",
       "   2023 - Valor US$ FOB   cod_ncm  \n",
       "0           53238560791  12019000  \n",
       "1           42611078672  27090010  "
      ]
     },
     "execution_count": 4,
     "metadata": {},
     "output_type": "execute_result"
    }
   ],
   "source": [
    "exportacoes_mundo_2023.head(2)"
   ]
  },
  {
   "cell_type": "code",
   "execution_count": 5,
   "id": "ef84fc25",
   "metadata": {},
   "outputs": [],
   "source": [
    "#Taxa média de câmbio em 2023 - compra\n",
    "taxa_cambio = 5.39  # Exemplo de taxa média de câmbio em 2023\n",
    "exportacoes_mundo_2023['R$ FOB Mundo'] = exportacoes_mundo_2023['2023 - Valor US$ FOB'] * taxa_cambio\n",
    "exportacoes_usa_2023['R$ FOB USA'] = exportacoes_usa_2023['2023 - Valor US$ FOB'] * taxa_cambio"
   ]
  },
  {
   "cell_type": "markdown",
   "id": "3b58103b",
   "metadata": {},
   "source": [
    "## Agregar por SH6"
   ]
  },
  {
   "cell_type": "code",
   "execution_count": 6,
   "id": "2a5c4001",
   "metadata": {},
   "outputs": [],
   "source": [
    "exportacoes_mundo_2023['SH6'] = exportacoes_mundo_2023['cod_ncm'].str[0:6]\n",
    "exportacoes_usa_2023['SH6'] = exportacoes_usa_2023['cod_ncm'].str[0:6]\n",
    "\n",
    "#Agregar os valores por SH6\n",
    "exportacoes_mundo_2023 = exportacoes_mundo_2023.groupby('SH6')[['R$ FOB Mundo']].sum()\n",
    "    "
   ]
  },
  {
   "cell_type": "code",
   "execution_count": 7,
   "id": "8c433a10",
   "metadata": {},
   "outputs": [],
   "source": [
    "exportacoes_usa_2023 = exportacoes_usa_2023.groupby('SH6')[['R$ FOB USA']].sum()    "
   ]
  },
  {
   "cell_type": "code",
   "execution_count": 8,
   "id": "4b170e04",
   "metadata": {},
   "outputs": [],
   "source": [
    "exportacoes = exportacoes_mundo_2023.merge(exportacoes_usa_2023, on='SH6', how='left').fillna(0)"
   ]
  },
  {
   "cell_type": "code",
   "execution_count": 9,
   "id": "d34d2614",
   "metadata": {},
   "outputs": [],
   "source": [
    "exportacoes['participacao_usa'] = exportacoes['R$ FOB USA'] / (exportacoes['R$ FOB Mundo'])"
   ]
  },
  {
   "cell_type": "code",
   "execution_count": 10,
   "id": "728c00c9",
   "metadata": {},
   "outputs": [
    {
     "data": {
      "application/vnd.microsoft.datawrangler.viewer.v0+json": {
       "columns": [
        {
         "name": "SH6",
         "rawType": "object",
         "type": "string"
        },
        {
         "name": "R$ FOB Mundo",
         "rawType": "float64",
         "type": "float"
        },
        {
         "name": "R$ FOB USA",
         "rawType": "float64",
         "type": "float"
        },
        {
         "name": "participacao_usa",
         "rawType": "float64",
         "type": "float"
        }
       ],
       "ref": "a10e7c84-1b0c-44f9-8916-1abfb0498dca",
       "rows": [
        [
         "010121",
         "40075081.199999996",
         "29427610.52",
         "0.734311937464022"
        ],
        [
         "010129",
         "21803972.959999997",
         "15256136.28",
         "0.6996952485672134"
        ]
       ],
       "shape": {
        "columns": 3,
        "rows": 2
       }
      },
      "text/html": [
       "<div>\n",
       "<style scoped>\n",
       "    .dataframe tbody tr th:only-of-type {\n",
       "        vertical-align: middle;\n",
       "    }\n",
       "\n",
       "    .dataframe tbody tr th {\n",
       "        vertical-align: top;\n",
       "    }\n",
       "\n",
       "    .dataframe thead th {\n",
       "        text-align: right;\n",
       "    }\n",
       "</style>\n",
       "<table border=\"1\" class=\"dataframe\">\n",
       "  <thead>\n",
       "    <tr style=\"text-align: right;\">\n",
       "      <th></th>\n",
       "      <th>R$ FOB Mundo</th>\n",
       "      <th>R$ FOB USA</th>\n",
       "      <th>participacao_usa</th>\n",
       "    </tr>\n",
       "    <tr>\n",
       "      <th>SH6</th>\n",
       "      <th></th>\n",
       "      <th></th>\n",
       "      <th></th>\n",
       "    </tr>\n",
       "  </thead>\n",
       "  <tbody>\n",
       "    <tr>\n",
       "      <th>010121</th>\n",
       "      <td>40075081.20</td>\n",
       "      <td>29427610.52</td>\n",
       "      <td>0.734312</td>\n",
       "    </tr>\n",
       "    <tr>\n",
       "      <th>010129</th>\n",
       "      <td>21803972.96</td>\n",
       "      <td>15256136.28</td>\n",
       "      <td>0.699695</td>\n",
       "    </tr>\n",
       "  </tbody>\n",
       "</table>\n",
       "</div>"
      ],
      "text/plain": [
       "        R$ FOB Mundo   R$ FOB USA  participacao_usa\n",
       "SH6                                                \n",
       "010121   40075081.20  29427610.52          0.734312\n",
       "010129   21803972.96  15256136.28          0.699695"
      ]
     },
     "execution_count": 10,
     "metadata": {},
     "output_type": "execute_result"
    }
   ],
   "source": [
    "exportacoes.head(2)"
   ]
  },
  {
   "cell_type": "code",
   "execution_count": 11,
   "id": "c89d2597",
   "metadata": {},
   "outputs": [
    {
     "data": {
      "application/vnd.microsoft.datawrangler.viewer.v0+json": {
       "columns": [
        {
         "name": "SH6",
         "rawType": "object",
         "type": "string"
        },
        {
         "name": "R$ FOB Mundo",
         "rawType": "float64",
         "type": "float"
        }
       ],
       "ref": "506e23a0-eb79-4d05-939c-a5086fa18583",
       "rows": [
        [
         "010121",
         "40075081.199999996"
        ],
        [
         "010129",
         "21803972.959999997"
        ]
       ],
       "shape": {
        "columns": 1,
        "rows": 2
       }
      },
      "text/html": [
       "<div>\n",
       "<style scoped>\n",
       "    .dataframe tbody tr th:only-of-type {\n",
       "        vertical-align: middle;\n",
       "    }\n",
       "\n",
       "    .dataframe tbody tr th {\n",
       "        vertical-align: top;\n",
       "    }\n",
       "\n",
       "    .dataframe thead th {\n",
       "        text-align: right;\n",
       "    }\n",
       "</style>\n",
       "<table border=\"1\" class=\"dataframe\">\n",
       "  <thead>\n",
       "    <tr style=\"text-align: right;\">\n",
       "      <th></th>\n",
       "      <th>R$ FOB Mundo</th>\n",
       "    </tr>\n",
       "    <tr>\n",
       "      <th>SH6</th>\n",
       "      <th></th>\n",
       "    </tr>\n",
       "  </thead>\n",
       "  <tbody>\n",
       "    <tr>\n",
       "      <th>010121</th>\n",
       "      <td>40075081.20</td>\n",
       "    </tr>\n",
       "    <tr>\n",
       "      <th>010129</th>\n",
       "      <td>21803972.96</td>\n",
       "    </tr>\n",
       "  </tbody>\n",
       "</table>\n",
       "</div>"
      ],
      "text/plain": [
       "        R$ FOB Mundo\n",
       "SH6                 \n",
       "010121   40075081.20\n",
       "010129   21803972.96"
      ]
     },
     "execution_count": 11,
     "metadata": {},
     "output_type": "execute_result"
    }
   ],
   "source": [
    "exportacoes_mundo_2023.head(2)"
   ]
  },
  {
   "cell_type": "markdown",
   "id": "7a9d015e",
   "metadata": {},
   "source": [
    "## Mapeamento ISIC e CNAE"
   ]
  },
  {
   "cell_type": "code",
   "execution_count": 12,
   "id": "17506901",
   "metadata": {},
   "outputs": [],
   "source": [
    "ncm_isic = pd.read_csv('./dados/comex/NCM_ISIC (1).csv',sep=';',dtype={'CO_ISIC_CLASSE': str, 'NO_ISIC_CLASSE': str}    )\n",
    "ncm = pd.read_csv('./dados/comex/NCM (2).csv',sep=';',dtype={'CO_SH6': str, 'CO_ISIC_CLASSE': str})"
   ]
  },
  {
   "cell_type": "code",
   "execution_count": 13,
   "id": "ee86e40e",
   "metadata": {},
   "outputs": [],
   "source": [
    "mapeamento_isic = pd.read_excel('./dados/mapeamento/mapeamento_isic_cnae.xlsx', dtype=str).drop(columns=['Unnamed: 3','Observações'])"
   ]
  },
  {
   "cell_type": "code",
   "execution_count": 14,
   "id": "ba8b1ebd",
   "metadata": {},
   "outputs": [
    {
     "data": {
      "application/vnd.microsoft.datawrangler.viewer.v0+json": {
       "columns": [
        {
         "name": "index",
         "rawType": "int64",
         "type": "integer"
        },
        {
         "name": "código ISIC",
         "rawType": "object",
         "type": "string"
        },
        {
         "name": "denominação ISIC",
         "rawType": "object",
         "type": "string"
        },
        {
         "name": "código CNAE",
         "rawType": "object",
         "type": "string"
        },
        {
         "name": "denominação CNAE",
         "rawType": "object",
         "type": "string"
        }
       ],
       "ref": "70d9b636-fa59-4ba5-b87b-de07e1374bf6",
       "rows": [
        [
         "0",
         "A",
         "AGRICULTURA, GANADERÍA, SILVICULTURA Y PESCA",
         "A",
         "AGRICULTURA, PECUÁRIA, PRODUÇÃO FLORESTAL, PESCA E AQÜICULTURA"
        ],
        [
         "1",
         "01",
         "AGRICULTURA, GANADERÍA, CAZA Y ACTIVIDADES DE SERVICIOS CONEXAS",
         "01",
         "AGRICULTURA, PECUÁRIA E SERVIÇOS RELACIONADOS"
        ]
       ],
       "shape": {
        "columns": 4,
        "rows": 2
       }
      },
      "text/html": [
       "<div>\n",
       "<style scoped>\n",
       "    .dataframe tbody tr th:only-of-type {\n",
       "        vertical-align: middle;\n",
       "    }\n",
       "\n",
       "    .dataframe tbody tr th {\n",
       "        vertical-align: top;\n",
       "    }\n",
       "\n",
       "    .dataframe thead th {\n",
       "        text-align: right;\n",
       "    }\n",
       "</style>\n",
       "<table border=\"1\" class=\"dataframe\">\n",
       "  <thead>\n",
       "    <tr style=\"text-align: right;\">\n",
       "      <th></th>\n",
       "      <th>código ISIC</th>\n",
       "      <th>denominação ISIC</th>\n",
       "      <th>código CNAE</th>\n",
       "      <th>denominação CNAE</th>\n",
       "    </tr>\n",
       "  </thead>\n",
       "  <tbody>\n",
       "    <tr>\n",
       "      <th>0</th>\n",
       "      <td>A</td>\n",
       "      <td>AGRICULTURA, GANADERÍA, SILVICULTURA Y PESCA</td>\n",
       "      <td>A</td>\n",
       "      <td>AGRICULTURA, PECUÁRIA, PRODUÇÃO FLORESTAL, PES...</td>\n",
       "    </tr>\n",
       "    <tr>\n",
       "      <th>1</th>\n",
       "      <td>01</td>\n",
       "      <td>AGRICULTURA, GANADERÍA, CAZA Y ACTIVIDADES DE ...</td>\n",
       "      <td>01</td>\n",
       "      <td>AGRICULTURA, PECUÁRIA E SERVIÇOS RELACIONADOS</td>\n",
       "    </tr>\n",
       "  </tbody>\n",
       "</table>\n",
       "</div>"
      ],
      "text/plain": [
       "  código ISIC                                   denominação ISIC código CNAE  \\\n",
       "0           A       AGRICULTURA, GANADERÍA, SILVICULTURA Y PESCA           A   \n",
       "1          01  AGRICULTURA, GANADERÍA, CAZA Y ACTIVIDADES DE ...          01   \n",
       "\n",
       "                                    denominação CNAE  \n",
       "0  AGRICULTURA, PECUÁRIA, PRODUÇÃO FLORESTAL, PES...  \n",
       "1      AGRICULTURA, PECUÁRIA E SERVIÇOS RELACIONADOS  "
      ]
     },
     "execution_count": 14,
     "metadata": {},
     "output_type": "execute_result"
    }
   ],
   "source": [
    "mapeamento_isic.head(2)"
   ]
  },
  {
   "cell_type": "code",
   "execution_count": 15,
   "id": "a27f6f04",
   "metadata": {},
   "outputs": [
    {
     "data": {
      "application/vnd.microsoft.datawrangler.viewer.v0+json": {
       "columns": [
        {
         "name": "index",
         "rawType": "int64",
         "type": "integer"
        },
        {
         "name": "código ISIC",
         "rawType": "object",
         "type": "string"
        },
        {
         "name": "denominação ISIC",
         "rawType": "object",
         "type": "string"
        },
        {
         "name": "código CNAE",
         "rawType": "object",
         "type": "unknown"
        },
        {
         "name": "denominação CNAE",
         "rawType": "object",
         "type": "unknown"
        }
       ],
       "ref": "c2bc4450-ef3b-4775-aed1-91f846dc0622",
       "rows": [
        [
         "1171",
         "960",
         "Otras actividades de servicios personales",
         "96.0",
         "Outras atividades de serviços pessoais"
        ],
        [
         "1178",
         "970",
         "Actividades de los hogares como empleadores de personal doméstico",
         "97.0",
         "Serviços domésticos"
        ],
        [
         "1181",
         "981",
         "Actividades no diferenciadas de los hogares como productores de bienes para uso propio",
         null,
         null
        ],
        [
         "1183",
         "982",
         "Actividades no diferenciadas de los hogares como productores de servicios para uso propio",
         null,
         null
        ],
        [
         "1187",
         "990",
         "Actividades de organizaciones y órganos extraterritoriales",
         "99.0",
         "Organismos internacionais e outras instituições extraterritoriais"
        ]
       ],
       "shape": {
        "columns": 4,
        "rows": 5
       }
      },
      "text/html": [
       "<div>\n",
       "<style scoped>\n",
       "    .dataframe tbody tr th:only-of-type {\n",
       "        vertical-align: middle;\n",
       "    }\n",
       "\n",
       "    .dataframe tbody tr th {\n",
       "        vertical-align: top;\n",
       "    }\n",
       "\n",
       "    .dataframe thead th {\n",
       "        text-align: right;\n",
       "    }\n",
       "</style>\n",
       "<table border=\"1\" class=\"dataframe\">\n",
       "  <thead>\n",
       "    <tr style=\"text-align: right;\">\n",
       "      <th></th>\n",
       "      <th>código ISIC</th>\n",
       "      <th>denominação ISIC</th>\n",
       "      <th>código CNAE</th>\n",
       "      <th>denominação CNAE</th>\n",
       "    </tr>\n",
       "  </thead>\n",
       "  <tbody>\n",
       "    <tr>\n",
       "      <th>1171</th>\n",
       "      <td>960</td>\n",
       "      <td>Otras actividades de servicios personales</td>\n",
       "      <td>96.0</td>\n",
       "      <td>Outras atividades de serviços pessoais</td>\n",
       "    </tr>\n",
       "    <tr>\n",
       "      <th>1178</th>\n",
       "      <td>970</td>\n",
       "      <td>Actividades de los hogares como empleadores de...</td>\n",
       "      <td>97.0</td>\n",
       "      <td>Serviços domésticos</td>\n",
       "    </tr>\n",
       "    <tr>\n",
       "      <th>1181</th>\n",
       "      <td>981</td>\n",
       "      <td>Actividades no diferenciadas de los hogares co...</td>\n",
       "      <td>NaN</td>\n",
       "      <td>NaN</td>\n",
       "    </tr>\n",
       "    <tr>\n",
       "      <th>1183</th>\n",
       "      <td>982</td>\n",
       "      <td>Actividades no diferenciadas de los hogares co...</td>\n",
       "      <td>NaN</td>\n",
       "      <td>NaN</td>\n",
       "    </tr>\n",
       "    <tr>\n",
       "      <th>1187</th>\n",
       "      <td>990</td>\n",
       "      <td>Actividades de organizaciones y órganos extrat...</td>\n",
       "      <td>99.0</td>\n",
       "      <td>Organismos internacionais e outras instituiçõe...</td>\n",
       "    </tr>\n",
       "  </tbody>\n",
       "</table>\n",
       "</div>"
      ],
      "text/plain": [
       "     código ISIC                                   denominação ISIC  \\\n",
       "1171         960          Otras actividades de servicios personales   \n",
       "1178         970  Actividades de los hogares como empleadores de...   \n",
       "1181         981  Actividades no diferenciadas de los hogares co...   \n",
       "1183         982  Actividades no diferenciadas de los hogares co...   \n",
       "1187         990  Actividades de organizaciones y órganos extrat...   \n",
       "\n",
       "     código CNAE                                   denominação CNAE  \n",
       "1171        96.0             Outras atividades de serviços pessoais  \n",
       "1178        97.0                                Serviços domésticos  \n",
       "1181         NaN                                                NaN  \n",
       "1183         NaN                                                NaN  \n",
       "1187        99.0  Organismos internacionais e outras instituiçõe...  "
      ]
     },
     "execution_count": 15,
     "metadata": {},
     "output_type": "execute_result"
    }
   ],
   "source": [
    "\n",
    "#Remmover linhas em que o código ISIC tem comprimento menor que 4\n",
    "mapeamento_isic = mapeamento_isic[mapeamento_isic['código ISIC'].str.len() == 3]\n",
    "mapeamento_isic.tail()"
   ]
  },
  {
   "cell_type": "code",
   "execution_count": 16,
   "id": "80e336d3",
   "metadata": {},
   "outputs": [],
   "source": [
    "mapeamento_isic = mapeamento_isic.dropna()"
   ]
  },
  {
   "cell_type": "code",
   "execution_count": 17,
   "id": "86eedd3d",
   "metadata": {},
   "outputs": [],
   "source": [
    "lista_isic_usa_3d  =exportacoes_usa_2023.reset_index().merge(ncm, left_on='SH6', right_on='CO_SH6', how='left')['CO_ISIC_CLASSE'].str[0:3].drop_duplicates()"
   ]
  },
  {
   "cell_type": "code",
   "execution_count": 19,
   "id": "7881cc4f",
   "metadata": {},
   "outputs": [],
   "source": [
    "mapeamento_isic['CNAE2d'] = mapeamento_isic['código CNAE'].str[0:2]\n",
    "mapeamento_isic['ISIC2d'] = mapeamento_isic['código ISIC'].str[0:2]"
   ]
  },
  {
   "cell_type": "code",
   "execution_count": 20,
   "id": "a149e673",
   "metadata": {},
   "outputs": [
    {
     "data": {
      "application/vnd.microsoft.datawrangler.viewer.v0+json": {
       "columns": [
        {
         "name": "ISIC2d",
         "rawType": "object",
         "type": "string"
        },
        {
         "name": "CNAE2d",
         "rawType": "int64",
         "type": "integer"
        }
       ],
       "ref": "896eabe7-93ac-436d-a307-2cf51d1c2457",
       "rows": [
        [
         "19",
         "2"
        ],
        [
         "22",
         "2"
        ],
        [
         "16",
         "2"
        ],
        [
         "20",
         "2"
        ],
        [
         "88",
         "2"
        ],
        [
         "70",
         "2"
        ],
        [
         "58",
         "2"
        ],
        [
         "08",
         "1"
        ],
        [
         "07",
         "1"
        ],
        [
         "06",
         "1"
        ]
       ],
       "shape": {
        "columns": 1,
        "rows": 10
       }
      },
      "text/html": [
       "<div>\n",
       "<style scoped>\n",
       "    .dataframe tbody tr th:only-of-type {\n",
       "        vertical-align: middle;\n",
       "    }\n",
       "\n",
       "    .dataframe tbody tr th {\n",
       "        vertical-align: top;\n",
       "    }\n",
       "\n",
       "    .dataframe thead th {\n",
       "        text-align: right;\n",
       "    }\n",
       "</style>\n",
       "<table border=\"1\" class=\"dataframe\">\n",
       "  <thead>\n",
       "    <tr style=\"text-align: right;\">\n",
       "      <th></th>\n",
       "      <th>CNAE2d</th>\n",
       "    </tr>\n",
       "    <tr>\n",
       "      <th>ISIC2d</th>\n",
       "      <th></th>\n",
       "    </tr>\n",
       "  </thead>\n",
       "  <tbody>\n",
       "    <tr>\n",
       "      <th>19</th>\n",
       "      <td>2</td>\n",
       "    </tr>\n",
       "    <tr>\n",
       "      <th>22</th>\n",
       "      <td>2</td>\n",
       "    </tr>\n",
       "    <tr>\n",
       "      <th>16</th>\n",
       "      <td>2</td>\n",
       "    </tr>\n",
       "    <tr>\n",
       "      <th>20</th>\n",
       "      <td>2</td>\n",
       "    </tr>\n",
       "    <tr>\n",
       "      <th>88</th>\n",
       "      <td>2</td>\n",
       "    </tr>\n",
       "    <tr>\n",
       "      <th>70</th>\n",
       "      <td>2</td>\n",
       "    </tr>\n",
       "    <tr>\n",
       "      <th>58</th>\n",
       "      <td>2</td>\n",
       "    </tr>\n",
       "    <tr>\n",
       "      <th>08</th>\n",
       "      <td>1</td>\n",
       "    </tr>\n",
       "    <tr>\n",
       "      <th>07</th>\n",
       "      <td>1</td>\n",
       "    </tr>\n",
       "    <tr>\n",
       "      <th>06</th>\n",
       "      <td>1</td>\n",
       "    </tr>\n",
       "  </tbody>\n",
       "</table>\n",
       "</div>"
      ],
      "text/plain": [
       "        CNAE2d\n",
       "ISIC2d        \n",
       "19           2\n",
       "22           2\n",
       "16           2\n",
       "20           2\n",
       "88           2\n",
       "70           2\n",
       "58           2\n",
       "08           1\n",
       "07           1\n",
       "06           1"
      ]
     },
     "execution_count": 20,
     "metadata": {},
     "output_type": "execute_result"
    }
   ],
   "source": [
    "mapeamento_isic.groupby('ISIC2d')[['CNAE2d']].nunique().sort_values(by='CNAE2d', ascending=False).head(10)"
   ]
  },
  {
   "cell_type": "code",
   "execution_count": 21,
   "id": "82f09e68",
   "metadata": {},
   "outputs": [
    {
     "data": {
      "application/vnd.microsoft.datawrangler.viewer.v0+json": {
       "columns": [
        {
         "name": "index",
         "rawType": "int64",
         "type": "integer"
        },
        {
         "name": "código ISIC",
         "rawType": "object",
         "type": "string"
        },
        {
         "name": "denominação ISIC",
         "rawType": "object",
         "type": "string"
        },
        {
         "name": "código CNAE",
         "rawType": "object",
         "type": "string"
        },
        {
         "name": "denominação CNAE",
         "rawType": "object",
         "type": "string"
        },
        {
         "name": "CNAE2d",
         "rawType": "object",
         "type": "string"
        },
        {
         "name": "ISIC2d",
         "rawType": "object",
         "type": "string"
        }
       ],
       "ref": "54a7a3e6-ccf2-45a7-8160-f56468de4ac4",
       "rows": [
        [
         "822",
         "581",
         "Edición de libros y publicaciones periódicas y otras actividades de edición",
         "58.1",
         "Edição de livros, jornais, revistas e outras atividades de edição",
         "58",
         "58"
        ],
        [
         "823",
         "581",
         "Edición de libros y publicaciones periódicas y otras actividades de edición",
         "58.2",
         "Edição integrada à impressão de livros, jornais, revistas e outras publicações",
         "58",
         "58"
        ],
        [
         "834",
         "582",
         "Edición de programas informáticos",
         "62.0",
         "Atividades dos serviços de tecnologia da informação",
         "62",
         "58"
        ],
        [
         "955",
         "701",
         "Actividades de oficinas principales",
         "64.6",
         "Atividades de sociedades de participação",
         "64",
         "70"
        ],
        [
         "956",
         "701",
         "Actividades de oficinas principales",
         "70.1",
         "Sedes de empresas e unidades administrativas locais",
         "70",
         "70"
        ],
        [
         "960",
         "702",
         "Actividades de consultoría de gestión",
         "70.2",
         "Atividades de consultoria em gestão empresarial",
         "70",
         "70"
        ],
        [
         "1117",
         "881",
         "Actividades de asistencia social sin alojamiento para personas de edad y personas con discapacidad",
         "88.0",
         "Serviços de assistência social sem alojamento",
         "88",
         "88"
        ],
        [
         "1119",
         "889",
         "Otras actividades de aistencia social sin alojamiento",
         "85.1",
         "Educação infantil e ensino fundamental",
         "85",
         "88"
        ],
        [
         "1120",
         "889",
         "Otros servicios sociales sin alojamiento n.c.p.",
         "88.0",
         "Serviços de assistência social sem alojamento",
         "88",
         "88"
        ]
       ],
       "shape": {
        "columns": 6,
        "rows": 9
       }
      },
      "text/html": [
       "<div>\n",
       "<style scoped>\n",
       "    .dataframe tbody tr th:only-of-type {\n",
       "        vertical-align: middle;\n",
       "    }\n",
       "\n",
       "    .dataframe tbody tr th {\n",
       "        vertical-align: top;\n",
       "    }\n",
       "\n",
       "    .dataframe thead th {\n",
       "        text-align: right;\n",
       "    }\n",
       "</style>\n",
       "<table border=\"1\" class=\"dataframe\">\n",
       "  <thead>\n",
       "    <tr style=\"text-align: right;\">\n",
       "      <th></th>\n",
       "      <th>código ISIC</th>\n",
       "      <th>denominação ISIC</th>\n",
       "      <th>código CNAE</th>\n",
       "      <th>denominação CNAE</th>\n",
       "      <th>CNAE2d</th>\n",
       "      <th>ISIC2d</th>\n",
       "    </tr>\n",
       "  </thead>\n",
       "  <tbody>\n",
       "    <tr>\n",
       "      <th>822</th>\n",
       "      <td>581</td>\n",
       "      <td>Edición de libros y publicaciones periódicas y...</td>\n",
       "      <td>58.1</td>\n",
       "      <td>Edição de livros, jornais, revistas e outras a...</td>\n",
       "      <td>58</td>\n",
       "      <td>58</td>\n",
       "    </tr>\n",
       "    <tr>\n",
       "      <th>823</th>\n",
       "      <td>581</td>\n",
       "      <td>Edición de libros y publicaciones periódicas y...</td>\n",
       "      <td>58.2</td>\n",
       "      <td>Edição integrada à impressão de livros, jornai...</td>\n",
       "      <td>58</td>\n",
       "      <td>58</td>\n",
       "    </tr>\n",
       "    <tr>\n",
       "      <th>834</th>\n",
       "      <td>582</td>\n",
       "      <td>Edición de programas informáticos</td>\n",
       "      <td>62.0</td>\n",
       "      <td>Atividades dos serviços de tecnologia da infor...</td>\n",
       "      <td>62</td>\n",
       "      <td>58</td>\n",
       "    </tr>\n",
       "    <tr>\n",
       "      <th>955</th>\n",
       "      <td>701</td>\n",
       "      <td>Actividades de oficinas principales</td>\n",
       "      <td>64.6</td>\n",
       "      <td>Atividades de sociedades de participação</td>\n",
       "      <td>64</td>\n",
       "      <td>70</td>\n",
       "    </tr>\n",
       "    <tr>\n",
       "      <th>956</th>\n",
       "      <td>701</td>\n",
       "      <td>Actividades de oficinas principales</td>\n",
       "      <td>70.1</td>\n",
       "      <td>Sedes de empresas e unidades administrativas l...</td>\n",
       "      <td>70</td>\n",
       "      <td>70</td>\n",
       "    </tr>\n",
       "    <tr>\n",
       "      <th>960</th>\n",
       "      <td>702</td>\n",
       "      <td>Actividades de consultoría de gestión</td>\n",
       "      <td>70.2</td>\n",
       "      <td>Atividades de consultoria em gestão empresarial</td>\n",
       "      <td>70</td>\n",
       "      <td>70</td>\n",
       "    </tr>\n",
       "    <tr>\n",
       "      <th>1117</th>\n",
       "      <td>881</td>\n",
       "      <td>Actividades de asistencia social sin alojamien...</td>\n",
       "      <td>88.0</td>\n",
       "      <td>Serviços de assistência social sem alojamento</td>\n",
       "      <td>88</td>\n",
       "      <td>88</td>\n",
       "    </tr>\n",
       "    <tr>\n",
       "      <th>1119</th>\n",
       "      <td>889</td>\n",
       "      <td>Otras actividades de aistencia social sin aloj...</td>\n",
       "      <td>85.1</td>\n",
       "      <td>Educação infantil e ensino fundamental</td>\n",
       "      <td>85</td>\n",
       "      <td>88</td>\n",
       "    </tr>\n",
       "    <tr>\n",
       "      <th>1120</th>\n",
       "      <td>889</td>\n",
       "      <td>Otros servicios sociales sin alojamiento n.c.p.</td>\n",
       "      <td>88.0</td>\n",
       "      <td>Serviços de assistência social sem alojamento</td>\n",
       "      <td>88</td>\n",
       "      <td>88</td>\n",
       "    </tr>\n",
       "  </tbody>\n",
       "</table>\n",
       "</div>"
      ],
      "text/plain": [
       "     código ISIC                                   denominação ISIC  \\\n",
       "822          581  Edición de libros y publicaciones periódicas y...   \n",
       "823          581  Edición de libros y publicaciones periódicas y...   \n",
       "834          582                  Edición de programas informáticos   \n",
       "955          701                Actividades de oficinas principales   \n",
       "956          701                Actividades de oficinas principales   \n",
       "960          702              Actividades de consultoría de gestión   \n",
       "1117         881  Actividades de asistencia social sin alojamien...   \n",
       "1119         889  Otras actividades de aistencia social sin aloj...   \n",
       "1120         889    Otros servicios sociales sin alojamiento n.c.p.   \n",
       "\n",
       "     código CNAE                                   denominação CNAE CNAE2d  \\\n",
       "822         58.1  Edição de livros, jornais, revistas e outras a...     58   \n",
       "823         58.2  Edição integrada à impressão de livros, jornai...     58   \n",
       "834         62.0  Atividades dos serviços de tecnologia da infor...     62   \n",
       "955         64.6           Atividades de sociedades de participação     64   \n",
       "956         70.1  Sedes de empresas e unidades administrativas l...     70   \n",
       "960         70.2    Atividades de consultoria em gestão empresarial     70   \n",
       "1117        88.0      Serviços de assistência social sem alojamento     88   \n",
       "1119        85.1             Educação infantil e ensino fundamental     85   \n",
       "1120        88.0      Serviços de assistência social sem alojamento     88   \n",
       "\n",
       "     ISIC2d  \n",
       "822      58  \n",
       "823      58  \n",
       "834      58  \n",
       "955      70  \n",
       "956      70  \n",
       "960      70  \n",
       "1117     88  \n",
       "1119     88  \n",
       "1120     88  "
      ]
     },
     "execution_count": 21,
     "metadata": {},
     "output_type": "execute_result"
    }
   ],
   "source": [
    "mapeamento_isic.query('ISIC2d.isin([\"58\",\"70\",\"88\"])')"
   ]
  },
  {
   "cell_type": "code",
   "execution_count": 22,
   "id": "4f0056a1",
   "metadata": {},
   "outputs": [
    {
     "data": {
      "application/vnd.microsoft.datawrangler.viewer.v0+json": {
       "columns": [
        {
         "name": "index",
         "rawType": "int64",
         "type": "integer"
        },
        {
         "name": "código ISIC",
         "rawType": "object",
         "type": "string"
        },
        {
         "name": "denominação ISIC",
         "rawType": "object",
         "type": "string"
        },
        {
         "name": "código CNAE",
         "rawType": "object",
         "type": "string"
        },
        {
         "name": "denominação CNAE",
         "rawType": "object",
         "type": "string"
        },
        {
         "name": "CNAE2d",
         "rawType": "object",
         "type": "string"
        },
        {
         "name": "ISIC2d",
         "rawType": "object",
         "type": "string"
        }
       ],
       "ref": "2d5f51fb-f2b1-4b1d-8cf7-86167ab216c7",
       "rows": [
        [
         "213",
         "151",
         "Curtido y adobo de cueros; fabricación de maletas, bolsos de mano y artículos de talabartería y guarnicionería; adobo y teñido de pieles",
         "15.1",
         "Curtimento e outras preparações de couro",
         "15",
         "15"
        ],
        [
         "214",
         "151",
         "Curtido y adobo de cueros; fabricación de maletas, bolsos de mano y artículos de talabartería y guarnicionería; adobo y teñido de pieles",
         "15.2",
         "Fabricação de artigos para viagem e de artefatos diversos de couro",
         "15",
         "15"
        ],
        [
         "218",
         "152",
         "Fabricación de calzado",
         "15.3",
         "Fabricação de calçados",
         "15",
         "15"
        ],
        [
         "219",
         "152",
         "Fabricación de calzado",
         "15.4",
         "Fabricação de partes para calçados, de qualquer material",
         "15",
         "15"
        ],
        [
         "229",
         "162",
         "Fabricación de productos de madera, corcho, paja y materiales trenzables",
         "15.4",
         "Fabricação de partes para calçados, de qualquer material",
         "15",
         "16"
        ],
        [
         "315",
         "221",
         "Fabricación de productos de caucho",
         "15.4",
         "Fabricação de partes para calçados, de qualquer material",
         "15",
         "22"
        ],
        [
         "321",
         "222",
         "Fabricación de productos de plástico",
         "15.4",
         "Fabricação de partes para calçados, de qualquer material",
         "15",
         "22"
        ]
       ],
       "shape": {
        "columns": 6,
        "rows": 7
       }
      },
      "text/html": [
       "<div>\n",
       "<style scoped>\n",
       "    .dataframe tbody tr th:only-of-type {\n",
       "        vertical-align: middle;\n",
       "    }\n",
       "\n",
       "    .dataframe tbody tr th {\n",
       "        vertical-align: top;\n",
       "    }\n",
       "\n",
       "    .dataframe thead th {\n",
       "        text-align: right;\n",
       "    }\n",
       "</style>\n",
       "<table border=\"1\" class=\"dataframe\">\n",
       "  <thead>\n",
       "    <tr style=\"text-align: right;\">\n",
       "      <th></th>\n",
       "      <th>código ISIC</th>\n",
       "      <th>denominação ISIC</th>\n",
       "      <th>código CNAE</th>\n",
       "      <th>denominação CNAE</th>\n",
       "      <th>CNAE2d</th>\n",
       "      <th>ISIC2d</th>\n",
       "    </tr>\n",
       "  </thead>\n",
       "  <tbody>\n",
       "    <tr>\n",
       "      <th>213</th>\n",
       "      <td>151</td>\n",
       "      <td>Curtido y adobo de cueros; fabricación de male...</td>\n",
       "      <td>15.1</td>\n",
       "      <td>Curtimento e outras preparações de couro</td>\n",
       "      <td>15</td>\n",
       "      <td>15</td>\n",
       "    </tr>\n",
       "    <tr>\n",
       "      <th>214</th>\n",
       "      <td>151</td>\n",
       "      <td>Curtido y adobo de cueros; fabricación de male...</td>\n",
       "      <td>15.2</td>\n",
       "      <td>Fabricação de artigos para viagem e de artefat...</td>\n",
       "      <td>15</td>\n",
       "      <td>15</td>\n",
       "    </tr>\n",
       "    <tr>\n",
       "      <th>218</th>\n",
       "      <td>152</td>\n",
       "      <td>Fabricación de calzado</td>\n",
       "      <td>15.3</td>\n",
       "      <td>Fabricação de calçados</td>\n",
       "      <td>15</td>\n",
       "      <td>15</td>\n",
       "    </tr>\n",
       "    <tr>\n",
       "      <th>219</th>\n",
       "      <td>152</td>\n",
       "      <td>Fabricación de calzado</td>\n",
       "      <td>15.4</td>\n",
       "      <td>Fabricação de partes para calçados, de qualque...</td>\n",
       "      <td>15</td>\n",
       "      <td>15</td>\n",
       "    </tr>\n",
       "    <tr>\n",
       "      <th>229</th>\n",
       "      <td>162</td>\n",
       "      <td>Fabricación de productos de madera, corcho, pa...</td>\n",
       "      <td>15.4</td>\n",
       "      <td>Fabricação de partes para calçados, de qualque...</td>\n",
       "      <td>15</td>\n",
       "      <td>16</td>\n",
       "    </tr>\n",
       "    <tr>\n",
       "      <th>315</th>\n",
       "      <td>221</td>\n",
       "      <td>Fabricación de productos de caucho</td>\n",
       "      <td>15.4</td>\n",
       "      <td>Fabricação de partes para calçados, de qualque...</td>\n",
       "      <td>15</td>\n",
       "      <td>22</td>\n",
       "    </tr>\n",
       "    <tr>\n",
       "      <th>321</th>\n",
       "      <td>222</td>\n",
       "      <td>Fabricación de productos de plástico</td>\n",
       "      <td>15.4</td>\n",
       "      <td>Fabricação de partes para calçados, de qualque...</td>\n",
       "      <td>15</td>\n",
       "      <td>22</td>\n",
       "    </tr>\n",
       "  </tbody>\n",
       "</table>\n",
       "</div>"
      ],
      "text/plain": [
       "    código ISIC                                   denominação ISIC  \\\n",
       "213         151  Curtido y adobo de cueros; fabricación de male...   \n",
       "214         151  Curtido y adobo de cueros; fabricación de male...   \n",
       "218         152                             Fabricación de calzado   \n",
       "219         152                             Fabricación de calzado   \n",
       "229         162  Fabricación de productos de madera, corcho, pa...   \n",
       "315         221                 Fabricación de productos de caucho   \n",
       "321         222               Fabricación de productos de plástico   \n",
       "\n",
       "    código CNAE                                   denominação CNAE CNAE2d  \\\n",
       "213        15.1           Curtimento e outras preparações de couro     15   \n",
       "214        15.2  Fabricação de artigos para viagem e de artefat...     15   \n",
       "218        15.3                             Fabricação de calçados     15   \n",
       "219        15.4  Fabricação de partes para calçados, de qualque...     15   \n",
       "229        15.4  Fabricação de partes para calçados, de qualque...     15   \n",
       "315        15.4  Fabricação de partes para calçados, de qualque...     15   \n",
       "321        15.4  Fabricação de partes para calçados, de qualque...     15   \n",
       "\n",
       "    ISIC2d  \n",
       "213     15  \n",
       "214     15  \n",
       "218     15  \n",
       "219     15  \n",
       "229     16  \n",
       "315     22  \n",
       "321     22  "
      ]
     },
     "execution_count": 22,
     "metadata": {},
     "output_type": "execute_result"
    }
   ],
   "source": [
    "mapeamento_isic.query('`CNAE2d`.isin([\"15\"])')"
   ]
  },
  {
   "cell_type": "markdown",
   "id": "6b59240a",
   "metadata": {},
   "source": [
    "Há produtos exportados para os EUA que não estão mapeados no NCM_ISIC, como por exemplo:"
   ]
  },
  {
   "cell_type": "code",
   "execution_count": 24,
   "id": "1339213c",
   "metadata": {},
   "outputs": [
    {
     "data": {
      "application/vnd.microsoft.datawrangler.viewer.v0+json": {
       "columns": [
        {
         "name": "index",
         "rawType": "int64",
         "type": "integer"
        },
        {
         "name": "código ISIC",
         "rawType": "object",
         "type": "string"
        },
        {
         "name": "denominação ISIC",
         "rawType": "object",
         "type": "string"
        },
        {
         "name": "código CNAE",
         "rawType": "object",
         "type": "string"
        },
        {
         "name": "denominação CNAE",
         "rawType": "object",
         "type": "string"
        },
        {
         "name": "CNAE2d",
         "rawType": "object",
         "type": "string"
        },
        {
         "name": "ISIC2d",
         "rawType": "object",
         "type": "string"
        }
       ],
       "ref": "3f75363d-9962-4d9b-9b12-9877c81613af",
       "rows": [],
       "shape": {
        "columns": 6,
        "rows": 0
       }
      },
      "text/html": [
       "<div>\n",
       "<style scoped>\n",
       "    .dataframe tbody tr th:only-of-type {\n",
       "        vertical-align: middle;\n",
       "    }\n",
       "\n",
       "    .dataframe tbody tr th {\n",
       "        vertical-align: top;\n",
       "    }\n",
       "\n",
       "    .dataframe thead th {\n",
       "        text-align: right;\n",
       "    }\n",
       "</style>\n",
       "<table border=\"1\" class=\"dataframe\">\n",
       "  <thead>\n",
       "    <tr style=\"text-align: right;\">\n",
       "      <th></th>\n",
       "      <th>código ISIC</th>\n",
       "      <th>denominação ISIC</th>\n",
       "      <th>código CNAE</th>\n",
       "      <th>denominação CNAE</th>\n",
       "      <th>CNAE2d</th>\n",
       "      <th>ISIC2d</th>\n",
       "    </tr>\n",
       "  </thead>\n",
       "  <tbody>\n",
       "  </tbody>\n",
       "</table>\n",
       "</div>"
      ],
      "text/plain": [
       "Empty DataFrame\n",
       "Columns: [código ISIC, denominação ISIC, código CNAE, denominação CNAE, CNAE2d, ISIC2d]\n",
       "Index: []"
      ]
     },
     "execution_count": 24,
     "metadata": {},
     "output_type": "execute_result"
    }
   ],
   "source": [
    "mapeamento_isic.query('`código ISIC`.isin([\"2220\",\"2219\",\"1629\",\"2011\"])')"
   ]
  },
  {
   "cell_type": "markdown",
   "id": "ead853b5",
   "metadata": {},
   "source": [
    "## Decidiu-se por usar os dois primeiros dígitos do ISIC como aproximação da CNAE"
   ]
  },
  {
   "cell_type": "code",
   "execution_count": 26,
   "id": "574cd783",
   "metadata": {},
   "outputs": [],
   "source": [
    "exportacoes = exportacoes.query('`R$ FOB USA` > 0')"
   ]
  },
  {
   "cell_type": "code",
   "execution_count": 27,
   "id": "97f67cf5",
   "metadata": {},
   "outputs": [],
   "source": [
    "exportacoes = ncm[['CO_SH6','CO_ISIC_CLASSE']].drop_duplicates().merge(exportacoes, left_on='CO_SH6', right_on='SH6', how='inner')"
   ]
  },
  {
   "cell_type": "code",
   "execution_count": 28,
   "id": "725e5d54",
   "metadata": {},
   "outputs": [],
   "source": [
    "exportacoes['CNAE2s'] = exportacoes['CO_ISIC_CLASSE'].str[0:2]"
   ]
  },
  {
   "cell_type": "code",
   "execution_count": 29,
   "id": "cd184b1d",
   "metadata": {},
   "outputs": [
    {
     "data": {
      "application/vnd.microsoft.datawrangler.viewer.v0+json": {
       "columns": [
        {
         "name": "index",
         "rawType": "int64",
         "type": "integer"
        },
        {
         "name": "CO_SH6",
         "rawType": "object",
         "type": "string"
        },
        {
         "name": "CO_ISIC_CLASSE",
         "rawType": "object",
         "type": "string"
        },
        {
         "name": "R$ FOB Mundo",
         "rawType": "float64",
         "type": "float"
        },
        {
         "name": "R$ FOB USA",
         "rawType": "float64",
         "type": "float"
        },
        {
         "name": "participacao_usa",
         "rawType": "float64",
         "type": "float"
        },
        {
         "name": "CNAE2s",
         "rawType": "object",
         "type": "string"
        }
       ],
       "ref": "b4c1f364-0d7b-4119-9f55-e08a12e363de",
       "rows": [
        [
         "0",
         "490110",
         "5811",
         "6996257.7299999995",
         "701988.21",
         "0.10033767152257268",
         "58"
        ],
        [
         "1",
         "490191",
         "5811",
         "2892376.4099999997",
         "73713.64",
         "0.02548549343202533",
         "58"
        ]
       ],
       "shape": {
        "columns": 6,
        "rows": 2
       }
      },
      "text/html": [
       "<div>\n",
       "<style scoped>\n",
       "    .dataframe tbody tr th:only-of-type {\n",
       "        vertical-align: middle;\n",
       "    }\n",
       "\n",
       "    .dataframe tbody tr th {\n",
       "        vertical-align: top;\n",
       "    }\n",
       "\n",
       "    .dataframe thead th {\n",
       "        text-align: right;\n",
       "    }\n",
       "</style>\n",
       "<table border=\"1\" class=\"dataframe\">\n",
       "  <thead>\n",
       "    <tr style=\"text-align: right;\">\n",
       "      <th></th>\n",
       "      <th>CO_SH6</th>\n",
       "      <th>CO_ISIC_CLASSE</th>\n",
       "      <th>R$ FOB Mundo</th>\n",
       "      <th>R$ FOB USA</th>\n",
       "      <th>participacao_usa</th>\n",
       "      <th>CNAE2s</th>\n",
       "    </tr>\n",
       "  </thead>\n",
       "  <tbody>\n",
       "    <tr>\n",
       "      <th>0</th>\n",
       "      <td>490110</td>\n",
       "      <td>5811</td>\n",
       "      <td>6996257.73</td>\n",
       "      <td>701988.21</td>\n",
       "      <td>0.100338</td>\n",
       "      <td>58</td>\n",
       "    </tr>\n",
       "    <tr>\n",
       "      <th>1</th>\n",
       "      <td>490191</td>\n",
       "      <td>5811</td>\n",
       "      <td>2892376.41</td>\n",
       "      <td>73713.64</td>\n",
       "      <td>0.025485</td>\n",
       "      <td>58</td>\n",
       "    </tr>\n",
       "  </tbody>\n",
       "</table>\n",
       "</div>"
      ],
      "text/plain": [
       "   CO_SH6 CO_ISIC_CLASSE  R$ FOB Mundo  R$ FOB USA  participacao_usa CNAE2s\n",
       "0  490110           5811    6996257.73   701988.21          0.100338     58\n",
       "1  490191           5811    2892376.41    73713.64          0.025485     58"
      ]
     },
     "execution_count": 29,
     "metadata": {},
     "output_type": "execute_result"
    }
   ],
   "source": [
    "exportacoes.head(2)"
   ]
  },
  {
   "cell_type": "markdown",
   "id": "0c5dccf3",
   "metadata": {},
   "source": [
    "## Carregar dados da PIA Empresa"
   ]
  },
  {
   "cell_type": "code",
   "execution_count": 97,
   "id": "1a616b61",
   "metadata": {},
   "outputs": [],
   "source": [
    "url_pia_empresa = 'https://apisidra.ibge.gov.br/values/t/1842/n1/all/v/824,825/p/last%201/c12762/all'\n",
    "\n",
    "data = requests.get(url_pia_empresa)\n",
    "data = data.json()\n",
    "pia_empresa_rlv = pd.DataFrame(data, columns=data[0])\n"
   ]
  },
  {
   "cell_type": "code",
   "execution_count": 98,
   "id": "0f36f63a",
   "metadata": {},
   "outputs": [],
   "source": [
    "pia_empresa_rlv.columns = pia_empresa_rlv.iloc[0]\n",
    "pia_empresa_rlv = pia_empresa_rlv[1:]\n"
   ]
  },
  {
   "cell_type": "code",
   "execution_count": 99,
   "id": "9771f47b",
   "metadata": {},
   "outputs": [
    {
     "data": {
      "application/vnd.microsoft.datawrangler.viewer.v0+json": {
       "columns": [
        {
         "name": "index",
         "rawType": "int64",
         "type": "integer"
        },
        {
         "name": "Nível Territorial (Código)",
         "rawType": "object",
         "type": "string"
        },
        {
         "name": "Nível Territorial",
         "rawType": "object",
         "type": "string"
        },
        {
         "name": "Unidade de Medida (Código)",
         "rawType": "object",
         "type": "string"
        },
        {
         "name": "Unidade de Medida",
         "rawType": "object",
         "type": "string"
        },
        {
         "name": "Valor",
         "rawType": "object",
         "type": "string"
        },
        {
         "name": "Brasil (Código)",
         "rawType": "object",
         "type": "string"
        },
        {
         "name": "Brasil",
         "rawType": "object",
         "type": "string"
        },
        {
         "name": "Variável (Código)",
         "rawType": "object",
         "type": "string"
        },
        {
         "name": "Variável",
         "rawType": "object",
         "type": "string"
        },
        {
         "name": "Ano (Código)",
         "rawType": "object",
         "type": "string"
        },
        {
         "name": "Ano",
         "rawType": "object",
         "type": "string"
        },
        {
         "name": "Classificação Nacional de Atividades Econômicas (CNAE 2.0) (Código)",
         "rawType": "object",
         "type": "string"
        },
        {
         "name": "Classificação Nacional de Atividades Econômicas (CNAE 2.0)",
         "rawType": "object",
         "type": "string"
        }
       ],
       "ref": "f477671a-f4a3-45c7-aaaa-bcebebe6f552",
       "rows": [
        [
         "1",
         "1",
         "Brasil",
         "40",
         "Mil Reais",
         "6353568639",
         "1",
         "Brasil",
         "824",
         "Total da receita líquida de vendas",
         "2023",
         "2023",
         "117897",
         "Total"
        ],
        [
         "2",
         "1",
         "Brasil",
         "40",
         "Mil Reais",
         "456258347",
         "1",
         "Brasil",
         "824",
         "Total da receita líquida de vendas",
         "2023",
         "2023",
         "116880",
         "B Indústrias extrativas"
        ]
       ],
       "shape": {
        "columns": 13,
        "rows": 2
       }
      },
      "text/html": [
       "<div>\n",
       "<style scoped>\n",
       "    .dataframe tbody tr th:only-of-type {\n",
       "        vertical-align: middle;\n",
       "    }\n",
       "\n",
       "    .dataframe tbody tr th {\n",
       "        vertical-align: top;\n",
       "    }\n",
       "\n",
       "    .dataframe thead th {\n",
       "        text-align: right;\n",
       "    }\n",
       "</style>\n",
       "<table border=\"1\" class=\"dataframe\">\n",
       "  <thead>\n",
       "    <tr style=\"text-align: right;\">\n",
       "      <th></th>\n",
       "      <th>Nível Territorial (Código)</th>\n",
       "      <th>Nível Territorial</th>\n",
       "      <th>Unidade de Medida (Código)</th>\n",
       "      <th>Unidade de Medida</th>\n",
       "      <th>Valor</th>\n",
       "      <th>Brasil (Código)</th>\n",
       "      <th>Brasil</th>\n",
       "      <th>Variável (Código)</th>\n",
       "      <th>Variável</th>\n",
       "      <th>Ano (Código)</th>\n",
       "      <th>Ano</th>\n",
       "      <th>Classificação Nacional de Atividades Econômicas (CNAE 2.0) (Código)</th>\n",
       "      <th>Classificação Nacional de Atividades Econômicas (CNAE 2.0)</th>\n",
       "    </tr>\n",
       "  </thead>\n",
       "  <tbody>\n",
       "    <tr>\n",
       "      <th>1</th>\n",
       "      <td>1</td>\n",
       "      <td>Brasil</td>\n",
       "      <td>40</td>\n",
       "      <td>Mil Reais</td>\n",
       "      <td>6353568639</td>\n",
       "      <td>1</td>\n",
       "      <td>Brasil</td>\n",
       "      <td>824</td>\n",
       "      <td>Total da receita líquida de vendas</td>\n",
       "      <td>2023</td>\n",
       "      <td>2023</td>\n",
       "      <td>117897</td>\n",
       "      <td>Total</td>\n",
       "    </tr>\n",
       "    <tr>\n",
       "      <th>2</th>\n",
       "      <td>1</td>\n",
       "      <td>Brasil</td>\n",
       "      <td>40</td>\n",
       "      <td>Mil Reais</td>\n",
       "      <td>456258347</td>\n",
       "      <td>1</td>\n",
       "      <td>Brasil</td>\n",
       "      <td>824</td>\n",
       "      <td>Total da receita líquida de vendas</td>\n",
       "      <td>2023</td>\n",
       "      <td>2023</td>\n",
       "      <td>116880</td>\n",
       "      <td>B Indústrias extrativas</td>\n",
       "    </tr>\n",
       "  </tbody>\n",
       "</table>\n",
       "</div>"
      ],
      "text/plain": [
       "0 Nível Territorial (Código) Nível Territorial Unidade de Medida (Código)  \\\n",
       "1                          1            Brasil                         40   \n",
       "2                          1            Brasil                         40   \n",
       "\n",
       "0 Unidade de Medida       Valor Brasil (Código)  Brasil Variável (Código)  \\\n",
       "1         Mil Reais  6353568639               1  Brasil               824   \n",
       "2         Mil Reais   456258347               1  Brasil               824   \n",
       "\n",
       "0                            Variável Ano (Código)   Ano  \\\n",
       "1  Total da receita líquida de vendas         2023  2023   \n",
       "2  Total da receita líquida de vendas         2023  2023   \n",
       "\n",
       "0 Classificação Nacional de Atividades Econômicas (CNAE 2.0) (Código)  \\\n",
       "1                                             117897                    \n",
       "2                                             116880                    \n",
       "\n",
       "0 Classificação Nacional de Atividades Econômicas (CNAE 2.0)  \n",
       "1                                              Total          \n",
       "2                            B Indústrias extrativas          "
      ]
     },
     "execution_count": 99,
     "metadata": {},
     "output_type": "execute_result"
    }
   ],
   "source": [
    "pia_empresa_rlv.head(2)\n"
   ]
  },
  {
   "cell_type": "code",
   "execution_count": 100,
   "id": "80a23977",
   "metadata": {},
   "outputs": [
    {
     "data": {
      "application/vnd.microsoft.datawrangler.viewer.v0+json": {
       "columns": [
        {
         "name": "index",
         "rawType": "int64",
         "type": "integer"
        },
        {
         "name": "código ISIC",
         "rawType": "object",
         "type": "string"
        },
        {
         "name": "denominação ISIC",
         "rawType": "object",
         "type": "string"
        },
        {
         "name": "código CNAE",
         "rawType": "object",
         "type": "string"
        },
        {
         "name": "denominação CNAE",
         "rawType": "object",
         "type": "string"
        },
        {
         "name": "CNAE2d",
         "rawType": "object",
         "type": "string"
        },
        {
         "name": "ISIC2d",
         "rawType": "object",
         "type": "string"
        },
        {
         "name": "cnae",
         "rawType": "object",
         "type": "string"
        }
       ],
       "ref": "953b63c9-8ec2-4da6-960d-ba19ab801199",
       "rows": [
        [
         "2",
         "011",
         "Cultivo de plantas no perenes",
         "01.1",
         "Produção de lavouras temporárias",
         "01",
         "01",
         "011"
        ],
        [
         "3",
         "011",
         "Cultivo de plantas no perenes",
         "01.2",
         "Horticultura e floricultura",
         "01",
         "01",
         "012"
        ],
        [
         "4",
         "011",
         "Cultivo de plantas no perenes",
         "01.3",
         "Produção de lavouras permanentes",
         "01",
         "01",
         "013"
        ],
        [
         "5",
         "011",
         "Cultivo de plantas no perenes",
         "01.4",
         "Produção de sementes e mudas certificadas",
         "01",
         "01",
         "014"
        ],
        [
         "25",
         "012",
         "Cultivo de plantas perennes",
         "01.1",
         "Produção de lavouras temporárias",
         "01",
         "01",
         "011"
        ],
        [
         "26",
         "012",
         "Cultivo de plantas perennes",
         "01.2",
         "Horticultura e floricultura",
         "01",
         "01",
         "012"
        ],
        [
         "27",
         "012",
         "Cultivo de plantas perennes",
         "01.3",
         "Produção de lavouras permanentes",
         "01",
         "01",
         "013"
        ],
        [
         "28",
         "012",
         "Cultivo de plantas perennes",
         "01.4",
         "Produção de sementes e mudas certificadas",
         "01",
         "01",
         "014"
        ],
        [
         "47",
         "013",
         "Propagación de plantas",
         "01.4",
         "Produção de sementes e mudas certificadas",
         "01",
         "01",
         "014"
        ],
        [
         "49",
         "014",
         "Ganadería",
         "01.5",
         "Pecuária",
         "01",
         "01",
         "015"
        ],
        [
         "61",
         "016",
         "Actividades de apoyo a la agricultura y la ganadería y actividades poscosecha",
         "01.6",
         "Atividades de apoio à agricultura e à pecuária; atividades de pós-colheita",
         "01",
         "01",
         "016"
        ],
        [
         "66",
         "017",
         "Caza ordinaria y mediante trampas y actividades de servicios conexas",
         "01.7",
         "Caça e serviços relacionados",
         "01",
         "01",
         "017"
        ],
        [
         "69",
         "021",
         "Silvicultura y otras actividades forestales",
         "02.1",
         "Produção florestal - florestas plantadas",
         "02",
         "02",
         "021"
        ],
        [
         "70",
         "021",
         "Silvicultura y otras actividades forestales",
         "02.2",
         "Produção florestal - florestas nativas",
         "02",
         "02",
         "022"
        ],
        [
         "73",
         "022",
         "Extracción de madera",
         "02.1",
         "Produção florestal - florestas plantadas",
         "02",
         "02",
         "021"
        ],
        [
         "74",
         "022",
         "Extracción de madera",
         "02.2",
         "Produção florestal - florestas nativas",
         "02",
         "02",
         "022"
        ],
        [
         "77",
         "023",
         "Recolección de productos forestales distintos de la madera",
         "02.1",
         "Produção florestal - florestas plantadas",
         "02",
         "02",
         "021"
        ],
        [
         "78",
         "023",
         "Recolección de productos forestales distintos de la madera",
         "02.2",
         "Produção florestal - florestas nativas",
         "02",
         "02",
         "022"
        ],
        [
         "81",
         "024",
         "Servicios de apoyo a la silvicultura",
         "02.3",
         "Atividades de apoio à produção florestal",
         "02",
         "02",
         "023"
        ],
        [
         "84",
         "031",
         "Pesca",
         "03.1",
         "Pesca",
         "03",
         "03",
         "031"
        ],
        [
         "87",
         "032",
         "Acuicultura",
         "03.2",
         "Aqüicultura",
         "03",
         "03",
         "032"
        ],
        [
         "92",
         "051",
         "EXTRACCIÓN DE CARBÓN DE PIEDRA ",
         "05.0",
         "Extração de carvão mineral",
         "05",
         "05",
         "050"
        ],
        [
         "94",
         "052",
         "Extracción de lignito",
         "05.0",
         "Extração de carvão mineral",
         "05",
         "05",
         "050"
        ],
        [
         "97",
         "061",
         "Extracción de petróleo crudo",
         "06.0",
         "Extração de petróleo e gás natural",
         "06",
         "06",
         "060"
        ],
        [
         "99",
         "062",
         "Extracción de gas natural",
         "06.0",
         "Extração de petróleo e gás natural",
         "06",
         "06",
         "060"
        ],
        [
         "102",
         "071",
         "Extracción de minerales de hierro",
         "07.1",
         "Extração de minério de ferro",
         "07",
         "07",
         "071"
        ],
        [
         "104",
         "072",
         "Extracción de minerales metalíferos no ferrosos",
         "07.2",
         "Extração de minerais metálicos não-ferrosos",
         "07",
         "07",
         "072"
        ],
        [
         "112",
         "081",
         "Extracción de piedra, arena y arcilla",
         "08.1",
         "Extração de pedra, areia e argila",
         "08",
         "08",
         "081"
        ],
        [
         "114",
         "089",
         "Explotación de minas y canteras n.c.p.",
         "08.9",
         "Extração de outros minerais não-metálicos",
         "08",
         "08",
         "089"
        ],
        [
         "121",
         "091",
         "Actividades de apoyo para la extracción de petróleo y gas natural",
         "09.1",
         "Atividades de apoio à extração de petróleo e gás natural",
         "09",
         "09",
         "091"
        ],
        [
         "123",
         "099",
         "Actividades de apoyo para otras actividades de explotación de minas y canteras",
         "09.9",
         "Atividades de apoio à extração de minerais, exceto petróleo e gás natural",
         "09",
         "09",
         "099"
        ],
        [
         "127",
         "101",
         "Elaboración y conservación de carne",
         "10.1",
         "Abate e fabricação de produtos de carne",
         "10",
         "10",
         "101"
        ],
        [
         "131",
         "102",
         "Elaboración y conservación de pescado, crustáceos y moluscos",
         "10.2",
         "Preservação do pescado e fabricação de produtos do pescado",
         "10",
         "10",
         "102"
        ],
        [
         "133",
         "103",
         "Elaboración y conservación de frutas, legumbres y hortalizas",
         "10.3",
         "Fabricação de conservas de frutas, legumes e outros vegetais",
         "10",
         "10",
         "103"
        ],
        [
         "137",
         "104",
         "Elaboración de aceites y grasas de origen vegetal y animal",
         "10.4",
         "Fabricação de óleos e gorduras vegetais e animais",
         "10",
         "10",
         "104"
        ],
        [
         "141",
         "105",
         "Elaboración de productos lácteos",
         "10.5",
         "Laticínios",
         "10",
         "10",
         "105"
        ],
        [
         "145",
         "106",
         "Elaboración de productos de molinería, almidones y productos derivados del almidón",
         "10.6",
         "Moagem, fabricação de produtos amiláceos e de alimentos para animais",
         "10",
         "10",
         "106"
        ],
        [
         "152",
         "107",
         "Elaboración de otros productos alimenticios",
         "10.7",
         "Fabricação e refino de açúcar",
         "10",
         "10",
         "107"
        ],
        [
         "153",
         "107",
         "Elaboración de otros productos alimenticios",
         "10.8",
         "Torrefação e moagem de café",
         "10",
         "10",
         "108"
        ],
        [
         "154",
         "107",
         "Elaboración de otros productos alimenticios",
         "10.9",
         "Fabricação de outros produtos alimentícios",
         "10",
         "10",
         "109"
        ],
        [
         "166",
         "108",
         "Elaboración de piensos preparados para animales",
         "10.6",
         "Moagem, fabricação de produtos amiláceos e de alimentos para animais",
         "10",
         "10",
         "106"
        ],
        [
         "169",
         "110",
         "Elaboración de bebidas",
         "11.1",
         "Fabricação de bebidas alcoólicas",
         "11",
         "11",
         "111"
        ],
        [
         "170",
         "110",
         "Elaboración de bebidas",
         "11.2",
         "Fabricação de bebidas não-alcoólicas",
         "11",
         "11",
         "112"
        ],
        [
         "177",
         "120",
         "Elaboración de productos de tabaco",
         "12.1",
         "Processamento industrial do fumo",
         "12",
         "12",
         "121"
        ],
        [
         "178",
         "120",
         "Elaboración de productos de tabaco",
         "12.2",
         "Fabricação de produtos do fumo",
         "12",
         "12",
         "122"
        ],
        [
         "182",
         "131",
         "Hilatura, tejedura y acabado de productos textiles",
         "13.1",
         "Preparação e fiação de fibras têxteis",
         "13",
         "13",
         "131"
        ],
        [
         "183",
         "131",
         "Hilatura, tejedura y acabado de productos textiles",
         "13.2",
         "Tecelagem, exceto malha",
         "13",
         "13",
         "132"
        ],
        [
         "184",
         "131",
         "Hilatura, tejedura y acabado de productos textiles",
         "13.4",
         "Acabamentos em fios, tecidos e artefatos têxteis",
         "13",
         "13",
         "134"
        ],
        [
         "193",
         "139",
         "Fabricación de otros productos textiles",
         "13.3",
         "Fabricação de tecidos de malha",
         "13",
         "13",
         "133"
        ],
        [
         "194",
         "139",
         "Fabricación de otros productos textiles",
         "13.5",
         "Fabricação de artefatos têxteis, exceto vestuário",
         "13",
         "13",
         "135"
        ]
       ],
       "shape": {
        "columns": 7,
        "rows": 322
       }
      },
      "text/html": [
       "<div>\n",
       "<style scoped>\n",
       "    .dataframe tbody tr th:only-of-type {\n",
       "        vertical-align: middle;\n",
       "    }\n",
       "\n",
       "    .dataframe tbody tr th {\n",
       "        vertical-align: top;\n",
       "    }\n",
       "\n",
       "    .dataframe thead th {\n",
       "        text-align: right;\n",
       "    }\n",
       "</style>\n",
       "<table border=\"1\" class=\"dataframe\">\n",
       "  <thead>\n",
       "    <tr style=\"text-align: right;\">\n",
       "      <th></th>\n",
       "      <th>código ISIC</th>\n",
       "      <th>denominação ISIC</th>\n",
       "      <th>código CNAE</th>\n",
       "      <th>denominação CNAE</th>\n",
       "      <th>CNAE2d</th>\n",
       "      <th>ISIC2d</th>\n",
       "      <th>cnae</th>\n",
       "    </tr>\n",
       "  </thead>\n",
       "  <tbody>\n",
       "    <tr>\n",
       "      <th>2</th>\n",
       "      <td>011</td>\n",
       "      <td>Cultivo de plantas no perenes</td>\n",
       "      <td>01.1</td>\n",
       "      <td>Produção de lavouras temporárias</td>\n",
       "      <td>01</td>\n",
       "      <td>01</td>\n",
       "      <td>011</td>\n",
       "    </tr>\n",
       "    <tr>\n",
       "      <th>3</th>\n",
       "      <td>011</td>\n",
       "      <td>Cultivo de plantas no perenes</td>\n",
       "      <td>01.2</td>\n",
       "      <td>Horticultura e floricultura</td>\n",
       "      <td>01</td>\n",
       "      <td>01</td>\n",
       "      <td>012</td>\n",
       "    </tr>\n",
       "    <tr>\n",
       "      <th>4</th>\n",
       "      <td>011</td>\n",
       "      <td>Cultivo de plantas no perenes</td>\n",
       "      <td>01.3</td>\n",
       "      <td>Produção de lavouras permanentes</td>\n",
       "      <td>01</td>\n",
       "      <td>01</td>\n",
       "      <td>013</td>\n",
       "    </tr>\n",
       "    <tr>\n",
       "      <th>5</th>\n",
       "      <td>011</td>\n",
       "      <td>Cultivo de plantas no perenes</td>\n",
       "      <td>01.4</td>\n",
       "      <td>Produção de sementes e mudas certificadas</td>\n",
       "      <td>01</td>\n",
       "      <td>01</td>\n",
       "      <td>014</td>\n",
       "    </tr>\n",
       "    <tr>\n",
       "      <th>25</th>\n",
       "      <td>012</td>\n",
       "      <td>Cultivo de plantas perennes</td>\n",
       "      <td>01.1</td>\n",
       "      <td>Produção de lavouras temporárias</td>\n",
       "      <td>01</td>\n",
       "      <td>01</td>\n",
       "      <td>011</td>\n",
       "    </tr>\n",
       "    <tr>\n",
       "      <th>...</th>\n",
       "      <td>...</td>\n",
       "      <td>...</td>\n",
       "      <td>...</td>\n",
       "      <td>...</td>\n",
       "      <td>...</td>\n",
       "      <td>...</td>\n",
       "      <td>...</td>\n",
       "    </tr>\n",
       "    <tr>\n",
       "      <th>1161</th>\n",
       "      <td>951</td>\n",
       "      <td>Reparación de ordenadores y equipo de comunica...</td>\n",
       "      <td>95.1</td>\n",
       "      <td>Reparação e manutenção de equipamentos de info...</td>\n",
       "      <td>95</td>\n",
       "      <td>95</td>\n",
       "      <td>951</td>\n",
       "    </tr>\n",
       "    <tr>\n",
       "      <th>1164</th>\n",
       "      <td>952</td>\n",
       "      <td>Reparación de efectos personales y enseres dom...</td>\n",
       "      <td>95.2</td>\n",
       "      <td>Reparação e manutenção de objetos e equipament...</td>\n",
       "      <td>95</td>\n",
       "      <td>95</td>\n",
       "      <td>952</td>\n",
       "    </tr>\n",
       "    <tr>\n",
       "      <th>1171</th>\n",
       "      <td>960</td>\n",
       "      <td>Otras actividades de servicios personales</td>\n",
       "      <td>96.0</td>\n",
       "      <td>Outras atividades de serviços pessoais</td>\n",
       "      <td>96</td>\n",
       "      <td>96</td>\n",
       "      <td>960</td>\n",
       "    </tr>\n",
       "    <tr>\n",
       "      <th>1178</th>\n",
       "      <td>970</td>\n",
       "      <td>Actividades de los hogares como empleadores de...</td>\n",
       "      <td>97.0</td>\n",
       "      <td>Serviços domésticos</td>\n",
       "      <td>97</td>\n",
       "      <td>97</td>\n",
       "      <td>970</td>\n",
       "    </tr>\n",
       "    <tr>\n",
       "      <th>1187</th>\n",
       "      <td>990</td>\n",
       "      <td>Actividades de organizaciones y órganos extrat...</td>\n",
       "      <td>99.0</td>\n",
       "      <td>Organismos internacionais e outras instituiçõe...</td>\n",
       "      <td>99</td>\n",
       "      <td>99</td>\n",
       "      <td>990</td>\n",
       "    </tr>\n",
       "  </tbody>\n",
       "</table>\n",
       "<p>322 rows × 7 columns</p>\n",
       "</div>"
      ],
      "text/plain": [
       "     código ISIC                                   denominação ISIC  \\\n",
       "2            011                      Cultivo de plantas no perenes   \n",
       "3            011                      Cultivo de plantas no perenes   \n",
       "4            011                      Cultivo de plantas no perenes   \n",
       "5            011                      Cultivo de plantas no perenes   \n",
       "25           012                        Cultivo de plantas perennes   \n",
       "...          ...                                                ...   \n",
       "1161         951  Reparación de ordenadores y equipo de comunica...   \n",
       "1164         952  Reparación de efectos personales y enseres dom...   \n",
       "1171         960          Otras actividades de servicios personales   \n",
       "1178         970  Actividades de los hogares como empleadores de...   \n",
       "1187         990  Actividades de organizaciones y órganos extrat...   \n",
       "\n",
       "     código CNAE                                   denominação CNAE CNAE2d  \\\n",
       "2           01.1                   Produção de lavouras temporárias     01   \n",
       "3           01.2                        Horticultura e floricultura     01   \n",
       "4           01.3                   Produção de lavouras permanentes     01   \n",
       "5           01.4          Produção de sementes e mudas certificadas     01   \n",
       "25          01.1                   Produção de lavouras temporárias     01   \n",
       "...          ...                                                ...    ...   \n",
       "1161        95.1  Reparação e manutenção de equipamentos de info...     95   \n",
       "1164        95.2  Reparação e manutenção de objetos e equipament...     95   \n",
       "1171        96.0             Outras atividades de serviços pessoais     96   \n",
       "1178        97.0                                Serviços domésticos     97   \n",
       "1187        99.0  Organismos internacionais e outras instituiçõe...     99   \n",
       "\n",
       "     ISIC2d cnae  \n",
       "2        01  011  \n",
       "3        01  012  \n",
       "4        01  013  \n",
       "5        01  014  \n",
       "25       01  011  \n",
       "...     ...  ...  \n",
       "1161     95  951  \n",
       "1164     95  952  \n",
       "1171     96  960  \n",
       "1178     97  970  \n",
       "1187     99  990  \n",
       "\n",
       "[322 rows x 7 columns]"
      ]
     },
     "execution_count": 100,
     "metadata": {},
     "output_type": "execute_result"
    }
   ],
   "source": [
    "mapeamento_isic"
   ]
  },
  {
   "cell_type": "code",
   "execution_count": 101,
   "id": "ac59c4e7",
   "metadata": {},
   "outputs": [],
   "source": [
    "##Filtrar apenas registros cujos valores da coluna 'Classificação Nacional de Atividades Econômicas (CNAE 2.0)' siga o padrão \\d{2}\\.\\d{1} \n",
    "pia_empresa_rlv_2d = pia_empresa_rlv[pia_empresa_rlv['Classificação Nacional de Atividades Econômicas (CNAE 2.0)'].str.match(r'^\\d{2} ')]\n",
    "pia_empresa_rlv_3d = pia_empresa_rlv[pia_empresa_rlv['Classificação Nacional de Atividades Econômicas (CNAE 2.0)'].str.match(r'^\\d{2}\\.\\d{1} ')]    "
   ]
  },
  {
   "cell_type": "code",
   "execution_count": 102,
   "id": "7cbc42d5",
   "metadata": {},
   "outputs": [
    {
     "data": {
      "application/vnd.microsoft.datawrangler.viewer.v0+json": {
       "columns": [
        {
         "name": "index",
         "rawType": "int64",
         "type": "integer"
        },
        {
         "name": "Nível Territorial (Código)",
         "rawType": "object",
         "type": "string"
        },
        {
         "name": "Nível Territorial",
         "rawType": "object",
         "type": "string"
        },
        {
         "name": "Unidade de Medida (Código)",
         "rawType": "object",
         "type": "string"
        },
        {
         "name": "Unidade de Medida",
         "rawType": "object",
         "type": "string"
        },
        {
         "name": "Valor",
         "rawType": "object",
         "type": "string"
        },
        {
         "name": "Brasil (Código)",
         "rawType": "object",
         "type": "string"
        },
        {
         "name": "Brasil",
         "rawType": "object",
         "type": "string"
        },
        {
         "name": "Variável (Código)",
         "rawType": "object",
         "type": "string"
        },
        {
         "name": "Variável",
         "rawType": "object",
         "type": "string"
        },
        {
         "name": "Ano (Código)",
         "rawType": "object",
         "type": "string"
        },
        {
         "name": "Ano",
         "rawType": "object",
         "type": "string"
        },
        {
         "name": "Classificação Nacional de Atividades Econômicas (CNAE 2.0) (Código)",
         "rawType": "object",
         "type": "string"
        },
        {
         "name": "Classificação Nacional de Atividades Econômicas (CNAE 2.0)",
         "rawType": "object",
         "type": "string"
        }
       ],
       "ref": "c14da619-fb38-4d76-b18d-a4f30a3c5f16",
       "rows": [
        [
         "4",
         "1",
         "Brasil",
         "40",
         "Mil Reais",
         "1941673",
         "1",
         "Brasil",
         "824",
         "Total da receita líquida de vendas",
         "2023",
         "2023",
         "116882",
         "05.0 Extração de carvão mineral"
        ],
        [
         "6",
         "1",
         "Brasil",
         "40",
         "Mil Reais",
         "163281926",
         "1",
         "Brasil",
         "824",
         "Total da receita líquida de vendas",
         "2023",
         "2023",
         "116885",
         "06.0 Extração de petróleo e gás natural"
        ]
       ],
       "shape": {
        "columns": 13,
        "rows": 2
       }
      },
      "text/html": [
       "<div>\n",
       "<style scoped>\n",
       "    .dataframe tbody tr th:only-of-type {\n",
       "        vertical-align: middle;\n",
       "    }\n",
       "\n",
       "    .dataframe tbody tr th {\n",
       "        vertical-align: top;\n",
       "    }\n",
       "\n",
       "    .dataframe thead th {\n",
       "        text-align: right;\n",
       "    }\n",
       "</style>\n",
       "<table border=\"1\" class=\"dataframe\">\n",
       "  <thead>\n",
       "    <tr style=\"text-align: right;\">\n",
       "      <th></th>\n",
       "      <th>Nível Territorial (Código)</th>\n",
       "      <th>Nível Territorial</th>\n",
       "      <th>Unidade de Medida (Código)</th>\n",
       "      <th>Unidade de Medida</th>\n",
       "      <th>Valor</th>\n",
       "      <th>Brasil (Código)</th>\n",
       "      <th>Brasil</th>\n",
       "      <th>Variável (Código)</th>\n",
       "      <th>Variável</th>\n",
       "      <th>Ano (Código)</th>\n",
       "      <th>Ano</th>\n",
       "      <th>Classificação Nacional de Atividades Econômicas (CNAE 2.0) (Código)</th>\n",
       "      <th>Classificação Nacional de Atividades Econômicas (CNAE 2.0)</th>\n",
       "    </tr>\n",
       "  </thead>\n",
       "  <tbody>\n",
       "    <tr>\n",
       "      <th>4</th>\n",
       "      <td>1</td>\n",
       "      <td>Brasil</td>\n",
       "      <td>40</td>\n",
       "      <td>Mil Reais</td>\n",
       "      <td>1941673</td>\n",
       "      <td>1</td>\n",
       "      <td>Brasil</td>\n",
       "      <td>824</td>\n",
       "      <td>Total da receita líquida de vendas</td>\n",
       "      <td>2023</td>\n",
       "      <td>2023</td>\n",
       "      <td>116882</td>\n",
       "      <td>05.0 Extração de carvão mineral</td>\n",
       "    </tr>\n",
       "    <tr>\n",
       "      <th>6</th>\n",
       "      <td>1</td>\n",
       "      <td>Brasil</td>\n",
       "      <td>40</td>\n",
       "      <td>Mil Reais</td>\n",
       "      <td>163281926</td>\n",
       "      <td>1</td>\n",
       "      <td>Brasil</td>\n",
       "      <td>824</td>\n",
       "      <td>Total da receita líquida de vendas</td>\n",
       "      <td>2023</td>\n",
       "      <td>2023</td>\n",
       "      <td>116885</td>\n",
       "      <td>06.0 Extração de petróleo e gás natural</td>\n",
       "    </tr>\n",
       "  </tbody>\n",
       "</table>\n",
       "</div>"
      ],
      "text/plain": [
       "0 Nível Territorial (Código) Nível Territorial Unidade de Medida (Código)  \\\n",
       "4                          1            Brasil                         40   \n",
       "6                          1            Brasil                         40   \n",
       "\n",
       "0 Unidade de Medida      Valor Brasil (Código)  Brasil Variável (Código)  \\\n",
       "4         Mil Reais    1941673               1  Brasil               824   \n",
       "6         Mil Reais  163281926               1  Brasil               824   \n",
       "\n",
       "0                            Variável Ano (Código)   Ano  \\\n",
       "4  Total da receita líquida de vendas         2023  2023   \n",
       "6  Total da receita líquida de vendas         2023  2023   \n",
       "\n",
       "0 Classificação Nacional de Atividades Econômicas (CNAE 2.0) (Código)  \\\n",
       "4                                             116882                    \n",
       "6                                             116885                    \n",
       "\n",
       "0 Classificação Nacional de Atividades Econômicas (CNAE 2.0)  \n",
       "4                    05.0 Extração de carvão mineral          \n",
       "6            06.0 Extração de petróleo e gás natural          "
      ]
     },
     "execution_count": 102,
     "metadata": {},
     "output_type": "execute_result"
    }
   ],
   "source": [
    "pia_empresa_rlv_3d.head(2)"
   ]
  },
  {
   "cell_type": "code",
   "execution_count": 103,
   "id": "80d7bcdb",
   "metadata": {},
   "outputs": [
    {
     "name": "stderr",
     "output_type": "stream",
     "text": [
      "/tmp/ipykernel_5306/1836566463.py:1: SettingWithCopyWarning: \n",
      "A value is trying to be set on a copy of a slice from a DataFrame.\n",
      "Try using .loc[row_indexer,col_indexer] = value instead\n",
      "\n",
      "See the caveats in the documentation: https://pandas.pydata.org/pandas-docs/stable/user_guide/indexing.html#returning-a-view-versus-a-copy\n",
      "  pia_empresa_rlv_2d['cnae'] = pia_empresa_rlv['Classificação Nacional de Atividades Econômicas (CNAE 2.0)'].str[0:2].str.replace('.','', regex=False)\n",
      "/tmp/ipykernel_5306/1836566463.py:2: SettingWithCopyWarning: \n",
      "A value is trying to be set on a copy of a slice from a DataFrame.\n",
      "Try using .loc[row_indexer,col_indexer] = value instead\n",
      "\n",
      "See the caveats in the documentation: https://pandas.pydata.org/pandas-docs/stable/user_guide/indexing.html#returning-a-view-versus-a-copy\n",
      "  pia_empresa_rlv_2d['cnae_descricao'] = pia_empresa_rlv['Classificação Nacional de Atividades Econômicas (CNAE 2.0)'].str[3:]\n"
     ]
    },
    {
     "data": {
      "application/vnd.microsoft.datawrangler.viewer.v0+json": {
       "columns": [
        {
         "name": "index",
         "rawType": "int64",
         "type": "integer"
        },
        {
         "name": "Nível Territorial (Código)",
         "rawType": "object",
         "type": "string"
        },
        {
         "name": "Nível Territorial",
         "rawType": "object",
         "type": "string"
        },
        {
         "name": "Unidade de Medida (Código)",
         "rawType": "object",
         "type": "string"
        },
        {
         "name": "Unidade de Medida",
         "rawType": "object",
         "type": "string"
        },
        {
         "name": "Valor",
         "rawType": "object",
         "type": "string"
        },
        {
         "name": "Brasil (Código)",
         "rawType": "object",
         "type": "string"
        },
        {
         "name": "Brasil",
         "rawType": "object",
         "type": "string"
        },
        {
         "name": "Variável (Código)",
         "rawType": "object",
         "type": "string"
        },
        {
         "name": "Variável",
         "rawType": "object",
         "type": "string"
        },
        {
         "name": "Ano (Código)",
         "rawType": "object",
         "type": "string"
        },
        {
         "name": "Ano",
         "rawType": "object",
         "type": "string"
        },
        {
         "name": "Classificação Nacional de Atividades Econômicas (CNAE 2.0) (Código)",
         "rawType": "object",
         "type": "string"
        },
        {
         "name": "Classificação Nacional de Atividades Econômicas (CNAE 2.0)",
         "rawType": "object",
         "type": "string"
        },
        {
         "name": "cnae",
         "rawType": "object",
         "type": "string"
        },
        {
         "name": "cnae_descricao",
         "rawType": "object",
         "type": "string"
        }
       ],
       "ref": "8e347fd3-8d95-4b60-9016-0d21a5758ad3",
       "rows": [
        [
         "3",
         "1",
         "Brasil",
         "40",
         "Mil Reais",
         "1941673",
         "1",
         "Brasil",
         "824",
         "Total da receita líquida de vendas",
         "2023",
         "2023",
         "116881",
         "05 Extração de carvão mineral",
         "05",
         "Extração de carvão mineral"
        ],
        [
         "5",
         "1",
         "Brasil",
         "40",
         "Mil Reais",
         "163281926",
         "1",
         "Brasil",
         "824",
         "Total da receita líquida de vendas",
         "2023",
         "2023",
         "116884",
         "06 Extração de petróleo e gás natural",
         "06",
         "Extração de petróleo e gás natural"
        ]
       ],
       "shape": {
        "columns": 15,
        "rows": 2
       }
      },
      "text/html": [
       "<div>\n",
       "<style scoped>\n",
       "    .dataframe tbody tr th:only-of-type {\n",
       "        vertical-align: middle;\n",
       "    }\n",
       "\n",
       "    .dataframe tbody tr th {\n",
       "        vertical-align: top;\n",
       "    }\n",
       "\n",
       "    .dataframe thead th {\n",
       "        text-align: right;\n",
       "    }\n",
       "</style>\n",
       "<table border=\"1\" class=\"dataframe\">\n",
       "  <thead>\n",
       "    <tr style=\"text-align: right;\">\n",
       "      <th></th>\n",
       "      <th>Nível Territorial (Código)</th>\n",
       "      <th>Nível Territorial</th>\n",
       "      <th>Unidade de Medida (Código)</th>\n",
       "      <th>Unidade de Medida</th>\n",
       "      <th>Valor</th>\n",
       "      <th>Brasil (Código)</th>\n",
       "      <th>Brasil</th>\n",
       "      <th>Variável (Código)</th>\n",
       "      <th>Variável</th>\n",
       "      <th>Ano (Código)</th>\n",
       "      <th>Ano</th>\n",
       "      <th>Classificação Nacional de Atividades Econômicas (CNAE 2.0) (Código)</th>\n",
       "      <th>Classificação Nacional de Atividades Econômicas (CNAE 2.0)</th>\n",
       "      <th>cnae</th>\n",
       "      <th>cnae_descricao</th>\n",
       "    </tr>\n",
       "  </thead>\n",
       "  <tbody>\n",
       "    <tr>\n",
       "      <th>3</th>\n",
       "      <td>1</td>\n",
       "      <td>Brasil</td>\n",
       "      <td>40</td>\n",
       "      <td>Mil Reais</td>\n",
       "      <td>1941673</td>\n",
       "      <td>1</td>\n",
       "      <td>Brasil</td>\n",
       "      <td>824</td>\n",
       "      <td>Total da receita líquida de vendas</td>\n",
       "      <td>2023</td>\n",
       "      <td>2023</td>\n",
       "      <td>116881</td>\n",
       "      <td>05 Extração de carvão mineral</td>\n",
       "      <td>05</td>\n",
       "      <td>Extração de carvão mineral</td>\n",
       "    </tr>\n",
       "    <tr>\n",
       "      <th>5</th>\n",
       "      <td>1</td>\n",
       "      <td>Brasil</td>\n",
       "      <td>40</td>\n",
       "      <td>Mil Reais</td>\n",
       "      <td>163281926</td>\n",
       "      <td>1</td>\n",
       "      <td>Brasil</td>\n",
       "      <td>824</td>\n",
       "      <td>Total da receita líquida de vendas</td>\n",
       "      <td>2023</td>\n",
       "      <td>2023</td>\n",
       "      <td>116884</td>\n",
       "      <td>06 Extração de petróleo e gás natural</td>\n",
       "      <td>06</td>\n",
       "      <td>Extração de petróleo e gás natural</td>\n",
       "    </tr>\n",
       "  </tbody>\n",
       "</table>\n",
       "</div>"
      ],
      "text/plain": [
       "0 Nível Territorial (Código) Nível Territorial Unidade de Medida (Código)  \\\n",
       "3                          1            Brasil                         40   \n",
       "5                          1            Brasil                         40   \n",
       "\n",
       "0 Unidade de Medida      Valor Brasil (Código)  Brasil Variável (Código)  \\\n",
       "3         Mil Reais    1941673               1  Brasil               824   \n",
       "5         Mil Reais  163281926               1  Brasil               824   \n",
       "\n",
       "0                            Variável Ano (Código)   Ano  \\\n",
       "3  Total da receita líquida de vendas         2023  2023   \n",
       "5  Total da receita líquida de vendas         2023  2023   \n",
       "\n",
       "0 Classificação Nacional de Atividades Econômicas (CNAE 2.0) (Código)  \\\n",
       "3                                             116881                    \n",
       "5                                             116884                    \n",
       "\n",
       "0 Classificação Nacional de Atividades Econômicas (CNAE 2.0) cnae  \\\n",
       "3                      05 Extração de carvão mineral           05   \n",
       "5              06 Extração de petróleo e gás natural           06   \n",
       "\n",
       "0                      cnae_descricao  \n",
       "3          Extração de carvão mineral  \n",
       "5  Extração de petróleo e gás natural  "
      ]
     },
     "execution_count": 103,
     "metadata": {},
     "output_type": "execute_result"
    }
   ],
   "source": [
    "pia_empresa_rlv_2d['cnae'] = pia_empresa_rlv['Classificação Nacional de Atividades Econômicas (CNAE 2.0)'].str[0:2].str.replace('.','', regex=False)\n",
    "pia_empresa_rlv_2d['cnae_descricao'] = pia_empresa_rlv['Classificação Nacional de Atividades Econômicas (CNAE 2.0)'].str[3:]\n",
    "\n",
    "pia_empresa_rlv_2d.head(2)\n",
    "\n"
   ]
  },
  {
   "cell_type": "code",
   "execution_count": 104,
   "id": "ce6e1d30",
   "metadata": {},
   "outputs": [
    {
     "name": "stderr",
     "output_type": "stream",
     "text": [
      "/tmp/ipykernel_5306/1737546974.py:1: SettingWithCopyWarning: \n",
      "A value is trying to be set on a copy of a slice from a DataFrame.\n",
      "Try using .loc[row_indexer,col_indexer] = value instead\n",
      "\n",
      "See the caveats in the documentation: https://pandas.pydata.org/pandas-docs/stable/user_guide/indexing.html#returning-a-view-versus-a-copy\n",
      "  pia_empresa_rlv_3d['cnae'] = pia_empresa_rlv_3d['Classificação Nacional de Atividades Econômicas (CNAE 2.0)'].str[0:4].str.replace('.','', regex=False)\n",
      "/tmp/ipykernel_5306/1737546974.py:2: SettingWithCopyWarning: \n",
      "A value is trying to be set on a copy of a slice from a DataFrame.\n",
      "Try using .loc[row_indexer,col_indexer] = value instead\n",
      "\n",
      "See the caveats in the documentation: https://pandas.pydata.org/pandas-docs/stable/user_guide/indexing.html#returning-a-view-versus-a-copy\n",
      "  pia_empresa_rlv_3d['cnae_descricao'] = pia_empresa_rlv_3d['Classificação Nacional de Atividades Econômicas (CNAE 2.0)'].str[5:]\n"
     ]
    }
   ],
   "source": [
    "pia_empresa_rlv_3d['cnae'] = pia_empresa_rlv_3d['Classificação Nacional de Atividades Econômicas (CNAE 2.0)'].str[0:4].str.replace('.','', regex=False)\n",
    "pia_empresa_rlv_3d['cnae_descricao'] = pia_empresa_rlv_3d['Classificação Nacional de Atividades Econômicas (CNAE 2.0)'].str[5:]"
   ]
  },
  {
   "cell_type": "code",
   "execution_count": 105,
   "id": "4e666f15",
   "metadata": {},
   "outputs": [],
   "source": [
    "pia_empresa_rlv = pd.concat([pia_empresa_rlv_2d[['Variável','cnae','cnae_descricao','Valor']], pia_empresa_rlv_3d[['Variável','cnae','cnae_descricao','Valor']]], ignore_index=True)"
   ]
  },
  {
   "cell_type": "code",
   "execution_count": 106,
   "id": "915db929",
   "metadata": {},
   "outputs": [
    {
     "data": {
      "application/vnd.microsoft.datawrangler.viewer.v0+json": {
       "columns": [
        {
         "name": "index",
         "rawType": "int64",
         "type": "integer"
        },
        {
         "name": "Variável",
         "rawType": "object",
         "type": "string"
        },
        {
         "name": "cnae",
         "rawType": "object",
         "type": "string"
        },
        {
         "name": "cnae_descricao",
         "rawType": "object",
         "type": "string"
        },
        {
         "name": "Valor",
         "rawType": "object",
         "type": "string"
        }
       ],
       "ref": "f9ffd686-e651-4298-9194-e4a81ace05b6",
       "rows": [
        [
         "275",
         "Receita líquida de vendas de produtos e serviços industriais",
         "324",
         "Fabricação de brinquedos e jogos recreativos",
         "3297487"
        ],
        [
         "276",
         "Receita líquida de vendas de produtos e serviços industriais",
         "325",
         "Fabricação de instrumentos e materiais para uso médico e odontológico e de artigos ópticos",
         "20777571"
        ],
        [
         "277",
         "Receita líquida de vendas de produtos e serviços industriais",
         "329",
         "Fabricação de produtos diversos",
         "15396002"
        ],
        [
         "278",
         "Receita líquida de vendas de produtos e serviços industriais",
         "331",
         "Manutenção e reparação de máquinas e equipamentos",
         "50921841"
        ],
        [
         "279",
         "Receita líquida de vendas de produtos e serviços industriais",
         "332",
         "Instalação de máquinas e equipamentos",
         "6735735"
        ]
       ],
       "shape": {
        "columns": 4,
        "rows": 5
       }
      },
      "text/html": [
       "<div>\n",
       "<style scoped>\n",
       "    .dataframe tbody tr th:only-of-type {\n",
       "        vertical-align: middle;\n",
       "    }\n",
       "\n",
       "    .dataframe tbody tr th {\n",
       "        vertical-align: top;\n",
       "    }\n",
       "\n",
       "    .dataframe thead th {\n",
       "        text-align: right;\n",
       "    }\n",
       "</style>\n",
       "<table border=\"1\" class=\"dataframe\">\n",
       "  <thead>\n",
       "    <tr style=\"text-align: right;\">\n",
       "      <th></th>\n",
       "      <th>Variável</th>\n",
       "      <th>cnae</th>\n",
       "      <th>cnae_descricao</th>\n",
       "      <th>Valor</th>\n",
       "    </tr>\n",
       "  </thead>\n",
       "  <tbody>\n",
       "    <tr>\n",
       "      <th>275</th>\n",
       "      <td>Receita líquida de vendas de produtos e serviç...</td>\n",
       "      <td>324</td>\n",
       "      <td>Fabricação de brinquedos e jogos recreativos</td>\n",
       "      <td>3297487</td>\n",
       "    </tr>\n",
       "    <tr>\n",
       "      <th>276</th>\n",
       "      <td>Receita líquida de vendas de produtos e serviç...</td>\n",
       "      <td>325</td>\n",
       "      <td>Fabricação de instrumentos e materiais para us...</td>\n",
       "      <td>20777571</td>\n",
       "    </tr>\n",
       "    <tr>\n",
       "      <th>277</th>\n",
       "      <td>Receita líquida de vendas de produtos e serviç...</td>\n",
       "      <td>329</td>\n",
       "      <td>Fabricação de produtos diversos</td>\n",
       "      <td>15396002</td>\n",
       "    </tr>\n",
       "    <tr>\n",
       "      <th>278</th>\n",
       "      <td>Receita líquida de vendas de produtos e serviç...</td>\n",
       "      <td>331</td>\n",
       "      <td>Manutenção e reparação de máquinas e equipamentos</td>\n",
       "      <td>50921841</td>\n",
       "    </tr>\n",
       "    <tr>\n",
       "      <th>279</th>\n",
       "      <td>Receita líquida de vendas de produtos e serviç...</td>\n",
       "      <td>332</td>\n",
       "      <td>Instalação de máquinas e equipamentos</td>\n",
       "      <td>6735735</td>\n",
       "    </tr>\n",
       "  </tbody>\n",
       "</table>\n",
       "</div>"
      ],
      "text/plain": [
       "0                                             Variável cnae  \\\n",
       "275  Receita líquida de vendas de produtos e serviç...  324   \n",
       "276  Receita líquida de vendas de produtos e serviç...  325   \n",
       "277  Receita líquida de vendas de produtos e serviç...  329   \n",
       "278  Receita líquida de vendas de produtos e serviç...  331   \n",
       "279  Receita líquida de vendas de produtos e serviç...  332   \n",
       "\n",
       "0                                       cnae_descricao     Valor  \n",
       "275       Fabricação de brinquedos e jogos recreativos   3297487  \n",
       "276  Fabricação de instrumentos e materiais para us...  20777571  \n",
       "277                    Fabricação de produtos diversos  15396002  \n",
       "278  Manutenção e reparação de máquinas e equipamentos  50921841  \n",
       "279              Instalação de máquinas e equipamentos   6735735  "
      ]
     },
     "execution_count": 106,
     "metadata": {},
     "output_type": "execute_result"
    }
   ],
   "source": [
    "pia_empresa_rlv.tail()"
   ]
  },
  {
   "cell_type": "code",
   "execution_count": 107,
   "id": "d8ea1813",
   "metadata": {},
   "outputs": [],
   "source": [
    "#Linhas em que o valor da coluna 'Valor' não pode ser convertido para float, trocar por -1\n",
    "pia_empresa_rlv['Valor'] = pd.to_numeric(pia_empresa_rlv['Valor'], errors='coerce').fillna(-1)\n",
    "pia_empresa_rlv['Valor'] = pia_empresa_rlv['Valor']*1000\n",
    "#Fazer o pivot transformando a coluna 'Variável' em colunas e preenchendo com os valores da coluna 'Valor'\n",
    "pia_empresa_rlv = pia_empresa_rlv.pivot_table(index=['cnae','cnae_descricao'], columns='Variável', values='Valor')\n",
    "pia_empresa_rlv.reset_index(inplace=True)"
   ]
  },
  {
   "cell_type": "code",
   "execution_count": 108,
   "id": "722b7886",
   "metadata": {},
   "outputs": [],
   "source": [
    "mapeamento_isic['cnae'] = mapeamento_isic['código CNAE'].str.replace('.','', regex=False)"
   ]
  },
  {
   "cell_type": "code",
   "execution_count": 54,
   "id": "c9306e21",
   "metadata": {},
   "outputs": [],
   "source": [
    "exportacoes_pia = exportacoes.copy()"
   ]
  },
  {
   "cell_type": "code",
   "execution_count": 55,
   "id": "725f3660",
   "metadata": {},
   "outputs": [],
   "source": [
    "lista_codigos_isic_mapeados_multiplas_cnae_3d = pia_empresa_rlv_3d[['cnae']].drop_duplicates().merge(mapeamento_isic, on='cnae', how='left').groupby('código ISIC')[['código CNAE']].nunique().reset_index().query(\"`código CNAE` > 1\")['código ISIC'].unique().tolist()"
   ]
  },
  {
   "cell_type": "code",
   "execution_count": 56,
   "id": "bb2e9ff2",
   "metadata": {},
   "outputs": [],
   "source": [
    "#criar uma coluna 'cnae' em exportacoes_pia e fazer com que seu valor  seja igual aos 2 dígitos da coluna CO_ISIC_CLASSE, caso os 3 primeiros dígitos do código isic classe fizerem parte de lista_codigos_isic_mapeados_multiplas_cnae_3d\n",
    "# caso contrário, usar None\n",
    "exportacoes_pia['cnae'] = exportacoes_pia['CO_ISIC_CLASSE'].str[0:2].where(\n",
    "    exportacoes_pia['CO_ISIC_CLASSE'].str[0:3].isin(lista_codigos_isic_mapeados_multiplas_cnae_3d),\n",
    "    None\n",
    ")"
   ]
  },
  {
   "cell_type": "code",
   "execution_count": 57,
   "id": "72977ba2",
   "metadata": {},
   "outputs": [
    {
     "data": {
      "application/vnd.microsoft.datawrangler.viewer.v0+json": {
       "columns": [
        {
         "name": "index",
         "rawType": "int64",
         "type": "integer"
        },
        {
         "name": "código ISIC",
         "rawType": "object",
         "type": "string"
        },
        {
         "name": "denominação ISIC",
         "rawType": "object",
         "type": "string"
        },
        {
         "name": "código CNAE",
         "rawType": "object",
         "type": "string"
        },
        {
         "name": "denominação CNAE",
         "rawType": "object",
         "type": "string"
        },
        {
         "name": "CNAE2d",
         "rawType": "object",
         "type": "string"
        },
        {
         "name": "ISIC2d",
         "rawType": "object",
         "type": "string"
        },
        {
         "name": "cnae",
         "rawType": "object",
         "type": "string"
        }
       ],
       "ref": "41744000-6342-40d0-a74f-5f186c7eeaf5",
       "rows": [
        [
         "2",
         "011",
         "Cultivo de plantas no perenes",
         "01.1",
         "Produção de lavouras temporárias",
         "01",
         "01",
         "011"
        ],
        [
         "3",
         "011",
         "Cultivo de plantas no perenes",
         "01.2",
         "Horticultura e floricultura",
         "01",
         "01",
         "012"
        ],
        [
         "4",
         "011",
         "Cultivo de plantas no perenes",
         "01.3",
         "Produção de lavouras permanentes",
         "01",
         "01",
         "013"
        ],
        [
         "5",
         "011",
         "Cultivo de plantas no perenes",
         "01.4",
         "Produção de sementes e mudas certificadas",
         "01",
         "01",
         "014"
        ],
        [
         "25",
         "012",
         "Cultivo de plantas perennes",
         "01.1",
         "Produção de lavouras temporárias",
         "01",
         "01",
         "011"
        ]
       ],
       "shape": {
        "columns": 7,
        "rows": 5
       }
      },
      "text/html": [
       "<div>\n",
       "<style scoped>\n",
       "    .dataframe tbody tr th:only-of-type {\n",
       "        vertical-align: middle;\n",
       "    }\n",
       "\n",
       "    .dataframe tbody tr th {\n",
       "        vertical-align: top;\n",
       "    }\n",
       "\n",
       "    .dataframe thead th {\n",
       "        text-align: right;\n",
       "    }\n",
       "</style>\n",
       "<table border=\"1\" class=\"dataframe\">\n",
       "  <thead>\n",
       "    <tr style=\"text-align: right;\">\n",
       "      <th></th>\n",
       "      <th>código ISIC</th>\n",
       "      <th>denominação ISIC</th>\n",
       "      <th>código CNAE</th>\n",
       "      <th>denominação CNAE</th>\n",
       "      <th>CNAE2d</th>\n",
       "      <th>ISIC2d</th>\n",
       "      <th>cnae</th>\n",
       "    </tr>\n",
       "  </thead>\n",
       "  <tbody>\n",
       "    <tr>\n",
       "      <th>2</th>\n",
       "      <td>011</td>\n",
       "      <td>Cultivo de plantas no perenes</td>\n",
       "      <td>01.1</td>\n",
       "      <td>Produção de lavouras temporárias</td>\n",
       "      <td>01</td>\n",
       "      <td>01</td>\n",
       "      <td>011</td>\n",
       "    </tr>\n",
       "    <tr>\n",
       "      <th>3</th>\n",
       "      <td>011</td>\n",
       "      <td>Cultivo de plantas no perenes</td>\n",
       "      <td>01.2</td>\n",
       "      <td>Horticultura e floricultura</td>\n",
       "      <td>01</td>\n",
       "      <td>01</td>\n",
       "      <td>012</td>\n",
       "    </tr>\n",
       "    <tr>\n",
       "      <th>4</th>\n",
       "      <td>011</td>\n",
       "      <td>Cultivo de plantas no perenes</td>\n",
       "      <td>01.3</td>\n",
       "      <td>Produção de lavouras permanentes</td>\n",
       "      <td>01</td>\n",
       "      <td>01</td>\n",
       "      <td>013</td>\n",
       "    </tr>\n",
       "    <tr>\n",
       "      <th>5</th>\n",
       "      <td>011</td>\n",
       "      <td>Cultivo de plantas no perenes</td>\n",
       "      <td>01.4</td>\n",
       "      <td>Produção de sementes e mudas certificadas</td>\n",
       "      <td>01</td>\n",
       "      <td>01</td>\n",
       "      <td>014</td>\n",
       "    </tr>\n",
       "    <tr>\n",
       "      <th>25</th>\n",
       "      <td>012</td>\n",
       "      <td>Cultivo de plantas perennes</td>\n",
       "      <td>01.1</td>\n",
       "      <td>Produção de lavouras temporárias</td>\n",
       "      <td>01</td>\n",
       "      <td>01</td>\n",
       "      <td>011</td>\n",
       "    </tr>\n",
       "  </tbody>\n",
       "</table>\n",
       "</div>"
      ],
      "text/plain": [
       "   código ISIC               denominação ISIC código CNAE  \\\n",
       "2          011  Cultivo de plantas no perenes        01.1   \n",
       "3          011  Cultivo de plantas no perenes        01.2   \n",
       "4          011  Cultivo de plantas no perenes        01.3   \n",
       "5          011  Cultivo de plantas no perenes        01.4   \n",
       "25         012    Cultivo de plantas perennes        01.1   \n",
       "\n",
       "                             denominação CNAE CNAE2d ISIC2d cnae  \n",
       "2            Produção de lavouras temporárias     01     01  011  \n",
       "3                 Horticultura e floricultura     01     01  012  \n",
       "4            Produção de lavouras permanentes     01     01  013  \n",
       "5   Produção de sementes e mudas certificadas     01     01  014  \n",
       "25           Produção de lavouras temporárias     01     01  011  "
      ]
     },
     "execution_count": 57,
     "metadata": {},
     "output_type": "execute_result"
    }
   ],
   "source": [
    "mapeamento_isic.head()"
   ]
  },
  {
   "cell_type": "code",
   "execution_count": 58,
   "id": "d543f2ba",
   "metadata": {},
   "outputs": [
    {
     "data": {
      "application/vnd.microsoft.datawrangler.viewer.v0+json": {
       "columns": [
        {
         "name": "index",
         "rawType": "int64",
         "type": "integer"
        },
        {
         "name": "código ISIC",
         "rawType": "object",
         "type": "string"
        },
        {
         "name": "denominação ISIC",
         "rawType": "object",
         "type": "string"
        },
        {
         "name": "código CNAE",
         "rawType": "object",
         "type": "string"
        },
        {
         "name": "denominação CNAE",
         "rawType": "object",
         "type": "string"
        },
        {
         "name": "CNAE2d",
         "rawType": "object",
         "type": "string"
        },
        {
         "name": "ISIC2d",
         "rawType": "object",
         "type": "string"
        },
        {
         "name": "cnae",
         "rawType": "object",
         "type": "string"
        }
       ],
       "ref": "942ed1c8-5ace-491c-b191-fe3348753cbb",
       "rows": [
        [
         "2",
         "011",
         "Cultivo de plantas no perenes",
         "01.1",
         "Produção de lavouras temporárias",
         "01",
         "01",
         "011"
        ],
        [
         "3",
         "011",
         "Cultivo de plantas no perenes",
         "01.2",
         "Horticultura e floricultura",
         "01",
         "01",
         "012"
        ],
        [
         "4",
         "011",
         "Cultivo de plantas no perenes",
         "01.3",
         "Produção de lavouras permanentes",
         "01",
         "01",
         "013"
        ],
        [
         "5",
         "011",
         "Cultivo de plantas no perenes",
         "01.4",
         "Produção de sementes e mudas certificadas",
         "01",
         "01",
         "014"
        ],
        [
         "25",
         "012",
         "Cultivo de plantas perennes",
         "01.1",
         "Produção de lavouras temporárias",
         "01",
         "01",
         "011"
        ],
        [
         "26",
         "012",
         "Cultivo de plantas perennes",
         "01.2",
         "Horticultura e floricultura",
         "01",
         "01",
         "012"
        ],
        [
         "27",
         "012",
         "Cultivo de plantas perennes",
         "01.3",
         "Produção de lavouras permanentes",
         "01",
         "01",
         "013"
        ],
        [
         "28",
         "012",
         "Cultivo de plantas perennes",
         "01.4",
         "Produção de sementes e mudas certificadas",
         "01",
         "01",
         "014"
        ],
        [
         "47",
         "013",
         "Propagación de plantas",
         "01.4",
         "Produção de sementes e mudas certificadas",
         "01",
         "01",
         "014"
        ],
        [
         "49",
         "014",
         "Ganadería",
         "01.5",
         "Pecuária",
         "01",
         "01",
         "015"
        ],
        [
         "61",
         "016",
         "Actividades de apoyo a la agricultura y la ganadería y actividades poscosecha",
         "01.6",
         "Atividades de apoio à agricultura e à pecuária; atividades de pós-colheita",
         "01",
         "01",
         "016"
        ],
        [
         "66",
         "017",
         "Caza ordinaria y mediante trampas y actividades de servicios conexas",
         "01.7",
         "Caça e serviços relacionados",
         "01",
         "01",
         "017"
        ],
        [
         "69",
         "021",
         "Silvicultura y otras actividades forestales",
         "02.1",
         "Produção florestal - florestas plantadas",
         "02",
         "02",
         "021"
        ],
        [
         "70",
         "021",
         "Silvicultura y otras actividades forestales",
         "02.2",
         "Produção florestal - florestas nativas",
         "02",
         "02",
         "022"
        ],
        [
         "73",
         "022",
         "Extracción de madera",
         "02.1",
         "Produção florestal - florestas plantadas",
         "02",
         "02",
         "021"
        ],
        [
         "74",
         "022",
         "Extracción de madera",
         "02.2",
         "Produção florestal - florestas nativas",
         "02",
         "02",
         "022"
        ],
        [
         "77",
         "023",
         "Recolección de productos forestales distintos de la madera",
         "02.1",
         "Produção florestal - florestas plantadas",
         "02",
         "02",
         "021"
        ],
        [
         "78",
         "023",
         "Recolección de productos forestales distintos de la madera",
         "02.2",
         "Produção florestal - florestas nativas",
         "02",
         "02",
         "022"
        ],
        [
         "81",
         "024",
         "Servicios de apoyo a la silvicultura",
         "02.3",
         "Atividades de apoio à produção florestal",
         "02",
         "02",
         "023"
        ],
        [
         "84",
         "031",
         "Pesca",
         "03.1",
         "Pesca",
         "03",
         "03",
         "031"
        ],
        [
         "87",
         "032",
         "Acuicultura",
         "03.2",
         "Aqüicultura",
         "03",
         "03",
         "032"
        ],
        [
         "92",
         "051",
         "EXTRACCIÓN DE CARBÓN DE PIEDRA ",
         "05.0",
         "Extração de carvão mineral",
         "05",
         "05",
         "050"
        ],
        [
         "94",
         "052",
         "Extracción de lignito",
         "05.0",
         "Extração de carvão mineral",
         "05",
         "05",
         "050"
        ],
        [
         "97",
         "061",
         "Extracción de petróleo crudo",
         "06.0",
         "Extração de petróleo e gás natural",
         "06",
         "06",
         "060"
        ],
        [
         "99",
         "062",
         "Extracción de gas natural",
         "06.0",
         "Extração de petróleo e gás natural",
         "06",
         "06",
         "060"
        ],
        [
         "102",
         "071",
         "Extracción de minerales de hierro",
         "07.1",
         "Extração de minério de ferro",
         "07",
         "07",
         "071"
        ],
        [
         "104",
         "072",
         "Extracción de minerales metalíferos no ferrosos",
         "07.2",
         "Extração de minerais metálicos não-ferrosos",
         "07",
         "07",
         "072"
        ],
        [
         "112",
         "081",
         "Extracción de piedra, arena y arcilla",
         "08.1",
         "Extração de pedra, areia e argila",
         "08",
         "08",
         "081"
        ],
        [
         "114",
         "089",
         "Explotación de minas y canteras n.c.p.",
         "08.9",
         "Extração de outros minerais não-metálicos",
         "08",
         "08",
         "089"
        ],
        [
         "121",
         "091",
         "Actividades de apoyo para la extracción de petróleo y gas natural",
         "09.1",
         "Atividades de apoio à extração de petróleo e gás natural",
         "09",
         "09",
         "091"
        ],
        [
         "123",
         "099",
         "Actividades de apoyo para otras actividades de explotación de minas y canteras",
         "09.9",
         "Atividades de apoio à extração de minerais, exceto petróleo e gás natural",
         "09",
         "09",
         "099"
        ],
        [
         "127",
         "101",
         "Elaboración y conservación de carne",
         "10.1",
         "Abate e fabricação de produtos de carne",
         "10",
         "10",
         "101"
        ],
        [
         "131",
         "102",
         "Elaboración y conservación de pescado, crustáceos y moluscos",
         "10.2",
         "Preservação do pescado e fabricação de produtos do pescado",
         "10",
         "10",
         "102"
        ],
        [
         "133",
         "103",
         "Elaboración y conservación de frutas, legumbres y hortalizas",
         "10.3",
         "Fabricação de conservas de frutas, legumes e outros vegetais",
         "10",
         "10",
         "103"
        ],
        [
         "137",
         "104",
         "Elaboración de aceites y grasas de origen vegetal y animal",
         "10.4",
         "Fabricação de óleos e gorduras vegetais e animais",
         "10",
         "10",
         "104"
        ],
        [
         "141",
         "105",
         "Elaboración de productos lácteos",
         "10.5",
         "Laticínios",
         "10",
         "10",
         "105"
        ],
        [
         "145",
         "106",
         "Elaboración de productos de molinería, almidones y productos derivados del almidón",
         "10.6",
         "Moagem, fabricação de produtos amiláceos e de alimentos para animais",
         "10",
         "10",
         "106"
        ],
        [
         "152",
         "107",
         "Elaboración de otros productos alimenticios",
         "10.7",
         "Fabricação e refino de açúcar",
         "10",
         "10",
         "107"
        ],
        [
         "153",
         "107",
         "Elaboración de otros productos alimenticios",
         "10.8",
         "Torrefação e moagem de café",
         "10",
         "10",
         "108"
        ],
        [
         "154",
         "107",
         "Elaboración de otros productos alimenticios",
         "10.9",
         "Fabricação de outros produtos alimentícios",
         "10",
         "10",
         "109"
        ],
        [
         "166",
         "108",
         "Elaboración de piensos preparados para animales",
         "10.6",
         "Moagem, fabricação de produtos amiláceos e de alimentos para animais",
         "10",
         "10",
         "106"
        ],
        [
         "169",
         "110",
         "Elaboración de bebidas",
         "11.1",
         "Fabricação de bebidas alcoólicas",
         "11",
         "11",
         "111"
        ],
        [
         "170",
         "110",
         "Elaboración de bebidas",
         "11.2",
         "Fabricação de bebidas não-alcoólicas",
         "11",
         "11",
         "112"
        ],
        [
         "177",
         "120",
         "Elaboración de productos de tabaco",
         "12.1",
         "Processamento industrial do fumo",
         "12",
         "12",
         "121"
        ],
        [
         "178",
         "120",
         "Elaboración de productos de tabaco",
         "12.2",
         "Fabricação de produtos do fumo",
         "12",
         "12",
         "122"
        ],
        [
         "182",
         "131",
         "Hilatura, tejedura y acabado de productos textiles",
         "13.1",
         "Preparação e fiação de fibras têxteis",
         "13",
         "13",
         "131"
        ],
        [
         "183",
         "131",
         "Hilatura, tejedura y acabado de productos textiles",
         "13.2",
         "Tecelagem, exceto malha",
         "13",
         "13",
         "132"
        ],
        [
         "184",
         "131",
         "Hilatura, tejedura y acabado de productos textiles",
         "13.4",
         "Acabamentos em fios, tecidos e artefatos têxteis",
         "13",
         "13",
         "134"
        ],
        [
         "193",
         "139",
         "Fabricación de otros productos textiles",
         "13.3",
         "Fabricação de tecidos de malha",
         "13",
         "13",
         "133"
        ],
        [
         "194",
         "139",
         "Fabricación de otros productos textiles",
         "13.5",
         "Fabricação de artefatos têxteis, exceto vestuário",
         "13",
         "13",
         "135"
        ]
       ],
       "shape": {
        "columns": 7,
        "rows": 322
       }
      },
      "text/html": [
       "<div>\n",
       "<style scoped>\n",
       "    .dataframe tbody tr th:only-of-type {\n",
       "        vertical-align: middle;\n",
       "    }\n",
       "\n",
       "    .dataframe tbody tr th {\n",
       "        vertical-align: top;\n",
       "    }\n",
       "\n",
       "    .dataframe thead th {\n",
       "        text-align: right;\n",
       "    }\n",
       "</style>\n",
       "<table border=\"1\" class=\"dataframe\">\n",
       "  <thead>\n",
       "    <tr style=\"text-align: right;\">\n",
       "      <th></th>\n",
       "      <th>código ISIC</th>\n",
       "      <th>denominação ISIC</th>\n",
       "      <th>código CNAE</th>\n",
       "      <th>denominação CNAE</th>\n",
       "      <th>CNAE2d</th>\n",
       "      <th>ISIC2d</th>\n",
       "      <th>cnae</th>\n",
       "    </tr>\n",
       "  </thead>\n",
       "  <tbody>\n",
       "    <tr>\n",
       "      <th>2</th>\n",
       "      <td>011</td>\n",
       "      <td>Cultivo de plantas no perenes</td>\n",
       "      <td>01.1</td>\n",
       "      <td>Produção de lavouras temporárias</td>\n",
       "      <td>01</td>\n",
       "      <td>01</td>\n",
       "      <td>011</td>\n",
       "    </tr>\n",
       "    <tr>\n",
       "      <th>3</th>\n",
       "      <td>011</td>\n",
       "      <td>Cultivo de plantas no perenes</td>\n",
       "      <td>01.2</td>\n",
       "      <td>Horticultura e floricultura</td>\n",
       "      <td>01</td>\n",
       "      <td>01</td>\n",
       "      <td>012</td>\n",
       "    </tr>\n",
       "    <tr>\n",
       "      <th>4</th>\n",
       "      <td>011</td>\n",
       "      <td>Cultivo de plantas no perenes</td>\n",
       "      <td>01.3</td>\n",
       "      <td>Produção de lavouras permanentes</td>\n",
       "      <td>01</td>\n",
       "      <td>01</td>\n",
       "      <td>013</td>\n",
       "    </tr>\n",
       "    <tr>\n",
       "      <th>5</th>\n",
       "      <td>011</td>\n",
       "      <td>Cultivo de plantas no perenes</td>\n",
       "      <td>01.4</td>\n",
       "      <td>Produção de sementes e mudas certificadas</td>\n",
       "      <td>01</td>\n",
       "      <td>01</td>\n",
       "      <td>014</td>\n",
       "    </tr>\n",
       "    <tr>\n",
       "      <th>25</th>\n",
       "      <td>012</td>\n",
       "      <td>Cultivo de plantas perennes</td>\n",
       "      <td>01.1</td>\n",
       "      <td>Produção de lavouras temporárias</td>\n",
       "      <td>01</td>\n",
       "      <td>01</td>\n",
       "      <td>011</td>\n",
       "    </tr>\n",
       "    <tr>\n",
       "      <th>...</th>\n",
       "      <td>...</td>\n",
       "      <td>...</td>\n",
       "      <td>...</td>\n",
       "      <td>...</td>\n",
       "      <td>...</td>\n",
       "      <td>...</td>\n",
       "      <td>...</td>\n",
       "    </tr>\n",
       "    <tr>\n",
       "      <th>1161</th>\n",
       "      <td>951</td>\n",
       "      <td>Reparación de ordenadores y equipo de comunica...</td>\n",
       "      <td>95.1</td>\n",
       "      <td>Reparação e manutenção de equipamentos de info...</td>\n",
       "      <td>95</td>\n",
       "      <td>95</td>\n",
       "      <td>951</td>\n",
       "    </tr>\n",
       "    <tr>\n",
       "      <th>1164</th>\n",
       "      <td>952</td>\n",
       "      <td>Reparación de efectos personales y enseres dom...</td>\n",
       "      <td>95.2</td>\n",
       "      <td>Reparação e manutenção de objetos e equipament...</td>\n",
       "      <td>95</td>\n",
       "      <td>95</td>\n",
       "      <td>952</td>\n",
       "    </tr>\n",
       "    <tr>\n",
       "      <th>1171</th>\n",
       "      <td>960</td>\n",
       "      <td>Otras actividades de servicios personales</td>\n",
       "      <td>96.0</td>\n",
       "      <td>Outras atividades de serviços pessoais</td>\n",
       "      <td>96</td>\n",
       "      <td>96</td>\n",
       "      <td>960</td>\n",
       "    </tr>\n",
       "    <tr>\n",
       "      <th>1178</th>\n",
       "      <td>970</td>\n",
       "      <td>Actividades de los hogares como empleadores de...</td>\n",
       "      <td>97.0</td>\n",
       "      <td>Serviços domésticos</td>\n",
       "      <td>97</td>\n",
       "      <td>97</td>\n",
       "      <td>970</td>\n",
       "    </tr>\n",
       "    <tr>\n",
       "      <th>1187</th>\n",
       "      <td>990</td>\n",
       "      <td>Actividades de organizaciones y órganos extrat...</td>\n",
       "      <td>99.0</td>\n",
       "      <td>Organismos internacionais e outras instituiçõe...</td>\n",
       "      <td>99</td>\n",
       "      <td>99</td>\n",
       "      <td>990</td>\n",
       "    </tr>\n",
       "  </tbody>\n",
       "</table>\n",
       "<p>322 rows × 7 columns</p>\n",
       "</div>"
      ],
      "text/plain": [
       "     código ISIC                                   denominação ISIC  \\\n",
       "2            011                      Cultivo de plantas no perenes   \n",
       "3            011                      Cultivo de plantas no perenes   \n",
       "4            011                      Cultivo de plantas no perenes   \n",
       "5            011                      Cultivo de plantas no perenes   \n",
       "25           012                        Cultivo de plantas perennes   \n",
       "...          ...                                                ...   \n",
       "1161         951  Reparación de ordenadores y equipo de comunica...   \n",
       "1164         952  Reparación de efectos personales y enseres dom...   \n",
       "1171         960          Otras actividades de servicios personales   \n",
       "1178         970  Actividades de los hogares como empleadores de...   \n",
       "1187         990  Actividades de organizaciones y órganos extrat...   \n",
       "\n",
       "     código CNAE                                   denominação CNAE CNAE2d  \\\n",
       "2           01.1                   Produção de lavouras temporárias     01   \n",
       "3           01.2                        Horticultura e floricultura     01   \n",
       "4           01.3                   Produção de lavouras permanentes     01   \n",
       "5           01.4          Produção de sementes e mudas certificadas     01   \n",
       "25          01.1                   Produção de lavouras temporárias     01   \n",
       "...          ...                                                ...    ...   \n",
       "1161        95.1  Reparação e manutenção de equipamentos de info...     95   \n",
       "1164        95.2  Reparação e manutenção de objetos e equipament...     95   \n",
       "1171        96.0             Outras atividades de serviços pessoais     96   \n",
       "1178        97.0                                Serviços domésticos     97   \n",
       "1187        99.0  Organismos internacionais e outras instituiçõe...     99   \n",
       "\n",
       "     ISIC2d cnae  \n",
       "2        01  011  \n",
       "3        01  012  \n",
       "4        01  013  \n",
       "5        01  014  \n",
       "25       01  011  \n",
       "...     ...  ...  \n",
       "1161     95  951  \n",
       "1164     95  952  \n",
       "1171     96  960  \n",
       "1178     97  970  \n",
       "1187     99  990  \n",
       "\n",
       "[322 rows x 7 columns]"
      ]
     },
     "execution_count": 58,
     "metadata": {},
     "output_type": "execute_result"
    }
   ],
   "source": [
    "mapeamento_isic"
   ]
  },
  {
   "cell_type": "code",
   "execution_count": 59,
   "id": "7e93ba52",
   "metadata": {},
   "outputs": [],
   "source": [
    "#Nos campos None em cnae, usar o valor da coluna CO_ISIC_CLASSE e mapear os 3 primeiros dígitos para o código CNAE usando como mapeamento o mapeamento_isic\n",
    "mapeamento_isic_unico = mapeamento_isic.drop_duplicates(subset='código ISIC')\n",
    "\n",
    "exportacoes_pia['cnae'] = exportacoes_pia['cnae'].fillna(\n",
    "    exportacoes_pia['CO_ISIC_CLASSE'].str[0:3].map(\n",
    "        mapeamento_isic_unico.set_index('código ISIC')['cnae']\n",
    "    )\n",
    ")"
   ]
  },
  {
   "cell_type": "code",
   "execution_count": 60,
   "id": "66083a7e",
   "metadata": {},
   "outputs": [
    {
     "data": {
      "application/vnd.microsoft.datawrangler.viewer.v0+json": {
       "columns": [
        {
         "name": "index",
         "rawType": "int64",
         "type": "integer"
        },
        {
         "name": "CO_SH6",
         "rawType": "object",
         "type": "string"
        },
        {
         "name": "CO_ISIC_CLASSE",
         "rawType": "object",
         "type": "string"
        },
        {
         "name": "R$ FOB Mundo",
         "rawType": "float64",
         "type": "float"
        },
        {
         "name": "R$ FOB USA",
         "rawType": "float64",
         "type": "float"
        },
        {
         "name": "participacao_usa",
         "rawType": "float64",
         "type": "float"
        },
        {
         "name": "CNAE2s",
         "rawType": "object",
         "type": "string"
        },
        {
         "name": "cnae",
         "rawType": "object",
         "type": "string"
        }
       ],
       "ref": "127fafb0-cf89-402e-becd-97d45dd484f9",
       "rows": [
        [
         "0",
         "490110",
         "5811",
         "6996257.7299999995",
         "701988.21",
         "0.10033767152257268",
         "58",
         "581"
        ],
        [
         "1",
         "490191",
         "5811",
         "2892376.4099999997",
         "73713.64",
         "0.02548549343202533",
         "58",
         "581"
        ],
        [
         "2",
         "490199",
         "5811",
         "181982952.69",
         "19922588.07",
         "0.10947502376190839",
         "58",
         "581"
        ],
        [
         "3",
         "521029",
         "1312",
         "421859.13",
         "9055.199999999999",
         "0.021464985242822643",
         "13",
         "13"
        ],
        [
         "4",
         "521032",
         "1312",
         "724739.3999999999",
         "7702.3099999999995",
         "0.010627695969061431",
         "13",
         "13"
        ]
       ],
       "shape": {
        "columns": 7,
        "rows": 5
       }
      },
      "text/html": [
       "<div>\n",
       "<style scoped>\n",
       "    .dataframe tbody tr th:only-of-type {\n",
       "        vertical-align: middle;\n",
       "    }\n",
       "\n",
       "    .dataframe tbody tr th {\n",
       "        vertical-align: top;\n",
       "    }\n",
       "\n",
       "    .dataframe thead th {\n",
       "        text-align: right;\n",
       "    }\n",
       "</style>\n",
       "<table border=\"1\" class=\"dataframe\">\n",
       "  <thead>\n",
       "    <tr style=\"text-align: right;\">\n",
       "      <th></th>\n",
       "      <th>CO_SH6</th>\n",
       "      <th>CO_ISIC_CLASSE</th>\n",
       "      <th>R$ FOB Mundo</th>\n",
       "      <th>R$ FOB USA</th>\n",
       "      <th>participacao_usa</th>\n",
       "      <th>CNAE2s</th>\n",
       "      <th>cnae</th>\n",
       "    </tr>\n",
       "  </thead>\n",
       "  <tbody>\n",
       "    <tr>\n",
       "      <th>0</th>\n",
       "      <td>490110</td>\n",
       "      <td>5811</td>\n",
       "      <td>6.996258e+06</td>\n",
       "      <td>701988.21</td>\n",
       "      <td>0.100338</td>\n",
       "      <td>58</td>\n",
       "      <td>581</td>\n",
       "    </tr>\n",
       "    <tr>\n",
       "      <th>1</th>\n",
       "      <td>490191</td>\n",
       "      <td>5811</td>\n",
       "      <td>2.892376e+06</td>\n",
       "      <td>73713.64</td>\n",
       "      <td>0.025485</td>\n",
       "      <td>58</td>\n",
       "      <td>581</td>\n",
       "    </tr>\n",
       "    <tr>\n",
       "      <th>2</th>\n",
       "      <td>490199</td>\n",
       "      <td>5811</td>\n",
       "      <td>1.819830e+08</td>\n",
       "      <td>19922588.07</td>\n",
       "      <td>0.109475</td>\n",
       "      <td>58</td>\n",
       "      <td>581</td>\n",
       "    </tr>\n",
       "    <tr>\n",
       "      <th>3</th>\n",
       "      <td>521029</td>\n",
       "      <td>1312</td>\n",
       "      <td>4.218591e+05</td>\n",
       "      <td>9055.20</td>\n",
       "      <td>0.021465</td>\n",
       "      <td>13</td>\n",
       "      <td>13</td>\n",
       "    </tr>\n",
       "    <tr>\n",
       "      <th>4</th>\n",
       "      <td>521032</td>\n",
       "      <td>1312</td>\n",
       "      <td>7.247394e+05</td>\n",
       "      <td>7702.31</td>\n",
       "      <td>0.010628</td>\n",
       "      <td>13</td>\n",
       "      <td>13</td>\n",
       "    </tr>\n",
       "  </tbody>\n",
       "</table>\n",
       "</div>"
      ],
      "text/plain": [
       "   CO_SH6 CO_ISIC_CLASSE  R$ FOB Mundo   R$ FOB USA  participacao_usa CNAE2s  \\\n",
       "0  490110           5811  6.996258e+06    701988.21          0.100338     58   \n",
       "1  490191           5811  2.892376e+06     73713.64          0.025485     58   \n",
       "2  490199           5811  1.819830e+08  19922588.07          0.109475     58   \n",
       "3  521029           1312  4.218591e+05      9055.20          0.021465     13   \n",
       "4  521032           1312  7.247394e+05      7702.31          0.010628     13   \n",
       "\n",
       "  cnae  \n",
       "0  581  \n",
       "1  581  \n",
       "2  581  \n",
       "3   13  \n",
       "4   13  "
      ]
     },
     "execution_count": 60,
     "metadata": {},
     "output_type": "execute_result"
    }
   ],
   "source": [
    "exportacoes_pia.head()"
   ]
  },
  {
   "cell_type": "code",
   "execution_count": 61,
   "id": "11be0a28",
   "metadata": {},
   "outputs": [
    {
     "data": {
      "application/vnd.microsoft.datawrangler.viewer.v0+json": {
       "columns": [
        {
         "name": "index",
         "rawType": "int64",
         "type": "integer"
        },
        {
         "name": "CO_SH6",
         "rawType": "object",
         "type": "string"
        },
        {
         "name": "CO_ISIC_CLASSE",
         "rawType": "object",
         "type": "string"
        },
        {
         "name": "R$ FOB Mundo",
         "rawType": "float64",
         "type": "float"
        },
        {
         "name": "R$ FOB USA",
         "rawType": "float64",
         "type": "float"
        },
        {
         "name": "participacao_usa",
         "rawType": "float64",
         "type": "float"
        },
        {
         "name": "CNAE2s",
         "rawType": "object",
         "type": "string"
        },
        {
         "name": "cnae",
         "rawType": "object",
         "type": "string"
        }
       ],
       "ref": "b5f8fe03-4eeb-40c6-a97c-13ab717d63f6",
       "rows": [
        [
         "0",
         "490110",
         "5811",
         "6996257.7299999995",
         "701988.21",
         "0.10033767152257268",
         "58",
         "581"
        ],
        [
         "1",
         "490191",
         "5811",
         "2892376.4099999997",
         "73713.64",
         "0.02548549343202533",
         "58",
         "581"
        ],
        [
         "2",
         "490199",
         "5811",
         "181982952.69",
         "19922588.07",
         "0.10947502376190839",
         "58",
         "581"
        ],
        [
         "3",
         "521029",
         "1312",
         "421859.13",
         "9055.199999999999",
         "0.021464985242822643",
         "13",
         "13"
        ],
        [
         "4",
         "521032",
         "1312",
         "724739.3999999999",
         "7702.3099999999995",
         "0.010627695969061431",
         "13",
         "13"
        ]
       ],
       "shape": {
        "columns": 7,
        "rows": 5
       }
      },
      "text/html": [
       "<div>\n",
       "<style scoped>\n",
       "    .dataframe tbody tr th:only-of-type {\n",
       "        vertical-align: middle;\n",
       "    }\n",
       "\n",
       "    .dataframe tbody tr th {\n",
       "        vertical-align: top;\n",
       "    }\n",
       "\n",
       "    .dataframe thead th {\n",
       "        text-align: right;\n",
       "    }\n",
       "</style>\n",
       "<table border=\"1\" class=\"dataframe\">\n",
       "  <thead>\n",
       "    <tr style=\"text-align: right;\">\n",
       "      <th></th>\n",
       "      <th>CO_SH6</th>\n",
       "      <th>CO_ISIC_CLASSE</th>\n",
       "      <th>R$ FOB Mundo</th>\n",
       "      <th>R$ FOB USA</th>\n",
       "      <th>participacao_usa</th>\n",
       "      <th>CNAE2s</th>\n",
       "      <th>cnae</th>\n",
       "    </tr>\n",
       "  </thead>\n",
       "  <tbody>\n",
       "    <tr>\n",
       "      <th>0</th>\n",
       "      <td>490110</td>\n",
       "      <td>5811</td>\n",
       "      <td>6.996258e+06</td>\n",
       "      <td>701988.21</td>\n",
       "      <td>0.100338</td>\n",
       "      <td>58</td>\n",
       "      <td>581</td>\n",
       "    </tr>\n",
       "    <tr>\n",
       "      <th>1</th>\n",
       "      <td>490191</td>\n",
       "      <td>5811</td>\n",
       "      <td>2.892376e+06</td>\n",
       "      <td>73713.64</td>\n",
       "      <td>0.025485</td>\n",
       "      <td>58</td>\n",
       "      <td>581</td>\n",
       "    </tr>\n",
       "    <tr>\n",
       "      <th>2</th>\n",
       "      <td>490199</td>\n",
       "      <td>5811</td>\n",
       "      <td>1.819830e+08</td>\n",
       "      <td>19922588.07</td>\n",
       "      <td>0.109475</td>\n",
       "      <td>58</td>\n",
       "      <td>581</td>\n",
       "    </tr>\n",
       "    <tr>\n",
       "      <th>3</th>\n",
       "      <td>521029</td>\n",
       "      <td>1312</td>\n",
       "      <td>4.218591e+05</td>\n",
       "      <td>9055.20</td>\n",
       "      <td>0.021465</td>\n",
       "      <td>13</td>\n",
       "      <td>13</td>\n",
       "    </tr>\n",
       "    <tr>\n",
       "      <th>4</th>\n",
       "      <td>521032</td>\n",
       "      <td>1312</td>\n",
       "      <td>7.247394e+05</td>\n",
       "      <td>7702.31</td>\n",
       "      <td>0.010628</td>\n",
       "      <td>13</td>\n",
       "      <td>13</td>\n",
       "    </tr>\n",
       "  </tbody>\n",
       "</table>\n",
       "</div>"
      ],
      "text/plain": [
       "   CO_SH6 CO_ISIC_CLASSE  R$ FOB Mundo   R$ FOB USA  participacao_usa CNAE2s  \\\n",
       "0  490110           5811  6.996258e+06    701988.21          0.100338     58   \n",
       "1  490191           5811  2.892376e+06     73713.64          0.025485     58   \n",
       "2  490199           5811  1.819830e+08  19922588.07          0.109475     58   \n",
       "3  521029           1312  4.218591e+05      9055.20          0.021465     13   \n",
       "4  521032           1312  7.247394e+05      7702.31          0.010628     13   \n",
       "\n",
       "  cnae  \n",
       "0  581  \n",
       "1  581  \n",
       "2  581  \n",
       "3   13  \n",
       "4   13  "
      ]
     },
     "execution_count": 61,
     "metadata": {},
     "output_type": "execute_result"
    }
   ],
   "source": [
    "exportacoes_pia.head()"
   ]
  },
  {
   "cell_type": "code",
   "execution_count": 62,
   "id": "24a0d96f",
   "metadata": {},
   "outputs": [],
   "source": [
    "exportacoes_pia = exportacoes_pia.merge(pia_empresa_rlv, on='cnae', how='inner')"
   ]
  },
  {
   "cell_type": "code",
   "execution_count": 67,
   "id": "467c4209",
   "metadata": {},
   "outputs": [
    {
     "data": {
      "application/vnd.microsoft.datawrangler.viewer.v0+json": {
       "columns": [
        {
         "name": "index",
         "rawType": "int64",
         "type": "integer"
        },
        {
         "name": "CO_SH6",
         "rawType": "object",
         "type": "string"
        },
        {
         "name": "CO_ISIC_CLASSE",
         "rawType": "object",
         "type": "string"
        },
        {
         "name": "R$ FOB Mundo",
         "rawType": "float64",
         "type": "float"
        },
        {
         "name": "R$ FOB USA",
         "rawType": "float64",
         "type": "float"
        },
        {
         "name": "participacao_usa",
         "rawType": "float64",
         "type": "float"
        },
        {
         "name": "CNAE2s",
         "rawType": "object",
         "type": "string"
        },
        {
         "name": "cnae",
         "rawType": "object",
         "type": "string"
        },
        {
         "name": "cnae_descricao",
         "rawType": "object",
         "type": "string"
        },
        {
         "name": "Receita líquida de vendas de produtos e serviços industriais",
         "rawType": "float64",
         "type": "float"
        },
        {
         "name": "Total da receita líquida de vendas",
         "rawType": "float64",
         "type": "float"
        }
       ],
       "ref": "f5a6c0f9-c348-4622-82b7-3db21ec63ebd",
       "rows": [
        [
         "0",
         "521029",
         "1312",
         "421859.13",
         "9055.199999999999",
         "0.021464985242822643",
         "13",
         "13",
         "Fabricação de produtos têxteis",
         "71933723000.0",
         "74466387000.0"
        ],
        [
         "1",
         "521032",
         "1312",
         "724739.3999999999",
         "7702.3099999999995",
         "0.010627695969061431",
         "13",
         "13",
         "Fabricação de produtos têxteis",
         "71933723000.0",
         "74466387000.0"
        ],
        [
         "2",
         "521039",
         "1312",
         "265872.52999999997",
         "15604.05",
         "0.05868996695521723",
         "13",
         "13",
         "Fabricação de produtos têxteis",
         "71933723000.0",
         "74466387000.0"
        ],
        [
         "3",
         "521049",
         "1312",
         "1742285.16",
         "36204.63",
         "0.02077996807365334",
         "13",
         "13",
         "Fabricação de produtos têxteis",
         "71933723000.0",
         "74466387000.0"
        ],
        [
         "4",
         "640411",
         "1520",
         "404118419.32",
         "2587388.65",
         "0.006402550654220945",
         "15",
         "15",
         "Preparação de couros e fabricação de artefatos de couro, artigos para viagem e calçados",
         "52684397000.0",
         "53498847000.0"
        ]
       ],
       "shape": {
        "columns": 10,
        "rows": 5
       }
      },
      "text/html": [
       "<div>\n",
       "<style scoped>\n",
       "    .dataframe tbody tr th:only-of-type {\n",
       "        vertical-align: middle;\n",
       "    }\n",
       "\n",
       "    .dataframe tbody tr th {\n",
       "        vertical-align: top;\n",
       "    }\n",
       "\n",
       "    .dataframe thead th {\n",
       "        text-align: right;\n",
       "    }\n",
       "</style>\n",
       "<table border=\"1\" class=\"dataframe\">\n",
       "  <thead>\n",
       "    <tr style=\"text-align: right;\">\n",
       "      <th></th>\n",
       "      <th>CO_SH6</th>\n",
       "      <th>CO_ISIC_CLASSE</th>\n",
       "      <th>R$ FOB Mundo</th>\n",
       "      <th>R$ FOB USA</th>\n",
       "      <th>participacao_usa</th>\n",
       "      <th>CNAE2s</th>\n",
       "      <th>cnae</th>\n",
       "      <th>cnae_descricao</th>\n",
       "      <th>Receita líquida de vendas de produtos e serviços industriais</th>\n",
       "      <th>Total da receita líquida de vendas</th>\n",
       "    </tr>\n",
       "  </thead>\n",
       "  <tbody>\n",
       "    <tr>\n",
       "      <th>0</th>\n",
       "      <td>521029</td>\n",
       "      <td>1312</td>\n",
       "      <td>4.218591e+05</td>\n",
       "      <td>9055.20</td>\n",
       "      <td>0.021465</td>\n",
       "      <td>13</td>\n",
       "      <td>13</td>\n",
       "      <td>Fabricação de produtos têxteis</td>\n",
       "      <td>7.193372e+10</td>\n",
       "      <td>7.446639e+10</td>\n",
       "    </tr>\n",
       "    <tr>\n",
       "      <th>1</th>\n",
       "      <td>521032</td>\n",
       "      <td>1312</td>\n",
       "      <td>7.247394e+05</td>\n",
       "      <td>7702.31</td>\n",
       "      <td>0.010628</td>\n",
       "      <td>13</td>\n",
       "      <td>13</td>\n",
       "      <td>Fabricação de produtos têxteis</td>\n",
       "      <td>7.193372e+10</td>\n",
       "      <td>7.446639e+10</td>\n",
       "    </tr>\n",
       "    <tr>\n",
       "      <th>2</th>\n",
       "      <td>521039</td>\n",
       "      <td>1312</td>\n",
       "      <td>2.658725e+05</td>\n",
       "      <td>15604.05</td>\n",
       "      <td>0.058690</td>\n",
       "      <td>13</td>\n",
       "      <td>13</td>\n",
       "      <td>Fabricação de produtos têxteis</td>\n",
       "      <td>7.193372e+10</td>\n",
       "      <td>7.446639e+10</td>\n",
       "    </tr>\n",
       "    <tr>\n",
       "      <th>3</th>\n",
       "      <td>521049</td>\n",
       "      <td>1312</td>\n",
       "      <td>1.742285e+06</td>\n",
       "      <td>36204.63</td>\n",
       "      <td>0.020780</td>\n",
       "      <td>13</td>\n",
       "      <td>13</td>\n",
       "      <td>Fabricação de produtos têxteis</td>\n",
       "      <td>7.193372e+10</td>\n",
       "      <td>7.446639e+10</td>\n",
       "    </tr>\n",
       "    <tr>\n",
       "      <th>4</th>\n",
       "      <td>640411</td>\n",
       "      <td>1520</td>\n",
       "      <td>4.041184e+08</td>\n",
       "      <td>2587388.65</td>\n",
       "      <td>0.006403</td>\n",
       "      <td>15</td>\n",
       "      <td>15</td>\n",
       "      <td>Preparação de couros e fabricação de artefatos...</td>\n",
       "      <td>5.268440e+10</td>\n",
       "      <td>5.349885e+10</td>\n",
       "    </tr>\n",
       "  </tbody>\n",
       "</table>\n",
       "</div>"
      ],
      "text/plain": [
       "   CO_SH6 CO_ISIC_CLASSE  R$ FOB Mundo  R$ FOB USA  participacao_usa CNAE2s  \\\n",
       "0  521029           1312  4.218591e+05     9055.20          0.021465     13   \n",
       "1  521032           1312  7.247394e+05     7702.31          0.010628     13   \n",
       "2  521039           1312  2.658725e+05    15604.05          0.058690     13   \n",
       "3  521049           1312  1.742285e+06    36204.63          0.020780     13   \n",
       "4  640411           1520  4.041184e+08  2587388.65          0.006403     15   \n",
       "\n",
       "  cnae                                     cnae_descricao  \\\n",
       "0   13                     Fabricação de produtos têxteis   \n",
       "1   13                     Fabricação de produtos têxteis   \n",
       "2   13                     Fabricação de produtos têxteis   \n",
       "3   13                     Fabricação de produtos têxteis   \n",
       "4   15  Preparação de couros e fabricação de artefatos...   \n",
       "\n",
       "   Receita líquida de vendas de produtos e serviços industriais  \\\n",
       "0                                       7.193372e+10              \n",
       "1                                       7.193372e+10              \n",
       "2                                       7.193372e+10              \n",
       "3                                       7.193372e+10              \n",
       "4                                       5.268440e+10              \n",
       "\n",
       "   Total da receita líquida de vendas  \n",
       "0                        7.446639e+10  \n",
       "1                        7.446639e+10  \n",
       "2                        7.446639e+10  \n",
       "3                        7.446639e+10  \n",
       "4                        5.349885e+10  "
      ]
     },
     "execution_count": 67,
     "metadata": {},
     "output_type": "execute_result"
    }
   ],
   "source": [
    "exportacoes_pia.head()"
   ]
  },
  {
   "cell_type": "code",
   "execution_count": 65,
   "id": "d8d4e349",
   "metadata": {},
   "outputs": [],
   "source": [
    "#Criar uma coluna de 'Intensidade Tecnloógica' de acordo com a classificação de intensidade tecnológica da OCDE, mapeada por ISIC, onde a os primeiros dígitos ISIC (2 ou 3 ) podem ser mapeados de acordo com a tabela ISIC x Intensidade Tecnológica é:\n",
    "# Alta Intensidade Tecnológica: 303, 21, 26,72, 582\n",
    "# Média Alta Intensidade Tecnológica: 252, 325, 28, 20, 27, 302, 304, 309,62-63\n",
    "# Média Intensidade Tecnológica: 22, 301, 32 ( com exceção de 325),23, 24, 33\n",
    "# Média Baixa Intensidade Tecnológica: 10-12,13, 14, 15, 25 ( menos 252),16, 18 19, 31\n",
    "# Baixa Intensidade Tecnológica: Demais\n",
    "#Considere que o código ISIC tabela de mapeamento pode ter 2 ou 3 dígitos, que devem corresponder aos primeiros 2 ou 3 dígitos do código ISIC da coluna CO_ISIC_CLASSE, ou seja,\n",
    "#mapeie inicialmente os códigos com 3 dígitos e em seguida os códigos com 2 dígitos, caso não tenha sido mapeado ainda.\n",
    "mapeamento_3d = {\n",
    "    '303': 'Alta Intensidade Tecnológica',\n",
    "    '582': 'Alta Intensidade Tecnológica',\n",
    "\n",
    "    '302': 'Média Alta Intensidade Tecnológica',\n",
    "    '252': 'Média Alta Intensidade Tecnológica',\n",
    "    '304': 'Média Alta Intensidade Tecnológica',\n",
    "    '325': 'Média Alta Intensidade Tecnológica',\n",
    "    '309': 'Média Alta Intensidade Tecnológica',\n",
    "\n",
    "    '301': 'Média Intensidade Tecnológica',\n",
    "    \n",
    "    '581':'Média Baixa Intensidade Tecnológica'\n",
    "}\n",
    "\n",
    "\n",
    "# Mapear códigos de 2 dígitos\n",
    "mapeamento_2d = {\n",
    "    '21': 'Alta Intensidade Tecnológica',\n",
    "    '26': 'Alta Intensidade Tecnológica',\n",
    "    '72': 'Alta Intensidade Tecnológica',\n",
    "\n",
    "    '29': 'Média Alta Intensidade Tecnológica',\n",
    "    '28': 'Média Alta Intensidade Tecnológica',\n",
    "    '20': 'Média Alta Intensidade Tecnológica',\n",
    "    '27': 'Média Alta Intensidade Tecnológica',\n",
    "    '62': 'Média Alta Intensidade Tecnológica',\n",
    "    '63': 'Média Alta Intensidade Tecnológica',\n",
    "\n",
    "    '22': 'Média Intensidade Tecnológica',\n",
    "    '32': 'Média Intensidade Tecnológica',\n",
    "    '23': 'Média Intensidade Tecnológica',\n",
    "    '24': 'Média Intensidade Tecnológica',\n",
    "    '25': 'Média Intensidade Tecnológica',\n",
    "    '33': 'Média Intensidade Tecnológica',\n",
    "\n",
    "    '10': 'Média Baixa Intensidade Tecnológica',\n",
    "    '11': 'Média Baixa Intensidade Tecnológica',\n",
    "    '12': 'Média Baixa Intensidade Tecnológica',\n",
    "    '13': 'Média Baixa Intensidade Tecnológica',\n",
    "    '14': 'Média Baixa Intensidade Tecnológica',\n",
    "    '15': 'Média Baixa Intensidade Tecnológica',\n",
    "    '16': 'Média Baixa Intensidade Tecnológica',\n",
    "    '17': 'Média Baixa Intensidade Tecnológica',\n",
    "    '18': 'Média Baixa Intensidade Tecnológica',\n",
    "    '19': 'Média Baixa Intensidade Tecnológica',\n",
    "    '31': 'Média Baixa Intensidade Tecnológica',\n",
    "    #69 a 75 Média Baixa Intensidade Tecnológica\n",
    "    '69': 'Média Baixa Intensidade Tecnológica',\n",
    "    '70': 'Média Baixa Intensidade Tecnológica',\n",
    "    '71': 'Média Baixa Intensidade Tecnológica',\n",
    "    '73': 'Média Baixa Intensidade Tecnológica',\n",
    "    '74': 'Média Baixa Intensidade Tecnológica',\n",
    "    '75': 'Média Baixa Intensidade Tecnológica',\n",
    "    '61' : 'Média Baixa Intensidade Tecnológica',\n",
    "    #05 a 09 Média Baixa Intensidade Tecnológica\n",
    "    '05': 'Média Baixa Intensidade Tecnológica',\n",
    "    '06': 'Média Baixa Intensidade Tecnológica',\n",
    "    '07': 'Média Baixa Intensidade Tecnológica',\n",
    "    '08': 'Média Baixa Intensidade Tecnológica',\n",
    "    '09': 'Média Baixa Intensidade Tecnológica'\n",
    "\n",
    "}\n",
    "\n"
   ]
  },
  {
   "cell_type": "code",
   "execution_count": 70,
   "id": "80f2035e",
   "metadata": {},
   "outputs": [],
   "source": [
    "# Aplicar mapeamento primeiro por 3 dígitos, depois por 2 dígitos\n",
    "exportacoes_pia['Intensidade Tecnológica'] = exportacoes_pia['CO_ISIC_CLASSE'].str[0:3].map(mapeamento_3d)\n",
    "\n",
    "# Para valores não mapeados (NaN), tentar mapear por 2 dígitos\n",
    "mask_nao_mapeado = exportacoes_pia['Intensidade Tecnológica'].isna()\n",
    "exportacoes_pia.loc[mask_nao_mapeado, 'Intensidade Tecnológica'] = exportacoes_pia.loc[mask_nao_mapeado, 'CO_ISIC_CLASSE'].str[0:2].map(mapeamento_2d)\n",
    "\n",
    "# Exceção: 252 deve ser removido de '25' (que já foi mapeado como Média Alta)\n",
    "#mask_252 = exportacao_pia['CO_ISIC_CLASSE'].str.startswith('252')\n",
    "#exportacao_pia.loc[mask_252, 'Intensidade Tecnológica'] = 'Baixa Intensidade Tecnológica'\n",
    "\n",
    "# Para códigos não mapeados, classificar como 'Baixa Intensidade Tecnológica'\n",
    "exportacoes_pia['Intensidade Tecnológica'] = exportacoes_pia['Intensidade Tecnológica'].fillna('Baixa Intensidade Tecnológica')"
   ]
  },
  {
   "cell_type": "code",
   "execution_count": 73,
   "id": "6a0242ea",
   "metadata": {},
   "outputs": [
    {
     "data": {
      "text/plain": [
       "(3455, 6)"
      ]
     },
     "execution_count": 73,
     "metadata": {},
     "output_type": "execute_result"
    }
   ],
   "source": [
    "exportacoes.shape"
   ]
  },
  {
   "cell_type": "code",
   "execution_count": 75,
   "id": "8c1b987f",
   "metadata": {},
   "outputs": [
    {
     "data": {
      "text/plain": [
       "(3222, 11)"
      ]
     },
     "execution_count": 75,
     "metadata": {},
     "output_type": "execute_result"
    }
   ],
   "source": [
    "exportacoes_pia.shape"
   ]
  },
  {
   "cell_type": "code",
   "execution_count": 76,
   "id": "6bed0ffa",
   "metadata": {},
   "outputs": [],
   "source": [
    "exportacoes_pia.to_excel('./Outputs/final/exportacao_pia_intensidade.xlsx', index=False)"
   ]
  },
  {
   "cell_type": "code",
   "execution_count": 77,
   "id": "b569cefd",
   "metadata": {},
   "outputs": [
    {
     "data": {
      "application/vnd.microsoft.datawrangler.viewer.v0+json": {
       "columns": [
        {
         "name": "index",
         "rawType": "int64",
         "type": "integer"
        },
        {
         "name": "CO_SH6",
         "rawType": "object",
         "type": "string"
        },
        {
         "name": "CO_ISIC_CLASSE",
         "rawType": "object",
         "type": "string"
        },
        {
         "name": "R$ FOB Mundo",
         "rawType": "float64",
         "type": "float"
        },
        {
         "name": "R$ FOB USA",
         "rawType": "float64",
         "type": "float"
        },
        {
         "name": "participacao_usa",
         "rawType": "float64",
         "type": "float"
        },
        {
         "name": "CNAE2s",
         "rawType": "object",
         "type": "string"
        },
        {
         "name": "cnae",
         "rawType": "object",
         "type": "string"
        },
        {
         "name": "cnae_descricao",
         "rawType": "object",
         "type": "string"
        },
        {
         "name": "Receita líquida de vendas de produtos e serviços industriais",
         "rawType": "float64",
         "type": "float"
        },
        {
         "name": "Total da receita líquida de vendas",
         "rawType": "float64",
         "type": "float"
        },
        {
         "name": "Intensidade Tecnológica",
         "rawType": "object",
         "type": "string"
        }
       ],
       "ref": "e080d3af-c9b4-4a95-8f4a-51ad14909873",
       "rows": [
        [
         "0",
         "521029",
         "1312",
         "421859.13",
         "9055.199999999999",
         "0.021464985242822643",
         "13",
         "13",
         "Fabricação de produtos têxteis",
         "71933723000.0",
         "74466387000.0",
         "Média Baixa Intensidade Tecnológica"
        ],
        [
         "1",
         "521032",
         "1312",
         "724739.3999999999",
         "7702.3099999999995",
         "0.010627695969061431",
         "13",
         "13",
         "Fabricação de produtos têxteis",
         "71933723000.0",
         "74466387000.0",
         "Média Baixa Intensidade Tecnológica"
        ]
       ],
       "shape": {
        "columns": 11,
        "rows": 2
       }
      },
      "text/html": [
       "<div>\n",
       "<style scoped>\n",
       "    .dataframe tbody tr th:only-of-type {\n",
       "        vertical-align: middle;\n",
       "    }\n",
       "\n",
       "    .dataframe tbody tr th {\n",
       "        vertical-align: top;\n",
       "    }\n",
       "\n",
       "    .dataframe thead th {\n",
       "        text-align: right;\n",
       "    }\n",
       "</style>\n",
       "<table border=\"1\" class=\"dataframe\">\n",
       "  <thead>\n",
       "    <tr style=\"text-align: right;\">\n",
       "      <th></th>\n",
       "      <th>CO_SH6</th>\n",
       "      <th>CO_ISIC_CLASSE</th>\n",
       "      <th>R$ FOB Mundo</th>\n",
       "      <th>R$ FOB USA</th>\n",
       "      <th>participacao_usa</th>\n",
       "      <th>CNAE2s</th>\n",
       "      <th>cnae</th>\n",
       "      <th>cnae_descricao</th>\n",
       "      <th>Receita líquida de vendas de produtos e serviços industriais</th>\n",
       "      <th>Total da receita líquida de vendas</th>\n",
       "      <th>Intensidade Tecnológica</th>\n",
       "    </tr>\n",
       "  </thead>\n",
       "  <tbody>\n",
       "    <tr>\n",
       "      <th>0</th>\n",
       "      <td>521029</td>\n",
       "      <td>1312</td>\n",
       "      <td>421859.13</td>\n",
       "      <td>9055.20</td>\n",
       "      <td>0.021465</td>\n",
       "      <td>13</td>\n",
       "      <td>13</td>\n",
       "      <td>Fabricação de produtos têxteis</td>\n",
       "      <td>7.193372e+10</td>\n",
       "      <td>7.446639e+10</td>\n",
       "      <td>Média Baixa Intensidade Tecnológica</td>\n",
       "    </tr>\n",
       "    <tr>\n",
       "      <th>1</th>\n",
       "      <td>521032</td>\n",
       "      <td>1312</td>\n",
       "      <td>724739.40</td>\n",
       "      <td>7702.31</td>\n",
       "      <td>0.010628</td>\n",
       "      <td>13</td>\n",
       "      <td>13</td>\n",
       "      <td>Fabricação de produtos têxteis</td>\n",
       "      <td>7.193372e+10</td>\n",
       "      <td>7.446639e+10</td>\n",
       "      <td>Média Baixa Intensidade Tecnológica</td>\n",
       "    </tr>\n",
       "  </tbody>\n",
       "</table>\n",
       "</div>"
      ],
      "text/plain": [
       "   CO_SH6 CO_ISIC_CLASSE  R$ FOB Mundo  R$ FOB USA  participacao_usa CNAE2s  \\\n",
       "0  521029           1312     421859.13     9055.20          0.021465     13   \n",
       "1  521032           1312     724739.40     7702.31          0.010628     13   \n",
       "\n",
       "  cnae                  cnae_descricao  \\\n",
       "0   13  Fabricação de produtos têxteis   \n",
       "1   13  Fabricação de produtos têxteis   \n",
       "\n",
       "   Receita líquida de vendas de produtos e serviços industriais  \\\n",
       "0                                       7.193372e+10              \n",
       "1                                       7.193372e+10              \n",
       "\n",
       "   Total da receita líquida de vendas              Intensidade Tecnológica  \n",
       "0                        7.446639e+10  Média Baixa Intensidade Tecnológica  \n",
       "1                        7.446639e+10  Média Baixa Intensidade Tecnológica  "
      ]
     },
     "execution_count": 77,
     "metadata": {},
     "output_type": "execute_result"
    }
   ],
   "source": [
    "exportacoes_pia.head(2)"
   ]
  },
  {
   "cell_type": "code",
   "execution_count": 78,
   "id": "feeb9ba7",
   "metadata": {},
   "outputs": [],
   "source": [
    "tarifas = pd.read_excel('./dados/comex/NCM_SH6_Tarifas.xlsx')"
   ]
  },
  {
   "cell_type": "code",
   "execution_count": 80,
   "id": "53687756",
   "metadata": {},
   "outputs": [
    {
     "data": {
      "application/vnd.microsoft.datawrangler.viewer.v0+json": {
       "columns": [
        {
         "name": "index",
         "rawType": "int64",
         "type": "integer"
        },
        {
         "name": "SH6",
         "rawType": "int64",
         "type": "integer"
        },
        {
         "name": "Instrumento",
         "rawType": "object",
         "type": "string"
        },
        {
         "name": "Tarifa",
         "rawType": "object",
         "type": "string"
        },
        {
         "name": "Articles of Civil Aircraft only",
         "rawType": "object",
         "type": "unknown"
        }
       ],
       "ref": "32354268-2367-416c-81c6-de1b5a0ea08b",
       "rows": [
        [
         "6612",
         "400122",
         "Ordem 30/07",
         "Tarifa de 50%",
         null
        ],
        [
         "6613",
         "400129",
         "Ordem 30/07",
         "Tarifa de 50%",
         null
        ],
        [
         "6614",
         "392113",
         "Ordem 30/07",
         "Tarifa de 50%",
         null
        ],
        [
         "6615",
         "481014",
         "Ordem 30/07",
         "Tarifa de 50%",
         null
        ],
        [
         "6616",
         "392112",
         "Ordem 30/07",
         "Tarifa de 50%",
         null
        ]
       ],
       "shape": {
        "columns": 4,
        "rows": 5
       }
      },
      "text/html": [
       "<div>\n",
       "<style scoped>\n",
       "    .dataframe tbody tr th:only-of-type {\n",
       "        vertical-align: middle;\n",
       "    }\n",
       "\n",
       "    .dataframe tbody tr th {\n",
       "        vertical-align: top;\n",
       "    }\n",
       "\n",
       "    .dataframe thead th {\n",
       "        text-align: right;\n",
       "    }\n",
       "</style>\n",
       "<table border=\"1\" class=\"dataframe\">\n",
       "  <thead>\n",
       "    <tr style=\"text-align: right;\">\n",
       "      <th></th>\n",
       "      <th>SH6</th>\n",
       "      <th>Instrumento</th>\n",
       "      <th>Tarifa</th>\n",
       "      <th>Articles of Civil Aircraft only</th>\n",
       "    </tr>\n",
       "  </thead>\n",
       "  <tbody>\n",
       "    <tr>\n",
       "      <th>6612</th>\n",
       "      <td>400122</td>\n",
       "      <td>Ordem 30/07</td>\n",
       "      <td>Tarifa de 50%</td>\n",
       "      <td>NaN</td>\n",
       "    </tr>\n",
       "    <tr>\n",
       "      <th>6613</th>\n",
       "      <td>400129</td>\n",
       "      <td>Ordem 30/07</td>\n",
       "      <td>Tarifa de 50%</td>\n",
       "      <td>NaN</td>\n",
       "    </tr>\n",
       "    <tr>\n",
       "      <th>6614</th>\n",
       "      <td>392113</td>\n",
       "      <td>Ordem 30/07</td>\n",
       "      <td>Tarifa de 50%</td>\n",
       "      <td>NaN</td>\n",
       "    </tr>\n",
       "    <tr>\n",
       "      <th>6615</th>\n",
       "      <td>481014</td>\n",
       "      <td>Ordem 30/07</td>\n",
       "      <td>Tarifa de 50%</td>\n",
       "      <td>NaN</td>\n",
       "    </tr>\n",
       "    <tr>\n",
       "      <th>6616</th>\n",
       "      <td>392112</td>\n",
       "      <td>Ordem 30/07</td>\n",
       "      <td>Tarifa de 50%</td>\n",
       "      <td>NaN</td>\n",
       "    </tr>\n",
       "  </tbody>\n",
       "</table>\n",
       "</div>"
      ],
      "text/plain": [
       "         SH6  Instrumento         Tarifa Articles of Civil Aircraft only\n",
       "6612  400122  Ordem 30/07  Tarifa de 50%                             NaN\n",
       "6613  400129  Ordem 30/07  Tarifa de 50%                             NaN\n",
       "6614  392113  Ordem 30/07  Tarifa de 50%                             NaN\n",
       "6615  481014  Ordem 30/07  Tarifa de 50%                             NaN\n",
       "6616  392112  Ordem 30/07  Tarifa de 50%                             NaN"
      ]
     },
     "execution_count": 80,
     "metadata": {},
     "output_type": "execute_result"
    }
   ],
   "source": [
    "tarifas.tail()"
   ]
  },
  {
   "cell_type": "code",
   "execution_count": 89,
   "id": "d77ab574",
   "metadata": {},
   "outputs": [
    {
     "data": {
      "application/vnd.microsoft.datawrangler.viewer.v0+json": {
       "columns": [
        {
         "name": "index",
         "rawType": "object",
         "type": "string"
        },
        {
         "name": "0",
         "rawType": "object",
         "type": "unknown"
        }
       ],
       "ref": "dc5753f5-89d2-4b33-9c2c-0719ffdf400f",
       "rows": [
        [
         "CO_SH6",
         "object"
        ],
        [
         "CO_ISIC_CLASSE",
         "object"
        ],
        [
         "R$ FOB Mundo",
         "float64"
        ],
        [
         "R$ FOB USA",
         "float64"
        ],
        [
         "participacao_usa",
         "float64"
        ],
        [
         "CNAE2s",
         "object"
        ],
        [
         "cnae",
         "object"
        ],
        [
         "cnae_descricao",
         "object"
        ],
        [
         "Receita líquida de vendas de produtos e serviços industriais",
         "float64"
        ],
        [
         "Total da receita líquida de vendas",
         "float64"
        ],
        [
         "Intensidade Tecnológica",
         "object"
        ]
       ],
       "shape": {
        "columns": 1,
        "rows": 11
       }
      },
      "text/plain": [
       "CO_SH6                                                           object\n",
       "CO_ISIC_CLASSE                                                   object\n",
       "R$ FOB Mundo                                                    float64\n",
       "R$ FOB USA                                                      float64\n",
       "participacao_usa                                                float64\n",
       "CNAE2s                                                           object\n",
       "cnae                                                             object\n",
       "cnae_descricao                                                   object\n",
       "Receita líquida de vendas de produtos e serviços industriais    float64\n",
       "Total da receita líquida de vendas                              float64\n",
       "Intensidade Tecnológica                                          object\n",
       "dtype: object"
      ]
     },
     "execution_count": 89,
     "metadata": {},
     "output_type": "execute_result"
    }
   ],
   "source": [
    "exportacoes_pia.dtypes"
   ]
  },
  {
   "cell_type": "code",
   "execution_count": 90,
   "id": "77ef90d9",
   "metadata": {},
   "outputs": [],
   "source": [
    "exportacoes_pia['R$ FOB USA'] = exportacoes_pia['R$ FOB USA'].astype(float)\n",
    "exportacoes_pia['Total da receita líquida de vendas'] = exportacoes_pia['Total da receita líquida de vendas'].astype(float)"
   ]
  },
  {
   "cell_type": "code",
   "execution_count": 120,
   "id": "73526fa8",
   "metadata": {},
   "outputs": [],
   "source": [
    "exportacoes_agregadas_cnae = exportacoes_pia.groupby(['cnae','cnae_descricao']).aggregate({'R$ FOB USA': 'sum','Total da receita líquida de vendas' : 'mean' }).reset_index()"
   ]
  },
  {
   "cell_type": "code",
   "execution_count": 121,
   "id": "0257166b",
   "metadata": {},
   "outputs": [
    {
     "data": {
      "application/vnd.microsoft.datawrangler.viewer.v0+json": {
       "columns": [
        {
         "name": "index",
         "rawType": "int64",
         "type": "integer"
        },
        {
         "name": "cnae",
         "rawType": "object",
         "type": "string"
        },
        {
         "name": "cnae_descricao",
         "rawType": "object",
         "type": "string"
        },
        {
         "name": "R$ FOB USA",
         "rawType": "float64",
         "type": "float"
        },
        {
         "name": "Total da receita líquida de vendas",
         "rawType": "float64",
         "type": "float"
        }
       ],
       "ref": "2c6d7614-0935-405a-92ad-959d6d2e5e1e",
       "rows": [
        [
         "0",
         "060",
         "Extração de petróleo e gás natural",
         "25251450022.260002",
         "163281926000.0"
        ],
        [
         "1",
         "071",
         "Extração de minério de ferro",
         "2071770205.89",
         "196958255000.0"
        ],
        [
         "2",
         "072",
         "Extração de minerais metálicos não-ferrosos",
         "31201508.029999997",
         "27466066000.0"
        ],
        [
         "3",
         "081",
         "Extração de pedra, areia e argila",
         "89881834.35000001",
         "25005569000.0"
        ],
        [
         "4",
         "089",
         "Extração de outros minerais não-metálicos",
         "266922194.76999998",
         "8940663000.0"
        ]
       ],
       "shape": {
        "columns": 4,
        "rows": 5
       }
      },
      "text/html": [
       "<div>\n",
       "<style scoped>\n",
       "    .dataframe tbody tr th:only-of-type {\n",
       "        vertical-align: middle;\n",
       "    }\n",
       "\n",
       "    .dataframe tbody tr th {\n",
       "        vertical-align: top;\n",
       "    }\n",
       "\n",
       "    .dataframe thead th {\n",
       "        text-align: right;\n",
       "    }\n",
       "</style>\n",
       "<table border=\"1\" class=\"dataframe\">\n",
       "  <thead>\n",
       "    <tr style=\"text-align: right;\">\n",
       "      <th></th>\n",
       "      <th>cnae</th>\n",
       "      <th>cnae_descricao</th>\n",
       "      <th>R$ FOB USA</th>\n",
       "      <th>Total da receita líquida de vendas</th>\n",
       "    </tr>\n",
       "  </thead>\n",
       "  <tbody>\n",
       "    <tr>\n",
       "      <th>0</th>\n",
       "      <td>060</td>\n",
       "      <td>Extração de petróleo e gás natural</td>\n",
       "      <td>2.525145e+10</td>\n",
       "      <td>1.632819e+11</td>\n",
       "    </tr>\n",
       "    <tr>\n",
       "      <th>1</th>\n",
       "      <td>071</td>\n",
       "      <td>Extração de minério de ferro</td>\n",
       "      <td>2.071770e+09</td>\n",
       "      <td>1.969583e+11</td>\n",
       "    </tr>\n",
       "    <tr>\n",
       "      <th>2</th>\n",
       "      <td>072</td>\n",
       "      <td>Extração de minerais metálicos não-ferrosos</td>\n",
       "      <td>3.120151e+07</td>\n",
       "      <td>2.746607e+10</td>\n",
       "    </tr>\n",
       "    <tr>\n",
       "      <th>3</th>\n",
       "      <td>081</td>\n",
       "      <td>Extração de pedra, areia e argila</td>\n",
       "      <td>8.988183e+07</td>\n",
       "      <td>2.500557e+10</td>\n",
       "    </tr>\n",
       "    <tr>\n",
       "      <th>4</th>\n",
       "      <td>089</td>\n",
       "      <td>Extração de outros minerais não-metálicos</td>\n",
       "      <td>2.669222e+08</td>\n",
       "      <td>8.940663e+09</td>\n",
       "    </tr>\n",
       "  </tbody>\n",
       "</table>\n",
       "</div>"
      ],
      "text/plain": [
       "  cnae                               cnae_descricao    R$ FOB USA  \\\n",
       "0  060           Extração de petróleo e gás natural  2.525145e+10   \n",
       "1  071                 Extração de minério de ferro  2.071770e+09   \n",
       "2  072  Extração de minerais metálicos não-ferrosos  3.120151e+07   \n",
       "3  081            Extração de pedra, areia e argila  8.988183e+07   \n",
       "4  089    Extração de outros minerais não-metálicos  2.669222e+08   \n",
       "\n",
       "   Total da receita líquida de vendas  \n",
       "0                        1.632819e+11  \n",
       "1                        1.969583e+11  \n",
       "2                        2.746607e+10  \n",
       "3                        2.500557e+10  \n",
       "4                        8.940663e+09  "
      ]
     },
     "execution_count": 121,
     "metadata": {},
     "output_type": "execute_result"
    }
   ],
   "source": [
    "exportacoes_agregadas_cnae.head()"
   ]
  },
  {
   "cell_type": "code",
   "execution_count": 122,
   "id": "6f5d6e5f",
   "metadata": {},
   "outputs": [],
   "source": [
    "exportacoes_agregadas_cnae['participacao_usa'] = exportacoes_agregadas_cnae['R$ FOB USA'] / exportacoes_agregadas_cnae['Total da receita líquida de vendas']"
   ]
  },
  {
   "cell_type": "code",
   "execution_count": 124,
   "id": "57f2d0fc",
   "metadata": {},
   "outputs": [
    {
     "data": {
      "application/vnd.microsoft.datawrangler.viewer.v0+json": {
       "columns": [
        {
         "name": "index",
         "rawType": "int64",
         "type": "integer"
        },
        {
         "name": "cnae",
         "rawType": "object",
         "type": "string"
        },
        {
         "name": "cnae_descricao",
         "rawType": "object",
         "type": "string"
        },
        {
         "name": "R$ FOB USA",
         "rawType": "float64",
         "type": "float"
        },
        {
         "name": "Total da receita líquida de vendas",
         "rawType": "float64",
         "type": "float"
        },
        {
         "name": "participacao_usa",
         "rawType": "float64",
         "type": "float"
        }
       ],
       "ref": "0d624b4f-c4ea-437b-8833-fd2a69578778",
       "rows": [
        [
         "54",
         "304",
         "Fabricação de aeronaves",
         "12228602477.63",
         "21138483000.0",
         "0.5784995298683449"
        ],
        [
         "33",
         "255",
         "Fabricação de equipamento bélico pesado, armas de fogo e munições",
         "1734273350.81",
         "3961277000.0",
         "0.4378066342772798"
        ],
        [
         "19",
         "161",
         "Desdobramento de madeira",
         "3889611512.7099996",
         "15012463000.0",
         "0.25909216313872013"
        ],
        [
         "0",
         "060",
         "Extração de petróleo e gás natural",
         "25251450022.260002",
         "163281926000.0",
         "0.15464938858119545"
        ],
        [
         "57",
         "321",
         "Fabricação de artigos de joalheria, bijuteria e semelhantes",
         "620648722.54",
         "4194860000.0",
         "0.1479545735829086"
        ],
        [
         "8",
         "103",
         "Fabricação de conservas de frutas, legumes e outros vegetais",
         "5266325253.419999",
         "48355174000.0",
         "0.10890924006229404"
        ],
        [
         "29",
         "24",
         "Metalurgia",
         "38267553534.21",
         "399822197000.0",
         "0.0957114282832326"
        ],
        [
         "47",
         "279",
         "Fabricação de equipamentos e aparelhos elétricos não especificados anteriormente",
         "622622459.6899999",
         "7798901000.0",
         "0.07983464076412816"
        ],
        [
         "7",
         "102",
         "Preservação do pescado e fabricação de produtos do pescado",
         "636481497.1899999",
         "8018975000.0",
         "0.07937192685972957"
        ],
        [
         "18",
         "16",
         "Fabricação de produtos de madeira",
         "3901701207.25",
         "51301221000.0",
         "0.07605474355571382"
        ],
        [
         "39",
         "266",
         "Fabricação de aparelhos eletromédicos e eletroterapêuticos e equipamentos de irradiação",
         "115536089.13",
         "1818745000.0",
         "0.0635251720994422"
        ],
        [
         "38",
         "265",
         "Fabricação de aparelhos e instrumentos de medida, teste e controle; cronômetros e relógios",
         "813510829.67",
         "12946921000.0",
         "0.06283430861051828"
        ],
        [
         "48",
         "28",
         "Fabricação de máquinas e equipamentos",
         "18492159470.399998",
         "309280806000.0",
         "0.05979084091755761"
        ],
        [
         "30",
         "244",
         "Metalurgia dos metais não-ferrosos",
         "5738441438.73",
         "114507929000.0",
         "0.05011392214359234"
        ],
        [
         "20",
         "17",
         "Fabricação de celulose, papel e produtos de papel",
         "7728007013.65",
         "172404162000.0",
         "0.04482494461850636"
        ],
        [
         "17",
         "15",
         "Preparação de couros e fabricação de artefatos de couro, artigos para viagem e calçados",
         "2351466145.49",
         "53498847000.0",
         "0.04395358549484253"
        ],
        [
         "13",
         "12",
         "Fabricação de produtos do fumo",
         "926344335.07",
         "23861750000.0",
         "0.03882130753486228"
        ],
        [
         "58",
         "322",
         "Fabricação de instrumentos musicais",
         "7829093.58",
         "242314000.0",
         "0.03230970385532821"
        ],
        [
         "61",
         "325",
         "Fabricação de instrumentos e materiais para uso médico e odontológico e de artigos ópticos",
         "707261866.8499999",
         "23198317000.0",
         "0.03048763696306072"
        ],
        [
         "4",
         "089",
         "Extração de outros minerais não-metálicos",
         "266922194.76999998",
         "8940663000.0",
         "0.02985485469813592"
        ],
        [
         "42",
         "27",
         "Fabricação de máquinas, aparelhos e materiais elétricos",
         "4683385520.66",
         "161378830000.0",
         "0.029021065034738447"
        ],
        [
         "27",
         "23",
         "Fabricação de produtos de minerais não-metálicos",
         "4578354762.5199995",
         "169550432000.0",
         "0.027002908270502075"
        ],
        [
         "56",
         "310",
         "Fabricação de móveis",
         "1375989022.87",
         "52030459000.0",
         "0.02644583671402937"
        ],
        [
         "51",
         "294",
         "Fabricação de peças e acessórios para veículos automotores",
         "4256605212.8599997",
         "173833174000.0",
         "0.024486725490383093"
        ],
        [
         "52",
         "301",
         "Construção de embarcações",
         "209312123.02",
         "10691029000.0",
         "0.019578295318439413"
        ],
        [
         "23",
         "20",
         "Fabricação de produtos químicos",
         "11718209277.39",
         "606519135000.0",
         "0.01932042799835161"
        ],
        [
         "34",
         "261",
         "Fabricação de componentes eletrônicos",
         "210046117.04999998",
         "13455682000.0",
         "0.015610217085243244"
        ],
        [
         "62",
         "329",
         "Fabricação de produtos diversos",
         "248856165.24999997",
         "17207272000.0",
         "0.014462267188546794"
        ],
        [
         "26",
         "22",
         "Fabricação de produtos de borracha e de material plástico",
         "2834338366.8599997",
         "205635054000.0",
         "0.013783342439562855"
        ],
        [
         "6",
         "101",
         "Abate e fabricação de produtos de carne",
         "5693081036.719999",
         "444429405000.0",
         "0.012809865802466422"
        ],
        [
         "35",
         "262",
         "Fabricação de equipamentos de informática e periféricos",
         "522132625.63",
         "42395752000.0",
         "0.012315682609663346"
        ],
        [
         "32",
         "25",
         "Fabricação de produtos de metal, exceto máquinas e equipamentos",
         "2101494589.81",
         "170748418000.0",
         "0.012307549401775423"
        ],
        [
         "1",
         "071",
         "Extração de minério de ferro",
         "2071770205.89",
         "196958255000.0",
         "0.01051882900714164"
        ],
        [
         "16",
         "142",
         "Fabricação de artigos de malharia e tricotagem",
         "16533566.28",
         "1855755000.0",
         "0.008909347559349159"
        ],
        [
         "28",
         "231",
         "Fabricação de vidro e de produtos do vidro",
         "206145762.13",
         "23290355000.0",
         "0.00885112151059956"
        ],
        [
         "59",
         "323",
         "Fabricação de artefatos para pesca e esporte",
         "13203473.36",
         "1492738000.0",
         "0.008845137833966845"
        ],
        [
         "37",
         "264",
         "Fabricação de aparelhos de recepção, reprodução, gravação e amplificação de áudio e vídeo",
         "183313910.77999997",
         "22017386000.0",
         "0.008325870781390668"
        ],
        [
         "25",
         "21",
         "Fabricação de produtos farmoquímicos e farmacêuticos",
         "843912812.05",
         "105495704000.0",
         "0.007999499316578805"
        ],
        [
         "50",
         "293",
         "Fabricação de cabines, carrocerias e reboques para veículos automotores",
         "223477118.48",
         "31939993000.0",
         "0.00699678044638269"
        ],
        [
         "9",
         "104",
         "Fabricação de óleos e gorduras vegetais e animais",
         "1793702725.43",
         "284329240000.0",
         "0.006308541201847548"
        ],
        [
         "44",
         "273",
         "Fabricação de equipamentos para distribuição e controle de energia elétrica",
         "314137554.5",
         "50041760000.0",
         "0.006277508115222166"
        ],
        [
         "36",
         "263",
         "Fabricação de equipamentos de comunicação",
         "361308188.01",
         "59388440000.0",
         "0.006083813415708511"
        ],
        [
         "45",
         "274",
         "Fabricação de lâmpadas e outros equipamentos de iluminação",
         "21464289.77",
         "4167448000.0",
         "0.00515046372984138"
        ],
        [
         "55",
         "309",
         "Fabricação de equipamentos de transporte não especificados anteriormente",
         "126596735.64999999",
         "33219657000.0",
         "0.003810898337993074"
        ],
        [
         "5",
         "10",
         "Fabricação de produtos alimentícios",
         "5527248388.969999",
         "1510288975000.0",
         "0.0036597290190574284"
        ],
        [
         "3",
         "081",
         "Extração de pedra, areia e argila",
         "89881834.35000001",
         "25005569000.0",
         "0.0035944726692681943"
        ],
        [
         "60",
         "324",
         "Fabricação de brinquedos e jogos recreativos",
         "11719568.629999999",
         "3422822000.0",
         "0.0034239491945534995"
        ],
        [
         "14",
         "13",
         "Fabricação de produtos têxteis",
         "241168440.58999997",
         "74466387000.0",
         "0.003238621481528303"
        ],
        [
         "43",
         "272",
         "Fabricação de pilhas, baterias e acumuladores elétricos",
         "21380254.279999997",
         "7009393000.0",
         "0.003050229068337301"
        ],
        [
         "11",
         "106",
         "Moagem, fabricação de produtos amiláceos e de alimentos para animais",
         "522686620.61",
         "246789058000.0",
         "0.002117948927095463"
        ]
       ],
       "shape": {
        "columns": 5,
        "rows": 63
       }
      },
      "text/html": [
       "<div>\n",
       "<style scoped>\n",
       "    .dataframe tbody tr th:only-of-type {\n",
       "        vertical-align: middle;\n",
       "    }\n",
       "\n",
       "    .dataframe tbody tr th {\n",
       "        vertical-align: top;\n",
       "    }\n",
       "\n",
       "    .dataframe thead th {\n",
       "        text-align: right;\n",
       "    }\n",
       "</style>\n",
       "<table border=\"1\" class=\"dataframe\">\n",
       "  <thead>\n",
       "    <tr style=\"text-align: right;\">\n",
       "      <th></th>\n",
       "      <th>cnae</th>\n",
       "      <th>cnae_descricao</th>\n",
       "      <th>R$ FOB USA</th>\n",
       "      <th>Total da receita líquida de vendas</th>\n",
       "      <th>participacao_usa</th>\n",
       "    </tr>\n",
       "  </thead>\n",
       "  <tbody>\n",
       "    <tr>\n",
       "      <th>54</th>\n",
       "      <td>304</td>\n",
       "      <td>Fabricação de aeronaves</td>\n",
       "      <td>1.222860e+10</td>\n",
       "      <td>2.113848e+10</td>\n",
       "      <td>5.784995e-01</td>\n",
       "    </tr>\n",
       "    <tr>\n",
       "      <th>33</th>\n",
       "      <td>255</td>\n",
       "      <td>Fabricação de equipamento bélico pesado, armas...</td>\n",
       "      <td>1.734273e+09</td>\n",
       "      <td>3.961277e+09</td>\n",
       "      <td>4.378066e-01</td>\n",
       "    </tr>\n",
       "    <tr>\n",
       "      <th>19</th>\n",
       "      <td>161</td>\n",
       "      <td>Desdobramento de madeira</td>\n",
       "      <td>3.889612e+09</td>\n",
       "      <td>1.501246e+10</td>\n",
       "      <td>2.590922e-01</td>\n",
       "    </tr>\n",
       "    <tr>\n",
       "      <th>0</th>\n",
       "      <td>060</td>\n",
       "      <td>Extração de petróleo e gás natural</td>\n",
       "      <td>2.525145e+10</td>\n",
       "      <td>1.632819e+11</td>\n",
       "      <td>1.546494e-01</td>\n",
       "    </tr>\n",
       "    <tr>\n",
       "      <th>57</th>\n",
       "      <td>321</td>\n",
       "      <td>Fabricação de artigos de joalheria, bijuteria ...</td>\n",
       "      <td>6.206487e+08</td>\n",
       "      <td>4.194860e+09</td>\n",
       "      <td>1.479546e-01</td>\n",
       "    </tr>\n",
       "    <tr>\n",
       "      <th>...</th>\n",
       "      <td>...</td>\n",
       "      <td>...</td>\n",
       "      <td>...</td>\n",
       "      <td>...</td>\n",
       "      <td>...</td>\n",
       "    </tr>\n",
       "    <tr>\n",
       "      <th>21</th>\n",
       "      <td>18</td>\n",
       "      <td>Impressão e reprodução de gravações</td>\n",
       "      <td>1.132288e+06</td>\n",
       "      <td>2.286563e+10</td>\n",
       "      <td>4.951921e-05</td>\n",
       "    </tr>\n",
       "    <tr>\n",
       "      <th>41</th>\n",
       "      <td>268</td>\n",
       "      <td>Fabricação de mídias virgens, magnéticas e ópt...</td>\n",
       "      <td>5.432565e+06</td>\n",
       "      <td>-1.000000e+03</td>\n",
       "      <td>-5.432565e+03</td>\n",
       "    </tr>\n",
       "    <tr>\n",
       "      <th>40</th>\n",
       "      <td>267</td>\n",
       "      <td>Fabricação de equipamentos e instrumentos ópti...</td>\n",
       "      <td>1.160705e+07</td>\n",
       "      <td>-1.000000e+03</td>\n",
       "      <td>-1.160705e+04</td>\n",
       "    </tr>\n",
       "    <tr>\n",
       "      <th>53</th>\n",
       "      <td>303</td>\n",
       "      <td>Fabricação de veículos ferroviários</td>\n",
       "      <td>9.602509e+07</td>\n",
       "      <td>-1.000000e+03</td>\n",
       "      <td>-9.602509e+04</td>\n",
       "    </tr>\n",
       "    <tr>\n",
       "      <th>22</th>\n",
       "      <td>192</td>\n",
       "      <td>Fabricação de produtos derivados do petróleo</td>\n",
       "      <td>7.137661e+09</td>\n",
       "      <td>-1.000000e+03</td>\n",
       "      <td>-7.137661e+06</td>\n",
       "    </tr>\n",
       "  </tbody>\n",
       "</table>\n",
       "<p>63 rows × 5 columns</p>\n",
       "</div>"
      ],
      "text/plain": [
       "   cnae                                     cnae_descricao    R$ FOB USA  \\\n",
       "54  304                            Fabricação de aeronaves  1.222860e+10   \n",
       "33  255  Fabricação de equipamento bélico pesado, armas...  1.734273e+09   \n",
       "19  161                           Desdobramento de madeira  3.889612e+09   \n",
       "0   060                 Extração de petróleo e gás natural  2.525145e+10   \n",
       "57  321  Fabricação de artigos de joalheria, bijuteria ...  6.206487e+08   \n",
       "..  ...                                                ...           ...   \n",
       "21   18                Impressão e reprodução de gravações  1.132288e+06   \n",
       "41  268  Fabricação de mídias virgens, magnéticas e ópt...  5.432565e+06   \n",
       "40  267  Fabricação de equipamentos e instrumentos ópti...  1.160705e+07   \n",
       "53  303                Fabricação de veículos ferroviários  9.602509e+07   \n",
       "22  192       Fabricação de produtos derivados do petróleo  7.137661e+09   \n",
       "\n",
       "    Total da receita líquida de vendas  participacao_usa  \n",
       "54                        2.113848e+10      5.784995e-01  \n",
       "33                        3.961277e+09      4.378066e-01  \n",
       "19                        1.501246e+10      2.590922e-01  \n",
       "0                         1.632819e+11      1.546494e-01  \n",
       "57                        4.194860e+09      1.479546e-01  \n",
       "..                                 ...               ...  \n",
       "21                        2.286563e+10      4.951921e-05  \n",
       "41                       -1.000000e+03     -5.432565e+03  \n",
       "40                       -1.000000e+03     -1.160705e+04  \n",
       "53                       -1.000000e+03     -9.602509e+04  \n",
       "22                       -1.000000e+03     -7.137661e+06  \n",
       "\n",
       "[63 rows x 5 columns]"
      ]
     },
     "execution_count": 124,
     "metadata": {},
     "output_type": "execute_result"
    }
   ],
   "source": [
    "exportacoes_agregadas_cnae.sort_values(by='participacao_usa', ascending=False)"
   ]
  },
  {
   "cell_type": "code",
   "execution_count": 118,
   "id": "fd244c27",
   "metadata": {},
   "outputs": [
    {
     "data": {
      "application/vnd.microsoft.datawrangler.viewer.v0+json": {
       "columns": [
        {
         "name": "index",
         "rawType": "int64",
         "type": "integer"
        },
        {
         "name": "cnae",
         "rawType": "object",
         "type": "string"
        },
        {
         "name": "cnae_descricao",
         "rawType": "object",
         "type": "string"
        },
        {
         "name": "R$ FOB USA",
         "rawType": "float64",
         "type": "float"
        },
        {
         "name": "Total da receita líquida de vendas",
         "rawType": "float64",
         "type": "float"
        }
       ],
       "ref": "8af7a6b5-7ccc-4afa-98a1-2aab55b234f8",
       "rows": [
        [
         "0",
         "060",
         "Extração de petróleo e gás natural",
         "25251450022.260002",
         "163281926000.0"
        ]
       ],
       "shape": {
        "columns": 4,
        "rows": 1
       }
      },
      "text/html": [
       "<div>\n",
       "<style scoped>\n",
       "    .dataframe tbody tr th:only-of-type {\n",
       "        vertical-align: middle;\n",
       "    }\n",
       "\n",
       "    .dataframe tbody tr th {\n",
       "        vertical-align: top;\n",
       "    }\n",
       "\n",
       "    .dataframe thead th {\n",
       "        text-align: right;\n",
       "    }\n",
       "</style>\n",
       "<table border=\"1\" class=\"dataframe\">\n",
       "  <thead>\n",
       "    <tr style=\"text-align: right;\">\n",
       "      <th></th>\n",
       "      <th>cnae</th>\n",
       "      <th>cnae_descricao</th>\n",
       "      <th>R$ FOB USA</th>\n",
       "      <th>Total da receita líquida de vendas</th>\n",
       "    </tr>\n",
       "  </thead>\n",
       "  <tbody>\n",
       "    <tr>\n",
       "      <th>0</th>\n",
       "      <td>060</td>\n",
       "      <td>Extração de petróleo e gás natural</td>\n",
       "      <td>2.525145e+10</td>\n",
       "      <td>1.632819e+11</td>\n",
       "    </tr>\n",
       "  </tbody>\n",
       "</table>\n",
       "</div>"
      ],
      "text/plain": [
       "  cnae                      cnae_descricao    R$ FOB USA  \\\n",
       "0  060  Extração de petróleo e gás natural  2.525145e+10   \n",
       "\n",
       "   Total da receita líquida de vendas  \n",
       "0                        1.632819e+11  "
      ]
     },
     "execution_count": 118,
     "metadata": {},
     "output_type": "execute_result"
    }
   ],
   "source": [
    "exportacoes_pia.groupby(['cnae','cnae_descricao']).aggregate({'R$ FOB USA': 'sum','Total da receita líquida de vendas' : 'mean' }).reset_index().query('cnae == \"060\"')"
   ]
  }
 ],
 "metadata": {
  "kernelspec": {
   "display_name": "mip",
   "language": "python",
   "name": "python3"
  },
  "language_info": {
   "codemirror_mode": {
    "name": "ipython",
    "version": 3
   },
   "file_extension": ".py",
   "mimetype": "text/x-python",
   "name": "python",
   "nbconvert_exporter": "python",
   "pygments_lexer": "ipython3",
   "version": "3.13.2"
  }
 },
 "nbformat": 4,
 "nbformat_minor": 5
}
