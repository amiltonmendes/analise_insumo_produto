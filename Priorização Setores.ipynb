{
 "cells": [
  {
   "cell_type": "code",
   "execution_count": 1,
   "id": "d2dbc0f1",
   "metadata": {},
   "outputs": [],
   "source": [
    "import requests\n",
    "import pandas as pd\n",
    "\n",
    "import json"
   ]
  },
  {
   "cell_type": "code",
   "execution_count": 78,
   "id": "6f7220b3",
   "metadata": {},
   "outputs": [],
   "source": [
    "exportacoes_mundo_2023 = pd.read_excel('./dados/comex/Exportação  Mundo 2023 NCM.xlsx')\n",
    "exportacoes_usa_2023 = pd.read_excel('./dados/comex/Exportação USA 2023 NCM.xlsx.xlsx')\n"
   ]
  },
  {
   "cell_type": "code",
   "execution_count": 79,
   "id": "ab561cbf",
   "metadata": {},
   "outputs": [],
   "source": [
    "exportacoes_mundo_2023['cod_ncm'] = exportacoes_mundo_2023['Código NCM'].astype(str).str.zfill(8)\n",
    "exportacoes_usa_2023['cod_ncm'] = exportacoes_usa_2023['Código NCM'].astype(str).str.zfill(8)"
   ]
  },
  {
   "cell_type": "code",
   "execution_count": 80,
   "id": "14bdc4c2",
   "metadata": {},
   "outputs": [
    {
     "data": {
      "application/vnd.microsoft.datawrangler.viewer.v0+json": {
       "columns": [
        {
         "name": "index",
         "rawType": "int64",
         "type": "integer"
        },
        {
         "name": "Código NCM",
         "rawType": "int64",
         "type": "integer"
        },
        {
         "name": "Descrição NCM",
         "rawType": "object",
         "type": "string"
        },
        {
         "name": "2023 - Valor US$ FOB",
         "rawType": "int64",
         "type": "integer"
        },
        {
         "name": "cod_ncm",
         "rawType": "object",
         "type": "string"
        }
       ],
       "ref": "a9c9a4ab-3d90-42b1-9b7a-8ee427de9771",
       "rows": [
        [
         "0",
         "12019000",
         "Soja, mesmo triturada, exceto para semeadura",
         "53238560791",
         "12019000"
        ],
        [
         "1",
         "27090010",
         "Óleos brutos de petróleo",
         "42611078672",
         "27090010"
        ]
       ],
       "shape": {
        "columns": 4,
        "rows": 2
       }
      },
      "text/html": [
       "<div>\n",
       "<style scoped>\n",
       "    .dataframe tbody tr th:only-of-type {\n",
       "        vertical-align: middle;\n",
       "    }\n",
       "\n",
       "    .dataframe tbody tr th {\n",
       "        vertical-align: top;\n",
       "    }\n",
       "\n",
       "    .dataframe thead th {\n",
       "        text-align: right;\n",
       "    }\n",
       "</style>\n",
       "<table border=\"1\" class=\"dataframe\">\n",
       "  <thead>\n",
       "    <tr style=\"text-align: right;\">\n",
       "      <th></th>\n",
       "      <th>Código NCM</th>\n",
       "      <th>Descrição NCM</th>\n",
       "      <th>2023 - Valor US$ FOB</th>\n",
       "      <th>cod_ncm</th>\n",
       "    </tr>\n",
       "  </thead>\n",
       "  <tbody>\n",
       "    <tr>\n",
       "      <th>0</th>\n",
       "      <td>12019000</td>\n",
       "      <td>Soja, mesmo triturada, exceto para semeadura</td>\n",
       "      <td>53238560791</td>\n",
       "      <td>12019000</td>\n",
       "    </tr>\n",
       "    <tr>\n",
       "      <th>1</th>\n",
       "      <td>27090010</td>\n",
       "      <td>Óleos brutos de petróleo</td>\n",
       "      <td>42611078672</td>\n",
       "      <td>27090010</td>\n",
       "    </tr>\n",
       "  </tbody>\n",
       "</table>\n",
       "</div>"
      ],
      "text/plain": [
       "   Código NCM                                 Descrição NCM  \\\n",
       "0    12019000  Soja, mesmo triturada, exceto para semeadura   \n",
       "1    27090010                      Óleos brutos de petróleo   \n",
       "\n",
       "   2023 - Valor US$ FOB   cod_ncm  \n",
       "0           53238560791  12019000  \n",
       "1           42611078672  27090010  "
      ]
     },
     "execution_count": 80,
     "metadata": {},
     "output_type": "execute_result"
    }
   ],
   "source": [
    "exportacoes_mundo_2023.head(2)"
   ]
  },
  {
   "cell_type": "code",
   "execution_count": 83,
   "id": "ef84fc25",
   "metadata": {},
   "outputs": [],
   "source": [
    "#Taxa média de câmbio em 2023 - compra\n",
    "taxa_cambio = 5.39  # Exemplo de taxa média de câmbio em 2023\n",
    "exportacoes_mundo_2023['R$ FOB Mundo'] = exportacoes_mundo_2023['2023 - Valor US$ FOB'] * taxa_cambio\n",
    "exportacoes_usa_2023['R$ FOB USA'] = exportacoes_usa_2023['2023 - Valor US$ FOB'] * taxa_cambio"
   ]
  },
  {
   "cell_type": "markdown",
   "id": "3b58103b",
   "metadata": {},
   "source": [
    "## Agregar por SH6"
   ]
  },
  {
   "cell_type": "code",
   "execution_count": 84,
   "id": "2a5c4001",
   "metadata": {},
   "outputs": [],
   "source": [
    "exportacoes_mundo_2023['SH6'] = exportacoes_mundo_2023['cod_ncm'].str[0:6]\n",
    "exportacoes_usa_2023['SH6'] = exportacoes_usa_2023['cod_ncm'].str[0:6]\n",
    "\n",
    "#Agregar os valores por SH6\n",
    "exportacoes_mundo_2023 = exportacoes_mundo_2023.groupby('SH6')[['R$ FOB Mundo']].sum()\n",
    "    "
   ]
  },
  {
   "cell_type": "code",
   "execution_count": 86,
   "id": "8c433a10",
   "metadata": {},
   "outputs": [],
   "source": [
    "exportacoes_usa_2023 = exportacoes_usa_2023.groupby('SH6')[['R$ FOB USA']].sum()    "
   ]
  },
  {
   "cell_type": "code",
   "execution_count": 87,
   "id": "4b170e04",
   "metadata": {},
   "outputs": [],
   "source": [
    "exportacoes = exportacoes_mundo_2023.merge(exportacoes_usa_2023, on='SH6', how='left').fillna(0)"
   ]
  },
  {
   "cell_type": "code",
   "execution_count": 88,
   "id": "d34d2614",
   "metadata": {},
   "outputs": [],
   "source": [
    "exportacoes['participacao_usa'] = exportacoes['R$ FOB USA'] / (exportacoes['R$ FOB Mundo'])"
   ]
  },
  {
   "cell_type": "code",
   "execution_count": 89,
   "id": "728c00c9",
   "metadata": {},
   "outputs": [
    {
     "data": {
      "application/vnd.microsoft.datawrangler.viewer.v0+json": {
       "columns": [
        {
         "name": "SH6",
         "rawType": "object",
         "type": "string"
        },
        {
         "name": "R$ FOB Mundo",
         "rawType": "float64",
         "type": "float"
        },
        {
         "name": "R$ FOB USA",
         "rawType": "float64",
         "type": "float"
        },
        {
         "name": "participacao_usa",
         "rawType": "float64",
         "type": "float"
        }
       ],
       "ref": "a2579eb4-d41a-45a0-bf06-350089ffeb35",
       "rows": [
        [
         "010121",
         "40075081.199999996",
         "29427610.52",
         "0.734311937464022"
        ],
        [
         "010129",
         "21803972.959999997",
         "15256136.28",
         "0.6996952485672134"
        ]
       ],
       "shape": {
        "columns": 3,
        "rows": 2
       }
      },
      "text/html": [
       "<div>\n",
       "<style scoped>\n",
       "    .dataframe tbody tr th:only-of-type {\n",
       "        vertical-align: middle;\n",
       "    }\n",
       "\n",
       "    .dataframe tbody tr th {\n",
       "        vertical-align: top;\n",
       "    }\n",
       "\n",
       "    .dataframe thead th {\n",
       "        text-align: right;\n",
       "    }\n",
       "</style>\n",
       "<table border=\"1\" class=\"dataframe\">\n",
       "  <thead>\n",
       "    <tr style=\"text-align: right;\">\n",
       "      <th></th>\n",
       "      <th>R$ FOB Mundo</th>\n",
       "      <th>R$ FOB USA</th>\n",
       "      <th>participacao_usa</th>\n",
       "    </tr>\n",
       "    <tr>\n",
       "      <th>SH6</th>\n",
       "      <th></th>\n",
       "      <th></th>\n",
       "      <th></th>\n",
       "    </tr>\n",
       "  </thead>\n",
       "  <tbody>\n",
       "    <tr>\n",
       "      <th>010121</th>\n",
       "      <td>40075081.20</td>\n",
       "      <td>29427610.52</td>\n",
       "      <td>0.734312</td>\n",
       "    </tr>\n",
       "    <tr>\n",
       "      <th>010129</th>\n",
       "      <td>21803972.96</td>\n",
       "      <td>15256136.28</td>\n",
       "      <td>0.699695</td>\n",
       "    </tr>\n",
       "  </tbody>\n",
       "</table>\n",
       "</div>"
      ],
      "text/plain": [
       "        R$ FOB Mundo   R$ FOB USA  participacao_usa\n",
       "SH6                                                \n",
       "010121   40075081.20  29427610.52          0.734312\n",
       "010129   21803972.96  15256136.28          0.699695"
      ]
     },
     "execution_count": 89,
     "metadata": {},
     "output_type": "execute_result"
    }
   ],
   "source": [
    "exportacoes.head(2)"
   ]
  },
  {
   "cell_type": "code",
   "execution_count": 85,
   "id": "c89d2597",
   "metadata": {},
   "outputs": [
    {
     "data": {
      "application/vnd.microsoft.datawrangler.viewer.v0+json": {
       "columns": [
        {
         "name": "SH6",
         "rawType": "object",
         "type": "string"
        },
        {
         "name": "R$ FOB Mundo",
         "rawType": "float64",
         "type": "float"
        }
       ],
       "ref": "78848993-78a8-419f-9141-586b9544e678",
       "rows": [
        [
         "010121",
         "40075081.199999996"
        ],
        [
         "010129",
         "21803972.959999997"
        ]
       ],
       "shape": {
        "columns": 1,
        "rows": 2
       }
      },
      "text/html": [
       "<div>\n",
       "<style scoped>\n",
       "    .dataframe tbody tr th:only-of-type {\n",
       "        vertical-align: middle;\n",
       "    }\n",
       "\n",
       "    .dataframe tbody tr th {\n",
       "        vertical-align: top;\n",
       "    }\n",
       "\n",
       "    .dataframe thead th {\n",
       "        text-align: right;\n",
       "    }\n",
       "</style>\n",
       "<table border=\"1\" class=\"dataframe\">\n",
       "  <thead>\n",
       "    <tr style=\"text-align: right;\">\n",
       "      <th></th>\n",
       "      <th>R$ FOB Mundo</th>\n",
       "    </tr>\n",
       "    <tr>\n",
       "      <th>SH6</th>\n",
       "      <th></th>\n",
       "    </tr>\n",
       "  </thead>\n",
       "  <tbody>\n",
       "    <tr>\n",
       "      <th>010121</th>\n",
       "      <td>40075081.20</td>\n",
       "    </tr>\n",
       "    <tr>\n",
       "      <th>010129</th>\n",
       "      <td>21803972.96</td>\n",
       "    </tr>\n",
       "  </tbody>\n",
       "</table>\n",
       "</div>"
      ],
      "text/plain": [
       "        R$ FOB Mundo\n",
       "SH6                 \n",
       "010121   40075081.20\n",
       "010129   21803972.96"
      ]
     },
     "execution_count": 85,
     "metadata": {},
     "output_type": "execute_result"
    }
   ],
   "source": [
    "exportacoes_mundo_2023.head(2)"
   ]
  },
  {
   "cell_type": "markdown",
   "id": "7a9d015e",
   "metadata": {},
   "source": [
    "## Mapeamento ISIC e CNAE"
   ]
  },
  {
   "cell_type": "code",
   "execution_count": 14,
   "id": "17506901",
   "metadata": {},
   "outputs": [],
   "source": [
    "ncm_isic = pd.read_csv('./dados/comex/NCM_ISIC (1).csv',sep=';',dtype={'CO_ISIC_CLASSE': str, 'NO_ISIC_CLASSE': str}    )\n",
    "ncm = pd.read_csv('./dados/comex/NCM (2).csv',sep=';',dtype={'CO_SH6': str, 'CO_ISIC_CLASSE': str})"
   ]
  },
  {
   "cell_type": "code",
   "execution_count": 191,
   "id": "ee86e40e",
   "metadata": {},
   "outputs": [],
   "source": [
    "mapeamento_isic = pd.read_excel('./dados/mapeamento/mapeamento_isic_cnae.xlsx', dtype=str).drop(columns=['Unnamed: 3','Observações'])"
   ]
  },
  {
   "cell_type": "code",
   "execution_count": 192,
   "id": "ba8b1ebd",
   "metadata": {},
   "outputs": [
    {
     "data": {
      "application/vnd.microsoft.datawrangler.viewer.v0+json": {
       "columns": [
        {
         "name": "index",
         "rawType": "int64",
         "type": "integer"
        },
        {
         "name": "código ISIC",
         "rawType": "object",
         "type": "string"
        },
        {
         "name": "denominação ISIC",
         "rawType": "object",
         "type": "string"
        },
        {
         "name": "código CNAE",
         "rawType": "object",
         "type": "string"
        },
        {
         "name": "denominação CNAE",
         "rawType": "object",
         "type": "string"
        }
       ],
       "ref": "2141f5e4-07b3-41f7-a307-b3950addadad",
       "rows": [
        [
         "0",
         "A",
         "AGRICULTURA, GANADERÍA, SILVICULTURA Y PESCA",
         "A",
         "AGRICULTURA, PECUÁRIA, PRODUÇÃO FLORESTAL, PESCA E AQÜICULTURA"
        ],
        [
         "1",
         "01",
         "AGRICULTURA, GANADERÍA, CAZA Y ACTIVIDADES DE SERVICIOS CONEXAS",
         "01",
         "AGRICULTURA, PECUÁRIA E SERVIÇOS RELACIONADOS"
        ]
       ],
       "shape": {
        "columns": 4,
        "rows": 2
       }
      },
      "text/html": [
       "<div>\n",
       "<style scoped>\n",
       "    .dataframe tbody tr th:only-of-type {\n",
       "        vertical-align: middle;\n",
       "    }\n",
       "\n",
       "    .dataframe tbody tr th {\n",
       "        vertical-align: top;\n",
       "    }\n",
       "\n",
       "    .dataframe thead th {\n",
       "        text-align: right;\n",
       "    }\n",
       "</style>\n",
       "<table border=\"1\" class=\"dataframe\">\n",
       "  <thead>\n",
       "    <tr style=\"text-align: right;\">\n",
       "      <th></th>\n",
       "      <th>código ISIC</th>\n",
       "      <th>denominação ISIC</th>\n",
       "      <th>código CNAE</th>\n",
       "      <th>denominação CNAE</th>\n",
       "    </tr>\n",
       "  </thead>\n",
       "  <tbody>\n",
       "    <tr>\n",
       "      <th>0</th>\n",
       "      <td>A</td>\n",
       "      <td>AGRICULTURA, GANADERÍA, SILVICULTURA Y PESCA</td>\n",
       "      <td>A</td>\n",
       "      <td>AGRICULTURA, PECUÁRIA, PRODUÇÃO FLORESTAL, PES...</td>\n",
       "    </tr>\n",
       "    <tr>\n",
       "      <th>1</th>\n",
       "      <td>01</td>\n",
       "      <td>AGRICULTURA, GANADERÍA, CAZA Y ACTIVIDADES DE ...</td>\n",
       "      <td>01</td>\n",
       "      <td>AGRICULTURA, PECUÁRIA E SERVIÇOS RELACIONADOS</td>\n",
       "    </tr>\n",
       "  </tbody>\n",
       "</table>\n",
       "</div>"
      ],
      "text/plain": [
       "  código ISIC                                   denominação ISIC código CNAE  \\\n",
       "0           A       AGRICULTURA, GANADERÍA, SILVICULTURA Y PESCA           A   \n",
       "1          01  AGRICULTURA, GANADERÍA, CAZA Y ACTIVIDADES DE ...          01   \n",
       "\n",
       "                                    denominação CNAE  \n",
       "0  AGRICULTURA, PECUÁRIA, PRODUÇÃO FLORESTAL, PES...  \n",
       "1      AGRICULTURA, PECUÁRIA E SERVIÇOS RELACIONADOS  "
      ]
     },
     "execution_count": 192,
     "metadata": {},
     "output_type": "execute_result"
    }
   ],
   "source": [
    "mapeamento_isic.head(2)"
   ]
  },
  {
   "cell_type": "code",
   "execution_count": 193,
   "id": "a27f6f04",
   "metadata": {},
   "outputs": [
    {
     "data": {
      "application/vnd.microsoft.datawrangler.viewer.v0+json": {
       "columns": [
        {
         "name": "index",
         "rawType": "int64",
         "type": "integer"
        },
        {
         "name": "código ISIC",
         "rawType": "object",
         "type": "string"
        },
        {
         "name": "denominação ISIC",
         "rawType": "object",
         "type": "string"
        },
        {
         "name": "código CNAE",
         "rawType": "object",
         "type": "unknown"
        },
        {
         "name": "denominação CNAE",
         "rawType": "object",
         "type": "unknown"
        }
       ],
       "ref": "ca854df9-8938-427f-a56a-eb8e36545172",
       "rows": [
        [
         "1171",
         "960",
         "Otras actividades de servicios personales",
         "96.0",
         "Outras atividades de serviços pessoais"
        ],
        [
         "1178",
         "970",
         "Actividades de los hogares como empleadores de personal doméstico",
         "97.0",
         "Serviços domésticos"
        ],
        [
         "1181",
         "981",
         "Actividades no diferenciadas de los hogares como productores de bienes para uso propio",
         null,
         null
        ],
        [
         "1183",
         "982",
         "Actividades no diferenciadas de los hogares como productores de servicios para uso propio",
         null,
         null
        ],
        [
         "1187",
         "990",
         "Actividades de organizaciones y órganos extraterritoriales",
         "99.0",
         "Organismos internacionais e outras instituições extraterritoriais"
        ]
       ],
       "shape": {
        "columns": 4,
        "rows": 5
       }
      },
      "text/html": [
       "<div>\n",
       "<style scoped>\n",
       "    .dataframe tbody tr th:only-of-type {\n",
       "        vertical-align: middle;\n",
       "    }\n",
       "\n",
       "    .dataframe tbody tr th {\n",
       "        vertical-align: top;\n",
       "    }\n",
       "\n",
       "    .dataframe thead th {\n",
       "        text-align: right;\n",
       "    }\n",
       "</style>\n",
       "<table border=\"1\" class=\"dataframe\">\n",
       "  <thead>\n",
       "    <tr style=\"text-align: right;\">\n",
       "      <th></th>\n",
       "      <th>código ISIC</th>\n",
       "      <th>denominação ISIC</th>\n",
       "      <th>código CNAE</th>\n",
       "      <th>denominação CNAE</th>\n",
       "    </tr>\n",
       "  </thead>\n",
       "  <tbody>\n",
       "    <tr>\n",
       "      <th>1171</th>\n",
       "      <td>960</td>\n",
       "      <td>Otras actividades de servicios personales</td>\n",
       "      <td>96.0</td>\n",
       "      <td>Outras atividades de serviços pessoais</td>\n",
       "    </tr>\n",
       "    <tr>\n",
       "      <th>1178</th>\n",
       "      <td>970</td>\n",
       "      <td>Actividades de los hogares como empleadores de...</td>\n",
       "      <td>97.0</td>\n",
       "      <td>Serviços domésticos</td>\n",
       "    </tr>\n",
       "    <tr>\n",
       "      <th>1181</th>\n",
       "      <td>981</td>\n",
       "      <td>Actividades no diferenciadas de los hogares co...</td>\n",
       "      <td>NaN</td>\n",
       "      <td>NaN</td>\n",
       "    </tr>\n",
       "    <tr>\n",
       "      <th>1183</th>\n",
       "      <td>982</td>\n",
       "      <td>Actividades no diferenciadas de los hogares co...</td>\n",
       "      <td>NaN</td>\n",
       "      <td>NaN</td>\n",
       "    </tr>\n",
       "    <tr>\n",
       "      <th>1187</th>\n",
       "      <td>990</td>\n",
       "      <td>Actividades de organizaciones y órganos extrat...</td>\n",
       "      <td>99.0</td>\n",
       "      <td>Organismos internacionais e outras instituiçõe...</td>\n",
       "    </tr>\n",
       "  </tbody>\n",
       "</table>\n",
       "</div>"
      ],
      "text/plain": [
       "     código ISIC                                   denominação ISIC  \\\n",
       "1171         960          Otras actividades de servicios personales   \n",
       "1178         970  Actividades de los hogares como empleadores de...   \n",
       "1181         981  Actividades no diferenciadas de los hogares co...   \n",
       "1183         982  Actividades no diferenciadas de los hogares co...   \n",
       "1187         990  Actividades de organizaciones y órganos extrat...   \n",
       "\n",
       "     código CNAE                                   denominação CNAE  \n",
       "1171        96.0             Outras atividades de serviços pessoais  \n",
       "1178        97.0                                Serviços domésticos  \n",
       "1181         NaN                                                NaN  \n",
       "1183         NaN                                                NaN  \n",
       "1187        99.0  Organismos internacionais e outras instituiçõe...  "
      ]
     },
     "execution_count": 193,
     "metadata": {},
     "output_type": "execute_result"
    }
   ],
   "source": [
    "\n",
    "#Remmover linhas em que o código ISIC tem comprimento menor que 4\n",
    "mapeamento_isic = mapeamento_isic[mapeamento_isic['código ISIC'].str.len() == 3]\n",
    "mapeamento_isic.tail()"
   ]
  },
  {
   "cell_type": "code",
   "execution_count": 195,
   "id": "80e336d3",
   "metadata": {},
   "outputs": [],
   "source": [
    "mapeamento_isic = mapeamento_isic.dropna()"
   ]
  },
  {
   "cell_type": "code",
   "execution_count": 190,
   "id": "86eedd3d",
   "metadata": {},
   "outputs": [],
   "source": [
    "lista_isic_usa_3d  =exportacoes_usa_2023.reset_index().merge(ncm, left_on='SH6', right_on='CO_SH6', how='left')['CO_ISIC_CLASSE'].str[0:3].drop_duplicates()"
   ]
  },
  {
   "cell_type": "code",
   "execution_count": null,
   "id": "ada154ea",
   "metadata": {},
   "outputs": [
    {
     "ename": "ValueError",
     "evalue": "Cannot subset columns with a tuple with more than one element. Use a list instead.",
     "output_type": "error",
     "traceback": [
      "\u001b[31m---------------------------------------------------------------------------\u001b[39m",
      "\u001b[31mValueError\u001b[39m                                Traceback (most recent call last)",
      "\u001b[36mCell\u001b[39m\u001b[36m \u001b[39m\u001b[32mIn[189]\u001b[39m\u001b[32m, line 2\u001b[39m\n\u001b[32m      1\u001b[39m \u001b[38;5;66;03m#Ver códigos cnae únicos por isic \u001b[39;00m\n\u001b[32m----> \u001b[39m\u001b[32m2\u001b[39m \u001b[43mmapeamento_isic\u001b[49m\u001b[43m.\u001b[49m\u001b[43mgroupby\u001b[49m\u001b[43m(\u001b[49m\u001b[33;43m'\u001b[39;49m\u001b[33;43mcódigo ISIC\u001b[39;49m\u001b[33;43m'\u001b[39;49m\u001b[43m)\u001b[49m\u001b[43m[\u001b[49m\u001b[33;43m'\u001b[39;49m\u001b[33;43mcódigo CNAE\u001b[39;49m\u001b[33;43m'\u001b[39;49m\u001b[43m,\u001b[49m\u001b[33;43m'\u001b[39;49m\u001b[33;43mdenominação ISIC\u001b[39;49m\u001b[33;43m'\u001b[39;49m\u001b[43m]\u001b[49m.nunique().reset_index().query(\u001b[33m\"\u001b[39m\u001b[33m`código ISIC`.isin(@lista_isic_usa_3d) \u001b[39m\u001b[33m\"\u001b[39m).sort_values(\u001b[33m'\u001b[39m\u001b[33mcódigo CNAE\u001b[39m\u001b[33m'\u001b[39m, ascending=\u001b[38;5;28;01mFalse\u001b[39;00m)\n",
      "\u001b[36mFile \u001b[39m\u001b[32m~/miniconda3/envs/api/lib/python3.11/site-packages/pandas/core/groupby/generic.py:1947\u001b[39m, in \u001b[36mDataFrameGroupBy.__getitem__\u001b[39m\u001b[34m(self, key)\u001b[39m\n\u001b[32m   1943\u001b[39m \u001b[38;5;66;03m# per GH 23566\u001b[39;00m\n\u001b[32m   1944\u001b[39m \u001b[38;5;28;01mif\u001b[39;00m \u001b[38;5;28misinstance\u001b[39m(key, \u001b[38;5;28mtuple\u001b[39m) \u001b[38;5;129;01mand\u001b[39;00m \u001b[38;5;28mlen\u001b[39m(key) > \u001b[32m1\u001b[39m:\n\u001b[32m   1945\u001b[39m     \u001b[38;5;66;03m# if len == 1, then it becomes a SeriesGroupBy and this is actually\u001b[39;00m\n\u001b[32m   1946\u001b[39m     \u001b[38;5;66;03m# valid syntax, so don't raise\u001b[39;00m\n\u001b[32m-> \u001b[39m\u001b[32m1947\u001b[39m     \u001b[38;5;28;01mraise\u001b[39;00m \u001b[38;5;167;01mValueError\u001b[39;00m(\n\u001b[32m   1948\u001b[39m         \u001b[33m\"\u001b[39m\u001b[33mCannot subset columns with a tuple with more than one element. \u001b[39m\u001b[33m\"\u001b[39m\n\u001b[32m   1949\u001b[39m         \u001b[33m\"\u001b[39m\u001b[33mUse a list instead.\u001b[39m\u001b[33m\"\u001b[39m\n\u001b[32m   1950\u001b[39m     )\n\u001b[32m   1951\u001b[39m \u001b[38;5;28;01mreturn\u001b[39;00m \u001b[38;5;28msuper\u001b[39m().\u001b[34m__getitem__\u001b[39m(key)\n",
      "\u001b[31mValueError\u001b[39m: Cannot subset columns with a tuple with more than one element. Use a list instead."
     ]
    }
   ],
   "source": [
    "#Ver códigos cnae únicos por isic \n",
    "mapeamento_isic.groupby('código ISIC')[['código CNAE','denominação ISIC']].drop_duplicates().reset_index().query(\"`código ISIC`.isin(@lista_isic_usa_3d) \").sort_values('código CNAE', ascending=False)"
   ]
  },
  {
   "cell_type": "code",
   "execution_count": 65,
   "id": "7881cc4f",
   "metadata": {},
   "outputs": [],
   "source": [
    "mapeamento_isic['CNAE2d'] = mapeamento_isic['código CNAE'].str[0:2]\n",
    "mapeamento_isic['ISIC2d'] = mapeamento_isic['código ISIC'].str[0:2]"
   ]
  },
  {
   "cell_type": "code",
   "execution_count": 66,
   "id": "a149e673",
   "metadata": {},
   "outputs": [
    {
     "data": {
      "application/vnd.microsoft.datawrangler.viewer.v0+json": {
       "columns": [
        {
         "name": "ISIC2d",
         "rawType": "object",
         "type": "string"
        },
        {
         "name": "CNAE2d",
         "rawType": "int64",
         "type": "integer"
        }
       ],
       "ref": "f862cd30-b4a8-4cc3-b169-303941317cd9",
       "rows": [
        [
         "16",
         "2"
        ],
        [
         "58",
         "2"
        ],
        [
         "22",
         "2"
        ],
        [
         "70",
         "2"
        ],
        [
         "20",
         "2"
        ],
        [
         "19",
         "2"
        ],
        [
         "88",
         "2"
        ],
        [
         "01",
         "1"
        ],
        [
         "73",
         "1"
        ],
        [
         "72",
         "1"
        ]
       ],
       "shape": {
        "columns": 1,
        "rows": 10
       }
      },
      "text/html": [
       "<div>\n",
       "<style scoped>\n",
       "    .dataframe tbody tr th:only-of-type {\n",
       "        vertical-align: middle;\n",
       "    }\n",
       "\n",
       "    .dataframe tbody tr th {\n",
       "        vertical-align: top;\n",
       "    }\n",
       "\n",
       "    .dataframe thead th {\n",
       "        text-align: right;\n",
       "    }\n",
       "</style>\n",
       "<table border=\"1\" class=\"dataframe\">\n",
       "  <thead>\n",
       "    <tr style=\"text-align: right;\">\n",
       "      <th></th>\n",
       "      <th>CNAE2d</th>\n",
       "    </tr>\n",
       "    <tr>\n",
       "      <th>ISIC2d</th>\n",
       "      <th></th>\n",
       "    </tr>\n",
       "  </thead>\n",
       "  <tbody>\n",
       "    <tr>\n",
       "      <th>16</th>\n",
       "      <td>2</td>\n",
       "    </tr>\n",
       "    <tr>\n",
       "      <th>58</th>\n",
       "      <td>2</td>\n",
       "    </tr>\n",
       "    <tr>\n",
       "      <th>22</th>\n",
       "      <td>2</td>\n",
       "    </tr>\n",
       "    <tr>\n",
       "      <th>70</th>\n",
       "      <td>2</td>\n",
       "    </tr>\n",
       "    <tr>\n",
       "      <th>20</th>\n",
       "      <td>2</td>\n",
       "    </tr>\n",
       "    <tr>\n",
       "      <th>19</th>\n",
       "      <td>2</td>\n",
       "    </tr>\n",
       "    <tr>\n",
       "      <th>88</th>\n",
       "      <td>2</td>\n",
       "    </tr>\n",
       "    <tr>\n",
       "      <th>01</th>\n",
       "      <td>1</td>\n",
       "    </tr>\n",
       "    <tr>\n",
       "      <th>73</th>\n",
       "      <td>1</td>\n",
       "    </tr>\n",
       "    <tr>\n",
       "      <th>72</th>\n",
       "      <td>1</td>\n",
       "    </tr>\n",
       "  </tbody>\n",
       "</table>\n",
       "</div>"
      ],
      "text/plain": [
       "        CNAE2d\n",
       "ISIC2d        \n",
       "16           2\n",
       "58           2\n",
       "22           2\n",
       "70           2\n",
       "20           2\n",
       "19           2\n",
       "88           2\n",
       "01           1\n",
       "73           1\n",
       "72           1"
      ]
     },
     "execution_count": 66,
     "metadata": {},
     "output_type": "execute_result"
    }
   ],
   "source": [
    "mapeamento_isic.groupby('ISIC2d')[['CNAE2d']].nunique().sort_values(by='CNAE2d', ascending=False).head(10)"
   ]
  },
  {
   "cell_type": "code",
   "execution_count": 71,
   "id": "82f09e68",
   "metadata": {},
   "outputs": [
    {
     "data": {
      "application/vnd.microsoft.datawrangler.viewer.v0+json": {
       "columns": [
        {
         "name": "index",
         "rawType": "int64",
         "type": "integer"
        },
        {
         "name": "código ISIC",
         "rawType": "object",
         "type": "string"
        },
        {
         "name": "denominação ISIC",
         "rawType": "object",
         "type": "string"
        },
        {
         "name": "código CNAE",
         "rawType": "object",
         "type": "string"
        },
        {
         "name": "denominação CNAE",
         "rawType": "object",
         "type": "string"
        },
        {
         "name": "CNAE2d",
         "rawType": "object",
         "type": "string"
        },
        {
         "name": "ISIC2d",
         "rawType": "object",
         "type": "string"
        }
       ],
       "ref": "6c4fe19c-1faf-45df-a9a3-842b3953663b",
       "rows": [
        [
         "824",
         "5811",
         "Edición de libros",
         "58.11-5",
         "Edição de livros",
         "58",
         "58"
        ],
        [
         "825",
         "5811",
         "Edición de libros",
         "58.21-2",
         "Edição integrada à impressão de livros",
         "58",
         "58"
        ],
        [
         "826",
         "5812",
         "Edición de directorios y listas de correo",
         "58.19-1",
         "Edição de cadastros, listas e outros produtos gráficos",
         "58",
         "58"
        ],
        [
         "827",
         "5812",
         "Edición de directorios y listas de correo",
         "58.29-8",
         "Edição integrada à impressão de cadastros, listas e outros produtos gráficos",
         "58",
         "58"
        ],
        [
         "828",
         "5813",
         "Edición de periódicos, revistas y otras publicaciones periódicas",
         "58.12-3",
         "Edição de jornais",
         "58",
         "58"
        ],
        [
         "829",
         "5813",
         "Edición de periódicos, revistas y otras publicaciones periódicas",
         "58.13-1",
         "Edição de revistas",
         "58",
         "58"
        ],
        [
         "830",
         "5813",
         "Edición de periódicos, revistas y otras publicaciones periódicas",
         "58.22-1",
         "Edição integrada à impressão de jornais",
         "58",
         "58"
        ],
        [
         "831",
         "5813",
         "Edición de periódicos, revistas y otras publicaciones periódicas",
         "58.23-9",
         "Edição integrada à impressão de revistas",
         "58",
         "58"
        ],
        [
         "832",
         "5819",
         "Otras actividades de edición",
         "58.19-1",
         "Edição de cadastros, listas e outros produtos gráficos",
         "58",
         "58"
        ],
        [
         "833",
         "5819",
         "Otras actividades de edición",
         "58.29-8",
         "Edição integrada à impressão de cadastros, listas e outros produtos gráficos",
         "58",
         "58"
        ],
        [
         "835",
         "5820",
         "Edición de programas informáticos",
         "62.02-3",
         "Desenvolvimento e licenciamento de programas de computador customizáveis",
         "62",
         "58"
        ],
        [
         "836",
         "5820",
         "Edición de programas informáticos",
         "62.03-1",
         "Desenvolvimento e licenciamento de programas de computador não-customizáveis",
         "62",
         "58"
        ],
        [
         "957",
         "7010",
         "Actividades de oficinas principales",
         "64.61-1",
         "Holdings de instituições financeiras",
         "64",
         "70"
        ],
        [
         "958",
         "7010",
         "Actividades de oficinas principales",
         "64.62-0",
         "Holdings de instituições não-financeiras",
         "64",
         "70"
        ],
        [
         "959",
         "7010",
         "Actividades de oficinas principales",
         "70.10-7",
         "Sedes de empresas e unidades administrativas locais",
         "70",
         "70"
        ],
        [
         "961",
         "7020",
         "Actividades de consultoría de gestión",
         "70.20-4",
         "Atividades de consultoria em gestão empresarial",
         "70",
         "70"
        ],
        [
         "1118",
         "8810",
         "Actividades de asistencia social sin alojamiento para personas de edad y personas con discapacidad",
         "88.00-6",
         "Serviços de assistência social sem alojamento",
         "88",
         "88"
        ],
        [
         "1121",
         "8890",
         "Otros servicios sociales sin alojamiento n.c.p.",
         "85.11-2",
         "Educação infantil - creche",
         "85",
         "88"
        ],
        [
         "1122",
         "8890",
         "Otros servicios sociales sin alojamiento n.c.p.",
         "88.00-6",
         "Serviços de assistência social sem alojamento",
         "88",
         "88"
        ]
       ],
       "shape": {
        "columns": 6,
        "rows": 19
       }
      },
      "text/html": [
       "<div>\n",
       "<style scoped>\n",
       "    .dataframe tbody tr th:only-of-type {\n",
       "        vertical-align: middle;\n",
       "    }\n",
       "\n",
       "    .dataframe tbody tr th {\n",
       "        vertical-align: top;\n",
       "    }\n",
       "\n",
       "    .dataframe thead th {\n",
       "        text-align: right;\n",
       "    }\n",
       "</style>\n",
       "<table border=\"1\" class=\"dataframe\">\n",
       "  <thead>\n",
       "    <tr style=\"text-align: right;\">\n",
       "      <th></th>\n",
       "      <th>código ISIC</th>\n",
       "      <th>denominação ISIC</th>\n",
       "      <th>código CNAE</th>\n",
       "      <th>denominação CNAE</th>\n",
       "      <th>CNAE2d</th>\n",
       "      <th>ISIC2d</th>\n",
       "    </tr>\n",
       "  </thead>\n",
       "  <tbody>\n",
       "    <tr>\n",
       "      <th>824</th>\n",
       "      <td>5811</td>\n",
       "      <td>Edición de libros</td>\n",
       "      <td>58.11-5</td>\n",
       "      <td>Edição de livros</td>\n",
       "      <td>58</td>\n",
       "      <td>58</td>\n",
       "    </tr>\n",
       "    <tr>\n",
       "      <th>825</th>\n",
       "      <td>5811</td>\n",
       "      <td>Edición de libros</td>\n",
       "      <td>58.21-2</td>\n",
       "      <td>Edição integrada à impressão de livros</td>\n",
       "      <td>58</td>\n",
       "      <td>58</td>\n",
       "    </tr>\n",
       "    <tr>\n",
       "      <th>826</th>\n",
       "      <td>5812</td>\n",
       "      <td>Edición de directorios y listas de correo</td>\n",
       "      <td>58.19-1</td>\n",
       "      <td>Edição de cadastros, listas e outros produtos ...</td>\n",
       "      <td>58</td>\n",
       "      <td>58</td>\n",
       "    </tr>\n",
       "    <tr>\n",
       "      <th>827</th>\n",
       "      <td>5812</td>\n",
       "      <td>Edición de directorios y listas de correo</td>\n",
       "      <td>58.29-8</td>\n",
       "      <td>Edição integrada à impressão de cadastros, lis...</td>\n",
       "      <td>58</td>\n",
       "      <td>58</td>\n",
       "    </tr>\n",
       "    <tr>\n",
       "      <th>828</th>\n",
       "      <td>5813</td>\n",
       "      <td>Edición de periódicos, revistas y otras public...</td>\n",
       "      <td>58.12-3</td>\n",
       "      <td>Edição de jornais</td>\n",
       "      <td>58</td>\n",
       "      <td>58</td>\n",
       "    </tr>\n",
       "    <tr>\n",
       "      <th>829</th>\n",
       "      <td>5813</td>\n",
       "      <td>Edición de periódicos, revistas y otras public...</td>\n",
       "      <td>58.13-1</td>\n",
       "      <td>Edição de revistas</td>\n",
       "      <td>58</td>\n",
       "      <td>58</td>\n",
       "    </tr>\n",
       "    <tr>\n",
       "      <th>830</th>\n",
       "      <td>5813</td>\n",
       "      <td>Edición de periódicos, revistas y otras public...</td>\n",
       "      <td>58.22-1</td>\n",
       "      <td>Edição integrada à impressão de jornais</td>\n",
       "      <td>58</td>\n",
       "      <td>58</td>\n",
       "    </tr>\n",
       "    <tr>\n",
       "      <th>831</th>\n",
       "      <td>5813</td>\n",
       "      <td>Edición de periódicos, revistas y otras public...</td>\n",
       "      <td>58.23-9</td>\n",
       "      <td>Edição integrada à impressão de revistas</td>\n",
       "      <td>58</td>\n",
       "      <td>58</td>\n",
       "    </tr>\n",
       "    <tr>\n",
       "      <th>832</th>\n",
       "      <td>5819</td>\n",
       "      <td>Otras actividades de edición</td>\n",
       "      <td>58.19-1</td>\n",
       "      <td>Edição de cadastros, listas e outros produtos ...</td>\n",
       "      <td>58</td>\n",
       "      <td>58</td>\n",
       "    </tr>\n",
       "    <tr>\n",
       "      <th>833</th>\n",
       "      <td>5819</td>\n",
       "      <td>Otras actividades de edición</td>\n",
       "      <td>58.29-8</td>\n",
       "      <td>Edição integrada à impressão de cadastros, lis...</td>\n",
       "      <td>58</td>\n",
       "      <td>58</td>\n",
       "    </tr>\n",
       "    <tr>\n",
       "      <th>835</th>\n",
       "      <td>5820</td>\n",
       "      <td>Edición de programas informáticos</td>\n",
       "      <td>62.02-3</td>\n",
       "      <td>Desenvolvimento e licenciamento de programas d...</td>\n",
       "      <td>62</td>\n",
       "      <td>58</td>\n",
       "    </tr>\n",
       "    <tr>\n",
       "      <th>836</th>\n",
       "      <td>5820</td>\n",
       "      <td>Edición de programas informáticos</td>\n",
       "      <td>62.03-1</td>\n",
       "      <td>Desenvolvimento e licenciamento de programas d...</td>\n",
       "      <td>62</td>\n",
       "      <td>58</td>\n",
       "    </tr>\n",
       "    <tr>\n",
       "      <th>957</th>\n",
       "      <td>7010</td>\n",
       "      <td>Actividades de oficinas principales</td>\n",
       "      <td>64.61-1</td>\n",
       "      <td>Holdings de instituições financeiras</td>\n",
       "      <td>64</td>\n",
       "      <td>70</td>\n",
       "    </tr>\n",
       "    <tr>\n",
       "      <th>958</th>\n",
       "      <td>7010</td>\n",
       "      <td>Actividades de oficinas principales</td>\n",
       "      <td>64.62-0</td>\n",
       "      <td>Holdings de instituições não-financeiras</td>\n",
       "      <td>64</td>\n",
       "      <td>70</td>\n",
       "    </tr>\n",
       "    <tr>\n",
       "      <th>959</th>\n",
       "      <td>7010</td>\n",
       "      <td>Actividades de oficinas principales</td>\n",
       "      <td>70.10-7</td>\n",
       "      <td>Sedes de empresas e unidades administrativas l...</td>\n",
       "      <td>70</td>\n",
       "      <td>70</td>\n",
       "    </tr>\n",
       "    <tr>\n",
       "      <th>961</th>\n",
       "      <td>7020</td>\n",
       "      <td>Actividades de consultoría de gestión</td>\n",
       "      <td>70.20-4</td>\n",
       "      <td>Atividades de consultoria em gestão empresarial</td>\n",
       "      <td>70</td>\n",
       "      <td>70</td>\n",
       "    </tr>\n",
       "    <tr>\n",
       "      <th>1118</th>\n",
       "      <td>8810</td>\n",
       "      <td>Actividades de asistencia social sin alojamien...</td>\n",
       "      <td>88.00-6</td>\n",
       "      <td>Serviços de assistência social sem alojamento</td>\n",
       "      <td>88</td>\n",
       "      <td>88</td>\n",
       "    </tr>\n",
       "    <tr>\n",
       "      <th>1121</th>\n",
       "      <td>8890</td>\n",
       "      <td>Otros servicios sociales sin alojamiento n.c.p.</td>\n",
       "      <td>85.11-2</td>\n",
       "      <td>Educação infantil - creche</td>\n",
       "      <td>85</td>\n",
       "      <td>88</td>\n",
       "    </tr>\n",
       "    <tr>\n",
       "      <th>1122</th>\n",
       "      <td>8890</td>\n",
       "      <td>Otros servicios sociales sin alojamiento n.c.p.</td>\n",
       "      <td>88.00-6</td>\n",
       "      <td>Serviços de assistência social sem alojamento</td>\n",
       "      <td>88</td>\n",
       "      <td>88</td>\n",
       "    </tr>\n",
       "  </tbody>\n",
       "</table>\n",
       "</div>"
      ],
      "text/plain": [
       "     código ISIC                                   denominação ISIC  \\\n",
       "824         5811                                  Edición de libros   \n",
       "825         5811                                  Edición de libros   \n",
       "826         5812          Edición de directorios y listas de correo   \n",
       "827         5812          Edición de directorios y listas de correo   \n",
       "828         5813  Edición de periódicos, revistas y otras public...   \n",
       "829         5813  Edición de periódicos, revistas y otras public...   \n",
       "830         5813  Edición de periódicos, revistas y otras public...   \n",
       "831         5813  Edición de periódicos, revistas y otras public...   \n",
       "832         5819                       Otras actividades de edición   \n",
       "833         5819                       Otras actividades de edición   \n",
       "835         5820                  Edición de programas informáticos   \n",
       "836         5820                  Edición de programas informáticos   \n",
       "957         7010                Actividades de oficinas principales   \n",
       "958         7010                Actividades de oficinas principales   \n",
       "959         7010                Actividades de oficinas principales   \n",
       "961         7020              Actividades de consultoría de gestión   \n",
       "1118        8810  Actividades de asistencia social sin alojamien...   \n",
       "1121        8890    Otros servicios sociales sin alojamiento n.c.p.   \n",
       "1122        8890    Otros servicios sociales sin alojamiento n.c.p.   \n",
       "\n",
       "     código CNAE                                   denominação CNAE CNAE2d  \\\n",
       "824      58.11-5                                   Edição de livros     58   \n",
       "825      58.21-2             Edição integrada à impressão de livros     58   \n",
       "826      58.19-1  Edição de cadastros, listas e outros produtos ...     58   \n",
       "827      58.29-8  Edição integrada à impressão de cadastros, lis...     58   \n",
       "828      58.12-3                                  Edição de jornais     58   \n",
       "829      58.13-1                                 Edição de revistas     58   \n",
       "830      58.22-1            Edição integrada à impressão de jornais     58   \n",
       "831      58.23-9           Edição integrada à impressão de revistas     58   \n",
       "832      58.19-1  Edição de cadastros, listas e outros produtos ...     58   \n",
       "833      58.29-8  Edição integrada à impressão de cadastros, lis...     58   \n",
       "835      62.02-3  Desenvolvimento e licenciamento de programas d...     62   \n",
       "836      62.03-1  Desenvolvimento e licenciamento de programas d...     62   \n",
       "957      64.61-1               Holdings de instituições financeiras     64   \n",
       "958      64.62-0           Holdings de instituições não-financeiras     64   \n",
       "959      70.10-7  Sedes de empresas e unidades administrativas l...     70   \n",
       "961      70.20-4    Atividades de consultoria em gestão empresarial     70   \n",
       "1118     88.00-6      Serviços de assistência social sem alojamento     88   \n",
       "1121     85.11-2                         Educação infantil - creche     85   \n",
       "1122     88.00-6      Serviços de assistência social sem alojamento     88   \n",
       "\n",
       "     ISIC2d  \n",
       "824      58  \n",
       "825      58  \n",
       "826      58  \n",
       "827      58  \n",
       "828      58  \n",
       "829      58  \n",
       "830      58  \n",
       "831      58  \n",
       "832      58  \n",
       "833      58  \n",
       "835      58  \n",
       "836      58  \n",
       "957      70  \n",
       "958      70  \n",
       "959      70  \n",
       "961      70  \n",
       "1118     88  \n",
       "1121     88  \n",
       "1122     88  "
      ]
     },
     "execution_count": 71,
     "metadata": {},
     "output_type": "execute_result"
    }
   ],
   "source": [
    "mapeamento_isic.query('ISIC2d.isin([\"58\",\"70\",\"88\"])')"
   ]
  },
  {
   "cell_type": "code",
   "execution_count": 39,
   "id": "4f0056a1",
   "metadata": {},
   "outputs": [
    {
     "data": {
      "application/vnd.microsoft.datawrangler.viewer.v0+json": {
       "columns": [
        {
         "name": "index",
         "rawType": "int64",
         "type": "integer"
        },
        {
         "name": "código ISIC",
         "rawType": "object",
         "type": "string"
        },
        {
         "name": "denominação ISIC",
         "rawType": "object",
         "type": "string"
        },
        {
         "name": "código CNAE",
         "rawType": "object",
         "type": "string"
        },
        {
         "name": "denominação CNAE",
         "rawType": "object",
         "type": "string"
        },
        {
         "name": "CNAE2d",
         "rawType": "object",
         "type": "string"
        }
       ],
       "ref": "b009875a-c60a-4d5c-a62a-8581839fda02",
       "rows": [
        [
         "215",
         "1511",
         "Curtido y adobo de cueros; adobo y teñido de pieles",
         "15.10-6",
         "Curtimento e outras preparações de couro",
         "15"
        ],
        [
         "216",
         "1512",
         "Fabricación de maletas, bolsos de mano y artículos similares y de artículos de talabartería y guarnicionería",
         "15.21-1",
         "Fabricação de artigos para viagem, bolsas e semelhantes de qualquer material",
         "15"
        ],
        [
         "217",
         "1512",
         "Fabricación de maletas, bolsos de mano y artículos similares y de artículos de talabartería y guarnicionería",
         "15.29-7",
         "Fabricação de artefatos de couro não especificados anteriormente",
         "15"
        ],
        [
         "220",
         "1520",
         "Fabricación de calzado",
         "15.31-9",
         "Fabricação de calçados de couro",
         "15"
        ],
        [
         "221",
         "1520",
         "Fabricación de calzado",
         "15.32-7",
         "Fabricação de tênis de qualquer material",
         "15"
        ],
        [
         "222",
         "1520",
         "Fabricación de calzado",
         "15.33-5",
         "Fabricação de calçados de material sintético",
         "15"
        ],
        [
         "223",
         "1520",
         "Fabricación de calzado",
         "15.39-4",
         "Fabricação de calçados de materiais não especificados anteriormente",
         "15"
        ],
        [
         "224",
         "1520",
         "Fabricación de calzado",
         "15.40-8",
         "Fabricação de partes para calçados, de qualquer material",
         "15"
        ],
        [
         "234",
         "1629",
         "Fabricación de otros productos de madera; fabricación de artículos de corcho, paja y materiales trenzables",
         "15.40-8",
         "Fabricação de partes para calçados, de qualquer material",
         "15"
        ],
        [
         "319",
         "2219",
         "Fabricación de otros productos de caucho",
         "15.40-8",
         "Fabricação de partes para calçados, de qualquer material",
         "15"
        ],
        [
         "323",
         "2220",
         "Fabricación de productos de plástico",
         "15.40-8",
         "Fabricação de partes para calçados, de qualquer material",
         "15"
        ]
       ],
       "shape": {
        "columns": 5,
        "rows": 11
       }
      },
      "text/html": [
       "<div>\n",
       "<style scoped>\n",
       "    .dataframe tbody tr th:only-of-type {\n",
       "        vertical-align: middle;\n",
       "    }\n",
       "\n",
       "    .dataframe tbody tr th {\n",
       "        vertical-align: top;\n",
       "    }\n",
       "\n",
       "    .dataframe thead th {\n",
       "        text-align: right;\n",
       "    }\n",
       "</style>\n",
       "<table border=\"1\" class=\"dataframe\">\n",
       "  <thead>\n",
       "    <tr style=\"text-align: right;\">\n",
       "      <th></th>\n",
       "      <th>código ISIC</th>\n",
       "      <th>denominação ISIC</th>\n",
       "      <th>código CNAE</th>\n",
       "      <th>denominação CNAE</th>\n",
       "      <th>CNAE2d</th>\n",
       "    </tr>\n",
       "  </thead>\n",
       "  <tbody>\n",
       "    <tr>\n",
       "      <th>215</th>\n",
       "      <td>1511</td>\n",
       "      <td>Curtido y adobo de cueros; adobo y teñido de p...</td>\n",
       "      <td>15.10-6</td>\n",
       "      <td>Curtimento e outras preparações de couro</td>\n",
       "      <td>15</td>\n",
       "    </tr>\n",
       "    <tr>\n",
       "      <th>216</th>\n",
       "      <td>1512</td>\n",
       "      <td>Fabricación de maletas, bolsos de mano y artíc...</td>\n",
       "      <td>15.21-1</td>\n",
       "      <td>Fabricação de artigos para viagem, bolsas e se...</td>\n",
       "      <td>15</td>\n",
       "    </tr>\n",
       "    <tr>\n",
       "      <th>217</th>\n",
       "      <td>1512</td>\n",
       "      <td>Fabricación de maletas, bolsos de mano y artíc...</td>\n",
       "      <td>15.29-7</td>\n",
       "      <td>Fabricação de artefatos de couro não especific...</td>\n",
       "      <td>15</td>\n",
       "    </tr>\n",
       "    <tr>\n",
       "      <th>220</th>\n",
       "      <td>1520</td>\n",
       "      <td>Fabricación de calzado</td>\n",
       "      <td>15.31-9</td>\n",
       "      <td>Fabricação de calçados de couro</td>\n",
       "      <td>15</td>\n",
       "    </tr>\n",
       "    <tr>\n",
       "      <th>221</th>\n",
       "      <td>1520</td>\n",
       "      <td>Fabricación de calzado</td>\n",
       "      <td>15.32-7</td>\n",
       "      <td>Fabricação de tênis de qualquer material</td>\n",
       "      <td>15</td>\n",
       "    </tr>\n",
       "    <tr>\n",
       "      <th>222</th>\n",
       "      <td>1520</td>\n",
       "      <td>Fabricación de calzado</td>\n",
       "      <td>15.33-5</td>\n",
       "      <td>Fabricação de calçados de material sintético</td>\n",
       "      <td>15</td>\n",
       "    </tr>\n",
       "    <tr>\n",
       "      <th>223</th>\n",
       "      <td>1520</td>\n",
       "      <td>Fabricación de calzado</td>\n",
       "      <td>15.39-4</td>\n",
       "      <td>Fabricação de calçados de materiais não especi...</td>\n",
       "      <td>15</td>\n",
       "    </tr>\n",
       "    <tr>\n",
       "      <th>224</th>\n",
       "      <td>1520</td>\n",
       "      <td>Fabricación de calzado</td>\n",
       "      <td>15.40-8</td>\n",
       "      <td>Fabricação de partes para calçados, de qualque...</td>\n",
       "      <td>15</td>\n",
       "    </tr>\n",
       "    <tr>\n",
       "      <th>234</th>\n",
       "      <td>1629</td>\n",
       "      <td>Fabricación de otros productos de madera; fabr...</td>\n",
       "      <td>15.40-8</td>\n",
       "      <td>Fabricação de partes para calçados, de qualque...</td>\n",
       "      <td>15</td>\n",
       "    </tr>\n",
       "    <tr>\n",
       "      <th>319</th>\n",
       "      <td>2219</td>\n",
       "      <td>Fabricación de otros productos de caucho</td>\n",
       "      <td>15.40-8</td>\n",
       "      <td>Fabricação de partes para calçados, de qualque...</td>\n",
       "      <td>15</td>\n",
       "    </tr>\n",
       "    <tr>\n",
       "      <th>323</th>\n",
       "      <td>2220</td>\n",
       "      <td>Fabricación de productos de plástico</td>\n",
       "      <td>15.40-8</td>\n",
       "      <td>Fabricação de partes para calçados, de qualque...</td>\n",
       "      <td>15</td>\n",
       "    </tr>\n",
       "  </tbody>\n",
       "</table>\n",
       "</div>"
      ],
      "text/plain": [
       "    código ISIC                                   denominação ISIC  \\\n",
       "215        1511  Curtido y adobo de cueros; adobo y teñido de p...   \n",
       "216        1512  Fabricación de maletas, bolsos de mano y artíc...   \n",
       "217        1512  Fabricación de maletas, bolsos de mano y artíc...   \n",
       "220        1520                             Fabricación de calzado   \n",
       "221        1520                             Fabricación de calzado   \n",
       "222        1520                             Fabricación de calzado   \n",
       "223        1520                             Fabricación de calzado   \n",
       "224        1520                             Fabricación de calzado   \n",
       "234        1629  Fabricación de otros productos de madera; fabr...   \n",
       "319        2219           Fabricación de otros productos de caucho   \n",
       "323        2220               Fabricación de productos de plástico   \n",
       "\n",
       "    código CNAE                                   denominação CNAE CNAE2d  \n",
       "215     15.10-6           Curtimento e outras preparações de couro     15  \n",
       "216     15.21-1  Fabricação de artigos para viagem, bolsas e se...     15  \n",
       "217     15.29-7  Fabricação de artefatos de couro não especific...     15  \n",
       "220     15.31-9                    Fabricação de calçados de couro     15  \n",
       "221     15.32-7           Fabricação de tênis de qualquer material     15  \n",
       "222     15.33-5       Fabricação de calçados de material sintético     15  \n",
       "223     15.39-4  Fabricação de calçados de materiais não especi...     15  \n",
       "224     15.40-8  Fabricação de partes para calçados, de qualque...     15  \n",
       "234     15.40-8  Fabricação de partes para calçados, de qualque...     15  \n",
       "319     15.40-8  Fabricação de partes para calçados, de qualque...     15  \n",
       "323     15.40-8  Fabricação de partes para calçados, de qualque...     15  "
      ]
     },
     "execution_count": 39,
     "metadata": {},
     "output_type": "execute_result"
    }
   ],
   "source": [
    "mapeamento_isic.query('`CNAE2d`.isin([\"15\"])')"
   ]
  },
  {
   "cell_type": "code",
   "execution_count": 58,
   "id": "964e3b87",
   "metadata": {},
   "outputs": [],
   "source": [
    "ncms_usa = exportacoes_usa_2023[['Código NCM']].drop_duplicates().merge(ncm, left_on='Código NCM', right_on='CO_NCM', how='left').drop('Código NCM', axis=1)"
   ]
  },
  {
   "cell_type": "markdown",
   "id": "6b59240a",
   "metadata": {},
   "source": [
    "Há produtos exportados para os EUA que não estão mapeados no NCM_ISIC, como por exemplo:"
   ]
  },
  {
   "cell_type": "code",
   "execution_count": 64,
   "id": "1339213c",
   "metadata": {},
   "outputs": [
    {
     "data": {
      "application/vnd.microsoft.datawrangler.viewer.v0+json": {
       "columns": [
        {
         "name": "index",
         "rawType": "int64",
         "type": "integer"
        },
        {
         "name": "código ISIC",
         "rawType": "object",
         "type": "string"
        },
        {
         "name": "denominação ISIC",
         "rawType": "object",
         "type": "string"
        },
        {
         "name": "código CNAE",
         "rawType": "object",
         "type": "string"
        },
        {
         "name": "denominação CNAE",
         "rawType": "object",
         "type": "string"
        },
        {
         "name": "CNAE2d",
         "rawType": "object",
         "type": "string"
        }
       ],
       "ref": "985fbb15-42e0-4846-b62d-abcfde1ae875",
       "rows": [
        [
         "234",
         "1629",
         "Fabricación de otros productos de madera; fabricación de artículos de corcho, paja y materiales trenzables",
         "15.40-8",
         "Fabricação de partes para calçados, de qualquer material",
         "15"
        ],
        [
         "235",
         "1629",
         "Fabricación de otros productos de madera; fabricación de artículos de corcho, paja y materiales trenzables",
         "16.29-3",
         "Fabricação de artefatos de madeira, palha, cortiça, vime e material trançado não especificados anteriormente, exceto móveis",
         "16"
        ],
        [
         "274",
         "2011",
         "Fabricación de sustancias químicas básicas",
         "19.31-4",
         "Fabricação de álcool",
         "19"
        ],
        [
         "275",
         "2011",
         "Fabricación de sustancias químicas básicas",
         "19.32-2",
         "Fabricação de biocombustíveis, exceto álcool",
         "19"
        ],
        [
         "276",
         "2011",
         "Fabricación de sustancias químicas básicas",
         "20.11-8",
         "Fabricação de cloro e álcalis",
         "20"
        ],
        [
         "277",
         "2011",
         "Fabricación de sustancias químicas básicas",
         "20.14-2",
         "Fabricação de gases industriais",
         "20"
        ],
        [
         "278",
         "2011",
         "Fabricación de sustancias químicas básicas",
         "20.19-3",
         "Fabricação de produtos químicos inorgânicos não especificados anteriormente",
         "20"
        ],
        [
         "279",
         "2011",
         "Fabricación de sustancias químicas básicas",
         "20.21-5",
         "Fabricação de produtos petroquímicos básicos",
         "20"
        ],
        [
         "280",
         "2011",
         "Fabricación de sustancias químicas básicas",
         "20.22-3",
         "Fabricação de intermediários para plastificantes, resinas e fibras",
         "20"
        ],
        [
         "281",
         "2011",
         "Fabricación de sustancias químicas básicas",
         "20.29-1",
         "Fabricação de produtos químicos orgânicos não especificados anteriormente",
         "20"
        ],
        [
         "319",
         "2219",
         "Fabricación de otros productos de caucho",
         "15.40-8",
         "Fabricação de partes para calçados, de qualquer material",
         "15"
        ],
        [
         "320",
         "2219",
         "Fabricación de otros productos de caucho",
         "22.19-6",
         "Fabricação de artefatos de borracha não especificados anteriormente",
         "22"
        ],
        [
         "323",
         "2220",
         "Fabricación de productos de plástico",
         "15.40-8",
         "Fabricação de partes para calçados, de qualquer material",
         "15"
        ],
        [
         "324",
         "2220",
         "Fabricación de productos de plástico",
         "22.21-8",
         "Fabricação de laminados planos e tubulares de material plástico",
         "22"
        ],
        [
         "325",
         "2220",
         "Fabricación de productos de plástico",
         "22.22-6",
         "Fabricação de embalagens de material plástico",
         "22"
        ],
        [
         "326",
         "2220",
         "Fabricación de productos de plástico",
         "22.23-4",
         "Fabricação de tubos e acessórios de material plástico para uso na construção",
         "22"
        ],
        [
         "327",
         "2220",
         "Fabricación de productos de plástico",
         "22.29-3",
         "Fabricação de artefatos de material plástico não especificados anteriormente",
         "22"
        ]
       ],
       "shape": {
        "columns": 5,
        "rows": 17
       }
      },
      "text/html": [
       "<div>\n",
       "<style scoped>\n",
       "    .dataframe tbody tr th:only-of-type {\n",
       "        vertical-align: middle;\n",
       "    }\n",
       "\n",
       "    .dataframe tbody tr th {\n",
       "        vertical-align: top;\n",
       "    }\n",
       "\n",
       "    .dataframe thead th {\n",
       "        text-align: right;\n",
       "    }\n",
       "</style>\n",
       "<table border=\"1\" class=\"dataframe\">\n",
       "  <thead>\n",
       "    <tr style=\"text-align: right;\">\n",
       "      <th></th>\n",
       "      <th>código ISIC</th>\n",
       "      <th>denominação ISIC</th>\n",
       "      <th>código CNAE</th>\n",
       "      <th>denominação CNAE</th>\n",
       "      <th>CNAE2d</th>\n",
       "    </tr>\n",
       "  </thead>\n",
       "  <tbody>\n",
       "    <tr>\n",
       "      <th>234</th>\n",
       "      <td>1629</td>\n",
       "      <td>Fabricación de otros productos de madera; fabr...</td>\n",
       "      <td>15.40-8</td>\n",
       "      <td>Fabricação de partes para calçados, de qualque...</td>\n",
       "      <td>15</td>\n",
       "    </tr>\n",
       "    <tr>\n",
       "      <th>235</th>\n",
       "      <td>1629</td>\n",
       "      <td>Fabricación de otros productos de madera; fabr...</td>\n",
       "      <td>16.29-3</td>\n",
       "      <td>Fabricação de artefatos de madeira, palha, cor...</td>\n",
       "      <td>16</td>\n",
       "    </tr>\n",
       "    <tr>\n",
       "      <th>274</th>\n",
       "      <td>2011</td>\n",
       "      <td>Fabricación de sustancias químicas básicas</td>\n",
       "      <td>19.31-4</td>\n",
       "      <td>Fabricação de álcool</td>\n",
       "      <td>19</td>\n",
       "    </tr>\n",
       "    <tr>\n",
       "      <th>275</th>\n",
       "      <td>2011</td>\n",
       "      <td>Fabricación de sustancias químicas básicas</td>\n",
       "      <td>19.32-2</td>\n",
       "      <td>Fabricação de biocombustíveis, exceto álcool</td>\n",
       "      <td>19</td>\n",
       "    </tr>\n",
       "    <tr>\n",
       "      <th>276</th>\n",
       "      <td>2011</td>\n",
       "      <td>Fabricación de sustancias químicas básicas</td>\n",
       "      <td>20.11-8</td>\n",
       "      <td>Fabricação de cloro e álcalis</td>\n",
       "      <td>20</td>\n",
       "    </tr>\n",
       "    <tr>\n",
       "      <th>277</th>\n",
       "      <td>2011</td>\n",
       "      <td>Fabricación de sustancias químicas básicas</td>\n",
       "      <td>20.14-2</td>\n",
       "      <td>Fabricação de gases industriais</td>\n",
       "      <td>20</td>\n",
       "    </tr>\n",
       "    <tr>\n",
       "      <th>278</th>\n",
       "      <td>2011</td>\n",
       "      <td>Fabricación de sustancias químicas básicas</td>\n",
       "      <td>20.19-3</td>\n",
       "      <td>Fabricação de produtos químicos inorgânicos nã...</td>\n",
       "      <td>20</td>\n",
       "    </tr>\n",
       "    <tr>\n",
       "      <th>279</th>\n",
       "      <td>2011</td>\n",
       "      <td>Fabricación de sustancias químicas básicas</td>\n",
       "      <td>20.21-5</td>\n",
       "      <td>Fabricação de produtos petroquímicos básicos</td>\n",
       "      <td>20</td>\n",
       "    </tr>\n",
       "    <tr>\n",
       "      <th>280</th>\n",
       "      <td>2011</td>\n",
       "      <td>Fabricación de sustancias químicas básicas</td>\n",
       "      <td>20.22-3</td>\n",
       "      <td>Fabricação de intermediários para plastificant...</td>\n",
       "      <td>20</td>\n",
       "    </tr>\n",
       "    <tr>\n",
       "      <th>281</th>\n",
       "      <td>2011</td>\n",
       "      <td>Fabricación de sustancias químicas básicas</td>\n",
       "      <td>20.29-1</td>\n",
       "      <td>Fabricação de produtos químicos orgânicos não ...</td>\n",
       "      <td>20</td>\n",
       "    </tr>\n",
       "    <tr>\n",
       "      <th>319</th>\n",
       "      <td>2219</td>\n",
       "      <td>Fabricación de otros productos de caucho</td>\n",
       "      <td>15.40-8</td>\n",
       "      <td>Fabricação de partes para calçados, de qualque...</td>\n",
       "      <td>15</td>\n",
       "    </tr>\n",
       "    <tr>\n",
       "      <th>320</th>\n",
       "      <td>2219</td>\n",
       "      <td>Fabricación de otros productos de caucho</td>\n",
       "      <td>22.19-6</td>\n",
       "      <td>Fabricação de artefatos de borracha não especi...</td>\n",
       "      <td>22</td>\n",
       "    </tr>\n",
       "    <tr>\n",
       "      <th>323</th>\n",
       "      <td>2220</td>\n",
       "      <td>Fabricación de productos de plástico</td>\n",
       "      <td>15.40-8</td>\n",
       "      <td>Fabricação de partes para calçados, de qualque...</td>\n",
       "      <td>15</td>\n",
       "    </tr>\n",
       "    <tr>\n",
       "      <th>324</th>\n",
       "      <td>2220</td>\n",
       "      <td>Fabricación de productos de plástico</td>\n",
       "      <td>22.21-8</td>\n",
       "      <td>Fabricação de laminados planos e tubulares de ...</td>\n",
       "      <td>22</td>\n",
       "    </tr>\n",
       "    <tr>\n",
       "      <th>325</th>\n",
       "      <td>2220</td>\n",
       "      <td>Fabricación de productos de plástico</td>\n",
       "      <td>22.22-6</td>\n",
       "      <td>Fabricação de embalagens de material plástico</td>\n",
       "      <td>22</td>\n",
       "    </tr>\n",
       "    <tr>\n",
       "      <th>326</th>\n",
       "      <td>2220</td>\n",
       "      <td>Fabricación de productos de plástico</td>\n",
       "      <td>22.23-4</td>\n",
       "      <td>Fabricação de tubos e acessórios de material p...</td>\n",
       "      <td>22</td>\n",
       "    </tr>\n",
       "    <tr>\n",
       "      <th>327</th>\n",
       "      <td>2220</td>\n",
       "      <td>Fabricación de productos de plástico</td>\n",
       "      <td>22.29-3</td>\n",
       "      <td>Fabricação de artefatos de material plástico n...</td>\n",
       "      <td>22</td>\n",
       "    </tr>\n",
       "  </tbody>\n",
       "</table>\n",
       "</div>"
      ],
      "text/plain": [
       "    código ISIC                                   denominação ISIC  \\\n",
       "234        1629  Fabricación de otros productos de madera; fabr...   \n",
       "235        1629  Fabricación de otros productos de madera; fabr...   \n",
       "274        2011         Fabricación de sustancias químicas básicas   \n",
       "275        2011         Fabricación de sustancias químicas básicas   \n",
       "276        2011         Fabricación de sustancias químicas básicas   \n",
       "277        2011         Fabricación de sustancias químicas básicas   \n",
       "278        2011         Fabricación de sustancias químicas básicas   \n",
       "279        2011         Fabricación de sustancias químicas básicas   \n",
       "280        2011         Fabricación de sustancias químicas básicas   \n",
       "281        2011         Fabricación de sustancias químicas básicas   \n",
       "319        2219           Fabricación de otros productos de caucho   \n",
       "320        2219           Fabricación de otros productos de caucho   \n",
       "323        2220               Fabricación de productos de plástico   \n",
       "324        2220               Fabricación de productos de plástico   \n",
       "325        2220               Fabricación de productos de plástico   \n",
       "326        2220               Fabricación de productos de plástico   \n",
       "327        2220               Fabricación de productos de plástico   \n",
       "\n",
       "    código CNAE                                   denominação CNAE CNAE2d  \n",
       "234     15.40-8  Fabricação de partes para calçados, de qualque...     15  \n",
       "235     16.29-3  Fabricação de artefatos de madeira, palha, cor...     16  \n",
       "274     19.31-4                               Fabricação de álcool     19  \n",
       "275     19.32-2       Fabricação de biocombustíveis, exceto álcool     19  \n",
       "276     20.11-8                      Fabricação de cloro e álcalis     20  \n",
       "277     20.14-2                    Fabricação de gases industriais     20  \n",
       "278     20.19-3  Fabricação de produtos químicos inorgânicos nã...     20  \n",
       "279     20.21-5       Fabricação de produtos petroquímicos básicos     20  \n",
       "280     20.22-3  Fabricação de intermediários para plastificant...     20  \n",
       "281     20.29-1  Fabricação de produtos químicos orgânicos não ...     20  \n",
       "319     15.40-8  Fabricação de partes para calçados, de qualque...     15  \n",
       "320     22.19-6  Fabricação de artefatos de borracha não especi...     22  \n",
       "323     15.40-8  Fabricação de partes para calçados, de qualque...     15  \n",
       "324     22.21-8  Fabricação de laminados planos e tubulares de ...     22  \n",
       "325     22.22-6      Fabricação de embalagens de material plástico     22  \n",
       "326     22.23-4  Fabricação de tubos e acessórios de material p...     22  \n",
       "327     22.29-3  Fabricação de artefatos de material plástico n...     22  "
      ]
     },
     "execution_count": 64,
     "metadata": {},
     "output_type": "execute_result"
    }
   ],
   "source": [
    "mapeamento_isic.query('`código ISIC`.isin([\"2220\",\"2219\",\"1629\",\"2011\"])')"
   ]
  },
  {
   "cell_type": "code",
   "execution_count": null,
   "id": "aaa8191c",
   "metadata": {},
   "outputs": [
    {
     "data": {
      "application/vnd.microsoft.datawrangler.viewer.v0+json": {
       "columns": [
        {
         "name": "index",
         "rawType": "int64",
         "type": "integer"
        },
        {
         "name": "ISIC2d",
         "rawType": "object",
         "type": "string"
        },
        {
         "name": "CNAE2d",
         "rawType": "int64",
         "type": "integer"
        }
       ],
       "ref": "891c19aa-c3b5-43f3-8801-7ede937aed43",
       "rows": [
        [
         "18",
         "22",
         "2"
        ],
        [
         "16",
         "20",
         "2"
        ],
        [
         "12",
         "16",
         "2"
        ],
        [
         "25",
         "29",
         "1"
        ],
        [
         "20",
         "24",
         "1"
        ],
        [
         "21",
         "25",
         "1"
        ],
        [
         "22",
         "26",
         "1"
        ],
        [
         "23",
         "27",
         "1"
        ],
        [
         "24",
         "28",
         "1"
        ],
        [
         "0",
         "01",
         "1"
        ]
       ],
       "shape": {
        "columns": 2,
        "rows": 10
       }
      },
      "text/html": [
       "<div>\n",
       "<style scoped>\n",
       "    .dataframe tbody tr th:only-of-type {\n",
       "        vertical-align: middle;\n",
       "    }\n",
       "\n",
       "    .dataframe tbody tr th {\n",
       "        vertical-align: top;\n",
       "    }\n",
       "\n",
       "    .dataframe thead th {\n",
       "        text-align: right;\n",
       "    }\n",
       "</style>\n",
       "<table border=\"1\" class=\"dataframe\">\n",
       "  <thead>\n",
       "    <tr style=\"text-align: right;\">\n",
       "      <th></th>\n",
       "      <th>ISIC2d</th>\n",
       "      <th>CNAE2d</th>\n",
       "    </tr>\n",
       "  </thead>\n",
       "  <tbody>\n",
       "    <tr>\n",
       "      <th>18</th>\n",
       "      <td>22</td>\n",
       "      <td>2</td>\n",
       "    </tr>\n",
       "    <tr>\n",
       "      <th>16</th>\n",
       "      <td>20</td>\n",
       "      <td>2</td>\n",
       "    </tr>\n",
       "    <tr>\n",
       "      <th>12</th>\n",
       "      <td>16</td>\n",
       "      <td>2</td>\n",
       "    </tr>\n",
       "    <tr>\n",
       "      <th>25</th>\n",
       "      <td>29</td>\n",
       "      <td>1</td>\n",
       "    </tr>\n",
       "    <tr>\n",
       "      <th>20</th>\n",
       "      <td>24</td>\n",
       "      <td>1</td>\n",
       "    </tr>\n",
       "    <tr>\n",
       "      <th>21</th>\n",
       "      <td>25</td>\n",
       "      <td>1</td>\n",
       "    </tr>\n",
       "    <tr>\n",
       "      <th>22</th>\n",
       "      <td>26</td>\n",
       "      <td>1</td>\n",
       "    </tr>\n",
       "    <tr>\n",
       "      <th>23</th>\n",
       "      <td>27</td>\n",
       "      <td>1</td>\n",
       "    </tr>\n",
       "    <tr>\n",
       "      <th>24</th>\n",
       "      <td>28</td>\n",
       "      <td>1</td>\n",
       "    </tr>\n",
       "    <tr>\n",
       "      <th>0</th>\n",
       "      <td>01</td>\n",
       "      <td>1</td>\n",
       "    </tr>\n",
       "  </tbody>\n",
       "</table>\n",
       "</div>"
      ],
      "text/plain": [
       "   ISIC2d  CNAE2d\n",
       "18     22       2\n",
       "16     20       2\n",
       "12     16       2\n",
       "25     29       1\n",
       "20     24       1\n",
       "21     25       1\n",
       "22     26       1\n",
       "23     27       1\n",
       "24     28       1\n",
       "0      01       1"
      ]
     },
     "execution_count": 72,
     "metadata": {},
     "output_type": "execute_result"
    }
   ],
   "source": [
    "#Fazer o count distinct de códigos CNAE2d por código ISIC\n",
    "mapeamento_isic.merge(ncms_usa[['CO_ISIC_CLASSE']].rename(columns={'CO_ISIC_CLASSE': 'código ISIC'}).drop_duplicates(),on='código ISIC',how='right',indicator=True).groupby('ISIC2d')['CNAE2d'].nunique().reset_index().sort_values(by='CNAE2d', ascending=False).head(10)\n"
   ]
  },
  {
   "cell_type": "markdown",
   "id": "ead853b5",
   "metadata": {},
   "source": [
    "## Decidiu-se por usar os dois primeiros dígitos do ISIC como aproximação da CNAE"
   ]
  },
  {
   "cell_type": "code",
   "execution_count": 101,
   "id": "574cd783",
   "metadata": {},
   "outputs": [],
   "source": [
    "exportacoes = exportacoes.query('`R$ FOB USA` > 0')"
   ]
  },
  {
   "cell_type": "code",
   "execution_count": 114,
   "id": "97f67cf5",
   "metadata": {},
   "outputs": [],
   "source": [
    "exportacoes = ncm[['CO_SH6','CO_ISIC_CLASSE']].drop_duplicates().merge(exportacoes, left_on='CO_SH6', right_on='SH6', how='inner')"
   ]
  },
  {
   "cell_type": "code",
   "execution_count": 115,
   "id": "725e5d54",
   "metadata": {},
   "outputs": [],
   "source": [
    "exportacoes['CNAE2s'] = exportacoes['CO_ISIC_CLASSE'].str[0:2]"
   ]
  },
  {
   "cell_type": "code",
   "execution_count": 116,
   "id": "cd184b1d",
   "metadata": {},
   "outputs": [
    {
     "data": {
      "application/vnd.microsoft.datawrangler.viewer.v0+json": {
       "columns": [
        {
         "name": "index",
         "rawType": "int64",
         "type": "integer"
        },
        {
         "name": "CO_SH6",
         "rawType": "object",
         "type": "string"
        },
        {
         "name": "CO_ISIC_CLASSE",
         "rawType": "object",
         "type": "string"
        },
        {
         "name": "R$ FOB Mundo",
         "rawType": "float64",
         "type": "float"
        },
        {
         "name": "R$ FOB USA",
         "rawType": "float64",
         "type": "float"
        },
        {
         "name": "participacao_usa",
         "rawType": "float64",
         "type": "float"
        },
        {
         "name": "CNAE2s",
         "rawType": "object",
         "type": "string"
        }
       ],
       "ref": "8024aa63-0959-4323-aa74-2fcf71c50219",
       "rows": [
        [
         "0",
         "490110",
         "5811",
         "6996257.7299999995",
         "701988.21",
         "0.10033767152257268",
         "58"
        ],
        [
         "1",
         "490191",
         "5811",
         "2892376.4099999997",
         "73713.64",
         "0.02548549343202533",
         "58"
        ]
       ],
       "shape": {
        "columns": 6,
        "rows": 2
       }
      },
      "text/html": [
       "<div>\n",
       "<style scoped>\n",
       "    .dataframe tbody tr th:only-of-type {\n",
       "        vertical-align: middle;\n",
       "    }\n",
       "\n",
       "    .dataframe tbody tr th {\n",
       "        vertical-align: top;\n",
       "    }\n",
       "\n",
       "    .dataframe thead th {\n",
       "        text-align: right;\n",
       "    }\n",
       "</style>\n",
       "<table border=\"1\" class=\"dataframe\">\n",
       "  <thead>\n",
       "    <tr style=\"text-align: right;\">\n",
       "      <th></th>\n",
       "      <th>CO_SH6</th>\n",
       "      <th>CO_ISIC_CLASSE</th>\n",
       "      <th>R$ FOB Mundo</th>\n",
       "      <th>R$ FOB USA</th>\n",
       "      <th>participacao_usa</th>\n",
       "      <th>CNAE2s</th>\n",
       "    </tr>\n",
       "  </thead>\n",
       "  <tbody>\n",
       "    <tr>\n",
       "      <th>0</th>\n",
       "      <td>490110</td>\n",
       "      <td>5811</td>\n",
       "      <td>6996257.73</td>\n",
       "      <td>701988.21</td>\n",
       "      <td>0.100338</td>\n",
       "      <td>58</td>\n",
       "    </tr>\n",
       "    <tr>\n",
       "      <th>1</th>\n",
       "      <td>490191</td>\n",
       "      <td>5811</td>\n",
       "      <td>2892376.41</td>\n",
       "      <td>73713.64</td>\n",
       "      <td>0.025485</td>\n",
       "      <td>58</td>\n",
       "    </tr>\n",
       "  </tbody>\n",
       "</table>\n",
       "</div>"
      ],
      "text/plain": [
       "   CO_SH6 CO_ISIC_CLASSE  R$ FOB Mundo  R$ FOB USA  participacao_usa CNAE2s\n",
       "0  490110           5811    6996257.73   701988.21          0.100338     58\n",
       "1  490191           5811    2892376.41    73713.64          0.025485     58"
      ]
     },
     "execution_count": 116,
     "metadata": {},
     "output_type": "execute_result"
    }
   ],
   "source": [
    "exportacoes.head(2)"
   ]
  },
  {
   "cell_type": "markdown",
   "id": "0c5dccf3",
   "metadata": {},
   "source": [
    "## Carregar dados da PIA Empresa"
   ]
  },
  {
   "cell_type": "code",
   "execution_count": 196,
   "id": "1a616b61",
   "metadata": {},
   "outputs": [],
   "source": [
    "url_pia_empresa = 'https://apisidra.ibge.gov.br/values/t/1842/n1/all/v/824,825/p/last%201/c12762/all'\n",
    "\n",
    "data = requests.get(url_pia_empresa)\n",
    "data = data.json()\n",
    "pia_empresa_rlv = pd.DataFrame(data, columns=data[0])\n"
   ]
  },
  {
   "cell_type": "code",
   "execution_count": 197,
   "id": "0f36f63a",
   "metadata": {},
   "outputs": [],
   "source": [
    "pia_empresa_rlv.columns = pia_empresa_rlv.iloc[0]\n",
    "pia_empresa_rlv = pia_empresa_rlv[1:]\n"
   ]
  },
  {
   "cell_type": "code",
   "execution_count": 198,
   "id": "9771f47b",
   "metadata": {},
   "outputs": [
    {
     "data": {
      "application/vnd.microsoft.datawrangler.viewer.v0+json": {
       "columns": [
        {
         "name": "index",
         "rawType": "int64",
         "type": "integer"
        },
        {
         "name": "Nível Territorial (Código)",
         "rawType": "object",
         "type": "string"
        },
        {
         "name": "Nível Territorial",
         "rawType": "object",
         "type": "string"
        },
        {
         "name": "Unidade de Medida (Código)",
         "rawType": "object",
         "type": "string"
        },
        {
         "name": "Unidade de Medida",
         "rawType": "object",
         "type": "string"
        },
        {
         "name": "Valor",
         "rawType": "object",
         "type": "string"
        },
        {
         "name": "Brasil (Código)",
         "rawType": "object",
         "type": "string"
        },
        {
         "name": "Brasil",
         "rawType": "object",
         "type": "string"
        },
        {
         "name": "Variável (Código)",
         "rawType": "object",
         "type": "string"
        },
        {
         "name": "Variável",
         "rawType": "object",
         "type": "string"
        },
        {
         "name": "Ano (Código)",
         "rawType": "object",
         "type": "string"
        },
        {
         "name": "Ano",
         "rawType": "object",
         "type": "string"
        },
        {
         "name": "Classificação Nacional de Atividades Econômicas (CNAE 2.0) (Código)",
         "rawType": "object",
         "type": "string"
        },
        {
         "name": "Classificação Nacional de Atividades Econômicas (CNAE 2.0)",
         "rawType": "object",
         "type": "string"
        }
       ],
       "ref": "9a516f9d-cb50-42a3-b5fb-67c5a0826bb0",
       "rows": [
        [
         "1",
         "1",
         "Brasil",
         "40",
         "Mil Reais",
         "6353568639",
         "1",
         "Brasil",
         "824",
         "Total da receita líquida de vendas",
         "2023",
         "2023",
         "117897",
         "Total"
        ],
        [
         "2",
         "1",
         "Brasil",
         "40",
         "Mil Reais",
         "456258347",
         "1",
         "Brasil",
         "824",
         "Total da receita líquida de vendas",
         "2023",
         "2023",
         "116880",
         "B Indústrias extrativas"
        ]
       ],
       "shape": {
        "columns": 13,
        "rows": 2
       }
      },
      "text/html": [
       "<div>\n",
       "<style scoped>\n",
       "    .dataframe tbody tr th:only-of-type {\n",
       "        vertical-align: middle;\n",
       "    }\n",
       "\n",
       "    .dataframe tbody tr th {\n",
       "        vertical-align: top;\n",
       "    }\n",
       "\n",
       "    .dataframe thead th {\n",
       "        text-align: right;\n",
       "    }\n",
       "</style>\n",
       "<table border=\"1\" class=\"dataframe\">\n",
       "  <thead>\n",
       "    <tr style=\"text-align: right;\">\n",
       "      <th></th>\n",
       "      <th>Nível Territorial (Código)</th>\n",
       "      <th>Nível Territorial</th>\n",
       "      <th>Unidade de Medida (Código)</th>\n",
       "      <th>Unidade de Medida</th>\n",
       "      <th>Valor</th>\n",
       "      <th>Brasil (Código)</th>\n",
       "      <th>Brasil</th>\n",
       "      <th>Variável (Código)</th>\n",
       "      <th>Variável</th>\n",
       "      <th>Ano (Código)</th>\n",
       "      <th>Ano</th>\n",
       "      <th>Classificação Nacional de Atividades Econômicas (CNAE 2.0) (Código)</th>\n",
       "      <th>Classificação Nacional de Atividades Econômicas (CNAE 2.0)</th>\n",
       "    </tr>\n",
       "  </thead>\n",
       "  <tbody>\n",
       "    <tr>\n",
       "      <th>1</th>\n",
       "      <td>1</td>\n",
       "      <td>Brasil</td>\n",
       "      <td>40</td>\n",
       "      <td>Mil Reais</td>\n",
       "      <td>6353568639</td>\n",
       "      <td>1</td>\n",
       "      <td>Brasil</td>\n",
       "      <td>824</td>\n",
       "      <td>Total da receita líquida de vendas</td>\n",
       "      <td>2023</td>\n",
       "      <td>2023</td>\n",
       "      <td>117897</td>\n",
       "      <td>Total</td>\n",
       "    </tr>\n",
       "    <tr>\n",
       "      <th>2</th>\n",
       "      <td>1</td>\n",
       "      <td>Brasil</td>\n",
       "      <td>40</td>\n",
       "      <td>Mil Reais</td>\n",
       "      <td>456258347</td>\n",
       "      <td>1</td>\n",
       "      <td>Brasil</td>\n",
       "      <td>824</td>\n",
       "      <td>Total da receita líquida de vendas</td>\n",
       "      <td>2023</td>\n",
       "      <td>2023</td>\n",
       "      <td>116880</td>\n",
       "      <td>B Indústrias extrativas</td>\n",
       "    </tr>\n",
       "  </tbody>\n",
       "</table>\n",
       "</div>"
      ],
      "text/plain": [
       "0 Nível Territorial (Código) Nível Territorial Unidade de Medida (Código)  \\\n",
       "1                          1            Brasil                         40   \n",
       "2                          1            Brasil                         40   \n",
       "\n",
       "0 Unidade de Medida       Valor Brasil (Código)  Brasil Variável (Código)  \\\n",
       "1         Mil Reais  6353568639               1  Brasil               824   \n",
       "2         Mil Reais   456258347               1  Brasil               824   \n",
       "\n",
       "0                            Variável Ano (Código)   Ano  \\\n",
       "1  Total da receita líquida de vendas         2023  2023   \n",
       "2  Total da receita líquida de vendas         2023  2023   \n",
       "\n",
       "0 Classificação Nacional de Atividades Econômicas (CNAE 2.0) (Código)  \\\n",
       "1                                             117897                    \n",
       "2                                             116880                    \n",
       "\n",
       "0 Classificação Nacional de Atividades Econômicas (CNAE 2.0)  \n",
       "1                                              Total          \n",
       "2                            B Indústrias extrativas          "
      ]
     },
     "execution_count": 198,
     "metadata": {},
     "output_type": "execute_result"
    }
   ],
   "source": [
    "pia_empresa_rlv.head(2)\n"
   ]
  },
  {
   "cell_type": "code",
   "execution_count": null,
   "id": "80a23977",
   "metadata": {},
   "outputs": [],
   "source": [
    "mapeamento_isic"
   ]
  },
  {
   "cell_type": "code",
   "execution_count": 199,
   "id": "ac59c4e7",
   "metadata": {},
   "outputs": [],
   "source": [
    "##Filtrar apenas registros cujos valores da coluna 'Classificação Nacional de Atividades Econômicas (CNAE 2.0)' siga o padrão \\d{2}\\.\\d{1} \n",
    "pia_empresa_rlv_2d = pia_empresa_rlv[pia_empresa_rlv['Classificação Nacional de Atividades Econômicas (CNAE 2.0)'].str.match(r'^\\d{2} ')]\n",
    "pia_empresa_rlv_3d = pia_empresa_rlv[pia_empresa_rlv['Classificação Nacional de Atividades Econômicas (CNAE 2.0)'].str.match(r'^\\d{2}\\.\\d{1} ')]    "
   ]
  },
  {
   "cell_type": "code",
   "execution_count": 201,
   "id": "7cbc42d5",
   "metadata": {},
   "outputs": [
    {
     "data": {
      "application/vnd.microsoft.datawrangler.viewer.v0+json": {
       "columns": [
        {
         "name": "index",
         "rawType": "int64",
         "type": "integer"
        },
        {
         "name": "Nível Territorial (Código)",
         "rawType": "object",
         "type": "string"
        },
        {
         "name": "Nível Territorial",
         "rawType": "object",
         "type": "string"
        },
        {
         "name": "Unidade de Medida (Código)",
         "rawType": "object",
         "type": "string"
        },
        {
         "name": "Unidade de Medida",
         "rawType": "object",
         "type": "string"
        },
        {
         "name": "Valor",
         "rawType": "object",
         "type": "string"
        },
        {
         "name": "Brasil (Código)",
         "rawType": "object",
         "type": "string"
        },
        {
         "name": "Brasil",
         "rawType": "object",
         "type": "string"
        },
        {
         "name": "Variável (Código)",
         "rawType": "object",
         "type": "string"
        },
        {
         "name": "Variável",
         "rawType": "object",
         "type": "string"
        },
        {
         "name": "Ano (Código)",
         "rawType": "object",
         "type": "string"
        },
        {
         "name": "Ano",
         "rawType": "object",
         "type": "string"
        },
        {
         "name": "Classificação Nacional de Atividades Econômicas (CNAE 2.0) (Código)",
         "rawType": "object",
         "type": "string"
        },
        {
         "name": "Classificação Nacional de Atividades Econômicas (CNAE 2.0)",
         "rawType": "object",
         "type": "string"
        }
       ],
       "ref": "9f369ca1-2810-44bc-bbe3-9adbee88bfc4",
       "rows": [
        [
         "4",
         "1",
         "Brasil",
         "40",
         "Mil Reais",
         "1941673",
         "1",
         "Brasil",
         "824",
         "Total da receita líquida de vendas",
         "2023",
         "2023",
         "116882",
         "05.0 Extração de carvão mineral"
        ],
        [
         "6",
         "1",
         "Brasil",
         "40",
         "Mil Reais",
         "163281926",
         "1",
         "Brasil",
         "824",
         "Total da receita líquida de vendas",
         "2023",
         "2023",
         "116885",
         "06.0 Extração de petróleo e gás natural"
        ]
       ],
       "shape": {
        "columns": 13,
        "rows": 2
       }
      },
      "text/html": [
       "<div>\n",
       "<style scoped>\n",
       "    .dataframe tbody tr th:only-of-type {\n",
       "        vertical-align: middle;\n",
       "    }\n",
       "\n",
       "    .dataframe tbody tr th {\n",
       "        vertical-align: top;\n",
       "    }\n",
       "\n",
       "    .dataframe thead th {\n",
       "        text-align: right;\n",
       "    }\n",
       "</style>\n",
       "<table border=\"1\" class=\"dataframe\">\n",
       "  <thead>\n",
       "    <tr style=\"text-align: right;\">\n",
       "      <th></th>\n",
       "      <th>Nível Territorial (Código)</th>\n",
       "      <th>Nível Territorial</th>\n",
       "      <th>Unidade de Medida (Código)</th>\n",
       "      <th>Unidade de Medida</th>\n",
       "      <th>Valor</th>\n",
       "      <th>Brasil (Código)</th>\n",
       "      <th>Brasil</th>\n",
       "      <th>Variável (Código)</th>\n",
       "      <th>Variável</th>\n",
       "      <th>Ano (Código)</th>\n",
       "      <th>Ano</th>\n",
       "      <th>Classificação Nacional de Atividades Econômicas (CNAE 2.0) (Código)</th>\n",
       "      <th>Classificação Nacional de Atividades Econômicas (CNAE 2.0)</th>\n",
       "    </tr>\n",
       "  </thead>\n",
       "  <tbody>\n",
       "    <tr>\n",
       "      <th>4</th>\n",
       "      <td>1</td>\n",
       "      <td>Brasil</td>\n",
       "      <td>40</td>\n",
       "      <td>Mil Reais</td>\n",
       "      <td>1941673</td>\n",
       "      <td>1</td>\n",
       "      <td>Brasil</td>\n",
       "      <td>824</td>\n",
       "      <td>Total da receita líquida de vendas</td>\n",
       "      <td>2023</td>\n",
       "      <td>2023</td>\n",
       "      <td>116882</td>\n",
       "      <td>05.0 Extração de carvão mineral</td>\n",
       "    </tr>\n",
       "    <tr>\n",
       "      <th>6</th>\n",
       "      <td>1</td>\n",
       "      <td>Brasil</td>\n",
       "      <td>40</td>\n",
       "      <td>Mil Reais</td>\n",
       "      <td>163281926</td>\n",
       "      <td>1</td>\n",
       "      <td>Brasil</td>\n",
       "      <td>824</td>\n",
       "      <td>Total da receita líquida de vendas</td>\n",
       "      <td>2023</td>\n",
       "      <td>2023</td>\n",
       "      <td>116885</td>\n",
       "      <td>06.0 Extração de petróleo e gás natural</td>\n",
       "    </tr>\n",
       "  </tbody>\n",
       "</table>\n",
       "</div>"
      ],
      "text/plain": [
       "0 Nível Territorial (Código) Nível Territorial Unidade de Medida (Código)  \\\n",
       "4                          1            Brasil                         40   \n",
       "6                          1            Brasil                         40   \n",
       "\n",
       "0 Unidade de Medida      Valor Brasil (Código)  Brasil Variável (Código)  \\\n",
       "4         Mil Reais    1941673               1  Brasil               824   \n",
       "6         Mil Reais  163281926               1  Brasil               824   \n",
       "\n",
       "0                            Variável Ano (Código)   Ano  \\\n",
       "4  Total da receita líquida de vendas         2023  2023   \n",
       "6  Total da receita líquida de vendas         2023  2023   \n",
       "\n",
       "0 Classificação Nacional de Atividades Econômicas (CNAE 2.0) (Código)  \\\n",
       "4                                             116882                    \n",
       "6                                             116885                    \n",
       "\n",
       "0 Classificação Nacional de Atividades Econômicas (CNAE 2.0)  \n",
       "4                    05.0 Extração de carvão mineral          \n",
       "6            06.0 Extração de petróleo e gás natural          "
      ]
     },
     "execution_count": 201,
     "metadata": {},
     "output_type": "execute_result"
    }
   ],
   "source": [
    "pia_empresa_rlv_3d.head(2)"
   ]
  },
  {
   "cell_type": "code",
   "execution_count": 202,
   "id": "80d7bcdb",
   "metadata": {},
   "outputs": [
    {
     "name": "stderr",
     "output_type": "stream",
     "text": [
      "/tmp/ipykernel_1101985/1836566463.py:1: SettingWithCopyWarning: \n",
      "A value is trying to be set on a copy of a slice from a DataFrame.\n",
      "Try using .loc[row_indexer,col_indexer] = value instead\n",
      "\n",
      "See the caveats in the documentation: https://pandas.pydata.org/pandas-docs/stable/user_guide/indexing.html#returning-a-view-versus-a-copy\n",
      "  pia_empresa_rlv_2d['cnae'] = pia_empresa_rlv['Classificação Nacional de Atividades Econômicas (CNAE 2.0)'].str[0:2].str.replace('.','', regex=False)\n",
      "/tmp/ipykernel_1101985/1836566463.py:2: SettingWithCopyWarning: \n",
      "A value is trying to be set on a copy of a slice from a DataFrame.\n",
      "Try using .loc[row_indexer,col_indexer] = value instead\n",
      "\n",
      "See the caveats in the documentation: https://pandas.pydata.org/pandas-docs/stable/user_guide/indexing.html#returning-a-view-versus-a-copy\n",
      "  pia_empresa_rlv_2d['cnae_descricao'] = pia_empresa_rlv['Classificação Nacional de Atividades Econômicas (CNAE 2.0)'].str[3:]\n"
     ]
    },
    {
     "data": {
      "application/vnd.microsoft.datawrangler.viewer.v0+json": {
       "columns": [
        {
         "name": "index",
         "rawType": "int64",
         "type": "integer"
        },
        {
         "name": "Nível Territorial (Código)",
         "rawType": "object",
         "type": "string"
        },
        {
         "name": "Nível Territorial",
         "rawType": "object",
         "type": "string"
        },
        {
         "name": "Unidade de Medida (Código)",
         "rawType": "object",
         "type": "string"
        },
        {
         "name": "Unidade de Medida",
         "rawType": "object",
         "type": "string"
        },
        {
         "name": "Valor",
         "rawType": "object",
         "type": "string"
        },
        {
         "name": "Brasil (Código)",
         "rawType": "object",
         "type": "string"
        },
        {
         "name": "Brasil",
         "rawType": "object",
         "type": "string"
        },
        {
         "name": "Variável (Código)",
         "rawType": "object",
         "type": "string"
        },
        {
         "name": "Variável",
         "rawType": "object",
         "type": "string"
        },
        {
         "name": "Ano (Código)",
         "rawType": "object",
         "type": "string"
        },
        {
         "name": "Ano",
         "rawType": "object",
         "type": "string"
        },
        {
         "name": "Classificação Nacional de Atividades Econômicas (CNAE 2.0) (Código)",
         "rawType": "object",
         "type": "string"
        },
        {
         "name": "Classificação Nacional de Atividades Econômicas (CNAE 2.0)",
         "rawType": "object",
         "type": "string"
        },
        {
         "name": "cnae",
         "rawType": "object",
         "type": "string"
        },
        {
         "name": "cnae_descricao",
         "rawType": "object",
         "type": "string"
        }
       ],
       "ref": "961ee534-0e25-451a-9d14-f54cd8c4398b",
       "rows": [
        [
         "3",
         "1",
         "Brasil",
         "40",
         "Mil Reais",
         "1941673",
         "1",
         "Brasil",
         "824",
         "Total da receita líquida de vendas",
         "2023",
         "2023",
         "116881",
         "05 Extração de carvão mineral",
         "05",
         "Extração de carvão mineral"
        ],
        [
         "5",
         "1",
         "Brasil",
         "40",
         "Mil Reais",
         "163281926",
         "1",
         "Brasil",
         "824",
         "Total da receita líquida de vendas",
         "2023",
         "2023",
         "116884",
         "06 Extração de petróleo e gás natural",
         "06",
         "Extração de petróleo e gás natural"
        ]
       ],
       "shape": {
        "columns": 15,
        "rows": 2
       }
      },
      "text/html": [
       "<div>\n",
       "<style scoped>\n",
       "    .dataframe tbody tr th:only-of-type {\n",
       "        vertical-align: middle;\n",
       "    }\n",
       "\n",
       "    .dataframe tbody tr th {\n",
       "        vertical-align: top;\n",
       "    }\n",
       "\n",
       "    .dataframe thead th {\n",
       "        text-align: right;\n",
       "    }\n",
       "</style>\n",
       "<table border=\"1\" class=\"dataframe\">\n",
       "  <thead>\n",
       "    <tr style=\"text-align: right;\">\n",
       "      <th></th>\n",
       "      <th>Nível Territorial (Código)</th>\n",
       "      <th>Nível Territorial</th>\n",
       "      <th>Unidade de Medida (Código)</th>\n",
       "      <th>Unidade de Medida</th>\n",
       "      <th>Valor</th>\n",
       "      <th>Brasil (Código)</th>\n",
       "      <th>Brasil</th>\n",
       "      <th>Variável (Código)</th>\n",
       "      <th>Variável</th>\n",
       "      <th>Ano (Código)</th>\n",
       "      <th>Ano</th>\n",
       "      <th>Classificação Nacional de Atividades Econômicas (CNAE 2.0) (Código)</th>\n",
       "      <th>Classificação Nacional de Atividades Econômicas (CNAE 2.0)</th>\n",
       "      <th>cnae</th>\n",
       "      <th>cnae_descricao</th>\n",
       "    </tr>\n",
       "  </thead>\n",
       "  <tbody>\n",
       "    <tr>\n",
       "      <th>3</th>\n",
       "      <td>1</td>\n",
       "      <td>Brasil</td>\n",
       "      <td>40</td>\n",
       "      <td>Mil Reais</td>\n",
       "      <td>1941673</td>\n",
       "      <td>1</td>\n",
       "      <td>Brasil</td>\n",
       "      <td>824</td>\n",
       "      <td>Total da receita líquida de vendas</td>\n",
       "      <td>2023</td>\n",
       "      <td>2023</td>\n",
       "      <td>116881</td>\n",
       "      <td>05 Extração de carvão mineral</td>\n",
       "      <td>05</td>\n",
       "      <td>Extração de carvão mineral</td>\n",
       "    </tr>\n",
       "    <tr>\n",
       "      <th>5</th>\n",
       "      <td>1</td>\n",
       "      <td>Brasil</td>\n",
       "      <td>40</td>\n",
       "      <td>Mil Reais</td>\n",
       "      <td>163281926</td>\n",
       "      <td>1</td>\n",
       "      <td>Brasil</td>\n",
       "      <td>824</td>\n",
       "      <td>Total da receita líquida de vendas</td>\n",
       "      <td>2023</td>\n",
       "      <td>2023</td>\n",
       "      <td>116884</td>\n",
       "      <td>06 Extração de petróleo e gás natural</td>\n",
       "      <td>06</td>\n",
       "      <td>Extração de petróleo e gás natural</td>\n",
       "    </tr>\n",
       "  </tbody>\n",
       "</table>\n",
       "</div>"
      ],
      "text/plain": [
       "0 Nível Territorial (Código) Nível Territorial Unidade de Medida (Código)  \\\n",
       "3                          1            Brasil                         40   \n",
       "5                          1            Brasil                         40   \n",
       "\n",
       "0 Unidade de Medida      Valor Brasil (Código)  Brasil Variável (Código)  \\\n",
       "3         Mil Reais    1941673               1  Brasil               824   \n",
       "5         Mil Reais  163281926               1  Brasil               824   \n",
       "\n",
       "0                            Variável Ano (Código)   Ano  \\\n",
       "3  Total da receita líquida de vendas         2023  2023   \n",
       "5  Total da receita líquida de vendas         2023  2023   \n",
       "\n",
       "0 Classificação Nacional de Atividades Econômicas (CNAE 2.0) (Código)  \\\n",
       "3                                             116881                    \n",
       "5                                             116884                    \n",
       "\n",
       "0 Classificação Nacional de Atividades Econômicas (CNAE 2.0) cnae  \\\n",
       "3                      05 Extração de carvão mineral           05   \n",
       "5              06 Extração de petróleo e gás natural           06   \n",
       "\n",
       "0                      cnae_descricao  \n",
       "3          Extração de carvão mineral  \n",
       "5  Extração de petróleo e gás natural  "
      ]
     },
     "execution_count": 202,
     "metadata": {},
     "output_type": "execute_result"
    }
   ],
   "source": [
    "pia_empresa_rlv_2d['cnae'] = pia_empresa_rlv['Classificação Nacional de Atividades Econômicas (CNAE 2.0)'].str[0:2].str.replace('.','', regex=False)\n",
    "pia_empresa_rlv_2d['cnae_descricao'] = pia_empresa_rlv['Classificação Nacional de Atividades Econômicas (CNAE 2.0)'].str[3:]\n",
    "\n",
    "pia_empresa_rlv_2d.head(2)\n",
    "\n"
   ]
  },
  {
   "cell_type": "code",
   "execution_count": 203,
   "id": "ce6e1d30",
   "metadata": {},
   "outputs": [
    {
     "name": "stderr",
     "output_type": "stream",
     "text": [
      "/tmp/ipykernel_1101985/1737546974.py:1: SettingWithCopyWarning: \n",
      "A value is trying to be set on a copy of a slice from a DataFrame.\n",
      "Try using .loc[row_indexer,col_indexer] = value instead\n",
      "\n",
      "See the caveats in the documentation: https://pandas.pydata.org/pandas-docs/stable/user_guide/indexing.html#returning-a-view-versus-a-copy\n",
      "  pia_empresa_rlv_3d['cnae'] = pia_empresa_rlv_3d['Classificação Nacional de Atividades Econômicas (CNAE 2.0)'].str[0:4].str.replace('.','', regex=False)\n",
      "/tmp/ipykernel_1101985/1737546974.py:2: SettingWithCopyWarning: \n",
      "A value is trying to be set on a copy of a slice from a DataFrame.\n",
      "Try using .loc[row_indexer,col_indexer] = value instead\n",
      "\n",
      "See the caveats in the documentation: https://pandas.pydata.org/pandas-docs/stable/user_guide/indexing.html#returning-a-view-versus-a-copy\n",
      "  pia_empresa_rlv_3d['cnae_descricao'] = pia_empresa_rlv_3d['Classificação Nacional de Atividades Econômicas (CNAE 2.0)'].str[5:]\n"
     ]
    }
   ],
   "source": [
    "pia_empresa_rlv_3d['cnae'] = pia_empresa_rlv_3d['Classificação Nacional de Atividades Econômicas (CNAE 2.0)'].str[0:4].str.replace('.','', regex=False)\n",
    "pia_empresa_rlv_3d['cnae_descricao'] = pia_empresa_rlv_3d['Classificação Nacional de Atividades Econômicas (CNAE 2.0)'].str[5:]"
   ]
  },
  {
   "cell_type": "code",
   "execution_count": 233,
   "id": "4e666f15",
   "metadata": {},
   "outputs": [],
   "source": [
    "pia_empresa_rlv = pd.concat([pia_empresa_rlv_2d[['Variável','cnae','cnae_descricao','Valor']], pia_empresa_rlv_3d[['Variável','cnae','cnae_descricao','Valor']]], ignore_index=True)"
   ]
  },
  {
   "cell_type": "code",
   "execution_count": 235,
   "id": "915db929",
   "metadata": {},
   "outputs": [
    {
     "data": {
      "application/vnd.microsoft.datawrangler.viewer.v0+json": {
       "columns": [
        {
         "name": "index",
         "rawType": "int64",
         "type": "integer"
        },
        {
         "name": "Variável",
         "rawType": "object",
         "type": "string"
        },
        {
         "name": "cnae",
         "rawType": "object",
         "type": "string"
        },
        {
         "name": "cnae_descricao",
         "rawType": "object",
         "type": "string"
        },
        {
         "name": "Valor",
         "rawType": "object",
         "type": "string"
        }
       ],
       "ref": "40cc36c5-fa0f-4927-a027-e22e514a4ad7",
       "rows": [
        [
         "275",
         "Receita líquida de vendas de produtos e serviços industriais",
         "324",
         "Fabricação de brinquedos e jogos recreativos",
         "3297487"
        ],
        [
         "276",
         "Receita líquida de vendas de produtos e serviços industriais",
         "325",
         "Fabricação de instrumentos e materiais para uso médico e odontológico e de artigos ópticos",
         "20777571"
        ],
        [
         "277",
         "Receita líquida de vendas de produtos e serviços industriais",
         "329",
         "Fabricação de produtos diversos",
         "15396002"
        ],
        [
         "278",
         "Receita líquida de vendas de produtos e serviços industriais",
         "331",
         "Manutenção e reparação de máquinas e equipamentos",
         "50921841"
        ],
        [
         "279",
         "Receita líquida de vendas de produtos e serviços industriais",
         "332",
         "Instalação de máquinas e equipamentos",
         "6735735"
        ]
       ],
       "shape": {
        "columns": 4,
        "rows": 5
       }
      },
      "text/html": [
       "<div>\n",
       "<style scoped>\n",
       "    .dataframe tbody tr th:only-of-type {\n",
       "        vertical-align: middle;\n",
       "    }\n",
       "\n",
       "    .dataframe tbody tr th {\n",
       "        vertical-align: top;\n",
       "    }\n",
       "\n",
       "    .dataframe thead th {\n",
       "        text-align: right;\n",
       "    }\n",
       "</style>\n",
       "<table border=\"1\" class=\"dataframe\">\n",
       "  <thead>\n",
       "    <tr style=\"text-align: right;\">\n",
       "      <th></th>\n",
       "      <th>Variável</th>\n",
       "      <th>cnae</th>\n",
       "      <th>cnae_descricao</th>\n",
       "      <th>Valor</th>\n",
       "    </tr>\n",
       "  </thead>\n",
       "  <tbody>\n",
       "    <tr>\n",
       "      <th>275</th>\n",
       "      <td>Receita líquida de vendas de produtos e serviç...</td>\n",
       "      <td>324</td>\n",
       "      <td>Fabricação de brinquedos e jogos recreativos</td>\n",
       "      <td>3297487</td>\n",
       "    </tr>\n",
       "    <tr>\n",
       "      <th>276</th>\n",
       "      <td>Receita líquida de vendas de produtos e serviç...</td>\n",
       "      <td>325</td>\n",
       "      <td>Fabricação de instrumentos e materiais para us...</td>\n",
       "      <td>20777571</td>\n",
       "    </tr>\n",
       "    <tr>\n",
       "      <th>277</th>\n",
       "      <td>Receita líquida de vendas de produtos e serviç...</td>\n",
       "      <td>329</td>\n",
       "      <td>Fabricação de produtos diversos</td>\n",
       "      <td>15396002</td>\n",
       "    </tr>\n",
       "    <tr>\n",
       "      <th>278</th>\n",
       "      <td>Receita líquida de vendas de produtos e serviç...</td>\n",
       "      <td>331</td>\n",
       "      <td>Manutenção e reparação de máquinas e equipamentos</td>\n",
       "      <td>50921841</td>\n",
       "    </tr>\n",
       "    <tr>\n",
       "      <th>279</th>\n",
       "      <td>Receita líquida de vendas de produtos e serviç...</td>\n",
       "      <td>332</td>\n",
       "      <td>Instalação de máquinas e equipamentos</td>\n",
       "      <td>6735735</td>\n",
       "    </tr>\n",
       "  </tbody>\n",
       "</table>\n",
       "</div>"
      ],
      "text/plain": [
       "0                                             Variável cnae  \\\n",
       "275  Receita líquida de vendas de produtos e serviç...  324   \n",
       "276  Receita líquida de vendas de produtos e serviç...  325   \n",
       "277  Receita líquida de vendas de produtos e serviç...  329   \n",
       "278  Receita líquida de vendas de produtos e serviç...  331   \n",
       "279  Receita líquida de vendas de produtos e serviç...  332   \n",
       "\n",
       "0                                       cnae_descricao     Valor  \n",
       "275       Fabricação de brinquedos e jogos recreativos   3297487  \n",
       "276  Fabricação de instrumentos e materiais para us...  20777571  \n",
       "277                    Fabricação de produtos diversos  15396002  \n",
       "278  Manutenção e reparação de máquinas e equipamentos  50921841  \n",
       "279              Instalação de máquinas e equipamentos   6735735  "
      ]
     },
     "execution_count": 235,
     "metadata": {},
     "output_type": "execute_result"
    }
   ],
   "source": [
    "pia_empresa_rlv.tail()"
   ]
  },
  {
   "cell_type": "code",
   "execution_count": 237,
   "id": "d8ea1813",
   "metadata": {},
   "outputs": [],
   "source": [
    "#Linhas em que o valor da coluna 'Valor' não pode ser convertido para float, trocar por -1\n",
    "pia_empresa_rlv['Valor'] = pd.to_numeric(pia_empresa_rlv['Valor'], errors='coerce').fillna(-1)\n",
    "pia_empresa_rlv['Valor'] = pia_empresa_rlv['Valor']*1000\n",
    "#Fazer o pivot transformando a coluna 'Variável' em colunas e preenchendo com os valores da coluna 'Valor'\n",
    "pia_empresa_rlv = pia_empresa_rlv.pivot_table(index=['cnae','cnae_descricao'], columns='Variável', values='Valor')\n",
    "pia_empresa_rlv.reset_index(inplace=True)"
   ]
  },
  {
   "cell_type": "code",
   "execution_count": 216,
   "id": "722b7886",
   "metadata": {},
   "outputs": [],
   "source": [
    "mapeamento_isic['cnae'] = mapeamento_isic['código CNAE'].str.replace('.','', regex=False)"
   ]
  },
  {
   "cell_type": "code",
   "execution_count": 221,
   "id": "c9306e21",
   "metadata": {},
   "outputs": [],
   "source": [
    "exportacoes_pia = exportacoes.copy()"
   ]
  },
  {
   "cell_type": "code",
   "execution_count": 223,
   "id": "725f3660",
   "metadata": {},
   "outputs": [],
   "source": [
    "lista_codigos_isic_mapeados_multiplas_cnae_3d = pia_empresa_rlv_3d[['cnae']].drop_duplicates().merge(mapeamento_isic, on='cnae', how='left').groupby('código ISIC')[['código CNAE']].nunique().reset_index().query(\"`código CNAE` > 1\")['código ISIC'].unique().tolist()"
   ]
  },
  {
   "cell_type": "code",
   "execution_count": null,
   "id": "bb2e9ff2",
   "metadata": {},
   "outputs": [],
   "source": [
    "#criar uma coluna 'cnae' em exportacoes_pia e fazer com que seu valor  seja igual aos 2 dígitos da coluna CO_ISIC_CLASSE, caso os 3 primeiros dígitos do código isic classe fizerem parte de lista_codigos_isic_mapeados_multiplas_cnae_3d\n",
    "# caso contrário, usar None\n",
    "exportacoes_pia['cnae'] = exportacoes_pia['CO_ISIC_CLASSE'].str[0:2].where(\n",
    "    exportacoes_pia['CO_ISIC_CLASSE'].str[0:3].isin(lista_codigos_isic_mapeados_multiplas_cnae_3d),\n",
    "    None\n",
    ")"
   ]
  },
  {
   "cell_type": "code",
   "execution_count": 229,
   "id": "72977ba2",
   "metadata": {},
   "outputs": [
    {
     "data": {
      "application/vnd.microsoft.datawrangler.viewer.v0+json": {
       "columns": [
        {
         "name": "index",
         "rawType": "int64",
         "type": "integer"
        },
        {
         "name": "código ISIC",
         "rawType": "object",
         "type": "string"
        },
        {
         "name": "denominação ISIC",
         "rawType": "object",
         "type": "string"
        },
        {
         "name": "código CNAE",
         "rawType": "object",
         "type": "string"
        },
        {
         "name": "denominação CNAE",
         "rawType": "object",
         "type": "string"
        },
        {
         "name": "cnae",
         "rawType": "object",
         "type": "string"
        }
       ],
       "ref": "1b875c43-6d45-45a5-a6a1-9284ec4fdc8c",
       "rows": [
        [
         "2",
         "011",
         "Cultivo de plantas no perenes",
         "01.1",
         "Produção de lavouras temporárias",
         "011"
        ],
        [
         "3",
         "011",
         "Cultivo de plantas no perenes",
         "01.2",
         "Horticultura e floricultura",
         "012"
        ],
        [
         "4",
         "011",
         "Cultivo de plantas no perenes",
         "01.3",
         "Produção de lavouras permanentes",
         "013"
        ],
        [
         "5",
         "011",
         "Cultivo de plantas no perenes",
         "01.4",
         "Produção de sementes e mudas certificadas",
         "014"
        ],
        [
         "25",
         "012",
         "Cultivo de plantas perennes",
         "01.1",
         "Produção de lavouras temporárias",
         "011"
        ]
       ],
       "shape": {
        "columns": 5,
        "rows": 5
       }
      },
      "text/html": [
       "<div>\n",
       "<style scoped>\n",
       "    .dataframe tbody tr th:only-of-type {\n",
       "        vertical-align: middle;\n",
       "    }\n",
       "\n",
       "    .dataframe tbody tr th {\n",
       "        vertical-align: top;\n",
       "    }\n",
       "\n",
       "    .dataframe thead th {\n",
       "        text-align: right;\n",
       "    }\n",
       "</style>\n",
       "<table border=\"1\" class=\"dataframe\">\n",
       "  <thead>\n",
       "    <tr style=\"text-align: right;\">\n",
       "      <th></th>\n",
       "      <th>código ISIC</th>\n",
       "      <th>denominação ISIC</th>\n",
       "      <th>código CNAE</th>\n",
       "      <th>denominação CNAE</th>\n",
       "      <th>cnae</th>\n",
       "    </tr>\n",
       "  </thead>\n",
       "  <tbody>\n",
       "    <tr>\n",
       "      <th>2</th>\n",
       "      <td>011</td>\n",
       "      <td>Cultivo de plantas no perenes</td>\n",
       "      <td>01.1</td>\n",
       "      <td>Produção de lavouras temporárias</td>\n",
       "      <td>011</td>\n",
       "    </tr>\n",
       "    <tr>\n",
       "      <th>3</th>\n",
       "      <td>011</td>\n",
       "      <td>Cultivo de plantas no perenes</td>\n",
       "      <td>01.2</td>\n",
       "      <td>Horticultura e floricultura</td>\n",
       "      <td>012</td>\n",
       "    </tr>\n",
       "    <tr>\n",
       "      <th>4</th>\n",
       "      <td>011</td>\n",
       "      <td>Cultivo de plantas no perenes</td>\n",
       "      <td>01.3</td>\n",
       "      <td>Produção de lavouras permanentes</td>\n",
       "      <td>013</td>\n",
       "    </tr>\n",
       "    <tr>\n",
       "      <th>5</th>\n",
       "      <td>011</td>\n",
       "      <td>Cultivo de plantas no perenes</td>\n",
       "      <td>01.4</td>\n",
       "      <td>Produção de sementes e mudas certificadas</td>\n",
       "      <td>014</td>\n",
       "    </tr>\n",
       "    <tr>\n",
       "      <th>25</th>\n",
       "      <td>012</td>\n",
       "      <td>Cultivo de plantas perennes</td>\n",
       "      <td>01.1</td>\n",
       "      <td>Produção de lavouras temporárias</td>\n",
       "      <td>011</td>\n",
       "    </tr>\n",
       "  </tbody>\n",
       "</table>\n",
       "</div>"
      ],
      "text/plain": [
       "   código ISIC               denominação ISIC código CNAE  \\\n",
       "2          011  Cultivo de plantas no perenes        01.1   \n",
       "3          011  Cultivo de plantas no perenes        01.2   \n",
       "4          011  Cultivo de plantas no perenes        01.3   \n",
       "5          011  Cultivo de plantas no perenes        01.4   \n",
       "25         012    Cultivo de plantas perennes        01.1   \n",
       "\n",
       "                             denominação CNAE cnae  \n",
       "2            Produção de lavouras temporárias  011  \n",
       "3                 Horticultura e floricultura  012  \n",
       "4            Produção de lavouras permanentes  013  \n",
       "5   Produção de sementes e mudas certificadas  014  \n",
       "25           Produção de lavouras temporárias  011  "
      ]
     },
     "execution_count": 229,
     "metadata": {},
     "output_type": "execute_result"
    }
   ],
   "source": [
    "mapeamento_isic.head()"
   ]
  },
  {
   "cell_type": "code",
   "execution_count": null,
   "id": "d543f2ba",
   "metadata": {},
   "outputs": [],
   "source": [
    "mapeamento_isic"
   ]
  },
  {
   "cell_type": "code",
   "execution_count": 231,
   "id": "7e93ba52",
   "metadata": {},
   "outputs": [],
   "source": [
    "#Nos campos None em cnae, usar o valor da coluna CO_ISIC_CLASSE e mapear os 3 primeiros dígitos para o código CNAE usando como mapeamento o mapeamento_isic\n",
    "mapeamento_isic_unico = mapeamento_isic.drop_duplicates(subset='código ISIC')\n",
    "\n",
    "exportacoes_pia['cnae'] = exportacoes_pia['cnae'].fillna(\n",
    "    exportacoes_pia['CO_ISIC_CLASSE'].str[0:3].map(\n",
    "        mapeamento_isic_unico.set_index('código ISIC')['cnae']\n",
    "    )\n",
    ")"
   ]
  },
  {
   "cell_type": "code",
   "execution_count": 232,
   "id": "66083a7e",
   "metadata": {},
   "outputs": [
    {
     "data": {
      "application/vnd.microsoft.datawrangler.viewer.v0+json": {
       "columns": [
        {
         "name": "index",
         "rawType": "int64",
         "type": "integer"
        },
        {
         "name": "CO_SH6",
         "rawType": "object",
         "type": "string"
        },
        {
         "name": "CO_ISIC_CLASSE",
         "rawType": "object",
         "type": "string"
        },
        {
         "name": "R$ FOB Mundo",
         "rawType": "float64",
         "type": "float"
        },
        {
         "name": "R$ FOB USA",
         "rawType": "float64",
         "type": "float"
        },
        {
         "name": "participacao_usa",
         "rawType": "float64",
         "type": "float"
        },
        {
         "name": "CNAE2s",
         "rawType": "object",
         "type": "string"
        },
        {
         "name": "cnae",
         "rawType": "object",
         "type": "string"
        }
       ],
       "ref": "7df10346-ae1d-4119-97c9-62cb0a3d7dd8",
       "rows": [
        [
         "0",
         "490110",
         "5811",
         "6996257.7299999995",
         "701988.21",
         "0.10033767152257268",
         "58",
         "581"
        ],
        [
         "1",
         "490191",
         "5811",
         "2892376.4099999997",
         "73713.64",
         "0.02548549343202533",
         "58",
         "581"
        ],
        [
         "2",
         "490199",
         "5811",
         "181982952.69",
         "19922588.07",
         "0.10947502376190839",
         "58",
         "581"
        ],
        [
         "3",
         "521029",
         "1312",
         "421859.13",
         "9055.199999999999",
         "0.021464985242822643",
         "13",
         "13"
        ],
        [
         "4",
         "521032",
         "1312",
         "724739.3999999999",
         "7702.3099999999995",
         "0.010627695969061431",
         "13",
         "13"
        ]
       ],
       "shape": {
        "columns": 7,
        "rows": 5
       }
      },
      "text/html": [
       "<div>\n",
       "<style scoped>\n",
       "    .dataframe tbody tr th:only-of-type {\n",
       "        vertical-align: middle;\n",
       "    }\n",
       "\n",
       "    .dataframe tbody tr th {\n",
       "        vertical-align: top;\n",
       "    }\n",
       "\n",
       "    .dataframe thead th {\n",
       "        text-align: right;\n",
       "    }\n",
       "</style>\n",
       "<table border=\"1\" class=\"dataframe\">\n",
       "  <thead>\n",
       "    <tr style=\"text-align: right;\">\n",
       "      <th></th>\n",
       "      <th>CO_SH6</th>\n",
       "      <th>CO_ISIC_CLASSE</th>\n",
       "      <th>R$ FOB Mundo</th>\n",
       "      <th>R$ FOB USA</th>\n",
       "      <th>participacao_usa</th>\n",
       "      <th>CNAE2s</th>\n",
       "      <th>cnae</th>\n",
       "    </tr>\n",
       "  </thead>\n",
       "  <tbody>\n",
       "    <tr>\n",
       "      <th>0</th>\n",
       "      <td>490110</td>\n",
       "      <td>5811</td>\n",
       "      <td>6.996258e+06</td>\n",
       "      <td>701988.21</td>\n",
       "      <td>0.100338</td>\n",
       "      <td>58</td>\n",
       "      <td>581</td>\n",
       "    </tr>\n",
       "    <tr>\n",
       "      <th>1</th>\n",
       "      <td>490191</td>\n",
       "      <td>5811</td>\n",
       "      <td>2.892376e+06</td>\n",
       "      <td>73713.64</td>\n",
       "      <td>0.025485</td>\n",
       "      <td>58</td>\n",
       "      <td>581</td>\n",
       "    </tr>\n",
       "    <tr>\n",
       "      <th>2</th>\n",
       "      <td>490199</td>\n",
       "      <td>5811</td>\n",
       "      <td>1.819830e+08</td>\n",
       "      <td>19922588.07</td>\n",
       "      <td>0.109475</td>\n",
       "      <td>58</td>\n",
       "      <td>581</td>\n",
       "    </tr>\n",
       "    <tr>\n",
       "      <th>3</th>\n",
       "      <td>521029</td>\n",
       "      <td>1312</td>\n",
       "      <td>4.218591e+05</td>\n",
       "      <td>9055.20</td>\n",
       "      <td>0.021465</td>\n",
       "      <td>13</td>\n",
       "      <td>13</td>\n",
       "    </tr>\n",
       "    <tr>\n",
       "      <th>4</th>\n",
       "      <td>521032</td>\n",
       "      <td>1312</td>\n",
       "      <td>7.247394e+05</td>\n",
       "      <td>7702.31</td>\n",
       "      <td>0.010628</td>\n",
       "      <td>13</td>\n",
       "      <td>13</td>\n",
       "    </tr>\n",
       "  </tbody>\n",
       "</table>\n",
       "</div>"
      ],
      "text/plain": [
       "   CO_SH6 CO_ISIC_CLASSE  R$ FOB Mundo   R$ FOB USA  participacao_usa CNAE2s  \\\n",
       "0  490110           5811  6.996258e+06    701988.21          0.100338     58   \n",
       "1  490191           5811  2.892376e+06     73713.64          0.025485     58   \n",
       "2  490199           5811  1.819830e+08  19922588.07          0.109475     58   \n",
       "3  521029           1312  4.218591e+05      9055.20          0.021465     13   \n",
       "4  521032           1312  7.247394e+05      7702.31          0.010628     13   \n",
       "\n",
       "  cnae  \n",
       "0  581  \n",
       "1  581  \n",
       "2  581  \n",
       "3   13  \n",
       "4   13  "
      ]
     },
     "execution_count": 232,
     "metadata": {},
     "output_type": "execute_result"
    }
   ],
   "source": [
    "exportacoes_pia.head()"
   ]
  },
  {
   "cell_type": "code",
   "execution_count": 244,
   "id": "11be0a28",
   "metadata": {},
   "outputs": [
    {
     "data": {
      "application/vnd.microsoft.datawrangler.viewer.v0+json": {
       "columns": [
        {
         "name": "index",
         "rawType": "int64",
         "type": "integer"
        },
        {
         "name": "CO_SH6",
         "rawType": "object",
         "type": "string"
        },
        {
         "name": "CO_ISIC_CLASSE",
         "rawType": "object",
         "type": "string"
        },
        {
         "name": "R$ FOB Mundo",
         "rawType": "float64",
         "type": "float"
        },
        {
         "name": "R$ FOB USA",
         "rawType": "float64",
         "type": "float"
        },
        {
         "name": "participacao_usa",
         "rawType": "float64",
         "type": "float"
        },
        {
         "name": "CNAE2s",
         "rawType": "object",
         "type": "string"
        },
        {
         "name": "cnae",
         "rawType": "object",
         "type": "string"
        }
       ],
       "ref": "b32ce102-0b13-48f3-8151-7d4bd8ebe043",
       "rows": [
        [
         "0",
         "490110",
         "5811",
         "6996257.7299999995",
         "701988.21",
         "0.10033767152257268",
         "58",
         "581"
        ],
        [
         "1",
         "490191",
         "5811",
         "2892376.4099999997",
         "73713.64",
         "0.02548549343202533",
         "58",
         "581"
        ],
        [
         "2",
         "490199",
         "5811",
         "181982952.69",
         "19922588.07",
         "0.10947502376190839",
         "58",
         "581"
        ],
        [
         "3",
         "521029",
         "1312",
         "421859.13",
         "9055.199999999999",
         "0.021464985242822643",
         "13",
         "13"
        ],
        [
         "4",
         "521032",
         "1312",
         "724739.3999999999",
         "7702.3099999999995",
         "0.010627695969061431",
         "13",
         "13"
        ]
       ],
       "shape": {
        "columns": 7,
        "rows": 5
       }
      },
      "text/html": [
       "<div>\n",
       "<style scoped>\n",
       "    .dataframe tbody tr th:only-of-type {\n",
       "        vertical-align: middle;\n",
       "    }\n",
       "\n",
       "    .dataframe tbody tr th {\n",
       "        vertical-align: top;\n",
       "    }\n",
       "\n",
       "    .dataframe thead th {\n",
       "        text-align: right;\n",
       "    }\n",
       "</style>\n",
       "<table border=\"1\" class=\"dataframe\">\n",
       "  <thead>\n",
       "    <tr style=\"text-align: right;\">\n",
       "      <th></th>\n",
       "      <th>CO_SH6</th>\n",
       "      <th>CO_ISIC_CLASSE</th>\n",
       "      <th>R$ FOB Mundo</th>\n",
       "      <th>R$ FOB USA</th>\n",
       "      <th>participacao_usa</th>\n",
       "      <th>CNAE2s</th>\n",
       "      <th>cnae</th>\n",
       "    </tr>\n",
       "  </thead>\n",
       "  <tbody>\n",
       "    <tr>\n",
       "      <th>0</th>\n",
       "      <td>490110</td>\n",
       "      <td>5811</td>\n",
       "      <td>6.996258e+06</td>\n",
       "      <td>701988.21</td>\n",
       "      <td>0.100338</td>\n",
       "      <td>58</td>\n",
       "      <td>581</td>\n",
       "    </tr>\n",
       "    <tr>\n",
       "      <th>1</th>\n",
       "      <td>490191</td>\n",
       "      <td>5811</td>\n",
       "      <td>2.892376e+06</td>\n",
       "      <td>73713.64</td>\n",
       "      <td>0.025485</td>\n",
       "      <td>58</td>\n",
       "      <td>581</td>\n",
       "    </tr>\n",
       "    <tr>\n",
       "      <th>2</th>\n",
       "      <td>490199</td>\n",
       "      <td>5811</td>\n",
       "      <td>1.819830e+08</td>\n",
       "      <td>19922588.07</td>\n",
       "      <td>0.109475</td>\n",
       "      <td>58</td>\n",
       "      <td>581</td>\n",
       "    </tr>\n",
       "    <tr>\n",
       "      <th>3</th>\n",
       "      <td>521029</td>\n",
       "      <td>1312</td>\n",
       "      <td>4.218591e+05</td>\n",
       "      <td>9055.20</td>\n",
       "      <td>0.021465</td>\n",
       "      <td>13</td>\n",
       "      <td>13</td>\n",
       "    </tr>\n",
       "    <tr>\n",
       "      <th>4</th>\n",
       "      <td>521032</td>\n",
       "      <td>1312</td>\n",
       "      <td>7.247394e+05</td>\n",
       "      <td>7702.31</td>\n",
       "      <td>0.010628</td>\n",
       "      <td>13</td>\n",
       "      <td>13</td>\n",
       "    </tr>\n",
       "  </tbody>\n",
       "</table>\n",
       "</div>"
      ],
      "text/plain": [
       "   CO_SH6 CO_ISIC_CLASSE  R$ FOB Mundo   R$ FOB USA  participacao_usa CNAE2s  \\\n",
       "0  490110           5811  6.996258e+06    701988.21          0.100338     58   \n",
       "1  490191           5811  2.892376e+06     73713.64          0.025485     58   \n",
       "2  490199           5811  1.819830e+08  19922588.07          0.109475     58   \n",
       "3  521029           1312  4.218591e+05      9055.20          0.021465     13   \n",
       "4  521032           1312  7.247394e+05      7702.31          0.010628     13   \n",
       "\n",
       "  cnae  \n",
       "0  581  \n",
       "1  581  \n",
       "2  581  \n",
       "3   13  \n",
       "4   13  "
      ]
     },
     "execution_count": 244,
     "metadata": {},
     "output_type": "execute_result"
    }
   ],
   "source": [
    "exportacoes_pia.head()"
   ]
  },
  {
   "cell_type": "code",
   "execution_count": 273,
   "id": "24a0d96f",
   "metadata": {},
   "outputs": [],
   "source": [
    "exportacoes_pia = exportacoes_pia.groupby('cnae')[['R$ FOB Mundo','R$ FOB USA']].sum().reset_index().merge(pia_empresa_rlv, on='cnae', how='inner')"
   ]
  },
  {
   "cell_type": "code",
   "execution_count": null,
   "id": "10576a12",
   "metadata": {},
   "outputs": [
    {
     "data": {
      "application/vnd.microsoft.datawrangler.viewer.v0+json": {
       "columns": [
        {
         "name": "index",
         "rawType": "int64",
         "type": "integer"
        },
        {
         "name": "cnae",
         "rawType": "object",
         "type": "string"
        },
        {
         "name": "R$ FOB Mundo",
         "rawType": "float64",
         "type": "float"
        },
        {
         "name": "R$ FOB USA",
         "rawType": "float64",
         "type": "float"
        },
        {
         "name": "cnae_descricao",
         "rawType": "object",
         "type": "string"
        },
        {
         "name": "Receita líquida de vendas de produtos e serviços industriais",
         "rawType": "float64",
         "type": "float"
        },
        {
         "name": "Total da receita líquida de vendas",
         "rawType": "float64",
         "type": "float"
        }
       ],
       "ref": "3631c31d-db60-4b0c-8879-fc7821f8e847",
       "rows": [
        [
         "0",
         "060",
         "229920398959.02",
         "25251450022.260002",
         "Extração de petróleo e gás natural",
         "162636312000000.0",
         "163281926000000.0"
        ],
        [
         "1",
         "071",
         "164898635013.41998",
         "2071770205.89",
         "Extração de minério de ferro",
         "192830587000000.0",
         "196958255000000.0"
        ]
       ],
       "shape": {
        "columns": 6,
        "rows": 2
       }
      },
      "text/html": [
       "<div>\n",
       "<style scoped>\n",
       "    .dataframe tbody tr th:only-of-type {\n",
       "        vertical-align: middle;\n",
       "    }\n",
       "\n",
       "    .dataframe tbody tr th {\n",
       "        vertical-align: top;\n",
       "    }\n",
       "\n",
       "    .dataframe thead th {\n",
       "        text-align: right;\n",
       "    }\n",
       "</style>\n",
       "<table border=\"1\" class=\"dataframe\">\n",
       "  <thead>\n",
       "    <tr style=\"text-align: right;\">\n",
       "      <th></th>\n",
       "      <th>cnae</th>\n",
       "      <th>R$ FOB Mundo</th>\n",
       "      <th>R$ FOB USA</th>\n",
       "      <th>cnae_descricao</th>\n",
       "      <th>Receita líquida de vendas de produtos e serviços industriais</th>\n",
       "      <th>Total da receita líquida de vendas</th>\n",
       "    </tr>\n",
       "  </thead>\n",
       "  <tbody>\n",
       "    <tr>\n",
       "      <th>0</th>\n",
       "      <td>060</td>\n",
       "      <td>2.299204e+11</td>\n",
       "      <td>2.525145e+10</td>\n",
       "      <td>Extração de petróleo e gás natural</td>\n",
       "      <td>1.626363e+14</td>\n",
       "      <td>1.632819e+14</td>\n",
       "    </tr>\n",
       "    <tr>\n",
       "      <th>1</th>\n",
       "      <td>071</td>\n",
       "      <td>1.648986e+11</td>\n",
       "      <td>2.071770e+09</td>\n",
       "      <td>Extração de minério de ferro</td>\n",
       "      <td>1.928306e+14</td>\n",
       "      <td>1.969583e+14</td>\n",
       "    </tr>\n",
       "  </tbody>\n",
       "</table>\n",
       "</div>"
      ],
      "text/plain": [
       "  cnae  R$ FOB Mundo    R$ FOB USA                      cnae_descricao  \\\n",
       "0  060  2.299204e+11  2.525145e+10  Extração de petróleo e gás natural   \n",
       "1  071  1.648986e+11  2.071770e+09        Extração de minério de ferro   \n",
       "\n",
       "   Receita líquida de vendas de produtos e serviços industriais  \\\n",
       "0                                       1.626363e+14              \n",
       "1                                       1.928306e+14              \n",
       "\n",
       "   Total da receita líquida de vendas  \n",
       "0                        1.632819e+14  \n",
       "1                        1.969583e+14  "
      ]
     },
     "execution_count": 274,
     "metadata": {},
     "output_type": "execute_result"
    }
   ],
   "source": [
    "exportacoes_pia['Participação USA'] = exportacoes_pia['R$ FOB USA'] / (exportacoes_pia['R$ FOB Mundo'] + exportacoes_pia['R$ FOB USA'])"
   ]
  },
  {
   "cell_type": "code",
   "execution_count": 268,
   "id": "a0e37095",
   "metadata": {},
   "outputs": [
    {
     "data": {
      "application/vnd.microsoft.datawrangler.viewer.v0+json": {
       "columns": [
        {
         "name": "index",
         "rawType": "int64",
         "type": "integer"
        },
        {
         "name": "CO_SH6",
         "rawType": "object",
         "type": "string"
        },
        {
         "name": "CO_ISIC_CLASSE",
         "rawType": "object",
         "type": "string"
        },
        {
         "name": "R$ FOB Mundo",
         "rawType": "float64",
         "type": "float"
        },
        {
         "name": "R$ FOB USA",
         "rawType": "float64",
         "type": "float"
        },
        {
         "name": "participacao_usa",
         "rawType": "float64",
         "type": "float"
        },
        {
         "name": "CNAE2s",
         "rawType": "object",
         "type": "string"
        },
        {
         "name": "cnae",
         "rawType": "object",
         "type": "string"
        }
       ],
       "ref": "f2b2131d-ace6-4d28-b06b-fa7c9cbb5b29",
       "rows": [
        [
         "147",
         "020714",
         "1010",
         "36775164680.1",
         "2205038.2199999997",
         "5.9959982210309545e-05",
         "10",
         "101"
        ],
        [
         "182",
         "030520",
         "1020",
         "47448.17",
         "38419.92",
         "0.8097239577416789",
         "10",
         "102"
        ],
        [
         "183",
         "190120",
         "1061",
         "273549722.59999996",
         "39761097.53",
         "0.14535235916923575",
         "10",
         "106"
        ],
        [
         "184",
         "071290",
         "1030",
         "2464647.57",
         "63192.35999999999",
         "0.02563951161585346",
         "10",
         "103"
        ],
        [
         "205",
         "350510",
         "1062",
         "303736670.93",
         "21755894.16",
         "0.07162748605028967",
         "10",
         "106"
        ],
        [
         "948",
         "200290",
         "1030",
         "15944191.34",
         "602176.19",
         "0.03776774733562624",
         "10",
         "103"
        ],
        [
         "971",
         "020712",
         "1010",
         "10603955722.359999",
         "836086.02",
         "7.8846615535841e-05",
         "10",
         "101"
        ],
        [
         "1003",
         "030391",
         "1020",
         "21253422.189999998",
         "43599.71",
         "0.002051420689347347",
         "10",
         "102"
        ],
        [
         "1007",
         "041090",
         "1079",
         "35426712.86",
         "5217999.71",
         "0.14728997665181628",
         "10",
         "10"
        ],
        [
         "1028",
         "151329",
         "1040",
         "7667954.14",
         "3198323.59",
         "0.41710259759065277",
         "10",
         "104"
        ],
        [
         "1074",
         "151321",
         "1040",
         "5175062.97",
         "1651199.5499999998",
         "0.3190684943491615",
         "10",
         "104"
        ],
        [
         "1136",
         "041010",
         "1079",
         "51512.229999999996",
         "15102.779999999999",
         "0.29318823898712987",
         "10",
         "10"
        ],
        [
         "1167",
         "040320",
         "1050",
         "5259782.989999999",
         "636402.69",
         "0.12099409637430689",
         "10",
         "105"
        ],
        [
         "1169",
         "150920",
         "1040",
         "3199962.15",
         "12019.699999999999",
         "0.003756200678811154",
         "10",
         "104"
        ],
        [
         "1647",
         "030449",
         "1020",
         "2023664.72",
         "1987147.4699999997",
         "0.9819548912232852",
         "10",
         "102"
        ],
        [
         "1682",
         "030339",
         "1020",
         "12370729.139999999",
         "387357.74",
         "0.03131244210557503",
         "10",
         "102"
        ],
        [
         "1703",
         "020120",
         "1010",
         "1700318.6199999999",
         "1476.86",
         "0.0008685783844442049",
         "10",
         "101"
        ],
        [
         "1704",
         "020130",
         "1010",
         "5184894701.91",
         "38285304.75",
         "0.00738400815273964",
         "10",
         "101"
        ],
        [
         "1705",
         "020220",
         "1010",
         "197147927.89999998",
         "2005.08",
         "1.0170434056081196e-05",
         "10",
         "101"
        ],
        [
         "1735",
         "040610",
         "1050",
         "46334019.269999996",
         "23011009.56",
         "0.49663314175075235",
         "10",
         "105"
        ],
        [
         "1736",
         "040620",
         "1050",
         "1076970.51",
         "12499.41",
         "0.011606083810038586",
         "10",
         "105"
        ],
        [
         "1737",
         "040630",
         "1050",
         "26260689.07",
         "23748.34",
         "0.0009043304209077253",
         "10",
         "105"
        ],
        [
         "1738",
         "040640",
         "1050",
         "4284505.609999999",
         "4931.849999999999",
         "0.0011510896352869987",
         "10",
         "105"
        ],
        [
         "1739",
         "040690",
         "1050",
         "33007670.08",
         "5678844.71",
         "0.17204621520502061",
         "10",
         "105"
        ],
        [
         "1756",
         "030349",
         "1020",
         "416237.36",
         "46310.88",
         "0.11126074795400394",
         "10",
         "102"
        ],
        [
         "1757",
         "030353",
         "1020",
         "3271665.32",
         "1898923.95",
         "0.5804150988157921",
         "10",
         "102"
        ],
        [
         "1758",
         "030354",
         "1020",
         "20276953.619999997",
         "2962931.51",
         "0.1461231092957444",
         "10",
         "102"
        ],
        [
         "1771",
         "021012",
         "1010",
         "3440399.27",
         "5864.32",
         "0.0017045463447037644",
         "10",
         "101"
        ],
        [
         "1785",
         "030319",
         "1020",
         "1578159.66",
         "48.51",
         "3.073833480194266e-05",
         "10",
         "102"
        ],
        [
         "1786",
         "030323",
         "1020",
         "31886242.849999998",
         "30491984.599999998",
         "0.9562739876077937",
         "10",
         "102"
        ],
        [
         "1788",
         "030492",
         "1020",
         "15878.939999999999",
         "3487.33",
         "0.21961982348947728",
         "10",
         "102"
        ],
        [
         "1796",
         "020622",
         "1010",
         "50325961.07",
         "161.7",
         "3.2130533935573778e-06",
         "10",
         "101"
        ],
        [
         "1797",
         "020629",
         "1010",
         "1310353451.33",
         "831191.8999999999",
         "0.0006343264858472695",
         "10",
         "101"
        ],
        [
         "1798",
         "020649",
         "1010",
         "677710189.31",
         "40371.1",
         "5.956985838017753e-05",
         "10",
         "101"
        ],
        [
         "1799",
         "020711",
         "1010",
         "1612343.0399999998",
         "846.2299999999999",
         "0.0005248448866067608",
         "10",
         "101"
        ],
        [
         "1805",
         "021019",
         "1010",
         "5409797.47",
         "5023.48",
         "0.0009285892915322022",
         "10",
         "101"
        ],
        [
         "1806",
         "021020",
         "1010",
         "83586745.55",
         "52565500.68",
         "0.6288736370116996",
         "10",
         "101"
        ],
        [
         "1807",
         "021099",
         "1010",
         "2430599069.36",
         "58379.09",
         "2.4018395602929185e-05",
         "10",
         "101"
        ],
        [
         "1815",
         "030474",
         "1020",
         "1528463.8599999999",
         "819.28",
         "0.000536015290541446",
         "10",
         "102"
        ],
        [
         "1816",
         "030481",
         "1020",
         "3718922.13",
         "1794.87",
         "0.0004826317780415585",
         "10",
         "102"
        ],
        [
         "1817",
         "030482",
         "1020",
         "565.9499999999999",
         "565.9499999999999",
         "1.0",
         "10",
         "102"
        ],
        [
         "1818",
         "030486",
         "1020",
         "99865.92",
         "3961.6499999999996",
         "0.03966968911917098",
         "10",
         "102"
        ],
        [
         "1819",
         "030487",
         "1020",
         "2150157.2399999998",
         "1863371.5099999998",
         "0.866621043026602",
         "10",
         "102"
        ],
        [
         "1820",
         "030489",
         "1020",
         "27517750.259999998",
         "23921326.659999996",
         "0.869305318711763",
         "10",
         "102"
        ],
        [
         "1826",
         "030617",
         "1020",
         "12898307.729999999",
         "1568.49",
         "0.00012160432460080561",
         "10",
         "102"
        ],
        [
         "1827",
         "030459",
         "1020",
         "662554.97",
         "510362.93",
         "0.7702952254663489",
         "10",
         "102"
        ],
        [
         "1829",
         "030369",
         "1020",
         "404212.26999999996",
         "118429.07999999999",
         "0.29298734548557864",
         "10",
         "102"
        ],
        [
         "1837",
         "030389",
         "1020",
         "499354636.54999995",
         "320520435.62",
         "0.6418693492753953",
         "10",
         "102"
        ],
        [
         "1838",
         "030431",
         "1020",
         "76236278.58",
         "76126678.32",
         "0.9985623608334319",
         "10",
         "102"
        ],
        [
         "1839",
         "150500",
         "1040",
         "17376815.61",
         "7671382.18",
         "0.44147226696617975",
         "10",
         "104"
        ]
       ],
       "shape": {
        "columns": 7,
        "rows": 280
       }
      },
      "text/html": [
       "<div>\n",
       "<style scoped>\n",
       "    .dataframe tbody tr th:only-of-type {\n",
       "        vertical-align: middle;\n",
       "    }\n",
       "\n",
       "    .dataframe tbody tr th {\n",
       "        vertical-align: top;\n",
       "    }\n",
       "\n",
       "    .dataframe thead th {\n",
       "        text-align: right;\n",
       "    }\n",
       "</style>\n",
       "<table border=\"1\" class=\"dataframe\">\n",
       "  <thead>\n",
       "    <tr style=\"text-align: right;\">\n",
       "      <th></th>\n",
       "      <th>CO_SH6</th>\n",
       "      <th>CO_ISIC_CLASSE</th>\n",
       "      <th>R$ FOB Mundo</th>\n",
       "      <th>R$ FOB USA</th>\n",
       "      <th>participacao_usa</th>\n",
       "      <th>CNAE2s</th>\n",
       "      <th>cnae</th>\n",
       "    </tr>\n",
       "  </thead>\n",
       "  <tbody>\n",
       "    <tr>\n",
       "      <th>147</th>\n",
       "      <td>020714</td>\n",
       "      <td>1010</td>\n",
       "      <td>3.677516e+10</td>\n",
       "      <td>2205038.22</td>\n",
       "      <td>0.000060</td>\n",
       "      <td>10</td>\n",
       "      <td>101</td>\n",
       "    </tr>\n",
       "    <tr>\n",
       "      <th>182</th>\n",
       "      <td>030520</td>\n",
       "      <td>1020</td>\n",
       "      <td>4.744817e+04</td>\n",
       "      <td>38419.92</td>\n",
       "      <td>0.809724</td>\n",
       "      <td>10</td>\n",
       "      <td>102</td>\n",
       "    </tr>\n",
       "    <tr>\n",
       "      <th>183</th>\n",
       "      <td>190120</td>\n",
       "      <td>1061</td>\n",
       "      <td>2.735497e+08</td>\n",
       "      <td>39761097.53</td>\n",
       "      <td>0.145352</td>\n",
       "      <td>10</td>\n",
       "      <td>106</td>\n",
       "    </tr>\n",
       "    <tr>\n",
       "      <th>184</th>\n",
       "      <td>071290</td>\n",
       "      <td>1030</td>\n",
       "      <td>2.464648e+06</td>\n",
       "      <td>63192.36</td>\n",
       "      <td>0.025640</td>\n",
       "      <td>10</td>\n",
       "      <td>103</td>\n",
       "    </tr>\n",
       "    <tr>\n",
       "      <th>205</th>\n",
       "      <td>350510</td>\n",
       "      <td>1062</td>\n",
       "      <td>3.037367e+08</td>\n",
       "      <td>21755894.16</td>\n",
       "      <td>0.071627</td>\n",
       "      <td>10</td>\n",
       "      <td>106</td>\n",
       "    </tr>\n",
       "    <tr>\n",
       "      <th>...</th>\n",
       "      <td>...</td>\n",
       "      <td>...</td>\n",
       "      <td>...</td>\n",
       "      <td>...</td>\n",
       "      <td>...</td>\n",
       "      <td>...</td>\n",
       "      <td>...</td>\n",
       "    </tr>\n",
       "    <tr>\n",
       "      <th>2348</th>\n",
       "      <td>200941</td>\n",
       "      <td>1030</td>\n",
       "      <td>8.977584e+04</td>\n",
       "      <td>6726.72</td>\n",
       "      <td>0.074928</td>\n",
       "      <td>10</td>\n",
       "      <td>103</td>\n",
       "    </tr>\n",
       "    <tr>\n",
       "      <th>2349</th>\n",
       "      <td>200949</td>\n",
       "      <td>1030</td>\n",
       "      <td>7.185743e+07</td>\n",
       "      <td>6936951.56</td>\n",
       "      <td>0.096538</td>\n",
       "      <td>10</td>\n",
       "      <td>103</td>\n",
       "    </tr>\n",
       "    <tr>\n",
       "      <th>2350</th>\n",
       "      <td>200950</td>\n",
       "      <td>1030</td>\n",
       "      <td>5.971581e+05</td>\n",
       "      <td>140.14</td>\n",
       "      <td>0.000235</td>\n",
       "      <td>10</td>\n",
       "      <td>103</td>\n",
       "    </tr>\n",
       "    <tr>\n",
       "      <th>2351</th>\n",
       "      <td>200961</td>\n",
       "      <td>1030</td>\n",
       "      <td>1.311906e+07</td>\n",
       "      <td>2844313.78</td>\n",
       "      <td>0.216808</td>\n",
       "      <td>10</td>\n",
       "      <td>103</td>\n",
       "    </tr>\n",
       "    <tr>\n",
       "      <th>2352</th>\n",
       "      <td>200969</td>\n",
       "      <td>1030</td>\n",
       "      <td>4.951136e+07</td>\n",
       "      <td>8614179.42</td>\n",
       "      <td>0.173984</td>\n",
       "      <td>10</td>\n",
       "      <td>103</td>\n",
       "    </tr>\n",
       "  </tbody>\n",
       "</table>\n",
       "<p>280 rows × 7 columns</p>\n",
       "</div>"
      ],
      "text/plain": [
       "      CO_SH6 CO_ISIC_CLASSE  R$ FOB Mundo   R$ FOB USA  participacao_usa  \\\n",
       "147   020714           1010  3.677516e+10   2205038.22          0.000060   \n",
       "182   030520           1020  4.744817e+04     38419.92          0.809724   \n",
       "183   190120           1061  2.735497e+08  39761097.53          0.145352   \n",
       "184   071290           1030  2.464648e+06     63192.36          0.025640   \n",
       "205   350510           1062  3.037367e+08  21755894.16          0.071627   \n",
       "...      ...            ...           ...          ...               ...   \n",
       "2348  200941           1030  8.977584e+04      6726.72          0.074928   \n",
       "2349  200949           1030  7.185743e+07   6936951.56          0.096538   \n",
       "2350  200950           1030  5.971581e+05       140.14          0.000235   \n",
       "2351  200961           1030  1.311906e+07   2844313.78          0.216808   \n",
       "2352  200969           1030  4.951136e+07   8614179.42          0.173984   \n",
       "\n",
       "     CNAE2s cnae  \n",
       "147      10  101  \n",
       "182      10  102  \n",
       "183      10  106  \n",
       "184      10  103  \n",
       "205      10  106  \n",
       "...     ...  ...  \n",
       "2348     10  103  \n",
       "2349     10  103  \n",
       "2350     10  103  \n",
       "2351     10  103  \n",
       "2352     10  103  \n",
       "\n",
       "[280 rows x 7 columns]"
      ]
     },
     "execution_count": 268,
     "metadata": {},
     "output_type": "execute_result"
    }
   ],
   "source": [
    "exportacoes_pia.query('CO_ISIC_CLASSE.str.startswith(\"10\")')"
   ]
  },
  {
   "cell_type": "code",
   "execution_count": 277,
   "id": "6a3669ac",
   "metadata": {},
   "outputs": [],
   "source": [
    "exportacao_pia = pia_empresa_rlv.merge(exportacoes, left_on='cnae', right_on='CNAE2s', how='inner')"
   ]
  },
  {
   "cell_type": "code",
   "execution_count": 286,
   "id": "d8d4e349",
   "metadata": {},
   "outputs": [],
   "source": [
    "#Criar uma coluna de 'Intensidade Tecnloógica' de acordo com a classificação de intensidade tecnológica da OCDE, mapeada por ISIC, onde a os primeiros dígitos ISIC (2 ou 3 ) podem ser mapeados de acordo com a tabela ISIC x Intensidade Tecnológica é:\n",
    "# Alta Intensidade Tecnológica: 303, 21, 26,72, 582\n",
    "# Média Alta Intensidade Tecnológica: 252, 325, 28, 20, 27, 302, 304, 309,62-63\n",
    "# Média Intensidade Tecnológica: 22, 301, 32 ( com exceção de 325),23, 24, 33\n",
    "# Média Baixa Intensidade Tecnológica: 10-12,13, 14, 15, 25 ( menos 252),16, 18 19, 31\n",
    "# Baixa Intensidade Tecnológica: Demais\n",
    "#Considere que o código ISIC tabela de mapeamento pode ter 2 ou 3 dígitos, que devem corresponder aos primeiros 2 ou 3 dígitos do código ISIC da coluna CO_ISIC_CLASSE, ou seja,\n",
    "#mapeie inicialmente os códigos com 3 dígitos e em seguida os códigos com 2 dígitos, caso não tenha sido mapeado ainda.\n",
    "mapeamento_3d = {\n",
    "    '303': 'Alta Intensidade Tecnológica',\n",
    "    '582': 'Alta Intensidade Tecnológica',\n",
    "\n",
    "    '302': 'Média Alta Intensidade Tecnológica',\n",
    "    '252': 'Média Alta Intensidade Tecnológica',\n",
    "    '304': 'Média Alta Intensidade Tecnológica',\n",
    "    '325': 'Média Alta Intensidade Tecnológica',\n",
    "    '309': 'Média Alta Intensidade Tecnológica',\n",
    "\n",
    "    '301': 'Média Intensidade Tecnológica',\n",
    "    \n",
    "    '581':'Média Baixa Intensidade Tecnológica'\n",
    "}\n",
    "\n",
    "\n",
    "# Mapear códigos de 2 dígitos\n",
    "mapeamento_2d = {\n",
    "    '21': 'Alta Intensidade Tecnológica',\n",
    "    '26': 'Alta Intensidade Tecnológica',\n",
    "    '72': 'Alta Intensidade Tecnológica',\n",
    "\n",
    "    '29': 'Média Alta Intensidade Tecnológica',\n",
    "    '28': 'Média Alta Intensidade Tecnológica',\n",
    "    '20': 'Média Alta Intensidade Tecnológica',\n",
    "    '27': 'Média Alta Intensidade Tecnológica',\n",
    "    '62': 'Média Alta Intensidade Tecnológica',\n",
    "    '63': 'Média Alta Intensidade Tecnológica',\n",
    "\n",
    "    '22': 'Média Intensidade Tecnológica',\n",
    "    '32': 'Média Intensidade Tecnológica',\n",
    "    '23': 'Média Intensidade Tecnológica',\n",
    "    '24': 'Média Intensidade Tecnológica',\n",
    "    '25': 'Média Intensidade Tecnológica',\n",
    "    '33': 'Média Intensidade Tecnológica',\n",
    "\n",
    "    '10': 'Média Baixa Intensidade Tecnológica',\n",
    "    '11': 'Média Baixa Intensidade Tecnológica',\n",
    "    '12': 'Média Baixa Intensidade Tecnológica',\n",
    "    '13': 'Média Baixa Intensidade Tecnológica',\n",
    "    '14': 'Média Baixa Intensidade Tecnológica',\n",
    "    '15': 'Média Baixa Intensidade Tecnológica',\n",
    "    '16': 'Média Baixa Intensidade Tecnológica',\n",
    "    '17': 'Média Baixa Intensidade Tecnológica',\n",
    "    '18': 'Média Baixa Intensidade Tecnológica',\n",
    "    '19': 'Média Baixa Intensidade Tecnológica',\n",
    "    '31': 'Média Baixa Intensidade Tecnológica',\n",
    "    #69 a 75 Média Baixa Intensidade Tecnológica\n",
    "    '69': 'Média Baixa Intensidade Tecnológica',\n",
    "    '70': 'Média Baixa Intensidade Tecnológica',\n",
    "    '71': 'Média Baixa Intensidade Tecnológica',\n",
    "    '73': 'Média Baixa Intensidade Tecnológica',\n",
    "    '74': 'Média Baixa Intensidade Tecnológica',\n",
    "    '75': 'Média Baixa Intensidade Tecnológica',\n",
    "    '61' : 'Média Baixa Intensidade Tecnológica',\n",
    "    #05 a 09 Média Baixa Intensidade Tecnológica\n",
    "    '05': 'Média Baixa Intensidade Tecnológica',\n",
    "    '06': 'Média Baixa Intensidade Tecnológica',\n",
    "    '07': 'Média Baixa Intensidade Tecnológica',\n",
    "    '08': 'Média Baixa Intensidade Tecnológica',\n",
    "    '09': 'Média Baixa Intensidade Tecnológica'\n",
    "\n",
    "}\n",
    "\n"
   ]
  },
  {
   "cell_type": "code",
   "execution_count": null,
   "id": "516cff95",
   "metadata": {},
   "outputs": [],
   "source": [
    "exportacao_pia.drop(columns='Intensidade Tecnológica', inplace=True, errors='ignore')"
   ]
  },
  {
   "cell_type": "code",
   "execution_count": 287,
   "id": "80f2035e",
   "metadata": {},
   "outputs": [],
   "source": [
    "# Aplicar mapeamento primeiro por 3 dígitos, depois por 2 dígitos\n",
    "exportacao_pia['Intensidade Tecnológica'] = exportacao_pia['CO_ISIC_CLASSE'].str[0:3].map(mapeamento_3d)\n",
    "\n",
    "# Para valores não mapeados (NaN), tentar mapear por 2 dígitos\n",
    "mask_nao_mapeado = exportacao_pia['Intensidade Tecnológica'].isna()\n",
    "exportacao_pia.loc[mask_nao_mapeado, 'Intensidade Tecnológica'] = exportacao_pia.loc[mask_nao_mapeado, 'CO_ISIC_CLASSE'].str[0:2].map(mapeamento_2d)\n",
    "\n",
    "# Exceção: 252 deve ser removido de '25' (que já foi mapeado como Média Alta)\n",
    "#mask_252 = exportacao_pia['CO_ISIC_CLASSE'].str.startswith('252')\n",
    "#exportacao_pia.loc[mask_252, 'Intensidade Tecnológica'] = 'Baixa Intensidade Tecnológica'\n",
    "\n",
    "# Para códigos não mapeados, classificar como 'Baixa Intensidade Tecnológica'\n",
    "exportacao_pia['Intensidade Tecnológica'] = exportacao_pia['Intensidade Tecnológica'].fillna('Baixa Intensidade Tecnológica')"
   ]
  },
  {
   "cell_type": "code",
   "execution_count": 304,
   "id": "f5aaf74c",
   "metadata": {},
   "outputs": [
    {
     "data": {
      "application/vnd.microsoft.datawrangler.viewer.v0+json": {
       "columns": [
        {
         "name": "index",
         "rawType": "int64",
         "type": "integer"
        },
        {
         "name": "cnae",
         "rawType": "object",
         "type": "string"
        },
        {
         "name": "cnae_descricao",
         "rawType": "object",
         "type": "string"
        },
        {
         "name": "Receita líquida de vendas de produtos e serviços industriais",
         "rawType": "float64",
         "type": "float"
        },
        {
         "name": "Total da receita líquida de vendas",
         "rawType": "float64",
         "type": "float"
        },
        {
         "name": "CO_SH6",
         "rawType": "object",
         "type": "string"
        },
        {
         "name": "CO_ISIC_CLASSE",
         "rawType": "object",
         "type": "string"
        },
        {
         "name": "R$ FOB Mundo",
         "rawType": "float64",
         "type": "float"
        },
        {
         "name": "R$ FOB USA",
         "rawType": "float64",
         "type": "float"
        },
        {
         "name": "participacao_usa",
         "rawType": "float64",
         "type": "float"
        },
        {
         "name": "CNAE2s",
         "rawType": "object",
         "type": "string"
        },
        {
         "name": "Intensidade Tecnológica",
         "rawType": "object",
         "type": "string"
        }
       ],
       "ref": "8e9b37e5-383f-4efb-9af5-7e6c1a02f44d",
       "rows": [],
       "shape": {
        "columns": 11,
        "rows": 0
       }
      },
      "text/html": [
       "<div>\n",
       "<style scoped>\n",
       "    .dataframe tbody tr th:only-of-type {\n",
       "        vertical-align: middle;\n",
       "    }\n",
       "\n",
       "    .dataframe tbody tr th {\n",
       "        vertical-align: top;\n",
       "    }\n",
       "\n",
       "    .dataframe thead th {\n",
       "        text-align: right;\n",
       "    }\n",
       "</style>\n",
       "<table border=\"1\" class=\"dataframe\">\n",
       "  <thead>\n",
       "    <tr style=\"text-align: right;\">\n",
       "      <th></th>\n",
       "      <th>cnae</th>\n",
       "      <th>cnae_descricao</th>\n",
       "      <th>Receita líquida de vendas de produtos e serviços industriais</th>\n",
       "      <th>Total da receita líquida de vendas</th>\n",
       "      <th>CO_SH6</th>\n",
       "      <th>CO_ISIC_CLASSE</th>\n",
       "      <th>R$ FOB Mundo</th>\n",
       "      <th>R$ FOB USA</th>\n",
       "      <th>participacao_usa</th>\n",
       "      <th>CNAE2s</th>\n",
       "      <th>Intensidade Tecnológica</th>\n",
       "    </tr>\n",
       "  </thead>\n",
       "  <tbody>\n",
       "  </tbody>\n",
       "</table>\n",
       "</div>"
      ],
      "text/plain": [
       "Empty DataFrame\n",
       "Columns: [cnae, cnae_descricao, Receita líquida de vendas de produtos e serviços industriais, Total da receita líquida de vendas, CO_SH6, CO_ISIC_CLASSE, R$ FOB Mundo, R$ FOB USA, participacao_usa, CNAE2s, Intensidade Tecnológica]\n",
       "Index: []"
      ]
     },
     "execution_count": 304,
     "metadata": {},
     "output_type": "execute_result"
    }
   ],
   "source": [
    "exportacao_pia.query('CO_ISIC_CLASSE.str.startswith(\"63\")').head()"
   ]
  },
  {
   "cell_type": "code",
   "execution_count": 306,
   "id": "6a0242ea",
   "metadata": {},
   "outputs": [
    {
     "data": {
      "text/plain": [
       "(3455, 6)"
      ]
     },
     "execution_count": 306,
     "metadata": {},
     "output_type": "execute_result"
    }
   ],
   "source": [
    "exportacoes.shape"
   ]
  },
  {
   "cell_type": "code",
   "execution_count": 305,
   "id": "8c1b987f",
   "metadata": {},
   "outputs": [
    {
     "data": {
      "text/plain": [
       "(3222, 11)"
      ]
     },
     "execution_count": 305,
     "metadata": {},
     "output_type": "execute_result"
    }
   ],
   "source": [
    "exportacao_pia.shape"
   ]
  },
  {
   "cell_type": "code",
   "execution_count": 307,
   "id": "6bed0ffa",
   "metadata": {},
   "outputs": [],
   "source": [
    "exportacao_pia.to_excel('./Outputs/final/exportacao_pia_intensidade.xlsx', index=False)"
   ]
  },
  {
   "cell_type": "code",
   "execution_count": null,
   "id": "b569cefd",
   "metadata": {},
   "outputs": [],
   "source": []
  }
 ],
 "metadata": {
  "kernelspec": {
   "display_name": "api",
   "language": "python",
   "name": "python3"
  },
  "language_info": {
   "codemirror_mode": {
    "name": "ipython",
    "version": 3
   },
   "file_extension": ".py",
   "mimetype": "text/x-python",
   "name": "python",
   "nbconvert_exporter": "python",
   "pygments_lexer": "ipython3",
   "version": "3.11.9"
  }
 },
 "nbformat": 4,
 "nbformat_minor": 5
}
