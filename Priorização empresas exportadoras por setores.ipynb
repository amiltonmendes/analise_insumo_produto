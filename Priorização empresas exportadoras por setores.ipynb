{
 "cells": [
  {
   "cell_type": "code",
   "execution_count": 1,
   "id": "d2dbc0f1",
   "metadata": {},
   "outputs": [],
   "source": [
    "import requests\n",
    "import pandas as pd\n",
    "\n",
    "import json"
   ]
  },
  {
   "cell_type": "markdown",
   "id": "7a9d015e",
   "metadata": {},
   "source": [
    "## Mapeamento ISIC e CNAE"
   ]
  },
  {
   "cell_type": "markdown",
   "id": "ca943633",
   "metadata": {},
   "source": [
    "### Carregar tabelas do comexstat de ISIC e NCM/SH para o mapeamento com ISIC"
   ]
  },
  {
   "cell_type": "code",
   "execution_count": 2,
   "id": "17506901",
   "metadata": {},
   "outputs": [],
   "source": [
    "ncm_isic = pd.read_csv('./dados/comex/NCM_ISIC (1).csv',sep=';',dtype={'CO_ISIC_CLASSE': str, 'NO_ISIC_CLASSE': str}    )\n",
    "ncm = pd.read_csv('./dados/comex/NCM (2).csv',sep=';',dtype={'CO_SH6': str, 'CO_ISIC_CLASSE': str})"
   ]
  },
  {
   "cell_type": "markdown",
   "id": "dcfe29e8",
   "metadata": {},
   "source": [
    "### Carregar a tabela de mapeamento de ISIC para CNAE do IBGE"
   ]
  },
  {
   "cell_type": "code",
   "execution_count": 3,
   "id": "ee86e40e",
   "metadata": {},
   "outputs": [],
   "source": [
    "mapeamento_isic = pd.read_excel('./dados/mapeamento/mapeamento_isic_cnae.xlsx', dtype=str).drop(columns=['Unnamed: 3','Observações'])"
   ]
  },
  {
   "cell_type": "markdown",
   "id": "f8783233",
   "metadata": {},
   "source": [
    "##### Fazer a primeira tentativa usando códigos ISIC a 3 dígitos"
   ]
  },
  {
   "cell_type": "code",
   "execution_count": 4,
   "id": "a27f6f04",
   "metadata": {},
   "outputs": [
    {
     "data": {
      "application/vnd.microsoft.datawrangler.viewer.v0+json": {
       "columns": [
        {
         "name": "index",
         "rawType": "int64",
         "type": "integer"
        },
        {
         "name": "código ISIC",
         "rawType": "object",
         "type": "string"
        },
        {
         "name": "denominação ISIC",
         "rawType": "object",
         "type": "string"
        },
        {
         "name": "código CNAE",
         "rawType": "object",
         "type": "unknown"
        },
        {
         "name": "denominação CNAE",
         "rawType": "object",
         "type": "unknown"
        }
       ],
       "ref": "2d73ae72-9e81-4db9-9bc8-5c7b5dda5f66",
       "rows": [
        [
         "1171",
         "960",
         "Otras actividades de servicios personales",
         "96.0",
         "Outras atividades de serviços pessoais"
        ],
        [
         "1178",
         "970",
         "Actividades de los hogares como empleadores de personal doméstico",
         "97.0",
         "Serviços domésticos"
        ],
        [
         "1181",
         "981",
         "Actividades no diferenciadas de los hogares como productores de bienes para uso propio",
         null,
         null
        ],
        [
         "1183",
         "982",
         "Actividades no diferenciadas de los hogares como productores de servicios para uso propio",
         null,
         null
        ],
        [
         "1187",
         "990",
         "Actividades de organizaciones y órganos extraterritoriales",
         "99.0",
         "Organismos internacionais e outras instituições extraterritoriais"
        ]
       ],
       "shape": {
        "columns": 4,
        "rows": 5
       }
      },
      "text/html": [
       "<div>\n",
       "<style scoped>\n",
       "    .dataframe tbody tr th:only-of-type {\n",
       "        vertical-align: middle;\n",
       "    }\n",
       "\n",
       "    .dataframe tbody tr th {\n",
       "        vertical-align: top;\n",
       "    }\n",
       "\n",
       "    .dataframe thead th {\n",
       "        text-align: right;\n",
       "    }\n",
       "</style>\n",
       "<table border=\"1\" class=\"dataframe\">\n",
       "  <thead>\n",
       "    <tr style=\"text-align: right;\">\n",
       "      <th></th>\n",
       "      <th>código ISIC</th>\n",
       "      <th>denominação ISIC</th>\n",
       "      <th>código CNAE</th>\n",
       "      <th>denominação CNAE</th>\n",
       "    </tr>\n",
       "  </thead>\n",
       "  <tbody>\n",
       "    <tr>\n",
       "      <th>1171</th>\n",
       "      <td>960</td>\n",
       "      <td>Otras actividades de servicios personales</td>\n",
       "      <td>96.0</td>\n",
       "      <td>Outras atividades de serviços pessoais</td>\n",
       "    </tr>\n",
       "    <tr>\n",
       "      <th>1178</th>\n",
       "      <td>970</td>\n",
       "      <td>Actividades de los hogares como empleadores de...</td>\n",
       "      <td>97.0</td>\n",
       "      <td>Serviços domésticos</td>\n",
       "    </tr>\n",
       "    <tr>\n",
       "      <th>1181</th>\n",
       "      <td>981</td>\n",
       "      <td>Actividades no diferenciadas de los hogares co...</td>\n",
       "      <td>NaN</td>\n",
       "      <td>NaN</td>\n",
       "    </tr>\n",
       "    <tr>\n",
       "      <th>1183</th>\n",
       "      <td>982</td>\n",
       "      <td>Actividades no diferenciadas de los hogares co...</td>\n",
       "      <td>NaN</td>\n",
       "      <td>NaN</td>\n",
       "    </tr>\n",
       "    <tr>\n",
       "      <th>1187</th>\n",
       "      <td>990</td>\n",
       "      <td>Actividades de organizaciones y órganos extrat...</td>\n",
       "      <td>99.0</td>\n",
       "      <td>Organismos internacionais e outras instituiçõe...</td>\n",
       "    </tr>\n",
       "  </tbody>\n",
       "</table>\n",
       "</div>"
      ],
      "text/plain": [
       "     código ISIC                                   denominação ISIC  \\\n",
       "1171         960          Otras actividades de servicios personales   \n",
       "1178         970  Actividades de los hogares como empleadores de...   \n",
       "1181         981  Actividades no diferenciadas de los hogares co...   \n",
       "1183         982  Actividades no diferenciadas de los hogares co...   \n",
       "1187         990  Actividades de organizaciones y órganos extrat...   \n",
       "\n",
       "     código CNAE                                   denominação CNAE  \n",
       "1171        96.0             Outras atividades de serviços pessoais  \n",
       "1178        97.0                                Serviços domésticos  \n",
       "1181         NaN                                                NaN  \n",
       "1183         NaN                                                NaN  \n",
       "1187        99.0  Organismos internacionais e outras instituiçõe...  "
      ]
     },
     "execution_count": 4,
     "metadata": {},
     "output_type": "execute_result"
    }
   ],
   "source": [
    "mapeamento_isic = mapeamento_isic[mapeamento_isic['código ISIC'].str.len() == 3]\n",
    "mapeamento_isic.tail()"
   ]
  },
  {
   "cell_type": "markdown",
   "id": "06f134de",
   "metadata": {},
   "source": [
    "#### Eliminar códigos ISIC sem correspondência"
   ]
  },
  {
   "cell_type": "code",
   "execution_count": 5,
   "id": "80e336d3",
   "metadata": {},
   "outputs": [],
   "source": [
    "mapeamento_isic = mapeamento_isic.dropna()"
   ]
  },
  {
   "cell_type": "code",
   "execution_count": 6,
   "id": "7881cc4f",
   "metadata": {},
   "outputs": [],
   "source": [
    "mapeamento_isic['CNAE2d'] = mapeamento_isic['código CNAE'].str[0:2]\n",
    "mapeamento_isic['ISIC2d'] = mapeamento_isic['código ISIC'].str[0:2]"
   ]
  },
  {
   "cell_type": "markdown",
   "id": "2ae5cb93",
   "metadata": {},
   "source": [
    "#### Verificar se há códigos ISIC a dois dígitos que correspondem a mais de uma cnae a dois dígitos"
   ]
  },
  {
   "cell_type": "code",
   "execution_count": 7,
   "id": "a149e673",
   "metadata": {},
   "outputs": [
    {
     "data": {
      "application/vnd.microsoft.datawrangler.viewer.v0+json": {
       "columns": [
        {
         "name": "ISIC2d",
         "rawType": "object",
         "type": "string"
        },
        {
         "name": "CNAE2d",
         "rawType": "int64",
         "type": "integer"
        }
       ],
       "ref": "17a42b11-0feb-4294-91a8-50445af4dd7f",
       "rows": [
        [
         "19",
         "2"
        ],
        [
         "22",
         "2"
        ],
        [
         "16",
         "2"
        ],
        [
         "20",
         "2"
        ],
        [
         "88",
         "2"
        ],
        [
         "70",
         "2"
        ],
        [
         "58",
         "2"
        ],
        [
         "08",
         "1"
        ],
        [
         "07",
         "1"
        ],
        [
         "06",
         "1"
        ]
       ],
       "shape": {
        "columns": 1,
        "rows": 10
       }
      },
      "text/html": [
       "<div>\n",
       "<style scoped>\n",
       "    .dataframe tbody tr th:only-of-type {\n",
       "        vertical-align: middle;\n",
       "    }\n",
       "\n",
       "    .dataframe tbody tr th {\n",
       "        vertical-align: top;\n",
       "    }\n",
       "\n",
       "    .dataframe thead th {\n",
       "        text-align: right;\n",
       "    }\n",
       "</style>\n",
       "<table border=\"1\" class=\"dataframe\">\n",
       "  <thead>\n",
       "    <tr style=\"text-align: right;\">\n",
       "      <th></th>\n",
       "      <th>CNAE2d</th>\n",
       "    </tr>\n",
       "    <tr>\n",
       "      <th>ISIC2d</th>\n",
       "      <th></th>\n",
       "    </tr>\n",
       "  </thead>\n",
       "  <tbody>\n",
       "    <tr>\n",
       "      <th>19</th>\n",
       "      <td>2</td>\n",
       "    </tr>\n",
       "    <tr>\n",
       "      <th>22</th>\n",
       "      <td>2</td>\n",
       "    </tr>\n",
       "    <tr>\n",
       "      <th>16</th>\n",
       "      <td>2</td>\n",
       "    </tr>\n",
       "    <tr>\n",
       "      <th>20</th>\n",
       "      <td>2</td>\n",
       "    </tr>\n",
       "    <tr>\n",
       "      <th>88</th>\n",
       "      <td>2</td>\n",
       "    </tr>\n",
       "    <tr>\n",
       "      <th>70</th>\n",
       "      <td>2</td>\n",
       "    </tr>\n",
       "    <tr>\n",
       "      <th>58</th>\n",
       "      <td>2</td>\n",
       "    </tr>\n",
       "    <tr>\n",
       "      <th>08</th>\n",
       "      <td>1</td>\n",
       "    </tr>\n",
       "    <tr>\n",
       "      <th>07</th>\n",
       "      <td>1</td>\n",
       "    </tr>\n",
       "    <tr>\n",
       "      <th>06</th>\n",
       "      <td>1</td>\n",
       "    </tr>\n",
       "  </tbody>\n",
       "</table>\n",
       "</div>"
      ],
      "text/plain": [
       "        CNAE2d\n",
       "ISIC2d        \n",
       "19           2\n",
       "22           2\n",
       "16           2\n",
       "20           2\n",
       "88           2\n",
       "70           2\n",
       "58           2\n",
       "08           1\n",
       "07           1\n",
       "06           1"
      ]
     },
     "execution_count": 7,
     "metadata": {},
     "output_type": "execute_result"
    }
   ],
   "source": [
    "mapeamento_isic.groupby('ISIC2d')[['CNAE2d']].nunique().sort_values(by='CNAE2d', ascending=False).head(10)"
   ]
  },
  {
   "cell_type": "code",
   "execution_count": 8,
   "id": "82f09e68",
   "metadata": {},
   "outputs": [
    {
     "data": {
      "text/html": [
       "<div>\n",
       "<style scoped>\n",
       "    .dataframe tbody tr th:only-of-type {\n",
       "        vertical-align: middle;\n",
       "    }\n",
       "\n",
       "    .dataframe tbody tr th {\n",
       "        vertical-align: top;\n",
       "    }\n",
       "\n",
       "    .dataframe thead th {\n",
       "        text-align: right;\n",
       "    }\n",
       "</style>\n",
       "<table border=\"1\" class=\"dataframe\">\n",
       "  <thead>\n",
       "    <tr style=\"text-align: right;\">\n",
       "      <th></th>\n",
       "      <th>código ISIC</th>\n",
       "      <th>denominação ISIC</th>\n",
       "      <th>código CNAE</th>\n",
       "      <th>denominação CNAE</th>\n",
       "      <th>CNAE2d</th>\n",
       "      <th>ISIC2d</th>\n",
       "    </tr>\n",
       "  </thead>\n",
       "  <tbody>\n",
       "    <tr>\n",
       "      <th>822</th>\n",
       "      <td>581</td>\n",
       "      <td>Edición de libros y publicaciones periódicas y...</td>\n",
       "      <td>58.1</td>\n",
       "      <td>Edição de livros, jornais, revistas e outras a...</td>\n",
       "      <td>58</td>\n",
       "      <td>58</td>\n",
       "    </tr>\n",
       "    <tr>\n",
       "      <th>823</th>\n",
       "      <td>581</td>\n",
       "      <td>Edición de libros y publicaciones periódicas y...</td>\n",
       "      <td>58.2</td>\n",
       "      <td>Edição integrada à impressão de livros, jornai...</td>\n",
       "      <td>58</td>\n",
       "      <td>58</td>\n",
       "    </tr>\n",
       "    <tr>\n",
       "      <th>834</th>\n",
       "      <td>582</td>\n",
       "      <td>Edición de programas informáticos</td>\n",
       "      <td>62.0</td>\n",
       "      <td>Atividades dos serviços de tecnologia da infor...</td>\n",
       "      <td>62</td>\n",
       "      <td>58</td>\n",
       "    </tr>\n",
       "    <tr>\n",
       "      <th>955</th>\n",
       "      <td>701</td>\n",
       "      <td>Actividades de oficinas principales</td>\n",
       "      <td>64.6</td>\n",
       "      <td>Atividades de sociedades de participação</td>\n",
       "      <td>64</td>\n",
       "      <td>70</td>\n",
       "    </tr>\n",
       "    <tr>\n",
       "      <th>956</th>\n",
       "      <td>701</td>\n",
       "      <td>Actividades de oficinas principales</td>\n",
       "      <td>70.1</td>\n",
       "      <td>Sedes de empresas e unidades administrativas l...</td>\n",
       "      <td>70</td>\n",
       "      <td>70</td>\n",
       "    </tr>\n",
       "    <tr>\n",
       "      <th>960</th>\n",
       "      <td>702</td>\n",
       "      <td>Actividades de consultoría de gestión</td>\n",
       "      <td>70.2</td>\n",
       "      <td>Atividades de consultoria em gestão empresarial</td>\n",
       "      <td>70</td>\n",
       "      <td>70</td>\n",
       "    </tr>\n",
       "    <tr>\n",
       "      <th>1117</th>\n",
       "      <td>881</td>\n",
       "      <td>Actividades de asistencia social sin alojamien...</td>\n",
       "      <td>88.0</td>\n",
       "      <td>Serviços de assistência social sem alojamento</td>\n",
       "      <td>88</td>\n",
       "      <td>88</td>\n",
       "    </tr>\n",
       "    <tr>\n",
       "      <th>1119</th>\n",
       "      <td>889</td>\n",
       "      <td>Otras actividades de aistencia social sin aloj...</td>\n",
       "      <td>85.1</td>\n",
       "      <td>Educação infantil e ensino fundamental</td>\n",
       "      <td>85</td>\n",
       "      <td>88</td>\n",
       "    </tr>\n",
       "    <tr>\n",
       "      <th>1120</th>\n",
       "      <td>889</td>\n",
       "      <td>Otros servicios sociales sin alojamiento n.c.p.</td>\n",
       "      <td>88.0</td>\n",
       "      <td>Serviços de assistência social sem alojamento</td>\n",
       "      <td>88</td>\n",
       "      <td>88</td>\n",
       "    </tr>\n",
       "  </tbody>\n",
       "</table>\n",
       "</div>"
      ],
      "text/plain": [
       "     código ISIC                                   denominação ISIC  \\\n",
       "822          581  Edición de libros y publicaciones periódicas y...   \n",
       "823          581  Edición de libros y publicaciones periódicas y...   \n",
       "834          582                  Edición de programas informáticos   \n",
       "955          701                Actividades de oficinas principales   \n",
       "956          701                Actividades de oficinas principales   \n",
       "960          702              Actividades de consultoría de gestión   \n",
       "1117         881  Actividades de asistencia social sin alojamien...   \n",
       "1119         889  Otras actividades de aistencia social sin aloj...   \n",
       "1120         889    Otros servicios sociales sin alojamiento n.c.p.   \n",
       "\n",
       "     código CNAE                                   denominação CNAE CNAE2d  \\\n",
       "822         58.1  Edição de livros, jornais, revistas e outras a...     58   \n",
       "823         58.2  Edição integrada à impressão de livros, jornai...     58   \n",
       "834         62.0  Atividades dos serviços de tecnologia da infor...     62   \n",
       "955         64.6           Atividades de sociedades de participação     64   \n",
       "956         70.1  Sedes de empresas e unidades administrativas l...     70   \n",
       "960         70.2    Atividades de consultoria em gestão empresarial     70   \n",
       "1117        88.0      Serviços de assistência social sem alojamento     88   \n",
       "1119        85.1             Educação infantil e ensino fundamental     85   \n",
       "1120        88.0      Serviços de assistência social sem alojamento     88   \n",
       "\n",
       "     ISIC2d  \n",
       "822      58  \n",
       "823      58  \n",
       "834      58  \n",
       "955      70  \n",
       "956      70  \n",
       "960      70  \n",
       "1117     88  \n",
       "1119     88  \n",
       "1120     88  "
      ]
     },
     "execution_count": 8,
     "metadata": {},
     "output_type": "execute_result"
    }
   ],
   "source": [
    "mapeamento_isic.query('ISIC2d.isin([\"58\",\"70\",\"88\"])')"
   ]
  },
  {
   "cell_type": "markdown",
   "id": "4e17c047",
   "metadata": {},
   "source": [
    "#### Códigos a 2 dígitos ISIC que estão relacionados a mais de um código CNAE a 2 dígitos sempre estão vinculados a dígitos idênticos mais um outro. Nesses casos, se considerará apenas os dois dígitos idênticos, descartando o segundo"
   ]
  },
  {
   "cell_type": "code",
   "execution_count": 9,
   "id": "4f0056a1",
   "metadata": {},
   "outputs": [
    {
     "data": {
      "text/html": [
       "<div>\n",
       "<style scoped>\n",
       "    .dataframe tbody tr th:only-of-type {\n",
       "        vertical-align: middle;\n",
       "    }\n",
       "\n",
       "    .dataframe tbody tr th {\n",
       "        vertical-align: top;\n",
       "    }\n",
       "\n",
       "    .dataframe thead th {\n",
       "        text-align: right;\n",
       "    }\n",
       "</style>\n",
       "<table border=\"1\" class=\"dataframe\">\n",
       "  <thead>\n",
       "    <tr style=\"text-align: right;\">\n",
       "      <th></th>\n",
       "      <th>código ISIC</th>\n",
       "      <th>denominação ISIC</th>\n",
       "      <th>código CNAE</th>\n",
       "      <th>denominação CNAE</th>\n",
       "      <th>CNAE2d</th>\n",
       "      <th>ISIC2d</th>\n",
       "    </tr>\n",
       "  </thead>\n",
       "  <tbody>\n",
       "    <tr>\n",
       "      <th>213</th>\n",
       "      <td>151</td>\n",
       "      <td>Curtido y adobo de cueros; fabricación de male...</td>\n",
       "      <td>15.1</td>\n",
       "      <td>Curtimento e outras preparações de couro</td>\n",
       "      <td>15</td>\n",
       "      <td>15</td>\n",
       "    </tr>\n",
       "    <tr>\n",
       "      <th>214</th>\n",
       "      <td>151</td>\n",
       "      <td>Curtido y adobo de cueros; fabricación de male...</td>\n",
       "      <td>15.2</td>\n",
       "      <td>Fabricação de artigos para viagem e de artefat...</td>\n",
       "      <td>15</td>\n",
       "      <td>15</td>\n",
       "    </tr>\n",
       "    <tr>\n",
       "      <th>218</th>\n",
       "      <td>152</td>\n",
       "      <td>Fabricación de calzado</td>\n",
       "      <td>15.3</td>\n",
       "      <td>Fabricação de calçados</td>\n",
       "      <td>15</td>\n",
       "      <td>15</td>\n",
       "    </tr>\n",
       "    <tr>\n",
       "      <th>219</th>\n",
       "      <td>152</td>\n",
       "      <td>Fabricación de calzado</td>\n",
       "      <td>15.4</td>\n",
       "      <td>Fabricação de partes para calçados, de qualque...</td>\n",
       "      <td>15</td>\n",
       "      <td>15</td>\n",
       "    </tr>\n",
       "    <tr>\n",
       "      <th>229</th>\n",
       "      <td>162</td>\n",
       "      <td>Fabricación de productos de madera, corcho, pa...</td>\n",
       "      <td>15.4</td>\n",
       "      <td>Fabricação de partes para calçados, de qualque...</td>\n",
       "      <td>15</td>\n",
       "      <td>16</td>\n",
       "    </tr>\n",
       "    <tr>\n",
       "      <th>315</th>\n",
       "      <td>221</td>\n",
       "      <td>Fabricación de productos de caucho</td>\n",
       "      <td>15.4</td>\n",
       "      <td>Fabricação de partes para calçados, de qualque...</td>\n",
       "      <td>15</td>\n",
       "      <td>22</td>\n",
       "    </tr>\n",
       "    <tr>\n",
       "      <th>321</th>\n",
       "      <td>222</td>\n",
       "      <td>Fabricación de productos de plástico</td>\n",
       "      <td>15.4</td>\n",
       "      <td>Fabricação de partes para calçados, de qualque...</td>\n",
       "      <td>15</td>\n",
       "      <td>22</td>\n",
       "    </tr>\n",
       "  </tbody>\n",
       "</table>\n",
       "</div>"
      ],
      "text/plain": [
       "    código ISIC                                   denominação ISIC  \\\n",
       "213         151  Curtido y adobo de cueros; fabricación de male...   \n",
       "214         151  Curtido y adobo de cueros; fabricación de male...   \n",
       "218         152                             Fabricación de calzado   \n",
       "219         152                             Fabricación de calzado   \n",
       "229         162  Fabricación de productos de madera, corcho, pa...   \n",
       "315         221                 Fabricación de productos de caucho   \n",
       "321         222               Fabricación de productos de plástico   \n",
       "\n",
       "    código CNAE                                   denominação CNAE CNAE2d  \\\n",
       "213        15.1           Curtimento e outras preparações de couro     15   \n",
       "214        15.2  Fabricação de artigos para viagem e de artefat...     15   \n",
       "218        15.3                             Fabricação de calçados     15   \n",
       "219        15.4  Fabricação de partes para calçados, de qualque...     15   \n",
       "229        15.4  Fabricação de partes para calçados, de qualque...     15   \n",
       "315        15.4  Fabricação de partes para calçados, de qualque...     15   \n",
       "321        15.4  Fabricação de partes para calçados, de qualque...     15   \n",
       "\n",
       "    ISIC2d  \n",
       "213     15  \n",
       "214     15  \n",
       "218     15  \n",
       "219     15  \n",
       "229     16  \n",
       "315     22  \n",
       "321     22  "
      ]
     },
     "execution_count": 9,
     "metadata": {},
     "output_type": "execute_result"
    }
   ],
   "source": [
    "mapeamento_isic.query('`CNAE2d`.isin([\"15\"])')"
   ]
  },
  {
   "cell_type": "markdown",
   "id": "ead853b5",
   "metadata": {},
   "source": [
    "Decidiu-se por usar os dois primeiros dígitos do ISIC como aproximação da CNAE, quando a correspondência a 3 dígitos não é possível, por haver mapeamento a mais de uma CNAE vinculadao ao código ISIC a 3 dígitos. Ver seção de mapeamento ISIC x CNAE x PIA"
   ]
  },
  {
   "cell_type": "markdown",
   "id": "9f527b28",
   "metadata": {},
   "source": [
    "Remover mapeamentos CNAE ISIC para códigos com os dois primeiros dígitos divergentes."
   ]
  },
  {
   "cell_type": "code",
   "execution_count": 10,
   "id": "9530bcc8",
   "metadata": {},
   "outputs": [],
   "source": [
    "mapeamento_isic = mapeamento_isic.query('CNAE2d == ISIC2d')"
   ]
  },
  {
   "cell_type": "code",
   "execution_count": 11,
   "id": "d3599348",
   "metadata": {},
   "outputs": [],
   "source": [
    "\n",
    "tarifas = pd.read_excel('./dados/comex/impacto_empresas/tarifas_totais_232.xlsx')"
   ]
  },
  {
   "cell_type": "code",
   "execution_count": 12,
   "id": "372c33d6",
   "metadata": {},
   "outputs": [
    {
     "name": "stderr",
     "output_type": "stream",
     "text": [
      "/tmp/ipykernel_1978/2934317571.py:1: FutureWarning: A value is trying to be set on a copy of a DataFrame or Series through chained assignment using an inplace method.\n",
      "The behavior will change in pandas 3.0. This inplace method will never work because the intermediate object on which we are setting values always behaves as a copy.\n",
      "\n",
      "For example, when doing 'df[col].method(value, inplace=True)', try using 'df.method({col: value}, inplace=True)' or df[col] = df[col].method(value) instead, to perform the operation inplace on the original object.\n",
      "\n",
      "\n",
      "  tarifas['Articles of Civil Aircraft only'].fillna('',inplace=True)\n"
     ]
    }
   ],
   "source": [
    "tarifas['Articles of Civil Aircraft only'].fillna('',inplace=True)"
   ]
  },
  {
   "cell_type": "code",
   "execution_count": 13,
   "id": "965a172f",
   "metadata": {},
   "outputs": [
    {
     "data": {
      "text/html": [
       "<div>\n",
       "<style scoped>\n",
       "    .dataframe tbody tr th:only-of-type {\n",
       "        vertical-align: middle;\n",
       "    }\n",
       "\n",
       "    .dataframe tbody tr th {\n",
       "        vertical-align: top;\n",
       "    }\n",
       "\n",
       "    .dataframe thead th {\n",
       "        text-align: right;\n",
       "    }\n",
       "</style>\n",
       "<table border=\"1\" class=\"dataframe\">\n",
       "  <thead>\n",
       "    <tr style=\"text-align: right;\">\n",
       "      <th></th>\n",
       "      <th>SH6</th>\n",
       "      <th>Instrumento</th>\n",
       "      <th>Tarifa</th>\n",
       "      <th>Vigência</th>\n",
       "      <th>Tarifa Desc</th>\n",
       "      <th>Articles of Civil Aircraft only</th>\n",
       "    </tr>\n",
       "  </thead>\n",
       "  <tbody>\n",
       "    <tr>\n",
       "      <th>0</th>\n",
       "      <td>490110</td>\n",
       "      <td>Ordem 30/07</td>\n",
       "      <td>0.5</td>\n",
       "      <td>Vigente</td>\n",
       "      <td>Tarifa de 10+40%</td>\n",
       "      <td></td>\n",
       "    </tr>\n",
       "    <tr>\n",
       "      <th>1</th>\n",
       "      <td>490191</td>\n",
       "      <td>Ordem 30/07</td>\n",
       "      <td>0.5</td>\n",
       "      <td>Vigente</td>\n",
       "      <td>Tarifa de 10+40%</td>\n",
       "      <td></td>\n",
       "    </tr>\n",
       "  </tbody>\n",
       "</table>\n",
       "</div>"
      ],
      "text/plain": [
       "      SH6  Instrumento  Tarifa Vigência       Tarifa Desc  \\\n",
       "0  490110  Ordem 30/07     0.5  Vigente  Tarifa de 10+40%   \n",
       "1  490191  Ordem 30/07     0.5  Vigente  Tarifa de 10+40%   \n",
       "\n",
       "  Articles of Civil Aircraft only  \n",
       "0                                  \n",
       "1                                  "
      ]
     },
     "execution_count": 13,
     "metadata": {},
     "output_type": "execute_result"
    }
   ],
   "source": [
    "tarifas.head(2)"
   ]
  },
  {
   "cell_type": "code",
   "execution_count": 14,
   "id": "3d806186",
   "metadata": {},
   "outputs": [
    {
     "data": {
      "text/html": [
       "<div>\n",
       "<style scoped>\n",
       "    .dataframe tbody tr th:only-of-type {\n",
       "        vertical-align: middle;\n",
       "    }\n",
       "\n",
       "    .dataframe tbody tr th {\n",
       "        vertical-align: top;\n",
       "    }\n",
       "\n",
       "    .dataframe thead th {\n",
       "        text-align: right;\n",
       "    }\n",
       "</style>\n",
       "<table border=\"1\" class=\"dataframe\">\n",
       "  <thead>\n",
       "    <tr style=\"text-align: right;\">\n",
       "      <th></th>\n",
       "      <th>código ISIC</th>\n",
       "      <th>denominação ISIC</th>\n",
       "      <th>código CNAE</th>\n",
       "      <th>denominação CNAE</th>\n",
       "      <th>CNAE2d</th>\n",
       "      <th>ISIC2d</th>\n",
       "    </tr>\n",
       "  </thead>\n",
       "  <tbody>\n",
       "    <tr>\n",
       "      <th>2</th>\n",
       "      <td>011</td>\n",
       "      <td>Cultivo de plantas no perenes</td>\n",
       "      <td>01.1</td>\n",
       "      <td>Produção de lavouras temporárias</td>\n",
       "      <td>01</td>\n",
       "      <td>01</td>\n",
       "    </tr>\n",
       "    <tr>\n",
       "      <th>3</th>\n",
       "      <td>011</td>\n",
       "      <td>Cultivo de plantas no perenes</td>\n",
       "      <td>01.2</td>\n",
       "      <td>Horticultura e floricultura</td>\n",
       "      <td>01</td>\n",
       "      <td>01</td>\n",
       "    </tr>\n",
       "  </tbody>\n",
       "</table>\n",
       "</div>"
      ],
      "text/plain": [
       "  código ISIC               denominação ISIC código CNAE  \\\n",
       "2         011  Cultivo de plantas no perenes        01.1   \n",
       "3         011  Cultivo de plantas no perenes        01.2   \n",
       "\n",
       "                   denominação CNAE CNAE2d ISIC2d  \n",
       "2  Produção de lavouras temporárias     01     01  \n",
       "3       Horticultura e floricultura     01     01  "
      ]
     },
     "execution_count": 14,
     "metadata": {},
     "output_type": "execute_result"
    }
   ],
   "source": [
    "mapeamento_isic.head(2)"
   ]
  },
  {
   "cell_type": "code",
   "execution_count": 15,
   "id": "9c501243",
   "metadata": {},
   "outputs": [],
   "source": [
    "ncm = pd.read_csv('./dados/comex/NCM (2).csv',sep=';',dtype={'CO_SH6': str, 'CO_ISIC_CLASSE': str})\n",
    "### Carregar a tabela de mapeamento de ISIC para CNAE do IBGE\n",
    "mapeamento_isic = pd.read_excel('./dados/mapeamento/mapeamento_isic_cnae.xlsx', dtype=str).drop(columns=['Unnamed: 3','Observações'])\n",
    "##### Fazer a primeira tentativa usando códigos ISIC a 3 dígitos\n",
    "mapeamento_isic = mapeamento_isic[mapeamento_isic['código ISIC'].str.len() == 3]\n",
    "mapeamento_isic.tail()\n",
    "#### Eliminar códigos ISIC sem correspondência\n",
    "mapeamento_isic = mapeamento_isic.dropna()\n",
    "mapeamento_isic['CNAE2d'] = mapeamento_isic['código CNAE'].str[0:2]\n",
    "mapeamento_isic['ISIC2d'] = mapeamento_isic['código ISIC'].str[0:2]\n",
    "#### Verificar se há códigos ISIC a dois dígitos que correspondem a mais de uma cnae a dois dígitos\n",
    "mapeamento_isic.groupby('ISIC2d')[['CNAE2d']].nunique().sort_values(by='CNAE2d', ascending=False).head(10)\n",
    "#### Códigos a 2 dígitos ISIC que estão relacionados a mais de um código CNAE a 2 dígitos sempre estão vinculados a dígitos idênticos mais um outro. Nesses casos, se considerará apenas os dois dígitos idênticos, descartando o segundo\n",
    "mapeamento_isic = mapeamento_isic.query('CNAE2d == ISIC2d')\n",
    "### Remover exportações com valor 0 e mapear exportações com código ISIC a 4 dígitos\n",
    "\n",
    "mapeamento_isic['cnae'] = mapeamento_isic['código CNAE'].str.replace('.','', regex=False)\n",
    "#### Verificar as situações em que um ISIC a 3 dígitos é mapeado para mais de uma CNAE\n"
   ]
  },
  {
   "cell_type": "code",
   "execution_count": 16,
   "id": "b5a73446",
   "metadata": {},
   "outputs": [],
   "source": [
    "ncm['CO_ISIC_CLASSE3d'] = ncm['CO_ISIC_CLASSE'].str[0:3]\n",
    "\n",
    "mapeamento_isic_ncm = mapeamento_isic.merge(ncm[['CO_ISIC_CLASSE3d','CO_SH6']].drop_duplicates(), left_on='código ISIC', right_on='CO_ISIC_CLASSE3d', how='inner')"
   ]
  },
  {
   "cell_type": "code",
   "execution_count": 17,
   "id": "b676d5e8",
   "metadata": {},
   "outputs": [
    {
     "data": {
      "text/plain": [
       "(14482, 9)"
      ]
     },
     "execution_count": 17,
     "metadata": {},
     "output_type": "execute_result"
    }
   ],
   "source": [
    "mapeamento_isic_ncm.shape"
   ]
  },
  {
   "cell_type": "code",
   "execution_count": 18,
   "id": "85b97824",
   "metadata": {},
   "outputs": [],
   "source": [
    "lista_isic_unica_cnae = mapeamento_isic_ncm.groupby('código ISIC')[['cnae']].nunique().query('cnae == 1').reset_index()['código ISIC'].tolist()\n",
    "mapeamento_isic3d = pd.read_excel('./dados/mapeamento/mapeamento_isic_cnae.xlsx', dtype=str).drop(columns=['Unnamed: 3','Observações'])\n",
    "mapeamento_isic3d['código ISIC'] = mapeamento_isic3d['código ISIC'].str.replace('.','', regex=False)\n",
    "mapeamento_isic3d['código CNAE'] = mapeamento_isic3d['código CNAE'].str.replace('.','', regex=False)\n",
    "\n",
    "mapeamento_isic3d = mapeamento_isic3d[mapeamento_isic3d['código ISIC'].str.len() == 3]"
   ]
  },
  {
   "cell_type": "code",
   "execution_count": 19,
   "id": "8d3d1588",
   "metadata": {},
   "outputs": [
    {
     "data": {
      "text/html": [
       "<div>\n",
       "<style scoped>\n",
       "    .dataframe tbody tr th:only-of-type {\n",
       "        vertical-align: middle;\n",
       "    }\n",
       "\n",
       "    .dataframe tbody tr th {\n",
       "        vertical-align: top;\n",
       "    }\n",
       "\n",
       "    .dataframe thead th {\n",
       "        text-align: right;\n",
       "    }\n",
       "</style>\n",
       "<table border=\"1\" class=\"dataframe\">\n",
       "  <thead>\n",
       "    <tr style=\"text-align: right;\">\n",
       "      <th></th>\n",
       "      <th>código ISIC</th>\n",
       "      <th>denominação ISIC</th>\n",
       "      <th>código CNAE</th>\n",
       "      <th>denominação CNAE</th>\n",
       "    </tr>\n",
       "  </thead>\n",
       "  <tbody>\n",
       "    <tr>\n",
       "      <th>2</th>\n",
       "      <td>011</td>\n",
       "      <td>Cultivo de plantas no perenes</td>\n",
       "      <td>011</td>\n",
       "      <td>Produção de lavouras temporárias</td>\n",
       "    </tr>\n",
       "    <tr>\n",
       "      <th>3</th>\n",
       "      <td>011</td>\n",
       "      <td>Cultivo de plantas no perenes</td>\n",
       "      <td>012</td>\n",
       "      <td>Horticultura e floricultura</td>\n",
       "    </tr>\n",
       "  </tbody>\n",
       "</table>\n",
       "</div>"
      ],
      "text/plain": [
       "  código ISIC               denominação ISIC código CNAE  \\\n",
       "2         011  Cultivo de plantas no perenes         011   \n",
       "3         011  Cultivo de plantas no perenes         012   \n",
       "\n",
       "                   denominação CNAE  \n",
       "2  Produção de lavouras temporárias  \n",
       "3       Horticultura e floricultura  "
      ]
     },
     "execution_count": 19,
     "metadata": {},
     "output_type": "execute_result"
    }
   ],
   "source": [
    "mapeamento_isic3d.head(2)"
   ]
  },
  {
   "cell_type": "code",
   "execution_count": 20,
   "id": "d7127152",
   "metadata": {},
   "outputs": [
    {
     "data": {
      "text/html": [
       "<div>\n",
       "<style scoped>\n",
       "    .dataframe tbody tr th:only-of-type {\n",
       "        vertical-align: middle;\n",
       "    }\n",
       "\n",
       "    .dataframe tbody tr th {\n",
       "        vertical-align: top;\n",
       "    }\n",
       "\n",
       "    .dataframe thead th {\n",
       "        text-align: right;\n",
       "    }\n",
       "</style>\n",
       "<table border=\"1\" class=\"dataframe\">\n",
       "  <thead>\n",
       "    <tr style=\"text-align: right;\">\n",
       "      <th></th>\n",
       "      <th>código CNAE</th>\n",
       "      <th>denominação CNAE</th>\n",
       "    </tr>\n",
       "  </thead>\n",
       "  <tbody>\n",
       "    <tr>\n",
       "      <th>1</th>\n",
       "      <td>01</td>\n",
       "      <td>Agricultura, pecuária e serviços relacionados</td>\n",
       "    </tr>\n",
       "    <tr>\n",
       "      <th>68</th>\n",
       "      <td>02</td>\n",
       "      <td>Produção florestal</td>\n",
       "    </tr>\n",
       "  </tbody>\n",
       "</table>\n",
       "</div>"
      ],
      "text/plain": [
       "   código CNAE                               denominação CNAE\n",
       "1           01  Agricultura, pecuária e serviços relacionados\n",
       "68          02                             Produção florestal"
      ]
     },
     "execution_count": 20,
     "metadata": {},
     "output_type": "execute_result"
    }
   ],
   "source": [
    "mapeamento_isic = pd.read_excel('./dados/mapeamento/mapeamento_isic_cnae.xlsx', dtype=str).drop(columns=['Unnamed: 3','Observações'])\n",
    "mapeamento_isic['código ISIC'] = mapeamento_isic['código ISIC'].str.replace('.','', regex=False)\n",
    "mapeamento_isic['código CNAE'] = mapeamento_isic['código CNAE'].str.replace('.','', regex=False)\n",
    "\n",
    "mapeamento_isic = mapeamento_isic[mapeamento_isic['código ISIC'].str.len() == 2]\n",
    "mapeamento_isic = mapeamento_isic[['código CNAE','denominação CNAE']]\n",
    "mapeamento_isic['denominação CNAE'] = mapeamento_isic['denominação CNAE'].str.capitalize()\n",
    "\n",
    "mapeamento_isic.head(2)"
   ]
  },
  {
   "cell_type": "code",
   "execution_count": 21,
   "id": "8195910a",
   "metadata": {},
   "outputs": [],
   "source": [
    "mapeamento_isic = mapeamento_isic.drop_duplicates()"
   ]
  },
  {
   "cell_type": "code",
   "execution_count": 22,
   "id": "8603806f",
   "metadata": {},
   "outputs": [
    {
     "data": {
      "text/html": [
       "<div>\n",
       "<style scoped>\n",
       "    .dataframe tbody tr th:only-of-type {\n",
       "        vertical-align: middle;\n",
       "    }\n",
       "\n",
       "    .dataframe tbody tr th {\n",
       "        vertical-align: top;\n",
       "    }\n",
       "\n",
       "    .dataframe thead th {\n",
       "        text-align: right;\n",
       "    }\n",
       "</style>\n",
       "<table border=\"1\" class=\"dataframe\">\n",
       "  <thead>\n",
       "    <tr style=\"text-align: right;\">\n",
       "      <th></th>\n",
       "      <th>código ISIC</th>\n",
       "      <th>denominação ISIC</th>\n",
       "      <th>código CNAE</th>\n",
       "      <th>denominação CNAE</th>\n",
       "      <th>CNAE2d</th>\n",
       "      <th>ISIC2d</th>\n",
       "      <th>cnae</th>\n",
       "      <th>CO_ISIC_CLASSE3d</th>\n",
       "      <th>CO_SH6</th>\n",
       "    </tr>\n",
       "  </thead>\n",
       "  <tbody>\n",
       "    <tr>\n",
       "      <th>0</th>\n",
       "      <td>011</td>\n",
       "      <td>Cultivo de plantas no perenes</td>\n",
       "      <td>01.1</td>\n",
       "      <td>Produção de lavouras temporárias</td>\n",
       "      <td>01</td>\n",
       "      <td>01</td>\n",
       "      <td>011</td>\n",
       "      <td>011</td>\n",
       "      <td>520100</td>\n",
       "    </tr>\n",
       "    <tr>\n",
       "      <th>1</th>\n",
       "      <td>011</td>\n",
       "      <td>Cultivo de plantas no perenes</td>\n",
       "      <td>01.1</td>\n",
       "      <td>Produção de lavouras temporárias</td>\n",
       "      <td>01</td>\n",
       "      <td>01</td>\n",
       "      <td>011</td>\n",
       "      <td>011</td>\n",
       "      <td>070956</td>\n",
       "    </tr>\n",
       "  </tbody>\n",
       "</table>\n",
       "</div>"
      ],
      "text/plain": [
       "  código ISIC               denominação ISIC código CNAE  \\\n",
       "0         011  Cultivo de plantas no perenes        01.1   \n",
       "1         011  Cultivo de plantas no perenes        01.1   \n",
       "\n",
       "                   denominação CNAE CNAE2d ISIC2d cnae CO_ISIC_CLASSE3d  \\\n",
       "0  Produção de lavouras temporárias     01     01  011              011   \n",
       "1  Produção de lavouras temporárias     01     01  011              011   \n",
       "\n",
       "   CO_SH6  \n",
       "0  520100  \n",
       "1  070956  "
      ]
     },
     "execution_count": 22,
     "metadata": {},
     "output_type": "execute_result"
    }
   ],
   "source": [
    "mapeamento_isic_ncm.head(2)"
   ]
  },
  {
   "cell_type": "code",
   "execution_count": 23,
   "id": "ae223c5a",
   "metadata": {},
   "outputs": [
    {
     "data": {
      "text/html": [
       "<div>\n",
       "<style scoped>\n",
       "    .dataframe tbody tr th:only-of-type {\n",
       "        vertical-align: middle;\n",
       "    }\n",
       "\n",
       "    .dataframe tbody tr th {\n",
       "        vertical-align: top;\n",
       "    }\n",
       "\n",
       "    .dataframe thead th {\n",
       "        text-align: right;\n",
       "    }\n",
       "</style>\n",
       "<table border=\"1\" class=\"dataframe\">\n",
       "  <thead>\n",
       "    <tr style=\"text-align: right;\">\n",
       "      <th></th>\n",
       "      <th>cnae</th>\n",
       "      <th>denominação CNAE</th>\n",
       "      <th>CO_SH6</th>\n",
       "    </tr>\n",
       "  </thead>\n",
       "  <tbody>\n",
       "    <tr>\n",
       "      <th>0</th>\n",
       "      <td>011</td>\n",
       "      <td>Produção de lavouras temporárias</td>\n",
       "      <td>520100</td>\n",
       "    </tr>\n",
       "    <tr>\n",
       "      <th>1</th>\n",
       "      <td>011</td>\n",
       "      <td>Produção de lavouras temporárias</td>\n",
       "      <td>070956</td>\n",
       "    </tr>\n",
       "  </tbody>\n",
       "</table>\n",
       "</div>"
      ],
      "text/plain": [
       "  cnae                  denominação CNAE  CO_SH6\n",
       "0  011  Produção de lavouras temporárias  520100\n",
       "1  011  Produção de lavouras temporárias  070956"
      ]
     },
     "execution_count": 23,
     "metadata": {},
     "output_type": "execute_result"
    }
   ],
   "source": [
    "#Para cada código cnae que possuir comprimento 2 dígitos, substituir o campo 'denominação CNAE' pelo valor correspondente em mapeamento_isic, sem alterar o valor nos casos em que esse campo possua 3 dígitos\n",
    "#Criar máscara para códigos CNAE de 2 dígitos\n",
    "mask_2_digitos = mapeamento_isic_ncm['cnae'].str.len() == 2\n",
    "\n",
    "# Verificar se o mapeamento existe antes de aplicar\n",
    "if mask_2_digitos.any():\n",
    "    # Fazer o mapeamento\n",
    "    mapeamento_dict = mapeamento_isic.set_index('código CNAE')['denominação CNAE'].to_dict()\n",
    "    mapeamento_isic_ncm.loc[mask_2_digitos, 'denominação CNAE'] = mapeamento_isic_ncm.loc[mask_2_digitos, 'cnae'].map(mapeamento_dict)\n",
    "    \n",
    "    # Verificar se ainda há valores nulos após o mapeamento\n",
    "    nulos_restantes = mapeamento_isic_ncm.loc[mask_2_digitos, 'denominação CNAE'].isna().sum()\n",
    "    if nulos_restantes > 0:\n",
    "        print(f\"Atenção: {nulos_restantes} códigos CNAE de 2 dígitos não foram mapeados\")\n",
    "mapeamento_isic_ncm = mapeamento_isic_ncm[['cnae', 'denominação CNAE','CO_SH6']].drop_duplicates()\n",
    "mapeamento_isic_ncm.head(2)"
   ]
  },
  {
   "cell_type": "code",
   "execution_count": 24,
   "id": "60323342",
   "metadata": {},
   "outputs": [],
   "source": [
    "lista_empresas = pd.read_excel('./dados/comex/Lista de empresas.xlsx')"
   ]
  },
  {
   "cell_type": "code",
   "execution_count": 25,
   "id": "12993549",
   "metadata": {},
   "outputs": [
    {
     "data": {
      "text/plain": [
       "(6617, 1)"
      ]
     },
     "execution_count": 25,
     "metadata": {},
     "output_type": "execute_result"
    }
   ],
   "source": [
    "tarifas[['SH6']].drop_duplicates().shape"
   ]
  },
  {
   "cell_type": "code",
   "execution_count": 26,
   "id": "a9f682e0",
   "metadata": {},
   "outputs": [],
   "source": [
    "tarifas['SH6'] = tarifas['SH6'].astype(str).str.zfill(6)"
   ]
  },
  {
   "cell_type": "code",
   "execution_count": 27,
   "id": "cf5c9966",
   "metadata": {},
   "outputs": [],
   "source": [
    "lista_sh6 = tarifas.merge(mapeamento_isic_ncm,left_on='SH6',right_on='CO_SH6',how='outer',indicator=True).query('_merge ==\"left_only\"')['SH6'].to_list()"
   ]
  },
  {
   "cell_type": "code",
   "execution_count": 28,
   "id": "038c35e2",
   "metadata": {},
   "outputs": [
    {
     "data": {
      "text/plain": [
       "44    8999\n",
       "Name: CO_ISIC_CLASSE, dtype: object"
      ]
     },
     "execution_count": 28,
     "metadata": {},
     "output_type": "execute_result"
    }
   ],
   "source": [
    "ncm.query('CO_SH6.isin(@lista_sh6)')['CO_ISIC_CLASSE'].drop_duplicates()"
   ]
  },
  {
   "cell_type": "code",
   "execution_count": 29,
   "id": "807abefa",
   "metadata": {},
   "outputs": [
    {
     "data": {
      "text/html": [
       "<div>\n",
       "<style scoped>\n",
       "    .dataframe tbody tr th:only-of-type {\n",
       "        vertical-align: middle;\n",
       "    }\n",
       "\n",
       "    .dataframe tbody tr th {\n",
       "        vertical-align: top;\n",
       "    }\n",
       "\n",
       "    .dataframe thead th {\n",
       "        text-align: right;\n",
       "    }\n",
       "</style>\n",
       "<table border=\"1\" class=\"dataframe\">\n",
       "  <thead>\n",
       "    <tr style=\"text-align: right;\">\n",
       "      <th></th>\n",
       "      <th>CO_ISIC_CLASSE</th>\n",
       "      <th>NO_ISIC_CLASSE</th>\n",
       "      <th>NO_ISIC_CLASSE_ING</th>\n",
       "      <th>NO_ISIC_CLASSE_ESP</th>\n",
       "      <th>CO_ISIC_GRUPO</th>\n",
       "      <th>NO_ISIC_GRUPO</th>\n",
       "      <th>NO_ISIC_GRUPO_ING</th>\n",
       "      <th>NO_ISIC_GRUPO_ESP</th>\n",
       "      <th>CO_ISIC_DIVISAO</th>\n",
       "      <th>NO_ISIC_DIVISAO</th>\n",
       "      <th>NO_ISIC_DIVISAO_ING</th>\n",
       "      <th>NO_ISIC_DIVISAO_ESP</th>\n",
       "      <th>CO_ISIC_SECAO</th>\n",
       "      <th>NO_ISIC_SECAO</th>\n",
       "      <th>NO_ISIC_SECAO_ING</th>\n",
       "      <th>NO_ISIC_SECAO_ESP</th>\n",
       "    </tr>\n",
       "  </thead>\n",
       "  <tbody>\n",
       "    <tr>\n",
       "      <th>239</th>\n",
       "      <td>8999</td>\n",
       "      <td>Não classificado</td>\n",
       "      <td>Not Classified</td>\n",
       "      <td>Não classificado</td>\n",
       "      <td>899</td>\n",
       "      <td>Não classificado</td>\n",
       "      <td>Not Classified</td>\n",
       "      <td>Não classificado</td>\n",
       "      <td>89</td>\n",
       "      <td>Não classificado</td>\n",
       "      <td>Not Classified</td>\n",
       "      <td>Não classificado</td>\n",
       "      <td>D</td>\n",
       "      <td>Outros Produtos</td>\n",
       "      <td>Other products</td>\n",
       "      <td>Outros Produtos</td>\n",
       "    </tr>\n",
       "  </tbody>\n",
       "</table>\n",
       "</div>"
      ],
      "text/plain": [
       "    CO_ISIC_CLASSE    NO_ISIC_CLASSE NO_ISIC_CLASSE_ING NO_ISIC_CLASSE_ESP  \\\n",
       "239           8999  Não classificado     Not Classified   Não classificado   \n",
       "\n",
       "     CO_ISIC_GRUPO     NO_ISIC_GRUPO NO_ISIC_GRUPO_ING NO_ISIC_GRUPO_ESP  \\\n",
       "239            899  Não classificado    Not Classified  Não classificado   \n",
       "\n",
       "     CO_ISIC_DIVISAO   NO_ISIC_DIVISAO NO_ISIC_DIVISAO_ING  \\\n",
       "239               89  Não classificado      Not Classified   \n",
       "\n",
       "    NO_ISIC_DIVISAO_ESP CO_ISIC_SECAO    NO_ISIC_SECAO NO_ISIC_SECAO_ING  \\\n",
       "239    Não classificado             D  Outros Produtos    Other products   \n",
       "\n",
       "    NO_ISIC_SECAO_ESP  \n",
       "239   Outros Produtos  "
      ]
     },
     "execution_count": 29,
     "metadata": {},
     "output_type": "execute_result"
    }
   ],
   "source": [
    "ncm_isic.query('CO_ISIC_CLASSE ==\"8999\"')"
   ]
  },
  {
   "cell_type": "code",
   "execution_count": 94,
   "id": "a0f6cdc1",
   "metadata": {},
   "outputs": [
    {
     "data": {
      "text/html": [
       "<div>\n",
       "<style scoped>\n",
       "    .dataframe tbody tr th:only-of-type {\n",
       "        vertical-align: middle;\n",
       "    }\n",
       "\n",
       "    .dataframe tbody tr th {\n",
       "        vertical-align: top;\n",
       "    }\n",
       "\n",
       "    .dataframe thead th {\n",
       "        text-align: right;\n",
       "    }\n",
       "</style>\n",
       "<table border=\"1\" class=\"dataframe\">\n",
       "  <thead>\n",
       "    <tr style=\"text-align: right;\">\n",
       "      <th></th>\n",
       "      <th>SH6</th>\n",
       "      <th>Instrumento</th>\n",
       "      <th>Tarifa</th>\n",
       "      <th>Vigência</th>\n",
       "      <th>Tarifa Desc</th>\n",
       "      <th>Articles of Civil Aircraft only</th>\n",
       "      <th>cnae</th>\n",
       "      <th>denominação CNAE</th>\n",
       "      <th>CO_SH6</th>\n",
       "    </tr>\n",
       "  </thead>\n",
       "  <tbody>\n",
       "    <tr>\n",
       "      <th>8420</th>\n",
       "      <td>080121</td>\n",
       "      <td>Exclusão Ordem 30/07</td>\n",
       "      <td>0.1</td>\n",
       "      <td>Vigente</td>\n",
       "      <td>Adicional de até 10%</td>\n",
       "      <td></td>\n",
       "      <td>011</td>\n",
       "      <td>Produção de lavouras temporárias</td>\n",
       "      <td>080121</td>\n",
       "    </tr>\n",
       "  </tbody>\n",
       "</table>\n",
       "</div>"
      ],
      "text/plain": [
       "         SH6           Instrumento  Tarifa Vigência           Tarifa Desc  \\\n",
       "8420  080121  Exclusão Ordem 30/07     0.1  Vigente  Adicional de até 10%   \n",
       "\n",
       "     Articles of Civil Aircraft only cnae                  denominação CNAE  \\\n",
       "8420                                  011  Produção de lavouras temporárias   \n",
       "\n",
       "      CO_SH6  \n",
       "8420  080121  "
      ]
     },
     "execution_count": 94,
     "metadata": {},
     "output_type": "execute_result"
    }
   ],
   "source": [
    "tarifas.merge(mapeamento_isic_ncm,left_on='SH6',right_on='CO_SH6',how='inner').query('cnae == \"011\"').query('`Tarifa Desc`==\"Adicional de até 10%\"')\n",
    "\n"
   ]
  },
  {
   "cell_type": "code",
   "execution_count": 30,
   "id": "eb6c14ce",
   "metadata": {},
   "outputs": [],
   "source": [
    "tarifas_cnae = tarifas.merge(mapeamento_isic_ncm,left_on='SH6',right_on='CO_SH6',how='inner')[['cnae','denominação CNAE','Instrumento','Tarifa','Tarifa Desc','Articles of Civil Aircraft only']].drop_duplicates()"
   ]
  },
  {
   "cell_type": "code",
   "execution_count": 31,
   "id": "763f1cfc",
   "metadata": {},
   "outputs": [],
   "source": [
    "#Fazer o merge entre cnae de lista empresas e o maior número de dígitos possíveis de tarifas_cnae\n",
    "\n"
   ]
  },
  {
   "cell_type": "code",
   "execution_count": 32,
   "id": "1d43e88d",
   "metadata": {},
   "outputs": [
    {
     "data": {
      "text/html": [
       "<div>\n",
       "<style scoped>\n",
       "    .dataframe tbody tr th:only-of-type {\n",
       "        vertical-align: middle;\n",
       "    }\n",
       "\n",
       "    .dataframe tbody tr th {\n",
       "        vertical-align: top;\n",
       "    }\n",
       "\n",
       "    .dataframe thead th {\n",
       "        text-align: right;\n",
       "    }\n",
       "</style>\n",
       "<table border=\"1\" class=\"dataframe\">\n",
       "  <thead>\n",
       "    <tr style=\"text-align: right;\">\n",
       "      <th></th>\n",
       "      <th>cnae</th>\n",
       "      <th>denominação CNAE</th>\n",
       "      <th>Instrumento</th>\n",
       "      <th>Tarifa</th>\n",
       "      <th>Tarifa Desc</th>\n",
       "      <th>Articles of Civil Aircraft only</th>\n",
       "    </tr>\n",
       "  </thead>\n",
       "  <tbody>\n",
       "    <tr>\n",
       "      <th>0</th>\n",
       "      <td>581</td>\n",
       "      <td>Edição de livros, jornais, revistas e outras a...</td>\n",
       "      <td>Ordem 30/07</td>\n",
       "      <td>0.5</td>\n",
       "      <td>Tarifa de 10+40%</td>\n",
       "      <td></td>\n",
       "    </tr>\n",
       "    <tr>\n",
       "      <th>1</th>\n",
       "      <td>582</td>\n",
       "      <td>Edição integrada à impressão de livros, jornai...</td>\n",
       "      <td>Ordem 30/07</td>\n",
       "      <td>0.5</td>\n",
       "      <td>Tarifa de 10+40%</td>\n",
       "      <td></td>\n",
       "    </tr>\n",
       "  </tbody>\n",
       "</table>\n",
       "</div>"
      ],
      "text/plain": [
       "  cnae                                   denominação CNAE  Instrumento  \\\n",
       "0  581  Edição de livros, jornais, revistas e outras a...  Ordem 30/07   \n",
       "1  582  Edição integrada à impressão de livros, jornai...  Ordem 30/07   \n",
       "\n",
       "   Tarifa       Tarifa Desc Articles of Civil Aircraft only  \n",
       "0     0.5  Tarifa de 10+40%                                  \n",
       "1     0.5  Tarifa de 10+40%                                  "
      ]
     },
     "execution_count": 32,
     "metadata": {},
     "output_type": "execute_result"
    }
   ],
   "source": [
    "tarifas_cnae.head(2)"
   ]
  },
  {
   "cell_type": "code",
   "execution_count": null,
   "id": "970b6c10",
   "metadata": {},
   "outputs": [],
   "source": [
    "tarifas_cnae_maior_tarifa = tarifas_cnae.loc[tarifas_cnae.groupby(['cnae','denominação CNAE'])['tarifa'].idxmax()].reset_index(drop=True)\n"
   ]
  },
  {
   "cell_type": "code",
   "execution_count": 29,
   "id": "caed96fc",
   "metadata": {},
   "outputs": [
    {
     "data": {
      "text/html": [
       "<div>\n",
       "<style scoped>\n",
       "    .dataframe tbody tr th:only-of-type {\n",
       "        vertical-align: middle;\n",
       "    }\n",
       "\n",
       "    .dataframe tbody tr th {\n",
       "        vertical-align: top;\n",
       "    }\n",
       "\n",
       "    .dataframe thead th {\n",
       "        text-align: right;\n",
       "    }\n",
       "</style>\n",
       "<table border=\"1\" class=\"dataframe\">\n",
       "  <thead>\n",
       "    <tr style=\"text-align: right;\">\n",
       "      <th></th>\n",
       "      <th>co_oper</th>\n",
       "      <th>no_razao_soc</th>\n",
       "      <th>co_cnae</th>\n",
       "      <th>no_cnae</th>\n",
       "    </tr>\n",
       "  </thead>\n",
       "  <tbody>\n",
       "    <tr>\n",
       "      <th>0</th>\n",
       "      <td>43201151001001</td>\n",
       "      <td>CUMMINS BRASIL LIMITADA</td>\n",
       "      <td>4530</td>\n",
       "      <td>Comércio de peças e acessórios para veículos a...</td>\n",
       "    </tr>\n",
       "    <tr>\n",
       "      <th>1</th>\n",
       "      <td>3622151000170</td>\n",
       "      <td>NEVESCO IMPORTACAO EXPORTACAO LTDA</td>\n",
       "      <td>4651</td>\n",
       "      <td>Comércio atacadista de computadores, periféric...</td>\n",
       "    </tr>\n",
       "  </tbody>\n",
       "</table>\n",
       "</div>"
      ],
      "text/plain": [
       "          co_oper                        no_razao_soc  co_cnae  \\\n",
       "0  43201151001001             CUMMINS BRASIL LIMITADA     4530   \n",
       "1   3622151000170  NEVESCO IMPORTACAO EXPORTACAO LTDA     4651   \n",
       "\n",
       "                                             no_cnae  \n",
       "0  Comércio de peças e acessórios para veículos a...  \n",
       "1  Comércio atacadista de computadores, periféric...  "
      ]
     },
     "execution_count": 29,
     "metadata": {},
     "output_type": "execute_result"
    }
   ],
   "source": [
    "lista_empresas.head(2)"
   ]
  },
  {
   "cell_type": "code",
   "execution_count": 37,
   "id": "b1fdf2b6",
   "metadata": {},
   "outputs": [],
   "source": [
    "lista_empresas['co_cnae'] = lista_empresas['co_cnae'].astype(str).str.zfill(4)"
   ]
  },
  {
   "cell_type": "code",
   "execution_count": 39,
   "id": "9c29a943",
   "metadata": {},
   "outputs": [
    {
     "name": "stdout",
     "output_type": "stream",
     "text": [
      "              co_oper                                       no_razao_soc  \\\n",
      "0      61403218000181                             MERSEN DO BRASIL LTDA.   \n",
      "1      61403218000181                             MERSEN DO BRASIL LTDA.   \n",
      "2        805870000642                     HYVA DO BRASIL HIDRAULICA LTDA   \n",
      "3        805870000642                     HYVA DO BRASIL HIDRAULICA LTDA   \n",
      "4        805870000642                     HYVA DO BRASIL HIDRAULICA LTDA   \n",
      "...               ...                                                ...   \n",
      "11576    400634000131  GRAPHIC PACKAGING INTERNATIONAL DO BRASIL - EM...   \n",
      "11577    400634000131  GRAPHIC PACKAGING INTERNATIONAL DO BRASIL - EM...   \n",
      "11578    400634000131  GRAPHIC PACKAGING INTERNATIONAL DO BRASIL - EM...   \n",
      "11579  14162300000181  FIBRAS BIGUACU FABRICACAO E COMERCIO DE EMBARC...   \n",
      "11580     99817000169  RABBIT INDUSTRIA E COMERCIO DE PRODUTOS DE HIG...   \n",
      "\n",
      "      co_cnae                                            no_cnae cnae  \\\n",
      "0        2710  Fabricação de geradores, transformadores e mot...  271   \n",
      "1        2710  Fabricação de geradores, transformadores e mot...  271   \n",
      "2        2822  Fabricação de máquinas, equipamentos e aparelh...  282   \n",
      "3        2822  Fabricação de máquinas, equipamentos e aparelh...  282   \n",
      "4        2822  Fabricação de máquinas, equipamentos e aparelh...  282   \n",
      "...       ...                                                ...  ...   \n",
      "11576    1732  Fabricação de embalagens de cartolina e papelc...  173   \n",
      "11577    1732  Fabricação de embalagens de cartolina e papelc...  173   \n",
      "11578    1732  Fabricação de embalagens de cartolina e papelc...  173   \n",
      "11579    3012     Construção de embarcações para esporte e lazer  301   \n",
      "11580    3291         Fabricação de escovas, pincéis e vassouras  329   \n",
      "\n",
      "                                        denominação CNAE  \\\n",
      "0      Fabricação de geradores, transformadores e mot...   \n",
      "1      Fabricação de geradores, transformadores e mot...   \n",
      "2      Fabricação de máquinas e equipamentos de uso g...   \n",
      "3      Fabricação de máquinas e equipamentos de uso g...   \n",
      "4      Fabricação de máquinas e equipamentos de uso g...   \n",
      "...                                                  ...   \n",
      "11576  Fabricação de embalagens de papel, cartolina, ...   \n",
      "11577  Fabricação de embalagens de papel, cartolina, ...   \n",
      "11578  Fabricação de embalagens de papel, cartolina, ...   \n",
      "11579                          Construção de embarcações   \n",
      "11580                    Fabricação de produtos diversos   \n",
      "\n",
      "                Instrumento  Tarifa           Tarifa Desc  \\\n",
      "0               Ordem 30/07     0.5      Tarifa de 10+40%   \n",
      "1               Ordem 30/07     0.5      Tarifa de 10+40%   \n",
      "2                 Seção 232     0.5     25% (atual) a 50%   \n",
      "3               Ordem 30/07     0.5      Tarifa de 10+40%   \n",
      "4               Ordem 30/07     0.5      Tarifa de 10+40%   \n",
      "...                     ...     ...                   ...   \n",
      "11576           Ordem 30/07     0.5      Tarifa de 10+40%   \n",
      "11577           Ordem 30/07     0.5      Tarifa de 10+40%   \n",
      "11578  Exclusão Ordem 30/07     0.1  Adicional de até 10%   \n",
      "11579           Ordem 30/07     0.5      Tarifa de 10+40%   \n",
      "11580           Ordem 30/07     0.5      Tarifa de 10+40%   \n",
      "\n",
      "      Articles of Civil Aircraft only  \n",
      "0                                      \n",
      "1                                   *  \n",
      "2                                      \n",
      "3                                      \n",
      "4                                   *  \n",
      "...                               ...  \n",
      "11576                                  \n",
      "11577                               *  \n",
      "11578                                  \n",
      "11579                                  \n",
      "11580                                  \n",
      "\n",
      "[11581 rows x 10 columns]\n"
     ]
    }
   ],
   "source": [
    "df_merged = pd.DataFrame()\n",
    "tarifas_cnae['comprimento'] = tarifas_cnae['cnae'].str.len()\n",
    "\n",
    "tarifas_cnae = tarifas_cnae.sort_values(by='comprimento',ascending=False)\n",
    "# Guardar índices já encontrados\n",
    "matched_idx = set()\n",
    "\n",
    "for length in sorted(tarifas_cnae['comprimento'].unique(), reverse=True):\n",
    "    subset_df2 = tarifas_cnae[tarifas_cnae['comprimento'] == length].copy()\n",
    "    temp = lista_empresas[~lista_empresas.index.isin(matched_idx)].copy()  # só pega os que ainda não casaram\n",
    "    temp['prefix'] = temp['co_cnae'].str[:length]\n",
    "    \n",
    "    merged = temp.merge(subset_df2, left_on='prefix', right_on='cnae', how='inner')\n",
    "    df_merged = pd.concat([df_merged, merged], ignore_index=True)\n",
    "    \n",
    "    matched_idx.update(merged.index)  # marca como já encontrado\n",
    "\n",
    "# Resultado final\n",
    "df_merged = df_merged.drop(columns=['comprimento', 'prefix'])\n",
    "print(df_merged)"
   ]
  },
  {
   "cell_type": "code",
   "execution_count": 97,
   "id": "cbe0b800",
   "metadata": {},
   "outputs": [
    {
     "data": {
      "text/plain": [
       "(11581, 10)"
      ]
     },
     "execution_count": 97,
     "metadata": {},
     "output_type": "execute_result"
    }
   ],
   "source": [
    "df_merged.shape"
   ]
  },
  {
   "cell_type": "code",
   "execution_count": 79,
   "id": "c23ae88c",
   "metadata": {},
   "outputs": [],
   "source": [
    "setores_empresas = df_merged[['cnae','denominação CNAE','Instrumento','Tarifa','Tarifa Desc','co_oper','no_razao_soc']].drop_duplicates().copy()\n",
    "setores_aviacao_potencial = df_merged.query('`Articles of Civil Aircraft only` == \"*\"')[['cnae','Articles of Civil Aircraft only']].drop_duplicates().copy()"
   ]
  },
  {
   "cell_type": "code",
   "execution_count": 98,
   "id": "168b4828",
   "metadata": {},
   "outputs": [
    {
     "data": {
      "text/plain": [
       "(7875, 7)"
      ]
     },
     "execution_count": 98,
     "metadata": {},
     "output_type": "execute_result"
    }
   ],
   "source": [
    "setores_empresas.shape"
   ]
  },
  {
   "cell_type": "code",
   "execution_count": 80,
   "id": "39477fd9",
   "metadata": {},
   "outputs": [],
   "source": [
    "setores_aviacao_potencial = setores_aviacao_potencial.rename(columns={'cnae' : 'Código CNAE', 'Articles of Civil Aircraft only' : 'Redução de tarifa a 10%(base) caso de produtos relacionados à aviação civil'})"
   ]
  },
  {
   "cell_type": "code",
   "execution_count": 81,
   "id": "b5b95922",
   "metadata": {},
   "outputs": [],
   "source": [
    "setores_aviacao_potencial['Redução de tarifa a 10%(base) caso de produtos relacionados à aviação civil'] = 'Sim'"
   ]
  },
  {
   "cell_type": "code",
   "execution_count": 82,
   "id": "aec70b10",
   "metadata": {},
   "outputs": [],
   "source": [
    "setores_empresas = setores_empresas.rename(columns={'co_oper':'CNPJ','no_razao_soc':'Razão Social','cnae' : 'Código CNAE','denominação CNAE' : 'Descrição CNAE'})"
   ]
  },
  {
   "cell_type": "code",
   "execution_count": 90,
   "id": "aaac0382",
   "metadata": {},
   "outputs": [],
   "source": [
    "setores_empresas_aviacao = setores_empresas.merge(setores_aviacao_potencial, on='Código CNAE', how='left').fillna('Não')"
   ]
  },
  {
   "cell_type": "code",
   "execution_count": null,
   "id": "7166f285",
   "metadata": {},
   "outputs": [],
   "source": [
    "df_pivot = setores_empresas_aviacao.pivot_table(\n",
    "    index=['Código CNAE', 'Descrição CNAE', 'CNPJ', 'Razão Social',\n",
    "           'Redução de tarifa a 10%(base) caso de produtos relacionados à aviação civil'],\n",
    "    columns='Instrumento',\n",
    "    values='Tarifa Desc',\n",
    "    aggfunc='first'  # caso haja mais de uma ocorrência, pega a primeira\n",
    ").reset_index()\n",
    "\n",
    "# Remove o nome da coluna gerado pelo pivot\n",
    "df_pivot.columns.name = None\n",
    "\n",
    "df_pivot = df_pivot.fillna('Não')"
   ]
  },
  {
   "cell_type": "code",
   "execution_count": 101,
   "id": "01ad95a5",
   "metadata": {},
   "outputs": [],
   "source": [
    "df_pivot['CNPJ'] = df_pivot['CNPJ'].astype(str).str.zfill(14)"
   ]
  },
  {
   "cell_type": "code",
   "execution_count": 102,
   "id": "86ba9be0",
   "metadata": {},
   "outputs": [],
   "source": [
    "df_pivot.to_excel('./Outputs/final/setores_empresas/priorizacao_empresas_exportadoras_setores.xlsx', index=False)   "
   ]
  }
 ],
 "metadata": {
  "kernelspec": {
   "display_name": "Mip",
   "language": "python",
   "name": "python3"
  },
  "language_info": {
   "codemirror_mode": {
    "name": "ipython",
    "version": 3
   },
   "file_extension": ".py",
   "mimetype": "text/x-python",
   "name": "python",
   "nbconvert_exporter": "python",
   "pygments_lexer": "ipython3",
   "version": "3.13.2"
  }
 },
 "nbformat": 4,
 "nbformat_minor": 5
}
